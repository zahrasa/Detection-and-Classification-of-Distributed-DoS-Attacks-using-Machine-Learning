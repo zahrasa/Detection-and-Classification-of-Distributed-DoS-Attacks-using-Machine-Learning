{
  "cells": [
    {
      "cell_type": "markdown",
      "metadata": {
        "id": "view-in-github",
        "colab_type": "text"
      },
      "source": [
        "<a href=\"https://colab.research.google.com/github/zahrasa/Detection-and-Classification-of-Distributed-DoS-Attacks-using-Machine-Learning/blob/master/preprocessing_ddos.ipynb\" target=\"_parent\"><img src=\"https://colab.research.google.com/assets/colab-badge.svg\" alt=\"Open In Colab\"/></a>"
      ]
    },
    {
      "cell_type": "code",
      "execution_count": 1,
      "metadata": {
        "id": "y4Q_KEbtLKsp"
      },
      "outputs": [],
      "source": [
        "# Import libraries\n",
        "%%capture\n",
        "\n",
        "import os\n",
        "import glob\n",
        "import numpy as np\n",
        "import pandas as pd\n"
      ]
    },
    {
      "cell_type": "code",
      "source": [
        "import warnings\n",
        "warnings.filterwarnings(\"ignore\")"
      ],
      "metadata": {
        "id": "foq0TvE-0t11"
      },
      "execution_count": 2,
      "outputs": []
    },
    {
      "cell_type": "markdown",
      "metadata": {
        "id": "d_QTezJpWA_F"
      },
      "source": [
        "# Preprocessing\n"
      ]
    },
    {
      "cell_type": "markdown",
      "metadata": {
        "id": "O5WzTFYoVwy-"
      },
      "source": [
        "## Download ddos dataset zip"
      ]
    },
    {
      "cell_type": "code",
      "execution_count": 4,
      "metadata": {
        "colab": {
          "base_uri": "https://localhost:8080/"
        },
        "id": "KG-LrdJGLszT",
        "outputId": "817ef899-22f1-4075-e8ff-4f75e7bd4eff"
      },
      "outputs": [
        {
          "output_type": "stream",
          "name": "stdout",
          "text": [
            "Looking in indexes: https://pypi.org/simple, https://us-python.pkg.dev/colab-wheels/public/simple/\n",
            "Requirement already satisfied: gdown in /usr/local/lib/python3.7/dist-packages (4.4.0)\n",
            "Requirement already satisfied: six in /usr/local/lib/python3.7/dist-packages (from gdown) (1.15.0)\n",
            "Requirement already satisfied: tqdm in /usr/local/lib/python3.7/dist-packages (from gdown) (4.64.0)\n",
            "Requirement already satisfied: filelock in /usr/local/lib/python3.7/dist-packages (from gdown) (3.7.1)\n",
            "Requirement already satisfied: requests[socks] in /usr/local/lib/python3.7/dist-packages (from gdown) (2.23.0)\n",
            "Requirement already satisfied: beautifulsoup4 in /usr/local/lib/python3.7/dist-packages (from gdown) (4.6.3)\n",
            "Requirement already satisfied: urllib3!=1.25.0,!=1.25.1,<1.26,>=1.21.1 in /usr/local/lib/python3.7/dist-packages (from requests[socks]->gdown) (1.24.3)\n",
            "Requirement already satisfied: chardet<4,>=3.0.2 in /usr/local/lib/python3.7/dist-packages (from requests[socks]->gdown) (3.0.4)\n",
            "Requirement already satisfied: certifi>=2017.4.17 in /usr/local/lib/python3.7/dist-packages (from requests[socks]->gdown) (2022.5.18.1)\n",
            "Requirement already satisfied: idna<3,>=2.5 in /usr/local/lib/python3.7/dist-packages (from requests[socks]->gdown) (2.10)\n",
            "Requirement already satisfied: PySocks!=1.5.7,>=1.5.6 in /usr/local/lib/python3.7/dist-packages (from requests[socks]->gdown) (1.7.1)\n"
          ]
        }
      ],
      "source": [
        "!pip install --upgrade --no-cache-dir gdown"
      ]
    },
    {
      "cell_type": "code",
      "source": [
        "# Download the dataset\n",
        "! rm -rf * \n",
        "! gdown 1u_PKRu5rr69GBiR-zrgbfopmObINmLwm"
      ],
      "metadata": {
        "colab": {
          "base_uri": "https://localhost:8080/"
        },
        "id": "cWSOrfRjWyvl",
        "outputId": "0089a638-a72c-421b-e24a-262a6f60fc60"
      },
      "execution_count": 5,
      "outputs": [
        {
          "output_type": "stream",
          "name": "stdout",
          "text": [
            "Downloading...\n",
            "From: https://drive.google.com/uc?id=1u_PKRu5rr69GBiR-zrgbfopmObINmLwm\n",
            "To: /content/ddos_2019.zip\n",
            "100% 894M/894M [00:12<00:00, 72.4MB/s]\n"
          ]
        }
      ]
    },
    {
      "cell_type": "code",
      "execution_count": 6,
      "metadata": {
        "colab": {
          "base_uri": "https://localhost:8080/"
        },
        "id": "pZubgu7CL9mx",
        "outputId": "a8fa32b7-ea21-4a60-824d-4f5e5516c084"
      },
      "outputs": [
        {
          "output_type": "stream",
          "name": "stdout",
          "text": [
            "Archive:  ddos_2019.zip\n",
            "  inflating: MSSQL.csv               \n",
            "  inflating: NetBIOS.csv             \n",
            "  inflating: Portmap.csv             \n",
            "  inflating: Syn.csv                 \n",
            "  inflating: UDP.csv                 \n",
            "  inflating: UDPLag.csv              \n",
            "  inflating: LDAP.csv                \n"
          ]
        }
      ],
      "source": [
        "! unzip \"ddos_2019.zip\"\n",
        "! rm -r \"ddos_2019.zip\""
      ]
    },
    {
      "cell_type": "code",
      "execution_count": 7,
      "metadata": {
        "id": "_1BvFoHi39G4",
        "colab": {
          "base_uri": "https://localhost:8080/"
        },
        "outputId": "1fb984cd-5bd5-48bd-e04d-d15b3d5ea52b"
      },
      "outputs": [
        {
          "output_type": "stream",
          "name": "stdout",
          "text": [
            "csv names: ['MSSQL.csv', 'LDAP.csv', 'Syn.csv', 'Portmap.csv', 'NetBIOS.csv', 'UDP.csv', 'UDPLag.csv']\n",
            "number of csv files: 7\n"
          ]
        }
      ],
      "source": [
        "# list csv names in zip\n",
        "csvlist=os.listdir('/content/')\n",
        "for f in csvlist[:]: # filelist[:] makes a copy of filelist.\n",
        "    if not(f.endswith(\".csv\")):\n",
        "        csvlist.remove(f)\n",
        "\n",
        "print('csv names:', csvlist)\n",
        "print('number of csv files:', len(csvlist))"
      ]
    },
    {
      "cell_type": "markdown",
      "source": [
        "## Downsampling"
      ],
      "metadata": {
        "id": "WYrxt_X8S6eB"
      }
    },
    {
      "cell_type": "code",
      "source": [
        "for j in range(len(csvlist)):\n",
        "\n",
        "  # Split huge .csv\n",
        "  for i,chunk in enumerate(pd.read_csv(csvlist[j], chunksize=200000)):\n",
        "    chunk.to_csv('chunk{}.csv'.format(j), index=False)\n",
        "    df = pd.read_csv('chunk{}.csv'.format(j))\n",
        "\n",
        "    # min size all 7 csv is 191694\n",
        "    df = df.iloc[:191694,]\n",
        "    df.to_csv('chunk{}.csv'.format(j))\n",
        "\n",
        "    break\n",
        "\n",
        "  # Print info\n",
        "  print('{} is sampled'.format(csvlist[j]))\n"
      ],
      "metadata": {
        "colab": {
          "base_uri": "https://localhost:8080/"
        },
        "id": "hJVRo5TXSad8",
        "outputId": "dea298d8-be52-4ce6-ba1b-edfddc187593"
      },
      "execution_count": null,
      "outputs": [
        {
          "output_type": "stream",
          "name": "stdout",
          "text": [
            "UDP.csv is sampled\n",
            "Portmap.csv is sampled\n",
            "Syn.csv is sampled\n",
            "UDPLag.csv is sampled\n",
            "LDAP.csv is sampled\n",
            "MSSQL.csv is sampled\n",
            "NetBIOS.csv is sampled\n"
          ]
        }
      ]
    },
    {
      "cell_type": "code",
      "source": [
        "# Remove dataset .csv to make RAM free \n",
        "for j in range(len(csvlist)):\n",
        "  os.remove(os.path.join('/content/', csvlist[j]))"
      ],
      "metadata": {
        "id": "CZUereJSSbX2"
      },
      "execution_count": null,
      "outputs": []
    },
    {
      "cell_type": "code",
      "source": [
        "# Merge the sampled csv files\n",
        "\n",
        "# A list of all joined files is returned\n",
        "joined_files = os.path.join('/content/', 'chunk*.csv')\n",
        "joined_list = glob.glob(joined_files)\n",
        "\n",
        "# Merge the files\n",
        "df = pd.concat(map(pd.read_csv, joined_list), ignore_index=True)\n",
        "df.to_csv('ddos.csv')"
      ],
      "metadata": {
        "id": "3T_3KgtvSde-"
      },
      "execution_count": null,
      "outputs": []
    },
    {
      "cell_type": "code",
      "source": [
        "# Remove chunk*.csv to make RAM free \n",
        "for filename in glob.glob('/content/chunk*.csv'):\n",
        "    os.remove(filename) "
      ],
      "metadata": {
        "id": "RYLwy7wVSf1g"
      },
      "execution_count": null,
      "outputs": []
    },
    {
      "cell_type": "code",
      "source": [
        "df = pd.read_csv('ddos.csv')"
      ],
      "metadata": {
        "id": "DKYvY3EdSiHv"
      },
      "execution_count": null,
      "outputs": []
    },
    {
      "cell_type": "markdown",
      "metadata": {
        "id": "HAl-RKbQoacd"
      },
      "source": [
        "## Drop unnamed columns"
      ]
    },
    {
      "cell_type": "code",
      "source": [
        "df.head()"
      ],
      "metadata": {
        "colab": {
          "base_uri": "https://localhost:8080/",
          "height": 560
        },
        "id": "9Wz9EzUZSrJ8",
        "outputId": "dc5ceb2b-0566-4cbf-d3b6-d8a158c83686"
      },
      "execution_count": null,
      "outputs": [
        {
          "output_type": "execute_result",
          "data": {
            "text/plain": [
              "   Unnamed: 0  Unnamed: 0.1  Unnamed: 0.1.1  \\\n",
              "0           0             0           13605   \n",
              "1           1             1           62631   \n",
              "2           2             2          143869   \n",
              "3           3             3           16171   \n",
              "4           4             4           80845   \n",
              "\n",
              "                                Flow ID   Source IP   Source Port  \\\n",
              "0   172.16.0.5-192.168.50.4-870-2908-17  172.16.0.5           870   \n",
              "1  172.16.0.5-192.168.50.4-871-53796-17  172.16.0.5           871   \n",
              "2  172.16.0.5-192.168.50.4-648-40660-17  172.16.0.5           648   \n",
              "3  172.16.0.5-192.168.50.4-872-54308-17  172.16.0.5           872   \n",
              "4  172.16.0.5-192.168.50.4-873-40653-17  172.16.0.5           873   \n",
              "\n",
              "   Destination IP   Destination Port   Protocol                   Timestamp  \\\n",
              "0    192.168.50.4               2908         17  2018-11-03 10:09:00.565557   \n",
              "1    192.168.50.4              53796         17  2018-11-03 10:09:00.565559   \n",
              "2    192.168.50.4              40660         17  2018-11-03 10:09:00.565608   \n",
              "3    192.168.50.4              54308         17  2018-11-03 10:09:00.565993   \n",
              "4    192.168.50.4              40653         17  2018-11-03 10:09:00.565994   \n",
              "\n",
              "   ...   Active Std   Active Max   Active Min  Idle Mean   Idle Std  \\\n",
              "0  ...          0.0          0.0          0.0        0.0        0.0   \n",
              "1  ...          0.0          0.0          0.0        0.0        0.0   \n",
              "2  ...          0.0          0.0          0.0        0.0        0.0   \n",
              "3  ...          0.0          0.0          0.0        0.0        0.0   \n",
              "4  ...          0.0          0.0          0.0        0.0        0.0   \n",
              "\n",
              "    Idle Max   Idle Min  SimillarHTTP   Inbound    Label  \n",
              "0        0.0        0.0             0         1  NetBIOS  \n",
              "1        0.0        0.0             0         1  NetBIOS  \n",
              "2        0.0        0.0             0         1  NetBIOS  \n",
              "3        0.0        0.0             0         1  NetBIOS  \n",
              "4        0.0        0.0             0         1  NetBIOS  \n",
              "\n",
              "[5 rows x 90 columns]"
            ],
            "text/html": [
              "\n",
              "  <div id=\"df-6ab96935-b477-4d0f-a5a8-8a1ee34cb9d3\">\n",
              "    <div class=\"colab-df-container\">\n",
              "      <div>\n",
              "<style scoped>\n",
              "    .dataframe tbody tr th:only-of-type {\n",
              "        vertical-align: middle;\n",
              "    }\n",
              "\n",
              "    .dataframe tbody tr th {\n",
              "        vertical-align: top;\n",
              "    }\n",
              "\n",
              "    .dataframe thead th {\n",
              "        text-align: right;\n",
              "    }\n",
              "</style>\n",
              "<table border=\"1\" class=\"dataframe\">\n",
              "  <thead>\n",
              "    <tr style=\"text-align: right;\">\n",
              "      <th></th>\n",
              "      <th>Unnamed: 0</th>\n",
              "      <th>Unnamed: 0.1</th>\n",
              "      <th>Unnamed: 0.1.1</th>\n",
              "      <th>Flow ID</th>\n",
              "      <th>Source IP</th>\n",
              "      <th>Source Port</th>\n",
              "      <th>Destination IP</th>\n",
              "      <th>Destination Port</th>\n",
              "      <th>Protocol</th>\n",
              "      <th>Timestamp</th>\n",
              "      <th>...</th>\n",
              "      <th>Active Std</th>\n",
              "      <th>Active Max</th>\n",
              "      <th>Active Min</th>\n",
              "      <th>Idle Mean</th>\n",
              "      <th>Idle Std</th>\n",
              "      <th>Idle Max</th>\n",
              "      <th>Idle Min</th>\n",
              "      <th>SimillarHTTP</th>\n",
              "      <th>Inbound</th>\n",
              "      <th>Label</th>\n",
              "    </tr>\n",
              "  </thead>\n",
              "  <tbody>\n",
              "    <tr>\n",
              "      <th>0</th>\n",
              "      <td>0</td>\n",
              "      <td>0</td>\n",
              "      <td>13605</td>\n",
              "      <td>172.16.0.5-192.168.50.4-870-2908-17</td>\n",
              "      <td>172.16.0.5</td>\n",
              "      <td>870</td>\n",
              "      <td>192.168.50.4</td>\n",
              "      <td>2908</td>\n",
              "      <td>17</td>\n",
              "      <td>2018-11-03 10:09:00.565557</td>\n",
              "      <td>...</td>\n",
              "      <td>0.0</td>\n",
              "      <td>0.0</td>\n",
              "      <td>0.0</td>\n",
              "      <td>0.0</td>\n",
              "      <td>0.0</td>\n",
              "      <td>0.0</td>\n",
              "      <td>0.0</td>\n",
              "      <td>0</td>\n",
              "      <td>1</td>\n",
              "      <td>NetBIOS</td>\n",
              "    </tr>\n",
              "    <tr>\n",
              "      <th>1</th>\n",
              "      <td>1</td>\n",
              "      <td>1</td>\n",
              "      <td>62631</td>\n",
              "      <td>172.16.0.5-192.168.50.4-871-53796-17</td>\n",
              "      <td>172.16.0.5</td>\n",
              "      <td>871</td>\n",
              "      <td>192.168.50.4</td>\n",
              "      <td>53796</td>\n",
              "      <td>17</td>\n",
              "      <td>2018-11-03 10:09:00.565559</td>\n",
              "      <td>...</td>\n",
              "      <td>0.0</td>\n",
              "      <td>0.0</td>\n",
              "      <td>0.0</td>\n",
              "      <td>0.0</td>\n",
              "      <td>0.0</td>\n",
              "      <td>0.0</td>\n",
              "      <td>0.0</td>\n",
              "      <td>0</td>\n",
              "      <td>1</td>\n",
              "      <td>NetBIOS</td>\n",
              "    </tr>\n",
              "    <tr>\n",
              "      <th>2</th>\n",
              "      <td>2</td>\n",
              "      <td>2</td>\n",
              "      <td>143869</td>\n",
              "      <td>172.16.0.5-192.168.50.4-648-40660-17</td>\n",
              "      <td>172.16.0.5</td>\n",
              "      <td>648</td>\n",
              "      <td>192.168.50.4</td>\n",
              "      <td>40660</td>\n",
              "      <td>17</td>\n",
              "      <td>2018-11-03 10:09:00.565608</td>\n",
              "      <td>...</td>\n",
              "      <td>0.0</td>\n",
              "      <td>0.0</td>\n",
              "      <td>0.0</td>\n",
              "      <td>0.0</td>\n",
              "      <td>0.0</td>\n",
              "      <td>0.0</td>\n",
              "      <td>0.0</td>\n",
              "      <td>0</td>\n",
              "      <td>1</td>\n",
              "      <td>NetBIOS</td>\n",
              "    </tr>\n",
              "    <tr>\n",
              "      <th>3</th>\n",
              "      <td>3</td>\n",
              "      <td>3</td>\n",
              "      <td>16171</td>\n",
              "      <td>172.16.0.5-192.168.50.4-872-54308-17</td>\n",
              "      <td>172.16.0.5</td>\n",
              "      <td>872</td>\n",
              "      <td>192.168.50.4</td>\n",
              "      <td>54308</td>\n",
              "      <td>17</td>\n",
              "      <td>2018-11-03 10:09:00.565993</td>\n",
              "      <td>...</td>\n",
              "      <td>0.0</td>\n",
              "      <td>0.0</td>\n",
              "      <td>0.0</td>\n",
              "      <td>0.0</td>\n",
              "      <td>0.0</td>\n",
              "      <td>0.0</td>\n",
              "      <td>0.0</td>\n",
              "      <td>0</td>\n",
              "      <td>1</td>\n",
              "      <td>NetBIOS</td>\n",
              "    </tr>\n",
              "    <tr>\n",
              "      <th>4</th>\n",
              "      <td>4</td>\n",
              "      <td>4</td>\n",
              "      <td>80845</td>\n",
              "      <td>172.16.0.5-192.168.50.4-873-40653-17</td>\n",
              "      <td>172.16.0.5</td>\n",
              "      <td>873</td>\n",
              "      <td>192.168.50.4</td>\n",
              "      <td>40653</td>\n",
              "      <td>17</td>\n",
              "      <td>2018-11-03 10:09:00.565994</td>\n",
              "      <td>...</td>\n",
              "      <td>0.0</td>\n",
              "      <td>0.0</td>\n",
              "      <td>0.0</td>\n",
              "      <td>0.0</td>\n",
              "      <td>0.0</td>\n",
              "      <td>0.0</td>\n",
              "      <td>0.0</td>\n",
              "      <td>0</td>\n",
              "      <td>1</td>\n",
              "      <td>NetBIOS</td>\n",
              "    </tr>\n",
              "  </tbody>\n",
              "</table>\n",
              "<p>5 rows × 90 columns</p>\n",
              "</div>\n",
              "      <button class=\"colab-df-convert\" onclick=\"convertToInteractive('df-6ab96935-b477-4d0f-a5a8-8a1ee34cb9d3')\"\n",
              "              title=\"Convert this dataframe to an interactive table.\"\n",
              "              style=\"display:none;\">\n",
              "        \n",
              "  <svg xmlns=\"http://www.w3.org/2000/svg\" height=\"24px\"viewBox=\"0 0 24 24\"\n",
              "       width=\"24px\">\n",
              "    <path d=\"M0 0h24v24H0V0z\" fill=\"none\"/>\n",
              "    <path d=\"M18.56 5.44l.94 2.06.94-2.06 2.06-.94-2.06-.94-.94-2.06-.94 2.06-2.06.94zm-11 1L8.5 8.5l.94-2.06 2.06-.94-2.06-.94L8.5 2.5l-.94 2.06-2.06.94zm10 10l.94 2.06.94-2.06 2.06-.94-2.06-.94-.94-2.06-.94 2.06-2.06.94z\"/><path d=\"M17.41 7.96l-1.37-1.37c-.4-.4-.92-.59-1.43-.59-.52 0-1.04.2-1.43.59L10.3 9.45l-7.72 7.72c-.78.78-.78 2.05 0 2.83L4 21.41c.39.39.9.59 1.41.59.51 0 1.02-.2 1.41-.59l7.78-7.78 2.81-2.81c.8-.78.8-2.07 0-2.86zM5.41 20L4 18.59l7.72-7.72 1.47 1.35L5.41 20z\"/>\n",
              "  </svg>\n",
              "      </button>\n",
              "      \n",
              "  <style>\n",
              "    .colab-df-container {\n",
              "      display:flex;\n",
              "      flex-wrap:wrap;\n",
              "      gap: 12px;\n",
              "    }\n",
              "\n",
              "    .colab-df-convert {\n",
              "      background-color: #E8F0FE;\n",
              "      border: none;\n",
              "      border-radius: 50%;\n",
              "      cursor: pointer;\n",
              "      display: none;\n",
              "      fill: #1967D2;\n",
              "      height: 32px;\n",
              "      padding: 0 0 0 0;\n",
              "      width: 32px;\n",
              "    }\n",
              "\n",
              "    .colab-df-convert:hover {\n",
              "      background-color: #E2EBFA;\n",
              "      box-shadow: 0px 1px 2px rgba(60, 64, 67, 0.3), 0px 1px 3px 1px rgba(60, 64, 67, 0.15);\n",
              "      fill: #174EA6;\n",
              "    }\n",
              "\n",
              "    [theme=dark] .colab-df-convert {\n",
              "      background-color: #3B4455;\n",
              "      fill: #D2E3FC;\n",
              "    }\n",
              "\n",
              "    [theme=dark] .colab-df-convert:hover {\n",
              "      background-color: #434B5C;\n",
              "      box-shadow: 0px 1px 3px 1px rgba(0, 0, 0, 0.15);\n",
              "      filter: drop-shadow(0px 1px 2px rgba(0, 0, 0, 0.3));\n",
              "      fill: #FFFFFF;\n",
              "    }\n",
              "  </style>\n",
              "\n",
              "      <script>\n",
              "        const buttonEl =\n",
              "          document.querySelector('#df-6ab96935-b477-4d0f-a5a8-8a1ee34cb9d3 button.colab-df-convert');\n",
              "        buttonEl.style.display =\n",
              "          google.colab.kernel.accessAllowed ? 'block' : 'none';\n",
              "\n",
              "        async function convertToInteractive(key) {\n",
              "          const element = document.querySelector('#df-6ab96935-b477-4d0f-a5a8-8a1ee34cb9d3');\n",
              "          const dataTable =\n",
              "            await google.colab.kernel.invokeFunction('convertToInteractive',\n",
              "                                                     [key], {});\n",
              "          if (!dataTable) return;\n",
              "\n",
              "          const docLinkHtml = 'Like what you see? Visit the ' +\n",
              "            '<a target=\"_blank\" href=https://colab.research.google.com/notebooks/data_table.ipynb>data table notebook</a>'\n",
              "            + ' to learn more about interactive tables.';\n",
              "          element.innerHTML = '';\n",
              "          dataTable['output_type'] = 'display_data';\n",
              "          await google.colab.output.renderOutput(dataTable, element);\n",
              "          const docLink = document.createElement('div');\n",
              "          docLink.innerHTML = docLinkHtml;\n",
              "          element.appendChild(docLink);\n",
              "        }\n",
              "      </script>\n",
              "    </div>\n",
              "  </div>\n",
              "  "
            ]
          },
          "metadata": {},
          "execution_count": 11
        }
      ]
    },
    {
      "cell_type": "code",
      "execution_count": null,
      "metadata": {
        "id": "juAWb8CpfFLL"
      },
      "outputs": [],
      "source": [
        "# Drop out unnamed columns\n",
        "df = df.drop(['Unnamed: 0'], axis=1)\n",
        "df = df.drop(['Unnamed: 0.1'], axis=1)\n",
        "df = df.drop(['Unnamed: 0.1.1'], axis=1)"
      ]
    },
    {
      "cell_type": "code",
      "execution_count": null,
      "metadata": {
        "id": "CE-vN6ehohZo",
        "colab": {
          "base_uri": "https://localhost:8080/"
        },
        "outputId": "c04eb0c1-0647-47e4-9fa4-fd14767a2fd8"
      },
      "outputs": [
        {
          "output_type": "stream",
          "name": "stdout",
          "text": [
            "ddos csv shape:  (1341858, 87)\n"
          ]
        }
      ],
      "source": [
        "print(\"ddos csv shape: \",df.shape)"
      ]
    },
    {
      "cell_type": "markdown",
      "metadata": {
        "id": "nd8uC96HIPKH"
      },
      "source": [
        "## Drop null and inf"
      ]
    },
    {
      "cell_type": "code",
      "execution_count": null,
      "metadata": {
        "id": "u083yFv_3Am9"
      },
      "outputs": [],
      "source": [
        "# Replace infinite data with nan\n",
        "df.replace([np.inf, -np.inf], np.nan, inplace=True)"
      ]
    },
    {
      "cell_type": "code",
      "execution_count": null,
      "metadata": {
        "id": "0Ub_Y2i80rAa",
        "colab": {
          "base_uri": "https://localhost:8080/"
        },
        "outputId": "c8457ddb-f3e6-4ea7-c5f0-a230ffe145de"
      },
      "outputs": [
        {
          "output_type": "stream",
          "name": "stdout",
          "text": [
            "Number of missing values: 113156 \n",
            "\n",
            "\n"
          ]
        },
        {
          "output_type": "execute_result",
          "data": {
            "text/plain": [
              "Flow ID                             0\n",
              " Source IP                          0\n",
              " Source Port                        0\n",
              " Destination IP                     0\n",
              " Destination Port                   0\n",
              " Protocol                           0\n",
              " Timestamp                          0\n",
              " Flow Duration                      0\n",
              " Total Fwd Packets                  0\n",
              " Total Backward Packets             0\n",
              "Total Length of Fwd Packets         0\n",
              " Total Length of Bwd Packets        0\n",
              " Fwd Packet Length Max              0\n",
              " Fwd Packet Length Min              0\n",
              " Fwd Packet Length Mean             0\n",
              " Fwd Packet Length Std              0\n",
              "Bwd Packet Length Max               0\n",
              " Bwd Packet Length Min              0\n",
              " Bwd Packet Length Mean             0\n",
              " Bwd Packet Length Std              0\n",
              "Flow Bytes/s                    56578\n",
              " Flow Packets/s                 56578\n",
              " Flow IAT Mean                      0\n",
              " Flow IAT Std                       0\n",
              " Flow IAT Max                       0\n",
              " Flow IAT Min                       0\n",
              "Fwd IAT Total                       0\n",
              " Fwd IAT Mean                       0\n",
              " Fwd IAT Std                        0\n",
              " Fwd IAT Max                        0\n",
              "                                ...  \n",
              " Down/Up Ratio                      0\n",
              " Average Packet Size                0\n",
              " Avg Fwd Segment Size               0\n",
              " Avg Bwd Segment Size               0\n",
              " Fwd Header Length.1                0\n",
              "Fwd Avg Bytes/Bulk                  0\n",
              " Fwd Avg Packets/Bulk               0\n",
              " Fwd Avg Bulk Rate                  0\n",
              " Bwd Avg Bytes/Bulk                 0\n",
              " Bwd Avg Packets/Bulk               0\n",
              "Bwd Avg Bulk Rate                   0\n",
              "Subflow Fwd Packets                 0\n",
              " Subflow Fwd Bytes                  0\n",
              " Subflow Bwd Packets                0\n",
              " Subflow Bwd Bytes                  0\n",
              "Init_Win_bytes_forward              0\n",
              " Init_Win_bytes_backward            0\n",
              " act_data_pkt_fwd                   0\n",
              " min_seg_size_forward               0\n",
              "Active Mean                         0\n",
              " Active Std                         0\n",
              " Active Max                         0\n",
              " Active Min                         0\n",
              "Idle Mean                           0\n",
              " Idle Std                           0\n",
              " Idle Max                           0\n",
              " Idle Min                           0\n",
              "SimillarHTTP                        0\n",
              " Inbound                            0\n",
              " Label                              0\n",
              "Length: 87, dtype: int64"
            ]
          },
          "metadata": {},
          "execution_count": 15
        }
      ],
      "source": [
        "# Count rows with missing value\n",
        "pd.options.display.min_rows = 500\n",
        "print('Number of missing values:', df.isnull().sum().sum(), '\\n\\n')\n",
        "df.isnull().sum()"
      ]
    },
    {
      "cell_type": "code",
      "source": [
        "# replacing missing values in column\n",
        "# with median of that column\n",
        "df['Flow Bytes/s'] = df['Flow Bytes/s'].fillna(df['Flow Bytes/s'].median())"
      ],
      "metadata": {
        "id": "xSZ3Yb20Yu7b"
      },
      "execution_count": null,
      "outputs": []
    },
    {
      "cell_type": "code",
      "source": [
        "# replacing missing values in column\n",
        "# with median of that column\n",
        "df[' Flow Packets/s'] = df[' Flow Packets/s'].fillna(df[' Flow Packets/s'].median())"
      ],
      "metadata": {
        "id": "RA7hjMMGY76C"
      },
      "execution_count": null,
      "outputs": []
    },
    {
      "cell_type": "code",
      "source": [
        "# Count rows with missing value\n",
        "pd.options.display.min_rows = 500\n",
        "print('Number of missing values:', df.isnull().sum().sum(), '\\n\\n')\n",
        "df.isnull().sum()"
      ],
      "metadata": {
        "colab": {
          "base_uri": "https://localhost:8080/"
        },
        "id": "kLxdiHMrZHWv",
        "outputId": "057df1ab-3715-4b06-d419-2cdd45342a87"
      },
      "execution_count": null,
      "outputs": [
        {
          "output_type": "stream",
          "name": "stdout",
          "text": [
            "Number of missing values: 0 \n",
            "\n",
            "\n"
          ]
        },
        {
          "output_type": "execute_result",
          "data": {
            "text/plain": [
              "Flow ID                         0\n",
              " Source IP                      0\n",
              " Source Port                    0\n",
              " Destination IP                 0\n",
              " Destination Port               0\n",
              " Protocol                       0\n",
              " Timestamp                      0\n",
              " Flow Duration                  0\n",
              " Total Fwd Packets              0\n",
              " Total Backward Packets         0\n",
              "Total Length of Fwd Packets     0\n",
              " Total Length of Bwd Packets    0\n",
              " Fwd Packet Length Max          0\n",
              " Fwd Packet Length Min          0\n",
              " Fwd Packet Length Mean         0\n",
              " Fwd Packet Length Std          0\n",
              "Bwd Packet Length Max           0\n",
              " Bwd Packet Length Min          0\n",
              " Bwd Packet Length Mean         0\n",
              " Bwd Packet Length Std          0\n",
              "Flow Bytes/s                    0\n",
              " Flow Packets/s                 0\n",
              " Flow IAT Mean                  0\n",
              " Flow IAT Std                   0\n",
              " Flow IAT Max                   0\n",
              " Flow IAT Min                   0\n",
              "Fwd IAT Total                   0\n",
              " Fwd IAT Mean                   0\n",
              " Fwd IAT Std                    0\n",
              " Fwd IAT Max                    0\n",
              "                               ..\n",
              " Down/Up Ratio                  0\n",
              " Average Packet Size            0\n",
              " Avg Fwd Segment Size           0\n",
              " Avg Bwd Segment Size           0\n",
              " Fwd Header Length.1            0\n",
              "Fwd Avg Bytes/Bulk              0\n",
              " Fwd Avg Packets/Bulk           0\n",
              " Fwd Avg Bulk Rate              0\n",
              " Bwd Avg Bytes/Bulk             0\n",
              " Bwd Avg Packets/Bulk           0\n",
              "Bwd Avg Bulk Rate               0\n",
              "Subflow Fwd Packets             0\n",
              " Subflow Fwd Bytes              0\n",
              " Subflow Bwd Packets            0\n",
              " Subflow Bwd Bytes              0\n",
              "Init_Win_bytes_forward          0\n",
              " Init_Win_bytes_backward        0\n",
              " act_data_pkt_fwd               0\n",
              " min_seg_size_forward           0\n",
              "Active Mean                     0\n",
              " Active Std                     0\n",
              " Active Max                     0\n",
              " Active Min                     0\n",
              "Idle Mean                       0\n",
              " Idle Std                       0\n",
              " Idle Max                       0\n",
              " Idle Min                       0\n",
              "SimillarHTTP                    0\n",
              " Inbound                        0\n",
              " Label                          0\n",
              "Length: 87, dtype: int64"
            ]
          },
          "metadata": {},
          "execution_count": 18
        }
      ]
    },
    {
      "cell_type": "code",
      "execution_count": null,
      "metadata": {
        "id": "Q0pp5LVp1hol",
        "colab": {
          "base_uri": "https://localhost:8080/"
        },
        "outputId": "08757cc4-fd2b-4edd-dcf2-fd03967166ef"
      },
      "outputs": [
        {
          "output_type": "stream",
          "name": "stdout",
          "text": [
            "ddos csv shape =  (1341858, 87)\n"
          ]
        }
      ],
      "source": [
        "# # Remove missing values:\n",
        "# df = df.dropna()\n",
        "# df.reset_index(drop=True, inplace=True)\n",
        "print(\"ddos csv shape = \",df.shape)"
      ]
    },
    {
      "cell_type": "markdown",
      "metadata": {
        "id": "X_oz5jbQPso_"
      },
      "source": [
        "## Drop zero columns"
      ]
    },
    {
      "cell_type": "code",
      "execution_count": null,
      "metadata": {
        "id": "AJTKmfmIihVL",
        "colab": {
          "base_uri": "https://localhost:8080/"
        },
        "outputId": "65b6e5e6-b7ee-4c86-8a5d-5cd414d2d5eb"
      },
      "outputs": [
        {
          "output_type": "stream",
          "name": "stdout",
          "text": [
            " Bwd PSH Flags\n",
            " Fwd URG Flags\n",
            " Bwd URG Flags\n",
            "FIN Flag Count\n",
            " PSH Flag Count\n",
            " ECE Flag Count\n",
            "Fwd Avg Bytes/Bulk\n",
            " Fwd Avg Packets/Bulk\n",
            " Fwd Avg Bulk Rate\n",
            " Bwd Avg Bytes/Bulk\n",
            " Bwd Avg Packets/Bulk\n",
            "Bwd Avg Bulk Rate\n",
            "\n",
            "number of zero columns =  12\n"
          ]
        }
      ],
      "source": [
        "# Count zero columns\n",
        "zero_cols=[]\n",
        "for i in range(len(df.columns)):\n",
        "  if (df[df.columns[i]] == 0).all():\n",
        "    print(df.columns[i])\n",
        "    zero_cols.append(df.columns[i])\n",
        "\n",
        "print('\\nnumber of zero columns = ', len(zero_cols))"
      ]
    },
    {
      "cell_type": "code",
      "execution_count": null,
      "metadata": {
        "id": "5sDyLL-fk8Ye"
      },
      "outputs": [],
      "source": [
        "# Remove zero columns [variation(std) == 0]\n",
        "for i in range(len(zero_cols)):\n",
        "  df=df.drop(zero_cols[i],axis=1)"
      ]
    },
    {
      "cell_type": "code",
      "execution_count": null,
      "metadata": {
        "id": "uwpLJWa2pZ9C",
        "colab": {
          "base_uri": "https://localhost:8080/"
        },
        "outputId": "4ea7ab3f-5504-4dbd-b5c9-5b052bccc5d3"
      },
      "outputs": [
        {
          "output_type": "stream",
          "name": "stdout",
          "text": [
            "ddos csv shape:  (1341858, 75)\n"
          ]
        }
      ],
      "source": [
        "print(\"ddos csv shape: \",df.shape)"
      ]
    },
    {
      "cell_type": "markdown",
      "metadata": {
        "id": "M9Kh5SiJX11Z"
      },
      "source": [
        "## Handeling object type in columns"
      ]
    },
    {
      "cell_type": "code",
      "execution_count": null,
      "metadata": {
        "id": "6mgeuXh3YCCJ",
        "colab": {
          "base_uri": "https://localhost:8080/"
        },
        "outputId": "c8c01160-6f88-4530-8caa-3d07ca089b49"
      },
      "outputs": [
        {
          "output_type": "stream",
          "name": "stdout",
          "text": [
            "<class 'pandas.core.frame.DataFrame'>\n",
            "RangeIndex: 1341858 entries, 0 to 1341857\n",
            "Data columns (total 75 columns):\n",
            " #   Column                        Non-Null Count    Dtype  \n",
            "---  ------                        --------------    -----  \n",
            " 0   Flow ID                       1341858 non-null  object \n",
            " 1    Source IP                    1341858 non-null  object \n",
            " 2    Source Port                  1341858 non-null  int64  \n",
            " 3    Destination IP               1341858 non-null  object \n",
            " 4    Destination Port             1341858 non-null  int64  \n",
            " 5    Protocol                     1341858 non-null  int64  \n",
            " 6    Timestamp                    1341858 non-null  object \n",
            " 7    Flow Duration                1341858 non-null  int64  \n",
            " 8    Total Fwd Packets            1341858 non-null  int64  \n",
            " 9    Total Backward Packets       1341858 non-null  int64  \n",
            " 10  Total Length of Fwd Packets   1341858 non-null  float64\n",
            " 11   Total Length of Bwd Packets  1341858 non-null  float64\n",
            " 12   Fwd Packet Length Max        1341858 non-null  float64\n",
            " 13   Fwd Packet Length Min        1341858 non-null  float64\n",
            " 14   Fwd Packet Length Mean       1341858 non-null  float64\n",
            " 15   Fwd Packet Length Std        1341858 non-null  float64\n",
            " 16  Bwd Packet Length Max         1341858 non-null  float64\n",
            " 17   Bwd Packet Length Min        1341858 non-null  float64\n",
            " 18   Bwd Packet Length Mean       1341858 non-null  float64\n",
            " 19   Bwd Packet Length Std        1341858 non-null  float64\n",
            " 20  Flow Bytes/s                  1341858 non-null  float64\n",
            " 21   Flow Packets/s               1341858 non-null  float64\n",
            " 22   Flow IAT Mean                1341858 non-null  float64\n",
            " 23   Flow IAT Std                 1341858 non-null  float64\n",
            " 24   Flow IAT Max                 1341858 non-null  float64\n",
            " 25   Flow IAT Min                 1341858 non-null  float64\n",
            " 26  Fwd IAT Total                 1341858 non-null  float64\n",
            " 27   Fwd IAT Mean                 1341858 non-null  float64\n",
            " 28   Fwd IAT Std                  1341858 non-null  float64\n",
            " 29   Fwd IAT Max                  1341858 non-null  float64\n",
            " 30   Fwd IAT Min                  1341858 non-null  float64\n",
            " 31  Bwd IAT Total                 1341858 non-null  float64\n",
            " 32   Bwd IAT Mean                 1341858 non-null  float64\n",
            " 33   Bwd IAT Std                  1341858 non-null  float64\n",
            " 34   Bwd IAT Max                  1341858 non-null  float64\n",
            " 35   Bwd IAT Min                  1341858 non-null  float64\n",
            " 36  Fwd PSH Flags                 1341858 non-null  int64  \n",
            " 37   Fwd Header Length            1341858 non-null  int64  \n",
            " 38   Bwd Header Length            1341858 non-null  int64  \n",
            " 39  Fwd Packets/s                 1341858 non-null  float64\n",
            " 40   Bwd Packets/s                1341858 non-null  float64\n",
            " 41   Min Packet Length            1341858 non-null  float64\n",
            " 42   Max Packet Length            1341858 non-null  float64\n",
            " 43   Packet Length Mean           1341858 non-null  float64\n",
            " 44   Packet Length Std            1341858 non-null  float64\n",
            " 45   Packet Length Variance       1341858 non-null  float64\n",
            " 46   SYN Flag Count               1341858 non-null  int64  \n",
            " 47   RST Flag Count               1341858 non-null  int64  \n",
            " 48   ACK Flag Count               1341858 non-null  int64  \n",
            " 49   URG Flag Count               1341858 non-null  int64  \n",
            " 50   CWE Flag Count               1341858 non-null  int64  \n",
            " 51   Down/Up Ratio                1341858 non-null  float64\n",
            " 52   Average Packet Size          1341858 non-null  float64\n",
            " 53   Avg Fwd Segment Size         1341858 non-null  float64\n",
            " 54   Avg Bwd Segment Size         1341858 non-null  float64\n",
            " 55   Fwd Header Length.1          1341858 non-null  int64  \n",
            " 56  Subflow Fwd Packets           1341858 non-null  int64  \n",
            " 57   Subflow Fwd Bytes            1341858 non-null  int64  \n",
            " 58   Subflow Bwd Packets          1341858 non-null  int64  \n",
            " 59   Subflow Bwd Bytes            1341858 non-null  int64  \n",
            " 60  Init_Win_bytes_forward        1341858 non-null  int64  \n",
            " 61   Init_Win_bytes_backward      1341858 non-null  int64  \n",
            " 62   act_data_pkt_fwd             1341858 non-null  int64  \n",
            " 63   min_seg_size_forward         1341858 non-null  int64  \n",
            " 64  Active Mean                   1341858 non-null  float64\n",
            " 65   Active Std                   1341858 non-null  float64\n",
            " 66   Active Max                   1341858 non-null  float64\n",
            " 67   Active Min                   1341858 non-null  float64\n",
            " 68  Idle Mean                     1341858 non-null  float64\n",
            " 69   Idle Std                     1341858 non-null  float64\n",
            " 70   Idle Max                     1341858 non-null  float64\n",
            " 71   Idle Min                     1341858 non-null  float64\n",
            " 72  SimillarHTTP                  1341858 non-null  object \n",
            " 73   Inbound                      1341858 non-null  int64  \n",
            " 74   Label                        1341858 non-null  object \n",
            "dtypes: float64(45), int64(24), object(6)\n",
            "memory usage: 767.8+ MB\n"
          ]
        }
      ],
      "source": [
        "df.info()"
      ]
    },
    {
      "cell_type": "markdown",
      "metadata": {
        "id": "nGB0O0Fx8bcf"
      },
      "source": [
        "### Handeling labels"
      ]
    },
    {
      "cell_type": "code",
      "execution_count": null,
      "metadata": {
        "id": "TEp11Ijs6MOD"
      },
      "outputs": [],
      "source": [
        "df = df.rename(columns={\" Label\": \"Label\"})"
      ]
    },
    {
      "cell_type": "code",
      "execution_count": null,
      "metadata": {
        "id": "EYlFsuRD6rNZ",
        "colab": {
          "base_uri": "https://localhost:8080/"
        },
        "outputId": "e240678a-3120-461a-ac54-e15634df2f5d"
      },
      "outputs": [
        {
          "output_type": "execute_result",
          "data": {
            "text/plain": [
              "NetBIOS    28.556151\n",
              "UDP        20.721939\n",
              "Syn        19.757679\n",
              "MSSQL      15.332770\n",
              "Portmap    13.932920\n",
              "BENIGN      0.818865\n",
              "LDAP        0.740093\n",
              "UDPLag      0.139583\n",
              "Name: Label, dtype: float64"
            ]
          },
          "metadata": {},
          "execution_count": 25
        }
      ],
      "source": [
        "(df['Label'].value_counts()) / len(df) * 100"
      ]
    },
    {
      "cell_type": "code",
      "execution_count": null,
      "metadata": {
        "id": "CMPzefoUiP_E",
        "colab": {
          "base_uri": "https://localhost:8080/"
        },
        "outputId": "26a187b1-aa79-4b49-b43d-34eb42d6f644"
      },
      "outputs": [
        {
          "output_type": "execute_result",
          "data": {
            "text/plain": [
              "NetBIOS    383183\n",
              "UDP        278059\n",
              "Syn        265120\n",
              "MSSQL      205744\n",
              "Portmap    186960\n",
              "BENIGN      10988\n",
              "LDAP         9931\n",
              "UDPLag       1873\n",
              "Name: Label, dtype: int64"
            ]
          },
          "metadata": {},
          "execution_count": 26
        }
      ],
      "source": [
        "df['Label'].value_counts()"
      ]
    },
    {
      "cell_type": "code",
      "execution_count": null,
      "metadata": {
        "id": "y3XlFDVFghmB",
        "colab": {
          "base_uri": "https://localhost:8080/"
        },
        "outputId": "0b2c7b2c-8947-41f4-b855-e0518b69fa51"
      },
      "outputs": [
        {
          "output_type": "execute_result",
          "data": {
            "text/plain": [
              "array([1, 0, 2, 3, 6, 7, 5, 4])"
            ]
          },
          "metadata": {},
          "execution_count": 27
        }
      ],
      "source": [
        "# df.columns\n",
        "df.Label.unique()\n",
        "df['Label'] = df['Label'].replace('BENIGN', '0')\n",
        "df['Label'] = df['Label'].replace('NetBIOS', '1')\n",
        "df['Label'] = df['Label'].replace('LDAP', '2')\n",
        "df['Label'] = df['Label'].replace('MSSQL', '3')\n",
        "df['Label'] = df['Label'].replace('Portmap', '4')\n",
        "df['Label'] = df['Label'].replace('Syn', '5')\n",
        "df['Label'] = df['Label'].replace('UDP', '6')\n",
        "df['Label'] = df['Label'].replace('UDPLag', '7')\n",
        "df['Label'] = df['Label'].astype('int')\n",
        "df.Label.unique()"
      ]
    },
    {
      "cell_type": "code",
      "execution_count": null,
      "metadata": {
        "id": "FIw4amZvi22U",
        "colab": {
          "base_uri": "https://localhost:8080/"
        },
        "outputId": "73af0cb9-03fb-4f5b-bc84-2ea9cc6c9fa0"
      },
      "outputs": [
        {
          "output_type": "execute_result",
          "data": {
            "text/plain": [
              "1    383183\n",
              "6    278059\n",
              "5    265120\n",
              "3    205744\n",
              "4    186960\n",
              "0     10988\n",
              "2      9931\n",
              "7      1873\n",
              "Name: Label, dtype: int64"
            ]
          },
          "metadata": {},
          "execution_count": 28
        }
      ],
      "source": [
        "df['Label'].value_counts()"
      ]
    },
    {
      "cell_type": "markdown",
      "metadata": {
        "id": "3uMfaT57EzZU"
      },
      "source": [
        "### Handeling SimillarHTTP\n"
      ]
    },
    {
      "cell_type": "code",
      "execution_count": null,
      "metadata": {
        "id": "XgppA5ErPAhl",
        "colab": {
          "base_uri": "https://localhost:8080/"
        },
        "outputId": "e08ef74a-30a4-45f4-c139-f918897dec71"
      },
      "outputs": [
        {
          "output_type": "stream",
          "name": "stdout",
          "text": [
            "num =  89\n"
          ]
        }
      ],
      "source": [
        "print('num = ',len(df['SimillarHTTP'].unique()))"
      ]
    },
    {
      "cell_type": "code",
      "execution_count": null,
      "metadata": {
        "id": "97sHzUi9GvSq",
        "colab": {
          "base_uri": "https://localhost:8080/"
        },
        "outputId": "20a403eb-4d26-41f2-8280-ccacad8d329a"
      },
      "outputs": [
        {
          "output_type": "execute_result",
          "data": {
            "text/plain": [
              "0                                                                                                                                                                                                                                                                           1251746\n",
              "0                                                                                                                                                                                                                                                                             89777\n",
              "ocsp.pki.goog/GTSGIAG3                                                                                                                                                                                                                                                           61\n",
              "ocsp.digicert.com/                                                                                                                                                                                                                                                               33\n",
              "ocsp.comodoca.com/                                                                                                                                                                                                                                                               21\n",
              "ocsp.godaddy.com/                                                                                                                                                                                                                                                                20\n",
              "detectportal.firefox.com/success.txt                                                                                                                                                                                                                                             12\n",
              "en.drshno.com/                                                                                                                                                                                                                                                                    9\n",
              "en.drshno.com/wp-content/themes/enfold/config-templatebuilder/avia-template-builder/assets/fonts/entypo-fontello.woff?v=3                                                                                                                                                         8\n",
              "drmokhberi.ca/favicon.ico                                                                                                                                                                                                                                                         8\n",
              "ocsp.sca1b.amazontrust.com/                                                                                                                                                                                                                                                       7\n",
              "talebi.ca/making-ssh-connection-in-cisco/                                                                                                                                                                                                                                         6\n",
              "en.drshno.com/index.php/aesthetics/aesthetics-of-chin/                                                                                                                                                                                                                            6\n",
              "status.rapidssl.com/                                                                                                                                                                                                                                                              5\n",
              "talebi.ca/resume/                                                                                                                                                                                                                                                                 5\n",
              "drmokhberi.ca/wp-content/themes/donovan/assets/css/custom-fonts.css?ver=20180413                                                                                                                                                                                                  5\n",
              "talebi.ca/category/honeypot/                                                                                                                                                                                                                                                      4\n",
              "en.drshno.com/wp-content/uploads/2016/02/logo1.png                                                                                                                                                                                                                                4\n",
              "talebi.ca/wp-content/plugins/spin360/spin360.css?ver=4.9.8                                                                                                                                                                                                                        4\n",
              "talebi.ca/wp-content/uploads/2017/09/logo2.png                                                                                                                                                                                                                                    4\n",
              "drmokhberi.ca/2018/04/18/installing-docker-ce-on-ubuntu-17-10-artful-aardvark/                                                                                                                                                                                                    4\n",
              "ocsp.netsolssl.com/                                                                                                                                                                                                                                                               4\n",
              "talebi.ca/wp-content/uploads/2017/09/index-80x80.jpeg                                                                                                                                                                                                                             4\n",
              "talebi.ca/t-pot-best-tools-to-make-honeypot/                                                                                                                                                                                                                                      3\n",
              "en.drshno.com/wp-content/themes/enfold/config-layerslider/LayerSlider/static/layerslider/css/layerslider.css?ver=6.2.0                                                                                                                                                            3\n",
              "en.drshno.com/wp-content/uploads/2016/01/chin-background-drshno-ahma.jpg                                                                                                                                                                                                          3\n",
              "en.drshno.com/wp-content/uploads/dynamic_avia/enfold.css?ver=5ba3cdb46af26                                                                                                                                                                                                        3\n",
              "0.gravatar.com/avatar/?s=40&d=mm&r=g                                                                                                                                                                                                                                              3\n",
              "talebi.ca/wp-content/themes/enfold/images/background-images/grain_top.png                                                                                                                                                                                                         3\n",
              "en.drshno.com/wp-content/uploads/2016/01/favicon-16x16.png                                                                                                                                                                                                                        3\n",
              "                                                                                                                                                                                                                                                                             ...   \n",
              "talebi.ca/wp-content/themes/enfold/css/print.css?ver=1                                                                                                                                                                                                                            1\n",
              "talebi.ca/wp-content/plugins/wpdiscuz/utils/captcha/captcha.php?key=c5bdd97be255be                                                                                                                                                                                                1\n",
              "en.drshno.com/wp-content/themes/enfold/css/print.css?ver=1                                                                                                                                                                                                                        1\n",
              "ar.drshno.com/wp-content/themes/enfold/js/mediaelement/skin-1/mediaelementplayer.css?ver=1                                                                                                                                                                                        1\n",
              "pagead2.googlesyndication.com/pagead/gen_204?id=ama_success&c=2&wpc=ca-pub-7038428519218646&warn=12%2C13&w=1280&h=910&eatf=false&reatf=false&a=6%2C1%2C2%2C3%2C7&apv=20181024_142142&afm=0&as_count=0&d_count=0&ng_count=0&am_count=2&atf_count=0&su=en.drshno.com&r=0.1          1\n",
              "talebi.ca/wp-content/uploads/2017/09/honeypot_big_logo-c551a80e-845x321.png                                                                                                                                                                                                       1\n",
              "en.drshno.com/wp-content/uploads/2016/01/hair-graft-drshno.jpg                                                                                                                                                                                                                    1\n",
              "192.168.50.4/                                                                                                                                                                                                                                                                     1\n",
              "pagead2.googlesyndication.com/pagead/gen_204?id=ama_success&c=3&wpc=ca-pub-7038428519218646&w=1024&h=654&eatf=false&reatf=false&a=6%2C1%2C2%2C3%2C7&apv=20181031_152237&afm=0&as_count=0&d_count=0&ng_count=0&am_count=3&atf_count=1&su=talebi.ca&r=0.1                           1\n",
              "en.drshno.com/wp-content/uploads/2015/12/sa2-1500x443.jpg                                                                                                                                                                                                                         1\n",
              "en.drshno.com/wp-content/uploads/2016/01/kasht2-1500x443.jpg                                                                                                                                                                                                                      1\n",
              "ar.drshno.com/wp-content/themes/enfold/css/shortcodes.css?ver=2                                                                                                                                                                                                                   1\n",
              "pagead2.googlesyndication.com/pagead/gen_204?id=asihe&x=0&y=0&url=http%3A%2F%2Fen.drshno.com%2F                                                                                                                                                                                   1\n",
              "en.drshno.com/wp-includes/js/mediaelement/wp-mediaelement.min.js?ver=4.9.8                                                                                                                                                                                                        1\n",
              "pagead2.googlesyndication.com/pagead/gen_204?id=ama_success&c=2&wpc=ca-pub-7038428519218646&warn=12%2C13&w=1024&h=654&eatf=false&reatf=false&a=6%2C1%2C2%2C3%2C7&apv=20181024_142142&afm=0&as_count=0&d_count=0&ng_count=0&am_count=2&atf_count=0&su=en.drshno.com&r=0.1          1\n",
              "en.drshno.com/wp-content/uploads/2015/12/sa1-1500x443.jpg                                                                                                                                                                                                                         1\n",
              "pagead2.googlesyndication.com/pagead/gen_204?id=ama_success&c=1&wpc=ca-pub-7038428519218646&warn=12%2C13&w=1024&h=654&eatf=false&reatf=false&a=6%2C1%2C2%2C3%2C7&apv=20181024_142142&afm=0&as_count=0&d_count=0&ng_count=0&am_count=1&atf_count=0&su=en.drshno.com&r=0.1          1\n",
              "en.drshno.com/wp-content/uploads/2015/12/sa1-1030x304.jpg                                                                                                                                                                                                                         1\n",
              "pagead2.googlesyndication.com/pagead/gen_204?id=ama_success&c=1&wpc=ca-pub-7038428519218646&warn=12%2C13&w=1280&h=910&eatf=false&reatf=false&a=6%2C1%2C2%2C3%2C7&apv=20181024_142142&afm=0&as_count=0&d_count=0&ng_count=0&am_count=1&atf_count=0&su=en.drshno.com&r=0.1          1\n",
              "talebi.ca/category/network/                                                                                                                                                                                                                                                       1\n",
              "talebi.ca/wp-content/themes/enfold/css/shortcodes.css?ver=2                                                                                                                                                                                                                       1\n",
              "talebi.ca/wp-content/plugins/wpdiscuz/utils/captcha/captcha.php?key=c5bddae70a4609                                                                                                                                                                                                1\n",
              "talebi.ca/wp-content/plugins/wpdiscuz/utils/captcha/captcha.php?key=c5bddae70a48d1                                                                                                                                                                                                1\n",
              "talebi.ca/wp-content/uploads/dynamic_avia/enfold.css?ver=59b5d5e2e7489                                                                                                                                                                                                            1\n",
              "talebi.ca/wp-content/themes/enfold/css/custom.css?ver=2                                                                                                                                                                                                                           1\n",
              "talebi.ca/wp-content/themes/enfold/config-templatebuilder/avia-template-builder/assets/fonts/entypo-fontello.woff?v=3                                                                                                                                                             1\n",
              "0.gravatar.com/avatar/?s=48&d=mm&r=g                                                                                                                                                                                                                                              1\n",
              "talebi.ca/wp-content/plugins/wpdiscuz/utils/captcha/captcha.php?key=c5bdd92a3a9399                                                                                                                                                                                                1\n",
              "talebi.ca/wp-content/plugins/wpdiscuz/utils/captcha/captcha.php?key=c5bdd92a3a9716                                                                                                                                                                                                1\n",
              "en.drshno.com/wp-content/themes/enfold/css/custom.css?ver=2                                                                                                                                                                                                                       1\n",
              "Name: SimillarHTTP, Length: 89, dtype: int64"
            ]
          },
          "metadata": {},
          "execution_count": 30
        }
      ],
      "source": [
        "# Count unique values in HTTP column\n",
        "df['SimillarHTTP'].value_counts()"
      ]
    },
    {
      "cell_type": "code",
      "execution_count": null,
      "metadata": {
        "id": "mwCRcIpmWb05"
      },
      "outputs": [],
      "source": [
        "# Cast all values to string\n",
        "df['SimillarHTTP'] = df['SimillarHTTP'].astype(str)"
      ]
    },
    {
      "cell_type": "code",
      "execution_count": null,
      "metadata": {
        "id": "pP6KSt6myvi7"
      },
      "outputs": [],
      "source": [
        "# Any unique value turns to one int\n",
        "from sklearn import preprocessing\n",
        "\n",
        "le = preprocessing.LabelEncoder()\n",
        "le.fit(df.SimillarHTTP)\n",
        "df['SimillarHTTP'] = le.transform(df.SimillarHTTP)\n"
      ]
    },
    {
      "cell_type": "code",
      "execution_count": null,
      "metadata": {
        "id": "_ByGwc1WEy0-",
        "colab": {
          "base_uri": "https://localhost:8080/"
        },
        "outputId": "2ae13d7c-f5c4-471e-a7cd-1f4331cc12ec"
      },
      "outputs": [
        {
          "output_type": "execute_result",
          "data": {
            "text/plain": [
              "0     1341523\n",
              "44         61\n",
              "40         33\n",
              "39         21\n",
              "41         20\n",
              "10         12\n",
              "18          9\n",
              "25          8\n",
              "16          8\n",
              "45          7\n",
              "66          6\n",
              "20          6\n",
              "67          5\n",
              "17          5\n",
              "59          5\n",
              "14          4\n",
              "36          4\n",
              "43          4\n",
              "70          4\n",
              "85          4\n",
              "61          4\n",
              "84          4\n",
              "68          3\n",
              "32          3\n",
              "33          3\n",
              "1           3\n",
              "81          3\n",
              "37          3\n",
              "23          3\n",
              "22          2\n",
              "       ...   \n",
              "8           1\n",
              "4           1\n",
              "47          1\n",
              "60          1\n",
              "28          1\n",
              "11          1\n",
              "9           1\n",
              "27          1\n",
              "64          1\n",
              "77          1\n",
              "34          1\n",
              "35          1\n",
              "51          1\n",
              "30          1\n",
              "49          1\n",
              "29          1\n",
              "50          1\n",
              "54          1\n",
              "62          1\n",
              "80          1\n",
              "75          1\n",
              "76          1\n",
              "31          1\n",
              "87          1\n",
              "78          1\n",
              "2           1\n",
              "72          1\n",
              "73          1\n",
              "7           1\n",
              "26          1\n",
              "Name: SimillarHTTP, Length: 88, dtype: int64"
            ]
          },
          "metadata": {},
          "execution_count": 33
        }
      ],
      "source": [
        "df['SimillarHTTP'].value_counts()"
      ]
    },
    {
      "cell_type": "code",
      "execution_count": null,
      "metadata": {
        "id": "J5df6k8JWilc",
        "colab": {
          "base_uri": "https://localhost:8080/"
        },
        "outputId": "7a828d81-2d43-4f4e-d182-31dca31252bb"
      },
      "outputs": [
        {
          "output_type": "stream",
          "name": "stdout",
          "text": [
            "num =  88\n"
          ]
        }
      ],
      "source": [
        "print('num = ',len(df['SimillarHTTP'].unique()))"
      ]
    },
    {
      "cell_type": "code",
      "execution_count": null,
      "metadata": {
        "id": "JutSjxKjYumI",
        "colab": {
          "base_uri": "https://localhost:8080/"
        },
        "outputId": "563324fb-fd46-4313-f41c-01fb5846434e"
      },
      "outputs": [
        {
          "output_type": "execute_result",
          "data": {
            "text/plain": [
              "numpy.int64"
            ]
          },
          "metadata": {},
          "execution_count": 35
        }
      ],
      "source": [
        "type(df['SimillarHTTP'][0])"
      ]
    },
    {
      "cell_type": "markdown",
      "metadata": {
        "id": "5O6M1Ok0IAX8"
      },
      "source": [
        "### Handeling flow ID"
      ]
    },
    {
      "cell_type": "code",
      "execution_count": null,
      "metadata": {
        "id": "mEGQzV1eIVnb",
        "colab": {
          "base_uri": "https://localhost:8080/",
          "height": 36
        },
        "outputId": "477ccf23-53a7-452e-f0dd-155f2696afa0"
      },
      "outputs": [
        {
          "output_type": "execute_result",
          "data": {
            "text/plain": [
              "'172.16.0.5-192.168.50.4-870-2908-17'"
            ],
            "application/vnd.google.colaboratory.intrinsic+json": {
              "type": "string"
            }
          },
          "metadata": {},
          "execution_count": 36
        }
      ],
      "source": [
        "df['Flow ID'][0]"
      ]
    },
    {
      "cell_type": "code",
      "execution_count": null,
      "metadata": {
        "id": "wkDmWNnuIzBV",
        "colab": {
          "base_uri": "https://localhost:8080/",
          "height": 36
        },
        "outputId": "5159d937-3ce9-4848-99f7-85e5cc6f37a4"
      },
      "outputs": [
        {
          "output_type": "execute_result",
          "data": {
            "text/plain": [
              "'172.16.0.5'"
            ],
            "application/vnd.google.colaboratory.intrinsic+json": {
              "type": "string"
            }
          },
          "metadata": {},
          "execution_count": 37
        }
      ],
      "source": [
        "df[' Source IP'][0]"
      ]
    },
    {
      "cell_type": "code",
      "execution_count": null,
      "metadata": {
        "id": "Kxp8qK1uJKlf",
        "colab": {
          "base_uri": "https://localhost:8080/",
          "height": 36
        },
        "outputId": "6a109010-d902-4210-d859-5e35cca59682"
      },
      "outputs": [
        {
          "output_type": "execute_result",
          "data": {
            "text/plain": [
              "'192.168.50.4'"
            ],
            "application/vnd.google.colaboratory.intrinsic+json": {
              "type": "string"
            }
          },
          "metadata": {},
          "execution_count": 38
        }
      ],
      "source": [
        "df[' Destination IP'][0]"
      ]
    },
    {
      "cell_type": "code",
      "execution_count": null,
      "metadata": {
        "id": "_MQFGVK0JAY7",
        "colab": {
          "base_uri": "https://localhost:8080/"
        },
        "outputId": "20034ac6-bded-4456-e3d6-44535e6033b2"
      },
      "outputs": [
        {
          "output_type": "execute_result",
          "data": {
            "text/plain": [
              "870"
            ]
          },
          "metadata": {},
          "execution_count": 39
        }
      ],
      "source": [
        "df[' Source Port'][0]"
      ]
    },
    {
      "cell_type": "code",
      "execution_count": null,
      "metadata": {
        "id": "ugMjEX0bJSIN",
        "colab": {
          "base_uri": "https://localhost:8080/"
        },
        "outputId": "610d6c71-5a06-4590-af25-f71e47e98c10"
      },
      "outputs": [
        {
          "output_type": "execute_result",
          "data": {
            "text/plain": [
              "2908"
            ]
          },
          "metadata": {},
          "execution_count": 40
        }
      ],
      "source": [
        "df[' Destination Port'][0]"
      ]
    },
    {
      "cell_type": "code",
      "execution_count": null,
      "metadata": {
        "id": "nSIh3ChoMpMg"
      },
      "outputs": [],
      "source": [
        "# Remove Flow ID becuse its redundant, as shown above\n",
        "df=df.drop('Flow ID', axis=1)"
      ]
    },
    {
      "cell_type": "code",
      "execution_count": null,
      "metadata": {
        "id": "4ZaYK2sWp6OQ",
        "colab": {
          "base_uri": "https://localhost:8080/"
        },
        "outputId": "a190e55a-f619-4d75-bd0d-b310aec86e15"
      },
      "outputs": [
        {
          "output_type": "stream",
          "name": "stdout",
          "text": [
            "ddos csv shape:  (1341858, 74)\n"
          ]
        }
      ],
      "source": [
        "print(\"ddos csv shape: \",df.shape)"
      ]
    },
    {
      "cell_type": "markdown",
      "metadata": {
        "id": "5Ga2e32X_WiG"
      },
      "source": [
        "### Handeling IP by converting to decimal"
      ]
    },
    {
      "cell_type": "code",
      "execution_count": null,
      "metadata": {
        "id": "hpXVPuEq_a0H",
        "colab": {
          "base_uri": "https://localhost:8080/"
        },
        "outputId": "5ce1e3dc-125c-45f2-db42-4c676a923a71"
      },
      "outputs": [
        {
          "output_type": "stream",
          "name": "stdout",
          "text": [
            "Collecting netaddr\n",
            "  Downloading netaddr-0.8.0-py2.py3-none-any.whl (1.9 MB)\n",
            "\u001b[K     |████████████████████████████████| 1.9 MB 4.8 MB/s \n",
            "\u001b[?25hInstalling collected packages: netaddr\n",
            "Successfully installed netaddr-0.8.0\n"
          ]
        }
      ],
      "source": [
        "!pip install netaddr\n",
        "import netaddr"
      ]
    },
    {
      "cell_type": "code",
      "execution_count": null,
      "metadata": {
        "id": "Hw-suYyP_eE6",
        "colab": {
          "base_uri": "https://localhost:8080/"
        },
        "outputId": "5e2b8fe5-8b9f-401e-98b7-ba33c708bf47"
      },
      "outputs": [
        {
          "output_type": "stream",
          "name": "stdout",
          "text": [
            "3232236598\n"
          ]
        }
      ],
      "source": [
        "# Example\n",
        "print(int(netaddr.IPAddress('192.168.4.54'))) "
      ]
    },
    {
      "cell_type": "markdown",
      "metadata": {
        "id": "A8-OmXgIFOgs"
      },
      "source": [
        "Source IP"
      ]
    },
    {
      "cell_type": "code",
      "execution_count": null,
      "metadata": {
        "id": "zJfKl_HI_YnW",
        "colab": {
          "base_uri": "https://localhost:8080/"
        },
        "outputId": "72d74127-5aca-4658-d4dd-8cd20d8a9396"
      },
      "outputs": [
        {
          "output_type": "stream",
          "name": "stdout",
          "text": [
            "strating loop, length is 366\n",
            "loop over\n"
          ]
        }
      ],
      "source": [
        "# Converte source and destination ip address to decimal\n",
        "\n",
        "ips = df[' Source IP'].unique()\n",
        "l = len(ips)\n",
        "print('strating loop, length is',l)\n",
        "for i in range(l):\n",
        "  df[' Source IP'] = df[' Source IP'].replace(ips[i], int(netaddr.IPAddress(ips[i])))\n",
        "print('loop over')\n"
      ]
    },
    {
      "cell_type": "code",
      "execution_count": null,
      "metadata": {
        "id": "E7Ww5QOhFLDk"
      },
      "outputs": [],
      "source": [
        "df = df.rename(columns={\" Source IP\": \"SourceIP\"})"
      ]
    },
    {
      "cell_type": "code",
      "execution_count": null,
      "metadata": {
        "id": "bRYqfETgJvNV",
        "colab": {
          "base_uri": "https://localhost:8080/"
        },
        "outputId": "04af5279-69cc-488f-826c-2440c91b80ad"
      },
      "outputs": [
        {
          "output_type": "execute_result",
          "data": {
            "text/plain": [
              "2886729733    1328455\n",
              "3232248326       3746\n",
              "3232248328       3258\n",
              "3232248324       2456\n",
              "3232248329       1661\n",
              "1255206059        214\n",
              "2892618691        111\n",
              "3232248573         50\n",
              "3232248574         50\n",
              "3715789631         49\n",
              "1209359133         48\n",
              "1747219313         40\n",
              "134610945          38\n",
              "2061595595         38\n",
              "878009038          36\n",
              "2899905734         30\n",
              "2899905698         27\n",
              "1168955503         26\n",
              "2899904258         25\n",
              "2899904994         24\n",
              "398626517          24\n",
              "878008826          24\n",
              "2892613613         23\n",
              "0                  23\n",
              "1887005486         20\n",
              "3627736034         20\n",
              "2062947534         20\n",
              "1218965487         20\n",
              "2892507440         19\n",
              "2899904194         18\n",
              "               ...   \n",
              "2915224941          1\n",
              "1746646102          1\n",
              "2899904996          1\n",
              "597898614           1\n",
              "2915189868          1\n",
              "3092699603          1\n",
              "398626041           1\n",
              "3432673146          1\n",
              "878008652           1\n",
              "876258050           1\n",
              "1746646358          1\n",
              "2899905162          1\n",
              "921949866           1\n",
              "877944531           1\n",
              "316021969           1\n",
              "137054305           1\n",
              "386860042           1\n",
              "3432673131          1\n",
              "911034870           1\n",
              "877956355           1\n",
              "583048318           1\n",
              "584110247           1\n",
              "877956502           1\n",
              "918566695           1\n",
              "3404845059          1\n",
              "1145287621          1\n",
              "1888234139          1\n",
              "878201024           1\n",
              "2342657635          1\n",
              "1750606737          1\n",
              "Name: SourceIP, Length: 366, dtype: int64"
            ]
          },
          "metadata": {},
          "execution_count": 47
        }
      ],
      "source": [
        "df['SourceIP'].value_counts()"
      ]
    },
    {
      "cell_type": "code",
      "execution_count": null,
      "metadata": {
        "id": "CFXSgzemFLVM"
      },
      "outputs": [],
      "source": [
        "# Any unique value turns to one int\n",
        "from sklearn import preprocessing\n",
        "\n",
        "le = preprocessing.LabelEncoder()\n",
        "le.fit(df.SourceIP)\n",
        "df['SourceIP'] = le.transform(df.SourceIP)"
      ]
    },
    {
      "cell_type": "code",
      "execution_count": null,
      "metadata": {
        "id": "26fQdMdoFLgk",
        "colab": {
          "base_uri": "https://localhost:8080/"
        },
        "outputId": "cd91ee77-f5ef-427d-b081-78f2ebb7fc35"
      },
      "outputs": [
        {
          "output_type": "execute_result",
          "data": {
            "text/plain": [
              "224    1328455\n",
              "325       3746\n",
              "327       3258\n",
              "324       2456\n",
              "328       1661\n",
              "166        214\n",
              "230        111\n",
              "329         50\n",
              "330         50\n",
              "365         49\n",
              "158         48\n",
              "183         40\n",
              "1           38\n",
              "202         38\n",
              "118         36\n",
              "300         30\n",
              "294         27\n",
              "157         26\n",
              "262         25\n",
              "264         24\n",
              "39          24\n",
              "117         24\n",
              "229         23\n",
              "0           23\n",
              "197         20\n",
              "363         20\n",
              "205         20\n",
              "159         20\n",
              "226         19\n",
              "253         18\n",
              "        ...   \n",
              "311          1\n",
              "180          1\n",
              "266          1\n",
              "65           1\n",
              "306          1\n",
              "319          1\n",
              "36           1\n",
              "349          1\n",
              "110          1\n",
              "90           1\n",
              "181          1\n",
              "282          1\n",
              "145          1\n",
              "100          1\n",
              "11           1\n",
              "4            1\n",
              "13           1\n",
              "341          1\n",
              "127          1\n",
              "102          1\n",
              "52           1\n",
              "57           1\n",
              "103          1\n",
              "136          1\n",
              "336          1\n",
              "154          1\n",
              "199          1\n",
              "121          1\n",
              "209          1\n",
              "185          1\n",
              "Name: SourceIP, Length: 366, dtype: int64"
            ]
          },
          "metadata": {},
          "execution_count": 49
        }
      ],
      "source": [
        "df['SourceIP'].value_counts()"
      ]
    },
    {
      "cell_type": "code",
      "execution_count": null,
      "metadata": {
        "id": "3ltmKrujFmp-",
        "colab": {
          "base_uri": "https://localhost:8080/"
        },
        "outputId": "a171bdc1-e882-4633-932f-6a45ea5bd75f"
      },
      "outputs": [
        {
          "output_type": "execute_result",
          "data": {
            "text/plain": [
              "numpy.int64"
            ]
          },
          "metadata": {},
          "execution_count": 50
        }
      ],
      "source": [
        "type(df['SourceIP'][0])"
      ]
    },
    {
      "cell_type": "markdown",
      "metadata": {
        "id": "jfhimltHFL6p"
      },
      "source": [
        "Destination IP"
      ]
    },
    {
      "cell_type": "code",
      "execution_count": null,
      "metadata": {
        "id": "Otpujm1FAXEo",
        "colab": {
          "base_uri": "https://localhost:8080/"
        },
        "outputId": "8ebf61a1-3495-49e7-e1fe-8df5178799ed"
      },
      "outputs": [
        {
          "output_type": "stream",
          "name": "stdout",
          "text": [
            "strating loop, length is 433\n",
            "loop over\n"
          ]
        }
      ],
      "source": [
        "ips = df[' Destination IP'].unique()\n",
        "l = len(ips)\n",
        "print('strating loop, length is',l)\n",
        "for i in range(l):\n",
        "  df[' Destination IP'] = df[' Destination IP'].replace(ips[i], int(netaddr.IPAddress(ips[i])))\n",
        "print('loop over')\n"
      ]
    },
    {
      "cell_type": "code",
      "execution_count": null,
      "metadata": {
        "id": "DuRlV68zE8Tf"
      },
      "outputs": [],
      "source": [
        "df = df.rename(columns={\" Destination IP\": \"DestinationIP\"})"
      ]
    },
    {
      "cell_type": "code",
      "execution_count": null,
      "metadata": {
        "id": "LjC5l301K3WU",
        "colab": {
          "base_uri": "https://localhost:8080/"
        },
        "outputId": "a75e76cf-375a-4e01-a8ac-e2c75f525261"
      },
      "outputs": [
        {
          "output_type": "execute_result",
          "data": {
            "text/plain": [
              "3232248324    1328465\n",
              "67240452         2772\n",
              "2886729733       2415\n",
              "3232248329        814\n",
              "134744072         708\n",
              "1255206059        686\n",
              "3232248328        680\n",
              "3232248326        597\n",
              "2892618691        154\n",
              "3715789631        121\n",
              "1209359133        111\n",
              "3758096389        100\n",
              "2899904994         96\n",
              "2899904258         93\n",
              "878009038          84\n",
              "2061595595         78\n",
              "3627736034         74\n",
              "2899905250         72\n",
              "2899903142         66\n",
              "2899904194         59\n",
              "1218965487         59\n",
              "2899905698         58\n",
              "3232238130         57\n",
              "2899905734         56\n",
              "2899905122         55\n",
              "398626517          51\n",
              "3627736002         49\n",
              "2899903150         49\n",
              "2899904225         46\n",
              "2899905286         43\n",
              "               ...   \n",
              "2899905347          1\n",
              "399204946           1\n",
              "1072786536          1\n",
              "1209359174          1\n",
              "2899904232          1\n",
              "874893196           1\n",
              "874566085           1\n",
              "600392495           1\n",
              "1822538880          1\n",
              "1750598432          1\n",
              "315879842           1\n",
              "586038221           1\n",
              "1249343363          1\n",
              "1249343311          1\n",
              "1539136413          1\n",
              "1145287723          1\n",
              "2899904237          1\n",
              "919940536           1\n",
              "137054255           1\n",
              "1089055608          1\n",
              "1249343298          1\n",
              "2539979217          1\n",
              "2918314716          1\n",
              "398490952           1\n",
              "916831608           1\n",
              "875463181           1\n",
              "137054321           1\n",
              "225121736           1\n",
              "599669605           1\n",
              "1750612436          1\n",
              "Name: DestinationIP, Length: 433, dtype: int64"
            ]
          },
          "metadata": {},
          "execution_count": 53
        }
      ],
      "source": [
        "df['DestinationIP'].value_counts()"
      ]
    },
    {
      "cell_type": "code",
      "execution_count": null,
      "metadata": {
        "id": "fBibtLnmEnwb"
      },
      "outputs": [],
      "source": [
        "# Any unique value turns to one int\n",
        "from sklearn import preprocessing\n",
        "\n",
        "le = preprocessing.LabelEncoder()\n",
        "le.fit(df.DestinationIP)\n",
        "df['DestinationIP'] = le.transform(df.DestinationIP)"
      ]
    },
    {
      "cell_type": "code",
      "execution_count": null,
      "metadata": {
        "id": "qpt9fxB3Eoy0",
        "colab": {
          "base_uri": "https://localhost:8080/"
        },
        "outputId": "347f9052-5a65-4728-b2e9-4629156e359c"
      },
      "outputs": [
        {
          "output_type": "execute_result",
          "data": {
            "text/plain": [
              "383    1328465\n",
              "0         2772\n",
              "268       2415\n",
              "387        814\n",
              "2          708\n",
              "199        686\n",
              "386        680\n",
              "384        597\n",
              "274        154\n",
              "426        121\n",
              "187        111\n",
              "427        100\n",
              "311         96\n",
              "309         93\n",
              "137         84\n",
              "245         78\n",
              "424         74\n",
              "331         72\n",
              "284         66\n",
              "297         59\n",
              "189         59\n",
              "345         58\n",
              "382         57\n",
              "354         56\n",
              "328         55\n",
              "48          51\n",
              "422         49\n",
              "287         49\n",
              "299         46\n",
              "337         43\n",
              "        ...   \n",
              "343          1\n",
              "51           1\n",
              "171          1\n",
              "188          1\n",
              "304          1\n",
              "100          1\n",
              "96           1\n",
              "81           1\n",
              "233          1\n",
              "221          1\n",
              "16           1\n",
              "75           1\n",
              "193          1\n",
              "191          1\n",
              "203          1\n",
              "183          1\n",
              "306          1\n",
              "162          1\n",
              "4            1\n",
              "173          1\n",
              "190          1\n",
              "256          1\n",
              "375          1\n",
              "29           1\n",
              "152          1\n",
              "106          1\n",
              "8            1\n",
              "12           1\n",
              "80           1\n",
              "226          1\n",
              "Name: DestinationIP, Length: 433, dtype: int64"
            ]
          },
          "metadata": {},
          "execution_count": 55
        }
      ],
      "source": [
        "df['DestinationIP'].value_counts()"
      ]
    },
    {
      "cell_type": "code",
      "execution_count": null,
      "metadata": {
        "id": "akoP4ivvFrL1",
        "colab": {
          "base_uri": "https://localhost:8080/"
        },
        "outputId": "47817bb1-99d5-4521-884c-5726d21bf4c1"
      },
      "outputs": [
        {
          "output_type": "execute_result",
          "data": {
            "text/plain": [
              "numpy.int64"
            ]
          },
          "metadata": {},
          "execution_count": 56
        }
      ],
      "source": [
        "type(df['DestinationIP'][0])"
      ]
    },
    {
      "cell_type": "markdown",
      "metadata": {
        "id": "izmp0KdD8hPI"
      },
      "source": [
        "### handeling Timestamp"
      ]
    },
    {
      "cell_type": "code",
      "execution_count": null,
      "metadata": {
        "id": "eq_Tvwtsi2_C",
        "colab": {
          "base_uri": "https://localhost:8080/"
        },
        "outputId": "48979b45-61e1-454b-b5b2-cb853a0eb577"
      },
      "outputs": [
        {
          "output_type": "execute_result",
          "data": {
            "text/plain": [
              "1341858"
            ]
          },
          "metadata": {},
          "execution_count": 57
        }
      ],
      "source": [
        "len(df[' Timestamp'])"
      ]
    },
    {
      "cell_type": "code",
      "execution_count": null,
      "metadata": {
        "id": "VeVJr7epAu0b"
      },
      "outputs": [],
      "source": [
        "df[' Timestamp'] = pd.to_datetime(df[' Timestamp']).dt.strftime(date_format = '%y-%m-%d %I:%M:%S %p')"
      ]
    },
    {
      "cell_type": "code",
      "execution_count": null,
      "metadata": {
        "id": "PWSZKZoi9EHm",
        "colab": {
          "base_uri": "https://localhost:8080/",
          "height": 36
        },
        "outputId": "15338eeb-d18e-4ab9-bfab-c170c0668b32"
      },
      "outputs": [
        {
          "output_type": "execute_result",
          "data": {
            "text/plain": [
              "'18-11-03 10:09:00 AM'"
            ],
            "application/vnd.google.colaboratory.intrinsic+json": {
              "type": "string"
            }
          },
          "metadata": {},
          "execution_count": 59
        }
      ],
      "source": [
        "# Example\n",
        "df[' Timestamp'][1]"
      ]
    },
    {
      "cell_type": "code",
      "execution_count": null,
      "metadata": {
        "id": "l4_Ntx-Ji3IY"
      },
      "outputs": [],
      "source": [
        "# Handel timestamp by spliting to year, month, day, hour and minutes columns\n",
        "\n",
        "y=[]\n",
        "m=[]\n",
        "d=[]\n",
        "h=[]\n",
        "mi=[]\n",
        "for i in range(len(df[' Timestamp'])):\n",
        "\n",
        "  # year\n",
        "  a = int(df[' Timestamp'][i][0:2])\n",
        "  y.append(a)\n",
        "  \n",
        "  # month\n",
        "  b = int(df[' Timestamp'][i][3:5])\n",
        "  m.append(b)\n",
        "  \n",
        "  # day\n",
        "  c = int(df[' Timestamp'][i][6:8])\n",
        "  d.append(c)\n",
        "\n",
        "  # hour format 24h\n",
        "  e = int(df[' Timestamp'][i][9:11])\n",
        "  # AM PM\n",
        "  z = (df[' Timestamp'][i][-2:])\n",
        "  if z=='PM':\n",
        "    e = e + 12\n",
        "  h.append(e)\n",
        "\n",
        "  # minutes\n",
        "  f = int(df[' Timestamp'][i][12:14])\n",
        "  mi.append(f)"
      ]
    },
    {
      "cell_type": "code",
      "execution_count": null,
      "metadata": {
        "id": "d43xJvfT-RkW",
        "colab": {
          "base_uri": "https://localhost:8080/",
          "height": 300
        },
        "outputId": "24661465-b36c-491d-b46e-08bb2794d15d"
      },
      "outputs": [
        {
          "output_type": "execute_result",
          "data": {
            "text/plain": [
              "               0\n",
              "count  1341858.0\n",
              "mean        18.0\n",
              "std          0.0\n",
              "min         18.0\n",
              "25%         18.0\n",
              "50%         18.0\n",
              "75%         18.0\n",
              "max         18.0"
            ],
            "text/html": [
              "\n",
              "  <div id=\"df-22cc40e0-4d8c-4ca6-aedb-4bf6ff3b3535\">\n",
              "    <div class=\"colab-df-container\">\n",
              "      <div>\n",
              "<style scoped>\n",
              "    .dataframe tbody tr th:only-of-type {\n",
              "        vertical-align: middle;\n",
              "    }\n",
              "\n",
              "    .dataframe tbody tr th {\n",
              "        vertical-align: top;\n",
              "    }\n",
              "\n",
              "    .dataframe thead th {\n",
              "        text-align: right;\n",
              "    }\n",
              "</style>\n",
              "<table border=\"1\" class=\"dataframe\">\n",
              "  <thead>\n",
              "    <tr style=\"text-align: right;\">\n",
              "      <th></th>\n",
              "      <th>0</th>\n",
              "    </tr>\n",
              "  </thead>\n",
              "  <tbody>\n",
              "    <tr>\n",
              "      <th>count</th>\n",
              "      <td>1341858.0</td>\n",
              "    </tr>\n",
              "    <tr>\n",
              "      <th>mean</th>\n",
              "      <td>18.0</td>\n",
              "    </tr>\n",
              "    <tr>\n",
              "      <th>std</th>\n",
              "      <td>0.0</td>\n",
              "    </tr>\n",
              "    <tr>\n",
              "      <th>min</th>\n",
              "      <td>18.0</td>\n",
              "    </tr>\n",
              "    <tr>\n",
              "      <th>25%</th>\n",
              "      <td>18.0</td>\n",
              "    </tr>\n",
              "    <tr>\n",
              "      <th>50%</th>\n",
              "      <td>18.0</td>\n",
              "    </tr>\n",
              "    <tr>\n",
              "      <th>75%</th>\n",
              "      <td>18.0</td>\n",
              "    </tr>\n",
              "    <tr>\n",
              "      <th>max</th>\n",
              "      <td>18.0</td>\n",
              "    </tr>\n",
              "  </tbody>\n",
              "</table>\n",
              "</div>\n",
              "      <button class=\"colab-df-convert\" onclick=\"convertToInteractive('df-22cc40e0-4d8c-4ca6-aedb-4bf6ff3b3535')\"\n",
              "              title=\"Convert this dataframe to an interactive table.\"\n",
              "              style=\"display:none;\">\n",
              "        \n",
              "  <svg xmlns=\"http://www.w3.org/2000/svg\" height=\"24px\"viewBox=\"0 0 24 24\"\n",
              "       width=\"24px\">\n",
              "    <path d=\"M0 0h24v24H0V0z\" fill=\"none\"/>\n",
              "    <path d=\"M18.56 5.44l.94 2.06.94-2.06 2.06-.94-2.06-.94-.94-2.06-.94 2.06-2.06.94zm-11 1L8.5 8.5l.94-2.06 2.06-.94-2.06-.94L8.5 2.5l-.94 2.06-2.06.94zm10 10l.94 2.06.94-2.06 2.06-.94-2.06-.94-.94-2.06-.94 2.06-2.06.94z\"/><path d=\"M17.41 7.96l-1.37-1.37c-.4-.4-.92-.59-1.43-.59-.52 0-1.04.2-1.43.59L10.3 9.45l-7.72 7.72c-.78.78-.78 2.05 0 2.83L4 21.41c.39.39.9.59 1.41.59.51 0 1.02-.2 1.41-.59l7.78-7.78 2.81-2.81c.8-.78.8-2.07 0-2.86zM5.41 20L4 18.59l7.72-7.72 1.47 1.35L5.41 20z\"/>\n",
              "  </svg>\n",
              "      </button>\n",
              "      \n",
              "  <style>\n",
              "    .colab-df-container {\n",
              "      display:flex;\n",
              "      flex-wrap:wrap;\n",
              "      gap: 12px;\n",
              "    }\n",
              "\n",
              "    .colab-df-convert {\n",
              "      background-color: #E8F0FE;\n",
              "      border: none;\n",
              "      border-radius: 50%;\n",
              "      cursor: pointer;\n",
              "      display: none;\n",
              "      fill: #1967D2;\n",
              "      height: 32px;\n",
              "      padding: 0 0 0 0;\n",
              "      width: 32px;\n",
              "    }\n",
              "\n",
              "    .colab-df-convert:hover {\n",
              "      background-color: #E2EBFA;\n",
              "      box-shadow: 0px 1px 2px rgba(60, 64, 67, 0.3), 0px 1px 3px 1px rgba(60, 64, 67, 0.15);\n",
              "      fill: #174EA6;\n",
              "    }\n",
              "\n",
              "    [theme=dark] .colab-df-convert {\n",
              "      background-color: #3B4455;\n",
              "      fill: #D2E3FC;\n",
              "    }\n",
              "\n",
              "    [theme=dark] .colab-df-convert:hover {\n",
              "      background-color: #434B5C;\n",
              "      box-shadow: 0px 1px 3px 1px rgba(0, 0, 0, 0.15);\n",
              "      filter: drop-shadow(0px 1px 2px rgba(0, 0, 0, 0.3));\n",
              "      fill: #FFFFFF;\n",
              "    }\n",
              "  </style>\n",
              "\n",
              "      <script>\n",
              "        const buttonEl =\n",
              "          document.querySelector('#df-22cc40e0-4d8c-4ca6-aedb-4bf6ff3b3535 button.colab-df-convert');\n",
              "        buttonEl.style.display =\n",
              "          google.colab.kernel.accessAllowed ? 'block' : 'none';\n",
              "\n",
              "        async function convertToInteractive(key) {\n",
              "          const element = document.querySelector('#df-22cc40e0-4d8c-4ca6-aedb-4bf6ff3b3535');\n",
              "          const dataTable =\n",
              "            await google.colab.kernel.invokeFunction('convertToInteractive',\n",
              "                                                     [key], {});\n",
              "          if (!dataTable) return;\n",
              "\n",
              "          const docLinkHtml = 'Like what you see? Visit the ' +\n",
              "            '<a target=\"_blank\" href=https://colab.research.google.com/notebooks/data_table.ipynb>data table notebook</a>'\n",
              "            + ' to learn more about interactive tables.';\n",
              "          element.innerHTML = '';\n",
              "          dataTable['output_type'] = 'display_data';\n",
              "          await google.colab.output.renderOutput(dataTable, element);\n",
              "          const docLink = document.createElement('div');\n",
              "          docLink.innerHTML = docLinkHtml;\n",
              "          element.appendChild(docLink);\n",
              "        }\n",
              "      </script>\n",
              "    </div>\n",
              "  </div>\n",
              "  "
            ]
          },
          "metadata": {},
          "execution_count": 61
        }
      ],
      "source": [
        "# year\n",
        "y = pd.DataFrame(y)\n",
        "y.describe()"
      ]
    },
    {
      "cell_type": "code",
      "execution_count": null,
      "metadata": {
        "id": "mGX45ayzM8Fi",
        "colab": {
          "base_uri": "https://localhost:8080/",
          "height": 300
        },
        "outputId": "3f7f2ec2-c46b-45c8-aa27-8e78994a27ac"
      },
      "outputs": [
        {
          "output_type": "execute_result",
          "data": {
            "text/plain": [
              "               0\n",
              "count  1341858.0\n",
              "mean        11.0\n",
              "std          0.0\n",
              "min         11.0\n",
              "25%         11.0\n",
              "50%         11.0\n",
              "75%         11.0\n",
              "max         11.0"
            ],
            "text/html": [
              "\n",
              "  <div id=\"df-5d855b14-bff8-4a24-8c82-34e3da923de9\">\n",
              "    <div class=\"colab-df-container\">\n",
              "      <div>\n",
              "<style scoped>\n",
              "    .dataframe tbody tr th:only-of-type {\n",
              "        vertical-align: middle;\n",
              "    }\n",
              "\n",
              "    .dataframe tbody tr th {\n",
              "        vertical-align: top;\n",
              "    }\n",
              "\n",
              "    .dataframe thead th {\n",
              "        text-align: right;\n",
              "    }\n",
              "</style>\n",
              "<table border=\"1\" class=\"dataframe\">\n",
              "  <thead>\n",
              "    <tr style=\"text-align: right;\">\n",
              "      <th></th>\n",
              "      <th>0</th>\n",
              "    </tr>\n",
              "  </thead>\n",
              "  <tbody>\n",
              "    <tr>\n",
              "      <th>count</th>\n",
              "      <td>1341858.0</td>\n",
              "    </tr>\n",
              "    <tr>\n",
              "      <th>mean</th>\n",
              "      <td>11.0</td>\n",
              "    </tr>\n",
              "    <tr>\n",
              "      <th>std</th>\n",
              "      <td>0.0</td>\n",
              "    </tr>\n",
              "    <tr>\n",
              "      <th>min</th>\n",
              "      <td>11.0</td>\n",
              "    </tr>\n",
              "    <tr>\n",
              "      <th>25%</th>\n",
              "      <td>11.0</td>\n",
              "    </tr>\n",
              "    <tr>\n",
              "      <th>50%</th>\n",
              "      <td>11.0</td>\n",
              "    </tr>\n",
              "    <tr>\n",
              "      <th>75%</th>\n",
              "      <td>11.0</td>\n",
              "    </tr>\n",
              "    <tr>\n",
              "      <th>max</th>\n",
              "      <td>11.0</td>\n",
              "    </tr>\n",
              "  </tbody>\n",
              "</table>\n",
              "</div>\n",
              "      <button class=\"colab-df-convert\" onclick=\"convertToInteractive('df-5d855b14-bff8-4a24-8c82-34e3da923de9')\"\n",
              "              title=\"Convert this dataframe to an interactive table.\"\n",
              "              style=\"display:none;\">\n",
              "        \n",
              "  <svg xmlns=\"http://www.w3.org/2000/svg\" height=\"24px\"viewBox=\"0 0 24 24\"\n",
              "       width=\"24px\">\n",
              "    <path d=\"M0 0h24v24H0V0z\" fill=\"none\"/>\n",
              "    <path d=\"M18.56 5.44l.94 2.06.94-2.06 2.06-.94-2.06-.94-.94-2.06-.94 2.06-2.06.94zm-11 1L8.5 8.5l.94-2.06 2.06-.94-2.06-.94L8.5 2.5l-.94 2.06-2.06.94zm10 10l.94 2.06.94-2.06 2.06-.94-2.06-.94-.94-2.06-.94 2.06-2.06.94z\"/><path d=\"M17.41 7.96l-1.37-1.37c-.4-.4-.92-.59-1.43-.59-.52 0-1.04.2-1.43.59L10.3 9.45l-7.72 7.72c-.78.78-.78 2.05 0 2.83L4 21.41c.39.39.9.59 1.41.59.51 0 1.02-.2 1.41-.59l7.78-7.78 2.81-2.81c.8-.78.8-2.07 0-2.86zM5.41 20L4 18.59l7.72-7.72 1.47 1.35L5.41 20z\"/>\n",
              "  </svg>\n",
              "      </button>\n",
              "      \n",
              "  <style>\n",
              "    .colab-df-container {\n",
              "      display:flex;\n",
              "      flex-wrap:wrap;\n",
              "      gap: 12px;\n",
              "    }\n",
              "\n",
              "    .colab-df-convert {\n",
              "      background-color: #E8F0FE;\n",
              "      border: none;\n",
              "      border-radius: 50%;\n",
              "      cursor: pointer;\n",
              "      display: none;\n",
              "      fill: #1967D2;\n",
              "      height: 32px;\n",
              "      padding: 0 0 0 0;\n",
              "      width: 32px;\n",
              "    }\n",
              "\n",
              "    .colab-df-convert:hover {\n",
              "      background-color: #E2EBFA;\n",
              "      box-shadow: 0px 1px 2px rgba(60, 64, 67, 0.3), 0px 1px 3px 1px rgba(60, 64, 67, 0.15);\n",
              "      fill: #174EA6;\n",
              "    }\n",
              "\n",
              "    [theme=dark] .colab-df-convert {\n",
              "      background-color: #3B4455;\n",
              "      fill: #D2E3FC;\n",
              "    }\n",
              "\n",
              "    [theme=dark] .colab-df-convert:hover {\n",
              "      background-color: #434B5C;\n",
              "      box-shadow: 0px 1px 3px 1px rgba(0, 0, 0, 0.15);\n",
              "      filter: drop-shadow(0px 1px 2px rgba(0, 0, 0, 0.3));\n",
              "      fill: #FFFFFF;\n",
              "    }\n",
              "  </style>\n",
              "\n",
              "      <script>\n",
              "        const buttonEl =\n",
              "          document.querySelector('#df-5d855b14-bff8-4a24-8c82-34e3da923de9 button.colab-df-convert');\n",
              "        buttonEl.style.display =\n",
              "          google.colab.kernel.accessAllowed ? 'block' : 'none';\n",
              "\n",
              "        async function convertToInteractive(key) {\n",
              "          const element = document.querySelector('#df-5d855b14-bff8-4a24-8c82-34e3da923de9');\n",
              "          const dataTable =\n",
              "            await google.colab.kernel.invokeFunction('convertToInteractive',\n",
              "                                                     [key], {});\n",
              "          if (!dataTable) return;\n",
              "\n",
              "          const docLinkHtml = 'Like what you see? Visit the ' +\n",
              "            '<a target=\"_blank\" href=https://colab.research.google.com/notebooks/data_table.ipynb>data table notebook</a>'\n",
              "            + ' to learn more about interactive tables.';\n",
              "          element.innerHTML = '';\n",
              "          dataTable['output_type'] = 'display_data';\n",
              "          await google.colab.output.renderOutput(dataTable, element);\n",
              "          const docLink = document.createElement('div');\n",
              "          docLink.innerHTML = docLinkHtml;\n",
              "          element.appendChild(docLink);\n",
              "        }\n",
              "      </script>\n",
              "    </div>\n",
              "  </div>\n",
              "  "
            ]
          },
          "metadata": {},
          "execution_count": 62
        }
      ],
      "source": [
        "# month\n",
        "m = pd.DataFrame(m)\n",
        "m.describe()"
      ]
    },
    {
      "cell_type": "code",
      "execution_count": null,
      "metadata": {
        "id": "i3gMqkqCNAyS",
        "colab": {
          "base_uri": "https://localhost:8080/",
          "height": 300
        },
        "outputId": "c5aa7a15-56ed-43ac-a698-e3b69e784211"
      },
      "outputs": [
        {
          "output_type": "execute_result",
          "data": {
            "text/plain": [
              "               0\n",
              "count  1341858.0\n",
              "mean         3.0\n",
              "std          0.0\n",
              "min          3.0\n",
              "25%          3.0\n",
              "50%          3.0\n",
              "75%          3.0\n",
              "max          3.0"
            ],
            "text/html": [
              "\n",
              "  <div id=\"df-29f6886c-33fb-473c-a74e-b97b665bb163\">\n",
              "    <div class=\"colab-df-container\">\n",
              "      <div>\n",
              "<style scoped>\n",
              "    .dataframe tbody tr th:only-of-type {\n",
              "        vertical-align: middle;\n",
              "    }\n",
              "\n",
              "    .dataframe tbody tr th {\n",
              "        vertical-align: top;\n",
              "    }\n",
              "\n",
              "    .dataframe thead th {\n",
              "        text-align: right;\n",
              "    }\n",
              "</style>\n",
              "<table border=\"1\" class=\"dataframe\">\n",
              "  <thead>\n",
              "    <tr style=\"text-align: right;\">\n",
              "      <th></th>\n",
              "      <th>0</th>\n",
              "    </tr>\n",
              "  </thead>\n",
              "  <tbody>\n",
              "    <tr>\n",
              "      <th>count</th>\n",
              "      <td>1341858.0</td>\n",
              "    </tr>\n",
              "    <tr>\n",
              "      <th>mean</th>\n",
              "      <td>3.0</td>\n",
              "    </tr>\n",
              "    <tr>\n",
              "      <th>std</th>\n",
              "      <td>0.0</td>\n",
              "    </tr>\n",
              "    <tr>\n",
              "      <th>min</th>\n",
              "      <td>3.0</td>\n",
              "    </tr>\n",
              "    <tr>\n",
              "      <th>25%</th>\n",
              "      <td>3.0</td>\n",
              "    </tr>\n",
              "    <tr>\n",
              "      <th>50%</th>\n",
              "      <td>3.0</td>\n",
              "    </tr>\n",
              "    <tr>\n",
              "      <th>75%</th>\n",
              "      <td>3.0</td>\n",
              "    </tr>\n",
              "    <tr>\n",
              "      <th>max</th>\n",
              "      <td>3.0</td>\n",
              "    </tr>\n",
              "  </tbody>\n",
              "</table>\n",
              "</div>\n",
              "      <button class=\"colab-df-convert\" onclick=\"convertToInteractive('df-29f6886c-33fb-473c-a74e-b97b665bb163')\"\n",
              "              title=\"Convert this dataframe to an interactive table.\"\n",
              "              style=\"display:none;\">\n",
              "        \n",
              "  <svg xmlns=\"http://www.w3.org/2000/svg\" height=\"24px\"viewBox=\"0 0 24 24\"\n",
              "       width=\"24px\">\n",
              "    <path d=\"M0 0h24v24H0V0z\" fill=\"none\"/>\n",
              "    <path d=\"M18.56 5.44l.94 2.06.94-2.06 2.06-.94-2.06-.94-.94-2.06-.94 2.06-2.06.94zm-11 1L8.5 8.5l.94-2.06 2.06-.94-2.06-.94L8.5 2.5l-.94 2.06-2.06.94zm10 10l.94 2.06.94-2.06 2.06-.94-2.06-.94-.94-2.06-.94 2.06-2.06.94z\"/><path d=\"M17.41 7.96l-1.37-1.37c-.4-.4-.92-.59-1.43-.59-.52 0-1.04.2-1.43.59L10.3 9.45l-7.72 7.72c-.78.78-.78 2.05 0 2.83L4 21.41c.39.39.9.59 1.41.59.51 0 1.02-.2 1.41-.59l7.78-7.78 2.81-2.81c.8-.78.8-2.07 0-2.86zM5.41 20L4 18.59l7.72-7.72 1.47 1.35L5.41 20z\"/>\n",
              "  </svg>\n",
              "      </button>\n",
              "      \n",
              "  <style>\n",
              "    .colab-df-container {\n",
              "      display:flex;\n",
              "      flex-wrap:wrap;\n",
              "      gap: 12px;\n",
              "    }\n",
              "\n",
              "    .colab-df-convert {\n",
              "      background-color: #E8F0FE;\n",
              "      border: none;\n",
              "      border-radius: 50%;\n",
              "      cursor: pointer;\n",
              "      display: none;\n",
              "      fill: #1967D2;\n",
              "      height: 32px;\n",
              "      padding: 0 0 0 0;\n",
              "      width: 32px;\n",
              "    }\n",
              "\n",
              "    .colab-df-convert:hover {\n",
              "      background-color: #E2EBFA;\n",
              "      box-shadow: 0px 1px 2px rgba(60, 64, 67, 0.3), 0px 1px 3px 1px rgba(60, 64, 67, 0.15);\n",
              "      fill: #174EA6;\n",
              "    }\n",
              "\n",
              "    [theme=dark] .colab-df-convert {\n",
              "      background-color: #3B4455;\n",
              "      fill: #D2E3FC;\n",
              "    }\n",
              "\n",
              "    [theme=dark] .colab-df-convert:hover {\n",
              "      background-color: #434B5C;\n",
              "      box-shadow: 0px 1px 3px 1px rgba(0, 0, 0, 0.15);\n",
              "      filter: drop-shadow(0px 1px 2px rgba(0, 0, 0, 0.3));\n",
              "      fill: #FFFFFF;\n",
              "    }\n",
              "  </style>\n",
              "\n",
              "      <script>\n",
              "        const buttonEl =\n",
              "          document.querySelector('#df-29f6886c-33fb-473c-a74e-b97b665bb163 button.colab-df-convert');\n",
              "        buttonEl.style.display =\n",
              "          google.colab.kernel.accessAllowed ? 'block' : 'none';\n",
              "\n",
              "        async function convertToInteractive(key) {\n",
              "          const element = document.querySelector('#df-29f6886c-33fb-473c-a74e-b97b665bb163');\n",
              "          const dataTable =\n",
              "            await google.colab.kernel.invokeFunction('convertToInteractive',\n",
              "                                                     [key], {});\n",
              "          if (!dataTable) return;\n",
              "\n",
              "          const docLinkHtml = 'Like what you see? Visit the ' +\n",
              "            '<a target=\"_blank\" href=https://colab.research.google.com/notebooks/data_table.ipynb>data table notebook</a>'\n",
              "            + ' to learn more about interactive tables.';\n",
              "          element.innerHTML = '';\n",
              "          dataTable['output_type'] = 'display_data';\n",
              "          await google.colab.output.renderOutput(dataTable, element);\n",
              "          const docLink = document.createElement('div');\n",
              "          docLink.innerHTML = docLinkHtml;\n",
              "          element.appendChild(docLink);\n",
              "        }\n",
              "      </script>\n",
              "    </div>\n",
              "  </div>\n",
              "  "
            ]
          },
          "metadata": {},
          "execution_count": 63
        }
      ],
      "source": [
        "# day\n",
        "d = pd.DataFrame(d)\n",
        "d.describe()"
      ]
    },
    {
      "cell_type": "code",
      "execution_count": null,
      "metadata": {
        "id": "NLcbwFyVNFlp",
        "colab": {
          "base_uri": "https://localhost:8080/",
          "height": 300
        },
        "outputId": "68370732-eec7-4900-c6b6-72b8869397ce"
      },
      "outputs": [
        {
          "output_type": "execute_result",
          "data": {
            "text/plain": [
              "                  0\n",
              "count  1.341858e+06\n",
              "mean   1.028139e+01\n",
              "std    4.592013e-01\n",
              "min    9.000000e+00\n",
              "25%    1.000000e+01\n",
              "50%    1.000000e+01\n",
              "75%    1.100000e+01\n",
              "max    1.100000e+01"
            ],
            "text/html": [
              "\n",
              "  <div id=\"df-9fa270fe-c699-49b9-96e6-0018c89d7d0d\">\n",
              "    <div class=\"colab-df-container\">\n",
              "      <div>\n",
              "<style scoped>\n",
              "    .dataframe tbody tr th:only-of-type {\n",
              "        vertical-align: middle;\n",
              "    }\n",
              "\n",
              "    .dataframe tbody tr th {\n",
              "        vertical-align: top;\n",
              "    }\n",
              "\n",
              "    .dataframe thead th {\n",
              "        text-align: right;\n",
              "    }\n",
              "</style>\n",
              "<table border=\"1\" class=\"dataframe\">\n",
              "  <thead>\n",
              "    <tr style=\"text-align: right;\">\n",
              "      <th></th>\n",
              "      <th>0</th>\n",
              "    </tr>\n",
              "  </thead>\n",
              "  <tbody>\n",
              "    <tr>\n",
              "      <th>count</th>\n",
              "      <td>1.341858e+06</td>\n",
              "    </tr>\n",
              "    <tr>\n",
              "      <th>mean</th>\n",
              "      <td>1.028139e+01</td>\n",
              "    </tr>\n",
              "    <tr>\n",
              "      <th>std</th>\n",
              "      <td>4.592013e-01</td>\n",
              "    </tr>\n",
              "    <tr>\n",
              "      <th>min</th>\n",
              "      <td>9.000000e+00</td>\n",
              "    </tr>\n",
              "    <tr>\n",
              "      <th>25%</th>\n",
              "      <td>1.000000e+01</td>\n",
              "    </tr>\n",
              "    <tr>\n",
              "      <th>50%</th>\n",
              "      <td>1.000000e+01</td>\n",
              "    </tr>\n",
              "    <tr>\n",
              "      <th>75%</th>\n",
              "      <td>1.100000e+01</td>\n",
              "    </tr>\n",
              "    <tr>\n",
              "      <th>max</th>\n",
              "      <td>1.100000e+01</td>\n",
              "    </tr>\n",
              "  </tbody>\n",
              "</table>\n",
              "</div>\n",
              "      <button class=\"colab-df-convert\" onclick=\"convertToInteractive('df-9fa270fe-c699-49b9-96e6-0018c89d7d0d')\"\n",
              "              title=\"Convert this dataframe to an interactive table.\"\n",
              "              style=\"display:none;\">\n",
              "        \n",
              "  <svg xmlns=\"http://www.w3.org/2000/svg\" height=\"24px\"viewBox=\"0 0 24 24\"\n",
              "       width=\"24px\">\n",
              "    <path d=\"M0 0h24v24H0V0z\" fill=\"none\"/>\n",
              "    <path d=\"M18.56 5.44l.94 2.06.94-2.06 2.06-.94-2.06-.94-.94-2.06-.94 2.06-2.06.94zm-11 1L8.5 8.5l.94-2.06 2.06-.94-2.06-.94L8.5 2.5l-.94 2.06-2.06.94zm10 10l.94 2.06.94-2.06 2.06-.94-2.06-.94-.94-2.06-.94 2.06-2.06.94z\"/><path d=\"M17.41 7.96l-1.37-1.37c-.4-.4-.92-.59-1.43-.59-.52 0-1.04.2-1.43.59L10.3 9.45l-7.72 7.72c-.78.78-.78 2.05 0 2.83L4 21.41c.39.39.9.59 1.41.59.51 0 1.02-.2 1.41-.59l7.78-7.78 2.81-2.81c.8-.78.8-2.07 0-2.86zM5.41 20L4 18.59l7.72-7.72 1.47 1.35L5.41 20z\"/>\n",
              "  </svg>\n",
              "      </button>\n",
              "      \n",
              "  <style>\n",
              "    .colab-df-container {\n",
              "      display:flex;\n",
              "      flex-wrap:wrap;\n",
              "      gap: 12px;\n",
              "    }\n",
              "\n",
              "    .colab-df-convert {\n",
              "      background-color: #E8F0FE;\n",
              "      border: none;\n",
              "      border-radius: 50%;\n",
              "      cursor: pointer;\n",
              "      display: none;\n",
              "      fill: #1967D2;\n",
              "      height: 32px;\n",
              "      padding: 0 0 0 0;\n",
              "      width: 32px;\n",
              "    }\n",
              "\n",
              "    .colab-df-convert:hover {\n",
              "      background-color: #E2EBFA;\n",
              "      box-shadow: 0px 1px 2px rgba(60, 64, 67, 0.3), 0px 1px 3px 1px rgba(60, 64, 67, 0.15);\n",
              "      fill: #174EA6;\n",
              "    }\n",
              "\n",
              "    [theme=dark] .colab-df-convert {\n",
              "      background-color: #3B4455;\n",
              "      fill: #D2E3FC;\n",
              "    }\n",
              "\n",
              "    [theme=dark] .colab-df-convert:hover {\n",
              "      background-color: #434B5C;\n",
              "      box-shadow: 0px 1px 3px 1px rgba(0, 0, 0, 0.15);\n",
              "      filter: drop-shadow(0px 1px 2px rgba(0, 0, 0, 0.3));\n",
              "      fill: #FFFFFF;\n",
              "    }\n",
              "  </style>\n",
              "\n",
              "      <script>\n",
              "        const buttonEl =\n",
              "          document.querySelector('#df-9fa270fe-c699-49b9-96e6-0018c89d7d0d button.colab-df-convert');\n",
              "        buttonEl.style.display =\n",
              "          google.colab.kernel.accessAllowed ? 'block' : 'none';\n",
              "\n",
              "        async function convertToInteractive(key) {\n",
              "          const element = document.querySelector('#df-9fa270fe-c699-49b9-96e6-0018c89d7d0d');\n",
              "          const dataTable =\n",
              "            await google.colab.kernel.invokeFunction('convertToInteractive',\n",
              "                                                     [key], {});\n",
              "          if (!dataTable) return;\n",
              "\n",
              "          const docLinkHtml = 'Like what you see? Visit the ' +\n",
              "            '<a target=\"_blank\" href=https://colab.research.google.com/notebooks/data_table.ipynb>data table notebook</a>'\n",
              "            + ' to learn more about interactive tables.';\n",
              "          element.innerHTML = '';\n",
              "          dataTable['output_type'] = 'display_data';\n",
              "          await google.colab.output.renderOutput(dataTable, element);\n",
              "          const docLink = document.createElement('div');\n",
              "          docLink.innerHTML = docLinkHtml;\n",
              "          element.appendChild(docLink);\n",
              "        }\n",
              "      </script>\n",
              "    </div>\n",
              "  </div>\n",
              "  "
            ]
          },
          "metadata": {},
          "execution_count": 64
        }
      ],
      "source": [
        "# hour\n",
        "h = pd.DataFrame(h)\n",
        "h.describe()"
      ]
    },
    {
      "cell_type": "code",
      "execution_count": null,
      "metadata": {
        "id": "aNRcpoYeNLGn",
        "colab": {
          "base_uri": "https://localhost:8080/",
          "height": 300
        },
        "outputId": "50835227-80e3-4813-affb-702b4eee9928"
      },
      "outputs": [
        {
          "output_type": "execute_result",
          "data": {
            "text/plain": [
              "                  0\n",
              "count  1.341858e+06\n",
              "mean   2.102478e+01\n",
              "std    1.913499e+01\n",
              "min    0.000000e+00\n",
              "25%    1.000000e+00\n",
              "50%    9.000000e+00\n",
              "75%    3.600000e+01\n",
              "max    5.900000e+01"
            ],
            "text/html": [
              "\n",
              "  <div id=\"df-4524377f-6d29-42d4-9166-6ba4801c8aae\">\n",
              "    <div class=\"colab-df-container\">\n",
              "      <div>\n",
              "<style scoped>\n",
              "    .dataframe tbody tr th:only-of-type {\n",
              "        vertical-align: middle;\n",
              "    }\n",
              "\n",
              "    .dataframe tbody tr th {\n",
              "        vertical-align: top;\n",
              "    }\n",
              "\n",
              "    .dataframe thead th {\n",
              "        text-align: right;\n",
              "    }\n",
              "</style>\n",
              "<table border=\"1\" class=\"dataframe\">\n",
              "  <thead>\n",
              "    <tr style=\"text-align: right;\">\n",
              "      <th></th>\n",
              "      <th>0</th>\n",
              "    </tr>\n",
              "  </thead>\n",
              "  <tbody>\n",
              "    <tr>\n",
              "      <th>count</th>\n",
              "      <td>1.341858e+06</td>\n",
              "    </tr>\n",
              "    <tr>\n",
              "      <th>mean</th>\n",
              "      <td>2.102478e+01</td>\n",
              "    </tr>\n",
              "    <tr>\n",
              "      <th>std</th>\n",
              "      <td>1.913499e+01</td>\n",
              "    </tr>\n",
              "    <tr>\n",
              "      <th>min</th>\n",
              "      <td>0.000000e+00</td>\n",
              "    </tr>\n",
              "    <tr>\n",
              "      <th>25%</th>\n",
              "      <td>1.000000e+00</td>\n",
              "    </tr>\n",
              "    <tr>\n",
              "      <th>50%</th>\n",
              "      <td>9.000000e+00</td>\n",
              "    </tr>\n",
              "    <tr>\n",
              "      <th>75%</th>\n",
              "      <td>3.600000e+01</td>\n",
              "    </tr>\n",
              "    <tr>\n",
              "      <th>max</th>\n",
              "      <td>5.900000e+01</td>\n",
              "    </tr>\n",
              "  </tbody>\n",
              "</table>\n",
              "</div>\n",
              "      <button class=\"colab-df-convert\" onclick=\"convertToInteractive('df-4524377f-6d29-42d4-9166-6ba4801c8aae')\"\n",
              "              title=\"Convert this dataframe to an interactive table.\"\n",
              "              style=\"display:none;\">\n",
              "        \n",
              "  <svg xmlns=\"http://www.w3.org/2000/svg\" height=\"24px\"viewBox=\"0 0 24 24\"\n",
              "       width=\"24px\">\n",
              "    <path d=\"M0 0h24v24H0V0z\" fill=\"none\"/>\n",
              "    <path d=\"M18.56 5.44l.94 2.06.94-2.06 2.06-.94-2.06-.94-.94-2.06-.94 2.06-2.06.94zm-11 1L8.5 8.5l.94-2.06 2.06-.94-2.06-.94L8.5 2.5l-.94 2.06-2.06.94zm10 10l.94 2.06.94-2.06 2.06-.94-2.06-.94-.94-2.06-.94 2.06-2.06.94z\"/><path d=\"M17.41 7.96l-1.37-1.37c-.4-.4-.92-.59-1.43-.59-.52 0-1.04.2-1.43.59L10.3 9.45l-7.72 7.72c-.78.78-.78 2.05 0 2.83L4 21.41c.39.39.9.59 1.41.59.51 0 1.02-.2 1.41-.59l7.78-7.78 2.81-2.81c.8-.78.8-2.07 0-2.86zM5.41 20L4 18.59l7.72-7.72 1.47 1.35L5.41 20z\"/>\n",
              "  </svg>\n",
              "      </button>\n",
              "      \n",
              "  <style>\n",
              "    .colab-df-container {\n",
              "      display:flex;\n",
              "      flex-wrap:wrap;\n",
              "      gap: 12px;\n",
              "    }\n",
              "\n",
              "    .colab-df-convert {\n",
              "      background-color: #E8F0FE;\n",
              "      border: none;\n",
              "      border-radius: 50%;\n",
              "      cursor: pointer;\n",
              "      display: none;\n",
              "      fill: #1967D2;\n",
              "      height: 32px;\n",
              "      padding: 0 0 0 0;\n",
              "      width: 32px;\n",
              "    }\n",
              "\n",
              "    .colab-df-convert:hover {\n",
              "      background-color: #E2EBFA;\n",
              "      box-shadow: 0px 1px 2px rgba(60, 64, 67, 0.3), 0px 1px 3px 1px rgba(60, 64, 67, 0.15);\n",
              "      fill: #174EA6;\n",
              "    }\n",
              "\n",
              "    [theme=dark] .colab-df-convert {\n",
              "      background-color: #3B4455;\n",
              "      fill: #D2E3FC;\n",
              "    }\n",
              "\n",
              "    [theme=dark] .colab-df-convert:hover {\n",
              "      background-color: #434B5C;\n",
              "      box-shadow: 0px 1px 3px 1px rgba(0, 0, 0, 0.15);\n",
              "      filter: drop-shadow(0px 1px 2px rgba(0, 0, 0, 0.3));\n",
              "      fill: #FFFFFF;\n",
              "    }\n",
              "  </style>\n",
              "\n",
              "      <script>\n",
              "        const buttonEl =\n",
              "          document.querySelector('#df-4524377f-6d29-42d4-9166-6ba4801c8aae button.colab-df-convert');\n",
              "        buttonEl.style.display =\n",
              "          google.colab.kernel.accessAllowed ? 'block' : 'none';\n",
              "\n",
              "        async function convertToInteractive(key) {\n",
              "          const element = document.querySelector('#df-4524377f-6d29-42d4-9166-6ba4801c8aae');\n",
              "          const dataTable =\n",
              "            await google.colab.kernel.invokeFunction('convertToInteractive',\n",
              "                                                     [key], {});\n",
              "          if (!dataTable) return;\n",
              "\n",
              "          const docLinkHtml = 'Like what you see? Visit the ' +\n",
              "            '<a target=\"_blank\" href=https://colab.research.google.com/notebooks/data_table.ipynb>data table notebook</a>'\n",
              "            + ' to learn more about interactive tables.';\n",
              "          element.innerHTML = '';\n",
              "          dataTable['output_type'] = 'display_data';\n",
              "          await google.colab.output.renderOutput(dataTable, element);\n",
              "          const docLink = document.createElement('div');\n",
              "          docLink.innerHTML = docLinkHtml;\n",
              "          element.appendChild(docLink);\n",
              "        }\n",
              "      </script>\n",
              "    </div>\n",
              "  </div>\n",
              "  "
            ]
          },
          "metadata": {},
          "execution_count": 65
        }
      ],
      "source": [
        "# minutes\n",
        "mi = pd.DataFrame(mi)\n",
        "mi.describe()"
      ]
    },
    {
      "cell_type": "code",
      "execution_count": null,
      "metadata": {
        "id": "EDNiwdSLFWFG"
      },
      "outputs": [],
      "source": [
        "# Add to df as a new column if std != 0\n",
        "\n",
        "# df['year'] = y\n",
        "# df['month'] = m\n",
        "# df['day'] = d\n",
        "df['hour'] = h\n",
        "df['minute'] = mi"
      ]
    },
    {
      "cell_type": "code",
      "execution_count": null,
      "metadata": {
        "id": "SXtqEYstGwdl"
      },
      "outputs": [],
      "source": [
        "df = df.drop(' Timestamp',axis=1)"
      ]
    },
    {
      "cell_type": "code",
      "execution_count": null,
      "metadata": {
        "id": "MAthppHXqd30",
        "colab": {
          "base_uri": "https://localhost:8080/"
        },
        "outputId": "abc4a913-a890-4d85-f9e9-f62185757dd8"
      },
      "outputs": [
        {
          "output_type": "stream",
          "name": "stdout",
          "text": [
            "ddos csv shape:  (1341858, 75)\n"
          ]
        }
      ],
      "source": [
        "print(\"ddos csv shape: \",df.shape)"
      ]
    },
    {
      "cell_type": "code",
      "execution_count": null,
      "metadata": {
        "id": "soR7yIepFcQp",
        "colab": {
          "base_uri": "https://localhost:8080/"
        },
        "outputId": "1d3dfdbf-dc5a-429c-ad96-99e3c23db643"
      },
      "outputs": [
        {
          "output_type": "stream",
          "name": "stdout",
          "text": [
            "<class 'pandas.core.frame.DataFrame'>\n",
            "RangeIndex: 1341858 entries, 0 to 1341857\n",
            "Data columns (total 75 columns):\n",
            " #   Column                        Non-Null Count    Dtype  \n",
            "---  ------                        --------------    -----  \n",
            " 0   SourceIP                      1341858 non-null  int64  \n",
            " 1    Source Port                  1341858 non-null  int64  \n",
            " 2   DestinationIP                 1341858 non-null  int64  \n",
            " 3    Destination Port             1341858 non-null  int64  \n",
            " 4    Protocol                     1341858 non-null  int64  \n",
            " 5    Flow Duration                1341858 non-null  int64  \n",
            " 6    Total Fwd Packets            1341858 non-null  int64  \n",
            " 7    Total Backward Packets       1341858 non-null  int64  \n",
            " 8   Total Length of Fwd Packets   1341858 non-null  float64\n",
            " 9    Total Length of Bwd Packets  1341858 non-null  float64\n",
            " 10   Fwd Packet Length Max        1341858 non-null  float64\n",
            " 11   Fwd Packet Length Min        1341858 non-null  float64\n",
            " 12   Fwd Packet Length Mean       1341858 non-null  float64\n",
            " 13   Fwd Packet Length Std        1341858 non-null  float64\n",
            " 14  Bwd Packet Length Max         1341858 non-null  float64\n",
            " 15   Bwd Packet Length Min        1341858 non-null  float64\n",
            " 16   Bwd Packet Length Mean       1341858 non-null  float64\n",
            " 17   Bwd Packet Length Std        1341858 non-null  float64\n",
            " 18  Flow Bytes/s                  1341858 non-null  float64\n",
            " 19   Flow Packets/s               1341858 non-null  float64\n",
            " 20   Flow IAT Mean                1341858 non-null  float64\n",
            " 21   Flow IAT Std                 1341858 non-null  float64\n",
            " 22   Flow IAT Max                 1341858 non-null  float64\n",
            " 23   Flow IAT Min                 1341858 non-null  float64\n",
            " 24  Fwd IAT Total                 1341858 non-null  float64\n",
            " 25   Fwd IAT Mean                 1341858 non-null  float64\n",
            " 26   Fwd IAT Std                  1341858 non-null  float64\n",
            " 27   Fwd IAT Max                  1341858 non-null  float64\n",
            " 28   Fwd IAT Min                  1341858 non-null  float64\n",
            " 29  Bwd IAT Total                 1341858 non-null  float64\n",
            " 30   Bwd IAT Mean                 1341858 non-null  float64\n",
            " 31   Bwd IAT Std                  1341858 non-null  float64\n",
            " 32   Bwd IAT Max                  1341858 non-null  float64\n",
            " 33   Bwd IAT Min                  1341858 non-null  float64\n",
            " 34  Fwd PSH Flags                 1341858 non-null  int64  \n",
            " 35   Fwd Header Length            1341858 non-null  int64  \n",
            " 36   Bwd Header Length            1341858 non-null  int64  \n",
            " 37  Fwd Packets/s                 1341858 non-null  float64\n",
            " 38   Bwd Packets/s                1341858 non-null  float64\n",
            " 39   Min Packet Length            1341858 non-null  float64\n",
            " 40   Max Packet Length            1341858 non-null  float64\n",
            " 41   Packet Length Mean           1341858 non-null  float64\n",
            " 42   Packet Length Std            1341858 non-null  float64\n",
            " 43   Packet Length Variance       1341858 non-null  float64\n",
            " 44   SYN Flag Count               1341858 non-null  int64  \n",
            " 45   RST Flag Count               1341858 non-null  int64  \n",
            " 46   ACK Flag Count               1341858 non-null  int64  \n",
            " 47   URG Flag Count               1341858 non-null  int64  \n",
            " 48   CWE Flag Count               1341858 non-null  int64  \n",
            " 49   Down/Up Ratio                1341858 non-null  float64\n",
            " 50   Average Packet Size          1341858 non-null  float64\n",
            " 51   Avg Fwd Segment Size         1341858 non-null  float64\n",
            " 52   Avg Bwd Segment Size         1341858 non-null  float64\n",
            " 53   Fwd Header Length.1          1341858 non-null  int64  \n",
            " 54  Subflow Fwd Packets           1341858 non-null  int64  \n",
            " 55   Subflow Fwd Bytes            1341858 non-null  int64  \n",
            " 56   Subflow Bwd Packets          1341858 non-null  int64  \n",
            " 57   Subflow Bwd Bytes            1341858 non-null  int64  \n",
            " 58  Init_Win_bytes_forward        1341858 non-null  int64  \n",
            " 59   Init_Win_bytes_backward      1341858 non-null  int64  \n",
            " 60   act_data_pkt_fwd             1341858 non-null  int64  \n",
            " 61   min_seg_size_forward         1341858 non-null  int64  \n",
            " 62  Active Mean                   1341858 non-null  float64\n",
            " 63   Active Std                   1341858 non-null  float64\n",
            " 64   Active Max                   1341858 non-null  float64\n",
            " 65   Active Min                   1341858 non-null  float64\n",
            " 66  Idle Mean                     1341858 non-null  float64\n",
            " 67   Idle Std                     1341858 non-null  float64\n",
            " 68   Idle Max                     1341858 non-null  float64\n",
            " 69   Idle Min                     1341858 non-null  float64\n",
            " 70  SimillarHTTP                  1341858 non-null  int64  \n",
            " 71   Inbound                      1341858 non-null  int64  \n",
            " 72  Label                         1341858 non-null  int64  \n",
            " 73  hour                          1341858 non-null  int64  \n",
            " 74  minute                        1341858 non-null  int64  \n",
            "dtypes: float64(45), int64(30)\n",
            "memory usage: 767.8 MB\n"
          ]
        }
      ],
      "source": [
        "df.info()"
      ]
    },
    {
      "cell_type": "markdown",
      "metadata": {
        "id": "gqEuz8ml_64P"
      },
      "source": [
        "## Outlier detection"
      ]
    },
    {
      "cell_type": "code",
      "execution_count": null,
      "metadata": {
        "id": "GebuFkxRAEUF",
        "colab": {
          "base_uri": "https://localhost:8080/"
        },
        "outputId": "cf4b5ef7-2deb-4f80-db4d-7ca33ce0566b"
      },
      "outputs": [
        {
          "output_type": "stream",
          "name": "stdout",
          "text": [
            "ddos csv shape:  (1341858, 75)\n"
          ]
        }
      ],
      "source": [
        "print('ddos csv shape: ', df.shape)"
      ]
    },
    {
      "cell_type": "code",
      "execution_count": null,
      "metadata": {
        "id": "ZphYLzR7aY67",
        "colab": {
          "base_uri": "https://localhost:8080/"
        },
        "outputId": "99cd305f-f5bf-4790-e483-c70890288dc3"
      },
      "outputs": [
        {
          "output_type": "execute_result",
          "data": {
            "text/plain": [
              "1    383183\n",
              "6    278059\n",
              "5    265120\n",
              "3    205744\n",
              "4    186960\n",
              "0     10988\n",
              "2      9931\n",
              "7      1873\n",
              "Name: Label, dtype: int64"
            ]
          },
          "metadata": {},
          "execution_count": 71
        }
      ],
      "source": [
        "df['Label'].value_counts()"
      ]
    },
    {
      "cell_type": "code",
      "source": [
        "# Split then drop out outlier s\n",
        "df0 = df[df['Label'] == 0]\n",
        "df1 = df[df['Label'] == 1]\n",
        "df2 = df[df['Label'] == 2]\n",
        "df3 = df[df['Label'] == 3]\n",
        "df4 = df[df['Label'] == 4]\n",
        "df5 = df[df['Label'] == 5]\n",
        "df6 = df[df['Label'] == 6]\n",
        "df7 = df[df['Label'] == 7]"
      ],
      "metadata": {
        "id": "Okydl5K1pFRw"
      },
      "execution_count": null,
      "outputs": []
    },
    {
      "cell_type": "code",
      "execution_count": null,
      "metadata": {
        "id": "Sjg9TswMRgDm",
        "colab": {
          "base_uri": "https://localhost:8080/"
        },
        "outputId": "84ed11e3-2736-4840-8a4d-790317a5f423"
      },
      "outputs": [
        {
          "output_type": "stream",
          "name": "stdout",
          "text": [
            "\n",
            "\n",
            "outlier detection df 0\n",
            "shape before outlier detection =  (10988, 75)\n",
            "shape after outlier detection =  (7950, 75)\n",
            "\n",
            "\n",
            "outlier detection df 1\n",
            "shape before outlier detection =  (383183, 75)\n",
            "shape after outlier detection =  (167431, 75)\n",
            "\n",
            "\n",
            "outlier detection df 2\n",
            "shape before outlier detection =  (9931, 75)\n",
            "shape after outlier detection =  (3383, 75)\n",
            "\n",
            "\n",
            "outlier detection df 3\n",
            "shape before outlier detection =  (205744, 75)\n",
            "shape after outlier detection =  (111071, 75)\n",
            "\n",
            "\n",
            "outlier detection df 4\n",
            "shape before outlier detection =  (186960, 75)\n",
            "shape after outlier detection =  (73569, 75)\n",
            "\n",
            "\n",
            "outlier detection df 5\n",
            "shape before outlier detection =  (265120, 75)\n",
            "shape after outlier detection =  (164718, 75)\n",
            "\n",
            "\n",
            "outlier detection df 6\n",
            "shape before outlier detection =  (278059, 75)\n",
            "shape after outlier detection =  (53392, 75)\n",
            "\n",
            "\n",
            "outlier detection df 7\n",
            "shape before outlier detection =  (1873, 75)\n",
            "shape after outlier detection =  (977, 75)\n"
          ]
        }
      ],
      "source": [
        "# Detect and drop out outliers with IQR in each df s\n",
        "for i in range(8):\n",
        "\n",
        "  data = locals()['df'+str(i)]\n",
        "  print('\\n\\noutlier detection df', i)\n",
        "\n",
        "  print('shape before outlier detection = ', data.shape)\n",
        "\n",
        "  Q1 = data.quantile(0.25)\n",
        "  Q3 = data.quantile(0.75)\n",
        "  IQR = Q3 - Q1\n",
        "\n",
        "  data.drop(data.index[~((data < (Q1 - 1.5 * IQR)) |(data > (Q3 + 1.5 * IQR))).any(axis=1)], inplace=True)\n",
        "  # Reset index\n",
        "  data.reset_index(drop=True, inplace=True)\n",
        "\n",
        "  print('shape after outlier detection = ', data.shape)"
      ]
    },
    {
      "cell_type": "code",
      "source": [
        "# Concat dfs\n",
        "df = pd.concat([df0, df1, df2, df3, df4, df5, df6, df7], ignore_index=True)\n",
        "\n",
        "# # Drop out unnamed columns\n",
        "# df = df.drop(['Unnamed: 0'], axis=1)"
      ],
      "metadata": {
        "id": "0bA-pqVh03vW"
      },
      "execution_count": null,
      "outputs": []
    },
    {
      "cell_type": "code",
      "source": [
        "df.head()"
      ],
      "metadata": {
        "id": "n6Xe21oxGK6-",
        "colab": {
          "base_uri": "https://localhost:8080/",
          "height": 351
        },
        "outputId": "3265f837-fb88-4ae8-c96a-430d69426205"
      },
      "execution_count": null,
      "outputs": [
        {
          "output_type": "execute_result",
          "data": {
            "text/plain": [
              "   SourceIP   Source Port  DestinationIP   Destination Port   Protocol  \\\n",
              "0       327         60015            287                 80          6   \n",
              "1       243            80            386              60015          6   \n",
              "2       327         60015            287                 80          6   \n",
              "3       271           443            386              60007          6   \n",
              "4       325         55310            299                443          6   \n",
              "\n",
              "    Flow Duration   Total Fwd Packets   Total Backward Packets  \\\n",
              "0               1                   2                        0   \n",
              "1              47                   2                        0   \n",
              "2               1                   2                        0   \n",
              "3         8001234                   4                        0   \n",
              "4       112729696                  13                        6   \n",
              "\n",
              "   Total Length of Fwd Packets   Total Length of Bwd Packets  ...  \\\n",
              "0                         12.0                           0.0  ...   \n",
              "1                         12.0                           0.0  ...   \n",
              "2                         12.0                           0.0  ...   \n",
              "3                          0.0                           0.0  ...   \n",
              "4                        368.0                         196.0  ...   \n",
              "\n",
              "    Active Min   Idle Mean      Idle Std    Idle Max    Idle Min  \\\n",
              "0          0.0         0.0  0.000000e+00         0.0         0.0   \n",
              "1          0.0         0.0  0.000000e+00         0.0         0.0   \n",
              "2          0.0         0.0  0.000000e+00         0.0         0.0   \n",
              "3          1.0   8001232.0  0.000000e+00   8001232.0   8001232.0   \n",
              "4      62155.0  56301460.5  3.535899e+06  58801719.0  53801202.0   \n",
              "\n",
              "   SimillarHTTP   Inbound  Label  hour  minute  \n",
              "0             0         0      0    10       9  \n",
              "1             0         1      0    10       9  \n",
              "2             0         0      0    10       9  \n",
              "3             0         1      0    10       9  \n",
              "4             0         0      0    10       9  \n",
              "\n",
              "[5 rows x 75 columns]"
            ],
            "text/html": [
              "\n",
              "  <div id=\"df-4ee997b5-3ce1-4b49-b60c-fa7d99f7a8c8\">\n",
              "    <div class=\"colab-df-container\">\n",
              "      <div>\n",
              "<style scoped>\n",
              "    .dataframe tbody tr th:only-of-type {\n",
              "        vertical-align: middle;\n",
              "    }\n",
              "\n",
              "    .dataframe tbody tr th {\n",
              "        vertical-align: top;\n",
              "    }\n",
              "\n",
              "    .dataframe thead th {\n",
              "        text-align: right;\n",
              "    }\n",
              "</style>\n",
              "<table border=\"1\" class=\"dataframe\">\n",
              "  <thead>\n",
              "    <tr style=\"text-align: right;\">\n",
              "      <th></th>\n",
              "      <th>SourceIP</th>\n",
              "      <th>Source Port</th>\n",
              "      <th>DestinationIP</th>\n",
              "      <th>Destination Port</th>\n",
              "      <th>Protocol</th>\n",
              "      <th>Flow Duration</th>\n",
              "      <th>Total Fwd Packets</th>\n",
              "      <th>Total Backward Packets</th>\n",
              "      <th>Total Length of Fwd Packets</th>\n",
              "      <th>Total Length of Bwd Packets</th>\n",
              "      <th>...</th>\n",
              "      <th>Active Min</th>\n",
              "      <th>Idle Mean</th>\n",
              "      <th>Idle Std</th>\n",
              "      <th>Idle Max</th>\n",
              "      <th>Idle Min</th>\n",
              "      <th>SimillarHTTP</th>\n",
              "      <th>Inbound</th>\n",
              "      <th>Label</th>\n",
              "      <th>hour</th>\n",
              "      <th>minute</th>\n",
              "    </tr>\n",
              "  </thead>\n",
              "  <tbody>\n",
              "    <tr>\n",
              "      <th>0</th>\n",
              "      <td>327</td>\n",
              "      <td>60015</td>\n",
              "      <td>287</td>\n",
              "      <td>80</td>\n",
              "      <td>6</td>\n",
              "      <td>1</td>\n",
              "      <td>2</td>\n",
              "      <td>0</td>\n",
              "      <td>12.0</td>\n",
              "      <td>0.0</td>\n",
              "      <td>...</td>\n",
              "      <td>0.0</td>\n",
              "      <td>0.0</td>\n",
              "      <td>0.000000e+00</td>\n",
              "      <td>0.0</td>\n",
              "      <td>0.0</td>\n",
              "      <td>0</td>\n",
              "      <td>0</td>\n",
              "      <td>0</td>\n",
              "      <td>10</td>\n",
              "      <td>9</td>\n",
              "    </tr>\n",
              "    <tr>\n",
              "      <th>1</th>\n",
              "      <td>243</td>\n",
              "      <td>80</td>\n",
              "      <td>386</td>\n",
              "      <td>60015</td>\n",
              "      <td>6</td>\n",
              "      <td>47</td>\n",
              "      <td>2</td>\n",
              "      <td>0</td>\n",
              "      <td>12.0</td>\n",
              "      <td>0.0</td>\n",
              "      <td>...</td>\n",
              "      <td>0.0</td>\n",
              "      <td>0.0</td>\n",
              "      <td>0.000000e+00</td>\n",
              "      <td>0.0</td>\n",
              "      <td>0.0</td>\n",
              "      <td>0</td>\n",
              "      <td>1</td>\n",
              "      <td>0</td>\n",
              "      <td>10</td>\n",
              "      <td>9</td>\n",
              "    </tr>\n",
              "    <tr>\n",
              "      <th>2</th>\n",
              "      <td>327</td>\n",
              "      <td>60015</td>\n",
              "      <td>287</td>\n",
              "      <td>80</td>\n",
              "      <td>6</td>\n",
              "      <td>1</td>\n",
              "      <td>2</td>\n",
              "      <td>0</td>\n",
              "      <td>12.0</td>\n",
              "      <td>0.0</td>\n",
              "      <td>...</td>\n",
              "      <td>0.0</td>\n",
              "      <td>0.0</td>\n",
              "      <td>0.000000e+00</td>\n",
              "      <td>0.0</td>\n",
              "      <td>0.0</td>\n",
              "      <td>0</td>\n",
              "      <td>0</td>\n",
              "      <td>0</td>\n",
              "      <td>10</td>\n",
              "      <td>9</td>\n",
              "    </tr>\n",
              "    <tr>\n",
              "      <th>3</th>\n",
              "      <td>271</td>\n",
              "      <td>443</td>\n",
              "      <td>386</td>\n",
              "      <td>60007</td>\n",
              "      <td>6</td>\n",
              "      <td>8001234</td>\n",
              "      <td>4</td>\n",
              "      <td>0</td>\n",
              "      <td>0.0</td>\n",
              "      <td>0.0</td>\n",
              "      <td>...</td>\n",
              "      <td>1.0</td>\n",
              "      <td>8001232.0</td>\n",
              "      <td>0.000000e+00</td>\n",
              "      <td>8001232.0</td>\n",
              "      <td>8001232.0</td>\n",
              "      <td>0</td>\n",
              "      <td>1</td>\n",
              "      <td>0</td>\n",
              "      <td>10</td>\n",
              "      <td>9</td>\n",
              "    </tr>\n",
              "    <tr>\n",
              "      <th>4</th>\n",
              "      <td>325</td>\n",
              "      <td>55310</td>\n",
              "      <td>299</td>\n",
              "      <td>443</td>\n",
              "      <td>6</td>\n",
              "      <td>112729696</td>\n",
              "      <td>13</td>\n",
              "      <td>6</td>\n",
              "      <td>368.0</td>\n",
              "      <td>196.0</td>\n",
              "      <td>...</td>\n",
              "      <td>62155.0</td>\n",
              "      <td>56301460.5</td>\n",
              "      <td>3.535899e+06</td>\n",
              "      <td>58801719.0</td>\n",
              "      <td>53801202.0</td>\n",
              "      <td>0</td>\n",
              "      <td>0</td>\n",
              "      <td>0</td>\n",
              "      <td>10</td>\n",
              "      <td>9</td>\n",
              "    </tr>\n",
              "  </tbody>\n",
              "</table>\n",
              "<p>5 rows × 75 columns</p>\n",
              "</div>\n",
              "      <button class=\"colab-df-convert\" onclick=\"convertToInteractive('df-4ee997b5-3ce1-4b49-b60c-fa7d99f7a8c8')\"\n",
              "              title=\"Convert this dataframe to an interactive table.\"\n",
              "              style=\"display:none;\">\n",
              "        \n",
              "  <svg xmlns=\"http://www.w3.org/2000/svg\" height=\"24px\"viewBox=\"0 0 24 24\"\n",
              "       width=\"24px\">\n",
              "    <path d=\"M0 0h24v24H0V0z\" fill=\"none\"/>\n",
              "    <path d=\"M18.56 5.44l.94 2.06.94-2.06 2.06-.94-2.06-.94-.94-2.06-.94 2.06-2.06.94zm-11 1L8.5 8.5l.94-2.06 2.06-.94-2.06-.94L8.5 2.5l-.94 2.06-2.06.94zm10 10l.94 2.06.94-2.06 2.06-.94-2.06-.94-.94-2.06-.94 2.06-2.06.94z\"/><path d=\"M17.41 7.96l-1.37-1.37c-.4-.4-.92-.59-1.43-.59-.52 0-1.04.2-1.43.59L10.3 9.45l-7.72 7.72c-.78.78-.78 2.05 0 2.83L4 21.41c.39.39.9.59 1.41.59.51 0 1.02-.2 1.41-.59l7.78-7.78 2.81-2.81c.8-.78.8-2.07 0-2.86zM5.41 20L4 18.59l7.72-7.72 1.47 1.35L5.41 20z\"/>\n",
              "  </svg>\n",
              "      </button>\n",
              "      \n",
              "  <style>\n",
              "    .colab-df-container {\n",
              "      display:flex;\n",
              "      flex-wrap:wrap;\n",
              "      gap: 12px;\n",
              "    }\n",
              "\n",
              "    .colab-df-convert {\n",
              "      background-color: #E8F0FE;\n",
              "      border: none;\n",
              "      border-radius: 50%;\n",
              "      cursor: pointer;\n",
              "      display: none;\n",
              "      fill: #1967D2;\n",
              "      height: 32px;\n",
              "      padding: 0 0 0 0;\n",
              "      width: 32px;\n",
              "    }\n",
              "\n",
              "    .colab-df-convert:hover {\n",
              "      background-color: #E2EBFA;\n",
              "      box-shadow: 0px 1px 2px rgba(60, 64, 67, 0.3), 0px 1px 3px 1px rgba(60, 64, 67, 0.15);\n",
              "      fill: #174EA6;\n",
              "    }\n",
              "\n",
              "    [theme=dark] .colab-df-convert {\n",
              "      background-color: #3B4455;\n",
              "      fill: #D2E3FC;\n",
              "    }\n",
              "\n",
              "    [theme=dark] .colab-df-convert:hover {\n",
              "      background-color: #434B5C;\n",
              "      box-shadow: 0px 1px 3px 1px rgba(0, 0, 0, 0.15);\n",
              "      filter: drop-shadow(0px 1px 2px rgba(0, 0, 0, 0.3));\n",
              "      fill: #FFFFFF;\n",
              "    }\n",
              "  </style>\n",
              "\n",
              "      <script>\n",
              "        const buttonEl =\n",
              "          document.querySelector('#df-4ee997b5-3ce1-4b49-b60c-fa7d99f7a8c8 button.colab-df-convert');\n",
              "        buttonEl.style.display =\n",
              "          google.colab.kernel.accessAllowed ? 'block' : 'none';\n",
              "\n",
              "        async function convertToInteractive(key) {\n",
              "          const element = document.querySelector('#df-4ee997b5-3ce1-4b49-b60c-fa7d99f7a8c8');\n",
              "          const dataTable =\n",
              "            await google.colab.kernel.invokeFunction('convertToInteractive',\n",
              "                                                     [key], {});\n",
              "          if (!dataTable) return;\n",
              "\n",
              "          const docLinkHtml = 'Like what you see? Visit the ' +\n",
              "            '<a target=\"_blank\" href=https://colab.research.google.com/notebooks/data_table.ipynb>data table notebook</a>'\n",
              "            + ' to learn more about interactive tables.';\n",
              "          element.innerHTML = '';\n",
              "          dataTable['output_type'] = 'display_data';\n",
              "          await google.colab.output.renderOutput(dataTable, element);\n",
              "          const docLink = document.createElement('div');\n",
              "          docLink.innerHTML = docLinkHtml;\n",
              "          element.appendChild(docLink);\n",
              "        }\n",
              "      </script>\n",
              "    </div>\n",
              "  </div>\n",
              "  "
            ]
          },
          "metadata": {},
          "execution_count": 75
        }
      ]
    },
    {
      "cell_type": "code",
      "execution_count": null,
      "metadata": {
        "id": "8A0B177mAKAg",
        "colab": {
          "base_uri": "https://localhost:8080/"
        },
        "outputId": "01e48b66-eaf3-4be7-9b78-a3c3160b5c67"
      },
      "outputs": [
        {
          "output_type": "stream",
          "name": "stdout",
          "text": [
            "ddos csv shape:  (582491, 75)\n"
          ]
        }
      ],
      "source": [
        "print('ddos csv shape: ', df.shape)"
      ]
    },
    {
      "cell_type": "code",
      "execution_count": null,
      "metadata": {
        "id": "vCykPwN9C5Fd",
        "colab": {
          "base_uri": "https://localhost:8080/"
        },
        "outputId": "d5addbd3-475b-4bad-aed9-a8a470fde067"
      },
      "outputs": [
        {
          "output_type": "stream",
          "name": "stdout",
          "text": [
            "ddos csv shape:  (582491, 70)\n"
          ]
        }
      ],
      "source": [
        "# Drop out columns with std = = 0 after droping outliers out\n",
        "df = df.drop(df.std()[df.std() < 0.1].index.values, axis=1)\n",
        "\n",
        "print('ddos csv shape: ', df.shape)"
      ]
    },
    {
      "cell_type": "code",
      "execution_count": null,
      "metadata": {
        "id": "SSYNFUylad7j",
        "colab": {
          "base_uri": "https://localhost:8080/"
        },
        "outputId": "f54cdeae-f7e6-48d6-eaf7-df1504694453"
      },
      "outputs": [
        {
          "output_type": "execute_result",
          "data": {
            "text/plain": [
              "1    167431\n",
              "5    164718\n",
              "3    111071\n",
              "4     73569\n",
              "6     53392\n",
              "0      7950\n",
              "2      3383\n",
              "7       977\n",
              "Name: Label, dtype: int64"
            ]
          },
          "metadata": {},
          "execution_count": 78
        }
      ],
      "source": [
        "df['Label'].value_counts()"
      ]
    },
    {
      "cell_type": "code",
      "source": [
        "df.head()"
      ],
      "metadata": {
        "id": "-ag61fI47d5C",
        "colab": {
          "base_uri": "https://localhost:8080/",
          "height": 351
        },
        "outputId": "47f8b5ea-444c-4e48-f81a-7df565e13bb9"
      },
      "execution_count": null,
      "outputs": [
        {
          "output_type": "execute_result",
          "data": {
            "text/plain": [
              "   SourceIP   Source Port  DestinationIP   Destination Port   Protocol  \\\n",
              "0       327         60015            287                 80          6   \n",
              "1       243            80            386              60015          6   \n",
              "2       327         60015            287                 80          6   \n",
              "3       271           443            386              60007          6   \n",
              "4       325         55310            299                443          6   \n",
              "\n",
              "    Flow Duration   Total Fwd Packets   Total Backward Packets  \\\n",
              "0               1                   2                        0   \n",
              "1              47                   2                        0   \n",
              "2               1                   2                        0   \n",
              "3         8001234                   4                        0   \n",
              "4       112729696                  13                        6   \n",
              "\n",
              "   Total Length of Fwd Packets   Total Length of Bwd Packets  ...  \\\n",
              "0                         12.0                           0.0  ...   \n",
              "1                         12.0                           0.0  ...   \n",
              "2                         12.0                           0.0  ...   \n",
              "3                          0.0                           0.0  ...   \n",
              "4                        368.0                         196.0  ...   \n",
              "\n",
              "    Active Min   Idle Mean      Idle Std    Idle Max    Idle Min  \\\n",
              "0          0.0         0.0  0.000000e+00         0.0         0.0   \n",
              "1          0.0         0.0  0.000000e+00         0.0         0.0   \n",
              "2          0.0         0.0  0.000000e+00         0.0         0.0   \n",
              "3          1.0   8001232.0  0.000000e+00   8001232.0   8001232.0   \n",
              "4      62155.0  56301460.5  3.535899e+06  58801719.0  53801202.0   \n",
              "\n",
              "   SimillarHTTP   Inbound  Label  hour  minute  \n",
              "0             0         0      0    10       9  \n",
              "1             0         1      0    10       9  \n",
              "2             0         0      0    10       9  \n",
              "3             0         1      0    10       9  \n",
              "4             0         0      0    10       9  \n",
              "\n",
              "[5 rows x 70 columns]"
            ],
            "text/html": [
              "\n",
              "  <div id=\"df-db189664-e288-4c7c-9ac4-9ac5ef0fe99f\">\n",
              "    <div class=\"colab-df-container\">\n",
              "      <div>\n",
              "<style scoped>\n",
              "    .dataframe tbody tr th:only-of-type {\n",
              "        vertical-align: middle;\n",
              "    }\n",
              "\n",
              "    .dataframe tbody tr th {\n",
              "        vertical-align: top;\n",
              "    }\n",
              "\n",
              "    .dataframe thead th {\n",
              "        text-align: right;\n",
              "    }\n",
              "</style>\n",
              "<table border=\"1\" class=\"dataframe\">\n",
              "  <thead>\n",
              "    <tr style=\"text-align: right;\">\n",
              "      <th></th>\n",
              "      <th>SourceIP</th>\n",
              "      <th>Source Port</th>\n",
              "      <th>DestinationIP</th>\n",
              "      <th>Destination Port</th>\n",
              "      <th>Protocol</th>\n",
              "      <th>Flow Duration</th>\n",
              "      <th>Total Fwd Packets</th>\n",
              "      <th>Total Backward Packets</th>\n",
              "      <th>Total Length of Fwd Packets</th>\n",
              "      <th>Total Length of Bwd Packets</th>\n",
              "      <th>...</th>\n",
              "      <th>Active Min</th>\n",
              "      <th>Idle Mean</th>\n",
              "      <th>Idle Std</th>\n",
              "      <th>Idle Max</th>\n",
              "      <th>Idle Min</th>\n",
              "      <th>SimillarHTTP</th>\n",
              "      <th>Inbound</th>\n",
              "      <th>Label</th>\n",
              "      <th>hour</th>\n",
              "      <th>minute</th>\n",
              "    </tr>\n",
              "  </thead>\n",
              "  <tbody>\n",
              "    <tr>\n",
              "      <th>0</th>\n",
              "      <td>327</td>\n",
              "      <td>60015</td>\n",
              "      <td>287</td>\n",
              "      <td>80</td>\n",
              "      <td>6</td>\n",
              "      <td>1</td>\n",
              "      <td>2</td>\n",
              "      <td>0</td>\n",
              "      <td>12.0</td>\n",
              "      <td>0.0</td>\n",
              "      <td>...</td>\n",
              "      <td>0.0</td>\n",
              "      <td>0.0</td>\n",
              "      <td>0.000000e+00</td>\n",
              "      <td>0.0</td>\n",
              "      <td>0.0</td>\n",
              "      <td>0</td>\n",
              "      <td>0</td>\n",
              "      <td>0</td>\n",
              "      <td>10</td>\n",
              "      <td>9</td>\n",
              "    </tr>\n",
              "    <tr>\n",
              "      <th>1</th>\n",
              "      <td>243</td>\n",
              "      <td>80</td>\n",
              "      <td>386</td>\n",
              "      <td>60015</td>\n",
              "      <td>6</td>\n",
              "      <td>47</td>\n",
              "      <td>2</td>\n",
              "      <td>0</td>\n",
              "      <td>12.0</td>\n",
              "      <td>0.0</td>\n",
              "      <td>...</td>\n",
              "      <td>0.0</td>\n",
              "      <td>0.0</td>\n",
              "      <td>0.000000e+00</td>\n",
              "      <td>0.0</td>\n",
              "      <td>0.0</td>\n",
              "      <td>0</td>\n",
              "      <td>1</td>\n",
              "      <td>0</td>\n",
              "      <td>10</td>\n",
              "      <td>9</td>\n",
              "    </tr>\n",
              "    <tr>\n",
              "      <th>2</th>\n",
              "      <td>327</td>\n",
              "      <td>60015</td>\n",
              "      <td>287</td>\n",
              "      <td>80</td>\n",
              "      <td>6</td>\n",
              "      <td>1</td>\n",
              "      <td>2</td>\n",
              "      <td>0</td>\n",
              "      <td>12.0</td>\n",
              "      <td>0.0</td>\n",
              "      <td>...</td>\n",
              "      <td>0.0</td>\n",
              "      <td>0.0</td>\n",
              "      <td>0.000000e+00</td>\n",
              "      <td>0.0</td>\n",
              "      <td>0.0</td>\n",
              "      <td>0</td>\n",
              "      <td>0</td>\n",
              "      <td>0</td>\n",
              "      <td>10</td>\n",
              "      <td>9</td>\n",
              "    </tr>\n",
              "    <tr>\n",
              "      <th>3</th>\n",
              "      <td>271</td>\n",
              "      <td>443</td>\n",
              "      <td>386</td>\n",
              "      <td>60007</td>\n",
              "      <td>6</td>\n",
              "      <td>8001234</td>\n",
              "      <td>4</td>\n",
              "      <td>0</td>\n",
              "      <td>0.0</td>\n",
              "      <td>0.0</td>\n",
              "      <td>...</td>\n",
              "      <td>1.0</td>\n",
              "      <td>8001232.0</td>\n",
              "      <td>0.000000e+00</td>\n",
              "      <td>8001232.0</td>\n",
              "      <td>8001232.0</td>\n",
              "      <td>0</td>\n",
              "      <td>1</td>\n",
              "      <td>0</td>\n",
              "      <td>10</td>\n",
              "      <td>9</td>\n",
              "    </tr>\n",
              "    <tr>\n",
              "      <th>4</th>\n",
              "      <td>325</td>\n",
              "      <td>55310</td>\n",
              "      <td>299</td>\n",
              "      <td>443</td>\n",
              "      <td>6</td>\n",
              "      <td>112729696</td>\n",
              "      <td>13</td>\n",
              "      <td>6</td>\n",
              "      <td>368.0</td>\n",
              "      <td>196.0</td>\n",
              "      <td>...</td>\n",
              "      <td>62155.0</td>\n",
              "      <td>56301460.5</td>\n",
              "      <td>3.535899e+06</td>\n",
              "      <td>58801719.0</td>\n",
              "      <td>53801202.0</td>\n",
              "      <td>0</td>\n",
              "      <td>0</td>\n",
              "      <td>0</td>\n",
              "      <td>10</td>\n",
              "      <td>9</td>\n",
              "    </tr>\n",
              "  </tbody>\n",
              "</table>\n",
              "<p>5 rows × 70 columns</p>\n",
              "</div>\n",
              "      <button class=\"colab-df-convert\" onclick=\"convertToInteractive('df-db189664-e288-4c7c-9ac4-9ac5ef0fe99f')\"\n",
              "              title=\"Convert this dataframe to an interactive table.\"\n",
              "              style=\"display:none;\">\n",
              "        \n",
              "  <svg xmlns=\"http://www.w3.org/2000/svg\" height=\"24px\"viewBox=\"0 0 24 24\"\n",
              "       width=\"24px\">\n",
              "    <path d=\"M0 0h24v24H0V0z\" fill=\"none\"/>\n",
              "    <path d=\"M18.56 5.44l.94 2.06.94-2.06 2.06-.94-2.06-.94-.94-2.06-.94 2.06-2.06.94zm-11 1L8.5 8.5l.94-2.06 2.06-.94-2.06-.94L8.5 2.5l-.94 2.06-2.06.94zm10 10l.94 2.06.94-2.06 2.06-.94-2.06-.94-.94-2.06-.94 2.06-2.06.94z\"/><path d=\"M17.41 7.96l-1.37-1.37c-.4-.4-.92-.59-1.43-.59-.52 0-1.04.2-1.43.59L10.3 9.45l-7.72 7.72c-.78.78-.78 2.05 0 2.83L4 21.41c.39.39.9.59 1.41.59.51 0 1.02-.2 1.41-.59l7.78-7.78 2.81-2.81c.8-.78.8-2.07 0-2.86zM5.41 20L4 18.59l7.72-7.72 1.47 1.35L5.41 20z\"/>\n",
              "  </svg>\n",
              "      </button>\n",
              "      \n",
              "  <style>\n",
              "    .colab-df-container {\n",
              "      display:flex;\n",
              "      flex-wrap:wrap;\n",
              "      gap: 12px;\n",
              "    }\n",
              "\n",
              "    .colab-df-convert {\n",
              "      background-color: #E8F0FE;\n",
              "      border: none;\n",
              "      border-radius: 50%;\n",
              "      cursor: pointer;\n",
              "      display: none;\n",
              "      fill: #1967D2;\n",
              "      height: 32px;\n",
              "      padding: 0 0 0 0;\n",
              "      width: 32px;\n",
              "    }\n",
              "\n",
              "    .colab-df-convert:hover {\n",
              "      background-color: #E2EBFA;\n",
              "      box-shadow: 0px 1px 2px rgba(60, 64, 67, 0.3), 0px 1px 3px 1px rgba(60, 64, 67, 0.15);\n",
              "      fill: #174EA6;\n",
              "    }\n",
              "\n",
              "    [theme=dark] .colab-df-convert {\n",
              "      background-color: #3B4455;\n",
              "      fill: #D2E3FC;\n",
              "    }\n",
              "\n",
              "    [theme=dark] .colab-df-convert:hover {\n",
              "      background-color: #434B5C;\n",
              "      box-shadow: 0px 1px 3px 1px rgba(0, 0, 0, 0.15);\n",
              "      filter: drop-shadow(0px 1px 2px rgba(0, 0, 0, 0.3));\n",
              "      fill: #FFFFFF;\n",
              "    }\n",
              "  </style>\n",
              "\n",
              "      <script>\n",
              "        const buttonEl =\n",
              "          document.querySelector('#df-db189664-e288-4c7c-9ac4-9ac5ef0fe99f button.colab-df-convert');\n",
              "        buttonEl.style.display =\n",
              "          google.colab.kernel.accessAllowed ? 'block' : 'none';\n",
              "\n",
              "        async function convertToInteractive(key) {\n",
              "          const element = document.querySelector('#df-db189664-e288-4c7c-9ac4-9ac5ef0fe99f');\n",
              "          const dataTable =\n",
              "            await google.colab.kernel.invokeFunction('convertToInteractive',\n",
              "                                                     [key], {});\n",
              "          if (!dataTable) return;\n",
              "\n",
              "          const docLinkHtml = 'Like what you see? Visit the ' +\n",
              "            '<a target=\"_blank\" href=https://colab.research.google.com/notebooks/data_table.ipynb>data table notebook</a>'\n",
              "            + ' to learn more about interactive tables.';\n",
              "          element.innerHTML = '';\n",
              "          dataTable['output_type'] = 'display_data';\n",
              "          await google.colab.output.renderOutput(dataTable, element);\n",
              "          const docLink = document.createElement('div');\n",
              "          docLink.innerHTML = docLinkHtml;\n",
              "          element.appendChild(docLink);\n",
              "        }\n",
              "      </script>\n",
              "    </div>\n",
              "  </div>\n",
              "  "
            ]
          },
          "metadata": {},
          "execution_count": 79
        }
      ]
    },
    {
      "cell_type": "markdown",
      "metadata": {
        "id": "GIPsWMynItyd"
      },
      "source": [
        "# Feature selection by correlation"
      ]
    },
    {
      "cell_type": "code",
      "execution_count": null,
      "metadata": {
        "id": "ZGiTgMevJbCD",
        "colab": {
          "base_uri": "https://localhost:8080/"
        },
        "outputId": "b3ffcfa4-1ebf-44fc-b23c-1af4d37d324e"
      },
      "outputs": [
        {
          "output_type": "stream",
          "name": "stdout",
          "text": [
            "ddos csv shape =  (582491, 70)\n",
            "number of columns before feature selection: 70 \n",
            "\n"
          ]
        },
        {
          "output_type": "execute_result",
          "data": {
            "text/plain": [
              "Index(['SourceIP', ' Source Port', 'DestinationIP', ' Destination Port',\n",
              "       ' Protocol', ' Flow Duration', ' Total Fwd Packets',\n",
              "       ' Total Backward Packets', 'Total Length of Fwd Packets',\n",
              "       ' Total Length of Bwd Packets', ' Fwd Packet Length Max',\n",
              "       ' Fwd Packet Length Min', ' Fwd Packet Length Mean',\n",
              "       ' Fwd Packet Length Std', 'Bwd Packet Length Max',\n",
              "       ' Bwd Packet Length Min', ' Bwd Packet Length Mean',\n",
              "       ' Bwd Packet Length Std', 'Flow Bytes/s', ' Flow Packets/s',\n",
              "       ' Flow IAT Mean', ' Flow IAT Std', ' Flow IAT Max', ' Flow IAT Min',\n",
              "       'Fwd IAT Total', ' Fwd IAT Mean', ' Fwd IAT Std', ' Fwd IAT Max',\n",
              "       ' Fwd IAT Min', 'Bwd IAT Total', ' Bwd IAT Mean', ' Bwd IAT Std',\n",
              "       ' Bwd IAT Max', ' Bwd IAT Min', ' Fwd Header Length',\n",
              "       ' Bwd Header Length', 'Fwd Packets/s', ' Bwd Packets/s',\n",
              "       ' Min Packet Length', ' Max Packet Length', ' Packet Length Mean',\n",
              "       ' Packet Length Std', ' Packet Length Variance', ' ACK Flag Count',\n",
              "       ' Down/Up Ratio', ' Average Packet Size', ' Avg Fwd Segment Size',\n",
              "       ' Avg Bwd Segment Size', ' Fwd Header Length.1', 'Subflow Fwd Packets',\n",
              "       ' Subflow Fwd Bytes', ' Subflow Bwd Packets', ' Subflow Bwd Bytes',\n",
              "       'Init_Win_bytes_forward', ' Init_Win_bytes_backward',\n",
              "       ' act_data_pkt_fwd', ' min_seg_size_forward', 'Active Mean',\n",
              "       ' Active Std', ' Active Max', ' Active Min', 'Idle Mean', ' Idle Std',\n",
              "       ' Idle Max', ' Idle Min', 'SimillarHTTP', ' Inbound', 'Label', 'hour',\n",
              "       'minute'],\n",
              "      dtype='object')"
            ]
          },
          "metadata": {},
          "execution_count": 80
        }
      ],
      "source": [
        "print('ddos csv shape = ', df.shape)\n",
        "print('number of columns before feature selection:', len(df.columns), '\\n')\n",
        "df.columns"
      ]
    },
    {
      "cell_type": "code",
      "execution_count": null,
      "metadata": {
        "id": "_Iqved_VIs2k",
        "colab": {
          "base_uri": "https://localhost:8080/",
          "height": 419
        },
        "outputId": "88f7c034-cbac-4734-a767-33fe8cd3b2fc"
      },
      "outputs": [
        {
          "output_type": "execute_result",
          "data": {
            "text/plain": [
              "<matplotlib.axes._subplots.AxesSubplot at 0x7fd35fcb4ed0>"
            ]
          },
          "metadata": {},
          "execution_count": 81
        },
        {
          "output_type": "display_data",
          "data": {
            "text/plain": [
              "<Figure size 432x288 with 2 Axes>"
            ],
            "image/png": "[encoded data removed]"
          },
          "metadata": {
            "needs_background": "light"
          }
        }
      ],
      "source": [
        "# Create heatmap for determining correlation\n",
        "import seaborn as sn\n",
        "corr_mat=df.corr()\n",
        "sn.heatmap(corr_mat, annot=True)"
      ]
    },
    {
      "cell_type": "code",
      "execution_count": null,
      "metadata": {
        "id": "iQVtziDMKsOw",
        "colab": {
          "base_uri": "https://localhost:8080/"
        },
        "outputId": "8e0cb0ef-7d14-4737-f2aa-36a6a1527578"
      },
      "outputs": [
        {
          "output_type": "stream",
          "name": "stdout",
          "text": [
            "possible number of columns to drop:  31\n"
          ]
        }
      ],
      "source": [
        "import numpy as np\n",
        "\n",
        "# Create correlation matrix\n",
        "corr_matrix = df.corr().abs()\n",
        "\n",
        "# Select upper triangle of correlation matrix\n",
        "upper = corr_matrix.where(np.triu(np.ones(corr_matrix.shape), k=1).astype(np.bool))\n",
        "\n",
        "# Find features with correlation greater than 0.95\n",
        "to_drop = [column for column in upper.columns if any(upper[column] > 0.95)]\n",
        "print('possible number of columns to drop: ', len(to_drop))"
      ]
    },
    {
      "cell_type": "code",
      "execution_count": null,
      "metadata": {
        "id": "L61gsDUYLCl4"
      },
      "outputs": [],
      "source": [
        "# Drop features with correlation greater than 0.95\n",
        "df.drop(to_drop, axis=1, inplace=True)"
      ]
    },
    {
      "cell_type": "code",
      "execution_count": null,
      "metadata": {
        "id": "hKf2aaqQLEFK",
        "colab": {
          "base_uri": "https://localhost:8080/"
        },
        "outputId": "04b97ce9-faf2-42b8-924c-b94a7f30b9e5"
      },
      "outputs": [
        {
          "output_type": "stream",
          "name": "stdout",
          "text": [
            "number of columns after feature selection: 39 \n",
            "\n"
          ]
        },
        {
          "output_type": "execute_result",
          "data": {
            "text/plain": [
              "Index(['SourceIP', ' Source Port', 'DestinationIP', ' Destination Port',\n",
              "       ' Protocol', ' Flow Duration', ' Total Fwd Packets',\n",
              "       ' Total Backward Packets', 'Total Length of Fwd Packets',\n",
              "       ' Fwd Packet Length Max', ' Fwd Packet Length Std',\n",
              "       'Bwd Packet Length Max', ' Bwd Packet Length Min',\n",
              "       ' Bwd Packet Length Mean', 'Flow Bytes/s', ' Flow Packets/s',\n",
              "       ' Flow IAT Mean', ' Flow IAT Min', 'Bwd IAT Total', ' Bwd IAT Mean',\n",
              "       ' Bwd IAT Min', ' Fwd Header Length', 'Fwd Packets/s', ' Bwd Packets/s',\n",
              "       ' Packet Length Std', ' Packet Length Variance', ' Down/Up Ratio',\n",
              "       'Init_Win_bytes_forward', ' Init_Win_bytes_backward', 'Active Mean',\n",
              "       ' Active Std', ' Active Max', ' Active Min', ' Idle Std',\n",
              "       'SimillarHTTP', ' Inbound', 'Label', 'hour', 'minute'],\n",
              "      dtype='object')"
            ]
          },
          "metadata": {},
          "execution_count": 84
        }
      ],
      "source": [
        "print('number of columns after feature selection:', len(df.columns), '\\n')\n",
        "df.columns"
      ]
    },
    {
      "cell_type": "code",
      "execution_count": null,
      "metadata": {
        "id": "ffqkET_prOzt",
        "colab": {
          "base_uri": "https://localhost:8080/"
        },
        "outputId": "4167c665-28b5-40ac-d067-9286b2375d64"
      },
      "outputs": [
        {
          "output_type": "stream",
          "name": "stdout",
          "text": [
            "<class 'pandas.core.frame.DataFrame'>\n",
            "RangeIndex: 582491 entries, 0 to 582490\n",
            "Data columns (total 39 columns):\n",
            " #   Column                       Non-Null Count   Dtype  \n",
            "---  ------                       --------------   -----  \n",
            " 0   SourceIP                     582491 non-null  int64  \n",
            " 1    Source Port                 582491 non-null  int64  \n",
            " 2   DestinationIP                582491 non-null  int64  \n",
            " 3    Destination Port            582491 non-null  int64  \n",
            " 4    Protocol                    582491 non-null  int64  \n",
            " 5    Flow Duration               582491 non-null  int64  \n",
            " 6    Total Fwd Packets           582491 non-null  int64  \n",
            " 7    Total Backward Packets      582491 non-null  int64  \n",
            " 8   Total Length of Fwd Packets  582491 non-null  float64\n",
            " 9    Fwd Packet Length Max       582491 non-null  float64\n",
            " 10   Fwd Packet Length Std       582491 non-null  float64\n",
            " 11  Bwd Packet Length Max        582491 non-null  float64\n",
            " 12   Bwd Packet Length Min       582491 non-null  float64\n",
            " 13   Bwd Packet Length Mean      582491 non-null  float64\n",
            " 14  Flow Bytes/s                 582491 non-null  float64\n",
            " 15   Flow Packets/s              582491 non-null  float64\n",
            " 16   Flow IAT Mean               582491 non-null  float64\n",
            " 17   Flow IAT Min                582491 non-null  float64\n",
            " 18  Bwd IAT Total                582491 non-null  float64\n",
            " 19   Bwd IAT Mean                582491 non-null  float64\n",
            " 20   Bwd IAT Min                 582491 non-null  float64\n",
            " 21   Fwd Header Length           582491 non-null  int64  \n",
            " 22  Fwd Packets/s                582491 non-null  float64\n",
            " 23   Bwd Packets/s               582491 non-null  float64\n",
            " 24   Packet Length Std           582491 non-null  float64\n",
            " 25   Packet Length Variance      582491 non-null  float64\n",
            " 26   Down/Up Ratio               582491 non-null  float64\n",
            " 27  Init_Win_bytes_forward       582491 non-null  int64  \n",
            " 28   Init_Win_bytes_backward     582491 non-null  int64  \n",
            " 29  Active Mean                  582491 non-null  float64\n",
            " 30   Active Std                  582491 non-null  float64\n",
            " 31   Active Max                  582491 non-null  float64\n",
            " 32   Active Min                  582491 non-null  float64\n",
            " 33   Idle Std                    582491 non-null  float64\n",
            " 34  SimillarHTTP                 582491 non-null  int64  \n",
            " 35   Inbound                     582491 non-null  int64  \n",
            " 36  Label                        582491 non-null  int64  \n",
            " 37  hour                         582491 non-null  int64  \n",
            " 38  minute                       582491 non-null  int64  \n",
            "dtypes: float64(23), int64(16)\n",
            "memory usage: 173.3 MB\n"
          ]
        }
      ],
      "source": [
        "df.info()"
      ]
    },
    {
      "cell_type": "code",
      "execution_count": null,
      "metadata": {
        "id": "VhxQTgtUMEzC",
        "colab": {
          "base_uri": "https://localhost:8080/",
          "height": 351
        },
        "outputId": "bb0b33db-3f8d-4a86-c8f1-9cf1d3deee94"
      },
      "outputs": [
        {
          "output_type": "execute_result",
          "data": {
            "text/plain": [
              "   SourceIP   Source Port  DestinationIP   Destination Port   Protocol  \\\n",
              "0       327         60015            287                 80          6   \n",
              "1       243            80            386              60015          6   \n",
              "2       327         60015            287                 80          6   \n",
              "3       271           443            386              60007          6   \n",
              "4       325         55310            299                443          6   \n",
              "\n",
              "    Flow Duration   Total Fwd Packets   Total Backward Packets  \\\n",
              "0               1                   2                        0   \n",
              "1              47                   2                        0   \n",
              "2               1                   2                        0   \n",
              "3         8001234                   4                        0   \n",
              "4       112729696                  13                        6   \n",
              "\n",
              "   Total Length of Fwd Packets   Fwd Packet Length Max  ...  Active Mean  \\\n",
              "0                         12.0                     6.0  ...          0.0   \n",
              "1                         12.0                     6.0  ...          0.0   \n",
              "2                         12.0                     6.0  ...          0.0   \n",
              "3                          0.0                     0.0  ...          1.0   \n",
              "4                        368.0                    46.0  ...      62213.0   \n",
              "\n",
              "    Active Std   Active Max   Active Min      Idle Std  SimillarHTTP  \\\n",
              "0     0.000000          0.0          0.0  0.000000e+00             0   \n",
              "1     0.000000          0.0          0.0  0.000000e+00             0   \n",
              "2     0.000000          0.0          0.0  0.000000e+00             0   \n",
              "3     0.000000          1.0          1.0  0.000000e+00             0   \n",
              "4    82.024387      62271.0      62155.0  3.535899e+06             0   \n",
              "\n",
              "    Inbound  Label  hour  minute  \n",
              "0         0      0    10       9  \n",
              "1         1      0    10       9  \n",
              "2         0      0    10       9  \n",
              "3         1      0    10       9  \n",
              "4         0      0    10       9  \n",
              "\n",
              "[5 rows x 39 columns]"
            ],
            "text/html": [
              "\n",
              "  <div id=\"df-e619193a-fd89-4f4e-9e52-d4bf5ce36cbb\">\n",
              "    <div class=\"colab-df-container\">\n",
              "      <div>\n",
              "<style scoped>\n",
              "    .dataframe tbody tr th:only-of-type {\n",
              "        vertical-align: middle;\n",
              "    }\n",
              "\n",
              "    .dataframe tbody tr th {\n",
              "        vertical-align: top;\n",
              "    }\n",
              "\n",
              "    .dataframe thead th {\n",
              "        text-align: right;\n",
              "    }\n",
              "</style>\n",
              "<table border=\"1\" class=\"dataframe\">\n",
              "  <thead>\n",
              "    <tr style=\"text-align: right;\">\n",
              "      <th></th>\n",
              "      <th>SourceIP</th>\n",
              "      <th>Source Port</th>\n",
              "      <th>DestinationIP</th>\n",
              "      <th>Destination Port</th>\n",
              "      <th>Protocol</th>\n",
              "      <th>Flow Duration</th>\n",
              "      <th>Total Fwd Packets</th>\n",
              "      <th>Total Backward Packets</th>\n",
              "      <th>Total Length of Fwd Packets</th>\n",
              "      <th>Fwd Packet Length Max</th>\n",
              "      <th>...</th>\n",
              "      <th>Active Mean</th>\n",
              "      <th>Active Std</th>\n",
              "      <th>Active Max</th>\n",
              "      <th>Active Min</th>\n",
              "      <th>Idle Std</th>\n",
              "      <th>SimillarHTTP</th>\n",
              "      <th>Inbound</th>\n",
              "      <th>Label</th>\n",
              "      <th>hour</th>\n",
              "      <th>minute</th>\n",
              "    </tr>\n",
              "  </thead>\n",
              "  <tbody>\n",
              "    <tr>\n",
              "      <th>0</th>\n",
              "      <td>327</td>\n",
              "      <td>60015</td>\n",
              "      <td>287</td>\n",
              "      <td>80</td>\n",
              "      <td>6</td>\n",
              "      <td>1</td>\n",
              "      <td>2</td>\n",
              "      <td>0</td>\n",
              "      <td>12.0</td>\n",
              "      <td>6.0</td>\n",
              "      <td>...</td>\n",
              "      <td>0.0</td>\n",
              "      <td>0.000000</td>\n",
              "      <td>0.0</td>\n",
              "      <td>0.0</td>\n",
              "      <td>0.000000e+00</td>\n",
              "      <td>0</td>\n",
              "      <td>0</td>\n",
              "      <td>0</td>\n",
              "      <td>10</td>\n",
              "      <td>9</td>\n",
              "    </tr>\n",
              "    <tr>\n",
              "      <th>1</th>\n",
              "      <td>243</td>\n",
              "      <td>80</td>\n",
              "      <td>386</td>\n",
              "      <td>60015</td>\n",
              "      <td>6</td>\n",
              "      <td>47</td>\n",
              "      <td>2</td>\n",
              "      <td>0</td>\n",
              "      <td>12.0</td>\n",
              "      <td>6.0</td>\n",
              "      <td>...</td>\n",
              "      <td>0.0</td>\n",
              "      <td>0.000000</td>\n",
              "      <td>0.0</td>\n",
              "      <td>0.0</td>\n",
              "      <td>0.000000e+00</td>\n",
              "      <td>0</td>\n",
              "      <td>1</td>\n",
              "      <td>0</td>\n",
              "      <td>10</td>\n",
              "      <td>9</td>\n",
              "    </tr>\n",
              "    <tr>\n",
              "      <th>2</th>\n",
              "      <td>327</td>\n",
              "      <td>60015</td>\n",
              "      <td>287</td>\n",
              "      <td>80</td>\n",
              "      <td>6</td>\n",
              "      <td>1</td>\n",
              "      <td>2</td>\n",
              "      <td>0</td>\n",
              "      <td>12.0</td>\n",
              "      <td>6.0</td>\n",
              "      <td>...</td>\n",
              "      <td>0.0</td>\n",
              "      <td>0.000000</td>\n",
              "      <td>0.0</td>\n",
              "      <td>0.0</td>\n",
              "      <td>0.000000e+00</td>\n",
              "      <td>0</td>\n",
              "      <td>0</td>\n",
              "      <td>0</td>\n",
              "      <td>10</td>\n",
              "      <td>9</td>\n",
              "    </tr>\n",
              "    <tr>\n",
              "      <th>3</th>\n",
              "      <td>271</td>\n",
              "      <td>443</td>\n",
              "      <td>386</td>\n",
              "      <td>60007</td>\n",
              "      <td>6</td>\n",
              "      <td>8001234</td>\n",
              "      <td>4</td>\n",
              "      <td>0</td>\n",
              "      <td>0.0</td>\n",
              "      <td>0.0</td>\n",
              "      <td>...</td>\n",
              "      <td>1.0</td>\n",
              "      <td>0.000000</td>\n",
              "      <td>1.0</td>\n",
              "      <td>1.0</td>\n",
              "      <td>0.000000e+00</td>\n",
              "      <td>0</td>\n",
              "      <td>1</td>\n",
              "      <td>0</td>\n",
              "      <td>10</td>\n",
              "      <td>9</td>\n",
              "    </tr>\n",
              "    <tr>\n",
              "      <th>4</th>\n",
              "      <td>325</td>\n",
              "      <td>55310</td>\n",
              "      <td>299</td>\n",
              "      <td>443</td>\n",
              "      <td>6</td>\n",
              "      <td>112729696</td>\n",
              "      <td>13</td>\n",
              "      <td>6</td>\n",
              "      <td>368.0</td>\n",
              "      <td>46.0</td>\n",
              "      <td>...</td>\n",
              "      <td>62213.0</td>\n",
              "      <td>82.024387</td>\n",
              "      <td>62271.0</td>\n",
              "      <td>62155.0</td>\n",
              "      <td>3.535899e+06</td>\n",
              "      <td>0</td>\n",
              "      <td>0</td>\n",
              "      <td>0</td>\n",
              "      <td>10</td>\n",
              "      <td>9</td>\n",
              "    </tr>\n",
              "  </tbody>\n",
              "</table>\n",
              "<p>5 rows × 39 columns</p>\n",
              "</div>\n",
              "      <button class=\"colab-df-convert\" onclick=\"convertToInteractive('df-e619193a-fd89-4f4e-9e52-d4bf5ce36cbb')\"\n",
              "              title=\"Convert this dataframe to an interactive table.\"\n",
              "              style=\"display:none;\">\n",
              "        \n",
              "  <svg xmlns=\"http://www.w3.org/2000/svg\" height=\"24px\"viewBox=\"0 0 24 24\"\n",
              "       width=\"24px\">\n",
              "    <path d=\"M0 0h24v24H0V0z\" fill=\"none\"/>\n",
              "    <path d=\"M18.56 5.44l.94 2.06.94-2.06 2.06-.94-2.06-.94-.94-2.06-.94 2.06-2.06.94zm-11 1L8.5 8.5l.94-2.06 2.06-.94-2.06-.94L8.5 2.5l-.94 2.06-2.06.94zm10 10l.94 2.06.94-2.06 2.06-.94-2.06-.94-.94-2.06-.94 2.06-2.06.94z\"/><path d=\"M17.41 7.96l-1.37-1.37c-.4-.4-.92-.59-1.43-.59-.52 0-1.04.2-1.43.59L10.3 9.45l-7.72 7.72c-.78.78-.78 2.05 0 2.83L4 21.41c.39.39.9.59 1.41.59.51 0 1.02-.2 1.41-.59l7.78-7.78 2.81-2.81c.8-.78.8-2.07 0-2.86zM5.41 20L4 18.59l7.72-7.72 1.47 1.35L5.41 20z\"/>\n",
              "  </svg>\n",
              "      </button>\n",
              "      \n",
              "  <style>\n",
              "    .colab-df-container {\n",
              "      display:flex;\n",
              "      flex-wrap:wrap;\n",
              "      gap: 12px;\n",
              "    }\n",
              "\n",
              "    .colab-df-convert {\n",
              "      background-color: #E8F0FE;\n",
              "      border: none;\n",
              "      border-radius: 50%;\n",
              "      cursor: pointer;\n",
              "      display: none;\n",
              "      fill: #1967D2;\n",
              "      height: 32px;\n",
              "      padding: 0 0 0 0;\n",
              "      width: 32px;\n",
              "    }\n",
              "\n",
              "    .colab-df-convert:hover {\n",
              "      background-color: #E2EBFA;\n",
              "      box-shadow: 0px 1px 2px rgba(60, 64, 67, 0.3), 0px 1px 3px 1px rgba(60, 64, 67, 0.15);\n",
              "      fill: #174EA6;\n",
              "    }\n",
              "\n",
              "    [theme=dark] .colab-df-convert {\n",
              "      background-color: #3B4455;\n",
              "      fill: #D2E3FC;\n",
              "    }\n",
              "\n",
              "    [theme=dark] .colab-df-convert:hover {\n",
              "      background-color: #434B5C;\n",
              "      box-shadow: 0px 1px 3px 1px rgba(0, 0, 0, 0.15);\n",
              "      filter: drop-shadow(0px 1px 2px rgba(0, 0, 0, 0.3));\n",
              "      fill: #FFFFFF;\n",
              "    }\n",
              "  </style>\n",
              "\n",
              "      <script>\n",
              "        const buttonEl =\n",
              "          document.querySelector('#df-e619193a-fd89-4f4e-9e52-d4bf5ce36cbb button.colab-df-convert');\n",
              "        buttonEl.style.display =\n",
              "          google.colab.kernel.accessAllowed ? 'block' : 'none';\n",
              "\n",
              "        async function convertToInteractive(key) {\n",
              "          const element = document.querySelector('#df-e619193a-fd89-4f4e-9e52-d4bf5ce36cbb');\n",
              "          const dataTable =\n",
              "            await google.colab.kernel.invokeFunction('convertToInteractive',\n",
              "                                                     [key], {});\n",
              "          if (!dataTable) return;\n",
              "\n",
              "          const docLinkHtml = 'Like what you see? Visit the ' +\n",
              "            '<a target=\"_blank\" href=https://colab.research.google.com/notebooks/data_table.ipynb>data table notebook</a>'\n",
              "            + ' to learn more about interactive tables.';\n",
              "          element.innerHTML = '';\n",
              "          dataTable['output_type'] = 'display_data';\n",
              "          await google.colab.output.renderOutput(dataTable, element);\n",
              "          const docLink = document.createElement('div');\n",
              "          docLink.innerHTML = docLinkHtml;\n",
              "          element.appendChild(docLink);\n",
              "        }\n",
              "      </script>\n",
              "    </div>\n",
              "  </div>\n",
              "  "
            ]
          },
          "metadata": {},
          "execution_count": 86
        }
      ],
      "source": [
        "df.head()"
      ]
    },
    {
      "cell_type": "code",
      "execution_count": null,
      "metadata": {
        "id": "Mtz2SsqAMHQM",
        "colab": {
          "base_uri": "https://localhost:8080/",
          "height": 428
        },
        "outputId": "d3f8f5f2-24df-40c8-9b75-8dc7fe86a07b"
      },
      "outputs": [
        {
          "output_type": "execute_result",
          "data": {
            "text/plain": [
              "            SourceIP    Source Port  DestinationIP   Destination Port  \\\n",
              "count  582491.000000  582491.000000  582491.000000      582491.000000   \n",
              "mean      225.293893   24082.409496     381.106577       32560.920435   \n",
              "std        13.248418   24106.683766      20.376222       19135.608380   \n",
              "min         0.000000       0.000000       0.000000           0.000000   \n",
              "25%       224.000000     770.000000     383.000000       15985.000000   \n",
              "50%       224.000000   17257.000000     383.000000       32620.000000   \n",
              "75%       224.000000   47421.000000     383.000000       49199.000000   \n",
              "max       365.000000   65532.000000     432.000000       65535.000000   \n",
              "\n",
              "            Protocol   Flow Duration   Total Fwd Packets  \\\n",
              "count  582491.000000    5.824910e+05       582491.000000   \n",
              "mean       13.730767    5.901664e+06            3.532467   \n",
              "std         5.030588    1.645048e+07           44.966379   \n",
              "min         0.000000    0.000000e+00            1.000000   \n",
              "25%         6.000000    1.000000e+00            2.000000   \n",
              "50%        17.000000    4.600000e+01            2.000000   \n",
              "75%        17.000000    9.000000e+01            2.000000   \n",
              "max        17.000000    1.199975e+08        25274.000000   \n",
              "\n",
              "        Total Backward Packets  Total Length of Fwd Packets  \\\n",
              "count            582491.000000                582491.000000   \n",
              "mean                  1.005700                   674.995171   \n",
              "std                  41.843967                  1310.635858   \n",
              "min                   0.000000                     0.000000   \n",
              "25%                   0.000000                    60.000000   \n",
              "50%                   0.000000                   458.000000   \n",
              "75%                   0.000000                   804.000000   \n",
              "max               31700.000000                150934.000000   \n",
              "\n",
              "        Fwd Packet Length Max  ...   Active Mean    Active Std    Active Max  \\\n",
              "count           582491.000000  ...  5.824910e+05  5.824910e+05  5.824910e+05   \n",
              "mean               261.268208  ...  2.569454e+04  3.640667e+04  7.009148e+04   \n",
              "std                262.416027  ...  2.356005e+05  2.743877e+05  5.239395e+05   \n",
              "min                  0.000000  ...  0.000000e+00  0.000000e+00  0.000000e+00   \n",
              "25%                  6.000000  ...  0.000000e+00  0.000000e+00  0.000000e+00   \n",
              "50%                229.000000  ...  0.000000e+00  0.000000e+00  0.000000e+00   \n",
              "75%                393.000000  ...  0.000000e+00  0.000000e+00  0.000000e+00   \n",
              "max               3617.000000  ...  8.140801e+07  3.610598e+07  8.140801e+07   \n",
              "\n",
              "         Active Min      Idle Std   SimillarHTTP        Inbound  \\\n",
              "count  5.824910e+05  5.824910e+05  582491.000000  582491.000000   \n",
              "mean   4.109131e+03  5.997085e+05       0.023436       0.986369   \n",
              "std    1.620065e+05  2.032566e+06       1.084370       0.115954   \n",
              "min    0.000000e+00  0.000000e+00       0.000000       0.000000   \n",
              "25%    0.000000e+00  0.000000e+00       0.000000       1.000000   \n",
              "50%    0.000000e+00  0.000000e+00       0.000000       1.000000   \n",
              "75%    0.000000e+00  0.000000e+00       0.000000       1.000000   \n",
              "max    8.140801e+07  6.188006e+07      87.000000       1.000000   \n",
              "\n",
              "               Label           hour         minute  \n",
              "count  582491.000000  582491.000000  582491.000000  \n",
              "mean        3.351926      10.320197      21.773286  \n",
              "std         1.806592       0.482251      17.224063  \n",
              "min         0.000000       9.000000       0.000000  \n",
              "25%         1.000000      10.000000       2.000000  \n",
              "50%         4.000000      10.000000      29.000000  \n",
              "75%         5.000000      11.000000      36.000000  \n",
              "max         7.000000      11.000000      59.000000  \n",
              "\n",
              "[8 rows x 39 columns]"
            ],
            "text/html": [
              "\n",
              "  <div id=\"df-91dcde0c-72e2-4eb8-96f7-c2171c622598\">\n",
              "    <div class=\"colab-df-container\">\n",
              "      <div>\n",
              "<style scoped>\n",
              "    .dataframe tbody tr th:only-of-type {\n",
              "        vertical-align: middle;\n",
              "    }\n",
              "\n",
              "    .dataframe tbody tr th {\n",
              "        vertical-align: top;\n",
              "    }\n",
              "\n",
              "    .dataframe thead th {\n",
              "        text-align: right;\n",
              "    }\n",
              "</style>\n",
              "<table border=\"1\" class=\"dataframe\">\n",
              "  <thead>\n",
              "    <tr style=\"text-align: right;\">\n",
              "      <th></th>\n",
              "      <th>SourceIP</th>\n",
              "      <th>Source Port</th>\n",
              "      <th>DestinationIP</th>\n",
              "      <th>Destination Port</th>\n",
              "      <th>Protocol</th>\n",
              "      <th>Flow Duration</th>\n",
              "      <th>Total Fwd Packets</th>\n",
              "      <th>Total Backward Packets</th>\n",
              "      <th>Total Length of Fwd Packets</th>\n",
              "      <th>Fwd Packet Length Max</th>\n",
              "      <th>...</th>\n",
              "      <th>Active Mean</th>\n",
              "      <th>Active Std</th>\n",
              "      <th>Active Max</th>\n",
              "      <th>Active Min</th>\n",
              "      <th>Idle Std</th>\n",
              "      <th>SimillarHTTP</th>\n",
              "      <th>Inbound</th>\n",
              "      <th>Label</th>\n",
              "      <th>hour</th>\n",
              "      <th>minute</th>\n",
              "    </tr>\n",
              "  </thead>\n",
              "  <tbody>\n",
              "    <tr>\n",
              "      <th>count</th>\n",
              "      <td>582491.000000</td>\n",
              "      <td>582491.000000</td>\n",
              "      <td>582491.000000</td>\n",
              "      <td>582491.000000</td>\n",
              "      <td>582491.000000</td>\n",
              "      <td>5.824910e+05</td>\n",
              "      <td>582491.000000</td>\n",
              "      <td>582491.000000</td>\n",
              "      <td>582491.000000</td>\n",
              "      <td>582491.000000</td>\n",
              "      <td>...</td>\n",
              "      <td>5.824910e+05</td>\n",
              "      <td>5.824910e+05</td>\n",
              "      <td>5.824910e+05</td>\n",
              "      <td>5.824910e+05</td>\n",
              "      <td>5.824910e+05</td>\n",
              "      <td>582491.000000</td>\n",
              "      <td>582491.000000</td>\n",
              "      <td>582491.000000</td>\n",
              "      <td>582491.000000</td>\n",
              "      <td>582491.000000</td>\n",
              "    </tr>\n",
              "    <tr>\n",
              "      <th>mean</th>\n",
              "      <td>225.293893</td>\n",
              "      <td>24082.409496</td>\n",
              "      <td>381.106577</td>\n",
              "      <td>32560.920435</td>\n",
              "      <td>13.730767</td>\n",
              "      <td>5.901664e+06</td>\n",
              "      <td>3.532467</td>\n",
              "      <td>1.005700</td>\n",
              "      <td>674.995171</td>\n",
              "      <td>261.268208</td>\n",
              "      <td>...</td>\n",
              "      <td>2.569454e+04</td>\n",
              "      <td>3.640667e+04</td>\n",
              "      <td>7.009148e+04</td>\n",
              "      <td>4.109131e+03</td>\n",
              "      <td>5.997085e+05</td>\n",
              "      <td>0.023436</td>\n",
              "      <td>0.986369</td>\n",
              "      <td>3.351926</td>\n",
              "      <td>10.320197</td>\n",
              "      <td>21.773286</td>\n",
              "    </tr>\n",
              "    <tr>\n",
              "      <th>std</th>\n",
              "      <td>13.248418</td>\n",
              "      <td>24106.683766</td>\n",
              "      <td>20.376222</td>\n",
              "      <td>19135.608380</td>\n",
              "      <td>5.030588</td>\n",
              "      <td>1.645048e+07</td>\n",
              "      <td>44.966379</td>\n",
              "      <td>41.843967</td>\n",
              "      <td>1310.635858</td>\n",
              "      <td>262.416027</td>\n",
              "      <td>...</td>\n",
              "      <td>2.356005e+05</td>\n",
              "      <td>2.743877e+05</td>\n",
              "      <td>5.239395e+05</td>\n",
              "      <td>1.620065e+05</td>\n",
              "      <td>2.032566e+06</td>\n",
              "      <td>1.084370</td>\n",
              "      <td>0.115954</td>\n",
              "      <td>1.806592</td>\n",
              "      <td>0.482251</td>\n",
              "      <td>17.224063</td>\n",
              "    </tr>\n",
              "    <tr>\n",
              "      <th>min</th>\n",
              "      <td>0.000000</td>\n",
              "      <td>0.000000</td>\n",
              "      <td>0.000000</td>\n",
              "      <td>0.000000</td>\n",
              "      <td>0.000000</td>\n",
              "      <td>0.000000e+00</td>\n",
              "      <td>1.000000</td>\n",
              "      <td>0.000000</td>\n",
              "      <td>0.000000</td>\n",
              "      <td>0.000000</td>\n",
              "      <td>...</td>\n",
              "      <td>0.000000e+00</td>\n",
              "      <td>0.000000e+00</td>\n",
              "      <td>0.000000e+00</td>\n",
              "      <td>0.000000e+00</td>\n",
              "      <td>0.000000e+00</td>\n",
              "      <td>0.000000</td>\n",
              "      <td>0.000000</td>\n",
              "      <td>0.000000</td>\n",
              "      <td>9.000000</td>\n",
              "      <td>0.000000</td>\n",
              "    </tr>\n",
              "    <tr>\n",
              "      <th>25%</th>\n",
              "      <td>224.000000</td>\n",
              "      <td>770.000000</td>\n",
              "      <td>383.000000</td>\n",
              "      <td>15985.000000</td>\n",
              "      <td>6.000000</td>\n",
              "      <td>1.000000e+00</td>\n",
              "      <td>2.000000</td>\n",
              "      <td>0.000000</td>\n",
              "      <td>60.000000</td>\n",
              "      <td>6.000000</td>\n",
              "      <td>...</td>\n",
              "      <td>0.000000e+00</td>\n",
              "      <td>0.000000e+00</td>\n",
              "      <td>0.000000e+00</td>\n",
              "      <td>0.000000e+00</td>\n",
              "      <td>0.000000e+00</td>\n",
              "      <td>0.000000</td>\n",
              "      <td>1.000000</td>\n",
              "      <td>1.000000</td>\n",
              "      <td>10.000000</td>\n",
              "      <td>2.000000</td>\n",
              "    </tr>\n",
              "    <tr>\n",
              "      <th>50%</th>\n",
              "      <td>224.000000</td>\n",
              "      <td>17257.000000</td>\n",
              "      <td>383.000000</td>\n",
              "      <td>32620.000000</td>\n",
              "      <td>17.000000</td>\n",
              "      <td>4.600000e+01</td>\n",
              "      <td>2.000000</td>\n",
              "      <td>0.000000</td>\n",
              "      <td>458.000000</td>\n",
              "      <td>229.000000</td>\n",
              "      <td>...</td>\n",
              "      <td>0.000000e+00</td>\n",
              "      <td>0.000000e+00</td>\n",
              "      <td>0.000000e+00</td>\n",
              "      <td>0.000000e+00</td>\n",
              "      <td>0.000000e+00</td>\n",
              "      <td>0.000000</td>\n",
              "      <td>1.000000</td>\n",
              "      <td>4.000000</td>\n",
              "      <td>10.000000</td>\n",
              "      <td>29.000000</td>\n",
              "    </tr>\n",
              "    <tr>\n",
              "      <th>75%</th>\n",
              "      <td>224.000000</td>\n",
              "      <td>47421.000000</td>\n",
              "      <td>383.000000</td>\n",
              "      <td>49199.000000</td>\n",
              "      <td>17.000000</td>\n",
              "      <td>9.000000e+01</td>\n",
              "      <td>2.000000</td>\n",
              "      <td>0.000000</td>\n",
              "      <td>804.000000</td>\n",
              "      <td>393.000000</td>\n",
              "      <td>...</td>\n",
              "      <td>0.000000e+00</td>\n",
              "      <td>0.000000e+00</td>\n",
              "      <td>0.000000e+00</td>\n",
              "      <td>0.000000e+00</td>\n",
              "      <td>0.000000e+00</td>\n",
              "      <td>0.000000</td>\n",
              "      <td>1.000000</td>\n",
              "      <td>5.000000</td>\n",
              "      <td>11.000000</td>\n",
              "      <td>36.000000</td>\n",
              "    </tr>\n",
              "    <tr>\n",
              "      <th>max</th>\n",
              "      <td>365.000000</td>\n",
              "      <td>65532.000000</td>\n",
              "      <td>432.000000</td>\n",
              "      <td>65535.000000</td>\n",
              "      <td>17.000000</td>\n",
              "      <td>1.199975e+08</td>\n",
              "      <td>25274.000000</td>\n",
              "      <td>31700.000000</td>\n",
              "      <td>150934.000000</td>\n",
              "      <td>3617.000000</td>\n",
              "      <td>...</td>\n",
              "      <td>8.140801e+07</td>\n",
              "      <td>3.610598e+07</td>\n",
              "      <td>8.140801e+07</td>\n",
              "      <td>8.140801e+07</td>\n",
              "      <td>6.188006e+07</td>\n",
              "      <td>87.000000</td>\n",
              "      <td>1.000000</td>\n",
              "      <td>7.000000</td>\n",
              "      <td>11.000000</td>\n",
              "      <td>59.000000</td>\n",
              "    </tr>\n",
              "  </tbody>\n",
              "</table>\n",
              "<p>8 rows × 39 columns</p>\n",
              "</div>\n",
              "      <button class=\"colab-df-convert\" onclick=\"convertToInteractive('df-91dcde0c-72e2-4eb8-96f7-c2171c622598')\"\n",
              "              title=\"Convert this dataframe to an interactive table.\"\n",
              "              style=\"display:none;\">\n",
              "        \n",
              "  <svg xmlns=\"http://www.w3.org/2000/svg\" height=\"24px\"viewBox=\"0 0 24 24\"\n",
              "       width=\"24px\">\n",
              "    <path d=\"M0 0h24v24H0V0z\" fill=\"none\"/>\n",
              "    <path d=\"M18.56 5.44l.94 2.06.94-2.06 2.06-.94-2.06-.94-.94-2.06-.94 2.06-2.06.94zm-11 1L8.5 8.5l.94-2.06 2.06-.94-2.06-.94L8.5 2.5l-.94 2.06-2.06.94zm10 10l.94 2.06.94-2.06 2.06-.94-2.06-.94-.94-2.06-.94 2.06-2.06.94z\"/><path d=\"M17.41 7.96l-1.37-1.37c-.4-.4-.92-.59-1.43-.59-.52 0-1.04.2-1.43.59L10.3 9.45l-7.72 7.72c-.78.78-.78 2.05 0 2.83L4 21.41c.39.39.9.59 1.41.59.51 0 1.02-.2 1.41-.59l7.78-7.78 2.81-2.81c.8-.78.8-2.07 0-2.86zM5.41 20L4 18.59l7.72-7.72 1.47 1.35L5.41 20z\"/>\n",
              "  </svg>\n",
              "      </button>\n",
              "      \n",
              "  <style>\n",
              "    .colab-df-container {\n",
              "      display:flex;\n",
              "      flex-wrap:wrap;\n",
              "      gap: 12px;\n",
              "    }\n",
              "\n",
              "    .colab-df-convert {\n",
              "      background-color: #E8F0FE;\n",
              "      border: none;\n",
              "      border-radius: 50%;\n",
              "      cursor: pointer;\n",
              "      display: none;\n",
              "      fill: #1967D2;\n",
              "      height: 32px;\n",
              "      padding: 0 0 0 0;\n",
              "      width: 32px;\n",
              "    }\n",
              "\n",
              "    .colab-df-convert:hover {\n",
              "      background-color: #E2EBFA;\n",
              "      box-shadow: 0px 1px 2px rgba(60, 64, 67, 0.3), 0px 1px 3px 1px rgba(60, 64, 67, 0.15);\n",
              "      fill: #174EA6;\n",
              "    }\n",
              "\n",
              "    [theme=dark] .colab-df-convert {\n",
              "      background-color: #3B4455;\n",
              "      fill: #D2E3FC;\n",
              "    }\n",
              "\n",
              "    [theme=dark] .colab-df-convert:hover {\n",
              "      background-color: #434B5C;\n",
              "      box-shadow: 0px 1px 3px 1px rgba(0, 0, 0, 0.15);\n",
              "      filter: drop-shadow(0px 1px 2px rgba(0, 0, 0, 0.3));\n",
              "      fill: #FFFFFF;\n",
              "    }\n",
              "  </style>\n",
              "\n",
              "      <script>\n",
              "        const buttonEl =\n",
              "          document.querySelector('#df-91dcde0c-72e2-4eb8-96f7-c2171c622598 button.colab-df-convert');\n",
              "        buttonEl.style.display =\n",
              "          google.colab.kernel.accessAllowed ? 'block' : 'none';\n",
              "\n",
              "        async function convertToInteractive(key) {\n",
              "          const element = document.querySelector('#df-91dcde0c-72e2-4eb8-96f7-c2171c622598');\n",
              "          const dataTable =\n",
              "            await google.colab.kernel.invokeFunction('convertToInteractive',\n",
              "                                                     [key], {});\n",
              "          if (!dataTable) return;\n",
              "\n",
              "          const docLinkHtml = 'Like what you see? Visit the ' +\n",
              "            '<a target=\"_blank\" href=https://colab.research.google.com/notebooks/data_table.ipynb>data table notebook</a>'\n",
              "            + ' to learn more about interactive tables.';\n",
              "          element.innerHTML = '';\n",
              "          dataTable['output_type'] = 'display_data';\n",
              "          await google.colab.output.renderOutput(dataTable, element);\n",
              "          const docLink = document.createElement('div');\n",
              "          docLink.innerHTML = docLinkHtml;\n",
              "          element.appendChild(docLink);\n",
              "        }\n",
              "      </script>\n",
              "    </div>\n",
              "  </div>\n",
              "  "
            ]
          },
          "metadata": {},
          "execution_count": 87
        }
      ],
      "source": [
        "df.describe()"
      ]
    },
    {
      "cell_type": "markdown",
      "metadata": {
        "id": "StrAvv07Vm9F"
      },
      "source": [
        "# saving clean dataframe as csv in drive"
      ]
    },
    {
      "cell_type": "code",
      "execution_count": null,
      "metadata": {
        "id": "yWD7zXIOUpV1",
        "colab": {
          "base_uri": "https://localhost:8080/"
        },
        "outputId": "f2fad963-94e8-43ed-9d8c-d119283bbc45"
      },
      "outputs": [
        {
          "output_type": "stream",
          "name": "stdout",
          "text": [
            "Mounted at /content/drive\n"
          ]
        }
      ],
      "source": [
        "# from google.colab import drive\n",
        "# drive.mount('/content/drive')"
      ]
    },
    {
      "cell_type": "code",
      "execution_count": null,
      "metadata": {
        "id": "Rnia78FxU-V4"
      },
      "outputs": [],
      "source": [
        "# df.to_csv('/content/drive/MyDrive/clean_ddos.csv')"
      ]
    },
    {
      "cell_type": "markdown",
      "metadata": {
        "id": "tlvoEjvL75XV"
      },
      "source": [
        "# Desicion Tree on clear csv to find important features"
      ]
    },
    {
      "cell_type": "code",
      "execution_count": null,
      "metadata": {
        "id": "KZJ4gQ-n8EbQ",
        "colab": {
          "base_uri": "https://localhost:8080/"
        },
        "outputId": "74e75bc2-4099-4567-c144-8101f4b6c947"
      },
      "outputs": [
        {
          "output_type": "execute_result",
          "data": {
            "text/plain": [
              "DecisionTreeClassifier(max_depth=10, random_state=99)"
            ]
          },
          "metadata": {},
          "execution_count": 90
        }
      ],
      "source": [
        "from sklearn import tree\n",
        "from sklearn.tree import DecisionTreeClassifier, export_graphviz\n",
        "import graphviz\n",
        "import subprocess\n",
        "\n",
        "\n",
        "sel_features = np.array(df.columns).tolist()\n",
        "sel_features.remove('Label')\n",
        "\n",
        "# Fit the decision tree with scikit-learn\n",
        "y = df['Label']\n",
        "X = df[sel_features]\n",
        "\n",
        "\n",
        "dt = DecisionTreeClassifier(max_depth=10, random_state=99)\n",
        "dt.fit(X, y)"
      ]
    },
    {
      "cell_type": "code",
      "execution_count": null,
      "metadata": {
        "id": "DpB8Ga768nTa"
      },
      "outputs": [],
      "source": [
        "# Visualize the tree\n",
        "def visualize_tree(tree, feature_names):\n",
        "    with open(\"dt.dot\", 'w') as f:\n",
        "        export_graphviz(tree, out_file=f,feature_names=feature_names)\n",
        "\n",
        "    command = [\"dot\", \"-Tpng\", \"dt.dot\", \"-o\", \"dt.png\"]\n",
        "    try:\n",
        "        subprocess.check_call(command)\n",
        "    except:\n",
        "        exit(\"Could not run dot, ie graphviz, to \"\n",
        "             \"produce visualization\")"
      ]
    },
    {
      "cell_type": "code",
      "execution_count": null,
      "metadata": {
        "id": "5glaRcRL8uyB",
        "colab": {
          "base_uri": "https://localhost:8080/",
          "height": 1000
        },
        "outputId": "41e8961c-c75a-4a86-850a-bc91130d14fb"
      },
      "outputs": [
        {
          "output_type": "execute_result",
          "data": {
            "text/plain": [
              "<graphviz.files.Source at 0x7fd37877d790>"
            ],
            "image/svg+xml": "<?xml version=\"1.0\" encoding=\"UTF-8\" standalone=\"no\"?>\n<!DOCTYPE svg PUBLIC \"-//W3C//DTD SVG 1.1//EN\"\n \"http://www.w3.org/Graphics/SVG/1.1/DTD/svg11.dtd\">\n<!-- Generated by graphviz version 2.40.1 (20161225.0304)\n -->\n<!-- Title: Tree Pages: 1 -->\n<svg width=\"28291pt\" height=\"1101pt\"\n viewBox=\"0.00 0.00 28291.00 1101.00\" xmlns=\"http://www.w3.org/2000/svg\" xmlns:xlink=\"http://www.w3.org/1999/xlink\">\n<g id=\"graph0\" class=\"graph\" transform=\"scale(1 1) rotate(0) translate(4 1097)\">\n<title>Tree</title>\n<polygon fill=\"#ffffff\" stroke=\"transparent\" points=\"-4,4 -4,-1097 28287,-1097 28287,4 -4,4\"/>\n<!-- 0 -->\n<g id=\"node1\" class=\"node\">\n<title>0</title>\n<path fill=\"#fffffe\" stroke=\"#000000\" d=\"M26374.5,-1093C26374.5,-1093 25949.5,-1093 25949.5,-1093 25943.5,-1093 25937.5,-1087 25937.5,-1081 25937.5,-1081 25937.5,-1037 25937.5,-1037 25937.5,-1031 25943.5,-1025 25949.5,-1025 25949.5,-1025 26374.5,-1025 26374.5,-1025 26380.5,-1025 26386.5,-1031 26386.5,-1037 26386.5,-1037 26386.5,-1081 26386.5,-1081 26386.5,-1087 26380.5,-1093 26374.5,-1093\"/>\n<text text-anchor=\"start\" x=\"26056\" y=\"-1077.8\" font-family=\"Helvetica,sans-Serif\" font-size=\"14.00\" fill=\"#000000\">Init_Win_bytes_forward ≤ 5744.5</text>\n<text text-anchor=\"start\" x=\"26124\" y=\"-1062.8\" font-family=\"Helvetica,sans-Serif\" font-size=\"14.00\" fill=\"#000000\">gini = 0.776</text>\n<text text-anchor=\"start\" x=\"26101.5\" y=\"-1047.8\" font-family=\"Helvetica,sans-Serif\" font-size=\"14.00\" fill=\"#000000\">samples = 582491</text>\n<text text-anchor=\"start\" x=\"25945.5\" y=\"-1032.8\" font-family=\"Helvetica,sans-Serif\" font-size=\"14.00\" fill=\"#000000\">value = [7950, 167431, 3383, 111071, 73569, 164718, 53392, 977]</text>\n</g>\n<!-- 1 -->\n<g id=\"node2\" class=\"node\">\n<title>1</title>\n<path fill=\"#f5fada\" stroke=\"#000000\" d=\"M25151.5,-989C25151.5,-989 24750.5,-989 24750.5,-989 24744.5,-989 24738.5,-983 24738.5,-977 24738.5,-977 24738.5,-933 24738.5,-933 24738.5,-927 24744.5,-921 24750.5,-921 24750.5,-921 25151.5,-921 25151.5,-921 25157.5,-921 25163.5,-927 25163.5,-933 25163.5,-933 25163.5,-977 25163.5,-977 25163.5,-983 25157.5,-989 25151.5,-989\"/>\n<text text-anchor=\"start\" x=\"24880.5\" y=\"-973.8\" font-family=\"Helvetica,sans-Serif\" font-size=\"14.00\" fill=\"#000000\"> Source Port ≤ 1228.0</text>\n<text text-anchor=\"start\" x=\"24913\" y=\"-958.8\" font-family=\"Helvetica,sans-Serif\" font-size=\"14.00\" fill=\"#000000\">gini = 0.717</text>\n<text text-anchor=\"start\" x=\"24890.5\" y=\"-943.8\" font-family=\"Helvetica,sans-Serif\" font-size=\"14.00\" fill=\"#000000\">samples = 414161</text>\n<text text-anchor=\"start\" x=\"24746.5\" y=\"-928.8\" font-family=\"Helvetica,sans-Serif\" font-size=\"14.00\" fill=\"#000000\">value = [4625, 167428, 3375, 111040, 73275, 113, 53373, 932]</text>\n</g>\n<!-- 0&#45;&gt;1 -->\n<g id=\"edge1\" class=\"edge\">\n<title>0&#45;&gt;1</title>\n<path fill=\"none\" stroke=\"#000000\" d=\"M25937.4122,-1039.7125C25719.6394,-1021.0103 25391.1778,-992.8022 25173.959,-974.1476\"/>\n<polygon fill=\"#000000\" stroke=\"#000000\" points=\"25173.9631,-970.6351 25163.7003,-973.2666 25173.3641,-977.6095 25173.9631,-970.6351\"/>\n<text text-anchor=\"middle\" x=\"25179.8005\" y=\"-988.692\" font-family=\"Helvetica,sans-Serif\" font-size=\"14.00\" fill=\"#000000\">True</text>\n</g>\n<!-- 338 -->\n<g id=\"node339\" class=\"node\">\n<title>338</title>\n<path fill=\"#5a3de6\" stroke=\"#000000\" d=\"M26843.5,-989C26843.5,-989 26566.5,-989 26566.5,-989 26560.5,-989 26554.5,-983 26554.5,-977 26554.5,-977 26554.5,-933 26554.5,-933 26554.5,-927 26560.5,-921 26566.5,-921 26566.5,-921 26843.5,-921 26843.5,-921 26849.5,-921 26855.5,-927 26855.5,-933 26855.5,-933 26855.5,-977 26855.5,-977 26855.5,-983 26849.5,-989 26843.5,-989\"/>\n<text text-anchor=\"start\" x=\"26599\" y=\"-973.8\" font-family=\"Helvetica,sans-Serif\" font-size=\"14.00\" fill=\"#000000\">Init_Win_bytes_forward ≤ 5954.0</text>\n<text text-anchor=\"start\" x=\"26667\" y=\"-958.8\" font-family=\"Helvetica,sans-Serif\" font-size=\"14.00\" fill=\"#000000\">gini = 0.043</text>\n<text text-anchor=\"start\" x=\"26644.5\" y=\"-943.8\" font-family=\"Helvetica,sans-Serif\" font-size=\"14.00\" fill=\"#000000\">samples = 168330</text>\n<text text-anchor=\"start\" x=\"26562.5\" y=\"-928.8\" font-family=\"Helvetica,sans-Serif\" font-size=\"14.00\" fill=\"#000000\">value = [3325, 3, 8, 31, 294, 164605, 19, 45]</text>\n</g>\n<!-- 0&#45;&gt;338 -->\n<g id=\"edge338\" class=\"edge\">\n<title>0&#45;&gt;338</title>\n<path fill=\"none\" stroke=\"#000000\" d=\"M26339.7985,-1024.9465C26405.5635,-1012.3506 26479.689,-998.1535 26543.8892,-985.8573\"/>\n<polygon fill=\"#000000\" stroke=\"#000000\" points=\"26544.9418,-989.2194 26554.1049,-983.9007 26543.625,-982.3444 26544.9418,-989.2194\"/>\n<text text-anchor=\"middle\" x=\"26540.0681\" y=\"-1000.8881\" font-family=\"Helvetica,sans-Serif\" font-size=\"14.00\" fill=\"#000000\">False</text>\n</g>\n<!-- 2 -->\n<g id=\"node3\" class=\"node\">\n<title>2</title>\n<path fill=\"#e1f192\" stroke=\"#000000\" d=\"M20825,-885C20825,-885 20499,-885 20499,-885 20493,-885 20487,-879 20487,-873 20487,-873 20487,-829 20487,-829 20487,-823 20493,-817 20499,-817 20499,-817 20825,-817 20825,-817 20831,-817 20837,-823 20837,-829 20837,-829 20837,-873 20837,-873 20837,-879 20831,-885 20825,-885\"/>\n<text text-anchor=\"start\" x=\"20622.5\" y=\"-869.8\" font-family=\"Helvetica,sans-Serif\" font-size=\"14.00\" fill=\"#000000\">minute ≤ 1.5</text>\n<text text-anchor=\"start\" x=\"20624\" y=\"-854.8\" font-family=\"Helvetica,sans-Serif\" font-size=\"14.00\" fill=\"#000000\">gini = 0.448</text>\n<text text-anchor=\"start\" x=\"20601.5\" y=\"-839.8\" font-family=\"Helvetica,sans-Serif\" font-size=\"14.00\" fill=\"#000000\">samples = 245697</text>\n<text text-anchor=\"start\" x=\"20495\" y=\"-824.8\" font-family=\"Helvetica,sans-Serif\" font-size=\"14.00\" fill=\"#000000\">value = [2197, 167402, 3357, 188, 72481, 3, 22, 47]</text>\n</g>\n<!-- 1&#45;&gt;2 -->\n<g id=\"edge2\" class=\"edge\">\n<title>1&#45;&gt;2</title>\n<path fill=\"none\" stroke=\"#000000\" d=\"M24738.3078,-949.8426C23998.2091,-931.8967 21542.8143,-872.3581 20847.1502,-855.4895\"/>\n<polygon fill=\"#000000\" stroke=\"#000000\" points=\"20847.1193,-851.9879 20837.0373,-855.2443 20846.9495,-858.9858 20847.1193,-851.9879\"/>\n</g>\n<!-- 231 -->\n<g id=\"node232\" class=\"node\">\n<title>231</title>\n<path fill=\"#9cf2d6\" stroke=\"#000000\" d=\"M25118.5,-885C25118.5,-885 24783.5,-885 24783.5,-885 24777.5,-885 24771.5,-879 24771.5,-873 24771.5,-873 24771.5,-829 24771.5,-829 24771.5,-823 24777.5,-817 24783.5,-817 24783.5,-817 25118.5,-817 25118.5,-817 25124.5,-817 25130.5,-823 25130.5,-829 25130.5,-829 25130.5,-873 25130.5,-873 25130.5,-879 25124.5,-885 25118.5,-885\"/>\n<text text-anchor=\"start\" x=\"24844.5\" y=\"-869.8\" font-family=\"Helvetica,sans-Serif\" font-size=\"14.00\" fill=\"#000000\"> Fwd Packet Length Max ≤ 401.5</text>\n<text text-anchor=\"start\" x=\"24913\" y=\"-854.8\" font-family=\"Helvetica,sans-Serif\" font-size=\"14.00\" fill=\"#000000\">gini = 0.466</text>\n<text text-anchor=\"start\" x=\"24890.5\" y=\"-839.8\" font-family=\"Helvetica,sans-Serif\" font-size=\"14.00\" fill=\"#000000\">samples = 168464</text>\n<text text-anchor=\"start\" x=\"24779.5\" y=\"-824.8\" font-family=\"Helvetica,sans-Serif\" font-size=\"14.00\" fill=\"#000000\">value = [2428, 26, 18, 110852, 794, 110, 53351, 885]</text>\n</g>\n<!-- 1&#45;&gt;231 -->\n<g id=\"edge231\" class=\"edge\">\n<title>1&#45;&gt;231</title>\n<path fill=\"none\" stroke=\"#000000\" d=\"M24951,-920.9465C24951,-912.776 24951,-903.9318 24951,-895.3697\"/>\n<polygon fill=\"#000000\" stroke=\"#000000\" points=\"24954.5001,-895.13 24951,-885.13 24947.5001,-895.13 24954.5001,-895.13\"/>\n</g>\n<!-- 3 -->\n<g id=\"node4\" class=\"node\">\n<title>3</title>\n<path fill=\"#9acdf2\" stroke=\"#000000\" d=\"M14612,-781C14612,-781 14368,-781 14368,-781 14362,-781 14356,-775 14356,-769 14356,-769 14356,-725 14356,-725 14356,-719 14362,-713 14368,-713 14368,-713 14612,-713 14612,-713 14618,-713 14624,-719 14624,-725 14624,-725 14624,-769 14624,-769 14624,-775 14618,-781 14612,-781\"/>\n<text text-anchor=\"start\" x=\"14402\" y=\"-765.8\" font-family=\"Helvetica,sans-Serif\" font-size=\"14.00\" fill=\"#000000\"> Fwd Header Length ≤ 15.0</text>\n<text text-anchor=\"start\" x=\"14452\" y=\"-750.8\" font-family=\"Helvetica,sans-Serif\" font-size=\"14.00\" fill=\"#000000\">gini = 0.442</text>\n<text text-anchor=\"start\" x=\"14429.5\" y=\"-735.8\" font-family=\"Helvetica,sans-Serif\" font-size=\"14.00\" fill=\"#000000\">samples = 107580</text>\n<text text-anchor=\"start\" x=\"14364\" y=\"-720.8\" font-family=\"Helvetica,sans-Serif\" font-size=\"14.00\" fill=\"#000000\">value = [79, 35298, 0, 0, 72202, 0, 1, 0]</text>\n</g>\n<!-- 2&#45;&gt;3 -->\n<g id=\"edge3\" class=\"edge\">\n<title>2&#45;&gt;3</title>\n<path fill=\"none\" stroke=\"#000000\" d=\"M20486.8169,-848.0481C19583.28,-832.8233 15460.1795,-763.3478 14634.2743,-749.4311\"/>\n<polygon fill=\"#000000\" stroke=\"#000000\" points=\"14634.1778,-745.929 14624.1203,-749.26 14634.0598,-752.928 14634.1778,-745.929\"/>\n</g>\n<!-- 196 -->\n<g id=\"node197\" class=\"node\">\n<title>196</title>\n<path fill=\"#cae642\" stroke=\"#000000\" d=\"M20817,-781C20817,-781 20507,-781 20507,-781 20501,-781 20495,-775 20495,-769 20495,-769 20495,-725 20495,-725 20495,-719 20501,-713 20507,-713 20507,-713 20817,-713 20817,-713 20823,-713 20829,-719 20829,-725 20829,-725 20829,-769 20829,-769 20829,-775 20823,-781 20817,-781\"/>\n<text text-anchor=\"start\" x=\"20622.5\" y=\"-765.8\" font-family=\"Helvetica,sans-Serif\" font-size=\"14.00\" fill=\"#000000\">minute ≤ 9.5</text>\n<text text-anchor=\"start\" x=\"20624\" y=\"-750.8\" font-family=\"Helvetica,sans-Serif\" font-size=\"14.00\" fill=\"#000000\">gini = 0.084</text>\n<text text-anchor=\"start\" x=\"20601.5\" y=\"-735.8\" font-family=\"Helvetica,sans-Serif\" font-size=\"14.00\" fill=\"#000000\">samples = 138117</text>\n<text text-anchor=\"start\" x=\"20503\" y=\"-720.8\" font-family=\"Helvetica,sans-Serif\" font-size=\"14.00\" fill=\"#000000\">value = [2118, 132104, 3357, 188, 279, 3, 21, 47]</text>\n</g>\n<!-- 2&#45;&gt;196 -->\n<g id=\"edge196\" class=\"edge\">\n<title>2&#45;&gt;196</title>\n<path fill=\"none\" stroke=\"#000000\" d=\"M20662,-816.9465C20662,-808.776 20662,-799.9318 20662,-791.3697\"/>\n<polygon fill=\"#000000\" stroke=\"#000000\" points=\"20665.5001,-791.13 20662,-781.13 20658.5001,-791.13 20665.5001,-791.13\"/>\n</g>\n<!-- 4 -->\n<g id=\"node5\" class=\"node\">\n<title>4</title>\n<path fill=\"#d8ec72\" stroke=\"#000000\" d=\"M8047,-677C8047,-677 7817,-677 7817,-677 7811,-677 7805,-671 7805,-665 7805,-665 7805,-621 7805,-621 7805,-615 7811,-609 7817,-609 7817,-609 8047,-609 8047,-609 8053,-609 8059,-615 8059,-621 8059,-621 8059,-665 8059,-665 8059,-671 8053,-677 8047,-677\"/>\n<text text-anchor=\"start\" x=\"7813\" y=\"-661.8\" font-family=\"Helvetica,sans-Serif\" font-size=\"14.00\" fill=\"#000000\"> Fwd Header Length ≤ &#45;531359492.0</text>\n<text text-anchor=\"start\" x=\"7894\" y=\"-646.8\" font-family=\"Helvetica,sans-Serif\" font-size=\"14.00\" fill=\"#000000\">gini = 0.347</text>\n<text text-anchor=\"start\" x=\"7876\" y=\"-631.8\" font-family=\"Helvetica,sans-Serif\" font-size=\"14.00\" fill=\"#000000\">samples = 10983</text>\n<text text-anchor=\"start\" x=\"7818.5\" y=\"-616.8\" font-family=\"Helvetica,sans-Serif\" font-size=\"14.00\" fill=\"#000000\">value = [6, 8533, 0, 0, 2443, 0, 1, 0]</text>\n</g>\n<!-- 3&#45;&gt;4 -->\n<g id=\"edge4\" class=\"edge\">\n<title>3&#45;&gt;4</title>\n<path fill=\"none\" stroke=\"#000000\" d=\"M14355.6561,-744.8695C13509.444,-731.4499 8924.9742,-658.7471 8069.5074,-645.1807\"/>\n<polygon fill=\"#000000\" stroke=\"#000000\" points=\"8069.3651,-641.6781 8059.3108,-645.019 8069.254,-648.6772 8069.3651,-641.6781\"/>\n</g>\n<!-- 91 -->\n<g id=\"node92\" class=\"node\">\n<title>91</title>\n<path fill=\"#85c3ef\" stroke=\"#000000\" d=\"M14612,-677C14612,-677 14368,-677 14368,-677 14362,-677 14356,-671 14356,-665 14356,-665 14356,-621 14356,-621 14356,-615 14362,-609 14368,-609 14368,-609 14612,-609 14612,-609 14618,-609 14624,-615 14624,-621 14624,-621 14624,-665 14624,-665 14624,-671 14618,-677 14612,-677\"/>\n<text text-anchor=\"start\" x=\"14402\" y=\"-661.8\" font-family=\"Helvetica,sans-Serif\" font-size=\"14.00\" fill=\"#000000\"> Fwd Header Length ≤ 39.0</text>\n<text text-anchor=\"start\" x=\"14452\" y=\"-646.8\" font-family=\"Helvetica,sans-Serif\" font-size=\"14.00\" fill=\"#000000\">gini = 0.402</text>\n<text text-anchor=\"start\" x=\"14434\" y=\"-631.8\" font-family=\"Helvetica,sans-Serif\" font-size=\"14.00\" fill=\"#000000\">samples = 96597</text>\n<text text-anchor=\"start\" x=\"14364\" y=\"-616.8\" font-family=\"Helvetica,sans-Serif\" font-size=\"14.00\" fill=\"#000000\">value = [73, 26765, 0, 0, 69759, 0, 0, 0]</text>\n</g>\n<!-- 3&#45;&gt;91 -->\n<g id=\"edge91\" class=\"edge\">\n<title>3&#45;&gt;91</title>\n<path fill=\"none\" stroke=\"#000000\" d=\"M14490,-712.9465C14490,-704.776 14490,-695.9318 14490,-687.3697\"/>\n<polygon fill=\"#000000\" stroke=\"#000000\" points=\"14493.5001,-687.13 14490,-677.13 14486.5001,-687.13 14493.5001,-687.13\"/>\n</g>\n<!-- 5 -->\n<g id=\"node6\" class=\"node\">\n<title>5</title>\n<path fill=\"#89c4ef\" stroke=\"#000000\" d=\"M5390.5,-573C5390.5,-573 5179.5,-573 5179.5,-573 5173.5,-573 5167.5,-567 5167.5,-561 5167.5,-561 5167.5,-517 5167.5,-517 5167.5,-511 5173.5,-505 5179.5,-505 5179.5,-505 5390.5,-505 5390.5,-505 5396.5,-505 5402.5,-511 5402.5,-517 5402.5,-517 5402.5,-561 5402.5,-561 5402.5,-567 5396.5,-573 5390.5,-573\"/>\n<text text-anchor=\"start\" x=\"5218.5\" y=\"-557.8\" font-family=\"Helvetica,sans-Serif\" font-size=\"14.00\" fill=\"#000000\"> Source Port ≤ 866.5</text>\n<text text-anchor=\"start\" x=\"5247\" y=\"-542.8\" font-family=\"Helvetica,sans-Serif\" font-size=\"14.00\" fill=\"#000000\">gini = 0.409</text>\n<text text-anchor=\"start\" x=\"5233\" y=\"-527.8\" font-family=\"Helvetica,sans-Serif\" font-size=\"14.00\" fill=\"#000000\">samples = 2504</text>\n<text text-anchor=\"start\" x=\"5175.5\" y=\"-512.8\" font-family=\"Helvetica,sans-Serif\" font-size=\"14.00\" fill=\"#000000\">value = [0, 719, 0, 0, 1785, 0, 0, 0]</text>\n</g>\n<!-- 4&#45;&gt;5 -->\n<g id=\"edge5\" class=\"edge\">\n<title>4&#45;&gt;5</title>\n<path fill=\"none\" stroke=\"#000000\" d=\"M7804.7759,-638.0014C7357.5961,-620.4318 5860.8578,-561.6253 5412.7915,-544.0209\"/>\n<polygon fill=\"#000000\" stroke=\"#000000\" points=\"5412.8541,-540.5208 5402.7244,-543.6254 5412.5792,-547.5154 5412.8541,-540.5208\"/>\n</g>\n<!-- 66 -->\n<g id=\"node67\" class=\"node\">\n<title>66</title>\n<path fill=\"#cde74a\" stroke=\"#000000\" d=\"M8037.5,-573C8037.5,-573 7826.5,-573 7826.5,-573 7820.5,-573 7814.5,-567 7814.5,-561 7814.5,-561 7814.5,-517 7814.5,-517 7814.5,-511 7820.5,-505 7826.5,-505 7826.5,-505 8037.5,-505 8037.5,-505 8043.5,-505 8049.5,-511 8049.5,-517 8049.5,-517 8049.5,-561 8049.5,-561 8049.5,-567 8043.5,-573 8037.5,-573\"/>\n<text text-anchor=\"start\" x=\"7846\" y=\"-557.8\" font-family=\"Helvetica,sans-Serif\" font-size=\"14.00\" fill=\"#000000\"> Fwd Header Length ≤ &#45;1.0</text>\n<text text-anchor=\"start\" x=\"7894\" y=\"-542.8\" font-family=\"Helvetica,sans-Serif\" font-size=\"14.00\" fill=\"#000000\">gini = 0.145</text>\n<text text-anchor=\"start\" x=\"7880\" y=\"-527.8\" font-family=\"Helvetica,sans-Serif\" font-size=\"14.00\" fill=\"#000000\">samples = 8479</text>\n<text text-anchor=\"start\" x=\"7822.5\" y=\"-512.8\" font-family=\"Helvetica,sans-Serif\" font-size=\"14.00\" fill=\"#000000\">value = [6, 7814, 0, 0, 658, 0, 1, 0]</text>\n</g>\n<!-- 4&#45;&gt;66 -->\n<g id=\"edge66\" class=\"edge\">\n<title>4&#45;&gt;66</title>\n<path fill=\"none\" stroke=\"#000000\" d=\"M7932,-608.9465C7932,-600.776 7932,-591.9318 7932,-583.3697\"/>\n<polygon fill=\"#000000\" stroke=\"#000000\" points=\"7935.5001,-583.13 7932,-573.13 7928.5001,-583.13 7935.5001,-583.13\"/>\n</g>\n<!-- 6 -->\n<g id=\"node7\" class=\"node\">\n<title>6</title>\n<path fill=\"#72b9ec\" stroke=\"#000000\" d=\"M2703.5,-469C2703.5,-469 2492.5,-469 2492.5,-469 2486.5,-469 2480.5,-463 2480.5,-457 2480.5,-457 2480.5,-413 2480.5,-413 2480.5,-407 2486.5,-401 2492.5,-401 2492.5,-401 2703.5,-401 2703.5,-401 2709.5,-401 2715.5,-407 2715.5,-413 2715.5,-413 2715.5,-457 2715.5,-457 2715.5,-463 2709.5,-469 2703.5,-469\"/>\n<text text-anchor=\"start\" x=\"2531.5\" y=\"-453.8\" font-family=\"Helvetica,sans-Serif\" font-size=\"14.00\" fill=\"#000000\"> Source Port ≤ 598.5</text>\n<text text-anchor=\"start\" x=\"2560\" y=\"-438.8\" font-family=\"Helvetica,sans-Serif\" font-size=\"14.00\" fill=\"#000000\">gini = 0.345</text>\n<text text-anchor=\"start\" x=\"2546\" y=\"-423.8\" font-family=\"Helvetica,sans-Serif\" font-size=\"14.00\" fill=\"#000000\">samples = 2031</text>\n<text text-anchor=\"start\" x=\"2488.5\" y=\"-408.8\" font-family=\"Helvetica,sans-Serif\" font-size=\"14.00\" fill=\"#000000\">value = [0, 451, 0, 0, 1580, 0, 0, 0]</text>\n</g>\n<!-- 5&#45;&gt;6 -->\n<g id=\"edge6\" class=\"edge\">\n<title>5&#45;&gt;6</title>\n<path fill=\"none\" stroke=\"#000000\" d=\"M5167.3815,-534.4476C4727.7017,-517.4298 3182.6054,-457.6271 2725.9945,-439.954\"/>\n<polygon fill=\"#000000\" stroke=\"#000000\" points=\"2725.8669,-436.4465 2715.739,-439.5571 2725.5961,-443.4413 2725.8669,-436.4465\"/>\n</g>\n<!-- 37 -->\n<g id=\"node38\" class=\"node\">\n<title>37</title>\n<path fill=\"#f2f9d0\" stroke=\"#000000\" d=\"M5386.5,-469C5386.5,-469 5183.5,-469 5183.5,-469 5177.5,-469 5171.5,-463 5171.5,-457 5171.5,-457 5171.5,-413 5171.5,-413 5171.5,-407 5177.5,-401 5183.5,-401 5183.5,-401 5386.5,-401 5386.5,-401 5392.5,-401 5398.5,-407 5398.5,-413 5398.5,-413 5398.5,-457 5398.5,-457 5398.5,-463 5392.5,-469 5386.5,-469\"/>\n<text text-anchor=\"start\" x=\"5218.5\" y=\"-453.8\" font-family=\"Helvetica,sans-Serif\" font-size=\"14.00\" fill=\"#000000\"> Source Port ≤ 946.5</text>\n<text text-anchor=\"start\" x=\"5247\" y=\"-438.8\" font-family=\"Helvetica,sans-Serif\" font-size=\"14.00\" fill=\"#000000\">gini = 0.491</text>\n<text text-anchor=\"start\" x=\"5237\" y=\"-423.8\" font-family=\"Helvetica,sans-Serif\" font-size=\"14.00\" fill=\"#000000\">samples = 473</text>\n<text text-anchor=\"start\" x=\"5179.5\" y=\"-408.8\" font-family=\"Helvetica,sans-Serif\" font-size=\"14.00\" fill=\"#000000\">value = [0, 268, 0, 0, 205, 0, 0, 0]</text>\n</g>\n<!-- 5&#45;&gt;37 -->\n<g id=\"edge37\" class=\"edge\">\n<title>5&#45;&gt;37</title>\n<path fill=\"none\" stroke=\"#000000\" d=\"M5285,-504.9465C5285,-496.776 5285,-487.9318 5285,-479.3697\"/>\n<polygon fill=\"#000000\" stroke=\"#000000\" points=\"5288.5001,-479.13 5285,-469.13 5281.5001,-479.13 5288.5001,-479.13\"/>\n</g>\n<!-- 7 -->\n<g id=\"node8\" class=\"node\">\n<title>7</title>\n<path fill=\"#f1f8cb\" stroke=\"#000000\" d=\"M1406.5,-365C1406.5,-365 1203.5,-365 1203.5,-365 1197.5,-365 1191.5,-359 1191.5,-353 1191.5,-353 1191.5,-309 1191.5,-309 1191.5,-303 1197.5,-297 1203.5,-297 1203.5,-297 1406.5,-297 1406.5,-297 1412.5,-297 1418.5,-303 1418.5,-309 1418.5,-309 1418.5,-353 1418.5,-353 1418.5,-359 1412.5,-365 1406.5,-365\"/>\n<text text-anchor=\"start\" x=\"1238.5\" y=\"-349.8\" font-family=\"Helvetica,sans-Serif\" font-size=\"14.00\" fill=\"#000000\"> Source Port ≤ 544.5</text>\n<text text-anchor=\"start\" x=\"1267\" y=\"-334.8\" font-family=\"Helvetica,sans-Serif\" font-size=\"14.00\" fill=\"#000000\">gini = 0.489</text>\n<text text-anchor=\"start\" x=\"1257\" y=\"-319.8\" font-family=\"Helvetica,sans-Serif\" font-size=\"14.00\" fill=\"#000000\">samples = 280</text>\n<text text-anchor=\"start\" x=\"1199.5\" y=\"-304.8\" font-family=\"Helvetica,sans-Serif\" font-size=\"14.00\" fill=\"#000000\">value = [0, 161, 0, 0, 119, 0, 0, 0]</text>\n</g>\n<!-- 6&#45;&gt;7 -->\n<g id=\"edge7\" class=\"edge\">\n<title>6&#45;&gt;7</title>\n<path fill=\"none\" stroke=\"#000000\" d=\"M2480.4014,-425.5412C2236.6333,-405.9342 1678.2319,-361.0202 1429.0344,-340.9765\"/>\n<polygon fill=\"#000000\" stroke=\"#000000\" points=\"1429.1001,-337.4705 1418.8517,-340.1574 1428.5388,-344.448 1429.1001,-337.4705\"/>\n</g>\n<!-- 22 -->\n<g id=\"node23\" class=\"node\">\n<title>22</title>\n<path fill=\"#60b0ea\" stroke=\"#000000\" d=\"M2703.5,-365C2703.5,-365 2492.5,-365 2492.5,-365 2486.5,-365 2480.5,-359 2480.5,-353 2480.5,-353 2480.5,-309 2480.5,-309 2480.5,-303 2486.5,-297 2492.5,-297 2492.5,-297 2703.5,-297 2703.5,-297 2709.5,-297 2715.5,-303 2715.5,-309 2715.5,-309 2715.5,-353 2715.5,-353 2715.5,-359 2709.5,-365 2703.5,-365\"/>\n<text text-anchor=\"start\" x=\"2531.5\" y=\"-349.8\" font-family=\"Helvetica,sans-Serif\" font-size=\"14.00\" fill=\"#000000\"> Source Port ≤ 656.5</text>\n<text text-anchor=\"start\" x=\"2560\" y=\"-334.8\" font-family=\"Helvetica,sans-Serif\" font-size=\"14.00\" fill=\"#000000\">gini = 0.276</text>\n<text text-anchor=\"start\" x=\"2546\" y=\"-319.8\" font-family=\"Helvetica,sans-Serif\" font-size=\"14.00\" fill=\"#000000\">samples = 1751</text>\n<text text-anchor=\"start\" x=\"2488.5\" y=\"-304.8\" font-family=\"Helvetica,sans-Serif\" font-size=\"14.00\" fill=\"#000000\">value = [0, 290, 0, 0, 1461, 0, 0, 0]</text>\n</g>\n<!-- 6&#45;&gt;22 -->\n<g id=\"edge22\" class=\"edge\">\n<title>6&#45;&gt;22</title>\n<path fill=\"none\" stroke=\"#000000\" d=\"M2598,-400.9465C2598,-392.776 2598,-383.9318 2598,-375.3697\"/>\n<polygon fill=\"#000000\" stroke=\"#000000\" points=\"2601.5001,-375.13 2598,-365.13 2594.5001,-375.13 2601.5001,-375.13\"/>\n</g>\n<!-- 8 -->\n<g id=\"node9\" class=\"node\">\n<title>8</title>\n<path fill=\"#e4f29e\" stroke=\"#000000\" d=\"M744,-261C744,-261 558,-261 558,-261 552,-261 546,-255 546,-249 546,-249 546,-205 546,-205 546,-199 552,-193 558,-193 558,-193 744,-193 744,-193 750,-193 756,-199 756,-205 756,-205 756,-249 756,-249 756,-255 750,-261 744,-261\"/>\n<text text-anchor=\"start\" x=\"563.5\" y=\"-245.8\" font-family=\"Helvetica,sans-Serif\" font-size=\"14.00\" fill=\"#000000\"> Destination Port ≤ 42490.0</text>\n<text text-anchor=\"start\" x=\"613\" y=\"-230.8\" font-family=\"Helvetica,sans-Serif\" font-size=\"14.00\" fill=\"#000000\">gini = 0.447</text>\n<text text-anchor=\"start\" x=\"607\" y=\"-215.8\" font-family=\"Helvetica,sans-Serif\" font-size=\"14.00\" fill=\"#000000\">samples = 98</text>\n<text text-anchor=\"start\" x=\"554\" y=\"-200.8\" font-family=\"Helvetica,sans-Serif\" font-size=\"14.00\" fill=\"#000000\">value = [0, 65, 0, 0, 33, 0, 0, 0]</text>\n</g>\n<!-- 7&#45;&gt;8 -->\n<g id=\"edge8\" class=\"edge\">\n<title>7&#45;&gt;8</title>\n<path fill=\"none\" stroke=\"#000000\" d=\"M1191.4554,-312.944C1072.2695,-293.9909 885.8936,-264.3531 766.1198,-245.3065\"/>\n<polygon fill=\"#000000\" stroke=\"#000000\" points=\"766.6048,-241.8397 756.1792,-243.7257 765.5054,-248.7529 766.6048,-241.8397\"/>\n</g>\n<!-- 15 -->\n<g id=\"node16\" class=\"node\">\n<title>15</title>\n<path fill=\"#f9fcea\" stroke=\"#000000\" d=\"M1398,-261C1398,-261 1212,-261 1212,-261 1206,-261 1200,-255 1200,-249 1200,-249 1200,-205 1200,-205 1200,-199 1206,-193 1212,-193 1212,-193 1398,-193 1398,-193 1404,-193 1410,-199 1410,-205 1410,-205 1410,-249 1410,-249 1410,-255 1404,-261 1398,-261\"/>\n<text text-anchor=\"start\" x=\"1213\" y=\"-245.8\" font-family=\"Helvetica,sans-Serif\" font-size=\"14.00\" fill=\"#000000\">Flow Bytes/s ≤ 220000000.0</text>\n<text text-anchor=\"start\" x=\"1267\" y=\"-230.8\" font-family=\"Helvetica,sans-Serif\" font-size=\"14.00\" fill=\"#000000\">gini = 0.498</text>\n<text text-anchor=\"start\" x=\"1257\" y=\"-215.8\" font-family=\"Helvetica,sans-Serif\" font-size=\"14.00\" fill=\"#000000\">samples = 182</text>\n<text text-anchor=\"start\" x=\"1208\" y=\"-200.8\" font-family=\"Helvetica,sans-Serif\" font-size=\"14.00\" fill=\"#000000\">value = [0, 96, 0, 0, 86, 0, 0, 0]</text>\n</g>\n<!-- 7&#45;&gt;15 -->\n<g id=\"edge15\" class=\"edge\">\n<title>7&#45;&gt;15</title>\n<path fill=\"none\" stroke=\"#000000\" d=\"M1305,-296.9465C1305,-288.776 1305,-279.9318 1305,-271.3697\"/>\n<polygon fill=\"#000000\" stroke=\"#000000\" points=\"1308.5001,-271.13 1305,-261.13 1301.5001,-271.13 1308.5001,-271.13\"/>\n</g>\n<!-- 9 -->\n<g id=\"node10\" class=\"node\">\n<title>9</title>\n<path fill=\"#ddef86\" stroke=\"#000000\" d=\"M410,-157C410,-157 224,-157 224,-157 218,-157 212,-151 212,-145 212,-145 212,-101 212,-101 212,-95 218,-89 224,-89 224,-89 410,-89 410,-89 416,-89 422,-95 422,-101 422,-101 422,-145 422,-145 422,-151 416,-157 410,-157\"/>\n<text text-anchor=\"start\" x=\"233.5\" y=\"-141.8\" font-family=\"Helvetica,sans-Serif\" font-size=\"14.00\" fill=\"#000000\"> Destination Port ≤ 9589.0</text>\n<text text-anchor=\"start\" x=\"279\" y=\"-126.8\" font-family=\"Helvetica,sans-Serif\" font-size=\"14.00\" fill=\"#000000\">gini = 0.402</text>\n<text text-anchor=\"start\" x=\"273\" y=\"-111.8\" font-family=\"Helvetica,sans-Serif\" font-size=\"14.00\" fill=\"#000000\">samples = 61</text>\n<text text-anchor=\"start\" x=\"220\" y=\"-96.8\" font-family=\"Helvetica,sans-Serif\" font-size=\"14.00\" fill=\"#000000\">value = [0, 44, 0, 0, 17, 0, 0, 0]</text>\n</g>\n<!-- 8&#45;&gt;9 -->\n<g id=\"edge9\" class=\"edge\">\n<title>8&#45;&gt;9</title>\n<path fill=\"none\" stroke=\"#000000\" d=\"M545.7788,-194.2365C509.6197,-182.9774 468.9626,-170.3177 432.0625,-158.8278\"/>\n<polygon fill=\"#000000\" stroke=\"#000000\" points=\"432.8544,-155.4087 422.266,-155.7774 430.7733,-162.0922 432.8544,-155.4087\"/>\n</g>\n<!-- 12 -->\n<g id=\"node13\" class=\"node\">\n<title>12</title>\n<path fill=\"#f2f9d0\" stroke=\"#000000\" d=\"M744,-157C744,-157 558,-157 558,-157 552,-157 546,-151 546,-145 546,-145 546,-101 546,-101 546,-95 552,-89 558,-89 558,-89 744,-89 744,-89 750,-89 756,-95 756,-101 756,-101 756,-145 756,-145 756,-151 750,-157 744,-157\"/>\n<text text-anchor=\"start\" x=\"563.5\" y=\"-141.8\" font-family=\"Helvetica,sans-Serif\" font-size=\"14.00\" fill=\"#000000\"> Destination Port ≤ 45454.5</text>\n<text text-anchor=\"start\" x=\"613\" y=\"-126.8\" font-family=\"Helvetica,sans-Serif\" font-size=\"14.00\" fill=\"#000000\">gini = 0.491</text>\n<text text-anchor=\"start\" x=\"607\" y=\"-111.8\" font-family=\"Helvetica,sans-Serif\" font-size=\"14.00\" fill=\"#000000\">samples = 37</text>\n<text text-anchor=\"start\" x=\"554\" y=\"-96.8\" font-family=\"Helvetica,sans-Serif\" font-size=\"14.00\" fill=\"#000000\">value = [0, 21, 0, 0, 16, 0, 0, 0]</text>\n</g>\n<!-- 8&#45;&gt;12 -->\n<g id=\"edge12\" class=\"edge\">\n<title>8&#45;&gt;12</title>\n<path fill=\"none\" stroke=\"#000000\" d=\"M651,-192.9465C651,-184.776 651,-175.9318 651,-167.3697\"/>\n<polygon fill=\"#000000\" stroke=\"#000000\" points=\"654.5001,-167.13 651,-157.13 647.5001,-167.13 654.5001,-167.13\"/>\n</g>\n<!-- 10 -->\n<g id=\"node11\" class=\"node\">\n<title>10</title>\n<path fill=\"#ffffff\" stroke=\"#000000\" d=\"M182,-53C182,-53 12,-53 12,-53 6,-53 0,-47 0,-41 0,-41 0,-12 0,-12 0,-6 6,0 12,0 12,0 182,0 182,0 188,0 194,-6 194,-12 194,-12 194,-41 194,-41 194,-47 188,-53 182,-53\"/>\n<text text-anchor=\"start\" x=\"67.5\" y=\"-37.8\" font-family=\"Helvetica,sans-Serif\" font-size=\"14.00\" fill=\"#000000\">gini = 0.5</text>\n<text text-anchor=\"start\" x=\"53\" y=\"-22.8\" font-family=\"Helvetica,sans-Serif\" font-size=\"14.00\" fill=\"#000000\">samples = 12</text>\n<text text-anchor=\"start\" x=\"8\" y=\"-7.8\" font-family=\"Helvetica,sans-Serif\" font-size=\"14.00\" fill=\"#000000\">value = [0, 6, 0, 0, 6, 0, 0, 0]</text>\n</g>\n<!-- 9&#45;&gt;10 -->\n<g id=\"edge10\" class=\"edge\">\n<title>9&#45;&gt;10</title>\n<path fill=\"none\" stroke=\"#000000\" d=\"M239.4362,-88.9777C215.842,-78.6284 190.0613,-67.32 166.9969,-57.2032\"/>\n<polygon fill=\"#000000\" stroke=\"#000000\" points=\"168.1948,-53.9068 157.6312,-53.095 165.383,-60.3172 168.1948,-53.9068\"/>\n</g>\n<!-- 11 -->\n<g id=\"node12\" class=\"node\">\n<title>11</title>\n<path fill=\"#d8ed72\" stroke=\"#000000\" d=\"M410,-53C410,-53 224,-53 224,-53 218,-53 212,-47 212,-41 212,-41 212,-12 212,-12 212,-6 218,0 224,0 224,0 410,0 410,0 416,0 422,-6 422,-12 422,-12 422,-41 422,-41 422,-47 416,-53 410,-53\"/>\n<text text-anchor=\"start\" x=\"279\" y=\"-37.8\" font-family=\"Helvetica,sans-Serif\" font-size=\"14.00\" fill=\"#000000\">gini = 0.348</text>\n<text text-anchor=\"start\" x=\"273\" y=\"-22.8\" font-family=\"Helvetica,sans-Serif\" font-size=\"14.00\" fill=\"#000000\">samples = 49</text>\n<text text-anchor=\"start\" x=\"220\" y=\"-7.8\" font-family=\"Helvetica,sans-Serif\" font-size=\"14.00\" fill=\"#000000\">value = [0, 38, 0, 0, 11, 0, 0, 0]</text>\n</g>\n<!-- 9&#45;&gt;11 -->\n<g id=\"edge11\" class=\"edge\">\n<title>9&#45;&gt;11</title>\n<path fill=\"none\" stroke=\"#000000\" d=\"M317,-88.9777C317,-80.7364 317,-71.887 317,-63.5153\"/>\n<polygon fill=\"#000000\" stroke=\"#000000\" points=\"320.5001,-63.2484 317,-53.2485 313.5001,-63.2485 320.5001,-63.2484\"/>\n</g>\n<!-- 13 -->\n<g id=\"node14\" class=\"node\">\n<title>13</title>\n<path fill=\"#399de5\" stroke=\"#000000\" d=\"M622,-53C622,-53 452,-53 452,-53 446,-53 440,-47 440,-41 440,-41 440,-12 440,-12 440,-6 446,0 452,0 452,0 622,0 622,0 628,0 634,-6 634,-12 634,-12 634,-41 634,-41 634,-47 628,-53 622,-53\"/>\n<text text-anchor=\"start\" x=\"507.5\" y=\"-37.8\" font-family=\"Helvetica,sans-Serif\" font-size=\"14.00\" fill=\"#000000\">gini = 0.0</text>\n<text text-anchor=\"start\" x=\"497.5\" y=\"-22.8\" font-family=\"Helvetica,sans-Serif\" font-size=\"14.00\" fill=\"#000000\">samples = 4</text>\n<text text-anchor=\"start\" x=\"448\" y=\"-7.8\" font-family=\"Helvetica,sans-Serif\" font-size=\"14.00\" fill=\"#000000\">value = [0, 0, 0, 0, 4, 0, 0, 0]</text>\n</g>\n<!-- 12&#45;&gt;13 -->\n<g id=\"edge13\" class=\"edge\">\n<title>12&#45;&gt;13</title>\n<path fill=\"none\" stroke=\"#000000\" d=\"M610.8079,-88.9777C599.6658,-79.546 587.5827,-69.3178 576.4815,-59.9208\"/>\n<polygon fill=\"#000000\" stroke=\"#000000\" points=\"578.4932,-57.038 568.5992,-53.2485 573.9705,-62.3809 578.4932,-57.038\"/>\n</g>\n<!-- 14 -->\n<g id=\"node15\" class=\"node\">\n<title>14</title>\n<path fill=\"#e7f4aa\" stroke=\"#000000\" d=\"M850,-53C850,-53 664,-53 664,-53 658,-53 652,-47 652,-41 652,-41 652,-12 652,-12 652,-6 658,0 664,0 664,0 850,0 850,0 856,0 862,-6 862,-12 862,-12 862,-41 862,-41 862,-47 856,-53 850,-53\"/>\n<text text-anchor=\"start\" x=\"719\" y=\"-37.8\" font-family=\"Helvetica,sans-Serif\" font-size=\"14.00\" fill=\"#000000\">gini = 0.463</text>\n<text text-anchor=\"start\" x=\"713\" y=\"-22.8\" font-family=\"Helvetica,sans-Serif\" font-size=\"14.00\" fill=\"#000000\">samples = 33</text>\n<text text-anchor=\"start\" x=\"660\" y=\"-7.8\" font-family=\"Helvetica,sans-Serif\" font-size=\"14.00\" fill=\"#000000\">value = [0, 21, 0, 0, 12, 0, 0, 0]</text>\n</g>\n<!-- 12&#45;&gt;14 -->\n<g id=\"edge14\" class=\"edge\">\n<title>12&#45;&gt;14</title>\n<path fill=\"none\" stroke=\"#000000\" d=\"M688.3716,-88.9777C698.6312,-79.6376 709.7489,-69.5163 719.9882,-60.1947\"/>\n<polygon fill=\"#000000\" stroke=\"#000000\" points=\"722.5798,-62.5686 727.6183,-53.2485 717.8674,-57.3923 722.5798,-62.5686\"/>\n</g>\n<!-- 16 -->\n<g id=\"node17\" class=\"node\">\n<title>16</title>\n<path fill=\"#dcef82\" stroke=\"#000000\" d=\"M1282,-157C1282,-157 1104,-157 1104,-157 1098,-157 1092,-151 1092,-145 1092,-145 1092,-101 1092,-101 1092,-95 1098,-89 1104,-89 1104,-89 1282,-89 1282,-89 1288,-89 1294,-95 1294,-101 1294,-101 1294,-145 1294,-145 1294,-151 1288,-157 1282,-157\"/>\n<text text-anchor=\"start\" x=\"1109\" y=\"-141.8\" font-family=\"Helvetica,sans-Serif\" font-size=\"14.00\" fill=\"#000000\">Flow Bytes/s ≤ 9070196.0</text>\n<text text-anchor=\"start\" x=\"1155\" y=\"-126.8\" font-family=\"Helvetica,sans-Serif\" font-size=\"14.00\" fill=\"#000000\">gini = 0.393</text>\n<text text-anchor=\"start\" x=\"1149\" y=\"-111.8\" font-family=\"Helvetica,sans-Serif\" font-size=\"14.00\" fill=\"#000000\">samples = 26</text>\n<text text-anchor=\"start\" x=\"1100\" y=\"-96.8\" font-family=\"Helvetica,sans-Serif\" font-size=\"14.00\" fill=\"#000000\">value = [0, 19, 0, 0, 7, 0, 0, 0]</text>\n</g>\n<!-- 15&#45;&gt;16 -->\n<g id=\"edge16\" class=\"edge\">\n<title>15&#45;&gt;16</title>\n<path fill=\"none\" stroke=\"#000000\" d=\"M1268.327,-192.9465C1258.3677,-183.6986 1247.4789,-173.5876 1237.1532,-163.9994\"/>\n<polygon fill=\"#000000\" stroke=\"#000000\" points=\"1239.4649,-161.3698 1229.7554,-157.13 1234.7018,-166.4993 1239.4649,-161.3698\"/>\n</g>\n<!-- 19 -->\n<g id=\"node20\" class=\"node\">\n<title>19</title>\n<path fill=\"#fafdfe\" stroke=\"#000000\" d=\"M1510,-157C1510,-157 1324,-157 1324,-157 1318,-157 1312,-151 1312,-145 1312,-145 1312,-101 1312,-101 1312,-95 1318,-89 1324,-89 1324,-89 1510,-89 1510,-89 1516,-89 1522,-95 1522,-101 1522,-101 1522,-145 1522,-145 1522,-151 1516,-157 1510,-157\"/>\n<text text-anchor=\"start\" x=\"1329.5\" y=\"-141.8\" font-family=\"Helvetica,sans-Serif\" font-size=\"14.00\" fill=\"#000000\"> Destination Port ≤ 56849.5</text>\n<text text-anchor=\"start\" x=\"1387.5\" y=\"-126.8\" font-family=\"Helvetica,sans-Serif\" font-size=\"14.00\" fill=\"#000000\">gini = 0.5</text>\n<text text-anchor=\"start\" x=\"1369\" y=\"-111.8\" font-family=\"Helvetica,sans-Serif\" font-size=\"14.00\" fill=\"#000000\">samples = 156</text>\n<text text-anchor=\"start\" x=\"1320\" y=\"-96.8\" font-family=\"Helvetica,sans-Serif\" font-size=\"14.00\" fill=\"#000000\">value = [0, 77, 0, 0, 79, 0, 0, 0]</text>\n</g>\n<!-- 15&#45;&gt;19 -->\n<g id=\"edge19\" class=\"edge\">\n<title>15&#45;&gt;19</title>\n<path fill=\"none\" stroke=\"#000000\" d=\"M1341.673,-192.9465C1351.6323,-183.6986 1362.5211,-173.5876 1372.8468,-163.9994\"/>\n<polygon fill=\"#000000\" stroke=\"#000000\" points=\"1375.2982,-166.4993 1380.2446,-157.13 1370.5351,-161.3698 1375.2982,-166.4993\"/>\n</g>\n<!-- 17 -->\n<g id=\"node18\" class=\"node\">\n<title>17</title>\n<path fill=\"#bddef6\" stroke=\"#000000\" d=\"M1062,-53C1062,-53 892,-53 892,-53 886,-53 880,-47 880,-41 880,-41 880,-12 880,-12 880,-6 886,0 892,0 892,0 1062,0 1062,0 1068,0 1074,-6 1074,-12 1074,-12 1074,-41 1074,-41 1074,-47 1068,-53 1062,-53\"/>\n<text text-anchor=\"start\" x=\"943.5\" y=\"-37.8\" font-family=\"Helvetica,sans-Serif\" font-size=\"14.00\" fill=\"#000000\">gini = 0.48</text>\n<text text-anchor=\"start\" x=\"937.5\" y=\"-22.8\" font-family=\"Helvetica,sans-Serif\" font-size=\"14.00\" fill=\"#000000\">samples = 5</text>\n<text text-anchor=\"start\" x=\"888\" y=\"-7.8\" font-family=\"Helvetica,sans-Serif\" font-size=\"14.00\" fill=\"#000000\">value = [0, 2, 0, 0, 3, 0, 0, 0]</text>\n</g>\n<!-- 16&#45;&gt;17 -->\n<g id=\"edge17\" class=\"edge\">\n<title>16&#45;&gt;17</title>\n<path fill=\"none\" stroke=\"#000000\" d=\"M1116.8465,-88.9777C1093.6812,-78.6284 1068.3692,-67.32 1045.7242,-57.2032\"/>\n<polygon fill=\"#000000\" stroke=\"#000000\" points=\"1047.0867,-53.9785 1036.5288,-53.095 1044.2313,-60.3697 1047.0867,-53.9785\"/>\n</g>\n<!-- 18 -->\n<g id=\"node19\" class=\"node\">\n<title>18</title>\n<path fill=\"#d5eb68\" stroke=\"#000000\" d=\"M1282,-53C1282,-53 1104,-53 1104,-53 1098,-53 1092,-47 1092,-41 1092,-41 1092,-12 1092,-12 1092,-6 1098,0 1104,0 1104,0 1282,0 1282,0 1288,0 1294,-6 1294,-12 1294,-12 1294,-41 1294,-41 1294,-47 1288,-53 1282,-53\"/>\n<text text-anchor=\"start\" x=\"1155\" y=\"-37.8\" font-family=\"Helvetica,sans-Serif\" font-size=\"14.00\" fill=\"#000000\">gini = 0.308</text>\n<text text-anchor=\"start\" x=\"1149\" y=\"-22.8\" font-family=\"Helvetica,sans-Serif\" font-size=\"14.00\" fill=\"#000000\">samples = 21</text>\n<text text-anchor=\"start\" x=\"1100\" y=\"-7.8\" font-family=\"Helvetica,sans-Serif\" font-size=\"14.00\" fill=\"#000000\">value = [0, 17, 0, 0, 4, 0, 0, 0]</text>\n</g>\n<!-- 16&#45;&gt;18 -->\n<g id=\"edge18\" class=\"edge\">\n<title>16&#45;&gt;18</title>\n<path fill=\"none\" stroke=\"#000000\" d=\"M1193,-88.9777C1193,-80.7364 1193,-71.887 1193,-63.5153\"/>\n<polygon fill=\"#000000\" stroke=\"#000000\" points=\"1196.5001,-63.2484 1193,-53.2485 1189.5001,-63.2485 1196.5001,-63.2484\"/>\n</g>\n<!-- 20 -->\n<g id=\"node21\" class=\"node\">\n<title>20</title>\n<path fill=\"#e9f4fc\" stroke=\"#000000\" d=\"M1510,-53C1510,-53 1324,-53 1324,-53 1318,-53 1312,-47 1312,-41 1312,-41 1312,-12 1312,-12 1312,-6 1318,0 1324,0 1324,0 1510,0 1510,0 1516,0 1522,-6 1522,-12 1522,-12 1522,-41 1522,-41 1522,-47 1516,-53 1510,-53\"/>\n<text text-anchor=\"start\" x=\"1379\" y=\"-37.8\" font-family=\"Helvetica,sans-Serif\" font-size=\"14.00\" fill=\"#000000\">gini = 0.498</text>\n<text text-anchor=\"start\" x=\"1369\" y=\"-22.8\" font-family=\"Helvetica,sans-Serif\" font-size=\"14.00\" fill=\"#000000\">samples = 138</text>\n<text text-anchor=\"start\" x=\"1320\" y=\"-7.8\" font-family=\"Helvetica,sans-Serif\" font-size=\"14.00\" fill=\"#000000\">value = [0, 65, 0, 0, 73, 0, 0, 0]</text>\n</g>\n<!-- 19&#45;&gt;20 -->\n<g id=\"edge20\" class=\"edge\">\n<title>19&#45;&gt;20</title>\n<path fill=\"none\" stroke=\"#000000\" d=\"M1417,-88.9777C1417,-80.7364 1417,-71.887 1417,-63.5153\"/>\n<polygon fill=\"#000000\" stroke=\"#000000\" points=\"1420.5001,-63.2484 1417,-53.2485 1413.5001,-63.2485 1420.5001,-63.2484\"/>\n</g>\n<!-- 21 -->\n<g id=\"node22\" class=\"node\">\n<title>21</title>\n<path fill=\"#e4f29c\" stroke=\"#000000\" d=\"M1730,-53C1730,-53 1552,-53 1552,-53 1546,-53 1540,-47 1540,-41 1540,-41 1540,-12 1540,-12 1540,-6 1546,0 1552,0 1552,0 1730,0 1730,0 1736,0 1742,-6 1742,-12 1742,-12 1742,-41 1742,-41 1742,-47 1736,-53 1730,-53\"/>\n<text text-anchor=\"start\" x=\"1603\" y=\"-37.8\" font-family=\"Helvetica,sans-Serif\" font-size=\"14.00\" fill=\"#000000\">gini = 0.444</text>\n<text text-anchor=\"start\" x=\"1597\" y=\"-22.8\" font-family=\"Helvetica,sans-Serif\" font-size=\"14.00\" fill=\"#000000\">samples = 18</text>\n<text text-anchor=\"start\" x=\"1548\" y=\"-7.8\" font-family=\"Helvetica,sans-Serif\" font-size=\"14.00\" fill=\"#000000\">value = [0, 12, 0, 0, 6, 0, 0, 0]</text>\n</g>\n<!-- 19&#45;&gt;21 -->\n<g id=\"edge21\" class=\"edge\">\n<title>19&#45;&gt;21</title>\n<path fill=\"none\" stroke=\"#000000\" d=\"M1495.974,-88.9777C1520.104,-78.5824 1546.4801,-67.2195 1570.0434,-57.0684\"/>\n<polygon fill=\"#000000\" stroke=\"#000000\" points=\"1571.4672,-60.266 1579.2665,-53.095 1568.6976,-53.8372 1571.4672,-60.266\"/>\n</g>\n<!-- 23 -->\n<g id=\"node24\" class=\"node\">\n<title>23</title>\n<path fill=\"#43a2e6\" stroke=\"#000000\" d=\"M2575,-261C2575,-261 2381,-261 2381,-261 2375,-261 2369,-255 2369,-249 2369,-249 2369,-205 2369,-205 2369,-199 2375,-193 2381,-193 2381,-193 2575,-193 2575,-193 2581,-193 2587,-199 2587,-205 2587,-205 2587,-249 2587,-249 2587,-255 2581,-261 2575,-261\"/>\n<text text-anchor=\"start\" x=\"2411.5\" y=\"-245.8\" font-family=\"Helvetica,sans-Serif\" font-size=\"14.00\" fill=\"#000000\"> Source Port ≤ 612.5</text>\n<text text-anchor=\"start\" x=\"2440\" y=\"-230.8\" font-family=\"Helvetica,sans-Serif\" font-size=\"14.00\" fill=\"#000000\">gini = 0.093</text>\n<text text-anchor=\"start\" x=\"2430\" y=\"-215.8\" font-family=\"Helvetica,sans-Serif\" font-size=\"14.00\" fill=\"#000000\">samples = 879</text>\n<text text-anchor=\"start\" x=\"2377\" y=\"-200.8\" font-family=\"Helvetica,sans-Serif\" font-size=\"14.00\" fill=\"#000000\">value = [0, 43, 0, 0, 836, 0, 0, 0]</text>\n</g>\n<!-- 22&#45;&gt;23 -->\n<g id=\"edge23\" class=\"edge\">\n<title>22&#45;&gt;23</title>\n<path fill=\"none\" stroke=\"#000000\" d=\"M2558.7075,-296.9465C2547.9333,-287.6088 2536.1436,-277.3911 2524.985,-267.7203\"/>\n<polygon fill=\"#000000\" stroke=\"#000000\" points=\"2527.2299,-265.0344 2517.3808,-261.13 2522.6454,-270.3243 2527.2299,-265.0344\"/>\n</g>\n<!-- 30 -->\n<g id=\"node31\" class=\"node\">\n<title>30</title>\n<path fill=\"#87c4ef\" stroke=\"#000000\" d=\"M2918.5,-261C2918.5,-261 2715.5,-261 2715.5,-261 2709.5,-261 2703.5,-255 2703.5,-249 2703.5,-249 2703.5,-205 2703.5,-205 2703.5,-199 2709.5,-193 2715.5,-193 2715.5,-193 2918.5,-193 2918.5,-193 2924.5,-193 2930.5,-199 2930.5,-205 2930.5,-205 2930.5,-249 2930.5,-249 2930.5,-255 2924.5,-261 2918.5,-261\"/>\n<text text-anchor=\"start\" x=\"2729.5\" y=\"-245.8\" font-family=\"Helvetica,sans-Serif\" font-size=\"14.00\" fill=\"#000000\"> Destination Port ≤ 53968.5</text>\n<text text-anchor=\"start\" x=\"2779\" y=\"-230.8\" font-family=\"Helvetica,sans-Serif\" font-size=\"14.00\" fill=\"#000000\">gini = 0.406</text>\n<text text-anchor=\"start\" x=\"2769\" y=\"-215.8\" font-family=\"Helvetica,sans-Serif\" font-size=\"14.00\" fill=\"#000000\">samples = 872</text>\n<text text-anchor=\"start\" x=\"2711.5\" y=\"-200.8\" font-family=\"Helvetica,sans-Serif\" font-size=\"14.00\" fill=\"#000000\">value = [0, 247, 0, 0, 625, 0, 0, 0]</text>\n</g>\n<!-- 22&#45;&gt;30 -->\n<g id=\"edge30\" class=\"edge\">\n<title>22&#45;&gt;30</title>\n<path fill=\"none\" stroke=\"#000000\" d=\"M2669.7088,-296.9465C2690.8843,-286.8906 2714.209,-275.814 2735.9302,-265.4989\"/>\n<polygon fill=\"#000000\" stroke=\"#000000\" points=\"2737.5983,-268.5814 2745.1301,-261.13 2734.5955,-262.2582 2737.5983,-268.5814\"/>\n</g>\n<!-- 24 -->\n<g id=\"node25\" class=\"node\">\n<title>24</title>\n<path fill=\"#9ccef2\" stroke=\"#000000\" d=\"M2178,-157C2178,-157 1992,-157 1992,-157 1986,-157 1980,-151 1980,-145 1980,-145 1980,-101 1980,-101 1980,-95 1986,-89 1992,-89 1992,-89 2178,-89 2178,-89 2184,-89 2190,-95 2190,-101 2190,-101 2190,-145 2190,-145 2190,-151 2184,-157 2178,-157\"/>\n<text text-anchor=\"start\" x=\"1997.5\" y=\"-141.8\" font-family=\"Helvetica,sans-Serif\" font-size=\"14.00\" fill=\"#000000\"> Destination Port ≤ 51357.0</text>\n<text text-anchor=\"start\" x=\"2047\" y=\"-126.8\" font-family=\"Helvetica,sans-Serif\" font-size=\"14.00\" fill=\"#000000\">gini = 0.444</text>\n<text text-anchor=\"start\" x=\"2041\" y=\"-111.8\" font-family=\"Helvetica,sans-Serif\" font-size=\"14.00\" fill=\"#000000\">samples = 42</text>\n<text text-anchor=\"start\" x=\"1988\" y=\"-96.8\" font-family=\"Helvetica,sans-Serif\" font-size=\"14.00\" fill=\"#000000\">value = [0, 14, 0, 0, 28, 0, 0, 0]</text>\n</g>\n<!-- 23&#45;&gt;24 -->\n<g id=\"edge24\" class=\"edge\">\n<title>23&#45;&gt;24</title>\n<path fill=\"none\" stroke=\"#000000\" d=\"M2368.7886,-198.0993C2316.2929,-184.2073 2253.3655,-167.5547 2200.1205,-153.4645\"/>\n<polygon fill=\"#000000\" stroke=\"#000000\" points=\"2200.8585,-150.0393 2190.2959,-150.8646 2199.0677,-156.8064 2200.8585,-150.0393\"/>\n</g>\n<!-- 27 -->\n<g id=\"node28\" class=\"node\">\n<title>27</title>\n<path fill=\"#40a1e6\" stroke=\"#000000\" d=\"M2575,-157C2575,-157 2381,-157 2381,-157 2375,-157 2369,-151 2369,-145 2369,-145 2369,-101 2369,-101 2369,-95 2375,-89 2381,-89 2381,-89 2575,-89 2575,-89 2581,-89 2587,-95 2587,-101 2587,-101 2587,-145 2587,-145 2587,-151 2581,-157 2575,-157\"/>\n<text text-anchor=\"start\" x=\"2385\" y=\"-141.8\" font-family=\"Helvetica,sans-Serif\" font-size=\"14.00\" fill=\"#000000\"> Flow IAT Mean ≤ 6851231.5</text>\n<text text-anchor=\"start\" x=\"2440\" y=\"-126.8\" font-family=\"Helvetica,sans-Serif\" font-size=\"14.00\" fill=\"#000000\">gini = 0.067</text>\n<text text-anchor=\"start\" x=\"2430\" y=\"-111.8\" font-family=\"Helvetica,sans-Serif\" font-size=\"14.00\" fill=\"#000000\">samples = 837</text>\n<text text-anchor=\"start\" x=\"2377\" y=\"-96.8\" font-family=\"Helvetica,sans-Serif\" font-size=\"14.00\" fill=\"#000000\">value = [0, 29, 0, 0, 808, 0, 0, 0]</text>\n</g>\n<!-- 23&#45;&gt;27 -->\n<g id=\"edge27\" class=\"edge\">\n<title>23&#45;&gt;27</title>\n<path fill=\"none\" stroke=\"#000000\" d=\"M2478,-192.9465C2478,-184.776 2478,-175.9318 2478,-167.3697\"/>\n<polygon fill=\"#000000\" stroke=\"#000000\" points=\"2481.5001,-167.13 2478,-157.13 2474.5001,-167.13 2481.5001,-167.13\"/>\n</g>\n<!-- 25 -->\n<g id=\"node26\" class=\"node\">\n<title>25</title>\n<path fill=\"#cbe5f8\" stroke=\"#000000\" d=\"M1958,-53C1958,-53 1772,-53 1772,-53 1766,-53 1760,-47 1760,-41 1760,-41 1760,-12 1760,-12 1760,-6 1766,0 1772,0 1772,0 1958,0 1958,0 1964,0 1970,-6 1970,-12 1970,-12 1970,-41 1970,-41 1970,-47 1964,-53 1958,-53\"/>\n<text text-anchor=\"start\" x=\"1827\" y=\"-37.8\" font-family=\"Helvetica,sans-Serif\" font-size=\"14.00\" fill=\"#000000\">gini = 0.489</text>\n<text text-anchor=\"start\" x=\"1821\" y=\"-22.8\" font-family=\"Helvetica,sans-Serif\" font-size=\"14.00\" fill=\"#000000\">samples = 33</text>\n<text text-anchor=\"start\" x=\"1768\" y=\"-7.8\" font-family=\"Helvetica,sans-Serif\" font-size=\"14.00\" fill=\"#000000\">value = [0, 14, 0, 0, 19, 0, 0, 0]</text>\n</g>\n<!-- 24&#45;&gt;25 -->\n<g id=\"edge25\" class=\"edge\">\n<title>24&#45;&gt;25</title>\n<path fill=\"none\" stroke=\"#000000\" d=\"M2007.4362,-88.9777C1983.842,-78.6284 1958.0613,-67.32 1934.9969,-57.2032\"/>\n<polygon fill=\"#000000\" stroke=\"#000000\" points=\"1936.1948,-53.9068 1925.6312,-53.095 1933.383,-60.3172 1936.1948,-53.9068\"/>\n</g>\n<!-- 26 -->\n<g id=\"node27\" class=\"node\">\n<title>26</title>\n<path fill=\"#399de5\" stroke=\"#000000\" d=\"M2170,-53C2170,-53 2000,-53 2000,-53 1994,-53 1988,-47 1988,-41 1988,-41 1988,-12 1988,-12 1988,-6 1994,0 2000,0 2000,0 2170,0 2170,0 2176,0 2182,-6 2182,-12 2182,-12 2182,-41 2182,-41 2182,-47 2176,-53 2170,-53\"/>\n<text text-anchor=\"start\" x=\"2055.5\" y=\"-37.8\" font-family=\"Helvetica,sans-Serif\" font-size=\"14.00\" fill=\"#000000\">gini = 0.0</text>\n<text text-anchor=\"start\" x=\"2045.5\" y=\"-22.8\" font-family=\"Helvetica,sans-Serif\" font-size=\"14.00\" fill=\"#000000\">samples = 9</text>\n<text text-anchor=\"start\" x=\"1996\" y=\"-7.8\" font-family=\"Helvetica,sans-Serif\" font-size=\"14.00\" fill=\"#000000\">value = [0, 0, 0, 0, 9, 0, 0, 0]</text>\n</g>\n<!-- 24&#45;&gt;26 -->\n<g id=\"edge26\" class=\"edge\">\n<title>24&#45;&gt;26</title>\n<path fill=\"none\" stroke=\"#000000\" d=\"M2085,-88.9777C2085,-80.7364 2085,-71.887 2085,-63.5153\"/>\n<polygon fill=\"#000000\" stroke=\"#000000\" points=\"2088.5001,-63.2484 2085,-53.2485 2081.5001,-63.2485 2088.5001,-63.2484\"/>\n</g>\n<!-- 28 -->\n<g id=\"node29\" class=\"node\">\n<title>28</title>\n<path fill=\"#3fa0e6\" stroke=\"#000000\" d=\"M2406,-53C2406,-53 2212,-53 2212,-53 2206,-53 2200,-47 2200,-41 2200,-41 2200,-12 2200,-12 2200,-6 2206,0 2212,0 2212,0 2406,0 2406,0 2412,0 2418,-6 2418,-12 2418,-12 2418,-41 2418,-41 2418,-47 2412,-53 2406,-53\"/>\n<text text-anchor=\"start\" x=\"2275.5\" y=\"-37.8\" font-family=\"Helvetica,sans-Serif\" font-size=\"14.00\" fill=\"#000000\">gini = 0.06</text>\n<text text-anchor=\"start\" x=\"2261\" y=\"-22.8\" font-family=\"Helvetica,sans-Serif\" font-size=\"14.00\" fill=\"#000000\">samples = 834</text>\n<text text-anchor=\"start\" x=\"2208\" y=\"-7.8\" font-family=\"Helvetica,sans-Serif\" font-size=\"14.00\" fill=\"#000000\">value = [0, 26, 0, 0, 808, 0, 0, 0]</text>\n</g>\n<!-- 27&#45;&gt;28 -->\n<g id=\"edge28\" class=\"edge\">\n<title>27&#45;&gt;28</title>\n<path fill=\"none\" stroke=\"#000000\" d=\"M2418.4169,-88.9777C2400.8561,-78.9504 2381.7186,-68.0228 2364.4299,-58.1508\"/>\n<polygon fill=\"#000000\" stroke=\"#000000\" points=\"2365.9953,-55.0143 2355.5757,-53.095 2362.5242,-61.0931 2365.9953,-55.0143\"/>\n</g>\n<!-- 29 -->\n<g id=\"node30\" class=\"node\">\n<title>29</title>\n<path fill=\"#c8e539\" stroke=\"#000000\" d=\"M2618,-53C2618,-53 2448,-53 2448,-53 2442,-53 2436,-47 2436,-41 2436,-41 2436,-12 2436,-12 2436,-6 2442,0 2448,0 2448,0 2618,0 2618,0 2624,0 2630,-6 2630,-12 2630,-12 2630,-41 2630,-41 2630,-47 2624,-53 2618,-53\"/>\n<text text-anchor=\"start\" x=\"2503.5\" y=\"-37.8\" font-family=\"Helvetica,sans-Serif\" font-size=\"14.00\" fill=\"#000000\">gini = 0.0</text>\n<text text-anchor=\"start\" x=\"2493.5\" y=\"-22.8\" font-family=\"Helvetica,sans-Serif\" font-size=\"14.00\" fill=\"#000000\">samples = 3</text>\n<text text-anchor=\"start\" x=\"2444\" y=\"-7.8\" font-family=\"Helvetica,sans-Serif\" font-size=\"14.00\" fill=\"#000000\">value = [0, 3, 0, 0, 0, 0, 0, 0]</text>\n</g>\n<!-- 27&#45;&gt;29 -->\n<g id=\"edge29\" class=\"edge\">\n<title>27&#45;&gt;29</title>\n<path fill=\"none\" stroke=\"#000000\" d=\"M2497.3909,-88.9777C2502.349,-80.2786 2507.6933,-70.9018 2512.6958,-62.1247\"/>\n<polygon fill=\"#000000\" stroke=\"#000000\" points=\"2515.8438,-63.6696 2517.7548,-53.2485 2509.7622,-60.2033 2515.8438,-63.6696\"/>\n</g>\n<!-- 31 -->\n<g id=\"node32\" class=\"node\">\n<title>31</title>\n<path fill=\"#7dbfee\" stroke=\"#000000\" d=\"M2918.5,-157C2918.5,-157 2715.5,-157 2715.5,-157 2709.5,-157 2703.5,-151 2703.5,-145 2703.5,-145 2703.5,-101 2703.5,-101 2703.5,-95 2709.5,-89 2715.5,-89 2715.5,-89 2918.5,-89 2918.5,-89 2924.5,-89 2930.5,-95 2930.5,-101 2930.5,-101 2930.5,-145 2930.5,-145 2930.5,-151 2924.5,-157 2918.5,-157\"/>\n<text text-anchor=\"start\" x=\"2738\" y=\"-141.8\" font-family=\"Helvetica,sans-Serif\" font-size=\"14.00\" fill=\"#000000\"> Total Fwd Packets ≤ 3.0</text>\n<text text-anchor=\"start\" x=\"2779\" y=\"-126.8\" font-family=\"Helvetica,sans-Serif\" font-size=\"14.00\" fill=\"#000000\">gini = 0.381</text>\n<text text-anchor=\"start\" x=\"2769\" y=\"-111.8\" font-family=\"Helvetica,sans-Serif\" font-size=\"14.00\" fill=\"#000000\">samples = 700</text>\n<text text-anchor=\"start\" x=\"2711.5\" y=\"-96.8\" font-family=\"Helvetica,sans-Serif\" font-size=\"14.00\" fill=\"#000000\">value = [0, 179, 0, 0, 521, 0, 0, 0]</text>\n</g>\n<!-- 30&#45;&gt;31 -->\n<g id=\"edge31\" class=\"edge\">\n<title>30&#45;&gt;31</title>\n<path fill=\"none\" stroke=\"#000000\" d=\"M2817,-192.9465C2817,-184.776 2817,-175.9318 2817,-167.3697\"/>\n<polygon fill=\"#000000\" stroke=\"#000000\" points=\"2820.5001,-167.13 2817,-157.13 2813.5001,-167.13 2820.5001,-167.13\"/>\n</g>\n<!-- 34 -->\n<g id=\"node35\" class=\"node\">\n<title>34</title>\n<path fill=\"#baddf6\" stroke=\"#000000\" d=\"M3308,-157C3308,-157 3114,-157 3114,-157 3108,-157 3102,-151 3102,-145 3102,-145 3102,-101 3102,-101 3102,-95 3108,-89 3114,-89 3114,-89 3308,-89 3308,-89 3314,-89 3320,-95 3320,-101 3320,-101 3320,-145 3320,-145 3320,-151 3314,-157 3308,-157\"/>\n<text text-anchor=\"start\" x=\"3123.5\" y=\"-141.8\" font-family=\"Helvetica,sans-Serif\" font-size=\"14.00\" fill=\"#000000\"> Destination Port ≤ 64426.5</text>\n<text text-anchor=\"start\" x=\"3173\" y=\"-126.8\" font-family=\"Helvetica,sans-Serif\" font-size=\"14.00\" fill=\"#000000\">gini = 0.478</text>\n<text text-anchor=\"start\" x=\"3163\" y=\"-111.8\" font-family=\"Helvetica,sans-Serif\" font-size=\"14.00\" fill=\"#000000\">samples = 172</text>\n<text text-anchor=\"start\" x=\"3110\" y=\"-96.8\" font-family=\"Helvetica,sans-Serif\" font-size=\"14.00\" fill=\"#000000\">value = [0, 68, 0, 0, 104, 0, 0, 0]</text>\n</g>\n<!-- 30&#45;&gt;34 -->\n<g id=\"edge34\" class=\"edge\">\n<title>30&#45;&gt;34</title>\n<path fill=\"none\" stroke=\"#000000\" d=\"M2930.6967,-196.9887C2981.306,-183.6299 3040.9062,-167.8979 3092.1071,-154.3829\"/>\n<polygon fill=\"#000000\" stroke=\"#000000\" points=\"3093.1218,-157.735 3101.8973,-151.7987 3091.3352,-150.9668 3093.1218,-157.735\"/>\n</g>\n<!-- 32 -->\n<g id=\"node33\" class=\"node\">\n<title>32</title>\n<path fill=\"#7cbeee\" stroke=\"#000000\" d=\"M2863.5,-53C2863.5,-53 2660.5,-53 2660.5,-53 2654.5,-53 2648.5,-47 2648.5,-41 2648.5,-41 2648.5,-12 2648.5,-12 2648.5,-6 2654.5,0 2660.5,0 2660.5,0 2863.5,0 2863.5,0 2869.5,0 2875.5,-6 2875.5,-12 2875.5,-12 2875.5,-41 2875.5,-41 2875.5,-47 2869.5,-53 2863.5,-53\"/>\n<text text-anchor=\"start\" x=\"2724\" y=\"-37.8\" font-family=\"Helvetica,sans-Serif\" font-size=\"14.00\" fill=\"#000000\">gini = 0.379</text>\n<text text-anchor=\"start\" x=\"2714\" y=\"-22.8\" font-family=\"Helvetica,sans-Serif\" font-size=\"14.00\" fill=\"#000000\">samples = 698</text>\n<text text-anchor=\"start\" x=\"2656.5\" y=\"-7.8\" font-family=\"Helvetica,sans-Serif\" font-size=\"14.00\" fill=\"#000000\">value = [0, 177, 0, 0, 521, 0, 0, 0]</text>\n</g>\n<!-- 31&#45;&gt;32 -->\n<g id=\"edge32\" class=\"edge\">\n<title>31&#45;&gt;32</title>\n<path fill=\"none\" stroke=\"#000000\" d=\"M2797.6091,-88.9777C2792.651,-80.2786 2787.3067,-70.9018 2782.3042,-62.1247\"/>\n<polygon fill=\"#000000\" stroke=\"#000000\" points=\"2785.2378,-60.2033 2777.2452,-53.2485 2779.1562,-63.6696 2785.2378,-60.2033\"/>\n</g>\n<!-- 33 -->\n<g id=\"node34\" class=\"node\">\n<title>33</title>\n<path fill=\"#c8e539\" stroke=\"#000000\" d=\"M3076,-53C3076,-53 2906,-53 2906,-53 2900,-53 2894,-47 2894,-41 2894,-41 2894,-12 2894,-12 2894,-6 2900,0 2906,0 2906,0 3076,0 3076,0 3082,0 3088,-6 3088,-12 3088,-12 3088,-41 3088,-41 3088,-47 3082,-53 3076,-53\"/>\n<text text-anchor=\"start\" x=\"2961.5\" y=\"-37.8\" font-family=\"Helvetica,sans-Serif\" font-size=\"14.00\" fill=\"#000000\">gini = 0.0</text>\n<text text-anchor=\"start\" x=\"2951.5\" y=\"-22.8\" font-family=\"Helvetica,sans-Serif\" font-size=\"14.00\" fill=\"#000000\">samples = 2</text>\n<text text-anchor=\"start\" x=\"2902\" y=\"-7.8\" font-family=\"Helvetica,sans-Serif\" font-size=\"14.00\" fill=\"#000000\">value = [0, 2, 0, 0, 0, 0, 0, 0]</text>\n</g>\n<!-- 31&#45;&gt;33 -->\n<g id=\"edge33\" class=\"edge\">\n<title>31&#45;&gt;33</title>\n<path fill=\"none\" stroke=\"#000000\" d=\"M2878.3459,-88.9777C2896.4262,-78.9504 2916.13,-68.0228 2933.9301,-58.1508\"/>\n<polygon fill=\"#000000\" stroke=\"#000000\" points=\"2935.9987,-61.0059 2943.0463,-53.095 2932.6036,-54.8843 2935.9987,-61.0059\"/>\n</g>\n<!-- 35 -->\n<g id=\"node36\" class=\"node\">\n<title>35</title>\n<path fill=\"#cce6f8\" stroke=\"#000000\" d=\"M3304,-53C3304,-53 3118,-53 3118,-53 3112,-53 3106,-47 3106,-41 3106,-41 3106,-12 3106,-12 3106,-6 3112,0 3118,0 3118,0 3304,0 3304,0 3310,0 3316,-6 3316,-12 3316,-12 3316,-41 3316,-41 3316,-47 3310,-53 3304,-53\"/>\n<text text-anchor=\"start\" x=\"3173\" y=\"-37.8\" font-family=\"Helvetica,sans-Serif\" font-size=\"14.00\" fill=\"#000000\">gini = 0.489</text>\n<text text-anchor=\"start\" x=\"3163\" y=\"-22.8\" font-family=\"Helvetica,sans-Serif\" font-size=\"14.00\" fill=\"#000000\">samples = 148</text>\n<text text-anchor=\"start\" x=\"3114\" y=\"-7.8\" font-family=\"Helvetica,sans-Serif\" font-size=\"14.00\" fill=\"#000000\">value = [0, 63, 0, 0, 85, 0, 0, 0]</text>\n</g>\n<!-- 34&#45;&gt;35 -->\n<g id=\"edge35\" class=\"edge\">\n<title>34&#45;&gt;35</title>\n<path fill=\"none\" stroke=\"#000000\" d=\"M3211,-88.9777C3211,-80.7364 3211,-71.887 3211,-63.5153\"/>\n<polygon fill=\"#000000\" stroke=\"#000000\" points=\"3214.5001,-63.2484 3211,-53.2485 3207.5001,-63.2485 3214.5001,-63.2484\"/>\n</g>\n<!-- 36 -->\n<g id=\"node37\" class=\"node\">\n<title>36</title>\n<path fill=\"#6db7ec\" stroke=\"#000000\" d=\"M3524,-53C3524,-53 3346,-53 3346,-53 3340,-53 3334,-47 3334,-41 3334,-41 3334,-12 3334,-12 3334,-6 3340,0 3346,0 3346,0 3524,0 3524,0 3530,0 3536,-6 3536,-12 3536,-12 3536,-41 3536,-41 3536,-47 3530,-53 3524,-53\"/>\n<text text-anchor=\"start\" x=\"3401.5\" y=\"-37.8\" font-family=\"Helvetica,sans-Serif\" font-size=\"14.00\" fill=\"#000000\">gini = 0.33</text>\n<text text-anchor=\"start\" x=\"3391\" y=\"-22.8\" font-family=\"Helvetica,sans-Serif\" font-size=\"14.00\" fill=\"#000000\">samples = 24</text>\n<text text-anchor=\"start\" x=\"3342\" y=\"-7.8\" font-family=\"Helvetica,sans-Serif\" font-size=\"14.00\" fill=\"#000000\">value = [0, 5, 0, 0, 19, 0, 0, 0]</text>\n</g>\n<!-- 34&#45;&gt;36 -->\n<g id=\"edge36\" class=\"edge\">\n<title>34&#45;&gt;36</title>\n<path fill=\"none\" stroke=\"#000000\" d=\"M3289.974,-88.9777C3314.104,-78.5824 3340.4801,-67.2195 3364.0434,-57.0684\"/>\n<polygon fill=\"#000000\" stroke=\"#000000\" points=\"3365.4672,-60.266 3373.2665,-53.095 3362.6976,-53.8372 3365.4672,-60.266\"/>\n</g>\n<!-- 38 -->\n<g id=\"node39\" class=\"node\">\n<title>38</title>\n<path fill=\"#e0f0fb\" stroke=\"#000000\" d=\"M4958.5,-365C4958.5,-365 4755.5,-365 4755.5,-365 4749.5,-365 4743.5,-359 4743.5,-353 4743.5,-353 4743.5,-309 4743.5,-309 4743.5,-303 4749.5,-297 4755.5,-297 4755.5,-297 4958.5,-297 4958.5,-297 4964.5,-297 4970.5,-303 4970.5,-309 4970.5,-309 4970.5,-353 4970.5,-353 4970.5,-359 4964.5,-365 4958.5,-365\"/>\n<text text-anchor=\"start\" x=\"4771\" y=\"-349.8\" font-family=\"Helvetica,sans-Serif\" font-size=\"14.00\" fill=\"#000000\">Fwd Packets/s ≤ 42109.93</text>\n<text text-anchor=\"start\" x=\"4819\" y=\"-334.8\" font-family=\"Helvetica,sans-Serif\" font-size=\"14.00\" fill=\"#000000\">gini = 0.496</text>\n<text text-anchor=\"start\" x=\"4809\" y=\"-319.8\" font-family=\"Helvetica,sans-Serif\" font-size=\"14.00\" fill=\"#000000\">samples = 227</text>\n<text text-anchor=\"start\" x=\"4751.5\" y=\"-304.8\" font-family=\"Helvetica,sans-Serif\" font-size=\"14.00\" fill=\"#000000\">value = [0, 104, 0, 0, 123, 0, 0, 0]</text>\n</g>\n<!-- 37&#45;&gt;38 -->\n<g id=\"edge38\" class=\"edge\">\n<title>37&#45;&gt;38</title>\n<path fill=\"none\" stroke=\"#000000\" d=\"M5171.4275,-407.403C5112.6625,-393.1236 5040.8309,-375.6692 4980.6667,-361.0499\"/>\n<polygon fill=\"#000000\" stroke=\"#000000\" points=\"4981.2751,-357.5959 4970.7314,-358.6357 4979.6222,-364.398 4981.2751,-357.5959\"/>\n</g>\n<!-- 53 -->\n<g id=\"node54\" class=\"node\">\n<title>53</title>\n<path fill=\"#e4f29c\" stroke=\"#000000\" d=\"M5823.5,-365C5823.5,-365 5618.5,-365 5618.5,-365 5612.5,-365 5606.5,-359 5606.5,-353 5606.5,-353 5606.5,-309 5606.5,-309 5606.5,-303 5612.5,-297 5618.5,-297 5618.5,-297 5823.5,-297 5823.5,-297 5829.5,-297 5835.5,-303 5835.5,-309 5835.5,-309 5835.5,-353 5835.5,-353 5835.5,-359 5829.5,-365 5823.5,-365\"/>\n<text text-anchor=\"start\" x=\"5614.5\" y=\"-349.8\" font-family=\"Helvetica,sans-Serif\" font-size=\"14.00\" fill=\"#000000\"> Fwd Packet Length Max ≤ 238.0</text>\n<text text-anchor=\"start\" x=\"5683\" y=\"-334.8\" font-family=\"Helvetica,sans-Serif\" font-size=\"14.00\" fill=\"#000000\">gini = 0.444</text>\n<text text-anchor=\"start\" x=\"5673\" y=\"-319.8\" font-family=\"Helvetica,sans-Serif\" font-size=\"14.00\" fill=\"#000000\">samples = 246</text>\n<text text-anchor=\"start\" x=\"5620\" y=\"-304.8\" font-family=\"Helvetica,sans-Serif\" font-size=\"14.00\" fill=\"#000000\">value = [0, 164, 0, 0, 82, 0, 0, 0]</text>\n</g>\n<!-- 37&#45;&gt;53 -->\n<g id=\"edge53\" class=\"edge\">\n<title>37&#45;&gt;53</title>\n<path fill=\"none\" stroke=\"#000000\" d=\"M5398.6999,-407.8789C5459.4131,-393.3969 5534.2474,-375.5465 5596.5195,-360.6926\"/>\n<polygon fill=\"#000000\" stroke=\"#000000\" points=\"5597.4869,-364.0601 5606.4019,-358.3353 5595.8627,-357.2511 5597.4869,-364.0601\"/>\n</g>\n<!-- 39 -->\n<g id=\"node40\" class=\"node\">\n<title>39</title>\n<path fill=\"#e2f198\" stroke=\"#000000\" d=\"M4290,-261C4290,-261 4104,-261 4104,-261 4098,-261 4092,-255 4092,-249 4092,-249 4092,-205 4092,-205 4092,-199 4098,-193 4104,-193 4104,-193 4290,-193 4290,-193 4296,-193 4302,-199 4302,-205 4302,-205 4302,-249 4302,-249 4302,-255 4296,-261 4290,-261\"/>\n<text text-anchor=\"start\" x=\"4109.5\" y=\"-245.8\" font-family=\"Helvetica,sans-Serif\" font-size=\"14.00\" fill=\"#000000\"> Destination Port ≤ 49179.0</text>\n<text text-anchor=\"start\" x=\"4159\" y=\"-230.8\" font-family=\"Helvetica,sans-Serif\" font-size=\"14.00\" fill=\"#000000\">gini = 0.438</text>\n<text text-anchor=\"start\" x=\"4153\" y=\"-215.8\" font-family=\"Helvetica,sans-Serif\" font-size=\"14.00\" fill=\"#000000\">samples = 34</text>\n<text text-anchor=\"start\" x=\"4100\" y=\"-200.8\" font-family=\"Helvetica,sans-Serif\" font-size=\"14.00\" fill=\"#000000\">value = [0, 23, 0, 0, 11, 0, 0, 0]</text>\n</g>\n<!-- 38&#45;&gt;39 -->\n<g id=\"edge39\" class=\"edge\">\n<title>38&#45;&gt;39</title>\n<path fill=\"none\" stroke=\"#000000\" d=\"M4743.1663,-313.0626C4622.5629,-294.0584 4433.1797,-264.2162 4312.0982,-245.1367\"/>\n<polygon fill=\"#000000\" stroke=\"#000000\" points=\"4312.4744,-241.6529 4302.0514,-243.5536 4311.3847,-248.5675 4312.4744,-241.6529\"/>\n</g>\n<!-- 46 -->\n<g id=\"node47\" class=\"node\">\n<title>46</title>\n<path fill=\"#c8e4f8\" stroke=\"#000000\" d=\"M4954,-261C4954,-261 4760,-261 4760,-261 4754,-261 4748,-255 4748,-249 4748,-249 4748,-205 4748,-205 4748,-199 4754,-193 4760,-193 4760,-193 4954,-193 4954,-193 4960,-193 4966,-199 4966,-205 4966,-205 4966,-249 4966,-249 4966,-255 4960,-261 4954,-261\"/>\n<text text-anchor=\"start\" x=\"4769.5\" y=\"-245.8\" font-family=\"Helvetica,sans-Serif\" font-size=\"14.00\" fill=\"#000000\"> Destination Port ≤ 62770.5</text>\n<text text-anchor=\"start\" x=\"4819\" y=\"-230.8\" font-family=\"Helvetica,sans-Serif\" font-size=\"14.00\" fill=\"#000000\">gini = 0.487</text>\n<text text-anchor=\"start\" x=\"4809\" y=\"-215.8\" font-family=\"Helvetica,sans-Serif\" font-size=\"14.00\" fill=\"#000000\">samples = 193</text>\n<text text-anchor=\"start\" x=\"4756\" y=\"-200.8\" font-family=\"Helvetica,sans-Serif\" font-size=\"14.00\" fill=\"#000000\">value = [0, 81, 0, 0, 112, 0, 0, 0]</text>\n</g>\n<!-- 38&#45;&gt;46 -->\n<g id=\"edge46\" class=\"edge\">\n<title>38&#45;&gt;46</title>\n<path fill=\"none\" stroke=\"#000000\" d=\"M4857,-296.9465C4857,-288.776 4857,-279.9318 4857,-271.3697\"/>\n<polygon fill=\"#000000\" stroke=\"#000000\" points=\"4860.5001,-271.13 4857,-261.13 4853.5001,-271.13 4860.5001,-271.13\"/>\n</g>\n<!-- 40 -->\n<g id=\"node41\" class=\"node\">\n<title>40</title>\n<path fill=\"#dcee81\" stroke=\"#000000\" d=\"M3964,-157C3964,-157 3786,-157 3786,-157 3780,-157 3774,-151 3774,-145 3774,-145 3774,-101 3774,-101 3774,-95 3780,-89 3786,-89 3786,-89 3964,-89 3964,-89 3970,-89 3976,-95 3976,-101 3976,-101 3976,-145 3976,-145 3976,-151 3970,-157 3964,-157\"/>\n<text text-anchor=\"start\" x=\"3787.5\" y=\"-141.8\" font-family=\"Helvetica,sans-Serif\" font-size=\"14.00\" fill=\"#000000\"> Destination Port ≤ 28431.5</text>\n<text text-anchor=\"start\" x=\"3837\" y=\"-126.8\" font-family=\"Helvetica,sans-Serif\" font-size=\"14.00\" fill=\"#000000\">gini = 0.391</text>\n<text text-anchor=\"start\" x=\"3831\" y=\"-111.8\" font-family=\"Helvetica,sans-Serif\" font-size=\"14.00\" fill=\"#000000\">samples = 30</text>\n<text text-anchor=\"start\" x=\"3782\" y=\"-96.8\" font-family=\"Helvetica,sans-Serif\" font-size=\"14.00\" fill=\"#000000\">value = [0, 22, 0, 0, 8, 0, 0, 0]</text>\n</g>\n<!-- 39&#45;&gt;40 -->\n<g id=\"edge40\" class=\"edge\">\n<title>39&#45;&gt;40</title>\n<path fill=\"none\" stroke=\"#000000\" d=\"M4091.5652,-192.9465C4057.6154,-181.9814 4019.9084,-169.8027 3985.5979,-158.7211\"/>\n<polygon fill=\"#000000\" stroke=\"#000000\" points=\"3986.6083,-155.3694 3976.0166,-155.6265 3984.4568,-162.0306 3986.6083,-155.3694\"/>\n</g>\n<!-- 43 -->\n<g id=\"node44\" class=\"node\">\n<title>43</title>\n<path fill=\"#7bbeee\" stroke=\"#000000\" d=\"M4282,-157C4282,-157 4112,-157 4112,-157 4106,-157 4100,-151 4100,-145 4100,-145 4100,-101 4100,-101 4100,-95 4106,-89 4112,-89 4112,-89 4282,-89 4282,-89 4288,-89 4294,-95 4294,-101 4294,-101 4294,-145 4294,-145 4294,-151 4288,-157 4282,-157\"/>\n<text text-anchor=\"start\" x=\"4124.5\" y=\"-141.8\" font-family=\"Helvetica,sans-Serif\" font-size=\"14.00\" fill=\"#000000\"> Flow IAT Mean ≤ 24.0</text>\n<text text-anchor=\"start\" x=\"4159\" y=\"-126.8\" font-family=\"Helvetica,sans-Serif\" font-size=\"14.00\" fill=\"#000000\">gini = 0.375</text>\n<text text-anchor=\"start\" x=\"4157.5\" y=\"-111.8\" font-family=\"Helvetica,sans-Serif\" font-size=\"14.00\" fill=\"#000000\">samples = 4</text>\n<text text-anchor=\"start\" x=\"4108\" y=\"-96.8\" font-family=\"Helvetica,sans-Serif\" font-size=\"14.00\" fill=\"#000000\">value = [0, 1, 0, 0, 3, 0, 0, 0]</text>\n</g>\n<!-- 39&#45;&gt;43 -->\n<g id=\"edge43\" class=\"edge\">\n<title>39&#45;&gt;43</title>\n<path fill=\"none\" stroke=\"#000000\" d=\"M4197,-192.9465C4197,-184.776 4197,-175.9318 4197,-167.3697\"/>\n<polygon fill=\"#000000\" stroke=\"#000000\" points=\"4200.5001,-167.13 4197,-157.13 4193.5001,-167.13 4200.5001,-167.13\"/>\n</g>\n<!-- 41 -->\n<g id=\"node42\" class=\"node\">\n<title>41</title>\n<path fill=\"#ebf6b7\" stroke=\"#000000\" d=\"M3744,-53C3744,-53 3566,-53 3566,-53 3560,-53 3554,-47 3554,-41 3554,-41 3554,-12 3554,-12 3554,-6 3560,0 3566,0 3566,0 3744,0 3744,0 3750,0 3756,-6 3756,-12 3756,-12 3756,-41 3756,-41 3756,-47 3750,-53 3744,-53\"/>\n<text text-anchor=\"start\" x=\"3617\" y=\"-37.8\" font-family=\"Helvetica,sans-Serif\" font-size=\"14.00\" fill=\"#000000\">gini = 0.475</text>\n<text text-anchor=\"start\" x=\"3611\" y=\"-22.8\" font-family=\"Helvetica,sans-Serif\" font-size=\"14.00\" fill=\"#000000\">samples = 18</text>\n<text text-anchor=\"start\" x=\"3562\" y=\"-7.8\" font-family=\"Helvetica,sans-Serif\" font-size=\"14.00\" fill=\"#000000\">value = [0, 11, 0, 0, 7, 0, 0, 0]</text>\n</g>\n<!-- 40&#45;&gt;41 -->\n<g id=\"edge41\" class=\"edge\">\n<title>40&#45;&gt;41</title>\n<path fill=\"none\" stroke=\"#000000\" d=\"M3797.4362,-88.9777C3773.842,-78.6284 3748.0613,-67.32 3724.9969,-57.2032\"/>\n<polygon fill=\"#000000\" stroke=\"#000000\" points=\"3726.1948,-53.9068 3715.6312,-53.095 3723.383,-60.3172 3726.1948,-53.9068\"/>\n</g>\n<!-- 42 -->\n<g id=\"node43\" class=\"node\">\n<title>42</title>\n<path fill=\"#cde74b\" stroke=\"#000000\" d=\"M3964,-53C3964,-53 3786,-53 3786,-53 3780,-53 3774,-47 3774,-41 3774,-41 3774,-12 3774,-12 3774,-6 3780,0 3786,0 3786,0 3964,0 3964,0 3970,0 3976,-6 3976,-12 3976,-12 3976,-41 3976,-41 3976,-47 3970,-53 3964,-53\"/>\n<text text-anchor=\"start\" x=\"3837\" y=\"-37.8\" font-family=\"Helvetica,sans-Serif\" font-size=\"14.00\" fill=\"#000000\">gini = 0.153</text>\n<text text-anchor=\"start\" x=\"3831\" y=\"-22.8\" font-family=\"Helvetica,sans-Serif\" font-size=\"14.00\" fill=\"#000000\">samples = 12</text>\n<text text-anchor=\"start\" x=\"3782\" y=\"-7.8\" font-family=\"Helvetica,sans-Serif\" font-size=\"14.00\" fill=\"#000000\">value = [0, 11, 0, 0, 1, 0, 0, 0]</text>\n</g>\n<!-- 40&#45;&gt;42 -->\n<g id=\"edge42\" class=\"edge\">\n<title>40&#45;&gt;42</title>\n<path fill=\"none\" stroke=\"#000000\" d=\"M3875,-88.9777C3875,-80.7364 3875,-71.887 3875,-63.5153\"/>\n<polygon fill=\"#000000\" stroke=\"#000000\" points=\"3878.5001,-63.2484 3875,-53.2485 3871.5001,-63.2485 3878.5001,-63.2484\"/>\n</g>\n<!-- 44 -->\n<g id=\"node45\" class=\"node\">\n<title>44</title>\n<path fill=\"#c8e539\" stroke=\"#000000\" d=\"M4176,-53C4176,-53 4006,-53 4006,-53 4000,-53 3994,-47 3994,-41 3994,-41 3994,-12 3994,-12 3994,-6 4000,0 4006,0 4006,0 4176,0 4176,0 4182,0 4188,-6 4188,-12 4188,-12 4188,-41 4188,-41 4188,-47 4182,-53 4176,-53\"/>\n<text text-anchor=\"start\" x=\"4061.5\" y=\"-37.8\" font-family=\"Helvetica,sans-Serif\" font-size=\"14.00\" fill=\"#000000\">gini = 0.0</text>\n<text text-anchor=\"start\" x=\"4051.5\" y=\"-22.8\" font-family=\"Helvetica,sans-Serif\" font-size=\"14.00\" fill=\"#000000\">samples = 1</text>\n<text text-anchor=\"start\" x=\"4002\" y=\"-7.8\" font-family=\"Helvetica,sans-Serif\" font-size=\"14.00\" fill=\"#000000\">value = [0, 1, 0, 0, 0, 0, 0, 0]</text>\n</g>\n<!-- 43&#45;&gt;44 -->\n<g id=\"edge44\" class=\"edge\">\n<title>43&#45;&gt;44</title>\n<path fill=\"none\" stroke=\"#000000\" d=\"M4159.6284,-88.9777C4149.3688,-79.6376 4138.2511,-69.5163 4128.0118,-60.1947\"/>\n<polygon fill=\"#000000\" stroke=\"#000000\" points=\"4130.1326,-57.3923 4120.3817,-53.2485 4125.4202,-62.5686 4130.1326,-57.3923\"/>\n</g>\n<!-- 45 -->\n<g id=\"node46\" class=\"node\">\n<title>45</title>\n<path fill=\"#399de5\" stroke=\"#000000\" d=\"M4388,-53C4388,-53 4218,-53 4218,-53 4212,-53 4206,-47 4206,-41 4206,-41 4206,-12 4206,-12 4206,-6 4212,0 4218,0 4218,0 4388,0 4388,0 4394,0 4400,-6 4400,-12 4400,-12 4400,-41 4400,-41 4400,-47 4394,-53 4388,-53\"/>\n<text text-anchor=\"start\" x=\"4273.5\" y=\"-37.8\" font-family=\"Helvetica,sans-Serif\" font-size=\"14.00\" fill=\"#000000\">gini = 0.0</text>\n<text text-anchor=\"start\" x=\"4263.5\" y=\"-22.8\" font-family=\"Helvetica,sans-Serif\" font-size=\"14.00\" fill=\"#000000\">samples = 3</text>\n<text text-anchor=\"start\" x=\"4214\" y=\"-7.8\" font-family=\"Helvetica,sans-Serif\" font-size=\"14.00\" fill=\"#000000\">value = [0, 0, 0, 0, 3, 0, 0, 0]</text>\n</g>\n<!-- 43&#45;&gt;45 -->\n<g id=\"edge45\" class=\"edge\">\n<title>43&#45;&gt;45</title>\n<path fill=\"none\" stroke=\"#000000\" d=\"M4234.3716,-88.9777C4244.6312,-79.6376 4255.7489,-69.5163 4265.9882,-60.1947\"/>\n<polygon fill=\"#000000\" stroke=\"#000000\" points=\"4268.5798,-62.5686 4273.6183,-53.2485 4263.8674,-57.3923 4268.5798,-62.5686\"/>\n</g>\n<!-- 47 -->\n<g id=\"node48\" class=\"node\">\n<title>47</title>\n<path fill=\"#c0e0f7\" stroke=\"#000000\" d=\"M4842,-157C4842,-157 4648,-157 4648,-157 4642,-157 4636,-151 4636,-145 4636,-145 4636,-101 4636,-101 4636,-95 4642,-89 4648,-89 4648,-89 4842,-89 4842,-89 4848,-89 4854,-95 4854,-101 4854,-101 4854,-145 4854,-145 4854,-151 4848,-157 4842,-157\"/>\n<text text-anchor=\"start\" x=\"4657.5\" y=\"-141.8\" font-family=\"Helvetica,sans-Serif\" font-size=\"14.00\" fill=\"#000000\"> Destination Port ≤ 61857.5</text>\n<text text-anchor=\"start\" x=\"4707\" y=\"-126.8\" font-family=\"Helvetica,sans-Serif\" font-size=\"14.00\" fill=\"#000000\">gini = 0.482</text>\n<text text-anchor=\"start\" x=\"4697\" y=\"-111.8\" font-family=\"Helvetica,sans-Serif\" font-size=\"14.00\" fill=\"#000000\">samples = 185</text>\n<text text-anchor=\"start\" x=\"4644\" y=\"-96.8\" font-family=\"Helvetica,sans-Serif\" font-size=\"14.00\" fill=\"#000000\">value = [0, 75, 0, 0, 110, 0, 0, 0]</text>\n</g>\n<!-- 46&#45;&gt;47 -->\n<g id=\"edge47\" class=\"edge\">\n<title>46&#45;&gt;47</title>\n<path fill=\"none\" stroke=\"#000000\" d=\"M4820.327,-192.9465C4810.3677,-183.6986 4799.4789,-173.5876 4789.1532,-163.9994\"/>\n<polygon fill=\"#000000\" stroke=\"#000000\" points=\"4791.4649,-161.3698 4781.7554,-157.13 4786.7018,-166.4993 4791.4649,-161.3698\"/>\n</g>\n<!-- 50 -->\n<g id=\"node51\" class=\"node\">\n<title>50</title>\n<path fill=\"#daee7b\" stroke=\"#000000\" d=\"M5054,-157C5054,-157 4884,-157 4884,-157 4878,-157 4872,-151 4872,-145 4872,-145 4872,-101 4872,-101 4872,-95 4878,-89 4884,-89 4884,-89 5054,-89 5054,-89 5060,-89 5066,-95 5066,-101 5066,-101 5066,-145 5066,-145 5066,-151 5060,-157 5054,-157\"/>\n<text text-anchor=\"start\" x=\"4907.5\" y=\"-141.8\" font-family=\"Helvetica,sans-Serif\" font-size=\"14.00\" fill=\"#000000\"> Flow IAT Min ≤ 1.5</text>\n<text text-anchor=\"start\" x=\"4931\" y=\"-126.8\" font-family=\"Helvetica,sans-Serif\" font-size=\"14.00\" fill=\"#000000\">gini = 0.375</text>\n<text text-anchor=\"start\" x=\"4929.5\" y=\"-111.8\" font-family=\"Helvetica,sans-Serif\" font-size=\"14.00\" fill=\"#000000\">samples = 8</text>\n<text text-anchor=\"start\" x=\"4880\" y=\"-96.8\" font-family=\"Helvetica,sans-Serif\" font-size=\"14.00\" fill=\"#000000\">value = [0, 6, 0, 0, 2, 0, 0, 0]</text>\n</g>\n<!-- 46&#45;&gt;50 -->\n<g id=\"edge50\" class=\"edge\">\n<title>46&#45;&gt;50</title>\n<path fill=\"none\" stroke=\"#000000\" d=\"M4893.673,-192.9465C4903.6323,-183.6986 4914.5211,-173.5876 4924.8468,-163.9994\"/>\n<polygon fill=\"#000000\" stroke=\"#000000\" points=\"4927.2982,-166.4993 4932.2446,-157.13 4922.5351,-161.3698 4927.2982,-166.4993\"/>\n</g>\n<!-- 48 -->\n<g id=\"node49\" class=\"node\">\n<title>48</title>\n<path fill=\"#c6e3f8\" stroke=\"#000000\" d=\"M4624,-53C4624,-53 4430,-53 4430,-53 4424,-53 4418,-47 4418,-41 4418,-41 4418,-12 4418,-12 4418,-6 4424,0 4430,0 4430,0 4624,0 4624,0 4630,0 4636,-6 4636,-12 4636,-12 4636,-41 4636,-41 4636,-47 4630,-53 4624,-53\"/>\n<text text-anchor=\"start\" x=\"4489\" y=\"-37.8\" font-family=\"Helvetica,sans-Serif\" font-size=\"14.00\" fill=\"#000000\">gini = 0.486</text>\n<text text-anchor=\"start\" x=\"4479\" y=\"-22.8\" font-family=\"Helvetica,sans-Serif\" font-size=\"14.00\" fill=\"#000000\">samples = 180</text>\n<text text-anchor=\"start\" x=\"4426\" y=\"-7.8\" font-family=\"Helvetica,sans-Serif\" font-size=\"14.00\" fill=\"#000000\">value = [0, 75, 0, 0, 105, 0, 0, 0]</text>\n</g>\n<!-- 47&#45;&gt;48 -->\n<g id=\"edge48\" class=\"edge\">\n<title>47&#45;&gt;48</title>\n<path fill=\"none\" stroke=\"#000000\" d=\"M4668.1414,-88.9777C4644.7616,-78.6284 4619.2152,-67.32 4596.3606,-57.2032\"/>\n<polygon fill=\"#000000\" stroke=\"#000000\" points=\"4597.6409,-53.9424 4587.08,-53.095 4594.8074,-60.3433 4597.6409,-53.9424\"/>\n</g>\n<!-- 49 -->\n<g id=\"node50\" class=\"node\">\n<title>49</title>\n<path fill=\"#399de5\" stroke=\"#000000\" d=\"M4836,-53C4836,-53 4666,-53 4666,-53 4660,-53 4654,-47 4654,-41 4654,-41 4654,-12 4654,-12 4654,-6 4660,0 4666,0 4666,0 4836,0 4836,0 4842,0 4848,-6 4848,-12 4848,-12 4848,-41 4848,-41 4848,-47 4842,-53 4836,-53\"/>\n<text text-anchor=\"start\" x=\"4721.5\" y=\"-37.8\" font-family=\"Helvetica,sans-Serif\" font-size=\"14.00\" fill=\"#000000\">gini = 0.0</text>\n<text text-anchor=\"start\" x=\"4711.5\" y=\"-22.8\" font-family=\"Helvetica,sans-Serif\" font-size=\"14.00\" fill=\"#000000\">samples = 5</text>\n<text text-anchor=\"start\" x=\"4662\" y=\"-7.8\" font-family=\"Helvetica,sans-Serif\" font-size=\"14.00\" fill=\"#000000\">value = [0, 0, 0, 0, 5, 0, 0, 0]</text>\n</g>\n<!-- 47&#45;&gt;49 -->\n<g id=\"edge49\" class=\"edge\">\n<title>47&#45;&gt;49</title>\n<path fill=\"none\" stroke=\"#000000\" d=\"M4747.1154,-88.9777C4747.6335,-80.6449 4748.1902,-71.6903 4748.7159,-63.2364\"/>\n<polygon fill=\"#000000\" stroke=\"#000000\" points=\"4752.2095,-63.4464 4749.3369,-53.2485 4745.223,-63.012 4752.2095,-63.4464\"/>\n</g>\n<!-- 51 -->\n<g id=\"node52\" class=\"node\">\n<title>51</title>\n<path fill=\"#c8e539\" stroke=\"#000000\" d=\"M5048,-53C5048,-53 4878,-53 4878,-53 4872,-53 4866,-47 4866,-41 4866,-41 4866,-12 4866,-12 4866,-6 4872,0 4878,0 4878,0 5048,0 5048,0 5054,0 5060,-6 5060,-12 5060,-12 5060,-41 5060,-41 5060,-47 5054,-53 5048,-53\"/>\n<text text-anchor=\"start\" x=\"4933.5\" y=\"-37.8\" font-family=\"Helvetica,sans-Serif\" font-size=\"14.00\" fill=\"#000000\">gini = 0.0</text>\n<text text-anchor=\"start\" x=\"4923.5\" y=\"-22.8\" font-family=\"Helvetica,sans-Serif\" font-size=\"14.00\" fill=\"#000000\">samples = 6</text>\n<text text-anchor=\"start\" x=\"4874\" y=\"-7.8\" font-family=\"Helvetica,sans-Serif\" font-size=\"14.00\" fill=\"#000000\">value = [0, 6, 0, 0, 0, 0, 0, 0]</text>\n</g>\n<!-- 50&#45;&gt;51 -->\n<g id=\"edge51\" class=\"edge\">\n<title>50&#45;&gt;51</title>\n<path fill=\"none\" stroke=\"#000000\" d=\"M4966.8846,-88.9777C4966.3665,-80.6449 4965.8098,-71.6903 4965.2841,-63.2364\"/>\n<polygon fill=\"#000000\" stroke=\"#000000\" points=\"4968.777,-63.012 4964.6631,-53.2485 4961.7905,-63.4464 4968.777,-63.012\"/>\n</g>\n<!-- 52 -->\n<g id=\"node53\" class=\"node\">\n<title>52</title>\n<path fill=\"#399de5\" stroke=\"#000000\" d=\"M5260,-53C5260,-53 5090,-53 5090,-53 5084,-53 5078,-47 5078,-41 5078,-41 5078,-12 5078,-12 5078,-6 5084,0 5090,0 5090,0 5260,0 5260,0 5266,0 5272,-6 5272,-12 5272,-12 5272,-41 5272,-41 5272,-47 5266,-53 5260,-53\"/>\n<text text-anchor=\"start\" x=\"5145.5\" y=\"-37.8\" font-family=\"Helvetica,sans-Serif\" font-size=\"14.00\" fill=\"#000000\">gini = 0.0</text>\n<text text-anchor=\"start\" x=\"5135.5\" y=\"-22.8\" font-family=\"Helvetica,sans-Serif\" font-size=\"14.00\" fill=\"#000000\">samples = 2</text>\n<text text-anchor=\"start\" x=\"5086\" y=\"-7.8\" font-family=\"Helvetica,sans-Serif\" font-size=\"14.00\" fill=\"#000000\">value = [0, 0, 0, 0, 2, 0, 0, 0]</text>\n</g>\n<!-- 50&#45;&gt;52 -->\n<g id=\"edge52\" class=\"edge\">\n<title>50&#45;&gt;52</title>\n<path fill=\"none\" stroke=\"#000000\" d=\"M5041.6279,-88.9777C5063.6225,-78.6744 5087.6463,-67.4205 5109.1693,-57.3381\"/>\n<polygon fill=\"#000000\" stroke=\"#000000\" points=\"5110.6563,-60.5066 5118.2272,-53.095 5107.6868,-54.1677 5110.6563,-60.5066\"/>\n</g>\n<!-- 54 -->\n<g id=\"node55\" class=\"node\">\n<title>54</title>\n<path fill=\"#e1f193\" stroke=\"#000000\" d=\"M5818,-261C5818,-261 5624,-261 5624,-261 5618,-261 5612,-255 5612,-249 5612,-249 5612,-205 5612,-205 5612,-199 5618,-193 5624,-193 5624,-193 5818,-193 5818,-193 5824,-193 5830,-199 5830,-205 5830,-205 5830,-249 5830,-249 5830,-255 5824,-261 5818,-261\"/>\n<text text-anchor=\"start\" x=\"5629\" y=\"-245.8\" font-family=\"Helvetica,sans-Serif\" font-size=\"14.00\" fill=\"#000000\">Flow Bytes/s ≤ 440000000.0</text>\n<text text-anchor=\"start\" x=\"5683\" y=\"-230.8\" font-family=\"Helvetica,sans-Serif\" font-size=\"14.00\" fill=\"#000000\">gini = 0.429</text>\n<text text-anchor=\"start\" x=\"5673\" y=\"-215.8\" font-family=\"Helvetica,sans-Serif\" font-size=\"14.00\" fill=\"#000000\">samples = 231</text>\n<text text-anchor=\"start\" x=\"5620\" y=\"-200.8\" font-family=\"Helvetica,sans-Serif\" font-size=\"14.00\" fill=\"#000000\">value = [0, 159, 0, 0, 72, 0, 0, 0]</text>\n</g>\n<!-- 53&#45;&gt;54 -->\n<g id=\"edge54\" class=\"edge\">\n<title>53&#45;&gt;54</title>\n<path fill=\"none\" stroke=\"#000000\" d=\"M5721,-296.9465C5721,-288.776 5721,-279.9318 5721,-271.3697\"/>\n<polygon fill=\"#000000\" stroke=\"#000000\" points=\"5724.5001,-271.13 5721,-261.13 5717.5001,-271.13 5724.5001,-271.13\"/>\n</g>\n<!-- 61 -->\n<g id=\"node62\" class=\"node\">\n<title>61</title>\n<path fill=\"#9ccef2\" stroke=\"#000000\" d=\"M6364,-261C6364,-261 6186,-261 6186,-261 6180,-261 6174,-255 6174,-249 6174,-249 6174,-205 6174,-205 6174,-199 6180,-193 6186,-193 6186,-193 6364,-193 6364,-193 6370,-193 6376,-199 6376,-205 6376,-205 6376,-249 6376,-249 6376,-255 6370,-261 6364,-261\"/>\n<text text-anchor=\"start\" x=\"6183\" y=\"-245.8\" font-family=\"Helvetica,sans-Serif\" font-size=\"14.00\" fill=\"#000000\">Flow Bytes/s ≤ 512000000.0</text>\n<text text-anchor=\"start\" x=\"6237\" y=\"-230.8\" font-family=\"Helvetica,sans-Serif\" font-size=\"14.00\" fill=\"#000000\">gini = 0.444</text>\n<text text-anchor=\"start\" x=\"6231\" y=\"-215.8\" font-family=\"Helvetica,sans-Serif\" font-size=\"14.00\" fill=\"#000000\">samples = 15</text>\n<text text-anchor=\"start\" x=\"6182\" y=\"-200.8\" font-family=\"Helvetica,sans-Serif\" font-size=\"14.00\" fill=\"#000000\">value = [0, 5, 0, 0, 10, 0, 0, 0]</text>\n</g>\n<!-- 53&#45;&gt;61 -->\n<g id=\"edge61\" class=\"edge\">\n<title>53&#45;&gt;61</title>\n<path fill=\"none\" stroke=\"#000000\" d=\"M5835.7892,-309.4511C5932.0579,-291.379 6068.6863,-265.7304 6163.9037,-247.8556\"/>\n<polygon fill=\"#000000\" stroke=\"#000000\" points=\"6164.671,-251.2728 6173.8535,-245.9878 6163.3794,-244.393 6164.671,-251.2728\"/>\n</g>\n<!-- 55 -->\n<g id=\"node56\" class=\"node\">\n<title>55</title>\n<path fill=\"#d8ed73\" stroke=\"#000000\" d=\"M5698,-157C5698,-157 5512,-157 5512,-157 5506,-157 5500,-151 5500,-145 5500,-145 5500,-101 5500,-101 5500,-95 5506,-89 5512,-89 5512,-89 5698,-89 5698,-89 5704,-89 5710,-95 5710,-101 5710,-101 5710,-145 5710,-145 5710,-151 5704,-157 5698,-157\"/>\n<text text-anchor=\"start\" x=\"5534.5\" y=\"-141.8\" font-family=\"Helvetica,sans-Serif\" font-size=\"14.00\" fill=\"#000000\"> Source Port ≤ 1019.0</text>\n<text text-anchor=\"start\" x=\"5567\" y=\"-126.8\" font-family=\"Helvetica,sans-Serif\" font-size=\"14.00\" fill=\"#000000\">gini = 0.351</text>\n<text text-anchor=\"start\" x=\"5561\" y=\"-111.8\" font-family=\"Helvetica,sans-Serif\" font-size=\"14.00\" fill=\"#000000\">samples = 75</text>\n<text text-anchor=\"start\" x=\"5508\" y=\"-96.8\" font-family=\"Helvetica,sans-Serif\" font-size=\"14.00\" fill=\"#000000\">value = [0, 58, 0, 0, 17, 0, 0, 0]</text>\n</g>\n<!-- 54&#45;&gt;55 -->\n<g id=\"edge55\" class=\"edge\">\n<title>54&#45;&gt;55</title>\n<path fill=\"none\" stroke=\"#000000\" d=\"M5683.0173,-192.9465C5672.7023,-183.6986 5661.4246,-173.5876 5650.7301,-163.9994\"/>\n<polygon fill=\"#000000\" stroke=\"#000000\" points=\"5652.8502,-161.1995 5643.0681,-157.13 5648.1774,-166.4115 5652.8502,-161.1995\"/>\n</g>\n<!-- 58 -->\n<g id=\"node59\" class=\"node\">\n<title>58</title>\n<path fill=\"#e6f3a5\" stroke=\"#000000\" d=\"M5934,-157C5934,-157 5740,-157 5740,-157 5734,-157 5728,-151 5728,-145 5728,-145 5728,-101 5728,-101 5728,-95 5734,-89 5740,-89 5740,-89 5934,-89 5934,-89 5940,-89 5946,-95 5946,-101 5946,-101 5946,-145 5946,-145 5946,-151 5940,-157 5934,-157\"/>\n<text text-anchor=\"start\" x=\"5753.5\" y=\"-141.8\" font-family=\"Helvetica,sans-Serif\" font-size=\"14.00\" fill=\"#000000\"> Destination Port ≤ 1783.0</text>\n<text text-anchor=\"start\" x=\"5799\" y=\"-126.8\" font-family=\"Helvetica,sans-Serif\" font-size=\"14.00\" fill=\"#000000\">gini = 0.457</text>\n<text text-anchor=\"start\" x=\"5789\" y=\"-111.8\" font-family=\"Helvetica,sans-Serif\" font-size=\"14.00\" fill=\"#000000\">samples = 156</text>\n<text text-anchor=\"start\" x=\"5736\" y=\"-96.8\" font-family=\"Helvetica,sans-Serif\" font-size=\"14.00\" fill=\"#000000\">value = [0, 101, 0, 0, 55, 0, 0, 0]</text>\n</g>\n<!-- 54&#45;&gt;58 -->\n<g id=\"edge58\" class=\"edge\">\n<title>54&#45;&gt;58</title>\n<path fill=\"none\" stroke=\"#000000\" d=\"M5758.9827,-192.9465C5769.2977,-183.6986 5780.5754,-173.5876 5791.2699,-163.9994\"/>\n<polygon fill=\"#000000\" stroke=\"#000000\" points=\"5793.8226,-166.4115 5798.9319,-157.13 5789.1498,-161.1995 5793.8226,-166.4115\"/>\n</g>\n<!-- 56 -->\n<g id=\"node57\" class=\"node\">\n<title>56</title>\n<path fill=\"#d6ec6c\" stroke=\"#000000\" d=\"M5488,-53C5488,-53 5302,-53 5302,-53 5296,-53 5290,-47 5290,-41 5290,-41 5290,-12 5290,-12 5290,-6 5296,0 5302,0 5302,0 5488,0 5488,0 5494,0 5500,-6 5500,-12 5500,-12 5500,-41 5500,-41 5500,-47 5494,-53 5488,-53\"/>\n<text text-anchor=\"start\" x=\"5357\" y=\"-37.8\" font-family=\"Helvetica,sans-Serif\" font-size=\"14.00\" fill=\"#000000\">gini = 0.327</text>\n<text text-anchor=\"start\" x=\"5351\" y=\"-22.8\" font-family=\"Helvetica,sans-Serif\" font-size=\"14.00\" fill=\"#000000\">samples = 73</text>\n<text text-anchor=\"start\" x=\"5298\" y=\"-7.8\" font-family=\"Helvetica,sans-Serif\" font-size=\"14.00\" fill=\"#000000\">value = [0, 58, 0, 0, 15, 0, 0, 0]</text>\n</g>\n<!-- 55&#45;&gt;56 -->\n<g id=\"edge56\" class=\"edge\">\n<title>55&#45;&gt;56</title>\n<path fill=\"none\" stroke=\"#000000\" d=\"M5530.9619,-88.9777C5508.5402,-78.6744 5484.0499,-67.4205 5462.1089,-57.3381\"/>\n<polygon fill=\"#000000\" stroke=\"#000000\" points=\"5463.4232,-54.0903 5452.8752,-53.095 5460.5003,-60.4509 5463.4232,-54.0903\"/>\n</g>\n<!-- 57 -->\n<g id=\"node58\" class=\"node\">\n<title>57</title>\n<path fill=\"#399de5\" stroke=\"#000000\" d=\"M5700,-53C5700,-53 5530,-53 5530,-53 5524,-53 5518,-47 5518,-41 5518,-41 5518,-12 5518,-12 5518,-6 5524,0 5530,0 5530,0 5700,0 5700,0 5706,0 5712,-6 5712,-12 5712,-12 5712,-41 5712,-41 5712,-47 5706,-53 5700,-53\"/>\n<text text-anchor=\"start\" x=\"5585.5\" y=\"-37.8\" font-family=\"Helvetica,sans-Serif\" font-size=\"14.00\" fill=\"#000000\">gini = 0.0</text>\n<text text-anchor=\"start\" x=\"5575.5\" y=\"-22.8\" font-family=\"Helvetica,sans-Serif\" font-size=\"14.00\" fill=\"#000000\">samples = 2</text>\n<text text-anchor=\"start\" x=\"5526\" y=\"-7.8\" font-family=\"Helvetica,sans-Serif\" font-size=\"14.00\" fill=\"#000000\">value = [0, 0, 0, 0, 2, 0, 0, 0]</text>\n</g>\n<!-- 55&#45;&gt;57 -->\n<g id=\"edge57\" class=\"edge\">\n<title>55&#45;&gt;57</title>\n<path fill=\"none\" stroke=\"#000000\" d=\"M5608.5256,-88.9777C5609.3891,-80.6449 5610.3171,-71.6903 5611.1931,-63.2364\"/>\n<polygon fill=\"#000000\" stroke=\"#000000\" points=\"5614.6787,-63.556 5612.2281,-53.2485 5607.7159,-62.8344 5614.6787,-63.556\"/>\n</g>\n<!-- 59 -->\n<g id=\"node60\" class=\"node\">\n<title>59</title>\n<path fill=\"#399de5\" stroke=\"#000000\" d=\"M5912,-53C5912,-53 5742,-53 5742,-53 5736,-53 5730,-47 5730,-41 5730,-41 5730,-12 5730,-12 5730,-6 5736,0 5742,0 5742,0 5912,0 5912,0 5918,0 5924,-6 5924,-12 5924,-12 5924,-41 5924,-41 5924,-47 5918,-53 5912,-53\"/>\n<text text-anchor=\"start\" x=\"5797.5\" y=\"-37.8\" font-family=\"Helvetica,sans-Serif\" font-size=\"14.00\" fill=\"#000000\">gini = 0.0</text>\n<text text-anchor=\"start\" x=\"5787.5\" y=\"-22.8\" font-family=\"Helvetica,sans-Serif\" font-size=\"14.00\" fill=\"#000000\">samples = 4</text>\n<text text-anchor=\"start\" x=\"5738\" y=\"-7.8\" font-family=\"Helvetica,sans-Serif\" font-size=\"14.00\" fill=\"#000000\">value = [0, 0, 0, 0, 4, 0, 0, 0]</text>\n</g>\n<!-- 58&#45;&gt;59 -->\n<g id=\"edge59\" class=\"edge\">\n<title>58&#45;&gt;59</title>\n<path fill=\"none\" stroke=\"#000000\" d=\"M5833.4744,-88.9777C5832.6109,-80.6449 5831.6829,-71.6903 5830.8069,-63.2364\"/>\n<polygon fill=\"#000000\" stroke=\"#000000\" points=\"5834.2841,-62.8344 5829.7719,-53.2485 5827.3213,-63.556 5834.2841,-62.8344\"/>\n</g>\n<!-- 60 -->\n<g id=\"node61\" class=\"node\">\n<title>60</title>\n<path fill=\"#e4f29d\" stroke=\"#000000\" d=\"M6148,-53C6148,-53 5954,-53 5954,-53 5948,-53 5942,-47 5942,-41 5942,-41 5942,-12 5942,-12 5942,-6 5948,0 5954,0 5954,0 6148,0 6148,0 6154,0 6160,-6 6160,-12 6160,-12 6160,-41 6160,-41 6160,-47 6154,-53 6148,-53\"/>\n<text text-anchor=\"start\" x=\"6013\" y=\"-37.8\" font-family=\"Helvetica,sans-Serif\" font-size=\"14.00\" fill=\"#000000\">gini = 0.446</text>\n<text text-anchor=\"start\" x=\"6003\" y=\"-22.8\" font-family=\"Helvetica,sans-Serif\" font-size=\"14.00\" fill=\"#000000\">samples = 152</text>\n<text text-anchor=\"start\" x=\"5950\" y=\"-7.8\" font-family=\"Helvetica,sans-Serif\" font-size=\"14.00\" fill=\"#000000\">value = [0, 101, 0, 0, 51, 0, 0, 0]</text>\n</g>\n<!-- 58&#45;&gt;60 -->\n<g id=\"edge60\" class=\"edge\">\n<title>58&#45;&gt;60</title>\n<path fill=\"none\" stroke=\"#000000\" d=\"M5912.4484,-88.9777C5935.2971,-78.6744 5960.2539,-67.4205 5982.6128,-57.3381\"/>\n<polygon fill=\"#000000\" stroke=\"#000000\" points=\"5984.3452,-60.3964 5992.0224,-53.095 5981.4676,-54.0152 5984.3452,-60.3964\"/>\n</g>\n<!-- 62 -->\n<g id=\"node63\" class=\"node\">\n<title>62</title>\n<path fill=\"#88c4ef\" stroke=\"#000000\" d=\"M6364,-157C6364,-157 6186,-157 6186,-157 6180,-157 6174,-151 6174,-145 6174,-145 6174,-101 6174,-101 6174,-95 6180,-89 6186,-89 6186,-89 6364,-89 6364,-89 6370,-89 6376,-95 6376,-101 6376,-101 6376,-145 6376,-145 6376,-151 6370,-157 6364,-157\"/>\n<text text-anchor=\"start\" x=\"6208.5\" y=\"-141.8\" font-family=\"Helvetica,sans-Serif\" font-size=\"14.00\" fill=\"#000000\"> Source Port ≤ 970.0</text>\n<text text-anchor=\"start\" x=\"6237\" y=\"-126.8\" font-family=\"Helvetica,sans-Serif\" font-size=\"14.00\" fill=\"#000000\">gini = 0.408</text>\n<text text-anchor=\"start\" x=\"6231\" y=\"-111.8\" font-family=\"Helvetica,sans-Serif\" font-size=\"14.00\" fill=\"#000000\">samples = 14</text>\n<text text-anchor=\"start\" x=\"6182\" y=\"-96.8\" font-family=\"Helvetica,sans-Serif\" font-size=\"14.00\" fill=\"#000000\">value = [0, 4, 0, 0, 10, 0, 0, 0]</text>\n</g>\n<!-- 61&#45;&gt;62 -->\n<g id=\"edge62\" class=\"edge\">\n<title>61&#45;&gt;62</title>\n<path fill=\"none\" stroke=\"#000000\" d=\"M6275,-192.9465C6275,-184.776 6275,-175.9318 6275,-167.3697\"/>\n<polygon fill=\"#000000\" stroke=\"#000000\" points=\"6278.5001,-167.13 6275,-157.13 6271.5001,-167.13 6278.5001,-167.13\"/>\n</g>\n<!-- 65 -->\n<g id=\"node66\" class=\"node\">\n<title>65</title>\n<path fill=\"#c8e539\" stroke=\"#000000\" d=\"M6576,-149.5C6576,-149.5 6406,-149.5 6406,-149.5 6400,-149.5 6394,-143.5 6394,-137.5 6394,-137.5 6394,-108.5 6394,-108.5 6394,-102.5 6400,-96.5 6406,-96.5 6406,-96.5 6576,-96.5 6576,-96.5 6582,-96.5 6588,-102.5 6588,-108.5 6588,-108.5 6588,-137.5 6588,-137.5 6588,-143.5 6582,-149.5 6576,-149.5\"/>\n<text text-anchor=\"start\" x=\"6461.5\" y=\"-134.3\" font-family=\"Helvetica,sans-Serif\" font-size=\"14.00\" fill=\"#000000\">gini = 0.0</text>\n<text text-anchor=\"start\" x=\"6451.5\" y=\"-119.3\" font-family=\"Helvetica,sans-Serif\" font-size=\"14.00\" fill=\"#000000\">samples = 1</text>\n<text text-anchor=\"start\" x=\"6402\" y=\"-104.3\" font-family=\"Helvetica,sans-Serif\" font-size=\"14.00\" fill=\"#000000\">value = [0, 1, 0, 0, 0, 0, 0, 0]</text>\n</g>\n<!-- 61&#45;&gt;65 -->\n<g id=\"edge65\" class=\"edge\">\n<title>61&#45;&gt;65</title>\n<path fill=\"none\" stroke=\"#000000\" d=\"M6345.7265,-192.9465C6371.8064,-180.3895 6401.1915,-166.2411 6426.6751,-153.9712\"/>\n<polygon fill=\"#000000\" stroke=\"#000000\" points=\"6428.3823,-157.0339 6435.874,-149.5422 6425.3456,-150.7269 6428.3823,-157.0339\"/>\n</g>\n<!-- 63 -->\n<g id=\"node64\" class=\"node\">\n<title>63</title>\n<path fill=\"#399de5\" stroke=\"#000000\" d=\"M6360,-53C6360,-53 6190,-53 6190,-53 6184,-53 6178,-47 6178,-41 6178,-41 6178,-12 6178,-12 6178,-6 6184,0 6190,0 6190,0 6360,0 6360,0 6366,0 6372,-6 6372,-12 6372,-12 6372,-41 6372,-41 6372,-47 6366,-53 6360,-53\"/>\n<text text-anchor=\"start\" x=\"6245.5\" y=\"-37.8\" font-family=\"Helvetica,sans-Serif\" font-size=\"14.00\" fill=\"#000000\">gini = 0.0</text>\n<text text-anchor=\"start\" x=\"6235.5\" y=\"-22.8\" font-family=\"Helvetica,sans-Serif\" font-size=\"14.00\" fill=\"#000000\">samples = 5</text>\n<text text-anchor=\"start\" x=\"6186\" y=\"-7.8\" font-family=\"Helvetica,sans-Serif\" font-size=\"14.00\" fill=\"#000000\">value = [0, 0, 0, 0, 5, 0, 0, 0]</text>\n</g>\n<!-- 62&#45;&gt;63 -->\n<g id=\"edge63\" class=\"edge\">\n<title>62&#45;&gt;63</title>\n<path fill=\"none\" stroke=\"#000000\" d=\"M6275,-88.9777C6275,-80.7364 6275,-71.887 6275,-63.5153\"/>\n<polygon fill=\"#000000\" stroke=\"#000000\" points=\"6278.5001,-63.2484 6275,-53.2485 6271.5001,-63.2485 6278.5001,-63.2484\"/>\n</g>\n<!-- 64 -->\n<g id=\"node65\" class=\"node\">\n<title>64</title>\n<path fill=\"#d7ebfa\" stroke=\"#000000\" d=\"M6572,-53C6572,-53 6402,-53 6402,-53 6396,-53 6390,-47 6390,-41 6390,-41 6390,-12 6390,-12 6390,-6 6396,0 6402,0 6402,0 6572,0 6572,0 6578,0 6584,-6 6584,-12 6584,-12 6584,-41 6584,-41 6584,-47 6578,-53 6572,-53\"/>\n<text text-anchor=\"start\" x=\"6449\" y=\"-37.8\" font-family=\"Helvetica,sans-Serif\" font-size=\"14.00\" fill=\"#000000\">gini = 0.494</text>\n<text text-anchor=\"start\" x=\"6447.5\" y=\"-22.8\" font-family=\"Helvetica,sans-Serif\" font-size=\"14.00\" fill=\"#000000\">samples = 9</text>\n<text text-anchor=\"start\" x=\"6398\" y=\"-7.8\" font-family=\"Helvetica,sans-Serif\" font-size=\"14.00\" fill=\"#000000\">value = [0, 4, 0, 0, 5, 0, 0, 0]</text>\n</g>\n<!-- 62&#45;&gt;64 -->\n<g id=\"edge64\" class=\"edge\">\n<title>62&#45;&gt;64</title>\n<path fill=\"none\" stroke=\"#000000\" d=\"M6349.7433,-88.9777C6372.3785,-78.6744 6397.102,-67.4205 6419.2519,-57.3381\"/>\n<polygon fill=\"#000000\" stroke=\"#000000\" points=\"6420.9222,-60.4235 6428.5736,-53.095 6418.0221,-54.0525 6420.9222,-60.4235\"/>\n</g>\n<!-- 67 -->\n<g id=\"node68\" class=\"node\">\n<title>67</title>\n<path fill=\"#c8e539\" stroke=\"#000000\" d=\"M7909,-461.5C7909,-461.5 7715,-461.5 7715,-461.5 7709,-461.5 7703,-455.5 7703,-449.5 7703,-449.5 7703,-420.5 7703,-420.5 7703,-414.5 7709,-408.5 7715,-408.5 7715,-408.5 7909,-408.5 7909,-408.5 7915,-408.5 7921,-414.5 7921,-420.5 7921,-420.5 7921,-449.5 7921,-449.5 7921,-455.5 7915,-461.5 7909,-461.5\"/>\n<text text-anchor=\"start\" x=\"7782.5\" y=\"-446.3\" font-family=\"Helvetica,sans-Serif\" font-size=\"14.00\" fill=\"#000000\">gini = 0.0</text>\n<text text-anchor=\"start\" x=\"7760\" y=\"-431.3\" font-family=\"Helvetica,sans-Serif\" font-size=\"14.00\" fill=\"#000000\">samples = 6946</text>\n<text text-anchor=\"start\" x=\"7711\" y=\"-416.3\" font-family=\"Helvetica,sans-Serif\" font-size=\"14.00\" fill=\"#000000\">value = [0, 6946, 0, 0, 0, 0, 0, 0]</text>\n</g>\n<!-- 66&#45;&gt;67 -->\n<g id=\"edge67\" class=\"edge\">\n<title>66&#45;&gt;67</title>\n<path fill=\"none\" stroke=\"#000000\" d=\"M7892.7075,-504.9465C7879.1083,-493.1606 7863.8915,-479.9726 7850.3676,-468.2519\"/>\n<polygon fill=\"#000000\" stroke=\"#000000\" points=\"7852.4748,-465.4466 7842.6256,-461.5422 7847.8902,-470.7364 7852.4748,-465.4466\"/>\n</g>\n<!-- 68 -->\n<g id=\"node69\" class=\"node\">\n<title>68</title>\n<path fill=\"#f2f9cf\" stroke=\"#000000\" d=\"M8154.5,-469C8154.5,-469 7951.5,-469 7951.5,-469 7945.5,-469 7939.5,-463 7939.5,-457 7939.5,-457 7939.5,-413 7939.5,-413 7939.5,-407 7945.5,-401 7951.5,-401 7951.5,-401 8154.5,-401 8154.5,-401 8160.5,-401 8166.5,-407 8166.5,-413 8166.5,-413 8166.5,-457 8166.5,-457 8166.5,-463 8160.5,-469 8154.5,-469\"/>\n<text text-anchor=\"start\" x=\"7980.5\" y=\"-453.8\" font-family=\"Helvetica,sans-Serif\" font-size=\"14.00\" fill=\"#000000\"> Flow IAT Mean ≤ 47.5</text>\n<text text-anchor=\"start\" x=\"8015\" y=\"-438.8\" font-family=\"Helvetica,sans-Serif\" font-size=\"14.00\" fill=\"#000000\">gini = 0.495</text>\n<text text-anchor=\"start\" x=\"8001\" y=\"-423.8\" font-family=\"Helvetica,sans-Serif\" font-size=\"14.00\" fill=\"#000000\">samples = 1533</text>\n<text text-anchor=\"start\" x=\"7947.5\" y=\"-408.8\" font-family=\"Helvetica,sans-Serif\" font-size=\"14.00\" fill=\"#000000\">value = [6, 868, 0, 0, 658, 0, 1, 0]</text>\n</g>\n<!-- 66&#45;&gt;68 -->\n<g id=\"edge68\" class=\"edge\">\n<title>66&#45;&gt;68</title>\n<path fill=\"none\" stroke=\"#000000\" d=\"M7971.6199,-504.9465C7982.484,-495.6088 7994.3718,-485.3911 8005.6235,-475.7203\"/>\n<polygon fill=\"#000000\" stroke=\"#000000\" points=\"8007.9887,-478.3026 8013.2911,-469.13 8003.4259,-472.994 8007.9887,-478.3026\"/>\n</g>\n<!-- 69 -->\n<g id=\"node70\" class=\"node\">\n<title>69</title>\n<path fill=\"#ddeefb\" stroke=\"#000000\" d=\"M7877.5,-365C7877.5,-365 7674.5,-365 7674.5,-365 7668.5,-365 7662.5,-359 7662.5,-353 7662.5,-353 7662.5,-309 7662.5,-309 7662.5,-303 7668.5,-297 7674.5,-297 7674.5,-297 7877.5,-297 7877.5,-297 7883.5,-297 7889.5,-303 7889.5,-309 7889.5,-309 7889.5,-353 7889.5,-353 7889.5,-359 7883.5,-365 7877.5,-365\"/>\n<text text-anchor=\"start\" x=\"7709.5\" y=\"-349.8\" font-family=\"Helvetica,sans-Serif\" font-size=\"14.00\" fill=\"#000000\"> Source Port ≤ 928.5</text>\n<text text-anchor=\"start\" x=\"7738\" y=\"-334.8\" font-family=\"Helvetica,sans-Serif\" font-size=\"14.00\" fill=\"#000000\">gini = 0.496</text>\n<text text-anchor=\"start\" x=\"7724\" y=\"-319.8\" font-family=\"Helvetica,sans-Serif\" font-size=\"14.00\" fill=\"#000000\">samples = 1020</text>\n<text text-anchor=\"start\" x=\"7670.5\" y=\"-304.8\" font-family=\"Helvetica,sans-Serif\" font-size=\"14.00\" fill=\"#000000\">value = [0, 462, 0, 0, 558, 0, 0, 0]</text>\n</g>\n<!-- 68&#45;&gt;69 -->\n<g id=\"edge69\" class=\"edge\">\n<title>68&#45;&gt;69</title>\n<path fill=\"none\" stroke=\"#000000\" d=\"M7962.2998,-400.9465C7934.7988,-390.6212 7904.4318,-379.2199 7876.3371,-368.6717\"/>\n<polygon fill=\"#000000\" stroke=\"#000000\" points=\"7877.4961,-365.3683 7866.9039,-365.13 7875.0356,-371.9217 7877.4961,-365.3683\"/>\n</g>\n<!-- 82 -->\n<g id=\"node83\" class=\"node\">\n<title>82</title>\n<path fill=\"#d6ec6c\" stroke=\"#000000\" d=\"M8319.5,-365C8319.5,-365 8116.5,-365 8116.5,-365 8110.5,-365 8104.5,-359 8104.5,-353 8104.5,-353 8104.5,-309 8104.5,-309 8104.5,-303 8110.5,-297 8116.5,-297 8116.5,-297 8319.5,-297 8319.5,-297 8325.5,-297 8331.5,-303 8331.5,-309 8331.5,-309 8331.5,-353 8331.5,-353 8331.5,-359 8325.5,-365 8319.5,-365\"/>\n<text text-anchor=\"start\" x=\"8117\" y=\"-349.8\" font-family=\"Helvetica,sans-Serif\" font-size=\"14.00\" fill=\"#000000\"> Flow IAT Mean ≤ 8266150.625</text>\n<text text-anchor=\"start\" x=\"8180\" y=\"-334.8\" font-family=\"Helvetica,sans-Serif\" font-size=\"14.00\" fill=\"#000000\">gini = 0.336</text>\n<text text-anchor=\"start\" x=\"8170\" y=\"-319.8\" font-family=\"Helvetica,sans-Serif\" font-size=\"14.00\" fill=\"#000000\">samples = 513</text>\n<text text-anchor=\"start\" x=\"8112.5\" y=\"-304.8\" font-family=\"Helvetica,sans-Serif\" font-size=\"14.00\" fill=\"#000000\">value = [6, 406, 0, 0, 100, 0, 1, 0]</text>\n</g>\n<!-- 68&#45;&gt;82 -->\n<g id=\"edge82\" class=\"edge\">\n<title>68&#45;&gt;82</title>\n<path fill=\"none\" stroke=\"#000000\" d=\"M8107.0272,-400.9465C8122.4115,-391.2497 8139.3016,-380.6039 8155.1621,-370.6069\"/>\n<polygon fill=\"#000000\" stroke=\"#000000\" points=\"8157.258,-373.4232 8163.8514,-365.13 8153.5254,-367.5013 8157.258,-373.4232\"/>\n</g>\n<!-- 70 -->\n<g id=\"node71\" class=\"node\">\n<title>70</title>\n<path fill=\"#b9dcf6\" stroke=\"#000000\" d=\"M7363.5,-261C7363.5,-261 7160.5,-261 7160.5,-261 7154.5,-261 7148.5,-255 7148.5,-249 7148.5,-249 7148.5,-205 7148.5,-205 7148.5,-199 7154.5,-193 7160.5,-193 7160.5,-193 7363.5,-193 7363.5,-193 7369.5,-193 7375.5,-199 7375.5,-205 7375.5,-205 7375.5,-249 7375.5,-249 7375.5,-255 7369.5,-261 7363.5,-261\"/>\n<text text-anchor=\"start\" x=\"7195.5\" y=\"-245.8\" font-family=\"Helvetica,sans-Serif\" font-size=\"14.00\" fill=\"#000000\"> Source Port ≤ 603.5</text>\n<text text-anchor=\"start\" x=\"7224\" y=\"-230.8\" font-family=\"Helvetica,sans-Serif\" font-size=\"14.00\" fill=\"#000000\">gini = 0.477</text>\n<text text-anchor=\"start\" x=\"7214\" y=\"-215.8\" font-family=\"Helvetica,sans-Serif\" font-size=\"14.00\" fill=\"#000000\">samples = 899</text>\n<text text-anchor=\"start\" x=\"7156.5\" y=\"-200.8\" font-family=\"Helvetica,sans-Serif\" font-size=\"14.00\" fill=\"#000000\">value = [0, 353, 0, 0, 546, 0, 0, 0]</text>\n</g>\n<!-- 69&#45;&gt;70 -->\n<g id=\"edge70\" class=\"edge\">\n<title>69&#45;&gt;70</title>\n<path fill=\"none\" stroke=\"#000000\" d=\"M7662.2456,-307.9835C7580.3275,-291.4087 7469.8799,-269.0613 7385.7587,-252.0407\"/>\n<polygon fill=\"#000000\" stroke=\"#000000\" points=\"7386.3894,-248.5974 7375.8939,-250.0447 7385.0011,-255.4584 7386.3894,-248.5974\"/>\n</g>\n<!-- 77 -->\n<g id=\"node78\" class=\"node\">\n<title>77</title>\n<path fill=\"#cee84f\" stroke=\"#000000\" d=\"M7873,-261C7873,-261 7679,-261 7679,-261 7673,-261 7667,-255 7667,-249 7667,-249 7667,-205 7667,-205 7667,-199 7673,-193 7679,-193 7679,-193 7873,-193 7873,-193 7879,-193 7885,-199 7885,-205 7885,-205 7885,-249 7885,-249 7885,-255 7879,-261 7873,-261\"/>\n<text text-anchor=\"start\" x=\"7709.5\" y=\"-245.8\" font-family=\"Helvetica,sans-Serif\" font-size=\"14.00\" fill=\"#000000\"> Source Port ≤ 956.5</text>\n<text text-anchor=\"start\" x=\"7738\" y=\"-230.8\" font-family=\"Helvetica,sans-Serif\" font-size=\"14.00\" fill=\"#000000\">gini = 0.179</text>\n<text text-anchor=\"start\" x=\"7728\" y=\"-215.8\" font-family=\"Helvetica,sans-Serif\" font-size=\"14.00\" fill=\"#000000\">samples = 121</text>\n<text text-anchor=\"start\" x=\"7675\" y=\"-200.8\" font-family=\"Helvetica,sans-Serif\" font-size=\"14.00\" fill=\"#000000\">value = [0, 109, 0, 0, 12, 0, 0, 0]</text>\n</g>\n<!-- 69&#45;&gt;77 -->\n<g id=\"edge77\" class=\"edge\">\n<title>69&#45;&gt;77</title>\n<path fill=\"none\" stroke=\"#000000\" d=\"M7776,-296.9465C7776,-288.776 7776,-279.9318 7776,-271.3697\"/>\n<polygon fill=\"#000000\" stroke=\"#000000\" points=\"7779.5001,-271.13 7776,-261.13 7772.5001,-271.13 7779.5001,-271.13\"/>\n</g>\n<!-- 71 -->\n<g id=\"node72\" class=\"node\">\n<title>71</title>\n<path fill=\"#c9e53b\" stroke=\"#000000\" d=\"M7008,-157C7008,-157 6830,-157 6830,-157 6824,-157 6818,-151 6818,-145 6818,-145 6818,-101 6818,-101 6818,-95 6824,-89 6830,-89 6830,-89 7008,-89 7008,-89 7014,-89 7020,-95 7020,-101 7020,-101 7020,-145 7020,-145 7020,-151 7014,-157 7008,-157\"/>\n<text text-anchor=\"start\" x=\"6852.5\" y=\"-141.8\" font-family=\"Helvetica,sans-Serif\" font-size=\"14.00\" fill=\"#000000\"> Source Port ≤ 597.5</text>\n<text text-anchor=\"start\" x=\"6881\" y=\"-126.8\" font-family=\"Helvetica,sans-Serif\" font-size=\"14.00\" fill=\"#000000\">gini = 0.023</text>\n<text text-anchor=\"start\" x=\"6875\" y=\"-111.8\" font-family=\"Helvetica,sans-Serif\" font-size=\"14.00\" fill=\"#000000\">samples = 87</text>\n<text text-anchor=\"start\" x=\"6826\" y=\"-96.8\" font-family=\"Helvetica,sans-Serif\" font-size=\"14.00\" fill=\"#000000\">value = [0, 86, 0, 0, 1, 0, 0, 0]</text>\n</g>\n<!-- 70&#45;&gt;71 -->\n<g id=\"edge71\" class=\"edge\">\n<title>70&#45;&gt;71</title>\n<path fill=\"none\" stroke=\"#000000\" d=\"M7149.689,-192.9465C7111.2347,-181.2869 7068.2552,-168.2552 7029.9122,-156.6294\"/>\n<polygon fill=\"#000000\" stroke=\"#000000\" points=\"7030.8548,-153.2579 7020.2695,-153.7056 7028.8237,-159.9567 7030.8548,-153.2579\"/>\n</g>\n<!-- 74 -->\n<g id=\"node75\" class=\"node\">\n<title>74</title>\n<path fill=\"#9acdf2\" stroke=\"#000000\" d=\"M7363.5,-157C7363.5,-157 7160.5,-157 7160.5,-157 7154.5,-157 7148.5,-151 7148.5,-145 7148.5,-145 7148.5,-101 7148.5,-101 7148.5,-95 7154.5,-89 7160.5,-89 7160.5,-89 7363.5,-89 7363.5,-89 7369.5,-89 7375.5,-95 7375.5,-101 7375.5,-101 7375.5,-145 7375.5,-145 7375.5,-151 7369.5,-157 7363.5,-157\"/>\n<text text-anchor=\"start\" x=\"7170\" y=\"-141.8\" font-family=\"Helvetica,sans-Serif\" font-size=\"14.00\" fill=\"#000000\">Flow Bytes/s ≤ 404000000.0</text>\n<text text-anchor=\"start\" x=\"7224\" y=\"-126.8\" font-family=\"Helvetica,sans-Serif\" font-size=\"14.00\" fill=\"#000000\">gini = 0.441</text>\n<text text-anchor=\"start\" x=\"7214\" y=\"-111.8\" font-family=\"Helvetica,sans-Serif\" font-size=\"14.00\" fill=\"#000000\">samples = 812</text>\n<text text-anchor=\"start\" x=\"7156.5\" y=\"-96.8\" font-family=\"Helvetica,sans-Serif\" font-size=\"14.00\" fill=\"#000000\">value = [0, 267, 0, 0, 545, 0, 0, 0]</text>\n</g>\n<!-- 70&#45;&gt;74 -->\n<g id=\"edge74\" class=\"edge\">\n<title>70&#45;&gt;74</title>\n<path fill=\"none\" stroke=\"#000000\" d=\"M7262,-192.9465C7262,-184.776 7262,-175.9318 7262,-167.3697\"/>\n<polygon fill=\"#000000\" stroke=\"#000000\" points=\"7265.5001,-167.13 7262,-157.13 7258.5001,-167.13 7265.5001,-167.13\"/>\n</g>\n<!-- 72 -->\n<g id=\"node73\" class=\"node\">\n<title>72</title>\n<path fill=\"#c8e539\" stroke=\"#000000\" d=\"M6792,-53C6792,-53 6614,-53 6614,-53 6608,-53 6602,-47 6602,-41 6602,-41 6602,-12 6602,-12 6602,-6 6608,0 6614,0 6614,0 6792,0 6792,0 6798,0 6804,-6 6804,-12 6804,-12 6804,-41 6804,-41 6804,-47 6798,-53 6792,-53\"/>\n<text text-anchor=\"start\" x=\"6673.5\" y=\"-37.8\" font-family=\"Helvetica,sans-Serif\" font-size=\"14.00\" fill=\"#000000\">gini = 0.0</text>\n<text text-anchor=\"start\" x=\"6659\" y=\"-22.8\" font-family=\"Helvetica,sans-Serif\" font-size=\"14.00\" fill=\"#000000\">samples = 82</text>\n<text text-anchor=\"start\" x=\"6610\" y=\"-7.8\" font-family=\"Helvetica,sans-Serif\" font-size=\"14.00\" fill=\"#000000\">value = [0, 82, 0, 0, 0, 0, 0, 0]</text>\n</g>\n<!-- 71&#45;&gt;72 -->\n<g id=\"edge72\" class=\"edge\">\n<title>71&#45;&gt;72</title>\n<path fill=\"none\" stroke=\"#000000\" d=\"M6842.8465,-88.9777C6819.6812,-78.6284 6794.3692,-67.32 6771.7242,-57.2032\"/>\n<polygon fill=\"#000000\" stroke=\"#000000\" points=\"6773.0867,-53.9785 6762.5288,-53.095 6770.2313,-60.3697 6773.0867,-53.9785\"/>\n</g>\n<!-- 73 -->\n<g id=\"node74\" class=\"node\">\n<title>73</title>\n<path fill=\"#d6ec6a\" stroke=\"#000000\" d=\"M7004,-53C7004,-53 6834,-53 6834,-53 6828,-53 6822,-47 6822,-41 6822,-41 6822,-12 6822,-12 6822,-6 6828,0 6834,0 6834,0 7004,0 7004,0 7010,0 7016,-6 7016,-12 7016,-12 7016,-41 7016,-41 7016,-47 7010,-53 7004,-53\"/>\n<text text-anchor=\"start\" x=\"6885.5\" y=\"-37.8\" font-family=\"Helvetica,sans-Serif\" font-size=\"14.00\" fill=\"#000000\">gini = 0.32</text>\n<text text-anchor=\"start\" x=\"6879.5\" y=\"-22.8\" font-family=\"Helvetica,sans-Serif\" font-size=\"14.00\" fill=\"#000000\">samples = 5</text>\n<text text-anchor=\"start\" x=\"6830\" y=\"-7.8\" font-family=\"Helvetica,sans-Serif\" font-size=\"14.00\" fill=\"#000000\">value = [0, 4, 0, 0, 1, 0, 0, 0]</text>\n</g>\n<!-- 71&#45;&gt;73 -->\n<g id=\"edge73\" class=\"edge\">\n<title>71&#45;&gt;73</title>\n<path fill=\"none\" stroke=\"#000000\" d=\"M6919,-88.9777C6919,-80.7364 6919,-71.887 6919,-63.5153\"/>\n<polygon fill=\"#000000\" stroke=\"#000000\" points=\"6922.5001,-63.2484 6919,-53.2485 6915.5001,-63.2485 6922.5001,-63.2484\"/>\n</g>\n<!-- 75 -->\n<g id=\"node76\" class=\"node\">\n<title>75</title>\n<path fill=\"#66b3eb\" stroke=\"#000000\" d=\"M7240,-53C7240,-53 7046,-53 7046,-53 7040,-53 7034,-47 7034,-41 7034,-41 7034,-12 7034,-12 7034,-6 7040,0 7046,0 7046,0 7240,0 7240,0 7246,0 7252,-6 7252,-12 7252,-12 7252,-41 7252,-41 7252,-47 7246,-53 7240,-53\"/>\n<text text-anchor=\"start\" x=\"7105\" y=\"-37.8\" font-family=\"Helvetica,sans-Serif\" font-size=\"14.00\" fill=\"#000000\">gini = 0.303</text>\n<text text-anchor=\"start\" x=\"7095\" y=\"-22.8\" font-family=\"Helvetica,sans-Serif\" font-size=\"14.00\" fill=\"#000000\">samples = 328</text>\n<text text-anchor=\"start\" x=\"7042\" y=\"-7.8\" font-family=\"Helvetica,sans-Serif\" font-size=\"14.00\" fill=\"#000000\">value = [0, 61, 0, 0, 267, 0, 0, 0]</text>\n</g>\n<!-- 74&#45;&gt;75 -->\n<g id=\"edge75\" class=\"edge\">\n<title>74&#45;&gt;75</title>\n<path fill=\"none\" stroke=\"#000000\" d=\"M7220.0451,-88.9777C7208.3014,-79.4545 7195.5562,-69.1191 7183.876,-59.6473\"/>\n<polygon fill=\"#000000\" stroke=\"#000000\" points=\"7185.9568,-56.8286 7175.9852,-53.2485 7181.5478,-62.2656 7185.9568,-56.8286\"/>\n</g>\n<!-- 76 -->\n<g id=\"node77\" class=\"node\">\n<title>76</title>\n<path fill=\"#cce6f8\" stroke=\"#000000\" d=\"M7485.5,-53C7485.5,-53 7282.5,-53 7282.5,-53 7276.5,-53 7270.5,-47 7270.5,-41 7270.5,-41 7270.5,-12 7270.5,-12 7270.5,-6 7276.5,0 7282.5,0 7282.5,0 7485.5,0 7485.5,0 7491.5,0 7497.5,-6 7497.5,-12 7497.5,-12 7497.5,-41 7497.5,-41 7497.5,-47 7491.5,-53 7485.5,-53\"/>\n<text text-anchor=\"start\" x=\"7346\" y=\"-37.8\" font-family=\"Helvetica,sans-Serif\" font-size=\"14.00\" fill=\"#000000\">gini = 0.489</text>\n<text text-anchor=\"start\" x=\"7336\" y=\"-22.8\" font-family=\"Helvetica,sans-Serif\" font-size=\"14.00\" fill=\"#000000\">samples = 484</text>\n<text text-anchor=\"start\" x=\"7278.5\" y=\"-7.8\" font-family=\"Helvetica,sans-Serif\" font-size=\"14.00\" fill=\"#000000\">value = [0, 206, 0, 0, 278, 0, 0, 0]</text>\n</g>\n<!-- 74&#45;&gt;76 -->\n<g id=\"edge76\" class=\"edge\">\n<title>74&#45;&gt;76</title>\n<path fill=\"none\" stroke=\"#000000\" d=\"M7305.0126,-88.9777C7317.0524,-79.4545 7330.1188,-69.1191 7342.0935,-59.6473\"/>\n<polygon fill=\"#000000\" stroke=\"#000000\" points=\"7344.5115,-62.1973 7350.1833,-53.2485 7340.1689,-56.7072 7344.5115,-62.1973\"/>\n</g>\n<!-- 78 -->\n<g id=\"node79\" class=\"node\">\n<title>78</title>\n<path fill=\"#dcee81\" stroke=\"#000000\" d=\"M7757,-157C7757,-157 7571,-157 7571,-157 7565,-157 7559,-151 7559,-145 7559,-145 7559,-101 7559,-101 7559,-95 7565,-89 7571,-89 7571,-89 7757,-89 7757,-89 7763,-89 7769,-95 7769,-101 7769,-101 7769,-145 7769,-145 7769,-151 7763,-157 7757,-157\"/>\n<text text-anchor=\"start\" x=\"7570.5\" y=\"-141.8\" font-family=\"Helvetica,sans-Serif\" font-size=\"14.00\" fill=\"#000000\"> Flow Packets/s ≤ 1500000.0</text>\n<text text-anchor=\"start\" x=\"7626\" y=\"-126.8\" font-family=\"Helvetica,sans-Serif\" font-size=\"14.00\" fill=\"#000000\">gini = 0.391</text>\n<text text-anchor=\"start\" x=\"7620\" y=\"-111.8\" font-family=\"Helvetica,sans-Serif\" font-size=\"14.00\" fill=\"#000000\">samples = 45</text>\n<text text-anchor=\"start\" x=\"7567\" y=\"-96.8\" font-family=\"Helvetica,sans-Serif\" font-size=\"14.00\" fill=\"#000000\">value = [0, 33, 0, 0, 12, 0, 0, 0]</text>\n</g>\n<!-- 77&#45;&gt;78 -->\n<g id=\"edge78\" class=\"edge\">\n<title>77&#45;&gt;78</title>\n<path fill=\"none\" stroke=\"#000000\" d=\"M7739.327,-192.9465C7729.3677,-183.6986 7718.4789,-173.5876 7708.1532,-163.9994\"/>\n<polygon fill=\"#000000\" stroke=\"#000000\" points=\"7710.4649,-161.3698 7700.7554,-157.13 7705.7018,-166.4993 7710.4649,-161.3698\"/>\n</g>\n<!-- 81 -->\n<g id=\"node82\" class=\"node\">\n<title>81</title>\n<path fill=\"#c8e539\" stroke=\"#000000\" d=\"M7977,-149.5C7977,-149.5 7799,-149.5 7799,-149.5 7793,-149.5 7787,-143.5 7787,-137.5 7787,-137.5 7787,-108.5 7787,-108.5 7787,-102.5 7793,-96.5 7799,-96.5 7799,-96.5 7977,-96.5 7977,-96.5 7983,-96.5 7989,-102.5 7989,-108.5 7989,-108.5 7989,-137.5 7989,-137.5 7989,-143.5 7983,-149.5 7977,-149.5\"/>\n<text text-anchor=\"start\" x=\"7858.5\" y=\"-134.3\" font-family=\"Helvetica,sans-Serif\" font-size=\"14.00\" fill=\"#000000\">gini = 0.0</text>\n<text text-anchor=\"start\" x=\"7844\" y=\"-119.3\" font-family=\"Helvetica,sans-Serif\" font-size=\"14.00\" fill=\"#000000\">samples = 76</text>\n<text text-anchor=\"start\" x=\"7795\" y=\"-104.3\" font-family=\"Helvetica,sans-Serif\" font-size=\"14.00\" fill=\"#000000\">value = [0, 76, 0, 0, 0, 0, 0, 0]</text>\n</g>\n<!-- 77&#45;&gt;81 -->\n<g id=\"edge81\" class=\"edge\">\n<title>77&#45;&gt;81</title>\n<path fill=\"none\" stroke=\"#000000\" d=\"M7812.673,-192.9465C7825.2469,-181.2707 7839.3026,-168.219 7851.8359,-156.5809\"/>\n<polygon fill=\"#000000\" stroke=\"#000000\" points=\"7854.4698,-158.9115 7859.4161,-149.5422 7849.7066,-153.7819 7854.4698,-158.9115\"/>\n</g>\n<!-- 79 -->\n<g id=\"node80\" class=\"node\">\n<title>79</title>\n<path fill=\"#e6f3fc\" stroke=\"#000000\" d=\"M7698,-53C7698,-53 7528,-53 7528,-53 7522,-53 7516,-47 7516,-41 7516,-41 7516,-12 7516,-12 7516,-6 7522,0 7528,0 7528,0 7698,0 7698,0 7704,0 7710,-6 7710,-12 7710,-12 7710,-41 7710,-41 7710,-47 7704,-53 7698,-53\"/>\n<text text-anchor=\"start\" x=\"7575\" y=\"-37.8\" font-family=\"Helvetica,sans-Serif\" font-size=\"14.00\" fill=\"#000000\">gini = 0.498</text>\n<text text-anchor=\"start\" x=\"7569\" y=\"-22.8\" font-family=\"Helvetica,sans-Serif\" font-size=\"14.00\" fill=\"#000000\">samples = 15</text>\n<text text-anchor=\"start\" x=\"7524\" y=\"-7.8\" font-family=\"Helvetica,sans-Serif\" font-size=\"14.00\" fill=\"#000000\">value = [0, 7, 0, 0, 8, 0, 0, 0]</text>\n</g>\n<!-- 78&#45;&gt;79 -->\n<g id=\"edge79\" class=\"edge\">\n<title>78&#45;&gt;79</title>\n<path fill=\"none\" stroke=\"#000000\" d=\"M7646.0193,-88.9777C7641.4218,-80.2786 7636.4663,-70.9018 7631.8275,-62.1247\"/>\n<polygon fill=\"#000000\" stroke=\"#000000\" points=\"7634.9035,-60.4543 7627.1365,-53.2485 7628.7147,-63.7251 7634.9035,-60.4543\"/>\n</g>\n<!-- 80 -->\n<g id=\"node81\" class=\"node\">\n<title>80</title>\n<path fill=\"#d0e957\" stroke=\"#000000\" d=\"M7918,-53C7918,-53 7740,-53 7740,-53 7734,-53 7728,-47 7728,-41 7728,-41 7728,-12 7728,-12 7728,-6 7734,0 7740,0 7740,0 7918,0 7918,0 7924,0 7930,-6 7930,-12 7930,-12 7930,-41 7930,-41 7930,-47 7924,-53 7918,-53\"/>\n<text text-anchor=\"start\" x=\"7791\" y=\"-37.8\" font-family=\"Helvetica,sans-Serif\" font-size=\"14.00\" fill=\"#000000\">gini = 0.231</text>\n<text text-anchor=\"start\" x=\"7785\" y=\"-22.8\" font-family=\"Helvetica,sans-Serif\" font-size=\"14.00\" fill=\"#000000\">samples = 30</text>\n<text text-anchor=\"start\" x=\"7736\" y=\"-7.8\" font-family=\"Helvetica,sans-Serif\" font-size=\"14.00\" fill=\"#000000\">value = [0, 26, 0, 0, 4, 0, 0, 0]</text>\n</g>\n<!-- 78&#45;&gt;80 -->\n<g id=\"edge80\" class=\"edge\">\n<title>78&#45;&gt;80</title>\n<path fill=\"none\" stroke=\"#000000\" d=\"M7722.1728,-88.9777C7739.318,-78.9504 7758.0025,-68.0228 7774.882,-58.1508\"/>\n<polygon fill=\"#000000\" stroke=\"#000000\" points=\"7776.6615,-61.1648 7783.5266,-53.095 7773.1276,-55.1223 7776.6615,-61.1648\"/>\n</g>\n<!-- 83 -->\n<g id=\"node84\" class=\"node\">\n<title>83</title>\n<path fill=\"#dff08c\" stroke=\"#000000\" d=\"M8319.5,-261C8319.5,-261 8116.5,-261 8116.5,-261 8110.5,-261 8104.5,-255 8104.5,-249 8104.5,-249 8104.5,-205 8104.5,-205 8104.5,-199 8110.5,-193 8116.5,-193 8116.5,-193 8319.5,-193 8319.5,-193 8325.5,-193 8331.5,-199 8331.5,-205 8331.5,-205 8331.5,-249 8331.5,-249 8331.5,-255 8325.5,-261 8319.5,-261\"/>\n<text text-anchor=\"start\" x=\"8145.5\" y=\"-245.8\" font-family=\"Helvetica,sans-Serif\" font-size=\"14.00\" fill=\"#000000\"> Flow IAT Mean ≤ 52.5</text>\n<text text-anchor=\"start\" x=\"8180\" y=\"-230.8\" font-family=\"Helvetica,sans-Serif\" font-size=\"14.00\" fill=\"#000000\">gini = 0.432</text>\n<text text-anchor=\"start\" x=\"8170\" y=\"-215.8\" font-family=\"Helvetica,sans-Serif\" font-size=\"14.00\" fill=\"#000000\">samples = 356</text>\n<text text-anchor=\"start\" x=\"8112.5\" y=\"-200.8\" font-family=\"Helvetica,sans-Serif\" font-size=\"14.00\" fill=\"#000000\">value = [6, 249, 0, 0, 100, 0, 1, 0]</text>\n</g>\n<!-- 82&#45;&gt;83 -->\n<g id=\"edge83\" class=\"edge\">\n<title>82&#45;&gt;83</title>\n<path fill=\"none\" stroke=\"#000000\" d=\"M8218,-296.9465C8218,-288.776 8218,-279.9318 8218,-271.3697\"/>\n<polygon fill=\"#000000\" stroke=\"#000000\" points=\"8221.5001,-271.13 8218,-261.13 8214.5001,-271.13 8221.5001,-271.13\"/>\n</g>\n<!-- 90 -->\n<g id=\"node91\" class=\"node\">\n<title>90</title>\n<path fill=\"#c8e539\" stroke=\"#000000\" d=\"M8548,-253.5C8548,-253.5 8362,-253.5 8362,-253.5 8356,-253.5 8350,-247.5 8350,-241.5 8350,-241.5 8350,-212.5 8350,-212.5 8350,-206.5 8356,-200.5 8362,-200.5 8362,-200.5 8548,-200.5 8548,-200.5 8554,-200.5 8560,-206.5 8560,-212.5 8560,-212.5 8560,-241.5 8560,-241.5 8560,-247.5 8554,-253.5 8548,-253.5\"/>\n<text text-anchor=\"start\" x=\"8425.5\" y=\"-238.3\" font-family=\"Helvetica,sans-Serif\" font-size=\"14.00\" fill=\"#000000\">gini = 0.0</text>\n<text text-anchor=\"start\" x=\"8407\" y=\"-223.3\" font-family=\"Helvetica,sans-Serif\" font-size=\"14.00\" fill=\"#000000\">samples = 157</text>\n<text text-anchor=\"start\" x=\"8358\" y=\"-208.3\" font-family=\"Helvetica,sans-Serif\" font-size=\"14.00\" fill=\"#000000\">value = [0, 157, 0, 0, 0, 0, 0, 0]</text>\n</g>\n<!-- 82&#45;&gt;90 -->\n<g id=\"edge90\" class=\"edge\">\n<title>82&#45;&gt;90</title>\n<path fill=\"none\" stroke=\"#000000\" d=\"M8295.6027,-296.9465C8324.4691,-284.2794 8357.0261,-269.9928 8385.1562,-257.6488\"/>\n<polygon fill=\"#000000\" stroke=\"#000000\" points=\"8386.7638,-260.7655 8394.5145,-253.5422 8383.9509,-254.3555 8386.7638,-260.7655\"/>\n</g>\n<!-- 84 -->\n<g id=\"node85\" class=\"node\">\n<title>84</title>\n<path fill=\"#dcee7f\" stroke=\"#000000\" d=\"M8315,-157C8315,-157 8121,-157 8121,-157 8115,-157 8109,-151 8109,-145 8109,-145 8109,-101 8109,-101 8109,-95 8115,-89 8121,-89 8121,-89 8315,-89 8315,-89 8321,-89 8327,-95 8327,-101 8327,-101 8327,-145 8327,-145 8327,-151 8321,-157 8315,-157\"/>\n<text text-anchor=\"start\" x=\"8151.5\" y=\"-141.8\" font-family=\"Helvetica,sans-Serif\" font-size=\"14.00\" fill=\"#000000\"> Source Port ≤ 873.5</text>\n<text text-anchor=\"start\" x=\"8180\" y=\"-126.8\" font-family=\"Helvetica,sans-Serif\" font-size=\"14.00\" fill=\"#000000\">gini = 0.387</text>\n<text text-anchor=\"start\" x=\"8170\" y=\"-111.8\" font-family=\"Helvetica,sans-Serif\" font-size=\"14.00\" fill=\"#000000\">samples = 336</text>\n<text text-anchor=\"start\" x=\"8117\" y=\"-96.8\" font-family=\"Helvetica,sans-Serif\" font-size=\"14.00\" fill=\"#000000\">value = [0, 248, 0, 0, 88, 0, 0, 0]</text>\n</g>\n<!-- 83&#45;&gt;84 -->\n<g id=\"edge84\" class=\"edge\">\n<title>83&#45;&gt;84</title>\n<path fill=\"none\" stroke=\"#000000\" d=\"M8218,-192.9465C8218,-184.776 8218,-175.9318 8218,-167.3697\"/>\n<polygon fill=\"#000000\" stroke=\"#000000\" points=\"8221.5001,-167.13 8218,-157.13 8214.5001,-167.13 8221.5001,-167.13\"/>\n</g>\n<!-- 87 -->\n<g id=\"node88\" class=\"node\">\n<title>87</title>\n<path fill=\"#aad5f4\" stroke=\"#000000\" d=\"M8602,-157C8602,-157 8408,-157 8408,-157 8402,-157 8396,-151 8396,-145 8396,-145 8396,-101 8396,-101 8396,-95 8402,-89 8408,-89 8408,-89 8602,-89 8602,-89 8608,-89 8614,-95 8614,-101 8614,-101 8614,-145 8614,-145 8614,-151 8608,-157 8602,-157\"/>\n<text text-anchor=\"start\" x=\"8404\" y=\"-141.8\" font-family=\"Helvetica,sans-Serif\" font-size=\"14.00\" fill=\"#000000\"> Flow IAT Mean ≤ 1205338.375</text>\n<text text-anchor=\"start\" x=\"8467\" y=\"-126.8\" font-family=\"Helvetica,sans-Serif\" font-size=\"14.00\" fill=\"#000000\">gini = 0.545</text>\n<text text-anchor=\"start\" x=\"8461\" y=\"-111.8\" font-family=\"Helvetica,sans-Serif\" font-size=\"14.00\" fill=\"#000000\">samples = 20</text>\n<text text-anchor=\"start\" x=\"8412\" y=\"-96.8\" font-family=\"Helvetica,sans-Serif\" font-size=\"14.00\" fill=\"#000000\">value = [6, 1, 0, 0, 12, 0, 1, 0]</text>\n</g>\n<!-- 83&#45;&gt;87 -->\n<g id=\"edge87\" class=\"edge\">\n<title>83&#45;&gt;87</title>\n<path fill=\"none\" stroke=\"#000000\" d=\"M8311.9745,-192.9465C8340.4684,-182.6212 8371.9317,-171.2199 8401.0406,-160.6717\"/>\n<polygon fill=\"#000000\" stroke=\"#000000\" points=\"8402.605,-163.8276 8410.8143,-157.13 8400.2201,-157.2464 8402.605,-163.8276\"/>\n</g>\n<!-- 85 -->\n<g id=\"node86\" class=\"node\">\n<title>85</title>\n<path fill=\"#e3f29b\" stroke=\"#000000\" d=\"M8154,-53C8154,-53 7960,-53 7960,-53 7954,-53 7948,-47 7948,-41 7948,-41 7948,-12 7948,-12 7948,-6 7954,0 7960,0 7960,0 8154,0 8154,0 8160,0 8166,-6 8166,-12 8166,-12 8166,-41 8166,-41 8166,-47 8160,-53 8154,-53\"/>\n<text text-anchor=\"start\" x=\"8019\" y=\"-37.8\" font-family=\"Helvetica,sans-Serif\" font-size=\"14.00\" fill=\"#000000\">gini = 0.444</text>\n<text text-anchor=\"start\" x=\"8009\" y=\"-22.8\" font-family=\"Helvetica,sans-Serif\" font-size=\"14.00\" fill=\"#000000\">samples = 259</text>\n<text text-anchor=\"start\" x=\"7956\" y=\"-7.8\" font-family=\"Helvetica,sans-Serif\" font-size=\"14.00\" fill=\"#000000\">value = [0, 173, 0, 0, 86, 0, 0, 0]</text>\n</g>\n<!-- 84&#45;&gt;85 -->\n<g id=\"edge85\" class=\"edge\">\n<title>84&#45;&gt;85</title>\n<path fill=\"none\" stroke=\"#000000\" d=\"M8161.2374,-88.9777C8144.6614,-79.0424 8126.6107,-68.2232 8110.2598,-58.4228\"/>\n<polygon fill=\"#000000\" stroke=\"#000000\" points=\"8111.7477,-55.2341 8101.371,-53.095 8108.1489,-61.2382 8111.7477,-55.2341\"/>\n</g>\n<!-- 86 -->\n<g id=\"node87\" class=\"node\">\n<title>86</title>\n<path fill=\"#c9e63e\" stroke=\"#000000\" d=\"M8374,-53C8374,-53 8196,-53 8196,-53 8190,-53 8184,-47 8184,-41 8184,-41 8184,-12 8184,-12 8184,-6 8190,0 8196,0 8196,0 8374,0 8374,0 8380,0 8386,-6 8386,-12 8386,-12 8386,-41 8386,-41 8386,-47 8380,-53 8374,-53\"/>\n<text text-anchor=\"start\" x=\"8247\" y=\"-37.8\" font-family=\"Helvetica,sans-Serif\" font-size=\"14.00\" fill=\"#000000\">gini = 0.051</text>\n<text text-anchor=\"start\" x=\"8241\" y=\"-22.8\" font-family=\"Helvetica,sans-Serif\" font-size=\"14.00\" fill=\"#000000\">samples = 77</text>\n<text text-anchor=\"start\" x=\"8192\" y=\"-7.8\" font-family=\"Helvetica,sans-Serif\" font-size=\"14.00\" fill=\"#000000\">value = [0, 75, 0, 0, 2, 0, 0, 0]</text>\n</g>\n<!-- 84&#45;&gt;86 -->\n<g id=\"edge86\" class=\"edge\">\n<title>84&#45;&gt;86</title>\n<path fill=\"none\" stroke=\"#000000\" d=\"M8241.6217,-88.9777C8247.7887,-80.0954 8254.4461,-70.5067 8260.6501,-61.5711\"/>\n<polygon fill=\"#000000\" stroke=\"#000000\" points=\"8263.6003,-63.4589 8266.4285,-53.2485 8257.8503,-59.4666 8263.6003,-63.4589\"/>\n</g>\n<!-- 88 -->\n<g id=\"node89\" class=\"node\">\n<title>88</title>\n<path fill=\"#49a5e7\" stroke=\"#000000\" d=\"M8594,-53C8594,-53 8416,-53 8416,-53 8410,-53 8404,-47 8404,-41 8404,-41 8404,-12 8404,-12 8404,-6 8410,0 8416,0 8416,0 8594,0 8594,0 8600,0 8606,-6 8606,-12 8606,-12 8606,-41 8606,-41 8606,-47 8600,-53 8594,-53\"/>\n<text text-anchor=\"start\" x=\"8467\" y=\"-37.8\" font-family=\"Helvetica,sans-Serif\" font-size=\"14.00\" fill=\"#000000\">gini = 0.142</text>\n<text text-anchor=\"start\" x=\"8461\" y=\"-22.8\" font-family=\"Helvetica,sans-Serif\" font-size=\"14.00\" fill=\"#000000\">samples = 13</text>\n<text text-anchor=\"start\" x=\"8412\" y=\"-7.8\" font-family=\"Helvetica,sans-Serif\" font-size=\"14.00\" fill=\"#000000\">value = [0, 1, 0, 0, 12, 0, 0, 0]</text>\n</g>\n<!-- 87&#45;&gt;88 -->\n<g id=\"edge88\" class=\"edge\">\n<title>87&#45;&gt;88</title>\n<path fill=\"none\" stroke=\"#000000\" d=\"M8505,-88.9777C8505,-80.7364 8505,-71.887 8505,-63.5153\"/>\n<polygon fill=\"#000000\" stroke=\"#000000\" points=\"8508.5001,-63.2484 8505,-53.2485 8501.5001,-63.2485 8508.5001,-63.2484\"/>\n</g>\n<!-- 89 -->\n<g id=\"node90\" class=\"node\">\n<title>89</title>\n<path fill=\"#e9965a\" stroke=\"#000000\" d=\"M8806,-53C8806,-53 8636,-53 8636,-53 8630,-53 8624,-47 8624,-41 8624,-41 8624,-12 8624,-12 8624,-6 8630,0 8636,0 8636,0 8806,0 8806,0 8812,0 8818,-6 8818,-12 8818,-12 8818,-41 8818,-41 8818,-47 8812,-53 8806,-53\"/>\n<text text-anchor=\"start\" x=\"8683\" y=\"-37.8\" font-family=\"Helvetica,sans-Serif\" font-size=\"14.00\" fill=\"#000000\">gini = 0.245</text>\n<text text-anchor=\"start\" x=\"8681.5\" y=\"-22.8\" font-family=\"Helvetica,sans-Serif\" font-size=\"14.00\" fill=\"#000000\">samples = 7</text>\n<text text-anchor=\"start\" x=\"8632\" y=\"-7.8\" font-family=\"Helvetica,sans-Serif\" font-size=\"14.00\" fill=\"#000000\">value = [6, 0, 0, 0, 0, 0, 1, 0]</text>\n</g>\n<!-- 87&#45;&gt;89 -->\n<g id=\"edge89\" class=\"edge\">\n<title>87&#45;&gt;89</title>\n<path fill=\"none\" stroke=\"#000000\" d=\"M8581.1535,-88.9777C8604.3188,-78.6284 8629.6308,-67.32 8652.2758,-57.2032\"/>\n<polygon fill=\"#000000\" stroke=\"#000000\" points=\"8653.7687,-60.3697 8661.4712,-53.095 8650.9133,-53.9785 8653.7687,-60.3697\"/>\n</g>\n<!-- 92 -->\n<g id=\"node93\" class=\"node\">\n<title>92</title>\n<path fill=\"#a5d2f3\" stroke=\"#000000\" d=\"M13240,-573C13240,-573 12996,-573 12996,-573 12990,-573 12984,-567 12984,-561 12984,-561 12984,-517 12984,-517 12984,-511 12990,-505 12996,-505 12996,-505 13240,-505 13240,-505 13246,-505 13252,-511 13252,-517 13252,-517 13252,-561 13252,-561 13252,-567 13246,-573 13240,-573\"/>\n<text text-anchor=\"start\" x=\"13051.5\" y=\"-557.8\" font-family=\"Helvetica,sans-Serif\" font-size=\"14.00\" fill=\"#000000\"> Source Port ≤ 648.5</text>\n<text text-anchor=\"start\" x=\"13080\" y=\"-542.8\" font-family=\"Helvetica,sans-Serif\" font-size=\"14.00\" fill=\"#000000\">gini = 0.457</text>\n<text text-anchor=\"start\" x=\"13062\" y=\"-527.8\" font-family=\"Helvetica,sans-Serif\" font-size=\"14.00\" fill=\"#000000\">samples = 54895</text>\n<text text-anchor=\"start\" x=\"12992\" y=\"-512.8\" font-family=\"Helvetica,sans-Serif\" font-size=\"14.00\" fill=\"#000000\">value = [34, 19300, 0, 0, 35561, 0, 0, 0]</text>\n</g>\n<!-- 91&#45;&gt;92 -->\n<g id=\"edge92\" class=\"edge\">\n<title>91&#45;&gt;92</title>\n<path fill=\"none\" stroke=\"#000000\" d=\"M14355.9488,-632.8387C14096.8178,-613.1961 13529.2304,-570.172 13262.2382,-549.9335\"/>\n<polygon fill=\"#000000\" stroke=\"#000000\" points=\"13262.3251,-546.4301 13252.0892,-549.1642 13261.796,-553.4101 13262.3251,-546.4301\"/>\n</g>\n<!-- 147 -->\n<g id=\"node148\" class=\"node\">\n<title>147</title>\n<path fill=\"#64b2eb\" stroke=\"#000000\" d=\"M16413,-573C16413,-573 16177,-573 16177,-573 16171,-573 16165,-567 16165,-561 16165,-561 16165,-517 16165,-517 16165,-511 16171,-505 16177,-505 16177,-505 16413,-505 16413,-505 16419,-505 16425,-511 16425,-517 16425,-517 16425,-561 16425,-561 16425,-567 16419,-573 16413,-573\"/>\n<text text-anchor=\"start\" x=\"16228.5\" y=\"-557.8\" font-family=\"Helvetica,sans-Serif\" font-size=\"14.00\" fill=\"#000000\"> Source Port ≤ 649.5</text>\n<text text-anchor=\"start\" x=\"16257\" y=\"-542.8\" font-family=\"Helvetica,sans-Serif\" font-size=\"14.00\" fill=\"#000000\">gini = 0.295</text>\n<text text-anchor=\"start\" x=\"16239\" y=\"-527.8\" font-family=\"Helvetica,sans-Serif\" font-size=\"14.00\" fill=\"#000000\">samples = 41702</text>\n<text text-anchor=\"start\" x=\"16173\" y=\"-512.8\" font-family=\"Helvetica,sans-Serif\" font-size=\"14.00\" fill=\"#000000\">value = [39, 7465, 0, 0, 34198, 0, 0, 0]</text>\n</g>\n<!-- 91&#45;&gt;147 -->\n<g id=\"edge147\" class=\"edge\">\n<title>91&#45;&gt;147</title>\n<path fill=\"none\" stroke=\"#000000\" d=\"M14624.1937,-635.2681C14956.6268,-616.114 15815.8837,-566.6056 16154.6844,-547.0847\"/>\n<polygon fill=\"#000000\" stroke=\"#000000\" points=\"16155.0184,-550.5713 16164.8005,-546.5018 16154.6157,-543.5829 16155.0184,-550.5713\"/>\n</g>\n<!-- 93 -->\n<g id=\"node94\" class=\"node\">\n<title>93</title>\n<path fill=\"#6fb7ec\" stroke=\"#000000\" d=\"M11120,-469C11120,-469 10884,-469 10884,-469 10878,-469 10872,-463 10872,-457 10872,-457 10872,-413 10872,-413 10872,-407 10878,-401 10884,-401 10884,-401 11120,-401 11120,-401 11126,-401 11132,-407 11132,-413 11132,-413 11132,-457 11132,-457 11132,-463 11126,-469 11120,-469\"/>\n<text text-anchor=\"start\" x=\"10935.5\" y=\"-453.8\" font-family=\"Helvetica,sans-Serif\" font-size=\"14.00\" fill=\"#000000\"> Source Port ≤ 647.5</text>\n<text text-anchor=\"start\" x=\"10964\" y=\"-438.8\" font-family=\"Helvetica,sans-Serif\" font-size=\"14.00\" fill=\"#000000\">gini = 0.336</text>\n<text text-anchor=\"start\" x=\"10946\" y=\"-423.8\" font-family=\"Helvetica,sans-Serif\" font-size=\"14.00\" fill=\"#000000\">samples = 26189</text>\n<text text-anchor=\"start\" x=\"10880\" y=\"-408.8\" font-family=\"Helvetica,sans-Serif\" font-size=\"14.00\" fill=\"#000000\">value = [34, 5546, 0, 0, 20609, 0, 0, 0]</text>\n</g>\n<!-- 92&#45;&gt;93 -->\n<g id=\"edge93\" class=\"edge\">\n<title>92&#45;&gt;93</title>\n<path fill=\"none\" stroke=\"#000000\" d=\"M12983.6268,-532.3956C12604.4731,-513.7605 11528.7918,-460.8915 11142.3842,-441.8998\"/>\n<polygon fill=\"#000000\" stroke=\"#000000\" points=\"11142.4287,-438.3978 11132.2689,-441.4026 11142.085,-445.3894 11142.4287,-438.3978\"/>\n</g>\n<!-- 116 -->\n<g id=\"node117\" class=\"node\">\n<title>116</title>\n<path fill=\"#eff7fd\" stroke=\"#000000\" d=\"M13236,-469C13236,-469 13000,-469 13000,-469 12994,-469 12988,-463 12988,-457 12988,-457 12988,-413 12988,-413 12988,-407 12994,-401 13000,-401 13000,-401 13236,-401 13236,-401 13242,-401 13248,-407 13248,-413 13248,-413 13248,-457 13248,-457 13248,-463 13242,-469 13236,-469\"/>\n<text text-anchor=\"start\" x=\"13027.5\" y=\"-453.8\" font-family=\"Helvetica,sans-Serif\" font-size=\"14.00\" fill=\"#000000\">Fwd Packets/s ≤ 44949.496</text>\n<text text-anchor=\"start\" x=\"13080\" y=\"-438.8\" font-family=\"Helvetica,sans-Serif\" font-size=\"14.00\" fill=\"#000000\">gini = 0.499</text>\n<text text-anchor=\"start\" x=\"13062\" y=\"-423.8\" font-family=\"Helvetica,sans-Serif\" font-size=\"14.00\" fill=\"#000000\">samples = 28706</text>\n<text text-anchor=\"start\" x=\"12996\" y=\"-408.8\" font-family=\"Helvetica,sans-Serif\" font-size=\"14.00\" fill=\"#000000\">value = [0, 13754, 0, 0, 14952, 0, 0, 0]</text>\n</g>\n<!-- 92&#45;&gt;116 -->\n<g id=\"edge116\" class=\"edge\">\n<title>92&#45;&gt;116</title>\n<path fill=\"none\" stroke=\"#000000\" d=\"M13118,-504.9465C13118,-496.776 13118,-487.9318 13118,-479.3697\"/>\n<polygon fill=\"#000000\" stroke=\"#000000\" points=\"13121.5001,-479.13 13118,-469.13 13114.5001,-479.13 13121.5001,-479.13\"/>\n</g>\n<!-- 94 -->\n<g id=\"node95\" class=\"node\">\n<title>94</title>\n<path fill=\"#eaf5fc\" stroke=\"#000000\" d=\"M10385.5,-365C10385.5,-365 10158.5,-365 10158.5,-365 10152.5,-365 10146.5,-359 10146.5,-353 10146.5,-353 10146.5,-309 10146.5,-309 10146.5,-303 10152.5,-297 10158.5,-297 10158.5,-297 10385.5,-297 10385.5,-297 10391.5,-297 10397.5,-303 10397.5,-309 10397.5,-309 10397.5,-353 10397.5,-353 10397.5,-359 10391.5,-365 10385.5,-365\"/>\n<text text-anchor=\"start\" x=\"10206.5\" y=\"-349.8\" font-family=\"Helvetica,sans-Serif\" font-size=\"14.00\" fill=\"#000000\"> Flow IAT Min ≤ 44.5</text>\n<text text-anchor=\"start\" x=\"10234\" y=\"-334.8\" font-family=\"Helvetica,sans-Serif\" font-size=\"14.00\" fill=\"#000000\">gini = 0.502</text>\n<text text-anchor=\"start\" x=\"10216\" y=\"-319.8\" font-family=\"Helvetica,sans-Serif\" font-size=\"14.00\" fill=\"#000000\">samples = 10764</text>\n<text text-anchor=\"start\" x=\"10154.5\" y=\"-304.8\" font-family=\"Helvetica,sans-Serif\" font-size=\"14.00\" fill=\"#000000\">value = [34, 5062, 0, 0, 5668, 0, 0, 0]</text>\n</g>\n<!-- 93&#45;&gt;94 -->\n<g id=\"edge94\" class=\"edge\">\n<title>93&#45;&gt;94</title>\n<path fill=\"none\" stroke=\"#000000\" d=\"M10871.9115,-416.4668C10741.1745,-397.8413 10540.526,-369.2558 10407.7979,-350.3465\"/>\n<polygon fill=\"#000000\" stroke=\"#000000\" points=\"10407.9588,-346.8342 10397.5651,-348.8887 10406.9714,-353.7642 10407.9588,-346.8342\"/>\n</g>\n<!-- 109 -->\n<g id=\"node110\" class=\"node\">\n<title>109</title>\n<path fill=\"#3fa0e6\" stroke=\"#000000\" d=\"M11111.5,-365C11111.5,-365 10892.5,-365 10892.5,-365 10886.5,-365 10880.5,-359 10880.5,-353 10880.5,-353 10880.5,-309 10880.5,-309 10880.5,-303 10886.5,-297 10892.5,-297 10892.5,-297 11111.5,-297 11111.5,-297 11117.5,-297 11123.5,-303 11123.5,-309 11123.5,-309 11123.5,-353 11123.5,-353 11123.5,-359 11117.5,-365 11111.5,-365\"/>\n<text text-anchor=\"start\" x=\"10901\" y=\"-349.8\" font-family=\"Helvetica,sans-Serif\" font-size=\"14.00\" fill=\"#000000\"> Flow IAT Mean ≤ 6842883.333</text>\n<text text-anchor=\"start\" x=\"10964\" y=\"-334.8\" font-family=\"Helvetica,sans-Serif\" font-size=\"14.00\" fill=\"#000000\">gini = 0.061</text>\n<text text-anchor=\"start\" x=\"10946\" y=\"-319.8\" font-family=\"Helvetica,sans-Serif\" font-size=\"14.00\" fill=\"#000000\">samples = 15425</text>\n<text text-anchor=\"start\" x=\"10888.5\" y=\"-304.8\" font-family=\"Helvetica,sans-Serif\" font-size=\"14.00\" fill=\"#000000\">value = [0, 484, 0, 0, 14941, 0, 0, 0]</text>\n</g>\n<!-- 93&#45;&gt;109 -->\n<g id=\"edge109\" class=\"edge\">\n<title>93&#45;&gt;109</title>\n<path fill=\"none\" stroke=\"#000000\" d=\"M11002,-400.9465C11002,-392.776 11002,-383.9318 11002,-375.3697\"/>\n<polygon fill=\"#000000\" stroke=\"#000000\" points=\"11005.5001,-375.13 11002,-365.13 10998.5001,-375.13 11005.5001,-375.13\"/>\n</g>\n<!-- 95 -->\n<g id=\"node96\" class=\"node\">\n<title>95</title>\n<path fill=\"#cbe5f8\" stroke=\"#000000\" d=\"M9676.5,-261C9676.5,-261 9449.5,-261 9449.5,-261 9443.5,-261 9437.5,-255 9437.5,-249 9437.5,-249 9437.5,-205 9437.5,-205 9437.5,-199 9443.5,-193 9449.5,-193 9449.5,-193 9676.5,-193 9676.5,-193 9682.5,-193 9688.5,-199 9688.5,-205 9688.5,-205 9688.5,-249 9688.5,-249 9688.5,-255 9682.5,-261 9676.5,-261\"/>\n<text text-anchor=\"start\" x=\"9471\" y=\"-245.8\" font-family=\"Helvetica,sans-Serif\" font-size=\"14.00\" fill=\"#000000\">Flow Bytes/s ≤ 328000000.0</text>\n<text text-anchor=\"start\" x=\"9525\" y=\"-230.8\" font-family=\"Helvetica,sans-Serif\" font-size=\"14.00\" fill=\"#000000\">gini = 0.493</text>\n<text text-anchor=\"start\" x=\"9511\" y=\"-215.8\" font-family=\"Helvetica,sans-Serif\" font-size=\"14.00\" fill=\"#000000\">samples = 7001</text>\n<text text-anchor=\"start\" x=\"9445.5\" y=\"-200.8\" font-family=\"Helvetica,sans-Serif\" font-size=\"14.00\" fill=\"#000000\">value = [33, 2950, 0, 0, 4018, 0, 0, 0]</text>\n</g>\n<!-- 94&#45;&gt;95 -->\n<g id=\"edge95\" class=\"edge\">\n<title>94&#45;&gt;95</title>\n<path fill=\"none\" stroke=\"#000000\" d=\"M10146.4698,-312.5865C10020.6823,-294.1353 9827.6694,-265.8232 9698.475,-246.8722\"/>\n<polygon fill=\"#000000\" stroke=\"#000000\" points=\"9698.912,-243.3989 9688.5099,-245.4105 9697.8961,-250.3248 9698.912,-243.3989\"/>\n</g>\n<!-- 102 -->\n<g id=\"node103\" class=\"node\">\n<title>102</title>\n<path fill=\"#f3f9d4\" stroke=\"#000000\" d=\"M10381.5,-261C10381.5,-261 10162.5,-261 10162.5,-261 10156.5,-261 10150.5,-255 10150.5,-249 10150.5,-249 10150.5,-205 10150.5,-205 10150.5,-199 10156.5,-193 10162.5,-193 10162.5,-193 10381.5,-193 10381.5,-193 10387.5,-193 10393.5,-199 10393.5,-205 10393.5,-205 10393.5,-249 10393.5,-249 10393.5,-255 10387.5,-261 10381.5,-261\"/>\n<text text-anchor=\"start\" x=\"10206.5\" y=\"-245.8\" font-family=\"Helvetica,sans-Serif\" font-size=\"14.00\" fill=\"#000000\"> Flow IAT Min ≤ 57.5</text>\n<text text-anchor=\"start\" x=\"10234\" y=\"-230.8\" font-family=\"Helvetica,sans-Serif\" font-size=\"14.00\" fill=\"#000000\">gini = 0.493</text>\n<text text-anchor=\"start\" x=\"10220\" y=\"-215.8\" font-family=\"Helvetica,sans-Serif\" font-size=\"14.00\" fill=\"#000000\">samples = 3763</text>\n<text text-anchor=\"start\" x=\"10158.5\" y=\"-200.8\" font-family=\"Helvetica,sans-Serif\" font-size=\"14.00\" fill=\"#000000\">value = [1, 2112, 0, 0, 1650, 0, 0, 0]</text>\n</g>\n<!-- 94&#45;&gt;102 -->\n<g id=\"edge102\" class=\"edge\">\n<title>94&#45;&gt;102</title>\n<path fill=\"none\" stroke=\"#000000\" d=\"M10272,-296.9465C10272,-288.776 10272,-279.9318 10272,-271.3697\"/>\n<polygon fill=\"#000000\" stroke=\"#000000\" points=\"10275.5001,-271.13 10272,-261.13 10268.5001,-271.13 10275.5001,-271.13\"/>\n</g>\n<!-- 96 -->\n<g id=\"node97\" class=\"node\">\n<title>96</title>\n<path fill=\"#93c9f1\" stroke=\"#000000\" d=\"M9300.5,-157C9300.5,-157 9081.5,-157 9081.5,-157 9075.5,-157 9069.5,-151 9069.5,-145 9069.5,-145 9069.5,-101 9069.5,-101 9069.5,-95 9075.5,-89 9081.5,-89 9081.5,-89 9300.5,-89 9300.5,-89 9306.5,-89 9312.5,-95 9312.5,-101 9312.5,-101 9312.5,-145 9312.5,-145 9312.5,-151 9306.5,-157 9300.5,-157\"/>\n<text text-anchor=\"start\" x=\"9106.5\" y=\"-141.8\" font-family=\"Helvetica,sans-Serif\" font-size=\"14.00\" fill=\"#000000\"> Bwd Packets/s ≤ 3790.71</text>\n<text text-anchor=\"start\" x=\"9153\" y=\"-126.8\" font-family=\"Helvetica,sans-Serif\" font-size=\"14.00\" fill=\"#000000\">gini = 0.445</text>\n<text text-anchor=\"start\" x=\"9139\" y=\"-111.8\" font-family=\"Helvetica,sans-Serif\" font-size=\"14.00\" fill=\"#000000\">samples = 1783</text>\n<text text-anchor=\"start\" x=\"9077.5\" y=\"-96.8\" font-family=\"Helvetica,sans-Serif\" font-size=\"14.00\" fill=\"#000000\">value = [33, 534, 0, 0, 1216, 0, 0, 0]</text>\n</g>\n<!-- 95&#45;&gt;96 -->\n<g id=\"edge96\" class=\"edge\">\n<title>95&#45;&gt;96</title>\n<path fill=\"none\" stroke=\"#000000\" d=\"M9441.1933,-192.9465C9403.1993,-182.3245 9361.1321,-170.5638 9322.5044,-159.7647\"/>\n<polygon fill=\"#000000\" stroke=\"#000000\" points=\"9323.3356,-156.3629 9312.7625,-157.0411 9321.4508,-163.1044 9323.3356,-156.3629\"/>\n</g>\n<!-- 99 -->\n<g id=\"node100\" class=\"node\">\n<title>99</title>\n<path fill=\"#e4f1fb\" stroke=\"#000000\" d=\"M9672.5,-157C9672.5,-157 9453.5,-157 9453.5,-157 9447.5,-157 9441.5,-151 9441.5,-145 9441.5,-145 9441.5,-101 9441.5,-101 9441.5,-95 9447.5,-89 9453.5,-89 9453.5,-89 9672.5,-89 9672.5,-89 9678.5,-89 9684.5,-95 9684.5,-101 9684.5,-101 9684.5,-145 9684.5,-145 9684.5,-151 9678.5,-157 9672.5,-157\"/>\n<text text-anchor=\"start\" x=\"9471\" y=\"-141.8\" font-family=\"Helvetica,sans-Serif\" font-size=\"14.00\" fill=\"#000000\">Flow Bytes/s ≤ 620000000.0</text>\n<text text-anchor=\"start\" x=\"9525\" y=\"-126.8\" font-family=\"Helvetica,sans-Serif\" font-size=\"14.00\" fill=\"#000000\">gini = 0.497</text>\n<text text-anchor=\"start\" x=\"9511\" y=\"-111.8\" font-family=\"Helvetica,sans-Serif\" font-size=\"14.00\" fill=\"#000000\">samples = 5218</text>\n<text text-anchor=\"start\" x=\"9449.5\" y=\"-96.8\" font-family=\"Helvetica,sans-Serif\" font-size=\"14.00\" fill=\"#000000\">value = [0, 2416, 0, 0, 2802, 0, 0, 0]</text>\n</g>\n<!-- 95&#45;&gt;99 -->\n<g id=\"edge99\" class=\"edge\">\n<title>95&#45;&gt;99</title>\n<path fill=\"none\" stroke=\"#000000\" d=\"M9563,-192.9465C9563,-184.776 9563,-175.9318 9563,-167.3697\"/>\n<polygon fill=\"#000000\" stroke=\"#000000\" points=\"9566.5001,-167.13 9563,-157.13 9559.5001,-167.13 9566.5001,-167.13\"/>\n</g>\n<!-- 97 -->\n<g id=\"node98\" class=\"node\">\n<title>97</title>\n<path fill=\"#90c8f0\" stroke=\"#000000\" d=\"M9059.5,-53C9059.5,-53 8848.5,-53 8848.5,-53 8842.5,-53 8836.5,-47 8836.5,-41 8836.5,-41 8836.5,-12 8836.5,-12 8836.5,-6 8842.5,0 8848.5,0 8848.5,0 9059.5,0 9059.5,0 9065.5,0 9071.5,-6 9071.5,-12 9071.5,-12 9071.5,-41 9071.5,-41 9071.5,-47 9065.5,-53 9059.5,-53\"/>\n<text text-anchor=\"start\" x=\"8916\" y=\"-37.8\" font-family=\"Helvetica,sans-Serif\" font-size=\"14.00\" fill=\"#000000\">gini = 0.424</text>\n<text text-anchor=\"start\" x=\"8902\" y=\"-22.8\" font-family=\"Helvetica,sans-Serif\" font-size=\"14.00\" fill=\"#000000\">samples = 1750</text>\n<text text-anchor=\"start\" x=\"8844.5\" y=\"-7.8\" font-family=\"Helvetica,sans-Serif\" font-size=\"14.00\" fill=\"#000000\">value = [0, 534, 0, 0, 1216, 0, 0, 0]</text>\n</g>\n<!-- 96&#45;&gt;97 -->\n<g id=\"edge97\" class=\"edge\">\n<title>96&#45;&gt;97</title>\n<path fill=\"none\" stroke=\"#000000\" d=\"M9107.4427,-88.9777C9081.7993,-78.5364 9053.7584,-67.1189 9028.7439,-56.9337\"/>\n<polygon fill=\"#000000\" stroke=\"#000000\" points=\"9029.8979,-53.6246 9019.3163,-53.095 9027.2581,-60.1078 9029.8979,-53.6246\"/>\n</g>\n<!-- 98 -->\n<g id=\"node99\" class=\"node\">\n<title>98</title>\n<path fill=\"#e58139\" stroke=\"#000000\" d=\"M9280,-53C9280,-53 9102,-53 9102,-53 9096,-53 9090,-47 9090,-41 9090,-41 9090,-12 9090,-12 9090,-6 9096,0 9102,0 9102,0 9280,0 9280,0 9286,0 9292,-6 9292,-12 9292,-12 9292,-41 9292,-41 9292,-47 9286,-53 9280,-53\"/>\n<text text-anchor=\"start\" x=\"9161.5\" y=\"-37.8\" font-family=\"Helvetica,sans-Serif\" font-size=\"14.00\" fill=\"#000000\">gini = 0.0</text>\n<text text-anchor=\"start\" x=\"9147\" y=\"-22.8\" font-family=\"Helvetica,sans-Serif\" font-size=\"14.00\" fill=\"#000000\">samples = 33</text>\n<text text-anchor=\"start\" x=\"9098\" y=\"-7.8\" font-family=\"Helvetica,sans-Serif\" font-size=\"14.00\" fill=\"#000000\">value = [33, 0, 0, 0, 0, 0, 0, 0]</text>\n</g>\n<!-- 96&#45;&gt;98 -->\n<g id=\"edge98\" class=\"edge\">\n<title>96&#45;&gt;98</title>\n<path fill=\"none\" stroke=\"#000000\" d=\"M9191,-88.9777C9191,-80.7364 9191,-71.887 9191,-63.5153\"/>\n<polygon fill=\"#000000\" stroke=\"#000000\" points=\"9194.5001,-63.2484 9191,-53.2485 9187.5001,-63.2485 9194.5001,-63.2484\"/>\n</g>\n<!-- 100 -->\n<g id=\"node101\" class=\"node\">\n<title>100</title>\n<path fill=\"#e2f0fb\" stroke=\"#000000\" d=\"M9541.5,-53C9541.5,-53 9322.5,-53 9322.5,-53 9316.5,-53 9310.5,-47 9310.5,-41 9310.5,-41 9310.5,-12 9310.5,-12 9310.5,-6 9316.5,0 9322.5,0 9322.5,0 9541.5,0 9541.5,0 9547.5,0 9553.5,-6 9553.5,-12 9553.5,-12 9553.5,-41 9553.5,-41 9553.5,-47 9547.5,-53 9541.5,-53\"/>\n<text text-anchor=\"start\" x=\"9394\" y=\"-37.8\" font-family=\"Helvetica,sans-Serif\" font-size=\"14.00\" fill=\"#000000\">gini = 0.497</text>\n<text text-anchor=\"start\" x=\"9380\" y=\"-22.8\" font-family=\"Helvetica,sans-Serif\" font-size=\"14.00\" fill=\"#000000\">samples = 5173</text>\n<text text-anchor=\"start\" x=\"9318.5\" y=\"-7.8\" font-family=\"Helvetica,sans-Serif\" font-size=\"14.00\" fill=\"#000000\">value = [0, 2379, 0, 0, 2794, 0, 0, 0]</text>\n</g>\n<!-- 99&#45;&gt;100 -->\n<g id=\"edge100\" class=\"edge\">\n<title>99&#45;&gt;100</title>\n<path fill=\"none\" stroke=\"#000000\" d=\"M9516.8143,-88.9777C9503.7621,-79.3629 9489.5861,-68.9203 9476.6273,-59.3743\"/>\n<polygon fill=\"#000000\" stroke=\"#000000\" points=\"9478.4386,-56.3615 9468.3114,-53.2485 9474.2869,-61.9974 9478.4386,-56.3615\"/>\n</g>\n<!-- 101 -->\n<g id=\"node102\" class=\"node\">\n<title>101</title>\n<path fill=\"#d4eb64\" stroke=\"#000000\" d=\"M9762,-53C9762,-53 9584,-53 9584,-53 9578,-53 9572,-47 9572,-41 9572,-41 9572,-12 9572,-12 9572,-6 9578,0 9584,0 9584,0 9762,0 9762,0 9768,0 9774,-6 9774,-12 9774,-12 9774,-41 9774,-41 9774,-47 9768,-53 9762,-53\"/>\n<text text-anchor=\"start\" x=\"9635\" y=\"-37.8\" font-family=\"Helvetica,sans-Serif\" font-size=\"14.00\" fill=\"#000000\">gini = 0.292</text>\n<text text-anchor=\"start\" x=\"9629\" y=\"-22.8\" font-family=\"Helvetica,sans-Serif\" font-size=\"14.00\" fill=\"#000000\">samples = 45</text>\n<text text-anchor=\"start\" x=\"9580\" y=\"-7.8\" font-family=\"Helvetica,sans-Serif\" font-size=\"14.00\" fill=\"#000000\">value = [0, 37, 0, 0, 8, 0, 0, 0]</text>\n</g>\n<!-- 99&#45;&gt;101 -->\n<g id=\"edge101\" class=\"edge\">\n<title>99&#45;&gt;101</title>\n<path fill=\"none\" stroke=\"#000000\" d=\"M9601.7819,-88.9777C9612.533,-79.546 9624.1922,-69.3178 9634.9038,-59.9208\"/>\n<polygon fill=\"#000000\" stroke=\"#000000\" points=\"9637.3004,-62.4743 9642.5095,-53.2485 9632.684,-57.2122 9637.3004,-62.4743\"/>\n</g>\n<!-- 103 -->\n<g id=\"node104\" class=\"node\">\n<title>103</title>\n<path fill=\"#f1f8cb\" stroke=\"#000000\" d=\"M10256.5,-157C10256.5,-157 10037.5,-157 10037.5,-157 10031.5,-157 10025.5,-151 10025.5,-145 10025.5,-145 10025.5,-101 10025.5,-101 10025.5,-95 10031.5,-89 10037.5,-89 10037.5,-89 10256.5,-89 10256.5,-89 10262.5,-89 10268.5,-95 10268.5,-101 10268.5,-101 10268.5,-145 10268.5,-145 10268.5,-151 10262.5,-157 10256.5,-157\"/>\n<text text-anchor=\"start\" x=\"10059\" y=\"-141.8\" font-family=\"Helvetica,sans-Serif\" font-size=\"14.00\" fill=\"#000000\"> Fwd Header Length ≤ 22.0</text>\n<text text-anchor=\"start\" x=\"10109\" y=\"-126.8\" font-family=\"Helvetica,sans-Serif\" font-size=\"14.00\" fill=\"#000000\">gini = 0.489</text>\n<text text-anchor=\"start\" x=\"10095\" y=\"-111.8\" font-family=\"Helvetica,sans-Serif\" font-size=\"14.00\" fill=\"#000000\">samples = 3641</text>\n<text text-anchor=\"start\" x=\"10033.5\" y=\"-96.8\" font-family=\"Helvetica,sans-Serif\" font-size=\"14.00\" fill=\"#000000\">value = [1, 2096, 0, 0, 1544, 0, 0, 0]</text>\n</g>\n<!-- 102&#45;&gt;103 -->\n<g id=\"edge103\" class=\"edge\">\n<title>102&#45;&gt;103</title>\n<path fill=\"none\" stroke=\"#000000\" d=\"M10231.0703,-192.9465C10219.8472,-183.6088 10207.5663,-173.3911 10195.9427,-163.7203\"/>\n<polygon fill=\"#000000\" stroke=\"#000000\" points=\"10197.9474,-160.8353 10188.0216,-157.13 10193.4704,-166.2164 10197.9474,-160.8353\"/>\n</g>\n<!-- 106 -->\n<g id=\"node107\" class=\"node\">\n<title>106</title>\n<path fill=\"#57ace9\" stroke=\"#000000\" d=\"M10493,-157C10493,-157 10299,-157 10299,-157 10293,-157 10287,-151 10287,-145 10287,-145 10287,-101 10287,-101 10287,-95 10293,-89 10299,-89 10299,-89 10493,-89 10493,-89 10499,-89 10505,-95 10505,-101 10505,-101 10505,-145 10505,-145 10505,-151 10499,-157 10493,-157\"/>\n<text text-anchor=\"start\" x=\"10308\" y=\"-141.8\" font-family=\"Helvetica,sans-Serif\" font-size=\"14.00\" fill=\"#000000\">Flow Bytes/s ≤ 5761234.25</text>\n<text text-anchor=\"start\" x=\"10358\" y=\"-126.8\" font-family=\"Helvetica,sans-Serif\" font-size=\"14.00\" fill=\"#000000\">gini = 0.228</text>\n<text text-anchor=\"start\" x=\"10348\" y=\"-111.8\" font-family=\"Helvetica,sans-Serif\" font-size=\"14.00\" fill=\"#000000\">samples = 122</text>\n<text text-anchor=\"start\" x=\"10295\" y=\"-96.8\" font-family=\"Helvetica,sans-Serif\" font-size=\"14.00\" fill=\"#000000\">value = [0, 16, 0, 0, 106, 0, 0, 0]</text>\n</g>\n<!-- 102&#45;&gt;106 -->\n<g id=\"edge106\" class=\"edge\">\n<title>102&#45;&gt;106</title>\n<path fill=\"none\" stroke=\"#000000\" d=\"M10312.6022,-192.9465C10323.7356,-183.6088 10335.9183,-173.3911 10347.4489,-163.7203\"/>\n<polygon fill=\"#000000\" stroke=\"#000000\" points=\"10349.8938,-166.2378 10355.3065,-157.13 10345.3954,-160.8745 10349.8938,-166.2378\"/>\n</g>\n<!-- 104 -->\n<g id=\"node105\" class=\"node\">\n<title>104</title>\n<path fill=\"#eff8c7\" stroke=\"#000000\" d=\"M10023.5,-53C10023.5,-53 9804.5,-53 9804.5,-53 9798.5,-53 9792.5,-47 9792.5,-41 9792.5,-41 9792.5,-12 9792.5,-12 9792.5,-6 9798.5,0 9804.5,0 9804.5,0 10023.5,0 10023.5,0 10029.5,0 10035.5,-6 10035.5,-12 10035.5,-12 10035.5,-41 10035.5,-41 10035.5,-47 10029.5,-53 10023.5,-53\"/>\n<text text-anchor=\"start\" x=\"9876\" y=\"-37.8\" font-family=\"Helvetica,sans-Serif\" font-size=\"14.00\" fill=\"#000000\">gini = 0.486</text>\n<text text-anchor=\"start\" x=\"9862\" y=\"-22.8\" font-family=\"Helvetica,sans-Serif\" font-size=\"14.00\" fill=\"#000000\">samples = 3558</text>\n<text text-anchor=\"start\" x=\"9800.5\" y=\"-7.8\" font-family=\"Helvetica,sans-Serif\" font-size=\"14.00\" fill=\"#000000\">value = [0, 2073, 0, 0, 1485, 0, 0, 0]</text>\n</g>\n<!-- 103&#45;&gt;104 -->\n<g id=\"edge104\" class=\"edge\">\n<title>103&#45;&gt;104</title>\n<path fill=\"none\" stroke=\"#000000\" d=\"M10064.8529,-88.9777C10039.6424,-78.5364 10012.0747,-67.1189 9987.4824,-56.9337\"/>\n<polygon fill=\"#000000\" stroke=\"#000000\" points=\"9988.7921,-53.6879 9978.2139,-53.095 9986.1136,-60.1552 9988.7921,-53.6879\"/>\n</g>\n<!-- 105 -->\n<g id=\"node106\" class=\"node\">\n<title>105</title>\n<path fill=\"#88c4ef\" stroke=\"#000000\" d=\"M10252,-53C10252,-53 10066,-53 10066,-53 10060,-53 10054,-47 10054,-41 10054,-41 10054,-12 10054,-12 10054,-6 10060,0 10066,0 10066,0 10252,0 10252,0 10258,0 10264,-6 10264,-12 10264,-12 10264,-41 10264,-41 10264,-47 10258,-53 10252,-53\"/>\n<text text-anchor=\"start\" x=\"10121\" y=\"-37.8\" font-family=\"Helvetica,sans-Serif\" font-size=\"14.00\" fill=\"#000000\">gini = 0.418</text>\n<text text-anchor=\"start\" x=\"10115\" y=\"-22.8\" font-family=\"Helvetica,sans-Serif\" font-size=\"14.00\" fill=\"#000000\">samples = 83</text>\n<text text-anchor=\"start\" x=\"10062\" y=\"-7.8\" font-family=\"Helvetica,sans-Serif\" font-size=\"14.00\" fill=\"#000000\">value = [1, 23, 0, 0, 59, 0, 0, 0]</text>\n</g>\n<!-- 103&#45;&gt;105 -->\n<g id=\"edge105\" class=\"edge\">\n<title>103&#45;&gt;105</title>\n<path fill=\"none\" stroke=\"#000000\" d=\"M10151.2308,-88.9777C10152.267,-80.6449 10153.3805,-71.6903 10154.4317,-63.2364\"/>\n<polygon fill=\"#000000\" stroke=\"#000000\" points=\"10157.9129,-63.604 10155.6738,-53.2485 10150.9664,-62.7401 10157.9129,-63.604\"/>\n</g>\n<!-- 107 -->\n<g id=\"node108\" class=\"node\">\n<title>107</title>\n<path fill=\"#7bbeee\" stroke=\"#000000\" d=\"M10472,-53C10472,-53 10294,-53 10294,-53 10288,-53 10282,-47 10282,-41 10282,-41 10282,-12 10282,-12 10282,-6 10288,0 10294,0 10294,0 10472,0 10472,0 10478,0 10484,-6 10484,-12 10484,-12 10484,-41 10484,-41 10484,-47 10478,-53 10472,-53\"/>\n<text text-anchor=\"start\" x=\"10345\" y=\"-37.8\" font-family=\"Helvetica,sans-Serif\" font-size=\"14.00\" fill=\"#000000\">gini = 0.375</text>\n<text text-anchor=\"start\" x=\"10339\" y=\"-22.8\" font-family=\"Helvetica,sans-Serif\" font-size=\"14.00\" fill=\"#000000\">samples = 32</text>\n<text text-anchor=\"start\" x=\"10290\" y=\"-7.8\" font-family=\"Helvetica,sans-Serif\" font-size=\"14.00\" fill=\"#000000\">value = [0, 8, 0, 0, 24, 0, 0, 0]</text>\n</g>\n<!-- 106&#45;&gt;107 -->\n<g id=\"edge107\" class=\"edge\">\n<title>106&#45;&gt;107</title>\n<path fill=\"none\" stroke=\"#000000\" d=\"M10391.4167,-88.9777C10390.2941,-80.6449 10389.0878,-71.6903 10387.949,-63.2364\"/>\n<polygon fill=\"#000000\" stroke=\"#000000\" points=\"10391.4073,-62.6916 10386.6034,-53.2485 10384.4699,-63.6263 10391.4073,-62.6916\"/>\n</g>\n<!-- 108 -->\n<g id=\"node109\" class=\"node\">\n<title>108</title>\n<path fill=\"#4ca7e8\" stroke=\"#000000\" d=\"M10692,-53C10692,-53 10514,-53 10514,-53 10508,-53 10502,-47 10502,-41 10502,-41 10502,-12 10502,-12 10502,-6 10508,0 10514,0 10514,0 10692,0 10692,0 10698,0 10704,-6 10704,-12 10704,-12 10704,-41 10704,-41 10704,-47 10698,-53 10692,-53\"/>\n<text text-anchor=\"start\" x=\"10565\" y=\"-37.8\" font-family=\"Helvetica,sans-Serif\" font-size=\"14.00\" fill=\"#000000\">gini = 0.162</text>\n<text text-anchor=\"start\" x=\"10559\" y=\"-22.8\" font-family=\"Helvetica,sans-Serif\" font-size=\"14.00\" fill=\"#000000\">samples = 90</text>\n<text text-anchor=\"start\" x=\"10510\" y=\"-7.8\" font-family=\"Helvetica,sans-Serif\" font-size=\"14.00\" fill=\"#000000\">value = [0, 8, 0, 0, 82, 0, 0, 0]</text>\n</g>\n<!-- 106&#45;&gt;108 -->\n<g id=\"edge108\" class=\"edge\">\n<title>106&#45;&gt;108</title>\n<path fill=\"none\" stroke=\"#000000\" d=\"M10468.9805,-88.9777C10491.0818,-78.6744 10515.2222,-67.4205 10536.8498,-57.3381\"/>\n<polygon fill=\"#000000\" stroke=\"#000000\" points=\"10538.3669,-60.4926 10545.9516,-53.095 10535.4092,-54.1481 10538.3669,-60.4926\"/>\n</g>\n<!-- 110 -->\n<g id=\"node111\" class=\"node\">\n<title>110</title>\n<path fill=\"#3fa0e6\" stroke=\"#000000\" d=\"M10992.5,-261C10992.5,-261 10773.5,-261 10773.5,-261 10767.5,-261 10761.5,-255 10761.5,-249 10761.5,-249 10761.5,-205 10761.5,-205 10761.5,-199 10767.5,-193 10773.5,-193 10773.5,-193 10992.5,-193 10992.5,-193 10998.5,-193 11004.5,-199 11004.5,-205 11004.5,-205 11004.5,-249 11004.5,-249 11004.5,-255 10998.5,-261 10992.5,-261\"/>\n<text text-anchor=\"start\" x=\"10812\" y=\"-245.8\" font-family=\"Helvetica,sans-Serif\" font-size=\"14.00\" fill=\"#000000\"> Destination Port ≤ 3.0</text>\n<text text-anchor=\"start\" x=\"10849.5\" y=\"-230.8\" font-family=\"Helvetica,sans-Serif\" font-size=\"14.00\" fill=\"#000000\">gini = 0.06</text>\n<text text-anchor=\"start\" x=\"10827\" y=\"-215.8\" font-family=\"Helvetica,sans-Serif\" font-size=\"14.00\" fill=\"#000000\">samples = 15418</text>\n<text text-anchor=\"start\" x=\"10769.5\" y=\"-200.8\" font-family=\"Helvetica,sans-Serif\" font-size=\"14.00\" fill=\"#000000\">value = [0, 477, 0, 0, 14941, 0, 0, 0]</text>\n</g>\n<!-- 109&#45;&gt;110 -->\n<g id=\"edge110\" class=\"edge\">\n<title>109&#45;&gt;110</title>\n<path fill=\"none\" stroke=\"#000000\" d=\"M10963.0349,-296.9465C10952.3505,-287.6088 10940.6591,-277.3911 10929.5934,-267.7203\"/>\n<polygon fill=\"#000000\" stroke=\"#000000\" points=\"10931.8855,-265.0752 10922.0526,-261.13 10927.2791,-270.346 10931.8855,-265.0752\"/>\n</g>\n<!-- 115 -->\n<g id=\"node116\" class=\"node\">\n<title>115</title>\n<path fill=\"#c8e539\" stroke=\"#000000\" d=\"M11205,-253.5C11205,-253.5 11035,-253.5 11035,-253.5 11029,-253.5 11023,-247.5 11023,-241.5 11023,-241.5 11023,-212.5 11023,-212.5 11023,-206.5 11029,-200.5 11035,-200.5 11035,-200.5 11205,-200.5 11205,-200.5 11211,-200.5 11217,-206.5 11217,-212.5 11217,-212.5 11217,-241.5 11217,-241.5 11217,-247.5 11211,-253.5 11205,-253.5\"/>\n<text text-anchor=\"start\" x=\"11090.5\" y=\"-238.3\" font-family=\"Helvetica,sans-Serif\" font-size=\"14.00\" fill=\"#000000\">gini = 0.0</text>\n<text text-anchor=\"start\" x=\"11080.5\" y=\"-223.3\" font-family=\"Helvetica,sans-Serif\" font-size=\"14.00\" fill=\"#000000\">samples = 7</text>\n<text text-anchor=\"start\" x=\"11031\" y=\"-208.3\" font-family=\"Helvetica,sans-Serif\" font-size=\"14.00\" fill=\"#000000\">value = [0, 7, 0, 0, 0, 0, 0, 0]</text>\n</g>\n<!-- 109&#45;&gt;115 -->\n<g id=\"edge115\" class=\"edge\">\n<title>109&#45;&gt;115</title>\n<path fill=\"none\" stroke=\"#000000\" d=\"M11040.6376,-296.9465C11054.0101,-285.1606 11068.9734,-271.9726 11082.2719,-260.2519\"/>\n<polygon fill=\"#000000\" stroke=\"#000000\" points=\"11084.697,-262.7799 11089.8849,-253.5422 11080.0685,-257.5285 11084.697,-262.7799\"/>\n</g>\n<!-- 111 -->\n<g id=\"node112\" class=\"node\">\n<title>111</title>\n<path fill=\"#c8e539\" stroke=\"#000000\" d=\"M10850,-149.5C10850,-149.5 10680,-149.5 10680,-149.5 10674,-149.5 10668,-143.5 10668,-137.5 10668,-137.5 10668,-108.5 10668,-108.5 10668,-102.5 10674,-96.5 10680,-96.5 10680,-96.5 10850,-96.5 10850,-96.5 10856,-96.5 10862,-102.5 10862,-108.5 10862,-108.5 10862,-137.5 10862,-137.5 10862,-143.5 10856,-149.5 10850,-149.5\"/>\n<text text-anchor=\"start\" x=\"10735.5\" y=\"-134.3\" font-family=\"Helvetica,sans-Serif\" font-size=\"14.00\" fill=\"#000000\">gini = 0.0</text>\n<text text-anchor=\"start\" x=\"10725.5\" y=\"-119.3\" font-family=\"Helvetica,sans-Serif\" font-size=\"14.00\" fill=\"#000000\">samples = 1</text>\n<text text-anchor=\"start\" x=\"10676\" y=\"-104.3\" font-family=\"Helvetica,sans-Serif\" font-size=\"14.00\" fill=\"#000000\">value = [0, 1, 0, 0, 0, 0, 0, 0]</text>\n</g>\n<!-- 110&#45;&gt;111 -->\n<g id=\"edge111\" class=\"edge\">\n<title>110&#45;&gt;111</title>\n<path fill=\"none\" stroke=\"#000000\" d=\"M10844.3624,-192.9465C10830.9899,-181.1606 10816.0266,-167.9726 10802.7281,-156.2519\"/>\n<polygon fill=\"#000000\" stroke=\"#000000\" points=\"10804.9315,-153.5285 10795.1151,-149.5422 10800.303,-158.7799 10804.9315,-153.5285\"/>\n</g>\n<!-- 112 -->\n<g id=\"node113\" class=\"node\">\n<title>112</title>\n<path fill=\"#3fa0e6\" stroke=\"#000000\" d=\"M11111.5,-157C11111.5,-157 10892.5,-157 10892.5,-157 10886.5,-157 10880.5,-151 10880.5,-145 10880.5,-145 10880.5,-101 10880.5,-101 10880.5,-95 10886.5,-89 10892.5,-89 10892.5,-89 11111.5,-89 11111.5,-89 11117.5,-89 11123.5,-95 11123.5,-101 11123.5,-101 11123.5,-145 11123.5,-145 11123.5,-151 11117.5,-157 11111.5,-157\"/>\n<text text-anchor=\"start\" x=\"10918\" y=\"-141.8\" font-family=\"Helvetica,sans-Serif\" font-size=\"14.00\" fill=\"#000000\">Flow Bytes/s ≤ 9715478.0</text>\n<text text-anchor=\"start\" x=\"10968.5\" y=\"-126.8\" font-family=\"Helvetica,sans-Serif\" font-size=\"14.00\" fill=\"#000000\">gini = 0.06</text>\n<text text-anchor=\"start\" x=\"10946\" y=\"-111.8\" font-family=\"Helvetica,sans-Serif\" font-size=\"14.00\" fill=\"#000000\">samples = 15417</text>\n<text text-anchor=\"start\" x=\"10888.5\" y=\"-96.8\" font-family=\"Helvetica,sans-Serif\" font-size=\"14.00\" fill=\"#000000\">value = [0, 476, 0, 0, 14941, 0, 0, 0]</text>\n</g>\n<!-- 110&#45;&gt;112 -->\n<g id=\"edge112\" class=\"edge\">\n<title>110&#45;&gt;112</title>\n<path fill=\"none\" stroke=\"#000000\" d=\"M10921.9651,-192.9465C10932.6495,-183.6088 10944.3409,-173.3911 10955.4066,-163.7203\"/>\n<polygon fill=\"#000000\" stroke=\"#000000\" points=\"10957.7209,-166.346 10962.9474,-157.13 10953.1145,-161.0752 10957.7209,-166.346\"/>\n</g>\n<!-- 113 -->\n<g id=\"node114\" class=\"node\">\n<title>113</title>\n<path fill=\"#41a1e6\" stroke=\"#000000\" d=\"M10945.5,-53C10945.5,-53 10734.5,-53 10734.5,-53 10728.5,-53 10722.5,-47 10722.5,-41 10722.5,-41 10722.5,-12 10722.5,-12 10722.5,-6 10728.5,0 10734.5,0 10734.5,0 10945.5,0 10945.5,0 10951.5,0 10957.5,-6 10957.5,-12 10957.5,-12 10957.5,-41 10957.5,-41 10957.5,-47 10951.5,-53 10945.5,-53\"/>\n<text text-anchor=\"start\" x=\"10802\" y=\"-37.8\" font-family=\"Helvetica,sans-Serif\" font-size=\"14.00\" fill=\"#000000\">gini = 0.076</text>\n<text text-anchor=\"start\" x=\"10788\" y=\"-22.8\" font-family=\"Helvetica,sans-Serif\" font-size=\"14.00\" fill=\"#000000\">samples = 3305</text>\n<text text-anchor=\"start\" x=\"10730.5\" y=\"-7.8\" font-family=\"Helvetica,sans-Serif\" font-size=\"14.00\" fill=\"#000000\">value = [0, 131, 0, 0, 3174, 0, 0, 0]</text>\n</g>\n<!-- 112&#45;&gt;113 -->\n<g id=\"edge113\" class=\"edge\">\n<title>112&#45;&gt;113</title>\n<path fill=\"none\" stroke=\"#000000\" d=\"M10944.8849,-88.9777C10928.2059,-79.0424 10910.0431,-68.2232 10893.5906,-58.4228\"/>\n<polygon fill=\"#000000\" stroke=\"#000000\" points=\"10895.029,-55.2058 10884.6466,-53.095 10891.4467,-61.2197 10895.029,-55.2058\"/>\n</g>\n<!-- 114 -->\n<g id=\"node115\" class=\"node\">\n<title>114</title>\n<path fill=\"#3fa0e6\" stroke=\"#000000\" d=\"M11206.5,-53C11206.5,-53 10987.5,-53 10987.5,-53 10981.5,-53 10975.5,-47 10975.5,-41 10975.5,-41 10975.5,-12 10975.5,-12 10975.5,-6 10981.5,0 10987.5,0 10987.5,0 11206.5,0 11206.5,0 11212.5,0 11218.5,-6 11218.5,-12 11218.5,-12 11218.5,-41 11218.5,-41 11218.5,-47 11212.5,-53 11206.5,-53\"/>\n<text text-anchor=\"start\" x=\"11059\" y=\"-37.8\" font-family=\"Helvetica,sans-Serif\" font-size=\"14.00\" fill=\"#000000\">gini = 0.055</text>\n<text text-anchor=\"start\" x=\"11041\" y=\"-22.8\" font-family=\"Helvetica,sans-Serif\" font-size=\"14.00\" fill=\"#000000\">samples = 12112</text>\n<text text-anchor=\"start\" x=\"10983.5\" y=\"-7.8\" font-family=\"Helvetica,sans-Serif\" font-size=\"14.00\" fill=\"#000000\">value = [0, 345, 0, 0, 11767, 0, 0, 0]</text>\n</g>\n<!-- 112&#45;&gt;114 -->\n<g id=\"edge114\" class=\"edge\">\n<title>112&#45;&gt;114</title>\n<path fill=\"none\" stroke=\"#000000\" d=\"M11035.4934,-88.9777C11044.5982,-79.7292 11054.457,-69.7147 11063.5589,-60.4691\"/>\n<polygon fill=\"#000000\" stroke=\"#000000\" points=\"11066.146,-62.8302 11070.6673,-53.2485 11061.1576,-57.9193 11066.146,-62.8302\"/>\n</g>\n<!-- 117 -->\n<g id=\"node118\" class=\"node\">\n<title>117</title>\n<path fill=\"#f6fbe0\" stroke=\"#000000\" d=\"M12784.5,-365C12784.5,-365 12565.5,-365 12565.5,-365 12559.5,-365 12553.5,-359 12553.5,-353 12553.5,-353 12553.5,-309 12553.5,-309 12553.5,-303 12559.5,-297 12565.5,-297 12565.5,-297 12784.5,-297 12784.5,-297 12790.5,-297 12796.5,-303 12796.5,-309 12796.5,-309 12796.5,-353 12796.5,-353 12796.5,-359 12790.5,-365 12784.5,-365\"/>\n<text text-anchor=\"start\" x=\"12609.5\" y=\"-349.8\" font-family=\"Helvetica,sans-Serif\" font-size=\"14.00\" fill=\"#000000\"> Flow IAT Min ≤ 52.5</text>\n<text text-anchor=\"start\" x=\"12637\" y=\"-334.8\" font-family=\"Helvetica,sans-Serif\" font-size=\"14.00\" fill=\"#000000\">gini = 0.496</text>\n<text text-anchor=\"start\" x=\"12619\" y=\"-319.8\" font-family=\"Helvetica,sans-Serif\" font-size=\"14.00\" fill=\"#000000\">samples = 14057</text>\n<text text-anchor=\"start\" x=\"12561.5\" y=\"-304.8\" font-family=\"Helvetica,sans-Serif\" font-size=\"14.00\" fill=\"#000000\">value = [0, 7631, 0, 0, 6426, 0, 0, 0]</text>\n</g>\n<!-- 116&#45;&gt;117 -->\n<g id=\"edge117\" class=\"edge\">\n<title>116&#45;&gt;117</title>\n<path fill=\"none\" stroke=\"#000000\" d=\"M12987.7801,-404.4292C12930.7115,-391.0316 12863.8448,-375.3338 12806.6177,-361.899\"/>\n<polygon fill=\"#000000\" stroke=\"#000000\" points=\"12807.3215,-358.4691 12796.7863,-359.5909 12805.7216,-365.2838 12807.3215,-358.4691\"/>\n</g>\n<!-- 132 -->\n<g id=\"node133\" class=\"node\">\n<title>132</title>\n<path fill=\"#c7e3f8\" stroke=\"#000000\" d=\"M13687.5,-365C13687.5,-365 13468.5,-365 13468.5,-365 13462.5,-365 13456.5,-359 13456.5,-353 13456.5,-353 13456.5,-309 13456.5,-309 13456.5,-303 13462.5,-297 13468.5,-297 13468.5,-297 13687.5,-297 13687.5,-297 13693.5,-297 13699.5,-303 13699.5,-309 13699.5,-309 13699.5,-353 13699.5,-353 13699.5,-359 13693.5,-365 13687.5,-365\"/>\n<text text-anchor=\"start\" x=\"13486\" y=\"-349.8\" font-family=\"Helvetica,sans-Serif\" font-size=\"14.00\" fill=\"#000000\">Flow Bytes/s ≤ 415500000.0</text>\n<text text-anchor=\"start\" x=\"13540\" y=\"-334.8\" font-family=\"Helvetica,sans-Serif\" font-size=\"14.00\" fill=\"#000000\">gini = 0.487</text>\n<text text-anchor=\"start\" x=\"13522\" y=\"-319.8\" font-family=\"Helvetica,sans-Serif\" font-size=\"14.00\" fill=\"#000000\">samples = 14649</text>\n<text text-anchor=\"start\" x=\"13464.5\" y=\"-304.8\" font-family=\"Helvetica,sans-Serif\" font-size=\"14.00\" fill=\"#000000\">value = [0, 6123, 0, 0, 8526, 0, 0, 0]</text>\n</g>\n<!-- 116&#45;&gt;132 -->\n<g id=\"edge132\" class=\"edge\">\n<title>116&#45;&gt;132</title>\n<path fill=\"none\" stroke=\"#000000\" d=\"M13248.28,-405.5454C13310.3109,-391.521 13384.3426,-374.7834 13446.5264,-360.7245\"/>\n<polygon fill=\"#000000\" stroke=\"#000000\" points=\"13447.4191,-364.1111 13456.4011,-358.4919 13445.8754,-357.2834 13447.4191,-364.1111\"/>\n</g>\n<!-- 118 -->\n<g id=\"node119\" class=\"node\">\n<title>118</title>\n<path fill=\"#f5fad9\" stroke=\"#000000\" d=\"M12089.5,-261C12089.5,-261 11870.5,-261 11870.5,-261 11864.5,-261 11858.5,-255 11858.5,-249 11858.5,-249 11858.5,-205 11858.5,-205 11858.5,-199 11864.5,-193 11870.5,-193 11870.5,-193 12089.5,-193 12089.5,-193 12095.5,-193 12101.5,-199 12101.5,-205 12101.5,-205 12101.5,-249 12101.5,-249 12101.5,-255 12095.5,-261 12089.5,-261\"/>\n<text text-anchor=\"start\" x=\"11889.5\" y=\"-245.8\" font-family=\"Helvetica,sans-Serif\" font-size=\"14.00\" fill=\"#000000\">Fwd Packets/s ≤ 40408.164</text>\n<text text-anchor=\"start\" x=\"11942\" y=\"-230.8\" font-family=\"Helvetica,sans-Serif\" font-size=\"14.00\" fill=\"#000000\">gini = 0.494</text>\n<text text-anchor=\"start\" x=\"11924\" y=\"-215.8\" font-family=\"Helvetica,sans-Serif\" font-size=\"14.00\" fill=\"#000000\">samples = 13713</text>\n<text text-anchor=\"start\" x=\"11866.5\" y=\"-200.8\" font-family=\"Helvetica,sans-Serif\" font-size=\"14.00\" fill=\"#000000\">value = [0, 7579, 0, 0, 6134, 0, 0, 0]</text>\n</g>\n<!-- 117&#45;&gt;118 -->\n<g id=\"edge118\" class=\"edge\">\n<title>117&#45;&gt;118</title>\n<path fill=\"none\" stroke=\"#000000\" d=\"M12553.1449,-312.7656C12429.5786,-294.2751 12238.9499,-265.7493 12111.8951,-246.7368\"/>\n<polygon fill=\"#000000\" stroke=\"#000000\" points=\"12112.123,-243.232 12101.7151,-245.2135 12111.087,-250.155 12112.123,-243.232\"/>\n</g>\n<!-- 125 -->\n<g id=\"node126\" class=\"node\">\n<title>125</title>\n<path fill=\"#5caeea\" stroke=\"#000000\" d=\"M12772,-261C12772,-261 12578,-261 12578,-261 12572,-261 12566,-255 12566,-249 12566,-249 12566,-205 12566,-205 12566,-199 12572,-193 12578,-193 12578,-193 12772,-193 12772,-193 12778,-193 12784,-199 12784,-205 12784,-205 12784,-249 12784,-249 12784,-255 12778,-261 12772,-261\"/>\n<text text-anchor=\"start\" x=\"12608.5\" y=\"-245.8\" font-family=\"Helvetica,sans-Serif\" font-size=\"14.00\" fill=\"#000000\"> Source Port ≤ 888.5</text>\n<text text-anchor=\"start\" x=\"12637\" y=\"-230.8\" font-family=\"Helvetica,sans-Serif\" font-size=\"14.00\" fill=\"#000000\">gini = 0.257</text>\n<text text-anchor=\"start\" x=\"12627\" y=\"-215.8\" font-family=\"Helvetica,sans-Serif\" font-size=\"14.00\" fill=\"#000000\">samples = 344</text>\n<text text-anchor=\"start\" x=\"12574\" y=\"-200.8\" font-family=\"Helvetica,sans-Serif\" font-size=\"14.00\" fill=\"#000000\">value = [0, 52, 0, 0, 292, 0, 0, 0]</text>\n</g>\n<!-- 117&#45;&gt;125 -->\n<g id=\"edge125\" class=\"edge\">\n<title>117&#45;&gt;125</title>\n<path fill=\"none\" stroke=\"#000000\" d=\"M12675,-296.9465C12675,-288.776 12675,-279.9318 12675,-271.3697\"/>\n<polygon fill=\"#000000\" stroke=\"#000000\" points=\"12678.5001,-271.13 12675,-261.13 12671.5001,-271.13 12678.5001,-271.13\"/>\n</g>\n<!-- 119 -->\n<g id=\"node120\" class=\"node\">\n<title>119</title>\n<path fill=\"#fffffe\" stroke=\"#000000\" d=\"M11712.5,-157C11712.5,-157 11493.5,-157 11493.5,-157 11487.5,-157 11481.5,-151 11481.5,-145 11481.5,-145 11481.5,-101 11481.5,-101 11481.5,-95 11487.5,-89 11493.5,-89 11493.5,-89 11712.5,-89 11712.5,-89 11718.5,-89 11724.5,-95 11724.5,-101 11724.5,-101 11724.5,-145 11724.5,-145 11724.5,-151 11718.5,-157 11712.5,-157\"/>\n<text text-anchor=\"start\" x=\"11496.5\" y=\"-141.8\" font-family=\"Helvetica,sans-Serif\" font-size=\"14.00\" fill=\"#000000\"> Fwd Packet Length Max ≤ 256.0</text>\n<text text-anchor=\"start\" x=\"11573.5\" y=\"-126.8\" font-family=\"Helvetica,sans-Serif\" font-size=\"14.00\" fill=\"#000000\">gini = 0.5</text>\n<text text-anchor=\"start\" x=\"11551\" y=\"-111.8\" font-family=\"Helvetica,sans-Serif\" font-size=\"14.00\" fill=\"#000000\">samples = 4789</text>\n<text text-anchor=\"start\" x=\"11489.5\" y=\"-96.8\" font-family=\"Helvetica,sans-Serif\" font-size=\"14.00\" fill=\"#000000\">value = [0, 2400, 0, 0, 2389, 0, 0, 0]</text>\n</g>\n<!-- 118&#45;&gt;119 -->\n<g id=\"edge119\" class=\"edge\">\n<title>118&#45;&gt;119</title>\n<path fill=\"none\" stroke=\"#000000\" d=\"M11858.3797,-193.4496C11818.8186,-182.5362 11774.7419,-170.3771 11734.493,-159.2739\"/>\n<polygon fill=\"#000000\" stroke=\"#000000\" points=\"11735.1905,-155.8357 11724.6198,-156.5503 11733.329,-162.5836 11735.1905,-155.8357\"/>\n</g>\n<!-- 122 -->\n<g id=\"node123\" class=\"node\">\n<title>122</title>\n<path fill=\"#f0f8c8\" stroke=\"#000000\" d=\"M12089.5,-157C12089.5,-157 11870.5,-157 11870.5,-157 11864.5,-157 11858.5,-151 11858.5,-145 11858.5,-145 11858.5,-101 11858.5,-101 11858.5,-95 11864.5,-89 11870.5,-89 11870.5,-89 12089.5,-89 12089.5,-89 12095.5,-89 12101.5,-95 12101.5,-101 12101.5,-101 12101.5,-145 12101.5,-145 12101.5,-151 12095.5,-157 12089.5,-157\"/>\n<text text-anchor=\"start\" x=\"11892\" y=\"-141.8\" font-family=\"Helvetica,sans-Serif\" font-size=\"14.00\" fill=\"#000000\"> Fwd Header Length ≤ 25.0</text>\n<text text-anchor=\"start\" x=\"11942\" y=\"-126.8\" font-family=\"Helvetica,sans-Serif\" font-size=\"14.00\" fill=\"#000000\">gini = 0.487</text>\n<text text-anchor=\"start\" x=\"11928\" y=\"-111.8\" font-family=\"Helvetica,sans-Serif\" font-size=\"14.00\" fill=\"#000000\">samples = 8924</text>\n<text text-anchor=\"start\" x=\"11866.5\" y=\"-96.8\" font-family=\"Helvetica,sans-Serif\" font-size=\"14.00\" fill=\"#000000\">value = [0, 5179, 0, 0, 3745, 0, 0, 0]</text>\n</g>\n<!-- 118&#45;&gt;122 -->\n<g id=\"edge122\" class=\"edge\">\n<title>118&#45;&gt;122</title>\n<path fill=\"none\" stroke=\"#000000\" d=\"M11980,-192.9465C11980,-184.776 11980,-175.9318 11980,-167.3697\"/>\n<polygon fill=\"#000000\" stroke=\"#000000\" points=\"11983.5001,-167.13 11980,-157.13 11976.5001,-167.13 11983.5001,-167.13\"/>\n</g>\n<!-- 120 -->\n<g id=\"node121\" class=\"node\">\n<title>120</title>\n<path fill=\"#feffff\" stroke=\"#000000\" d=\"M11467.5,-53C11467.5,-53 11248.5,-53 11248.5,-53 11242.5,-53 11236.5,-47 11236.5,-41 11236.5,-41 11236.5,-12 11236.5,-12 11236.5,-6 11242.5,0 11248.5,0 11248.5,0 11467.5,0 11467.5,0 11473.5,0 11479.5,-6 11479.5,-12 11479.5,-12 11479.5,-41 11479.5,-41 11479.5,-47 11473.5,-53 11467.5,-53\"/>\n<text text-anchor=\"start\" x=\"11328.5\" y=\"-37.8\" font-family=\"Helvetica,sans-Serif\" font-size=\"14.00\" fill=\"#000000\">gini = 0.5</text>\n<text text-anchor=\"start\" x=\"11306\" y=\"-22.8\" font-family=\"Helvetica,sans-Serif\" font-size=\"14.00\" fill=\"#000000\">samples = 4719</text>\n<text text-anchor=\"start\" x=\"11244.5\" y=\"-7.8\" font-family=\"Helvetica,sans-Serif\" font-size=\"14.00\" fill=\"#000000\">value = [0, 2355, 0, 0, 2364, 0, 0, 0]</text>\n</g>\n<!-- 119&#45;&gt;120 -->\n<g id=\"edge120\" class=\"edge\">\n<title>119&#45;&gt;120</title>\n<path fill=\"none\" stroke=\"#000000\" d=\"M11516.6222,-88.9777C11489.9964,-78.4904 11460.8704,-67.0183 11434.9253,-56.7992\"/>\n<polygon fill=\"#000000\" stroke=\"#000000\" points=\"11436.108,-53.5033 11425.5211,-53.095 11433.5427,-60.0163 11436.108,-53.5033\"/>\n</g>\n<!-- 121 -->\n<g id=\"node122\" class=\"node\">\n<title>121</title>\n<path fill=\"#e7f3a7\" stroke=\"#000000\" d=\"M11696,-53C11696,-53 11510,-53 11510,-53 11504,-53 11498,-47 11498,-41 11498,-41 11498,-12 11498,-12 11498,-6 11504,0 11510,0 11510,0 11696,0 11696,0 11702,0 11708,-6 11708,-12 11708,-12 11708,-41 11708,-41 11708,-47 11702,-53 11696,-53\"/>\n<text text-anchor=\"start\" x=\"11565\" y=\"-37.8\" font-family=\"Helvetica,sans-Serif\" font-size=\"14.00\" fill=\"#000000\">gini = 0.459</text>\n<text text-anchor=\"start\" x=\"11559\" y=\"-22.8\" font-family=\"Helvetica,sans-Serif\" font-size=\"14.00\" fill=\"#000000\">samples = 70</text>\n<text text-anchor=\"start\" x=\"11506\" y=\"-7.8\" font-family=\"Helvetica,sans-Serif\" font-size=\"14.00\" fill=\"#000000\">value = [0, 45, 0, 0, 25, 0, 0, 0]</text>\n</g>\n<!-- 119&#45;&gt;121 -->\n<g id=\"edge121\" class=\"edge\">\n<title>119&#45;&gt;121</title>\n<path fill=\"none\" stroke=\"#000000\" d=\"M11603,-88.9777C11603,-80.7364 11603,-71.887 11603,-63.5153\"/>\n<polygon fill=\"#000000\" stroke=\"#000000\" points=\"11606.5001,-63.2484 11603,-53.2485 11599.5001,-63.2485 11606.5001,-63.2484\"/>\n</g>\n<!-- 123 -->\n<g id=\"node124\" class=\"node\">\n<title>123</title>\n<path fill=\"#f0f8ca\" stroke=\"#000000\" d=\"M11957.5,-53C11957.5,-53 11738.5,-53 11738.5,-53 11732.5,-53 11726.5,-47 11726.5,-41 11726.5,-41 11726.5,-12 11726.5,-12 11726.5,-6 11732.5,0 11738.5,0 11738.5,0 11957.5,0 11957.5,0 11963.5,0 11969.5,-6 11969.5,-12 11969.5,-12 11969.5,-41 11969.5,-41 11969.5,-47 11963.5,-53 11957.5,-53\"/>\n<text text-anchor=\"start\" x=\"11810\" y=\"-37.8\" font-family=\"Helvetica,sans-Serif\" font-size=\"14.00\" fill=\"#000000\">gini = 0.488</text>\n<text text-anchor=\"start\" x=\"11796\" y=\"-22.8\" font-family=\"Helvetica,sans-Serif\" font-size=\"14.00\" fill=\"#000000\">samples = 8725</text>\n<text text-anchor=\"start\" x=\"11734.5\" y=\"-7.8\" font-family=\"Helvetica,sans-Serif\" font-size=\"14.00\" fill=\"#000000\">value = [0, 5035, 0, 0, 3690, 0, 0, 0]</text>\n</g>\n<!-- 122&#45;&gt;123 -->\n<g id=\"edge123\" class=\"edge\">\n<title>122&#45;&gt;123</title>\n<path fill=\"none\" stroke=\"#000000\" d=\"M11933.4617,-88.9777C11920.3099,-79.3629 11906.0257,-68.9203 11892.968,-59.3743\"/>\n<polygon fill=\"#000000\" stroke=\"#000000\" points=\"11894.727,-56.3247 11884.5886,-53.2485 11890.5958,-61.9757 11894.727,-56.3247\"/>\n</g>\n<!-- 124 -->\n<g id=\"node125\" class=\"node\">\n<title>124</title>\n<path fill=\"#ddef85\" stroke=\"#000000\" d=\"M12194,-53C12194,-53 12000,-53 12000,-53 11994,-53 11988,-47 11988,-41 11988,-41 11988,-12 11988,-12 11988,-6 11994,0 12000,0 12000,0 12194,0 12194,0 12200,0 12206,-6 12206,-12 12206,-12 12206,-41 12206,-41 12206,-47 12200,-53 12194,-53\"/>\n<text text-anchor=\"start\" x=\"12067.5\" y=\"-37.8\" font-family=\"Helvetica,sans-Serif\" font-size=\"14.00\" fill=\"#000000\">gini = 0.4</text>\n<text text-anchor=\"start\" x=\"12049\" y=\"-22.8\" font-family=\"Helvetica,sans-Serif\" font-size=\"14.00\" fill=\"#000000\">samples = 199</text>\n<text text-anchor=\"start\" x=\"11996\" y=\"-7.8\" font-family=\"Helvetica,sans-Serif\" font-size=\"14.00\" fill=\"#000000\">value = [0, 144, 0, 0, 55, 0, 0, 0]</text>\n</g>\n<!-- 122&#45;&gt;124 -->\n<g id=\"edge124\" class=\"edge\">\n<title>122&#45;&gt;124</title>\n<path fill=\"none\" stroke=\"#000000\" d=\"M12021.2498,-88.9777C12032.7961,-79.4545 12045.3271,-69.1191 12056.811,-59.6473\"/>\n<polygon fill=\"#000000\" stroke=\"#000000\" points=\"12059.0816,-62.3115 12064.5692,-53.2485 12054.6276,-56.9113 12059.0816,-62.3115\"/>\n</g>\n<!-- 126 -->\n<g id=\"node127\" class=\"node\">\n<title>126</title>\n<path fill=\"#6bb6ec\" stroke=\"#000000\" d=\"M12656,-157C12656,-157 12462,-157 12462,-157 12456,-157 12450,-151 12450,-145 12450,-145 12450,-101 12450,-101 12450,-95 12456,-89 12462,-89 12462,-89 12656,-89 12656,-89 12662,-89 12668,-95 12668,-101 12668,-101 12668,-145 12668,-145 12668,-151 12662,-157 12656,-157\"/>\n<text text-anchor=\"start\" x=\"12490.5\" y=\"-141.8\" font-family=\"Helvetica,sans-Serif\" font-size=\"14.00\" fill=\"#000000\"> Flow Duration ≤ 79.5</text>\n<text text-anchor=\"start\" x=\"12521\" y=\"-126.8\" font-family=\"Helvetica,sans-Serif\" font-size=\"14.00\" fill=\"#000000\">gini = 0.322</text>\n<text text-anchor=\"start\" x=\"12511\" y=\"-111.8\" font-family=\"Helvetica,sans-Serif\" font-size=\"14.00\" fill=\"#000000\">samples = 213</text>\n<text text-anchor=\"start\" x=\"12458\" y=\"-96.8\" font-family=\"Helvetica,sans-Serif\" font-size=\"14.00\" fill=\"#000000\">value = [0, 43, 0, 0, 170, 0, 0, 0]</text>\n</g>\n<!-- 125&#45;&gt;126 -->\n<g id=\"edge126\" class=\"edge\">\n<title>125&#45;&gt;126</title>\n<path fill=\"none\" stroke=\"#000000\" d=\"M12637.0173,-192.9465C12626.7023,-183.6986 12615.4246,-173.5876 12604.7301,-163.9994\"/>\n<polygon fill=\"#000000\" stroke=\"#000000\" points=\"12606.8502,-161.1995 12597.0681,-157.13 12602.1774,-166.4115 12606.8502,-161.1995\"/>\n</g>\n<!-- 129 -->\n<g id=\"node130\" class=\"node\">\n<title>129</title>\n<path fill=\"#48a4e7\" stroke=\"#000000\" d=\"M12884,-157C12884,-157 12698,-157 12698,-157 12692,-157 12686,-151 12686,-145 12686,-145 12686,-101 12686,-101 12686,-95 12692,-89 12698,-89 12698,-89 12884,-89 12884,-89 12890,-89 12896,-95 12896,-101 12896,-101 12896,-145 12896,-145 12896,-151 12890,-157 12884,-157\"/>\n<text text-anchor=\"start\" x=\"12707\" y=\"-141.8\" font-family=\"Helvetica,sans-Serif\" font-size=\"14.00\" fill=\"#000000\">Flow Bytes/s ≤ 4814313.0</text>\n<text text-anchor=\"start\" x=\"12753\" y=\"-126.8\" font-family=\"Helvetica,sans-Serif\" font-size=\"14.00\" fill=\"#000000\">gini = 0.128</text>\n<text text-anchor=\"start\" x=\"12743\" y=\"-111.8\" font-family=\"Helvetica,sans-Serif\" font-size=\"14.00\" fill=\"#000000\">samples = 131</text>\n<text text-anchor=\"start\" x=\"12694\" y=\"-96.8\" font-family=\"Helvetica,sans-Serif\" font-size=\"14.00\" fill=\"#000000\">value = [0, 9, 0, 0, 122, 0, 0, 0]</text>\n</g>\n<!-- 125&#45;&gt;129 -->\n<g id=\"edge129\" class=\"edge\">\n<title>125&#45;&gt;129</title>\n<path fill=\"none\" stroke=\"#000000\" d=\"M12712.9827,-192.9465C12723.2977,-183.6986 12734.5754,-173.5876 12745.2699,-163.9994\"/>\n<polygon fill=\"#000000\" stroke=\"#000000\" points=\"12747.8226,-166.4115 12752.9319,-157.13 12743.1498,-161.1995 12747.8226,-166.4115\"/>\n</g>\n<!-- 127 -->\n<g id=\"node128\" class=\"node\">\n<title>127</title>\n<path fill=\"#60b0ea\" stroke=\"#000000\" d=\"M12430,-53C12430,-53 12236,-53 12236,-53 12230,-53 12224,-47 12224,-41 12224,-41 12224,-12 12224,-12 12224,-6 12230,0 12236,0 12236,0 12430,0 12430,0 12436,0 12442,-6 12442,-12 12442,-12 12442,-41 12442,-41 12442,-47 12436,-53 12430,-53\"/>\n<text text-anchor=\"start\" x=\"12295\" y=\"-37.8\" font-family=\"Helvetica,sans-Serif\" font-size=\"14.00\" fill=\"#000000\">gini = 0.274</text>\n<text text-anchor=\"start\" x=\"12285\" y=\"-22.8\" font-family=\"Helvetica,sans-Serif\" font-size=\"14.00\" fill=\"#000000\">samples = 177</text>\n<text text-anchor=\"start\" x=\"12232\" y=\"-7.8\" font-family=\"Helvetica,sans-Serif\" font-size=\"14.00\" fill=\"#000000\">value = [0, 29, 0, 0, 148, 0, 0, 0]</text>\n</g>\n<!-- 126&#45;&gt;127 -->\n<g id=\"edge127\" class=\"edge\">\n<title>126&#45;&gt;127</title>\n<path fill=\"none\" stroke=\"#000000\" d=\"M12479.3209,-88.9777C12454.9754,-78.5824 12428.3638,-67.2195 12404.5902,-57.0684\"/>\n<polygon fill=\"#000000\" stroke=\"#000000\" points=\"12405.8559,-53.8031 12395.2847,-53.095 12403.107,-60.2408 12405.8559,-53.8031\"/>\n</g>\n<!-- 128 -->\n<g id=\"node129\" class=\"node\">\n<title>128</title>\n<path fill=\"#b7dbf6\" stroke=\"#000000\" d=\"M12658,-53C12658,-53 12472,-53 12472,-53 12466,-53 12460,-47 12460,-41 12460,-41 12460,-12 12460,-12 12460,-6 12466,0 12472,0 12472,0 12658,0 12658,0 12664,0 12670,-6 12670,-12 12670,-12 12670,-41 12670,-41 12670,-47 12664,-53 12658,-53\"/>\n<text text-anchor=\"start\" x=\"12527\" y=\"-37.8\" font-family=\"Helvetica,sans-Serif\" font-size=\"14.00\" fill=\"#000000\">gini = 0.475</text>\n<text text-anchor=\"start\" x=\"12521\" y=\"-22.8\" font-family=\"Helvetica,sans-Serif\" font-size=\"14.00\" fill=\"#000000\">samples = 36</text>\n<text text-anchor=\"start\" x=\"12468\" y=\"-7.8\" font-family=\"Helvetica,sans-Serif\" font-size=\"14.00\" fill=\"#000000\">value = [0, 14, 0, 0, 22, 0, 0, 0]</text>\n</g>\n<!-- 126&#45;&gt;128 -->\n<g id=\"edge128\" class=\"edge\">\n<title>126&#45;&gt;128</title>\n<path fill=\"none\" stroke=\"#000000\" d=\"M12561.1154,-88.9777C12561.6335,-80.6449 12562.1902,-71.6903 12562.7159,-63.2364\"/>\n<polygon fill=\"#000000\" stroke=\"#000000\" points=\"12566.2095,-63.4464 12563.3369,-53.2485 12559.223,-63.012 12566.2095,-63.4464\"/>\n</g>\n<!-- 130 -->\n<g id=\"node131\" class=\"node\">\n<title>130</title>\n<path fill=\"#c8e539\" stroke=\"#000000\" d=\"M12870,-53C12870,-53 12700,-53 12700,-53 12694,-53 12688,-47 12688,-41 12688,-41 12688,-12 12688,-12 12688,-6 12694,0 12700,0 12700,0 12870,0 12870,0 12876,0 12882,-6 12882,-12 12882,-12 12882,-41 12882,-41 12882,-47 12876,-53 12870,-53\"/>\n<text text-anchor=\"start\" x=\"12755.5\" y=\"-37.8\" font-family=\"Helvetica,sans-Serif\" font-size=\"14.00\" fill=\"#000000\">gini = 0.0</text>\n<text text-anchor=\"start\" x=\"12745.5\" y=\"-22.8\" font-family=\"Helvetica,sans-Serif\" font-size=\"14.00\" fill=\"#000000\">samples = 1</text>\n<text text-anchor=\"start\" x=\"12696\" y=\"-7.8\" font-family=\"Helvetica,sans-Serif\" font-size=\"14.00\" fill=\"#000000\">value = [0, 1, 0, 0, 0, 0, 0, 0]</text>\n</g>\n<!-- 129&#45;&gt;130 -->\n<g id=\"edge130\" class=\"edge\">\n<title>129&#45;&gt;130</title>\n<path fill=\"none\" stroke=\"#000000\" d=\"M12788.8846,-88.9777C12788.3665,-80.6449 12787.8098,-71.6903 12787.2841,-63.2364\"/>\n<polygon fill=\"#000000\" stroke=\"#000000\" points=\"12790.777,-63.012 12786.6631,-53.2485 12783.7905,-63.4464 12790.777,-63.012\"/>\n</g>\n<!-- 131 -->\n<g id=\"node132\" class=\"node\">\n<title>131</title>\n<path fill=\"#46a3e7\" stroke=\"#000000\" d=\"M13098,-53C13098,-53 12912,-53 12912,-53 12906,-53 12900,-47 12900,-41 12900,-41 12900,-12 12900,-12 12900,-6 12906,0 12912,0 12912,0 13098,0 13098,0 13104,0 13110,-6 13110,-12 13110,-12 13110,-41 13110,-41 13110,-47 13104,-53 13098,-53\"/>\n<text text-anchor=\"start\" x=\"12967\" y=\"-37.8\" font-family=\"Helvetica,sans-Serif\" font-size=\"14.00\" fill=\"#000000\">gini = 0.116</text>\n<text text-anchor=\"start\" x=\"12957\" y=\"-22.8\" font-family=\"Helvetica,sans-Serif\" font-size=\"14.00\" fill=\"#000000\">samples = 130</text>\n<text text-anchor=\"start\" x=\"12908\" y=\"-7.8\" font-family=\"Helvetica,sans-Serif\" font-size=\"14.00\" fill=\"#000000\">value = [0, 8, 0, 0, 122, 0, 0, 0]</text>\n</g>\n<!-- 129&#45;&gt;131 -->\n<g id=\"edge131\" class=\"edge\">\n<title>129&#45;&gt;131</title>\n<path fill=\"none\" stroke=\"#000000\" d=\"M12866.4484,-88.9777C12889.2971,-78.6744 12914.2539,-67.4205 12936.6128,-57.3381\"/>\n<polygon fill=\"#000000\" stroke=\"#000000\" points=\"12938.3452,-60.3964 12946.0224,-53.095 12935.4676,-54.0152 12938.3452,-60.3964\"/>\n</g>\n<!-- 133 -->\n<g id=\"node134\" class=\"node\">\n<title>133</title>\n<path fill=\"#92c9f1\" stroke=\"#000000\" d=\"M13687.5,-261C13687.5,-261 13468.5,-261 13468.5,-261 13462.5,-261 13456.5,-255 13456.5,-249 13456.5,-249 13456.5,-205 13456.5,-205 13456.5,-199 13462.5,-193 13468.5,-193 13468.5,-193 13687.5,-193 13687.5,-193 13693.5,-193 13699.5,-199 13699.5,-205 13699.5,-205 13699.5,-249 13699.5,-249 13699.5,-255 13693.5,-261 13687.5,-261\"/>\n<text text-anchor=\"start\" x=\"13483.5\" y=\"-245.8\" font-family=\"Helvetica,sans-Serif\" font-size=\"14.00\" fill=\"#000000\">Fwd Packets/s ≤ 366666.672</text>\n<text text-anchor=\"start\" x=\"13540\" y=\"-230.8\" font-family=\"Helvetica,sans-Serif\" font-size=\"14.00\" fill=\"#000000\">gini = 0.428</text>\n<text text-anchor=\"start\" x=\"13526\" y=\"-215.8\" font-family=\"Helvetica,sans-Serif\" font-size=\"14.00\" fill=\"#000000\">samples = 4792</text>\n<text text-anchor=\"start\" x=\"13464.5\" y=\"-200.8\" font-family=\"Helvetica,sans-Serif\" font-size=\"14.00\" fill=\"#000000\">value = [0, 1487, 0, 0, 3305, 0, 0, 0]</text>\n</g>\n<!-- 132&#45;&gt;133 -->\n<g id=\"edge133\" class=\"edge\">\n<title>132&#45;&gt;133</title>\n<path fill=\"none\" stroke=\"#000000\" d=\"M13578,-296.9465C13578,-288.776 13578,-279.9318 13578,-271.3697\"/>\n<polygon fill=\"#000000\" stroke=\"#000000\" points=\"13581.5001,-271.13 13578,-261.13 13574.5001,-271.13 13581.5001,-271.13\"/>\n</g>\n<!-- 140 -->\n<g id=\"node141\" class=\"node\">\n<title>140</title>\n<path fill=\"#e9f4fc\" stroke=\"#000000\" d=\"M14418.5,-261C14418.5,-261 14199.5,-261 14199.5,-261 14193.5,-261 14187.5,-255 14187.5,-249 14187.5,-249 14187.5,-205 14187.5,-205 14187.5,-199 14193.5,-193 14199.5,-193 14199.5,-193 14418.5,-193 14418.5,-193 14424.5,-193 14430.5,-199 14430.5,-205 14430.5,-205 14430.5,-249 14430.5,-249 14430.5,-255 14424.5,-261 14418.5,-261\"/>\n<text text-anchor=\"start\" x=\"14221.5\" y=\"-245.8\" font-family=\"Helvetica,sans-Serif\" font-size=\"14.00\" fill=\"#000000\"> Destination Port ≤ 58356.0</text>\n<text text-anchor=\"start\" x=\"14271\" y=\"-230.8\" font-family=\"Helvetica,sans-Serif\" font-size=\"14.00\" fill=\"#000000\">gini = 0.498</text>\n<text text-anchor=\"start\" x=\"14257\" y=\"-215.8\" font-family=\"Helvetica,sans-Serif\" font-size=\"14.00\" fill=\"#000000\">samples = 9857</text>\n<text text-anchor=\"start\" x=\"14195.5\" y=\"-200.8\" font-family=\"Helvetica,sans-Serif\" font-size=\"14.00\" fill=\"#000000\">value = [0, 4636, 0, 0, 5221, 0, 0, 0]</text>\n</g>\n<!-- 132&#45;&gt;140 -->\n<g id=\"edge140\" class=\"edge\">\n<title>132&#45;&gt;140</title>\n<path fill=\"none\" stroke=\"#000000\" d=\"M13699.5304,-313.7098C13831.5209,-294.9314 14041.6309,-265.0388 14177.4305,-245.7185\"/>\n<polygon fill=\"#000000\" stroke=\"#000000\" points=\"14178.0764,-249.1619 14187.4837,-244.2882 14177.0904,-242.2317 14178.0764,-249.1619\"/>\n</g>\n<!-- 134 -->\n<g id=\"node135\" class=\"node\">\n<title>134</title>\n<path fill=\"#71b9ec\" stroke=\"#000000\" d=\"M13549,-157C13549,-157 13355,-157 13355,-157 13349,-157 13343,-151 13343,-145 13343,-145 13343,-101 13343,-101 13343,-95 13349,-89 13355,-89 13355,-89 13549,-89 13549,-89 13555,-89 13561,-95 13561,-101 13561,-101 13561,-145 13561,-145 13561,-151 13555,-157 13549,-157\"/>\n<text text-anchor=\"start\" x=\"13361.5\" y=\"-141.8\" font-family=\"Helvetica,sans-Serif\" font-size=\"14.00\" fill=\"#000000\">Fwd Packets/s ≤ 48199.768</text>\n<text text-anchor=\"start\" x=\"13414\" y=\"-126.8\" font-family=\"Helvetica,sans-Serif\" font-size=\"14.00\" fill=\"#000000\">gini = 0.344</text>\n<text text-anchor=\"start\" x=\"13404\" y=\"-111.8\" font-family=\"Helvetica,sans-Serif\" font-size=\"14.00\" fill=\"#000000\">samples = 349</text>\n<text text-anchor=\"start\" x=\"13351\" y=\"-96.8\" font-family=\"Helvetica,sans-Serif\" font-size=\"14.00\" fill=\"#000000\">value = [0, 77, 0, 0, 272, 0, 0, 0]</text>\n</g>\n<!-- 133&#45;&gt;134 -->\n<g id=\"edge134\" class=\"edge\">\n<title>133&#45;&gt;134</title>\n<path fill=\"none\" stroke=\"#000000\" d=\"M13536.7429,-192.9465C13525.4299,-183.6088 13513.0508,-173.3911 13501.3342,-163.7203\"/>\n<polygon fill=\"#000000\" stroke=\"#000000\" points=\"13503.29,-160.7964 13493.3498,-157.13 13498.8341,-166.195 13503.29,-160.7964\"/>\n</g>\n<!-- 137 -->\n<g id=\"node138\" class=\"node\">\n<title>137</title>\n<path fill=\"#95cbf1\" stroke=\"#000000\" d=\"M13818.5,-157C13818.5,-157 13591.5,-157 13591.5,-157 13585.5,-157 13579.5,-151 13579.5,-145 13579.5,-145 13579.5,-101 13579.5,-101 13579.5,-95 13585.5,-89 13591.5,-89 13591.5,-89 13818.5,-89 13818.5,-89 13824.5,-89 13830.5,-95 13830.5,-101 13830.5,-101 13830.5,-145 13830.5,-145 13830.5,-151 13824.5,-157 13818.5,-157\"/>\n<text text-anchor=\"start\" x=\"13587.5\" y=\"-141.8\" font-family=\"Helvetica,sans-Serif\" font-size=\"14.00\" fill=\"#000000\">Total Length of Fwd Packets ≤ 296.0</text>\n<text text-anchor=\"start\" x=\"13667\" y=\"-126.8\" font-family=\"Helvetica,sans-Serif\" font-size=\"14.00\" fill=\"#000000\">gini = 0.433</text>\n<text text-anchor=\"start\" x=\"13653\" y=\"-111.8\" font-family=\"Helvetica,sans-Serif\" font-size=\"14.00\" fill=\"#000000\">samples = 4443</text>\n<text text-anchor=\"start\" x=\"13591.5\" y=\"-96.8\" font-family=\"Helvetica,sans-Serif\" font-size=\"14.00\" fill=\"#000000\">value = [0, 1410, 0, 0, 3033, 0, 0, 0]</text>\n</g>\n<!-- 133&#45;&gt;137 -->\n<g id=\"edge137\" class=\"edge\">\n<title>133&#45;&gt;137</title>\n<path fill=\"none\" stroke=\"#000000\" d=\"M13619.5845,-192.9465C13630.9873,-183.6088 13643.4647,-173.3911 13655.2743,-163.7203\"/>\n<polygon fill=\"#000000\" stroke=\"#000000\" points=\"13657.8026,-166.1736 13663.322,-157.13 13653.3676,-160.7578 13657.8026,-166.1736\"/>\n</g>\n<!-- 135 -->\n<g id=\"node136\" class=\"node\">\n<title>135</title>\n<path fill=\"#a6d3f3\" stroke=\"#000000\" d=\"M13326,-53C13326,-53 13140,-53 13140,-53 13134,-53 13128,-47 13128,-41 13128,-41 13128,-12 13128,-12 13128,-6 13134,0 13140,0 13140,0 13326,0 13326,0 13332,0 13338,-6 13338,-12 13338,-12 13338,-41 13338,-41 13338,-47 13332,-53 13326,-53\"/>\n<text text-anchor=\"start\" x=\"13195\" y=\"-37.8\" font-family=\"Helvetica,sans-Serif\" font-size=\"14.00\" fill=\"#000000\">gini = 0.458</text>\n<text text-anchor=\"start\" x=\"13185\" y=\"-22.8\" font-family=\"Helvetica,sans-Serif\" font-size=\"14.00\" fill=\"#000000\">samples = 104</text>\n<text text-anchor=\"start\" x=\"13136\" y=\"-7.8\" font-family=\"Helvetica,sans-Serif\" font-size=\"14.00\" fill=\"#000000\">value = [0, 37, 0, 0, 67, 0, 0, 0]</text>\n</g>\n<!-- 134&#45;&gt;135 -->\n<g id=\"edge135\" class=\"edge\">\n<title>134&#45;&gt;135</title>\n<path fill=\"none\" stroke=\"#000000\" d=\"M13374.7888,-88.9777C13351.3018,-78.6284 13325.6382,-67.32 13302.6787,-57.2032\"/>\n<polygon fill=\"#000000\" stroke=\"#000000\" points=\"13303.9179,-53.9245 13293.3556,-53.095 13301.0952,-60.3302 13303.9179,-53.9245\"/>\n</g>\n<!-- 136 -->\n<g id=\"node137\" class=\"node\">\n<title>136</title>\n<path fill=\"#60b0ea\" stroke=\"#000000\" d=\"M13562,-53C13562,-53 13368,-53 13368,-53 13362,-53 13356,-47 13356,-41 13356,-41 13356,-12 13356,-12 13356,-6 13362,0 13368,0 13368,0 13562,0 13562,0 13568,0 13574,-6 13574,-12 13574,-12 13574,-41 13574,-41 13574,-47 13568,-53 13562,-53\"/>\n<text text-anchor=\"start\" x=\"13427\" y=\"-37.8\" font-family=\"Helvetica,sans-Serif\" font-size=\"14.00\" fill=\"#000000\">gini = 0.273</text>\n<text text-anchor=\"start\" x=\"13417\" y=\"-22.8\" font-family=\"Helvetica,sans-Serif\" font-size=\"14.00\" fill=\"#000000\">samples = 245</text>\n<text text-anchor=\"start\" x=\"13364\" y=\"-7.8\" font-family=\"Helvetica,sans-Serif\" font-size=\"14.00\" fill=\"#000000\">value = [0, 40, 0, 0, 205, 0, 0, 0]</text>\n</g>\n<!-- 134&#45;&gt;136 -->\n<g id=\"edge136\" class=\"edge\">\n<title>134&#45;&gt;136</title>\n<path fill=\"none\" stroke=\"#000000\" d=\"M13456.5833,-88.9777C13457.7059,-80.6449 13458.9122,-71.6903 13460.051,-63.2364\"/>\n<polygon fill=\"#000000\" stroke=\"#000000\" points=\"13463.5301,-63.6263 13461.3966,-53.2485 13456.5927,-62.6916 13463.5301,-63.6263\"/>\n</g>\n<!-- 138 -->\n<g id=\"node139\" class=\"node\">\n<title>138</title>\n<path fill=\"#46a4e7\" stroke=\"#000000\" d=\"M13782,-53C13782,-53 13604,-53 13604,-53 13598,-53 13592,-47 13592,-41 13592,-41 13592,-12 13592,-12 13592,-6 13598,0 13604,0 13604,0 13782,0 13782,0 13788,0 13794,-6 13794,-12 13794,-12 13794,-41 13794,-41 13794,-47 13788,-53 13782,-53\"/>\n<text text-anchor=\"start\" x=\"13659.5\" y=\"-37.8\" font-family=\"Helvetica,sans-Serif\" font-size=\"14.00\" fill=\"#000000\">gini = 0.12</text>\n<text text-anchor=\"start\" x=\"13649\" y=\"-22.8\" font-family=\"Helvetica,sans-Serif\" font-size=\"14.00\" fill=\"#000000\">samples = 47</text>\n<text text-anchor=\"start\" x=\"13600\" y=\"-7.8\" font-family=\"Helvetica,sans-Serif\" font-size=\"14.00\" fill=\"#000000\">value = [0, 3, 0, 0, 44, 0, 0, 0]</text>\n</g>\n<!-- 137&#45;&gt;138 -->\n<g id=\"edge138\" class=\"edge\">\n<title>137&#45;&gt;138</title>\n<path fill=\"none\" stroke=\"#000000\" d=\"M13700.7692,-88.9777C13699.733,-80.6449 13698.6195,-71.6903 13697.5683,-63.2364\"/>\n<polygon fill=\"#000000\" stroke=\"#000000\" points=\"13701.0336,-62.7401 13696.3262,-53.2485 13694.0871,-63.604 13701.0336,-62.7401\"/>\n</g>\n<!-- 139 -->\n<g id=\"node140\" class=\"node\">\n<title>139</title>\n<path fill=\"#96cbf1\" stroke=\"#000000\" d=\"M14043.5,-53C14043.5,-53 13824.5,-53 13824.5,-53 13818.5,-53 13812.5,-47 13812.5,-41 13812.5,-41 13812.5,-12 13812.5,-12 13812.5,-6 13818.5,0 13824.5,0 13824.5,0 14043.5,0 14043.5,0 14049.5,0 14055.5,-6 14055.5,-12 14055.5,-12 14055.5,-41 14055.5,-41 14055.5,-47 14049.5,-53 14043.5,-53\"/>\n<text text-anchor=\"start\" x=\"13896\" y=\"-37.8\" font-family=\"Helvetica,sans-Serif\" font-size=\"14.00\" fill=\"#000000\">gini = 0.435</text>\n<text text-anchor=\"start\" x=\"13882\" y=\"-22.8\" font-family=\"Helvetica,sans-Serif\" font-size=\"14.00\" fill=\"#000000\">samples = 4396</text>\n<text text-anchor=\"start\" x=\"13820.5\" y=\"-7.8\" font-family=\"Helvetica,sans-Serif\" font-size=\"14.00\" fill=\"#000000\">value = [0, 1407, 0, 0, 2989, 0, 0, 0]</text>\n</g>\n<!-- 137&#45;&gt;139 -->\n<g id=\"edge139\" class=\"edge\">\n<title>137&#45;&gt;139</title>\n<path fill=\"none\" stroke=\"#000000\" d=\"M13785.7368,-88.9777C13810.4054,-78.5824 13837.3703,-67.2195 13861.4595,-57.0684\"/>\n<polygon fill=\"#000000\" stroke=\"#000000\" points=\"13863.0324,-60.2037 13870.8885,-53.095 13860.3141,-53.753 13863.0324,-60.2037\"/>\n</g>\n<!-- 141 -->\n<g id=\"node142\" class=\"node\">\n<title>141</title>\n<path fill=\"#edf6fd\" stroke=\"#000000\" d=\"M14418.5,-157C14418.5,-157 14199.5,-157 14199.5,-157 14193.5,-157 14187.5,-151 14187.5,-145 14187.5,-145 14187.5,-101 14187.5,-101 14187.5,-95 14193.5,-89 14199.5,-89 14199.5,-89 14418.5,-89 14418.5,-89 14424.5,-89 14430.5,-95 14430.5,-101 14430.5,-101 14430.5,-145 14430.5,-145 14430.5,-151 14424.5,-157 14418.5,-157\"/>\n<text text-anchor=\"start\" x=\"14221.5\" y=\"-141.8\" font-family=\"Helvetica,sans-Serif\" font-size=\"14.00\" fill=\"#000000\"> Destination Port ≤ 57688.0</text>\n<text text-anchor=\"start\" x=\"14271\" y=\"-126.8\" font-family=\"Helvetica,sans-Serif\" font-size=\"14.00\" fill=\"#000000\">gini = 0.499</text>\n<text text-anchor=\"start\" x=\"14257\" y=\"-111.8\" font-family=\"Helvetica,sans-Serif\" font-size=\"14.00\" fill=\"#000000\">samples = 8780</text>\n<text text-anchor=\"start\" x=\"14195.5\" y=\"-96.8\" font-family=\"Helvetica,sans-Serif\" font-size=\"14.00\" fill=\"#000000\">value = [0, 4180, 0, 0, 4600, 0, 0, 0]</text>\n</g>\n<!-- 140&#45;&gt;141 -->\n<g id=\"edge141\" class=\"edge\">\n<title>140&#45;&gt;141</title>\n<path fill=\"none\" stroke=\"#000000\" d=\"M14309,-192.9465C14309,-184.776 14309,-175.9318 14309,-167.3697\"/>\n<polygon fill=\"#000000\" stroke=\"#000000\" points=\"14312.5001,-167.13 14309,-157.13 14305.5001,-167.13 14312.5001,-167.13\"/>\n</g>\n<!-- 144 -->\n<g id=\"node145\" class=\"node\">\n<title>144</title>\n<path fill=\"#cae5f8\" stroke=\"#000000\" d=\"M14778.5,-157C14778.5,-157 14575.5,-157 14575.5,-157 14569.5,-157 14563.5,-151 14563.5,-145 14563.5,-145 14563.5,-101 14563.5,-101 14563.5,-95 14569.5,-89 14575.5,-89 14575.5,-89 14778.5,-89 14778.5,-89 14784.5,-89 14790.5,-95 14790.5,-101 14790.5,-101 14790.5,-145 14790.5,-145 14790.5,-151 14784.5,-157 14778.5,-157\"/>\n<text text-anchor=\"start\" x=\"14589.5\" y=\"-141.8\" font-family=\"Helvetica,sans-Serif\" font-size=\"14.00\" fill=\"#000000\"> Destination Port ≤ 64102.0</text>\n<text text-anchor=\"start\" x=\"14639\" y=\"-126.8\" font-family=\"Helvetica,sans-Serif\" font-size=\"14.00\" fill=\"#000000\">gini = 0.488</text>\n<text text-anchor=\"start\" x=\"14625\" y=\"-111.8\" font-family=\"Helvetica,sans-Serif\" font-size=\"14.00\" fill=\"#000000\">samples = 1077</text>\n<text text-anchor=\"start\" x=\"14571.5\" y=\"-96.8\" font-family=\"Helvetica,sans-Serif\" font-size=\"14.00\" fill=\"#000000\">value = [0, 456, 0, 0, 621, 0, 0, 0]</text>\n</g>\n<!-- 140&#45;&gt;144 -->\n<g id=\"edge144\" class=\"edge\">\n<title>140&#45;&gt;144</title>\n<path fill=\"none\" stroke=\"#000000\" d=\"M14429.497,-192.9465C14469.2922,-181.7 14513.6046,-169.177 14553.6128,-157.8703\"/>\n<polygon fill=\"#000000\" stroke=\"#000000\" points=\"14554.7452,-161.1874 14563.4164,-155.0997 14552.8414,-154.4513 14554.7452,-161.1874\"/>\n</g>\n<!-- 142 -->\n<g id=\"node143\" class=\"node\">\n<title>142</title>\n<path fill=\"#ecf5fc\" stroke=\"#000000\" d=\"M14304.5,-53C14304.5,-53 14085.5,-53 14085.5,-53 14079.5,-53 14073.5,-47 14073.5,-41 14073.5,-41 14073.5,-12 14073.5,-12 14073.5,-6 14079.5,0 14085.5,0 14085.5,0 14304.5,0 14304.5,0 14310.5,0 14316.5,-6 14316.5,-12 14316.5,-12 14316.5,-41 14316.5,-41 14316.5,-47 14310.5,-53 14304.5,-53\"/>\n<text text-anchor=\"start\" x=\"14157\" y=\"-37.8\" font-family=\"Helvetica,sans-Serif\" font-size=\"14.00\" fill=\"#000000\">gini = 0.499</text>\n<text text-anchor=\"start\" x=\"14143\" y=\"-22.8\" font-family=\"Helvetica,sans-Serif\" font-size=\"14.00\" fill=\"#000000\">samples = 8670</text>\n<text text-anchor=\"start\" x=\"14081.5\" y=\"-7.8\" font-family=\"Helvetica,sans-Serif\" font-size=\"14.00\" fill=\"#000000\">value = [0, 4111, 0, 0, 4559, 0, 0, 0]</text>\n</g>\n<!-- 141&#45;&gt;142 -->\n<g id=\"edge142\" class=\"edge\">\n<title>141&#45;&gt;142</title>\n<path fill=\"none\" stroke=\"#000000\" d=\"M14268.8079,-88.9777C14257.6658,-79.546 14245.5827,-69.3178 14234.4815,-59.9208\"/>\n<polygon fill=\"#000000\" stroke=\"#000000\" points=\"14236.4932,-57.038 14226.5992,-53.2485 14231.9705,-62.3809 14236.4932,-57.038\"/>\n</g>\n<!-- 143 -->\n<g id=\"node144\" class=\"node\">\n<title>143</title>\n<path fill=\"#e9f4af\" stroke=\"#000000\" d=\"M14533,-53C14533,-53 14347,-53 14347,-53 14341,-53 14335,-47 14335,-41 14335,-41 14335,-12 14335,-12 14335,-6 14341,0 14347,0 14347,0 14533,0 14533,0 14539,0 14545,-6 14545,-12 14545,-12 14545,-41 14545,-41 14545,-47 14539,-53 14533,-53\"/>\n<text text-anchor=\"start\" x=\"14402\" y=\"-37.8\" font-family=\"Helvetica,sans-Serif\" font-size=\"14.00\" fill=\"#000000\">gini = 0.468</text>\n<text text-anchor=\"start\" x=\"14392\" y=\"-22.8\" font-family=\"Helvetica,sans-Serif\" font-size=\"14.00\" fill=\"#000000\">samples = 110</text>\n<text text-anchor=\"start\" x=\"14343\" y=\"-7.8\" font-family=\"Helvetica,sans-Serif\" font-size=\"14.00\" fill=\"#000000\">value = [0, 69, 0, 0, 41, 0, 0, 0]</text>\n</g>\n<!-- 141&#45;&gt;143 -->\n<g id=\"edge143\" class=\"edge\">\n<title>141&#45;&gt;143</title>\n<path fill=\"none\" stroke=\"#000000\" d=\"M14355.1857,-88.9777C14368.2379,-79.3629 14382.4139,-68.9203 14395.3727,-59.3743\"/>\n<polygon fill=\"#000000\" stroke=\"#000000\" points=\"14397.7131,-61.9974 14403.6886,-53.2485 14393.5614,-56.3615 14397.7131,-61.9974\"/>\n</g>\n<!-- 145 -->\n<g id=\"node146\" class=\"node\">\n<title>145</title>\n<path fill=\"#bedff7\" stroke=\"#000000\" d=\"M14778.5,-53C14778.5,-53 14575.5,-53 14575.5,-53 14569.5,-53 14563.5,-47 14563.5,-41 14563.5,-41 14563.5,-12 14563.5,-12 14563.5,-6 14569.5,0 14575.5,0 14575.5,0 14778.5,0 14778.5,0 14784.5,0 14790.5,-6 14790.5,-12 14790.5,-12 14790.5,-41 14790.5,-41 14790.5,-47 14784.5,-53 14778.5,-53\"/>\n<text text-anchor=\"start\" x=\"14639\" y=\"-37.8\" font-family=\"Helvetica,sans-Serif\" font-size=\"14.00\" fill=\"#000000\">gini = 0.481</text>\n<text text-anchor=\"start\" x=\"14629\" y=\"-22.8\" font-family=\"Helvetica,sans-Serif\" font-size=\"14.00\" fill=\"#000000\">samples = 860</text>\n<text text-anchor=\"start\" x=\"14571.5\" y=\"-7.8\" font-family=\"Helvetica,sans-Serif\" font-size=\"14.00\" fill=\"#000000\">value = [0, 346, 0, 0, 514, 0, 0, 0]</text>\n</g>\n<!-- 144&#45;&gt;145 -->\n<g id=\"edge145\" class=\"edge\">\n<title>144&#45;&gt;145</title>\n<path fill=\"none\" stroke=\"#000000\" d=\"M14677,-88.9777C14677,-80.7364 14677,-71.887 14677,-63.5153\"/>\n<polygon fill=\"#000000\" stroke=\"#000000\" points=\"14680.5001,-63.2484 14677,-53.2485 14673.5001,-63.2485 14680.5001,-63.2484\"/>\n</g>\n<!-- 146 -->\n<g id=\"node147\" class=\"node\">\n<title>146</title>\n<path fill=\"#fefefa\" stroke=\"#000000\" d=\"M15023.5,-53C15023.5,-53 14820.5,-53 14820.5,-53 14814.5,-53 14808.5,-47 14808.5,-41 14808.5,-41 14808.5,-12 14808.5,-12 14808.5,-6 14814.5,0 14820.5,0 14820.5,0 15023.5,0 15023.5,0 15029.5,0 15035.5,-6 15035.5,-12 15035.5,-12 15035.5,-41 15035.5,-41 15035.5,-47 15029.5,-53 15023.5,-53\"/>\n<text text-anchor=\"start\" x=\"14892.5\" y=\"-37.8\" font-family=\"Helvetica,sans-Serif\" font-size=\"14.00\" fill=\"#000000\">gini = 0.5</text>\n<text text-anchor=\"start\" x=\"14874\" y=\"-22.8\" font-family=\"Helvetica,sans-Serif\" font-size=\"14.00\" fill=\"#000000\">samples = 217</text>\n<text text-anchor=\"start\" x=\"14816.5\" y=\"-7.8\" font-family=\"Helvetica,sans-Serif\" font-size=\"14.00\" fill=\"#000000\">value = [0, 110, 0, 0, 107, 0, 0, 0]</text>\n</g>\n<!-- 144&#45;&gt;146 -->\n<g id=\"edge146\" class=\"edge\">\n<title>144&#45;&gt;146</title>\n<path fill=\"none\" stroke=\"#000000\" d=\"M14763.3778,-88.9777C14790.0036,-78.4904 14819.1296,-67.0183 14845.0747,-56.7992\"/>\n<polygon fill=\"#000000\" stroke=\"#000000\" points=\"14846.4573,-60.0163 14854.4789,-53.095 14843.892,-53.5033 14846.4573,-60.0163\"/>\n</g>\n<!-- 148 -->\n<g id=\"node149\" class=\"node\">\n<title>148</title>\n<path fill=\"#59ade9\" stroke=\"#000000\" d=\"M16413,-469C16413,-469 16177,-469 16177,-469 16171,-469 16165,-463 16165,-457 16165,-457 16165,-413 16165,-413 16165,-407 16171,-401 16177,-401 16177,-401 16413,-401 16413,-401 16419,-401 16425,-407 16425,-413 16425,-413 16425,-457 16425,-457 16425,-463 16419,-469 16413,-469\"/>\n<text text-anchor=\"start\" x=\"16228.5\" y=\"-453.8\" font-family=\"Helvetica,sans-Serif\" font-size=\"14.00\" fill=\"#000000\"> Source Port ≤ 647.5</text>\n<text text-anchor=\"start\" x=\"16257\" y=\"-438.8\" font-family=\"Helvetica,sans-Serif\" font-size=\"14.00\" fill=\"#000000\">gini = 0.242</text>\n<text text-anchor=\"start\" x=\"16239\" y=\"-423.8\" font-family=\"Helvetica,sans-Serif\" font-size=\"14.00\" fill=\"#000000\">samples = 16668</text>\n<text text-anchor=\"start\" x=\"16173\" y=\"-408.8\" font-family=\"Helvetica,sans-Serif\" font-size=\"14.00\" fill=\"#000000\">value = [39, 2299, 0, 0, 14330, 0, 0, 0]</text>\n</g>\n<!-- 147&#45;&gt;148 -->\n<g id=\"edge148\" class=\"edge\">\n<title>147&#45;&gt;148</title>\n<path fill=\"none\" stroke=\"#000000\" d=\"M16295,-504.9465C16295,-496.776 16295,-487.9318 16295,-479.3697\"/>\n<polygon fill=\"#000000\" stroke=\"#000000\" points=\"16298.5001,-479.13 16295,-469.13 16291.5001,-479.13 16298.5001,-479.13\"/>\n</g>\n<!-- 173 -->\n<g id=\"node174\" class=\"node\">\n<title>173</title>\n<path fill=\"#6cb6ec\" stroke=\"#000000\" d=\"M19022.5,-469C19022.5,-469 18795.5,-469 18795.5,-469 18789.5,-469 18783.5,-463 18783.5,-457 18783.5,-457 18783.5,-413 18783.5,-413 18783.5,-407 18789.5,-401 18795.5,-401 18795.5,-401 19022.5,-401 19022.5,-401 19028.5,-401 19034.5,-407 19034.5,-413 19034.5,-413 19034.5,-457 19034.5,-457 19034.5,-463 19028.5,-469 19022.5,-469\"/>\n<text text-anchor=\"start\" x=\"18821\" y=\"-453.8\" font-family=\"Helvetica,sans-Serif\" font-size=\"14.00\" fill=\"#000000\"> Fwd Header Length ≤ 42.0</text>\n<text text-anchor=\"start\" x=\"18871\" y=\"-438.8\" font-family=\"Helvetica,sans-Serif\" font-size=\"14.00\" fill=\"#000000\">gini = 0.328</text>\n<text text-anchor=\"start\" x=\"18853\" y=\"-423.8\" font-family=\"Helvetica,sans-Serif\" font-size=\"14.00\" fill=\"#000000\">samples = 25034</text>\n<text text-anchor=\"start\" x=\"18791.5\" y=\"-408.8\" font-family=\"Helvetica,sans-Serif\" font-size=\"14.00\" fill=\"#000000\">value = [0, 5166, 0, 0, 19868, 0, 0, 0]</text>\n</g>\n<!-- 147&#45;&gt;173 -->\n<g id=\"edge173\" class=\"edge\">\n<title>147&#45;&gt;173</title>\n<path fill=\"none\" stroke=\"#000000\" d=\"M16425.0755,-533.8248C16868.8301,-516.1697 18320.627,-458.4089 18773.0915,-440.4072\"/>\n<polygon fill=\"#000000\" stroke=\"#000000\" points=\"18773.4149,-443.8972 18783.2678,-440.0024 18773.1366,-436.9028 18773.4149,-443.8972\"/>\n</g>\n<!-- 149 -->\n<g id=\"node150\" class=\"node\">\n<title>149</title>\n<path fill=\"#6fb8ec\" stroke=\"#000000\" d=\"M16278.5,-365C16278.5,-365 16051.5,-365 16051.5,-365 16045.5,-365 16039.5,-359 16039.5,-353 16039.5,-353 16039.5,-309 16039.5,-309 16039.5,-303 16045.5,-297 16051.5,-297 16051.5,-297 16278.5,-297 16278.5,-297 16284.5,-297 16290.5,-303 16290.5,-309 16290.5,-309 16290.5,-353 16290.5,-353 16290.5,-359 16284.5,-365 16278.5,-365\"/>\n<text text-anchor=\"start\" x=\"16095.5\" y=\"-349.8\" font-family=\"Helvetica,sans-Serif\" font-size=\"14.00\" fill=\"#000000\">DestinationIP ≤ 383.5</text>\n<text text-anchor=\"start\" x=\"16131.5\" y=\"-334.8\" font-family=\"Helvetica,sans-Serif\" font-size=\"14.00\" fill=\"#000000\">gini = 0.34</text>\n<text text-anchor=\"start\" x=\"16113\" y=\"-319.8\" font-family=\"Helvetica,sans-Serif\" font-size=\"14.00\" fill=\"#000000\">samples = 9461</text>\n<text text-anchor=\"start\" x=\"16047.5\" y=\"-304.8\" font-family=\"Helvetica,sans-Serif\" font-size=\"14.00\" fill=\"#000000\">value = [39, 2003, 0, 0, 7419, 0, 0, 0]</text>\n</g>\n<!-- 148&#45;&gt;149 -->\n<g id=\"edge149\" class=\"edge\">\n<title>148&#45;&gt;149</title>\n<path fill=\"none\" stroke=\"#000000\" d=\"M16252.4331,-400.9465C16240.6488,-391.519 16227.7432,-381.1946 16215.5519,-371.4415\"/>\n<polygon fill=\"#000000\" stroke=\"#000000\" points=\"16217.6577,-368.6439 16207.6625,-365.13 16213.2848,-374.11 16217.6577,-368.6439\"/>\n</g>\n<!-- 158 -->\n<g id=\"node159\" class=\"node\">\n<title>158</title>\n<path fill=\"#41a1e6\" stroke=\"#000000\" d=\"M16582.5,-365C16582.5,-365 16371.5,-365 16371.5,-365 16365.5,-365 16359.5,-359 16359.5,-353 16359.5,-353 16359.5,-309 16359.5,-309 16359.5,-303 16365.5,-297 16371.5,-297 16371.5,-297 16582.5,-297 16582.5,-297 16588.5,-297 16594.5,-303 16594.5,-309 16594.5,-309 16594.5,-353 16594.5,-353 16594.5,-359 16588.5,-365 16582.5,-365\"/>\n<text text-anchor=\"start\" x=\"16410.5\" y=\"-349.8\" font-family=\"Helvetica,sans-Serif\" font-size=\"14.00\" fill=\"#000000\"> Source Port ≤ 648.5</text>\n<text text-anchor=\"start\" x=\"16439\" y=\"-334.8\" font-family=\"Helvetica,sans-Serif\" font-size=\"14.00\" fill=\"#000000\">gini = 0.079</text>\n<text text-anchor=\"start\" x=\"16425\" y=\"-319.8\" font-family=\"Helvetica,sans-Serif\" font-size=\"14.00\" fill=\"#000000\">samples = 7207</text>\n<text text-anchor=\"start\" x=\"16367.5\" y=\"-304.8\" font-family=\"Helvetica,sans-Serif\" font-size=\"14.00\" fill=\"#000000\">value = [0, 296, 0, 0, 6911, 0, 0, 0]</text>\n</g>\n<!-- 148&#45;&gt;158 -->\n<g id=\"edge158\" class=\"edge\">\n<title>148&#45;&gt;158</title>\n<path fill=\"none\" stroke=\"#000000\" d=\"M16354.5936,-400.9465C16371.7202,-391.1599 16390.5384,-380.4066 16408.1735,-370.3294\"/>\n<polygon fill=\"#000000\" stroke=\"#000000\" points=\"16410.3266,-373.1303 16417.2725,-365.13 16406.8536,-367.0526 16410.3266,-373.1303\"/>\n</g>\n<!-- 150 -->\n<g id=\"node151\" class=\"node\">\n<title>150</title>\n<path fill=\"#6eb7ec\" stroke=\"#000000\" d=\"M15931.5,-261C15931.5,-261 15712.5,-261 15712.5,-261 15706.5,-261 15700.5,-255 15700.5,-249 15700.5,-249 15700.5,-205 15700.5,-205 15700.5,-199 15706.5,-193 15712.5,-193 15712.5,-193 15931.5,-193 15931.5,-193 15937.5,-193 15943.5,-199 15943.5,-205 15943.5,-205 15943.5,-249 15943.5,-249 15943.5,-255 15937.5,-261 15931.5,-261\"/>\n<text text-anchor=\"start\" x=\"15749.5\" y=\"-245.8\" font-family=\"Helvetica,sans-Serif\" font-size=\"14.00\" fill=\"#000000\"> Flow IAT Mean ≤ 44.5</text>\n<text text-anchor=\"start\" x=\"15784\" y=\"-230.8\" font-family=\"Helvetica,sans-Serif\" font-size=\"14.00\" fill=\"#000000\">gini = 0.335</text>\n<text text-anchor=\"start\" x=\"15770\" y=\"-215.8\" font-family=\"Helvetica,sans-Serif\" font-size=\"14.00\" fill=\"#000000\">samples = 9422</text>\n<text text-anchor=\"start\" x=\"15708.5\" y=\"-200.8\" font-family=\"Helvetica,sans-Serif\" font-size=\"14.00\" fill=\"#000000\">value = [0, 2003, 0, 0, 7419, 0, 0, 0]</text>\n</g>\n<!-- 149&#45;&gt;150 -->\n<g id=\"edge150\" class=\"edge\">\n<title>149&#45;&gt;150</title>\n<path fill=\"none\" stroke=\"#000000\" d=\"M16052.689,-296.9465C16017.9538,-286.4145 15979.5263,-274.7631 15944.1589,-264.0394\"/>\n<polygon fill=\"#000000\" stroke=\"#000000\" points=\"15944.8556,-260.5934 15934.2702,-261.0411 15942.8244,-267.2922 15944.8556,-260.5934\"/>\n</g>\n<!-- 157 -->\n<g id=\"node158\" class=\"node\">\n<title>157</title>\n<path fill=\"#e58139\" stroke=\"#000000\" d=\"M16254,-253.5C16254,-253.5 16076,-253.5 16076,-253.5 16070,-253.5 16064,-247.5 16064,-241.5 16064,-241.5 16064,-212.5 16064,-212.5 16064,-206.5 16070,-200.5 16076,-200.5 16076,-200.5 16254,-200.5 16254,-200.5 16260,-200.5 16266,-206.5 16266,-212.5 16266,-212.5 16266,-241.5 16266,-241.5 16266,-247.5 16260,-253.5 16254,-253.5\"/>\n<text text-anchor=\"start\" x=\"16135.5\" y=\"-238.3\" font-family=\"Helvetica,sans-Serif\" font-size=\"14.00\" fill=\"#000000\">gini = 0.0</text>\n<text text-anchor=\"start\" x=\"16121\" y=\"-223.3\" font-family=\"Helvetica,sans-Serif\" font-size=\"14.00\" fill=\"#000000\">samples = 39</text>\n<text text-anchor=\"start\" x=\"16072\" y=\"-208.3\" font-family=\"Helvetica,sans-Serif\" font-size=\"14.00\" fill=\"#000000\">value = [39, 0, 0, 0, 0, 0, 0, 0]</text>\n</g>\n<!-- 149&#45;&gt;157 -->\n<g id=\"edge157\" class=\"edge\">\n<title>149&#45;&gt;157</title>\n<path fill=\"none\" stroke=\"#000000\" d=\"M16165,-296.9465C16165,-286.2621 16165,-274.4254 16165,-263.5742\"/>\n<polygon fill=\"#000000\" stroke=\"#000000\" points=\"16168.5001,-263.5421 16165,-253.5422 16161.5001,-263.5422 16168.5001,-263.5421\"/>\n</g>\n<!-- 151 -->\n<g id=\"node152\" class=\"node\">\n<title>151</title>\n<path fill=\"#68b4eb\" stroke=\"#000000\" d=\"M15533.5,-157C15533.5,-157 15314.5,-157 15314.5,-157 15308.5,-157 15302.5,-151 15302.5,-145 15302.5,-145 15302.5,-101 15302.5,-101 15302.5,-95 15308.5,-89 15314.5,-89 15314.5,-89 15533.5,-89 15533.5,-89 15539.5,-89 15545.5,-95 15545.5,-101 15545.5,-101 15545.5,-145 15545.5,-145 15545.5,-151 15539.5,-157 15533.5,-157\"/>\n<text text-anchor=\"start\" x=\"15326\" y=\"-141.8\" font-family=\"Helvetica,sans-Serif\" font-size=\"14.00\" fill=\"#000000\"> Flow Packets/s ≤ 1238095.25</text>\n<text text-anchor=\"start\" x=\"15386\" y=\"-126.8\" font-family=\"Helvetica,sans-Serif\" font-size=\"14.00\" fill=\"#000000\">gini = 0.309</text>\n<text text-anchor=\"start\" x=\"15372\" y=\"-111.8\" font-family=\"Helvetica,sans-Serif\" font-size=\"14.00\" fill=\"#000000\">samples = 6196</text>\n<text text-anchor=\"start\" x=\"15310.5\" y=\"-96.8\" font-family=\"Helvetica,sans-Serif\" font-size=\"14.00\" fill=\"#000000\">value = [0, 1184, 0, 0, 5012, 0, 0, 0]</text>\n</g>\n<!-- 150&#45;&gt;151 -->\n<g id=\"edge151\" class=\"edge\">\n<title>150&#45;&gt;151</title>\n<path fill=\"none\" stroke=\"#000000\" d=\"M15700.4243,-195.2315C15654.5386,-183.2412 15602.1462,-169.5508 15555.4012,-157.336\"/>\n<polygon fill=\"#000000\" stroke=\"#000000\" points=\"15556.0765,-153.895 15545.5165,-154.753 15554.3067,-160.6676 15556.0765,-153.895\"/>\n</g>\n<!-- 154 -->\n<g id=\"node155\" class=\"node\">\n<title>154</title>\n<path fill=\"#7cbeee\" stroke=\"#000000\" d=\"M15927.5,-157C15927.5,-157 15716.5,-157 15716.5,-157 15710.5,-157 15704.5,-151 15704.5,-145 15704.5,-145 15704.5,-101 15704.5,-101 15704.5,-95 15710.5,-89 15716.5,-89 15716.5,-89 15927.5,-89 15927.5,-89 15933.5,-89 15939.5,-95 15939.5,-101 15939.5,-101 15939.5,-145 15939.5,-145 15939.5,-151 15933.5,-157 15927.5,-157\"/>\n<text text-anchor=\"start\" x=\"15756.5\" y=\"-141.8\" font-family=\"Helvetica,sans-Serif\" font-size=\"14.00\" fill=\"#000000\"> Flow IAT Min ≤ 53.5</text>\n<text text-anchor=\"start\" x=\"15784\" y=\"-126.8\" font-family=\"Helvetica,sans-Serif\" font-size=\"14.00\" fill=\"#000000\">gini = 0.379</text>\n<text text-anchor=\"start\" x=\"15770\" y=\"-111.8\" font-family=\"Helvetica,sans-Serif\" font-size=\"14.00\" fill=\"#000000\">samples = 3226</text>\n<text text-anchor=\"start\" x=\"15712.5\" y=\"-96.8\" font-family=\"Helvetica,sans-Serif\" font-size=\"14.00\" fill=\"#000000\">value = [0, 819, 0, 0, 2407, 0, 0, 0]</text>\n</g>\n<!-- 150&#45;&gt;154 -->\n<g id=\"edge154\" class=\"edge\">\n<title>150&#45;&gt;154</title>\n<path fill=\"none\" stroke=\"#000000\" d=\"M15822,-192.9465C15822,-184.776 15822,-175.9318 15822,-167.3697\"/>\n<polygon fill=\"#000000\" stroke=\"#000000\" points=\"15825.5001,-167.13 15822,-157.13 15818.5001,-167.13 15825.5001,-167.13\"/>\n</g>\n<!-- 152 -->\n<g id=\"node153\" class=\"node\">\n<title>152</title>\n<path fill=\"#59ade9\" stroke=\"#000000\" d=\"M15276.5,-53C15276.5,-53 15065.5,-53 15065.5,-53 15059.5,-53 15053.5,-47 15053.5,-41 15053.5,-41 15053.5,-12 15053.5,-12 15053.5,-6 15059.5,0 15065.5,0 15065.5,0 15276.5,0 15276.5,0 15282.5,0 15288.5,-6 15288.5,-12 15288.5,-12 15288.5,-41 15288.5,-41 15288.5,-47 15282.5,-53 15276.5,-53\"/>\n<text text-anchor=\"start\" x=\"15133\" y=\"-37.8\" font-family=\"Helvetica,sans-Serif\" font-size=\"14.00\" fill=\"#000000\">gini = 0.237</text>\n<text text-anchor=\"start\" x=\"15119\" y=\"-22.8\" font-family=\"Helvetica,sans-Serif\" font-size=\"14.00\" fill=\"#000000\">samples = 1634</text>\n<text text-anchor=\"start\" x=\"15061.5\" y=\"-7.8\" font-family=\"Helvetica,sans-Serif\" font-size=\"14.00\" fill=\"#000000\">value = [0, 225, 0, 0, 1409, 0, 0, 0]</text>\n</g>\n<!-- 151&#45;&gt;152 -->\n<g id=\"edge152\" class=\"edge\">\n<title>151&#45;&gt;152</title>\n<path fill=\"none\" stroke=\"#000000\" d=\"M15334.8017,-88.9777C15307.1859,-78.4444 15276.9655,-66.9177 15250.0848,-56.6648\"/>\n<polygon fill=\"#000000\" stroke=\"#000000\" points=\"15251.3166,-53.3887 15240.7258,-53.095 15248.8219,-59.9291 15251.3166,-53.3887\"/>\n</g>\n<!-- 153 -->\n<g id=\"node154\" class=\"node\">\n<title>153</title>\n<path fill=\"#6eb7ec\" stroke=\"#000000\" d=\"M15529.5,-53C15529.5,-53 15318.5,-53 15318.5,-53 15312.5,-53 15306.5,-47 15306.5,-41 15306.5,-41 15306.5,-12 15306.5,-12 15306.5,-6 15312.5,0 15318.5,0 15318.5,0 15529.5,0 15529.5,0 15535.5,0 15541.5,-6 15541.5,-12 15541.5,-12 15541.5,-41 15541.5,-41 15541.5,-47 15535.5,-53 15529.5,-53\"/>\n<text text-anchor=\"start\" x=\"15386\" y=\"-37.8\" font-family=\"Helvetica,sans-Serif\" font-size=\"14.00\" fill=\"#000000\">gini = 0.332</text>\n<text text-anchor=\"start\" x=\"15372\" y=\"-22.8\" font-family=\"Helvetica,sans-Serif\" font-size=\"14.00\" fill=\"#000000\">samples = 4562</text>\n<text text-anchor=\"start\" x=\"15314.5\" y=\"-7.8\" font-family=\"Helvetica,sans-Serif\" font-size=\"14.00\" fill=\"#000000\">value = [0, 959, 0, 0, 3603, 0, 0, 0]</text>\n</g>\n<!-- 151&#45;&gt;153 -->\n<g id=\"edge153\" class=\"edge\">\n<title>151&#45;&gt;153</title>\n<path fill=\"none\" stroke=\"#000000\" d=\"M15424,-88.9777C15424,-80.7364 15424,-71.887 15424,-63.5153\"/>\n<polygon fill=\"#000000\" stroke=\"#000000\" points=\"15427.5001,-63.2484 15424,-53.2485 15420.5001,-63.2485 15427.5001,-63.2484\"/>\n</g>\n<!-- 155 -->\n<g id=\"node156\" class=\"node\">\n<title>155</title>\n<path fill=\"#80c0ee\" stroke=\"#000000\" d=\"M15782.5,-53C15782.5,-53 15571.5,-53 15571.5,-53 15565.5,-53 15559.5,-47 15559.5,-41 15559.5,-41 15559.5,-12 15559.5,-12 15559.5,-6 15565.5,0 15571.5,0 15571.5,0 15782.5,0 15782.5,0 15788.5,0 15794.5,-6 15794.5,-12 15794.5,-12 15794.5,-41 15794.5,-41 15794.5,-47 15788.5,-53 15782.5,-53\"/>\n<text text-anchor=\"start\" x=\"15639\" y=\"-37.8\" font-family=\"Helvetica,sans-Serif\" font-size=\"14.00\" fill=\"#000000\">gini = 0.387</text>\n<text text-anchor=\"start\" x=\"15625\" y=\"-22.8\" font-family=\"Helvetica,sans-Serif\" font-size=\"14.00\" fill=\"#000000\">samples = 3067</text>\n<text text-anchor=\"start\" x=\"15567.5\" y=\"-7.8\" font-family=\"Helvetica,sans-Serif\" font-size=\"14.00\" fill=\"#000000\">value = [0, 806, 0, 0, 2261, 0, 0, 0]</text>\n</g>\n<!-- 154&#45;&gt;155 -->\n<g id=\"edge155\" class=\"edge\">\n<title>154&#45;&gt;155</title>\n<path fill=\"none\" stroke=\"#000000\" d=\"M15770.8784,-88.9777C15756.1561,-79.1798 15740.1421,-68.5222 15725.5785,-58.8298\"/>\n<polygon fill=\"#000000\" stroke=\"#000000\" points=\"15727.4561,-55.8752 15717.192,-53.2485 15723.5778,-61.7026 15727.4561,-55.8752\"/>\n</g>\n<!-- 156 -->\n<g id=\"node157\" class=\"node\">\n<title>156</title>\n<path fill=\"#4ba6e7\" stroke=\"#000000\" d=\"M16019,-53C16019,-53 15825,-53 15825,-53 15819,-53 15813,-47 15813,-41 15813,-41 15813,-12 15813,-12 15813,-6 15819,0 15825,0 15825,0 16019,0 16019,0 16025,0 16031,-6 16031,-12 16031,-12 16031,-41 16031,-41 16031,-47 16025,-53 16019,-53\"/>\n<text text-anchor=\"start\" x=\"15888.5\" y=\"-37.8\" font-family=\"Helvetica,sans-Serif\" font-size=\"14.00\" fill=\"#000000\">gini = 0.15</text>\n<text text-anchor=\"start\" x=\"15874\" y=\"-22.8\" font-family=\"Helvetica,sans-Serif\" font-size=\"14.00\" fill=\"#000000\">samples = 159</text>\n<text text-anchor=\"start\" x=\"15821\" y=\"-7.8\" font-family=\"Helvetica,sans-Serif\" font-size=\"14.00\" fill=\"#000000\">value = [0, 13, 0, 0, 146, 0, 0, 0]</text>\n</g>\n<!-- 154&#45;&gt;156 -->\n<g id=\"edge156\" class=\"edge\">\n<title>154&#45;&gt;156</title>\n<path fill=\"none\" stroke=\"#000000\" d=\"M15857.2563,-88.9777C15866.9351,-79.6376 15877.4235,-69.5163 15887.0832,-60.1947\"/>\n<polygon fill=\"#000000\" stroke=\"#000000\" points=\"15889.5159,-62.7111 15894.2814,-53.2485 15884.6551,-57.674 15889.5159,-62.7111\"/>\n</g>\n<!-- 159 -->\n<g id=\"node160\" class=\"node\">\n<title>159</title>\n<path fill=\"#41a1e6\" stroke=\"#000000\" d=\"M16582.5,-261C16582.5,-261 16371.5,-261 16371.5,-261 16365.5,-261 16359.5,-255 16359.5,-249 16359.5,-249 16359.5,-205 16359.5,-205 16359.5,-199 16365.5,-193 16371.5,-193 16371.5,-193 16582.5,-193 16582.5,-193 16588.5,-193 16594.5,-199 16594.5,-205 16594.5,-205 16594.5,-249 16594.5,-249 16594.5,-255 16588.5,-261 16582.5,-261\"/>\n<text text-anchor=\"start\" x=\"16386.5\" y=\"-245.8\" font-family=\"Helvetica,sans-Serif\" font-size=\"14.00\" fill=\"#000000\">Fwd Packets/s ≤ 43961.354</text>\n<text text-anchor=\"start\" x=\"16439\" y=\"-230.8\" font-family=\"Helvetica,sans-Serif\" font-size=\"14.00\" fill=\"#000000\">gini = 0.076</text>\n<text text-anchor=\"start\" x=\"16425\" y=\"-215.8\" font-family=\"Helvetica,sans-Serif\" font-size=\"14.00\" fill=\"#000000\">samples = 7132</text>\n<text text-anchor=\"start\" x=\"16367.5\" y=\"-200.8\" font-family=\"Helvetica,sans-Serif\" font-size=\"14.00\" fill=\"#000000\">value = [0, 284, 0, 0, 6848, 0, 0, 0]</text>\n</g>\n<!-- 158&#45;&gt;159 -->\n<g id=\"edge159\" class=\"edge\">\n<title>158&#45;&gt;159</title>\n<path fill=\"none\" stroke=\"#000000\" d=\"M16477,-296.9465C16477,-288.776 16477,-279.9318 16477,-271.3697\"/>\n<polygon fill=\"#000000\" stroke=\"#000000\" points=\"16480.5001,-271.13 16477,-261.13 16473.5001,-271.13 16480.5001,-271.13\"/>\n</g>\n<!-- 166 -->\n<g id=\"node167\" class=\"node\">\n<title>166</title>\n<path fill=\"#5fb0ea\" stroke=\"#000000\" d=\"M17314,-261C17314,-261 17128,-261 17128,-261 17122,-261 17116,-255 17116,-249 17116,-249 17116,-205 17116,-205 17116,-199 17122,-193 17128,-193 17128,-193 17314,-193 17314,-193 17320,-193 17326,-199 17326,-205 17326,-205 17326,-249 17326,-249 17326,-255 17320,-261 17314,-261\"/>\n<text text-anchor=\"start\" x=\"17133.5\" y=\"-245.8\" font-family=\"Helvetica,sans-Serif\" font-size=\"14.00\" fill=\"#000000\"> Destination Port ≤ 34961.5</text>\n<text text-anchor=\"start\" x=\"17183\" y=\"-230.8\" font-family=\"Helvetica,sans-Serif\" font-size=\"14.00\" fill=\"#000000\">gini = 0.269</text>\n<text text-anchor=\"start\" x=\"17177\" y=\"-215.8\" font-family=\"Helvetica,sans-Serif\" font-size=\"14.00\" fill=\"#000000\">samples = 75</text>\n<text text-anchor=\"start\" x=\"17124\" y=\"-200.8\" font-family=\"Helvetica,sans-Serif\" font-size=\"14.00\" fill=\"#000000\">value = [0, 12, 0, 0, 63, 0, 0, 0]</text>\n</g>\n<!-- 158&#45;&gt;166 -->\n<g id=\"edge166\" class=\"edge\">\n<title>158&#45;&gt;166</title>\n<path fill=\"none\" stroke=\"#000000\" d=\"M16594.889,-314.5209C16734.8974,-294.9498 16966.896,-262.5199 17105.7405,-243.1115\"/>\n<polygon fill=\"#000000\" stroke=\"#000000\" points=\"17106.5672,-246.5301 17115.9863,-241.6793 17105.5981,-239.5975 17106.5672,-246.5301\"/>\n</g>\n<!-- 160 -->\n<g id=\"node161\" class=\"node\">\n<title>160</title>\n<path fill=\"#44a3e7\" stroke=\"#000000\" d=\"M16493.5,-157C16493.5,-157 16282.5,-157 16282.5,-157 16276.5,-157 16270.5,-151 16270.5,-145 16270.5,-145 16270.5,-101 16270.5,-101 16270.5,-95 16276.5,-89 16282.5,-89 16282.5,-89 16493.5,-89 16493.5,-89 16499.5,-89 16505.5,-95 16505.5,-101 16505.5,-101 16505.5,-145 16505.5,-145 16505.5,-151 16499.5,-157 16493.5,-157\"/>\n<text text-anchor=\"start\" x=\"16281.5\" y=\"-141.8\" font-family=\"Helvetica,sans-Serif\" font-size=\"14.00\" fill=\"#000000\"> Fwd Packet Length Max ≤ 292.0</text>\n<text text-anchor=\"start\" x=\"16350\" y=\"-126.8\" font-family=\"Helvetica,sans-Serif\" font-size=\"14.00\" fill=\"#000000\">gini = 0.103</text>\n<text text-anchor=\"start\" x=\"16336\" y=\"-111.8\" font-family=\"Helvetica,sans-Serif\" font-size=\"14.00\" fill=\"#000000\">samples = 2766</text>\n<text text-anchor=\"start\" x=\"16278.5\" y=\"-96.8\" font-family=\"Helvetica,sans-Serif\" font-size=\"14.00\" fill=\"#000000\">value = [0, 151, 0, 0, 2615, 0, 0, 0]</text>\n</g>\n<!-- 159&#45;&gt;160 -->\n<g id=\"edge160\" class=\"edge\">\n<title>159&#45;&gt;160</title>\n<path fill=\"none\" stroke=\"#000000\" d=\"M16447.8581,-192.9465C16440.1745,-183.968 16431.7947,-174.1758 16423.8041,-164.8385\"/>\n<polygon fill=\"#000000\" stroke=\"#000000\" points=\"16426.3685,-162.4521 16417.2074,-157.13 16421.0501,-167.0034 16426.3685,-162.4521\"/>\n</g>\n<!-- 163 -->\n<g id=\"node164\" class=\"node\">\n<title>163</title>\n<path fill=\"#3fa0e6\" stroke=\"#000000\" d=\"M16746.5,-157C16746.5,-157 16535.5,-157 16535.5,-157 16529.5,-157 16523.5,-151 16523.5,-145 16523.5,-145 16523.5,-101 16523.5,-101 16523.5,-95 16529.5,-89 16535.5,-89 16535.5,-89 16746.5,-89 16746.5,-89 16752.5,-89 16758.5,-95 16758.5,-101 16758.5,-101 16758.5,-145 16758.5,-145 16758.5,-151 16752.5,-157 16746.5,-157\"/>\n<text text-anchor=\"start\" x=\"16549\" y=\"-141.8\" font-family=\"Helvetica,sans-Serif\" font-size=\"14.00\" fill=\"#000000\">Flow Bytes/s ≤ 244071432.0</text>\n<text text-anchor=\"start\" x=\"16603\" y=\"-126.8\" font-family=\"Helvetica,sans-Serif\" font-size=\"14.00\" fill=\"#000000\">gini = 0.059</text>\n<text text-anchor=\"start\" x=\"16589\" y=\"-111.8\" font-family=\"Helvetica,sans-Serif\" font-size=\"14.00\" fill=\"#000000\">samples = 4366</text>\n<text text-anchor=\"start\" x=\"16531.5\" y=\"-96.8\" font-family=\"Helvetica,sans-Serif\" font-size=\"14.00\" fill=\"#000000\">value = [0, 133, 0, 0, 4233, 0, 0, 0]</text>\n</g>\n<!-- 159&#45;&gt;163 -->\n<g id=\"edge163\" class=\"edge\">\n<title>159&#45;&gt;163</title>\n<path fill=\"none\" stroke=\"#000000\" d=\"M16530.6997,-192.9465C16545.9909,-183.2497 16562.7785,-172.6039 16578.5429,-162.6069\"/>\n<polygon fill=\"#000000\" stroke=\"#000000\" points=\"16580.6089,-165.4412 16587.1796,-157.13 16576.8601,-159.5297 16580.6089,-165.4412\"/>\n</g>\n<!-- 161 -->\n<g id=\"node162\" class=\"node\">\n<title>161</title>\n<path fill=\"#44a3e6\" stroke=\"#000000\" d=\"M16272.5,-53C16272.5,-53 16061.5,-53 16061.5,-53 16055.5,-53 16049.5,-47 16049.5,-41 16049.5,-41 16049.5,-12 16049.5,-12 16049.5,-6 16055.5,0 16061.5,0 16061.5,0 16272.5,0 16272.5,0 16278.5,0 16284.5,-6 16284.5,-12 16284.5,-12 16284.5,-41 16284.5,-41 16284.5,-47 16278.5,-53 16272.5,-53\"/>\n<text text-anchor=\"start\" x=\"16129\" y=\"-37.8\" font-family=\"Helvetica,sans-Serif\" font-size=\"14.00\" fill=\"#000000\">gini = 0.101</text>\n<text text-anchor=\"start\" x=\"16115\" y=\"-22.8\" font-family=\"Helvetica,sans-Serif\" font-size=\"14.00\" fill=\"#000000\">samples = 2754</text>\n<text text-anchor=\"start\" x=\"16057.5\" y=\"-7.8\" font-family=\"Helvetica,sans-Serif\" font-size=\"14.00\" fill=\"#000000\">value = [0, 147, 0, 0, 2607, 0, 0, 0]</text>\n</g>\n<!-- 160&#45;&gt;161 -->\n<g id=\"edge161\" class=\"edge\">\n<title>160&#45;&gt;161</title>\n<path fill=\"none\" stroke=\"#000000\" d=\"M16310.0837,-88.9777C16286.3822,-78.6284 16260.4843,-67.32 16237.3151,-57.2032\"/>\n<polygon fill=\"#000000\" stroke=\"#000000\" points=\"16238.4718,-53.8892 16227.9067,-53.095 16235.6706,-60.3043 16238.4718,-53.8892\"/>\n</g>\n<!-- 162 -->\n<g id=\"node163\" class=\"node\">\n<title>162</title>\n<path fill=\"#9ccef2\" stroke=\"#000000\" d=\"M16485,-53C16485,-53 16315,-53 16315,-53 16309,-53 16303,-47 16303,-41 16303,-41 16303,-12 16303,-12 16303,-6 16309,0 16315,0 16315,0 16485,0 16485,0 16491,0 16497,-6 16497,-12 16497,-12 16497,-41 16497,-41 16497,-47 16491,-53 16485,-53\"/>\n<text text-anchor=\"start\" x=\"16362\" y=\"-37.8\" font-family=\"Helvetica,sans-Serif\" font-size=\"14.00\" fill=\"#000000\">gini = 0.444</text>\n<text text-anchor=\"start\" x=\"16356\" y=\"-22.8\" font-family=\"Helvetica,sans-Serif\" font-size=\"14.00\" fill=\"#000000\">samples = 12</text>\n<text text-anchor=\"start\" x=\"16311\" y=\"-7.8\" font-family=\"Helvetica,sans-Serif\" font-size=\"14.00\" fill=\"#000000\">value = [0, 4, 0, 0, 8, 0, 0, 0]</text>\n</g>\n<!-- 160&#45;&gt;162 -->\n<g id=\"edge162\" class=\"edge\">\n<title>160&#45;&gt;162</title>\n<path fill=\"none\" stroke=\"#000000\" d=\"M16392.2308,-88.9777C16393.267,-80.6449 16394.3805,-71.6903 16395.4317,-63.2364\"/>\n<polygon fill=\"#000000\" stroke=\"#000000\" points=\"16398.9129,-63.604 16396.6738,-53.2485 16391.9664,-62.7401 16398.9129,-63.604\"/>\n</g>\n<!-- 164 -->\n<g id=\"node165\" class=\"node\">\n<title>164</title>\n<path fill=\"#3c9ee5\" stroke=\"#000000\" d=\"M16730.5,-53C16730.5,-53 16527.5,-53 16527.5,-53 16521.5,-53 16515.5,-47 16515.5,-41 16515.5,-41 16515.5,-12 16515.5,-12 16515.5,-6 16521.5,0 16527.5,0 16527.5,0 16730.5,0 16730.5,0 16736.5,0 16742.5,-6 16742.5,-12 16742.5,-12 16742.5,-41 16742.5,-41 16742.5,-47 16736.5,-53 16730.5,-53\"/>\n<text text-anchor=\"start\" x=\"16591\" y=\"-37.8\" font-family=\"Helvetica,sans-Serif\" font-size=\"14.00\" fill=\"#000000\">gini = 0.029</text>\n<text text-anchor=\"start\" x=\"16577\" y=\"-22.8\" font-family=\"Helvetica,sans-Serif\" font-size=\"14.00\" fill=\"#000000\">samples = 1610</text>\n<text text-anchor=\"start\" x=\"16523.5\" y=\"-7.8\" font-family=\"Helvetica,sans-Serif\" font-size=\"14.00\" fill=\"#000000\">value = [0, 24, 0, 0, 1586, 0, 0, 0]</text>\n</g>\n<!-- 163&#45;&gt;164 -->\n<g id=\"edge164\" class=\"edge\">\n<title>163&#45;&gt;164</title>\n<path fill=\"none\" stroke=\"#000000\" d=\"M16636.7692,-88.9777C16635.733,-80.6449 16634.6195,-71.6903 16633.5683,-63.2364\"/>\n<polygon fill=\"#000000\" stroke=\"#000000\" points=\"16637.0336,-62.7401 16632.3262,-53.2485 16630.0871,-63.604 16637.0336,-62.7401\"/>\n</g>\n<!-- 165 -->\n<g id=\"node166\" class=\"node\">\n<title>165</title>\n<path fill=\"#41a1e6\" stroke=\"#000000\" d=\"M16983.5,-53C16983.5,-53 16772.5,-53 16772.5,-53 16766.5,-53 16760.5,-47 16760.5,-41 16760.5,-41 16760.5,-12 16760.5,-12 16760.5,-6 16766.5,0 16772.5,0 16772.5,0 16983.5,0 16983.5,0 16989.5,0 16995.5,-6 16995.5,-12 16995.5,-12 16995.5,-41 16995.5,-41 16995.5,-47 16989.5,-53 16983.5,-53\"/>\n<text text-anchor=\"start\" x=\"16840\" y=\"-37.8\" font-family=\"Helvetica,sans-Serif\" font-size=\"14.00\" fill=\"#000000\">gini = 0.076</text>\n<text text-anchor=\"start\" x=\"16826\" y=\"-22.8\" font-family=\"Helvetica,sans-Serif\" font-size=\"14.00\" fill=\"#000000\">samples = 2756</text>\n<text text-anchor=\"start\" x=\"16768.5\" y=\"-7.8\" font-family=\"Helvetica,sans-Serif\" font-size=\"14.00\" fill=\"#000000\">value = [0, 109, 0, 0, 2647, 0, 0, 0]</text>\n</g>\n<!-- 163&#45;&gt;165 -->\n<g id=\"edge165\" class=\"edge\">\n<title>163&#45;&gt;165</title>\n<path fill=\"none\" stroke=\"#000000\" d=\"M16724.5573,-88.9777C16750.2007,-78.5364 16778.2416,-67.1189 16803.2561,-56.9337\"/>\n<polygon fill=\"#000000\" stroke=\"#000000\" points=\"16804.7419,-60.1078 16812.6837,-53.095 16802.1021,-53.6246 16804.7419,-60.1078\"/>\n</g>\n<!-- 167 -->\n<g id=\"node168\" class=\"node\">\n<title>167</title>\n<path fill=\"#44a2e6\" stroke=\"#000000\" d=\"M17310,-157C17310,-157 17132,-157 17132,-157 17126,-157 17120,-151 17120,-145 17120,-145 17120,-101 17120,-101 17120,-95 17126,-89 17132,-89 17132,-89 17310,-89 17310,-89 17316,-89 17322,-95 17322,-101 17322,-101 17322,-145 17322,-145 17322,-151 17316,-157 17310,-157\"/>\n<text text-anchor=\"start\" x=\"17133.5\" y=\"-141.8\" font-family=\"Helvetica,sans-Serif\" font-size=\"14.00\" fill=\"#000000\"> Destination Port ≤ 15820.0</text>\n<text text-anchor=\"start\" x=\"17183\" y=\"-126.8\" font-family=\"Helvetica,sans-Serif\" font-size=\"14.00\" fill=\"#000000\">gini = 0.097</text>\n<text text-anchor=\"start\" x=\"17177\" y=\"-111.8\" font-family=\"Helvetica,sans-Serif\" font-size=\"14.00\" fill=\"#000000\">samples = 39</text>\n<text text-anchor=\"start\" x=\"17128\" y=\"-96.8\" font-family=\"Helvetica,sans-Serif\" font-size=\"14.00\" fill=\"#000000\">value = [0, 2, 0, 0, 37, 0, 0, 0]</text>\n</g>\n<!-- 166&#45;&gt;167 -->\n<g id=\"edge167\" class=\"edge\">\n<title>166&#45;&gt;167</title>\n<path fill=\"none\" stroke=\"#000000\" d=\"M17221,-192.9465C17221,-184.776 17221,-175.9318 17221,-167.3697\"/>\n<polygon fill=\"#000000\" stroke=\"#000000\" points=\"17224.5001,-167.13 17221,-157.13 17217.5001,-167.13 17224.5001,-167.13\"/>\n</g>\n<!-- 170 -->\n<g id=\"node171\" class=\"node\">\n<title>170</title>\n<path fill=\"#85c3ef\" stroke=\"#000000\" d=\"M17644,-157C17644,-157 17458,-157 17458,-157 17452,-157 17446,-151 17446,-145 17446,-145 17446,-101 17446,-101 17446,-95 17452,-89 17458,-89 17458,-89 17644,-89 17644,-89 17650,-89 17656,-95 17656,-101 17656,-101 17656,-145 17656,-145 17656,-151 17650,-157 17644,-157\"/>\n<text text-anchor=\"start\" x=\"17463.5\" y=\"-141.8\" font-family=\"Helvetica,sans-Serif\" font-size=\"14.00\" fill=\"#000000\"> Destination Port ≤ 35600.0</text>\n<text text-anchor=\"start\" x=\"17513\" y=\"-126.8\" font-family=\"Helvetica,sans-Serif\" font-size=\"14.00\" fill=\"#000000\">gini = 0.401</text>\n<text text-anchor=\"start\" x=\"17507\" y=\"-111.8\" font-family=\"Helvetica,sans-Serif\" font-size=\"14.00\" fill=\"#000000\">samples = 36</text>\n<text text-anchor=\"start\" x=\"17454\" y=\"-96.8\" font-family=\"Helvetica,sans-Serif\" font-size=\"14.00\" fill=\"#000000\">value = [0, 10, 0, 0, 26, 0, 0, 0]</text>\n</g>\n<!-- 166&#45;&gt;170 -->\n<g id=\"edge170\" class=\"edge\">\n<title>166&#45;&gt;170</title>\n<path fill=\"none\" stroke=\"#000000\" d=\"M17326.3214,-193.8078C17361.2357,-182.8045 17400.2702,-170.5027 17435.8827,-159.2794\"/>\n<polygon fill=\"#000000\" stroke=\"#000000\" points=\"17437.3447,-162.4884 17445.8303,-156.1444 17435.2406,-155.8121 17437.3447,-162.4884\"/>\n</g>\n<!-- 168 -->\n<g id=\"node169\" class=\"node\">\n<title>168</title>\n<path fill=\"#53aae8\" stroke=\"#000000\" d=\"M17204,-53C17204,-53 17026,-53 17026,-53 17020,-53 17014,-47 17014,-41 17014,-41 17014,-12 17014,-12 17014,-6 17020,0 17026,0 17026,0 17204,0 17204,0 17210,0 17216,-6 17216,-12 17216,-12 17216,-41 17216,-41 17216,-47 17210,-53 17204,-53\"/>\n<text text-anchor=\"start\" x=\"17077\" y=\"-37.8\" font-family=\"Helvetica,sans-Serif\" font-size=\"14.00\" fill=\"#000000\">gini = 0.208</text>\n<text text-anchor=\"start\" x=\"17071\" y=\"-22.8\" font-family=\"Helvetica,sans-Serif\" font-size=\"14.00\" fill=\"#000000\">samples = 17</text>\n<text text-anchor=\"start\" x=\"17022\" y=\"-7.8\" font-family=\"Helvetica,sans-Serif\" font-size=\"14.00\" fill=\"#000000\">value = [0, 2, 0, 0, 15, 0, 0, 0]</text>\n</g>\n<!-- 167&#45;&gt;168 -->\n<g id=\"edge168\" class=\"edge\">\n<title>167&#45;&gt;168</title>\n<path fill=\"none\" stroke=\"#000000\" d=\"M17183.6284,-88.9777C17173.3688,-79.6376 17162.2511,-69.5163 17152.0118,-60.1947\"/>\n<polygon fill=\"#000000\" stroke=\"#000000\" points=\"17154.1326,-57.3923 17144.3817,-53.2485 17149.4202,-62.5686 17154.1326,-57.3923\"/>\n</g>\n<!-- 169 -->\n<g id=\"node170\" class=\"node\">\n<title>169</title>\n<path fill=\"#399de5\" stroke=\"#000000\" d=\"M17424,-53C17424,-53 17246,-53 17246,-53 17240,-53 17234,-47 17234,-41 17234,-41 17234,-12 17234,-12 17234,-6 17240,0 17246,0 17246,0 17424,0 17424,0 17430,0 17436,-6 17436,-12 17436,-12 17436,-41 17436,-41 17436,-47 17430,-53 17424,-53\"/>\n<text text-anchor=\"start\" x=\"17305.5\" y=\"-37.8\" font-family=\"Helvetica,sans-Serif\" font-size=\"14.00\" fill=\"#000000\">gini = 0.0</text>\n<text text-anchor=\"start\" x=\"17291\" y=\"-22.8\" font-family=\"Helvetica,sans-Serif\" font-size=\"14.00\" fill=\"#000000\">samples = 22</text>\n<text text-anchor=\"start\" x=\"17242\" y=\"-7.8\" font-family=\"Helvetica,sans-Serif\" font-size=\"14.00\" fill=\"#000000\">value = [0, 0, 0, 0, 22, 0, 0, 0]</text>\n</g>\n<!-- 167&#45;&gt;169 -->\n<g id=\"edge169\" class=\"edge\">\n<title>167&#45;&gt;169</title>\n<path fill=\"none\" stroke=\"#000000\" d=\"M17261.1921,-88.9777C17272.3342,-79.546 17284.4173,-69.3178 17295.5185,-59.9208\"/>\n<polygon fill=\"#000000\" stroke=\"#000000\" points=\"17298.0295,-62.3809 17303.4008,-53.2485 17293.5068,-57.038 17298.0295,-62.3809\"/>\n</g>\n<!-- 171 -->\n<g id=\"node172\" class=\"node\">\n<title>171</title>\n<path fill=\"#c8e539\" stroke=\"#000000\" d=\"M17636,-53C17636,-53 17466,-53 17466,-53 17460,-53 17454,-47 17454,-41 17454,-41 17454,-12 17454,-12 17454,-6 17460,0 17466,0 17466,0 17636,0 17636,0 17642,0 17648,-6 17648,-12 17648,-12 17648,-41 17648,-41 17648,-47 17642,-53 17636,-53\"/>\n<text text-anchor=\"start\" x=\"17521.5\" y=\"-37.8\" font-family=\"Helvetica,sans-Serif\" font-size=\"14.00\" fill=\"#000000\">gini = 0.0</text>\n<text text-anchor=\"start\" x=\"17511.5\" y=\"-22.8\" font-family=\"Helvetica,sans-Serif\" font-size=\"14.00\" fill=\"#000000\">samples = 1</text>\n<text text-anchor=\"start\" x=\"17462\" y=\"-7.8\" font-family=\"Helvetica,sans-Serif\" font-size=\"14.00\" fill=\"#000000\">value = [0, 1, 0, 0, 0, 0, 0, 0]</text>\n</g>\n<!-- 170&#45;&gt;171 -->\n<g id=\"edge171\" class=\"edge\">\n<title>170&#45;&gt;171</title>\n<path fill=\"none\" stroke=\"#000000\" d=\"M17551,-88.9777C17551,-80.7364 17551,-71.887 17551,-63.5153\"/>\n<polygon fill=\"#000000\" stroke=\"#000000\" points=\"17554.5001,-63.2484 17551,-53.2485 17547.5001,-63.2485 17554.5001,-63.2484\"/>\n</g>\n<!-- 172 -->\n<g id=\"node173\" class=\"node\">\n<title>172</title>\n<path fill=\"#7ebfee\" stroke=\"#000000\" d=\"M17856,-53C17856,-53 17678,-53 17678,-53 17672,-53 17666,-47 17666,-41 17666,-41 17666,-12 17666,-12 17666,-6 17672,0 17678,0 17678,0 17856,0 17856,0 17862,0 17868,-6 17868,-12 17868,-12 17868,-41 17868,-41 17868,-47 17862,-53 17856,-53\"/>\n<text text-anchor=\"start\" x=\"17729\" y=\"-37.8\" font-family=\"Helvetica,sans-Serif\" font-size=\"14.00\" fill=\"#000000\">gini = 0.382</text>\n<text text-anchor=\"start\" x=\"17723\" y=\"-22.8\" font-family=\"Helvetica,sans-Serif\" font-size=\"14.00\" fill=\"#000000\">samples = 35</text>\n<text text-anchor=\"start\" x=\"17674\" y=\"-7.8\" font-family=\"Helvetica,sans-Serif\" font-size=\"14.00\" fill=\"#000000\">value = [0, 9, 0, 0, 26, 0, 0, 0]</text>\n</g>\n<!-- 170&#45;&gt;172 -->\n<g id=\"edge172\" class=\"edge\">\n<title>170&#45;&gt;172</title>\n<path fill=\"none\" stroke=\"#000000\" d=\"M17627.1535,-88.9777C17650.3188,-78.6284 17675.6308,-67.32 17698.2758,-57.2032\"/>\n<polygon fill=\"#000000\" stroke=\"#000000\" points=\"17699.7687,-60.3697 17707.4712,-53.095 17696.9133,-53.9785 17699.7687,-60.3697\"/>\n</g>\n<!-- 174 -->\n<g id=\"node175\" class=\"node\">\n<title>174</title>\n<path fill=\"#6bb6ec\" stroke=\"#000000\" d=\"M19022.5,-365C19022.5,-365 18795.5,-365 18795.5,-365 18789.5,-365 18783.5,-359 18783.5,-353 18783.5,-353 18783.5,-309 18783.5,-309 18783.5,-303 18789.5,-297 18795.5,-297 18795.5,-297 19022.5,-297 19022.5,-297 19028.5,-297 19034.5,-303 19034.5,-309 19034.5,-309 19034.5,-353 19034.5,-353 19034.5,-359 19028.5,-365 19022.5,-365\"/>\n<text text-anchor=\"start\" x=\"18840.5\" y=\"-349.8\" font-family=\"Helvetica,sans-Serif\" font-size=\"14.00\" fill=\"#000000\"> Flow Duration ≤ 44.5</text>\n<text text-anchor=\"start\" x=\"18875.5\" y=\"-334.8\" font-family=\"Helvetica,sans-Serif\" font-size=\"14.00\" fill=\"#000000\">gini = 0.32</text>\n<text text-anchor=\"start\" x=\"18853\" y=\"-319.8\" font-family=\"Helvetica,sans-Serif\" font-size=\"14.00\" fill=\"#000000\">samples = 24614</text>\n<text text-anchor=\"start\" x=\"18791.5\" y=\"-304.8\" font-family=\"Helvetica,sans-Serif\" font-size=\"14.00\" fill=\"#000000\">value = [0, 4925, 0, 0, 19689, 0, 0, 0]</text>\n</g>\n<!-- 173&#45;&gt;174 -->\n<g id=\"edge174\" class=\"edge\">\n<title>173&#45;&gt;174</title>\n<path fill=\"none\" stroke=\"#000000\" d=\"M18909,-400.9465C18909,-392.776 18909,-383.9318 18909,-375.3697\"/>\n<polygon fill=\"#000000\" stroke=\"#000000\" points=\"18912.5001,-375.13 18909,-365.13 18905.5001,-375.13 18912.5001,-375.13\"/>\n</g>\n<!-- 189 -->\n<g id=\"node190\" class=\"node\">\n<title>189</title>\n<path fill=\"#f1f8cc\" stroke=\"#000000\" d=\"M19891.5,-365C19891.5,-365 19688.5,-365 19688.5,-365 19682.5,-365 19676.5,-359 19676.5,-353 19676.5,-353 19676.5,-309 19676.5,-309 19676.5,-303 19682.5,-297 19688.5,-297 19688.5,-297 19891.5,-297 19891.5,-297 19897.5,-297 19903.5,-303 19903.5,-309 19903.5,-309 19903.5,-353 19903.5,-353 19903.5,-359 19897.5,-365 19891.5,-365\"/>\n<text text-anchor=\"start\" x=\"19723.5\" y=\"-349.8\" font-family=\"Helvetica,sans-Serif\" font-size=\"14.00\" fill=\"#000000\"> Source Port ≤ 924.0</text>\n<text text-anchor=\"start\" x=\"19752\" y=\"-334.8\" font-family=\"Helvetica,sans-Serif\" font-size=\"14.00\" fill=\"#000000\">gini = 0.489</text>\n<text text-anchor=\"start\" x=\"19742\" y=\"-319.8\" font-family=\"Helvetica,sans-Serif\" font-size=\"14.00\" fill=\"#000000\">samples = 420</text>\n<text text-anchor=\"start\" x=\"19684.5\" y=\"-304.8\" font-family=\"Helvetica,sans-Serif\" font-size=\"14.00\" fill=\"#000000\">value = [0, 241, 0, 0, 179, 0, 0, 0]</text>\n</g>\n<!-- 173&#45;&gt;189 -->\n<g id=\"edge189\" class=\"edge\">\n<title>173&#45;&gt;189</title>\n<path fill=\"none\" stroke=\"#000000\" d=\"M19034.7577,-420.1546C19202.9497,-400.2999 19499.2879,-365.3179 19666.3839,-345.5926\"/>\n<polygon fill=\"#000000\" stroke=\"#000000\" points=\"19666.9398,-349.0514 19676.4605,-344.4031 19666.1191,-342.0996 19666.9398,-349.0514\"/>\n</g>\n<!-- 175 -->\n<g id=\"node176\" class=\"node\">\n<title>175</title>\n<path fill=\"#64b2eb\" stroke=\"#000000\" d=\"M18728.5,-261C18728.5,-261 18501.5,-261 18501.5,-261 18495.5,-261 18489.5,-255 18489.5,-249 18489.5,-249 18489.5,-205 18489.5,-205 18489.5,-199 18495.5,-193 18501.5,-193 18501.5,-193 18728.5,-193 18728.5,-193 18734.5,-193 18740.5,-199 18740.5,-205 18740.5,-205 18740.5,-249 18740.5,-249 18740.5,-255 18734.5,-261 18728.5,-261\"/>\n<text text-anchor=\"start\" x=\"18523\" y=\"-245.8\" font-family=\"Helvetica,sans-Serif\" font-size=\"14.00\" fill=\"#000000\">Flow Bytes/s ≤ 316500000.0</text>\n<text text-anchor=\"start\" x=\"18577\" y=\"-230.8\" font-family=\"Helvetica,sans-Serif\" font-size=\"14.00\" fill=\"#000000\">gini = 0.294</text>\n<text text-anchor=\"start\" x=\"18559\" y=\"-215.8\" font-family=\"Helvetica,sans-Serif\" font-size=\"14.00\" fill=\"#000000\">samples = 16231</text>\n<text text-anchor=\"start\" x=\"18497.5\" y=\"-200.8\" font-family=\"Helvetica,sans-Serif\" font-size=\"14.00\" fill=\"#000000\">value = [0, 2904, 0, 0, 13327, 0, 0, 0]</text>\n</g>\n<!-- 174&#45;&gt;175 -->\n<g id=\"edge175\" class=\"edge\">\n<title>174&#45;&gt;175</title>\n<path fill=\"none\" stroke=\"#000000\" d=\"M18812.7334,-296.9465C18783.3421,-286.5496 18750.8666,-275.0616 18720.8749,-264.4523\"/>\n<polygon fill=\"#000000\" stroke=\"#000000\" points=\"18721.8264,-261.0765 18711.2316,-261.0411 18719.4919,-267.6757 18721.8264,-261.0765\"/>\n</g>\n<!-- 182 -->\n<g id=\"node183\" class=\"node\">\n<title>182</title>\n<path fill=\"#78bced\" stroke=\"#000000\" d=\"M19194.5,-261C19194.5,-261 18975.5,-261 18975.5,-261 18969.5,-261 18963.5,-255 18963.5,-249 18963.5,-249 18963.5,-205 18963.5,-205 18963.5,-199 18969.5,-193 18975.5,-193 18975.5,-193 19194.5,-193 19194.5,-193 19200.5,-193 19206.5,-199 19206.5,-205 19206.5,-205 19206.5,-249 19206.5,-249 19206.5,-255 19200.5,-261 19194.5,-261\"/>\n<text text-anchor=\"start\" x=\"19016.5\" y=\"-245.8\" font-family=\"Helvetica,sans-Serif\" font-size=\"14.00\" fill=\"#000000\"> Flow Duration ≤ 53.5</text>\n<text text-anchor=\"start\" x=\"19047\" y=\"-230.8\" font-family=\"Helvetica,sans-Serif\" font-size=\"14.00\" fill=\"#000000\">gini = 0.366</text>\n<text text-anchor=\"start\" x=\"19033\" y=\"-215.8\" font-family=\"Helvetica,sans-Serif\" font-size=\"14.00\" fill=\"#000000\">samples = 8383</text>\n<text text-anchor=\"start\" x=\"18971.5\" y=\"-200.8\" font-family=\"Helvetica,sans-Serif\" font-size=\"14.00\" fill=\"#000000\">value = [0, 2021, 0, 0, 6362, 0, 0, 0]</text>\n</g>\n<!-- 174&#45;&gt;182 -->\n<g id=\"edge182\" class=\"edge\">\n<title>174&#45;&gt;182</title>\n<path fill=\"none\" stroke=\"#000000\" d=\"M18966.629,-296.9465C18983.1909,-287.1599 19001.3888,-276.4066 19018.4425,-266.3294\"/>\n<polygon fill=\"#000000\" stroke=\"#000000\" points=\"19020.4128,-269.2306 19027.2415,-261.13 19016.8517,-263.2041 19020.4128,-269.2306\"/>\n</g>\n<!-- 176 -->\n<g id=\"node177\" class=\"node\">\n<title>176</title>\n<path fill=\"#56abe9\" stroke=\"#000000\" d=\"M18345.5,-157C18345.5,-157 18134.5,-157 18134.5,-157 18128.5,-157 18122.5,-151 18122.5,-145 18122.5,-145 18122.5,-101 18122.5,-101 18122.5,-95 18128.5,-89 18134.5,-89 18134.5,-89 18345.5,-89 18345.5,-89 18351.5,-89 18357.5,-95 18357.5,-101 18357.5,-101 18357.5,-145 18357.5,-145 18357.5,-151 18351.5,-157 18345.5,-157\"/>\n<text text-anchor=\"start\" x=\"18173.5\" y=\"-141.8\" font-family=\"Helvetica,sans-Serif\" font-size=\"14.00\" fill=\"#000000\"> Source Port ≤ 679.5</text>\n<text text-anchor=\"start\" x=\"18202\" y=\"-126.8\" font-family=\"Helvetica,sans-Serif\" font-size=\"14.00\" fill=\"#000000\">gini = 0.223</text>\n<text text-anchor=\"start\" x=\"18188\" y=\"-111.8\" font-family=\"Helvetica,sans-Serif\" font-size=\"14.00\" fill=\"#000000\">samples = 4492</text>\n<text text-anchor=\"start\" x=\"18130.5\" y=\"-96.8\" font-family=\"Helvetica,sans-Serif\" font-size=\"14.00\" fill=\"#000000\">value = [0, 575, 0, 0, 3917, 0, 0, 0]</text>\n</g>\n<!-- 175&#45;&gt;176 -->\n<g id=\"edge176\" class=\"edge\">\n<title>175&#45;&gt;176</title>\n<path fill=\"none\" stroke=\"#000000\" d=\"M18492.211,-192.9465C18452.2508,-181.8642 18407.8209,-169.5423 18367.5225,-158.3663\"/>\n<polygon fill=\"#000000\" stroke=\"#000000\" points=\"18368.2152,-154.9263 18357.6435,-155.6265 18366.3444,-161.6717 18368.2152,-154.9263\"/>\n</g>\n<!-- 179 -->\n<g id=\"node180\" class=\"node\">\n<title>179</title>\n<path fill=\"#6ab5eb\" stroke=\"#000000\" d=\"M18724.5,-157C18724.5,-157 18505.5,-157 18505.5,-157 18499.5,-157 18493.5,-151 18493.5,-145 18493.5,-145 18493.5,-101 18493.5,-101 18493.5,-95 18499.5,-89 18505.5,-89 18505.5,-89 18724.5,-89 18724.5,-89 18730.5,-89 18736.5,-95 18736.5,-101 18736.5,-101 18736.5,-145 18736.5,-145 18736.5,-151 18730.5,-157 18724.5,-157\"/>\n<text text-anchor=\"start\" x=\"18508.5\" y=\"-141.8\" font-family=\"Helvetica,sans-Serif\" font-size=\"14.00\" fill=\"#000000\"> Fwd Packet Length Max ≤ 409.0</text>\n<text text-anchor=\"start\" x=\"18577\" y=\"-126.8\" font-family=\"Helvetica,sans-Serif\" font-size=\"14.00\" fill=\"#000000\">gini = 0.318</text>\n<text text-anchor=\"start\" x=\"18559\" y=\"-111.8\" font-family=\"Helvetica,sans-Serif\" font-size=\"14.00\" fill=\"#000000\">samples = 11739</text>\n<text text-anchor=\"start\" x=\"18501.5\" y=\"-96.8\" font-family=\"Helvetica,sans-Serif\" font-size=\"14.00\" fill=\"#000000\">value = [0, 2329, 0, 0, 9410, 0, 0, 0]</text>\n</g>\n<!-- 175&#45;&gt;179 -->\n<g id=\"edge179\" class=\"edge\">\n<title>175&#45;&gt;179</title>\n<path fill=\"none\" stroke=\"#000000\" d=\"M18615,-192.9465C18615,-184.776 18615,-175.9318 18615,-167.3697\"/>\n<polygon fill=\"#000000\" stroke=\"#000000\" points=\"18618.5001,-167.13 18615,-157.13 18611.5001,-167.13 18618.5001,-167.13\"/>\n</g>\n<!-- 177 -->\n<g id=\"node178\" class=\"node\">\n<title>177</title>\n<path fill=\"#62b1ea\" stroke=\"#000000\" d=\"M18092,-53C18092,-53 17898,-53 17898,-53 17892,-53 17886,-47 17886,-41 17886,-41 17886,-12 17886,-12 17886,-6 17892,0 17898,0 17898,0 18092,0 18092,0 18098,0 18104,-6 18104,-12 18104,-12 18104,-41 18104,-41 18104,-47 18098,-53 18092,-53\"/>\n<text text-anchor=\"start\" x=\"17957\" y=\"-37.8\" font-family=\"Helvetica,sans-Serif\" font-size=\"14.00\" fill=\"#000000\">gini = 0.285</text>\n<text text-anchor=\"start\" x=\"17947\" y=\"-22.8\" font-family=\"Helvetica,sans-Serif\" font-size=\"14.00\" fill=\"#000000\">samples = 389</text>\n<text text-anchor=\"start\" x=\"17894\" y=\"-7.8\" font-family=\"Helvetica,sans-Serif\" font-size=\"14.00\" fill=\"#000000\">value = [0, 67, 0, 0, 322, 0, 0, 0]</text>\n</g>\n<!-- 176&#45;&gt;177 -->\n<g id=\"edge177\" class=\"edge\">\n<title>176&#45;&gt;177</title>\n<path fill=\"none\" stroke=\"#000000\" d=\"M18153.6222,-88.9777C18126.9964,-78.4904 18097.8704,-67.0183 18071.9253,-56.7992\"/>\n<polygon fill=\"#000000\" stroke=\"#000000\" points=\"18073.108,-53.5033 18062.5211,-53.095 18070.5427,-60.0163 18073.108,-53.5033\"/>\n</g>\n<!-- 178 -->\n<g id=\"node179\" class=\"node\">\n<title>178</title>\n<path fill=\"#55abe9\" stroke=\"#000000\" d=\"M18345.5,-53C18345.5,-53 18134.5,-53 18134.5,-53 18128.5,-53 18122.5,-47 18122.5,-41 18122.5,-41 18122.5,-12 18122.5,-12 18122.5,-6 18128.5,0 18134.5,0 18134.5,0 18345.5,0 18345.5,0 18351.5,0 18357.5,-6 18357.5,-12 18357.5,-12 18357.5,-41 18357.5,-41 18357.5,-47 18351.5,-53 18345.5,-53\"/>\n<text text-anchor=\"start\" x=\"18202\" y=\"-37.8\" font-family=\"Helvetica,sans-Serif\" font-size=\"14.00\" fill=\"#000000\">gini = 0.217</text>\n<text text-anchor=\"start\" x=\"18188\" y=\"-22.8\" font-family=\"Helvetica,sans-Serif\" font-size=\"14.00\" fill=\"#000000\">samples = 4103</text>\n<text text-anchor=\"start\" x=\"18130.5\" y=\"-7.8\" font-family=\"Helvetica,sans-Serif\" font-size=\"14.00\" fill=\"#000000\">value = [0, 508, 0, 0, 3595, 0, 0, 0]</text>\n</g>\n<!-- 176&#45;&gt;178 -->\n<g id=\"edge178\" class=\"edge\">\n<title>176&#45;&gt;178</title>\n<path fill=\"none\" stroke=\"#000000\" d=\"M18240,-88.9777C18240,-80.7364 18240,-71.887 18240,-63.5153\"/>\n<polygon fill=\"#000000\" stroke=\"#000000\" points=\"18243.5001,-63.2484 18240,-53.2485 18236.5001,-63.2485 18243.5001,-63.2484\"/>\n</g>\n<!-- 180 -->\n<g id=\"node181\" class=\"node\">\n<title>180</title>\n<path fill=\"#6ab5eb\" stroke=\"#000000\" d=\"M18606.5,-53C18606.5,-53 18387.5,-53 18387.5,-53 18381.5,-53 18375.5,-47 18375.5,-41 18375.5,-41 18375.5,-12 18375.5,-12 18375.5,-6 18381.5,0 18387.5,0 18387.5,0 18606.5,0 18606.5,0 18612.5,0 18618.5,-6 18618.5,-12 18618.5,-12 18618.5,-41 18618.5,-41 18618.5,-47 18612.5,-53 18606.5,-53\"/>\n<text text-anchor=\"start\" x=\"18459\" y=\"-37.8\" font-family=\"Helvetica,sans-Serif\" font-size=\"14.00\" fill=\"#000000\">gini = 0.318</text>\n<text text-anchor=\"start\" x=\"18441\" y=\"-22.8\" font-family=\"Helvetica,sans-Serif\" font-size=\"14.00\" fill=\"#000000\">samples = 11724</text>\n<text text-anchor=\"start\" x=\"18383.5\" y=\"-7.8\" font-family=\"Helvetica,sans-Serif\" font-size=\"14.00\" fill=\"#000000\">value = [0, 2321, 0, 0, 9403, 0, 0, 0]</text>\n</g>\n<!-- 179&#45;&gt;180 -->\n<g id=\"edge180\" class=\"edge\">\n<title>179&#45;&gt;180</title>\n<path fill=\"none\" stroke=\"#000000\" d=\"M18573.3976,-88.9777C18561.7526,-79.4545 18549.1146,-69.1191 18537.5325,-59.6473\"/>\n<polygon fill=\"#000000\" stroke=\"#000000\" points=\"18539.6648,-56.8697 18529.708,-53.2485 18535.2333,-62.2885 18539.6648,-56.8697\"/>\n</g>\n<!-- 181 -->\n<g id=\"node182\" class=\"node\">\n<title>181</title>\n<path fill=\"#f8fce6\" stroke=\"#000000\" d=\"M18819,-53C18819,-53 18649,-53 18649,-53 18643,-53 18637,-47 18637,-41 18637,-41 18637,-12 18637,-12 18637,-6 18643,0 18649,0 18649,0 18819,0 18819,0 18825,0 18831,-6 18831,-12 18831,-12 18831,-41 18831,-41 18831,-47 18825,-53 18819,-53\"/>\n<text text-anchor=\"start\" x=\"18696\" y=\"-37.8\" font-family=\"Helvetica,sans-Serif\" font-size=\"14.00\" fill=\"#000000\">gini = 0.498</text>\n<text text-anchor=\"start\" x=\"18690\" y=\"-22.8\" font-family=\"Helvetica,sans-Serif\" font-size=\"14.00\" fill=\"#000000\">samples = 15</text>\n<text text-anchor=\"start\" x=\"18645\" y=\"-7.8\" font-family=\"Helvetica,sans-Serif\" font-size=\"14.00\" fill=\"#000000\">value = [0, 8, 0, 0, 7, 0, 0, 0]</text>\n</g>\n<!-- 179&#45;&gt;181 -->\n<g id=\"edge181\" class=\"edge\">\n<title>179&#45;&gt;181</title>\n<path fill=\"none\" stroke=\"#000000\" d=\"M18656.9549,-88.9777C18668.6986,-79.4545 18681.4438,-69.1191 18693.124,-59.6473\"/>\n<polygon fill=\"#000000\" stroke=\"#000000\" points=\"18695.4522,-62.2656 18701.0148,-53.2485 18691.0432,-56.8286 18695.4522,-62.2656\"/>\n</g>\n<!-- 183 -->\n<g id=\"node184\" class=\"node\">\n<title>183</title>\n<path fill=\"#7bbeee\" stroke=\"#000000\" d=\"M19194.5,-157C19194.5,-157 18975.5,-157 18975.5,-157 18969.5,-157 18963.5,-151 18963.5,-145 18963.5,-145 18963.5,-101 18963.5,-101 18963.5,-95 18969.5,-89 18975.5,-89 18975.5,-89 19194.5,-89 19194.5,-89 19200.5,-89 19206.5,-95 19206.5,-101 19206.5,-101 19206.5,-145 19206.5,-145 19206.5,-151 19200.5,-157 19194.5,-157\"/>\n<text text-anchor=\"start\" x=\"18997.5\" y=\"-141.8\" font-family=\"Helvetica,sans-Serif\" font-size=\"14.00\" fill=\"#000000\"> Destination Port ≤ 63356.0</text>\n<text text-anchor=\"start\" x=\"19047\" y=\"-126.8\" font-family=\"Helvetica,sans-Serif\" font-size=\"14.00\" fill=\"#000000\">gini = 0.375</text>\n<text text-anchor=\"start\" x=\"19033\" y=\"-111.8\" font-family=\"Helvetica,sans-Serif\" font-size=\"14.00\" fill=\"#000000\">samples = 8021</text>\n<text text-anchor=\"start\" x=\"18971.5\" y=\"-96.8\" font-family=\"Helvetica,sans-Serif\" font-size=\"14.00\" fill=\"#000000\">value = [0, 2002, 0, 0, 6019, 0, 0, 0]</text>\n</g>\n<!-- 182&#45;&gt;183 -->\n<g id=\"edge183\" class=\"edge\">\n<title>182&#45;&gt;183</title>\n<path fill=\"none\" stroke=\"#000000\" d=\"M19085,-192.9465C19085,-184.776 19085,-175.9318 19085,-167.3697\"/>\n<polygon fill=\"#000000\" stroke=\"#000000\" points=\"19088.5001,-167.13 19085,-157.13 19081.5001,-167.13 19088.5001,-167.13\"/>\n</g>\n<!-- 186 -->\n<g id=\"node187\" class=\"node\">\n<title>186</title>\n<path fill=\"#44a2e6\" stroke=\"#000000\" d=\"M19545,-157C19545,-157 19351,-157 19351,-157 19345,-157 19339,-151 19339,-145 19339,-145 19339,-101 19339,-101 19339,-95 19345,-89 19351,-89 19351,-89 19545,-89 19545,-89 19551,-89 19557,-95 19557,-101 19557,-101 19557,-145 19557,-145 19557,-151 19551,-157 19545,-157\"/>\n<text text-anchor=\"start\" x=\"19360\" y=\"-141.8\" font-family=\"Helvetica,sans-Serif\" font-size=\"14.00\" fill=\"#000000\">Flow Bytes/s ≤ 5713851.25</text>\n<text text-anchor=\"start\" x=\"19410\" y=\"-126.8\" font-family=\"Helvetica,sans-Serif\" font-size=\"14.00\" fill=\"#000000\">gini = 0.099</text>\n<text text-anchor=\"start\" x=\"19400\" y=\"-111.8\" font-family=\"Helvetica,sans-Serif\" font-size=\"14.00\" fill=\"#000000\">samples = 362</text>\n<text text-anchor=\"start\" x=\"19347\" y=\"-96.8\" font-family=\"Helvetica,sans-Serif\" font-size=\"14.00\" fill=\"#000000\">value = [0, 19, 0, 0, 343, 0, 0, 0]</text>\n</g>\n<!-- 182&#45;&gt;186 -->\n<g id=\"edge186\" class=\"edge\">\n<title>182&#45;&gt;186</title>\n<path fill=\"none\" stroke=\"#000000\" d=\"M19203.8598,-192.9465C19243.9739,-181.4538 19288.7411,-168.6279 19328.8756,-157.1293\"/>\n<polygon fill=\"#000000\" stroke=\"#000000\" points=\"19330.0543,-160.4325 19338.7035,-154.3136 19328.1263,-153.7032 19330.0543,-160.4325\"/>\n</g>\n<!-- 184 -->\n<g id=\"node185\" class=\"node\">\n<title>184</title>\n<path fill=\"#7cbeee\" stroke=\"#000000\" d=\"M19080.5,-53C19080.5,-53 18861.5,-53 18861.5,-53 18855.5,-53 18849.5,-47 18849.5,-41 18849.5,-41 18849.5,-12 18849.5,-12 18849.5,-6 18855.5,0 18861.5,0 18861.5,0 19080.5,0 19080.5,0 19086.5,0 19092.5,-6 19092.5,-12 19092.5,-12 19092.5,-41 19092.5,-41 19092.5,-47 19086.5,-53 19080.5,-53\"/>\n<text text-anchor=\"start\" x=\"18933\" y=\"-37.8\" font-family=\"Helvetica,sans-Serif\" font-size=\"14.00\" fill=\"#000000\">gini = 0.377</text>\n<text text-anchor=\"start\" x=\"18919\" y=\"-22.8\" font-family=\"Helvetica,sans-Serif\" font-size=\"14.00\" fill=\"#000000\">samples = 7776</text>\n<text text-anchor=\"start\" x=\"18857.5\" y=\"-7.8\" font-family=\"Helvetica,sans-Serif\" font-size=\"14.00\" fill=\"#000000\">value = [0, 1960, 0, 0, 5816, 0, 0, 0]</text>\n</g>\n<!-- 183&#45;&gt;184 -->\n<g id=\"edge184\" class=\"edge\">\n<title>183&#45;&gt;184</title>\n<path fill=\"none\" stroke=\"#000000\" d=\"M19044.8079,-88.9777C19033.6658,-79.546 19021.5827,-69.3178 19010.4815,-59.9208\"/>\n<polygon fill=\"#000000\" stroke=\"#000000\" points=\"19012.4932,-57.038 19002.5992,-53.2485 19007.9705,-62.3809 19012.4932,-57.038\"/>\n</g>\n<!-- 185 -->\n<g id=\"node186\" class=\"node\">\n<title>185</title>\n<path fill=\"#62b1ea\" stroke=\"#000000\" d=\"M19317,-53C19317,-53 19123,-53 19123,-53 19117,-53 19111,-47 19111,-41 19111,-41 19111,-12 19111,-12 19111,-6 19117,0 19123,0 19123,0 19317,0 19317,0 19323,0 19329,-6 19329,-12 19329,-12 19329,-41 19329,-41 19329,-47 19323,-53 19317,-53\"/>\n<text text-anchor=\"start\" x=\"19182\" y=\"-37.8\" font-family=\"Helvetica,sans-Serif\" font-size=\"14.00\" fill=\"#000000\">gini = 0.284</text>\n<text text-anchor=\"start\" x=\"19172\" y=\"-22.8\" font-family=\"Helvetica,sans-Serif\" font-size=\"14.00\" fill=\"#000000\">samples = 245</text>\n<text text-anchor=\"start\" x=\"19119\" y=\"-7.8\" font-family=\"Helvetica,sans-Serif\" font-size=\"14.00\" fill=\"#000000\">value = [0, 42, 0, 0, 203, 0, 0, 0]</text>\n</g>\n<!-- 183&#45;&gt;185 -->\n<g id=\"edge185\" class=\"edge\">\n<title>183&#45;&gt;185</title>\n<path fill=\"none\" stroke=\"#000000\" d=\"M19132.5959,-88.9777C19146.1748,-79.2713 19160.9339,-68.7213 19174.3912,-59.1018\"/>\n<polygon fill=\"#000000\" stroke=\"#000000\" points=\"19176.4799,-61.9111 19182.5798,-53.2485 19172.4092,-56.2164 19176.4799,-61.9111\"/>\n</g>\n<!-- 187 -->\n<g id=\"node188\" class=\"node\">\n<title>187</title>\n<path fill=\"#58ace9\" stroke=\"#000000\" d=\"M19537,-53C19537,-53 19359,-53 19359,-53 19353,-53 19347,-47 19347,-41 19347,-41 19347,-12 19347,-12 19347,-6 19353,0 19359,0 19359,0 19537,0 19537,0 19543,0 19549,-6 19549,-12 19549,-12 19549,-41 19549,-41 19549,-47 19543,-53 19537,-53\"/>\n<text text-anchor=\"start\" x=\"19410\" y=\"-37.8\" font-family=\"Helvetica,sans-Serif\" font-size=\"14.00\" fill=\"#000000\">gini = 0.236</text>\n<text text-anchor=\"start\" x=\"19404\" y=\"-22.8\" font-family=\"Helvetica,sans-Serif\" font-size=\"14.00\" fill=\"#000000\">samples = 66</text>\n<text text-anchor=\"start\" x=\"19355\" y=\"-7.8\" font-family=\"Helvetica,sans-Serif\" font-size=\"14.00\" fill=\"#000000\">value = [0, 9, 0, 0, 57, 0, 0, 0]</text>\n</g>\n<!-- 186&#45;&gt;187 -->\n<g id=\"edge187\" class=\"edge\">\n<title>186&#45;&gt;187</title>\n<path fill=\"none\" stroke=\"#000000\" d=\"M19448,-88.9777C19448,-80.7364 19448,-71.887 19448,-63.5153\"/>\n<polygon fill=\"#000000\" stroke=\"#000000\" points=\"19451.5001,-63.2484 19448,-53.2485 19444.5001,-63.2485 19451.5001,-63.2484\"/>\n</g>\n<!-- 188 -->\n<g id=\"node189\" class=\"node\">\n<title>188</title>\n<path fill=\"#40a0e6\" stroke=\"#000000\" d=\"M19773,-53C19773,-53 19579,-53 19579,-53 19573,-53 19567,-47 19567,-41 19567,-41 19567,-12 19567,-12 19567,-6 19573,0 19579,0 19579,0 19773,0 19773,0 19779,0 19785,-6 19785,-12 19785,-12 19785,-41 19785,-41 19785,-47 19779,-53 19773,-53\"/>\n<text text-anchor=\"start\" x=\"19638\" y=\"-37.8\" font-family=\"Helvetica,sans-Serif\" font-size=\"14.00\" fill=\"#000000\">gini = 0.065</text>\n<text text-anchor=\"start\" x=\"19628\" y=\"-22.8\" font-family=\"Helvetica,sans-Serif\" font-size=\"14.00\" fill=\"#000000\">samples = 296</text>\n<text text-anchor=\"start\" x=\"19575\" y=\"-7.8\" font-family=\"Helvetica,sans-Serif\" font-size=\"14.00\" fill=\"#000000\">value = [0, 10, 0, 0, 286, 0, 0, 0]</text>\n</g>\n<!-- 186&#45;&gt;188 -->\n<g id=\"edge188\" class=\"edge\">\n<title>186&#45;&gt;188</title>\n<path fill=\"none\" stroke=\"#000000\" d=\"M19528.3843,-88.9777C19552.9451,-78.5824 19579.7922,-67.2195 19603.7763,-57.0684\"/>\n<polygon fill=\"#000000\" stroke=\"#000000\" points=\"19605.3192,-60.216 19613.1641,-53.095 19602.5907,-53.7696 19605.3192,-60.216\"/>\n</g>\n<!-- 190 -->\n<g id=\"node191\" class=\"node\">\n<title>190</title>\n<path fill=\"#e3f29c\" stroke=\"#000000\" d=\"M19908,-261C19908,-261 19672,-261 19672,-261 19666,-261 19660,-255 19660,-249 19660,-249 19660,-205 19660,-205 19660,-199 19666,-193 19672,-193 19672,-193 19908,-193 19908,-193 19914,-193 19920,-199 19920,-205 19920,-205 19920,-249 19920,-249 19920,-255 19914,-261 19908,-261\"/>\n<text text-anchor=\"start\" x=\"19668\" y=\"-245.8\" font-family=\"Helvetica,sans-Serif\" font-size=\"14.00\" fill=\"#000000\">Total Length of Fwd Packets ≤ 1024.0</text>\n<text text-anchor=\"start\" x=\"19752\" y=\"-230.8\" font-family=\"Helvetica,sans-Serif\" font-size=\"14.00\" fill=\"#000000\">gini = 0.444</text>\n<text text-anchor=\"start\" x=\"19742\" y=\"-215.8\" font-family=\"Helvetica,sans-Serif\" font-size=\"14.00\" fill=\"#000000\">samples = 361</text>\n<text text-anchor=\"start\" x=\"19684.5\" y=\"-200.8\" font-family=\"Helvetica,sans-Serif\" font-size=\"14.00\" fill=\"#000000\">value = [0, 241, 0, 0, 120, 0, 0, 0]</text>\n</g>\n<!-- 189&#45;&gt;190 -->\n<g id=\"edge190\" class=\"edge\">\n<title>189&#45;&gt;190</title>\n<path fill=\"none\" stroke=\"#000000\" d=\"M19790,-296.9465C19790,-288.776 19790,-279.9318 19790,-271.3697\"/>\n<polygon fill=\"#000000\" stroke=\"#000000\" points=\"19793.5001,-271.13 19790,-261.13 19786.5001,-271.13 19793.5001,-271.13\"/>\n</g>\n<!-- 195 -->\n<g id=\"node196\" class=\"node\">\n<title>195</title>\n<path fill=\"#399de5\" stroke=\"#000000\" d=\"M20128,-253.5C20128,-253.5 19950,-253.5 19950,-253.5 19944,-253.5 19938,-247.5 19938,-241.5 19938,-241.5 19938,-212.5 19938,-212.5 19938,-206.5 19944,-200.5 19950,-200.5 19950,-200.5 20128,-200.5 20128,-200.5 20134,-200.5 20140,-206.5 20140,-212.5 20140,-212.5 20140,-241.5 20140,-241.5 20140,-247.5 20134,-253.5 20128,-253.5\"/>\n<text text-anchor=\"start\" x=\"20009.5\" y=\"-238.3\" font-family=\"Helvetica,sans-Serif\" font-size=\"14.00\" fill=\"#000000\">gini = 0.0</text>\n<text text-anchor=\"start\" x=\"19995\" y=\"-223.3\" font-family=\"Helvetica,sans-Serif\" font-size=\"14.00\" fill=\"#000000\">samples = 59</text>\n<text text-anchor=\"start\" x=\"19946\" y=\"-208.3\" font-family=\"Helvetica,sans-Serif\" font-size=\"14.00\" fill=\"#000000\">value = [0, 0, 0, 0, 59, 0, 0, 0]</text>\n</g>\n<!-- 189&#45;&gt;195 -->\n<g id=\"edge195\" class=\"edge\">\n<title>189&#45;&gt;195</title>\n<path fill=\"none\" stroke=\"#000000\" d=\"M19871.5319,-296.9465C19901.9918,-284.2243 19936.3629,-269.8685 19966.005,-257.4879\"/>\n<polygon fill=\"#000000\" stroke=\"#000000\" points=\"19967.5734,-260.6259 19975.4519,-253.5422 19964.8755,-254.1667 19967.5734,-260.6259\"/>\n</g>\n<!-- 191 -->\n<g id=\"node192\" class=\"node\">\n<title>191</title>\n<path fill=\"#e0f08f\" stroke=\"#000000\" d=\"M19897.5,-157C19897.5,-157 19694.5,-157 19694.5,-157 19688.5,-157 19682.5,-151 19682.5,-145 19682.5,-145 19682.5,-101 19682.5,-101 19682.5,-95 19688.5,-89 19694.5,-89 19694.5,-89 19897.5,-89 19897.5,-89 19903.5,-89 19909.5,-95 19909.5,-101 19909.5,-101 19909.5,-145 19909.5,-145 19909.5,-151 19903.5,-157 19897.5,-157\"/>\n<text text-anchor=\"start\" x=\"19729.5\" y=\"-141.8\" font-family=\"Helvetica,sans-Serif\" font-size=\"14.00\" fill=\"#000000\"> Source Port ≤ 706.5</text>\n<text text-anchor=\"start\" x=\"19758\" y=\"-126.8\" font-family=\"Helvetica,sans-Serif\" font-size=\"14.00\" fill=\"#000000\">gini = 0.423</text>\n<text text-anchor=\"start\" x=\"19748\" y=\"-111.8\" font-family=\"Helvetica,sans-Serif\" font-size=\"14.00\" fill=\"#000000\">samples = 346</text>\n<text text-anchor=\"start\" x=\"19690.5\" y=\"-96.8\" font-family=\"Helvetica,sans-Serif\" font-size=\"14.00\" fill=\"#000000\">value = [0, 241, 0, 0, 105, 0, 0, 0]</text>\n</g>\n<!-- 190&#45;&gt;191 -->\n<g id=\"edge191\" class=\"edge\">\n<title>190&#45;&gt;191</title>\n<path fill=\"none\" stroke=\"#000000\" d=\"M19791.9646,-192.9465C19792.436,-184.776 19792.9462,-175.9318 19793.4402,-167.3697\"/>\n<polygon fill=\"#000000\" stroke=\"#000000\" points=\"19796.9491,-167.315 19794.031,-157.13 19789.9607,-166.9118 19796.9491,-167.315\"/>\n</g>\n<!-- 194 -->\n<g id=\"node195\" class=\"node\">\n<title>194</title>\n<path fill=\"#399de5\" stroke=\"#000000\" d=\"M20118,-149.5C20118,-149.5 19940,-149.5 19940,-149.5 19934,-149.5 19928,-143.5 19928,-137.5 19928,-137.5 19928,-108.5 19928,-108.5 19928,-102.5 19934,-96.5 19940,-96.5 19940,-96.5 20118,-96.5 20118,-96.5 20124,-96.5 20130,-102.5 20130,-108.5 20130,-108.5 20130,-137.5 20130,-137.5 20130,-143.5 20124,-149.5 20118,-149.5\"/>\n<text text-anchor=\"start\" x=\"19999.5\" y=\"-134.3\" font-family=\"Helvetica,sans-Serif\" font-size=\"14.00\" fill=\"#000000\">gini = 0.0</text>\n<text text-anchor=\"start\" x=\"19985\" y=\"-119.3\" font-family=\"Helvetica,sans-Serif\" font-size=\"14.00\" fill=\"#000000\">samples = 15</text>\n<text text-anchor=\"start\" x=\"19936\" y=\"-104.3\" font-family=\"Helvetica,sans-Serif\" font-size=\"14.00\" fill=\"#000000\">value = [0, 0, 0, 0, 15, 0, 0, 0]</text>\n</g>\n<!-- 190&#45;&gt;194 -->\n<g id=\"edge194\" class=\"edge\">\n<title>190&#45;&gt;194</title>\n<path fill=\"none\" stroke=\"#000000\" d=\"M19868.2575,-192.9465C19897.3676,-180.2794 19930.1993,-165.9928 19958.5668,-153.6488\"/>\n<polygon fill=\"#000000\" stroke=\"#000000\" points=\"19960.2311,-156.7416 19968.0041,-149.5422 19957.438,-150.323 19960.2311,-156.7416\"/>\n</g>\n<!-- 192 -->\n<g id=\"node193\" class=\"node\">\n<title>192</title>\n<path fill=\"#cfe853\" stroke=\"#000000\" d=\"M19993,-53C19993,-53 19815,-53 19815,-53 19809,-53 19803,-47 19803,-41 19803,-41 19803,-12 19803,-12 19803,-6 19809,0 19815,0 19815,0 19993,0 19993,0 19999,0 20005,-6 20005,-12 20005,-12 20005,-41 20005,-41 20005,-47 19999,-53 19993,-53\"/>\n<text text-anchor=\"start\" x=\"19866\" y=\"-37.8\" font-family=\"Helvetica,sans-Serif\" font-size=\"14.00\" fill=\"#000000\">gini = 0.208</text>\n<text text-anchor=\"start\" x=\"19860\" y=\"-22.8\" font-family=\"Helvetica,sans-Serif\" font-size=\"14.00\" fill=\"#000000\">samples = 51</text>\n<text text-anchor=\"start\" x=\"19811\" y=\"-7.8\" font-family=\"Helvetica,sans-Serif\" font-size=\"14.00\" fill=\"#000000\">value = [0, 45, 0, 0, 6, 0, 0, 0]</text>\n</g>\n<!-- 191&#45;&gt;192 -->\n<g id=\"edge192\" class=\"edge\">\n<title>191&#45;&gt;192</title>\n<path fill=\"none\" stroke=\"#000000\" d=\"M19834.0768,-88.9777C19844.6324,-79.546 19856.0796,-69.3178 19866.5964,-59.9208\"/>\n<polygon fill=\"#000000\" stroke=\"#000000\" points=\"19868.939,-62.5213 19874.0639,-53.2485 19864.2749,-57.3015 19868.939,-62.5213\"/>\n</g>\n<!-- 193 -->\n<g id=\"node194\" class=\"node\">\n<title>193</title>\n<path fill=\"#e4f29d\" stroke=\"#000000\" d=\"M20229,-53C20229,-53 20035,-53 20035,-53 20029,-53 20023,-47 20023,-41 20023,-41 20023,-12 20023,-12 20023,-6 20029,0 20035,0 20035,0 20229,0 20229,0 20235,0 20241,-6 20241,-12 20241,-12 20241,-41 20241,-41 20241,-47 20235,-53 20229,-53\"/>\n<text text-anchor=\"start\" x=\"20094\" y=\"-37.8\" font-family=\"Helvetica,sans-Serif\" font-size=\"14.00\" fill=\"#000000\">gini = 0.446</text>\n<text text-anchor=\"start\" x=\"20084\" y=\"-22.8\" font-family=\"Helvetica,sans-Serif\" font-size=\"14.00\" fill=\"#000000\">samples = 295</text>\n<text text-anchor=\"start\" x=\"20031\" y=\"-7.8\" font-family=\"Helvetica,sans-Serif\" font-size=\"14.00\" fill=\"#000000\">value = [0, 196, 0, 0, 99, 0, 0, 0]</text>\n</g>\n<!-- 191&#45;&gt;193 -->\n<g id=\"edge193\" class=\"edge\">\n<title>191&#45;&gt;193</title>\n<path fill=\"none\" stroke=\"#000000\" d=\"M19909.7543,-90.3295C19948.5523,-79.1866 19991.6742,-66.8019 20029.5315,-55.9292\"/>\n<polygon fill=\"#000000\" stroke=\"#000000\" points=\"20030.9022,-59.1771 20039.5475,-53.0526 20028.9698,-52.4491 20030.9022,-59.1771\"/>\n</g>\n<!-- 197 -->\n<g id=\"node198\" class=\"node\">\n<title>197</title>\n<path fill=\"#c8e539\" stroke=\"#000000\" d=\"M20670,-677C20670,-677 20434,-677 20434,-677 20428,-677 20422,-671 20422,-665 20422,-665 20422,-621 20422,-621 20422,-615 20428,-609 20434,-609 20434,-609 20670,-609 20670,-609 20676,-609 20682,-615 20682,-621 20682,-621 20682,-665 20682,-665 20682,-671 20676,-677 20670,-677\"/>\n<text text-anchor=\"start\" x=\"20482.5\" y=\"-661.8\" font-family=\"Helvetica,sans-Serif\" font-size=\"14.00\" fill=\"#000000\">DestinationIP ≤ 383.5</text>\n<text text-anchor=\"start\" x=\"20514\" y=\"-646.8\" font-family=\"Helvetica,sans-Serif\" font-size=\"14.00\" fill=\"#000000\">gini = 0.004</text>\n<text text-anchor=\"start\" x=\"20491.5\" y=\"-631.8\" font-family=\"Helvetica,sans-Serif\" font-size=\"14.00\" fill=\"#000000\">samples = 132391</text>\n<text text-anchor=\"start\" x=\"20430\" y=\"-616.8\" font-family=\"Helvetica,sans-Serif\" font-size=\"14.00\" fill=\"#000000\">value = [275, 132104, 0, 0, 0, 0, 12, 0]</text>\n</g>\n<!-- 196&#45;&gt;197 -->\n<g id=\"edge197\" class=\"edge\">\n<title>196&#45;&gt;197</title>\n<path fill=\"none\" stroke=\"#000000\" d=\"M20625.9819,-712.9465C20616.2954,-703.7884 20605.7136,-693.7838 20595.6603,-684.2788\"/>\n<polygon fill=\"#000000\" stroke=\"#000000\" points=\"20597.7701,-681.4569 20588.099,-677.13 20592.961,-686.5434 20597.7701,-681.4569\"/>\n</g>\n<!-- 204 -->\n<g id=\"node205\" class=\"node\">\n<title>204</title>\n<path fill=\"#b7f5b2\" stroke=\"#000000\" d=\"M20984,-677C20984,-677 20724,-677 20724,-677 20718,-677 20712,-671 20712,-665 20712,-665 20712,-621 20712,-621 20712,-615 20718,-609 20724,-609 20724,-609 20984,-609 20984,-609 20990,-609 20996,-615 20996,-621 20996,-621 20996,-665 20996,-665 20996,-671 20990,-677 20984,-677\"/>\n<text text-anchor=\"start\" x=\"20787.5\" y=\"-661.8\" font-family=\"Helvetica,sans-Serif\" font-size=\"14.00\" fill=\"#000000\"> Source Port ≤ 488.5</text>\n<text text-anchor=\"start\" x=\"20816\" y=\"-646.8\" font-family=\"Helvetica,sans-Serif\" font-size=\"14.00\" fill=\"#000000\">gini = 0.549</text>\n<text text-anchor=\"start\" x=\"20802\" y=\"-631.8\" font-family=\"Helvetica,sans-Serif\" font-size=\"14.00\" fill=\"#000000\">samples = 5726</text>\n<text text-anchor=\"start\" x=\"20720\" y=\"-616.8\" font-family=\"Helvetica,sans-Serif\" font-size=\"14.00\" fill=\"#000000\">value = [1843, 0, 3357, 188, 279, 3, 9, 47]</text>\n</g>\n<!-- 196&#45;&gt;204 -->\n<g id=\"edge204\" class=\"edge\">\n<title>196&#45;&gt;204</title>\n<path fill=\"none\" stroke=\"#000000\" d=\"M20724.868,-712.9465C20743.1842,-703.0252 20763.3345,-692.1105 20782.1592,-681.9138\"/>\n<polygon fill=\"#000000\" stroke=\"#000000\" points=\"20783.8649,-684.9704 20790.9908,-677.13 20780.5308,-678.8154 20783.8649,-684.9704\"/>\n</g>\n<!-- 198 -->\n<g id=\"node199\" class=\"node\">\n<title>198</title>\n<path fill=\"#c8e539\" stroke=\"#000000\" d=\"M20369.5,-573C20369.5,-573 20150.5,-573 20150.5,-573 20144.5,-573 20138.5,-567 20138.5,-561 20138.5,-561 20138.5,-517 20138.5,-517 20138.5,-511 20144.5,-505 20150.5,-505 20150.5,-505 20369.5,-505 20369.5,-505 20375.5,-505 20381.5,-511 20381.5,-517 20381.5,-517 20381.5,-561 20381.5,-561 20381.5,-567 20375.5,-573 20369.5,-573\"/>\n<text text-anchor=\"start\" x=\"20223.5\" y=\"-557.8\" font-family=\"Helvetica,sans-Serif\" font-size=\"14.00\" fill=\"#000000\">hour ≤ 10.5</text>\n<text text-anchor=\"start\" x=\"20230.5\" y=\"-542.8\" font-family=\"Helvetica,sans-Serif\" font-size=\"14.00\" fill=\"#000000\">gini = 0.0</text>\n<text text-anchor=\"start\" x=\"20199.5\" y=\"-527.8\" font-family=\"Helvetica,sans-Serif\" font-size=\"14.00\" fill=\"#000000\">samples = 132121</text>\n<text text-anchor=\"start\" x=\"20146.5\" y=\"-512.8\" font-family=\"Helvetica,sans-Serif\" font-size=\"14.00\" fill=\"#000000\">value = [5, 132104, 0, 0, 0, 0, 12, 0]</text>\n</g>\n<!-- 197&#45;&gt;198 -->\n<g id=\"edge198\" class=\"edge\">\n<title>197&#45;&gt;198</title>\n<path fill=\"none\" stroke=\"#000000\" d=\"M20456.3883,-608.9465C20427.2719,-598.5763 20395.1081,-587.1207 20365.3844,-576.5342\"/>\n<polygon fill=\"#000000\" stroke=\"#000000\" points=\"20366.4212,-573.1881 20355.8265,-573.13 20364.0725,-579.7824 20366.4212,-573.1881\"/>\n</g>\n<!-- 203 -->\n<g id=\"node204\" class=\"node\">\n<title>203</title>\n<path fill=\"#e58139\" stroke=\"#000000\" d=\"M20645,-565.5C20645,-565.5 20459,-565.5 20459,-565.5 20453,-565.5 20447,-559.5 20447,-553.5 20447,-553.5 20447,-524.5 20447,-524.5 20447,-518.5 20453,-512.5 20459,-512.5 20459,-512.5 20645,-512.5 20645,-512.5 20651,-512.5 20657,-518.5 20657,-524.5 20657,-524.5 20657,-553.5 20657,-553.5 20657,-559.5 20651,-565.5 20645,-565.5\"/>\n<text text-anchor=\"start\" x=\"20522.5\" y=\"-550.3\" font-family=\"Helvetica,sans-Serif\" font-size=\"14.00\" fill=\"#000000\">gini = 0.0</text>\n<text text-anchor=\"start\" x=\"20504\" y=\"-535.3\" font-family=\"Helvetica,sans-Serif\" font-size=\"14.00\" fill=\"#000000\">samples = 270</text>\n<text text-anchor=\"start\" x=\"20455\" y=\"-520.3\" font-family=\"Helvetica,sans-Serif\" font-size=\"14.00\" fill=\"#000000\">value = [270, 0, 0, 0, 0, 0, 0, 0]</text>\n</g>\n<!-- 197&#45;&gt;203 -->\n<g id=\"edge203\" class=\"edge\">\n<title>197&#45;&gt;203</title>\n<path fill=\"none\" stroke=\"#000000\" d=\"M20552,-608.9465C20552,-598.2621 20552,-586.4254 20552,-575.5742\"/>\n<polygon fill=\"#000000\" stroke=\"#000000\" points=\"20555.5001,-575.5421 20552,-565.5422 20548.5001,-575.5422 20555.5001,-575.5421\"/>\n</g>\n<!-- 199 -->\n<g id=\"node200\" class=\"node\">\n<title>199</title>\n<path fill=\"#c8e539\" stroke=\"#000000\" d=\"M20128.5,-461.5C20128.5,-461.5 19917.5,-461.5 19917.5,-461.5 19911.5,-461.5 19905.5,-455.5 19905.5,-449.5 19905.5,-449.5 19905.5,-420.5 19905.5,-420.5 19905.5,-414.5 19911.5,-408.5 19917.5,-408.5 19917.5,-408.5 20128.5,-408.5 20128.5,-408.5 20134.5,-408.5 20140.5,-414.5 20140.5,-420.5 20140.5,-420.5 20140.5,-449.5 20140.5,-449.5 20140.5,-455.5 20134.5,-461.5 20128.5,-461.5\"/>\n<text text-anchor=\"start\" x=\"19993.5\" y=\"-446.3\" font-family=\"Helvetica,sans-Serif\" font-size=\"14.00\" fill=\"#000000\">gini = 0.0</text>\n<text text-anchor=\"start\" x=\"19962.5\" y=\"-431.3\" font-family=\"Helvetica,sans-Serif\" font-size=\"14.00\" fill=\"#000000\">samples = 132104</text>\n<text text-anchor=\"start\" x=\"19913.5\" y=\"-416.3\" font-family=\"Helvetica,sans-Serif\" font-size=\"14.00\" fill=\"#000000\">value = [0, 132104, 0, 0, 0, 0, 0, 0]</text>\n</g>\n<!-- 198&#45;&gt;199 -->\n<g id=\"edge199\" class=\"edge\">\n<title>198&#45;&gt;199</title>\n<path fill=\"none\" stroke=\"#000000\" d=\"M20182.3973,-504.9465C20153.5309,-492.2794 20120.9739,-477.9928 20092.8438,-465.6488\"/>\n<polygon fill=\"#000000\" stroke=\"#000000\" points=\"20094.0491,-462.3555 20083.4855,-461.5422 20091.2362,-468.7655 20094.0491,-462.3555\"/>\n</g>\n<!-- 200 -->\n<g id=\"node201\" class=\"node\">\n<title>200</title>\n<path fill=\"#e88bf0\" stroke=\"#000000\" d=\"M20349,-469C20349,-469 20171,-469 20171,-469 20165,-469 20159,-463 20159,-457 20159,-457 20159,-413 20159,-413 20159,-407 20165,-401 20171,-401 20171,-401 20349,-401 20349,-401 20355,-401 20361,-407 20361,-413 20361,-413 20361,-457 20361,-457 20361,-463 20355,-469 20349,-469\"/>\n<text text-anchor=\"start\" x=\"20204\" y=\"-453.8\" font-family=\"Helvetica,sans-Serif\" font-size=\"14.00\" fill=\"#000000\">SourceIP ≤ 171.0</text>\n<text text-anchor=\"start\" x=\"20222\" y=\"-438.8\" font-family=\"Helvetica,sans-Serif\" font-size=\"14.00\" fill=\"#000000\">gini = 0.415</text>\n<text text-anchor=\"start\" x=\"20216\" y=\"-423.8\" font-family=\"Helvetica,sans-Serif\" font-size=\"14.00\" fill=\"#000000\">samples = 17</text>\n<text text-anchor=\"start\" x=\"20167\" y=\"-408.8\" font-family=\"Helvetica,sans-Serif\" font-size=\"14.00\" fill=\"#000000\">value = [5, 0, 0, 0, 0, 0, 12, 0]</text>\n</g>\n<!-- 198&#45;&gt;200 -->\n<g id=\"edge200\" class=\"edge\">\n<title>198&#45;&gt;200</title>\n<path fill=\"none\" stroke=\"#000000\" d=\"M20260,-504.9465C20260,-496.776 20260,-487.9318 20260,-479.3697\"/>\n<polygon fill=\"#000000\" stroke=\"#000000\" points=\"20263.5001,-479.13 20260,-469.13 20256.5001,-479.13 20263.5001,-479.13\"/>\n</g>\n<!-- 201 -->\n<g id=\"node202\" class=\"node\">\n<title>201</title>\n<path fill=\"#e58139\" stroke=\"#000000\" d=\"M20129,-357.5C20129,-357.5 19959,-357.5 19959,-357.5 19953,-357.5 19947,-351.5 19947,-345.5 19947,-345.5 19947,-316.5 19947,-316.5 19947,-310.5 19953,-304.5 19959,-304.5 19959,-304.5 20129,-304.5 20129,-304.5 20135,-304.5 20141,-310.5 20141,-316.5 20141,-316.5 20141,-345.5 20141,-345.5 20141,-351.5 20135,-357.5 20129,-357.5\"/>\n<text text-anchor=\"start\" x=\"20014.5\" y=\"-342.3\" font-family=\"Helvetica,sans-Serif\" font-size=\"14.00\" fill=\"#000000\">gini = 0.0</text>\n<text text-anchor=\"start\" x=\"20004.5\" y=\"-327.3\" font-family=\"Helvetica,sans-Serif\" font-size=\"14.00\" fill=\"#000000\">samples = 5</text>\n<text text-anchor=\"start\" x=\"19955\" y=\"-312.3\" font-family=\"Helvetica,sans-Serif\" font-size=\"14.00\" fill=\"#000000\">value = [5, 0, 0, 0, 0, 0, 0, 0]</text>\n</g>\n<!-- 200&#45;&gt;201 -->\n<g id=\"edge201\" class=\"edge\">\n<title>200&#45;&gt;201</title>\n<path fill=\"none\" stroke=\"#000000\" d=\"M20189.2735,-400.9465C20163.1936,-388.3895 20133.8085,-374.2411 20108.3249,-361.9712\"/>\n<polygon fill=\"#000000\" stroke=\"#000000\" points=\"20109.6544,-358.7269 20099.126,-357.5422 20106.6177,-365.0339 20109.6544,-358.7269\"/>\n</g>\n<!-- 202 -->\n<g id=\"node203\" class=\"node\">\n<title>202</title>\n<path fill=\"#d739e5\" stroke=\"#000000\" d=\"M20349,-357.5C20349,-357.5 20171,-357.5 20171,-357.5 20165,-357.5 20159,-351.5 20159,-345.5 20159,-345.5 20159,-316.5 20159,-316.5 20159,-310.5 20165,-304.5 20171,-304.5 20171,-304.5 20349,-304.5 20349,-304.5 20355,-304.5 20361,-310.5 20361,-316.5 20361,-316.5 20361,-345.5 20361,-345.5 20361,-351.5 20355,-357.5 20349,-357.5\"/>\n<text text-anchor=\"start\" x=\"20230.5\" y=\"-342.3\" font-family=\"Helvetica,sans-Serif\" font-size=\"14.00\" fill=\"#000000\">gini = 0.0</text>\n<text text-anchor=\"start\" x=\"20216\" y=\"-327.3\" font-family=\"Helvetica,sans-Serif\" font-size=\"14.00\" fill=\"#000000\">samples = 12</text>\n<text text-anchor=\"start\" x=\"20167\" y=\"-312.3\" font-family=\"Helvetica,sans-Serif\" font-size=\"14.00\" fill=\"#000000\">value = [0, 0, 0, 0, 0, 0, 12, 0]</text>\n</g>\n<!-- 200&#45;&gt;202 -->\n<g id=\"edge202\" class=\"edge\">\n<title>200&#45;&gt;202</title>\n<path fill=\"none\" stroke=\"#000000\" d=\"M20260,-400.9465C20260,-390.2621 20260,-378.4254 20260,-367.5742\"/>\n<polygon fill=\"#000000\" stroke=\"#000000\" points=\"20263.5001,-367.5421 20260,-357.5422 20256.5001,-367.5422 20263.5001,-367.5421\"/>\n</g>\n<!-- 205 -->\n<g id=\"node206\" class=\"node\">\n<title>205</title>\n<path fill=\"#e78c4a\" stroke=\"#000000\" d=\"M20963.5,-573C20963.5,-573 20744.5,-573 20744.5,-573 20738.5,-573 20732.5,-567 20732.5,-561 20732.5,-561 20732.5,-517 20732.5,-517 20732.5,-511 20738.5,-505 20744.5,-505 20744.5,-505 20963.5,-505 20963.5,-505 20969.5,-505 20975.5,-511 20975.5,-517 20975.5,-517 20975.5,-561 20975.5,-561 20975.5,-567 20969.5,-573 20963.5,-573\"/>\n<text text-anchor=\"start\" x=\"20784.5\" y=\"-557.8\" font-family=\"Helvetica,sans-Serif\" font-size=\"14.00\" fill=\"#000000\">DestinationIP ≤ 383.5</text>\n<text text-anchor=\"start\" x=\"20816\" y=\"-542.8\" font-family=\"Helvetica,sans-Serif\" font-size=\"14.00\" fill=\"#000000\">gini = 0.156</text>\n<text text-anchor=\"start\" x=\"20802\" y=\"-527.8\" font-family=\"Helvetica,sans-Serif\" font-size=\"14.00\" fill=\"#000000\">samples = 2008</text>\n<text text-anchor=\"start\" x=\"20740.5\" y=\"-512.8\" font-family=\"Helvetica,sans-Serif\" font-size=\"14.00\" fill=\"#000000\">value = [1843, 0, 7, 30, 73, 3, 9, 43]</text>\n</g>\n<!-- 204&#45;&gt;205 -->\n<g id=\"edge205\" class=\"edge\">\n<title>204&#45;&gt;205</title>\n<path fill=\"none\" stroke=\"#000000\" d=\"M20854,-608.9465C20854,-600.776 20854,-591.9318 20854,-583.3697\"/>\n<polygon fill=\"#000000\" stroke=\"#000000\" points=\"20857.5001,-583.13 20854,-573.13 20850.5001,-583.13 20857.5001,-583.13\"/>\n</g>\n<!-- 224 -->\n<g id=\"node225\" class=\"node\">\n<title>224</title>\n<path fill=\"#5ae84e\" stroke=\"#000000\" d=\"M21256.5,-573C21256.5,-573 21029.5,-573 21029.5,-573 21023.5,-573 21017.5,-567 21017.5,-561 21017.5,-561 21017.5,-517 21017.5,-517 21017.5,-511 21023.5,-505 21029.5,-505 21029.5,-505 21256.5,-505 21256.5,-505 21262.5,-505 21268.5,-511 21268.5,-517 21268.5,-517 21268.5,-561 21268.5,-561 21268.5,-567 21262.5,-573 21256.5,-573\"/>\n<text text-anchor=\"start\" x=\"21099\" y=\"-557.8\" font-family=\"Helvetica,sans-Serif\" font-size=\"14.00\" fill=\"#000000\">minute ≤ 31.5</text>\n<text text-anchor=\"start\" x=\"21105\" y=\"-542.8\" font-family=\"Helvetica,sans-Serif\" font-size=\"14.00\" fill=\"#000000\">gini = 0.183</text>\n<text text-anchor=\"start\" x=\"21091\" y=\"-527.8\" font-family=\"Helvetica,sans-Serif\" font-size=\"14.00\" fill=\"#000000\">samples = 3718</text>\n<text text-anchor=\"start\" x=\"21025.5\" y=\"-512.8\" font-family=\"Helvetica,sans-Serif\" font-size=\"14.00\" fill=\"#000000\">value = [0, 0, 3350, 158, 206, 0, 0, 4]</text>\n</g>\n<!-- 204&#45;&gt;224 -->\n<g id=\"edge224\" class=\"edge\">\n<title>204&#45;&gt;224</title>\n<path fill=\"none\" stroke=\"#000000\" d=\"M20948.6294,-608.9465C20977.4466,-598.5763 21009.28,-587.1207 21038.6983,-576.5342\"/>\n<polygon fill=\"#000000\" stroke=\"#000000\" points=\"21039.9338,-579.8094 21048.158,-573.13 21037.5636,-573.2229 21039.9338,-579.8094\"/>\n</g>\n<!-- 206 -->\n<g id=\"node207\" class=\"node\">\n<title>206</title>\n<path fill=\"#dbedfa\" stroke=\"#000000\" d=\"M20741.5,-469C20741.5,-469 20538.5,-469 20538.5,-469 20532.5,-469 20526.5,-463 20526.5,-457 20526.5,-457 20526.5,-413 20526.5,-413 20526.5,-407 20532.5,-401 20538.5,-401 20538.5,-401 20741.5,-401 20741.5,-401 20747.5,-401 20753.5,-407 20753.5,-413 20753.5,-413 20753.5,-457 20753.5,-457 20753.5,-463 20747.5,-469 20741.5,-469\"/>\n<text text-anchor=\"start\" x=\"20607.5\" y=\"-453.8\" font-family=\"Helvetica,sans-Serif\" font-size=\"14.00\" fill=\"#000000\">hour ≤ 9.5</text>\n<text text-anchor=\"start\" x=\"20602\" y=\"-438.8\" font-family=\"Helvetica,sans-Serif\" font-size=\"14.00\" fill=\"#000000\">gini = 0.767</text>\n<text text-anchor=\"start\" x=\"20592\" y=\"-423.8\" font-family=\"Helvetica,sans-Serif\" font-size=\"14.00\" fill=\"#000000\">samples = 206</text>\n<text text-anchor=\"start\" x=\"20534.5\" y=\"-408.8\" font-family=\"Helvetica,sans-Serif\" font-size=\"14.00\" fill=\"#000000\">value = [41, 0, 7, 30, 73, 3, 9, 43]</text>\n</g>\n<!-- 205&#45;&gt;206 -->\n<g id=\"edge206\" class=\"edge\">\n<title>205&#45;&gt;206</title>\n<path fill=\"none\" stroke=\"#000000\" d=\"M20783.9284,-504.9465C20763.3287,-494.9354 20740.6476,-483.9129 20719.5033,-473.6371\"/>\n<polygon fill=\"#000000\" stroke=\"#000000\" points=\"20720.753,-470.3531 20710.229,-469.13 20717.6933,-476.649 20720.753,-470.3531\"/>\n</g>\n<!-- 223 -->\n<g id=\"node224\" class=\"node\">\n<title>223</title>\n<path fill=\"#e58139\" stroke=\"#000000\" d=\"M20978,-461.5C20978,-461.5 20784,-461.5 20784,-461.5 20778,-461.5 20772,-455.5 20772,-449.5 20772,-449.5 20772,-420.5 20772,-420.5 20772,-414.5 20778,-408.5 20784,-408.5 20784,-408.5 20978,-408.5 20978,-408.5 20984,-408.5 20990,-414.5 20990,-420.5 20990,-420.5 20990,-449.5 20990,-449.5 20990,-455.5 20984,-461.5 20978,-461.5\"/>\n<text text-anchor=\"start\" x=\"20851.5\" y=\"-446.3\" font-family=\"Helvetica,sans-Serif\" font-size=\"14.00\" fill=\"#000000\">gini = 0.0</text>\n<text text-anchor=\"start\" x=\"20829\" y=\"-431.3\" font-family=\"Helvetica,sans-Serif\" font-size=\"14.00\" fill=\"#000000\">samples = 1802</text>\n<text text-anchor=\"start\" x=\"20780\" y=\"-416.3\" font-family=\"Helvetica,sans-Serif\" font-size=\"14.00\" fill=\"#000000\">value = [1802, 0, 0, 0, 0, 0, 0, 0]</text>\n</g>\n<!-- 205&#45;&gt;223 -->\n<g id=\"edge223\" class=\"edge\">\n<title>205&#45;&gt;223</title>\n<path fill=\"none\" stroke=\"#000000\" d=\"M20862.8408,-504.9465C20865.6433,-494.1519 20868.751,-482.1813 20871.5918,-471.2389\"/>\n<polygon fill=\"#000000\" stroke=\"#000000\" points=\"20874.984,-472.1008 20874.1092,-461.5422 20868.2086,-470.3418 20874.984,-472.1008\"/>\n</g>\n<!-- 207 -->\n<g id=\"node208\" class=\"node\">\n<title>207</title>\n<path fill=\"#72b9ec\" stroke=\"#000000\" d=\"M20577,-365C20577,-365 20391,-365 20391,-365 20385,-365 20379,-359 20379,-353 20379,-353 20379,-309 20379,-309 20379,-303 20385,-297 20391,-297 20391,-297 20577,-297 20577,-297 20583,-297 20589,-303 20589,-309 20589,-309 20589,-353 20589,-353 20589,-359 20583,-365 20577,-365\"/>\n<text text-anchor=\"start\" x=\"20428\" y=\"-349.8\" font-family=\"Helvetica,sans-Serif\" font-size=\"14.00\" fill=\"#000000\">SourceIP ≤ 179.0</text>\n<text text-anchor=\"start\" x=\"20446\" y=\"-334.8\" font-family=\"Helvetica,sans-Serif\" font-size=\"14.00\" fill=\"#000000\">gini = 0.347</text>\n<text text-anchor=\"start\" x=\"20440\" y=\"-319.8\" font-family=\"Helvetica,sans-Serif\" font-size=\"14.00\" fill=\"#000000\">samples = 94</text>\n<text text-anchor=\"start\" x=\"20387\" y=\"-304.8\" font-family=\"Helvetica,sans-Serif\" font-size=\"14.00\" fill=\"#000000\">value = [21, 0, 0, 0, 73, 0, 0, 0]</text>\n</g>\n<!-- 206&#45;&gt;207 -->\n<g id=\"edge207\" class=\"edge\">\n<title>206&#45;&gt;207</title>\n<path fill=\"none\" stroke=\"#000000\" d=\"M20588.9198,-400.9465C20574.5092,-391.3395 20558.7014,-380.8009 20543.8272,-370.8848\"/>\n<polygon fill=\"#000000\" stroke=\"#000000\" points=\"20545.457,-367.7649 20535.195,-365.13 20541.574,-373.5892 20545.457,-367.7649\"/>\n</g>\n<!-- 212 -->\n<g id=\"node213\" class=\"node\">\n<title>212</title>\n<path fill=\"#fbe0e9\" stroke=\"#000000\" d=\"M20813,-365C20813,-365 20619,-365 20619,-365 20613,-365 20607,-359 20607,-353 20607,-353 20607,-309 20607,-309 20607,-303 20613,-297 20619,-297 20619,-297 20813,-297 20813,-297 20819,-297 20825,-303 20825,-309 20825,-309 20825,-353 20825,-353 20825,-359 20819,-365 20813,-365\"/>\n<text text-anchor=\"start\" x=\"20672\" y=\"-349.8\" font-family=\"Helvetica,sans-Serif\" font-size=\"14.00\" fill=\"#000000\">minute ≤ 27.5</text>\n<text text-anchor=\"start\" x=\"20678\" y=\"-334.8\" font-family=\"Helvetica,sans-Serif\" font-size=\"14.00\" fill=\"#000000\">gini = 0.738</text>\n<text text-anchor=\"start\" x=\"20668\" y=\"-319.8\" font-family=\"Helvetica,sans-Serif\" font-size=\"14.00\" fill=\"#000000\">samples = 112</text>\n<text text-anchor=\"start\" x=\"20615\" y=\"-304.8\" font-family=\"Helvetica,sans-Serif\" font-size=\"14.00\" fill=\"#000000\">value = [20, 0, 7, 30, 0, 3, 9, 43]</text>\n</g>\n<!-- 206&#45;&gt;212 -->\n<g id=\"edge212\" class=\"edge\">\n<title>206&#45;&gt;212</title>\n<path fill=\"none\" stroke=\"#000000\" d=\"M20664.8852,-400.9465C20671.3153,-392.1475 20678.3163,-382.5672 20685.0159,-373.3993\"/>\n<polygon fill=\"#000000\" stroke=\"#000000\" points=\"20687.9845,-375.269 20691.0588,-365.13 20682.3328,-371.1389 20687.9845,-375.269\"/>\n</g>\n<!-- 208 -->\n<g id=\"node209\" class=\"node\">\n<title>208</title>\n<path fill=\"#e58139\" stroke=\"#000000\" d=\"M20348,-253.5C20348,-253.5 20170,-253.5 20170,-253.5 20164,-253.5 20158,-247.5 20158,-241.5 20158,-241.5 20158,-212.5 20158,-212.5 20158,-206.5 20164,-200.5 20170,-200.5 20170,-200.5 20348,-200.5 20348,-200.5 20354,-200.5 20360,-206.5 20360,-212.5 20360,-212.5 20360,-241.5 20360,-241.5 20360,-247.5 20354,-253.5 20348,-253.5\"/>\n<text text-anchor=\"start\" x=\"20229.5\" y=\"-238.3\" font-family=\"Helvetica,sans-Serif\" font-size=\"14.00\" fill=\"#000000\">gini = 0.0</text>\n<text text-anchor=\"start\" x=\"20215\" y=\"-223.3\" font-family=\"Helvetica,sans-Serif\" font-size=\"14.00\" fill=\"#000000\">samples = 20</text>\n<text text-anchor=\"start\" x=\"20166\" y=\"-208.3\" font-family=\"Helvetica,sans-Serif\" font-size=\"14.00\" fill=\"#000000\">value = [20, 0, 0, 0, 0, 0, 0, 0]</text>\n</g>\n<!-- 207&#45;&gt;208 -->\n<g id=\"edge208\" class=\"edge\">\n<title>207&#45;&gt;208</title>\n<path fill=\"none\" stroke=\"#000000\" d=\"M20410.3266,-296.9465C20383.0409,-284.3344 20352.2819,-270.117 20325.656,-257.8099\"/>\n<polygon fill=\"#000000\" stroke=\"#000000\" points=\"20326.9687,-254.5609 20316.423,-253.5422 20324.0317,-260.915 20326.9687,-254.5609\"/>\n</g>\n<!-- 209 -->\n<g id=\"node210\" class=\"node\">\n<title>209</title>\n<path fill=\"#3c9ee5\" stroke=\"#000000\" d=\"M20578,-261C20578,-261 20390,-261 20390,-261 20384,-261 20378,-255 20378,-249 20378,-249 20378,-205 20378,-205 20378,-199 20384,-193 20390,-193 20390,-193 20578,-193 20578,-193 20584,-193 20590,-199 20590,-205 20590,-205 20590,-249 20590,-249 20590,-255 20584,-261 20578,-261\"/>\n<text text-anchor=\"start\" x=\"20386\" y=\"-245.8\" font-family=\"Helvetica,sans-Serif\" font-size=\"14.00\" fill=\"#000000\"> Flow Packets/s ≤ 344362.756</text>\n<text text-anchor=\"start\" x=\"20446\" y=\"-230.8\" font-family=\"Helvetica,sans-Serif\" font-size=\"14.00\" fill=\"#000000\">gini = 0.027</text>\n<text text-anchor=\"start\" x=\"20440\" y=\"-215.8\" font-family=\"Helvetica,sans-Serif\" font-size=\"14.00\" fill=\"#000000\">samples = 74</text>\n<text text-anchor=\"start\" x=\"20391\" y=\"-200.8\" font-family=\"Helvetica,sans-Serif\" font-size=\"14.00\" fill=\"#000000\">value = [1, 0, 0, 0, 73, 0, 0, 0]</text>\n</g>\n<!-- 207&#45;&gt;209 -->\n<g id=\"edge209\" class=\"edge\">\n<title>207&#45;&gt;209</title>\n<path fill=\"none\" stroke=\"#000000\" d=\"M20484,-296.9465C20484,-288.776 20484,-279.9318 20484,-271.3697\"/>\n<polygon fill=\"#000000\" stroke=\"#000000\" points=\"20487.5001,-271.13 20484,-261.13 20480.5001,-271.13 20487.5001,-271.13\"/>\n</g>\n<!-- 210 -->\n<g id=\"node211\" class=\"node\">\n<title>210</title>\n<path fill=\"#399de5\" stroke=\"#000000\" d=\"M20350,-149.5C20350,-149.5 20172,-149.5 20172,-149.5 20166,-149.5 20160,-143.5 20160,-137.5 20160,-137.5 20160,-108.5 20160,-108.5 20160,-102.5 20166,-96.5 20172,-96.5 20172,-96.5 20350,-96.5 20350,-96.5 20356,-96.5 20362,-102.5 20362,-108.5 20362,-108.5 20362,-137.5 20362,-137.5 20362,-143.5 20356,-149.5 20350,-149.5\"/>\n<text text-anchor=\"start\" x=\"20231.5\" y=\"-134.3\" font-family=\"Helvetica,sans-Serif\" font-size=\"14.00\" fill=\"#000000\">gini = 0.0</text>\n<text text-anchor=\"start\" x=\"20217\" y=\"-119.3\" font-family=\"Helvetica,sans-Serif\" font-size=\"14.00\" fill=\"#000000\">samples = 73</text>\n<text text-anchor=\"start\" x=\"20168\" y=\"-104.3\" font-family=\"Helvetica,sans-Serif\" font-size=\"14.00\" fill=\"#000000\">value = [0, 0, 0, 0, 73, 0, 0, 0]</text>\n</g>\n<!-- 209&#45;&gt;210 -->\n<g id=\"edge210\" class=\"edge\">\n<title>209&#45;&gt;210</title>\n<path fill=\"none\" stroke=\"#000000\" d=\"M20410.9815,-192.9465C20383.9383,-180.3344 20353.4528,-166.117 20327.0635,-153.8099\"/>\n<polygon fill=\"#000000\" stroke=\"#000000\" points=\"20328.4547,-150.5968 20317.9125,-149.5422 20325.4961,-156.9409 20328.4547,-150.5968\"/>\n</g>\n<!-- 211 -->\n<g id=\"node212\" class=\"node\">\n<title>211</title>\n<path fill=\"#e58139\" stroke=\"#000000\" d=\"M20562,-149.5C20562,-149.5 20392,-149.5 20392,-149.5 20386,-149.5 20380,-143.5 20380,-137.5 20380,-137.5 20380,-108.5 20380,-108.5 20380,-102.5 20386,-96.5 20392,-96.5 20392,-96.5 20562,-96.5 20562,-96.5 20568,-96.5 20574,-102.5 20574,-108.5 20574,-108.5 20574,-137.5 20574,-137.5 20574,-143.5 20568,-149.5 20562,-149.5\"/>\n<text text-anchor=\"start\" x=\"20447.5\" y=\"-134.3\" font-family=\"Helvetica,sans-Serif\" font-size=\"14.00\" fill=\"#000000\">gini = 0.0</text>\n<text text-anchor=\"start\" x=\"20437.5\" y=\"-119.3\" font-family=\"Helvetica,sans-Serif\" font-size=\"14.00\" fill=\"#000000\">samples = 1</text>\n<text text-anchor=\"start\" x=\"20388\" y=\"-104.3\" font-family=\"Helvetica,sans-Serif\" font-size=\"14.00\" fill=\"#000000\">value = [1, 0, 0, 0, 0, 0, 0, 0]</text>\n</g>\n<!-- 209&#45;&gt;211 -->\n<g id=\"edge211\" class=\"edge\">\n<title>209&#45;&gt;211</title>\n<path fill=\"none\" stroke=\"#000000\" d=\"M20481.7079,-192.9465C20480.9888,-182.2621 20480.1921,-170.4254 20479.4617,-159.5742\"/>\n<polygon fill=\"#000000\" stroke=\"#000000\" points=\"20482.9502,-159.2845 20478.7865,-149.5422 20475.966,-159.7547 20482.9502,-159.2845\"/>\n</g>\n<!-- 213 -->\n<g id=\"node214\" class=\"node\">\n<title>213</title>\n<path fill=\"#ed739b\" stroke=\"#000000\" d=\"M20805,-261C20805,-261 20627,-261 20627,-261 20621,-261 20615,-255 20615,-249 20615,-249 20615,-205 20615,-205 20615,-199 20621,-193 20627,-193 20627,-193 20805,-193 20805,-193 20811,-193 20817,-199 20817,-205 20817,-205 20817,-249 20817,-249 20817,-255 20811,-261 20805,-261\"/>\n<text text-anchor=\"start\" x=\"20660\" y=\"-245.8\" font-family=\"Helvetica,sans-Serif\" font-size=\"14.00\" fill=\"#000000\">SourceIP ≤ 142.0</text>\n<text text-anchor=\"start\" x=\"20678\" y=\"-230.8\" font-family=\"Helvetica,sans-Serif\" font-size=\"14.00\" fill=\"#000000\">gini = 0.398</text>\n<text text-anchor=\"start\" x=\"20672\" y=\"-215.8\" font-family=\"Helvetica,sans-Serif\" font-size=\"14.00\" fill=\"#000000\">samples = 57</text>\n<text text-anchor=\"start\" x=\"20623\" y=\"-200.8\" font-family=\"Helvetica,sans-Serif\" font-size=\"14.00\" fill=\"#000000\">value = [9, 0, 0, 0, 0, 0, 5, 43]</text>\n</g>\n<!-- 212&#45;&gt;213 -->\n<g id=\"edge213\" class=\"edge\">\n<title>212&#45;&gt;213</title>\n<path fill=\"none\" stroke=\"#000000\" d=\"M20716,-296.9465C20716,-288.776 20716,-279.9318 20716,-271.3697\"/>\n<polygon fill=\"#000000\" stroke=\"#000000\" points=\"20719.5001,-271.13 20716,-261.13 20712.5001,-271.13 20719.5001,-271.13\"/>\n</g>\n<!-- 218 -->\n<g id=\"node219\" class=\"node\">\n<title>218</title>\n<path fill=\"#aaf4db\" stroke=\"#000000\" d=\"M21218,-261C21218,-261 21032,-261 21032,-261 21026,-261 21020,-255 21020,-249 21020,-249 21020,-205 21020,-205 21020,-199 21026,-193 21032,-193 21032,-193 21218,-193 21218,-193 21224,-193 21230,-199 21230,-205 21230,-205 21230,-249 21230,-249 21230,-255 21224,-261 21218,-261\"/>\n<text text-anchor=\"start\" x=\"21069\" y=\"-245.8\" font-family=\"Helvetica,sans-Serif\" font-size=\"14.00\" fill=\"#000000\">SourceIP ≤ 171.0</text>\n<text text-anchor=\"start\" x=\"21087\" y=\"-230.8\" font-family=\"Helvetica,sans-Serif\" font-size=\"14.00\" fill=\"#000000\">gini = 0.638</text>\n<text text-anchor=\"start\" x=\"21081\" y=\"-215.8\" font-family=\"Helvetica,sans-Serif\" font-size=\"14.00\" fill=\"#000000\">samples = 55</text>\n<text text-anchor=\"start\" x=\"21028\" y=\"-200.8\" font-family=\"Helvetica,sans-Serif\" font-size=\"14.00\" fill=\"#000000\">value = [11, 0, 7, 30, 0, 3, 4, 0]</text>\n</g>\n<!-- 212&#45;&gt;218 -->\n<g id=\"edge218\" class=\"edge\">\n<title>212&#45;&gt;218</title>\n<path fill=\"none\" stroke=\"#000000\" d=\"M20825.2437,-299.3379C20828.1913,-298.5431 20831.1143,-297.7624 20834,-297 20891.8175,-281.7244 20956.4622,-266.0362 21010.1106,-253.3936\"/>\n<polygon fill=\"#000000\" stroke=\"#000000\" points=\"21011.0625,-256.7653 21019.9958,-251.0691 21009.4602,-249.9511 21011.0625,-256.7653\"/>\n</g>\n<!-- 214 -->\n<g id=\"node215\" class=\"node\">\n<title>214</title>\n<path fill=\"#e58139\" stroke=\"#000000\" d=\"M20774,-149.5C20774,-149.5 20604,-149.5 20604,-149.5 20598,-149.5 20592,-143.5 20592,-137.5 20592,-137.5 20592,-108.5 20592,-108.5 20592,-102.5 20598,-96.5 20604,-96.5 20604,-96.5 20774,-96.5 20774,-96.5 20780,-96.5 20786,-102.5 20786,-108.5 20786,-108.5 20786,-137.5 20786,-137.5 20786,-143.5 20780,-149.5 20774,-149.5\"/>\n<text text-anchor=\"start\" x=\"20659.5\" y=\"-134.3\" font-family=\"Helvetica,sans-Serif\" font-size=\"14.00\" fill=\"#000000\">gini = 0.0</text>\n<text text-anchor=\"start\" x=\"20649.5\" y=\"-119.3\" font-family=\"Helvetica,sans-Serif\" font-size=\"14.00\" fill=\"#000000\">samples = 9</text>\n<text text-anchor=\"start\" x=\"20600\" y=\"-104.3\" font-family=\"Helvetica,sans-Serif\" font-size=\"14.00\" fill=\"#000000\">value = [9, 0, 0, 0, 0, 0, 0, 0]</text>\n</g>\n<!-- 213&#45;&gt;214 -->\n<g id=\"edge214\" class=\"edge\">\n<title>213&#45;&gt;214</title>\n<path fill=\"none\" stroke=\"#000000\" d=\"M20707.1592,-192.9465C20704.3567,-182.1519 20701.249,-170.1813 20698.4082,-159.2389\"/>\n<polygon fill=\"#000000\" stroke=\"#000000\" points=\"20701.7914,-158.3418 20695.8908,-149.5422 20695.016,-160.1008 20701.7914,-158.3418\"/>\n</g>\n<!-- 215 -->\n<g id=\"node216\" class=\"node\">\n<title>215</title>\n<path fill=\"#e85082\" stroke=\"#000000\" d=\"M20994,-157C20994,-157 20816,-157 20816,-157 20810,-157 20804,-151 20804,-145 20804,-145 20804,-101 20804,-101 20804,-95 20810,-89 20816,-89 20816,-89 20994,-89 20994,-89 21000,-89 21006,-95 21006,-101 21006,-101 21006,-145 21006,-145 21006,-151 21000,-157 20994,-157\"/>\n<text text-anchor=\"start\" x=\"20861\" y=\"-141.8\" font-family=\"Helvetica,sans-Serif\" font-size=\"14.00\" fill=\"#000000\">minute ≤ 12.5</text>\n<text text-anchor=\"start\" x=\"20867\" y=\"-126.8\" font-family=\"Helvetica,sans-Serif\" font-size=\"14.00\" fill=\"#000000\">gini = 0.187</text>\n<text text-anchor=\"start\" x=\"20861\" y=\"-111.8\" font-family=\"Helvetica,sans-Serif\" font-size=\"14.00\" fill=\"#000000\">samples = 48</text>\n<text text-anchor=\"start\" x=\"20812\" y=\"-96.8\" font-family=\"Helvetica,sans-Serif\" font-size=\"14.00\" fill=\"#000000\">value = [0, 0, 0, 0, 0, 0, 5, 43]</text>\n</g>\n<!-- 213&#45;&gt;215 -->\n<g id=\"edge215\" class=\"edge\">\n<title>213&#45;&gt;215</title>\n<path fill=\"none\" stroke=\"#000000\" d=\"M20777.8857,-192.9465C20795.8341,-183.0701 20815.5716,-172.2093 20834.0301,-162.0522\"/>\n<polygon fill=\"#000000\" stroke=\"#000000\" points=\"20835.9015,-165.0174 20842.9753,-157.13 20832.5267,-158.8846 20835.9015,-165.0174\"/>\n</g>\n<!-- 216 -->\n<g id=\"node217\" class=\"node\">\n<title>216</title>\n<path fill=\"#d739e5\" stroke=\"#000000\" d=\"M20789,-53C20789,-53 20619,-53 20619,-53 20613,-53 20607,-47 20607,-41 20607,-41 20607,-12 20607,-12 20607,-6 20613,0 20619,0 20619,0 20789,0 20789,0 20795,0 20801,-6 20801,-12 20801,-12 20801,-41 20801,-41 20801,-47 20795,-53 20789,-53\"/>\n<text text-anchor=\"start\" x=\"20674.5\" y=\"-37.8\" font-family=\"Helvetica,sans-Serif\" font-size=\"14.00\" fill=\"#000000\">gini = 0.0</text>\n<text text-anchor=\"start\" x=\"20664.5\" y=\"-22.8\" font-family=\"Helvetica,sans-Serif\" font-size=\"14.00\" fill=\"#000000\">samples = 5</text>\n<text text-anchor=\"start\" x=\"20615\" y=\"-7.8\" font-family=\"Helvetica,sans-Serif\" font-size=\"14.00\" fill=\"#000000\">value = [0, 0, 0, 0, 0, 0, 5, 0]</text>\n</g>\n<!-- 215&#45;&gt;216 -->\n<g id=\"edge216\" class=\"edge\">\n<title>215&#45;&gt;216</title>\n<path fill=\"none\" stroke=\"#000000\" d=\"M20834.1349,-88.9777C20812.77,-78.7204 20789.4427,-67.521 20768.5142,-57.4732\"/>\n<polygon fill=\"#000000\" stroke=\"#000000\" points=\"20769.9245,-54.2679 20759.3948,-53.095 20766.8949,-60.5783 20769.9245,-54.2679\"/>\n</g>\n<!-- 217 -->\n<g id=\"node218\" class=\"node\">\n<title>217</title>\n<path fill=\"#e53972\" stroke=\"#000000\" d=\"M21009,-53C21009,-53 20831,-53 20831,-53 20825,-53 20819,-47 20819,-41 20819,-41 20819,-12 20819,-12 20819,-6 20825,0 20831,0 20831,0 21009,0 21009,0 21015,0 21021,-6 21021,-12 21021,-12 21021,-41 21021,-41 21021,-47 21015,-53 21009,-53\"/>\n<text text-anchor=\"start\" x=\"20890.5\" y=\"-37.8\" font-family=\"Helvetica,sans-Serif\" font-size=\"14.00\" fill=\"#000000\">gini = 0.0</text>\n<text text-anchor=\"start\" x=\"20876\" y=\"-22.8\" font-family=\"Helvetica,sans-Serif\" font-size=\"14.00\" fill=\"#000000\">samples = 43</text>\n<text text-anchor=\"start\" x=\"20827\" y=\"-7.8\" font-family=\"Helvetica,sans-Serif\" font-size=\"14.00\" fill=\"#000000\">value = [0, 0, 0, 0, 0, 0, 0, 43]</text>\n</g>\n<!-- 215&#45;&gt;217 -->\n<g id=\"edge217\" class=\"edge\">\n<title>215&#45;&gt;217</title>\n<path fill=\"none\" stroke=\"#000000\" d=\"M20910.2884,-88.9777C20911.5837,-80.6449 20912.9756,-71.6903 20914.2897,-63.2364\"/>\n<polygon fill=\"#000000\" stroke=\"#000000\" points=\"20917.7646,-63.6674 20915.8422,-53.2485 20910.8477,-62.5922 20917.7646,-63.6674\"/>\n</g>\n<!-- 219 -->\n<g id=\"node220\" class=\"node\">\n<title>219</title>\n<path fill=\"#e58139\" stroke=\"#000000\" d=\"M21214,-149.5C21214,-149.5 21036,-149.5 21036,-149.5 21030,-149.5 21024,-143.5 21024,-137.5 21024,-137.5 21024,-108.5 21024,-108.5 21024,-102.5 21030,-96.5 21036,-96.5 21036,-96.5 21214,-96.5 21214,-96.5 21220,-96.5 21226,-102.5 21226,-108.5 21226,-108.5 21226,-137.5 21226,-137.5 21226,-143.5 21220,-149.5 21214,-149.5\"/>\n<text text-anchor=\"start\" x=\"21095.5\" y=\"-134.3\" font-family=\"Helvetica,sans-Serif\" font-size=\"14.00\" fill=\"#000000\">gini = 0.0</text>\n<text text-anchor=\"start\" x=\"21081\" y=\"-119.3\" font-family=\"Helvetica,sans-Serif\" font-size=\"14.00\" fill=\"#000000\">samples = 10</text>\n<text text-anchor=\"start\" x=\"21032\" y=\"-104.3\" font-family=\"Helvetica,sans-Serif\" font-size=\"14.00\" fill=\"#000000\">value = [10, 0, 0, 0, 0, 0, 0, 0]</text>\n</g>\n<!-- 218&#45;&gt;219 -->\n<g id=\"edge219\" class=\"edge\">\n<title>218&#45;&gt;219</title>\n<path fill=\"none\" stroke=\"#000000\" d=\"M21125,-192.9465C21125,-182.2621 21125,-170.4254 21125,-159.5742\"/>\n<polygon fill=\"#000000\" stroke=\"#000000\" points=\"21128.5001,-159.5421 21125,-149.5422 21121.5001,-159.5422 21128.5001,-159.5421\"/>\n</g>\n<!-- 220 -->\n<g id=\"node221\" class=\"node\">\n<title>220</title>\n<path fill=\"#87efcd\" stroke=\"#000000\" d=\"M21434,-157C21434,-157 21256,-157 21256,-157 21250,-157 21244,-151 21244,-145 21244,-145 21244,-101 21244,-101 21244,-95 21250,-89 21256,-89 21256,-89 21434,-89 21434,-89 21440,-89 21446,-95 21446,-101 21446,-101 21446,-145 21446,-145 21446,-151 21440,-157 21434,-157\"/>\n<text text-anchor=\"start\" x=\"21301\" y=\"-141.8\" font-family=\"Helvetica,sans-Serif\" font-size=\"14.00\" fill=\"#000000\">minute ≤ 32.0</text>\n<text text-anchor=\"start\" x=\"21307\" y=\"-126.8\" font-family=\"Helvetica,sans-Serif\" font-size=\"14.00\" fill=\"#000000\">gini = 0.519</text>\n<text text-anchor=\"start\" x=\"21301\" y=\"-111.8\" font-family=\"Helvetica,sans-Serif\" font-size=\"14.00\" fill=\"#000000\">samples = 45</text>\n<text text-anchor=\"start\" x=\"21252\" y=\"-96.8\" font-family=\"Helvetica,sans-Serif\" font-size=\"14.00\" fill=\"#000000\">value = [1, 0, 7, 30, 0, 3, 4, 0]</text>\n</g>\n<!-- 218&#45;&gt;220 -->\n<g id=\"edge220\" class=\"edge\">\n<title>218&#45;&gt;220</title>\n<path fill=\"none\" stroke=\"#000000\" d=\"M21197.0362,-192.9465C21218.3084,-182.8906 21241.7396,-171.814 21263.56,-161.4989\"/>\n<polygon fill=\"#000000\" stroke=\"#000000\" points=\"21265.257,-164.5681 21272.8019,-157.13 21262.2654,-158.2396 21265.257,-164.5681\"/>\n</g>\n<!-- 221 -->\n<g id=\"node222\" class=\"node\">\n<title>221</title>\n<path fill=\"#75ec6a\" stroke=\"#000000\" d=\"M21302,-53C21302,-53 21132,-53 21132,-53 21126,-53 21120,-47 21120,-41 21120,-41 21120,-12 21120,-12 21120,-6 21126,0 21132,0 21132,0 21302,0 21302,0 21308,0 21314,-6 21314,-12 21314,-12 21314,-41 21314,-41 21314,-47 21308,-53 21302,-53\"/>\n<text text-anchor=\"start\" x=\"21183.5\" y=\"-37.8\" font-family=\"Helvetica,sans-Serif\" font-size=\"14.00\" fill=\"#000000\">gini = 0.37</text>\n<text text-anchor=\"start\" x=\"21177.5\" y=\"-22.8\" font-family=\"Helvetica,sans-Serif\" font-size=\"14.00\" fill=\"#000000\">samples = 9</text>\n<text text-anchor=\"start\" x=\"21128\" y=\"-7.8\" font-family=\"Helvetica,sans-Serif\" font-size=\"14.00\" fill=\"#000000\">value = [1, 0, 7, 0, 0, 1, 0, 0]</text>\n</g>\n<!-- 220&#45;&gt;221 -->\n<g id=\"edge221\" class=\"edge\">\n<title>220&#45;&gt;221</title>\n<path fill=\"none\" stroke=\"#000000\" d=\"M21299.872,-88.9777C21287.1187,-79.3629 21273.2673,-68.9203 21260.6053,-59.3743\"/>\n<polygon fill=\"#000000\" stroke=\"#000000\" points=\"21262.5719,-56.4737 21252.4798,-53.2485 21258.3579,-62.0632 21262.5719,-56.4737\"/>\n</g>\n<!-- 222 -->\n<g id=\"node223\" class=\"node\">\n<title>222</title>\n<path fill=\"#5eeabc\" stroke=\"#000000\" d=\"M21522,-53C21522,-53 21344,-53 21344,-53 21338,-53 21332,-47 21332,-41 21332,-41 21332,-12 21332,-12 21332,-6 21338,0 21344,0 21344,0 21522,0 21522,0 21528,0 21534,-6 21534,-12 21534,-12 21534,-41 21534,-41 21534,-47 21528,-53 21522,-53\"/>\n<text text-anchor=\"start\" x=\"21399.5\" y=\"-37.8\" font-family=\"Helvetica,sans-Serif\" font-size=\"14.00\" fill=\"#000000\">gini = 0.29</text>\n<text text-anchor=\"start\" x=\"21389\" y=\"-22.8\" font-family=\"Helvetica,sans-Serif\" font-size=\"14.00\" fill=\"#000000\">samples = 36</text>\n<text text-anchor=\"start\" x=\"21340\" y=\"-7.8\" font-family=\"Helvetica,sans-Serif\" font-size=\"14.00\" fill=\"#000000\">value = [0, 0, 0, 30, 0, 2, 4, 0]</text>\n</g>\n<!-- 220&#45;&gt;222 -->\n<g id=\"edge222\" class=\"edge\">\n<title>220&#45;&gt;222</title>\n<path fill=\"none\" stroke=\"#000000\" d=\"M21376.0255,-88.9777C21384.3759,-79.8207 21393.411,-69.9129 21401.7724,-60.744\"/>\n<polygon fill=\"#000000\" stroke=\"#000000\" points=\"21404.4556,-62.9959 21408.6076,-53.2485 21399.2833,-58.2791 21404.4556,-62.9959\"/>\n</g>\n<!-- 225 -->\n<g id=\"node226\" class=\"node\">\n<title>225</title>\n<path fill=\"#47e539\" stroke=\"#000000\" d=\"M21240,-469C21240,-469 21046,-469 21046,-469 21040,-469 21034,-463 21034,-457 21034,-457 21034,-413 21034,-413 21034,-407 21040,-401 21046,-401 21046,-401 21240,-401 21240,-401 21246,-401 21252,-407 21252,-413 21252,-413 21252,-457 21252,-457 21252,-463 21246,-469 21240,-469\"/>\n<text text-anchor=\"start\" x=\"21099\" y=\"-453.8\" font-family=\"Helvetica,sans-Serif\" font-size=\"14.00\" fill=\"#000000\">minute ≤ 27.5</text>\n<text text-anchor=\"start\" x=\"21105\" y=\"-438.8\" font-family=\"Helvetica,sans-Serif\" font-size=\"14.00\" fill=\"#000000\">gini = 0.002</text>\n<text text-anchor=\"start\" x=\"21091\" y=\"-423.8\" font-family=\"Helvetica,sans-Serif\" font-size=\"14.00\" fill=\"#000000\">samples = 3354</text>\n<text text-anchor=\"start\" x=\"21042\" y=\"-408.8\" font-family=\"Helvetica,sans-Serif\" font-size=\"14.00\" fill=\"#000000\">value = [0, 0, 3350, 0, 0, 0, 0, 4]</text>\n</g>\n<!-- 224&#45;&gt;225 -->\n<g id=\"edge225\" class=\"edge\">\n<title>224&#45;&gt;225</title>\n<path fill=\"none\" stroke=\"#000000\" d=\"M21143,-504.9465C21143,-496.776 21143,-487.9318 21143,-479.3697\"/>\n<polygon fill=\"#000000\" stroke=\"#000000\" points=\"21146.5001,-479.13 21143,-469.13 21139.5001,-479.13 21146.5001,-479.13\"/>\n</g>\n<!-- 228 -->\n<g id=\"node229\" class=\"node\">\n<title>228</title>\n<path fill=\"#d1e8f9\" stroke=\"#000000\" d=\"M21497.5,-469C21497.5,-469 21294.5,-469 21294.5,-469 21288.5,-469 21282.5,-463 21282.5,-457 21282.5,-457 21282.5,-413 21282.5,-413 21282.5,-407 21288.5,-401 21294.5,-401 21294.5,-401 21497.5,-401 21497.5,-401 21503.5,-401 21509.5,-407 21509.5,-413 21509.5,-413 21509.5,-457 21509.5,-457 21509.5,-463 21503.5,-469 21497.5,-469\"/>\n<text text-anchor=\"start\" x=\"21363.5\" y=\"-453.8\" font-family=\"Helvetica,sans-Serif\" font-size=\"14.00\" fill=\"#000000\">hour ≤ 9.5</text>\n<text text-anchor=\"start\" x=\"21358\" y=\"-438.8\" font-family=\"Helvetica,sans-Serif\" font-size=\"14.00\" fill=\"#000000\">gini = 0.491</text>\n<text text-anchor=\"start\" x=\"21348\" y=\"-423.8\" font-family=\"Helvetica,sans-Serif\" font-size=\"14.00\" fill=\"#000000\">samples = 364</text>\n<text text-anchor=\"start\" x=\"21290.5\" y=\"-408.8\" font-family=\"Helvetica,sans-Serif\" font-size=\"14.00\" fill=\"#000000\">value = [0, 0, 0, 158, 206, 0, 0, 0]</text>\n</g>\n<!-- 224&#45;&gt;228 -->\n<g id=\"edge228\" class=\"edge\">\n<title>224&#45;&gt;228</title>\n<path fill=\"none\" stroke=\"#000000\" d=\"M21225.8417,-504.9465C21250.7416,-494.711 21278.2137,-483.4181 21303.6865,-472.9471\"/>\n<polygon fill=\"#000000\" stroke=\"#000000\" points=\"21305.0539,-476.1692 21312.9722,-469.13 21302.3924,-469.6949 21305.0539,-476.1692\"/>\n</g>\n<!-- 226 -->\n<g id=\"node227\" class=\"node\">\n<title>226</title>\n<path fill=\"#e53972\" stroke=\"#000000\" d=\"M21025,-357.5C21025,-357.5 20855,-357.5 20855,-357.5 20849,-357.5 20843,-351.5 20843,-345.5 20843,-345.5 20843,-316.5 20843,-316.5 20843,-310.5 20849,-304.5 20855,-304.5 20855,-304.5 21025,-304.5 21025,-304.5 21031,-304.5 21037,-310.5 21037,-316.5 21037,-316.5 21037,-345.5 21037,-345.5 21037,-351.5 21031,-357.5 21025,-357.5\"/>\n<text text-anchor=\"start\" x=\"20910.5\" y=\"-342.3\" font-family=\"Helvetica,sans-Serif\" font-size=\"14.00\" fill=\"#000000\">gini = 0.0</text>\n<text text-anchor=\"start\" x=\"20900.5\" y=\"-327.3\" font-family=\"Helvetica,sans-Serif\" font-size=\"14.00\" fill=\"#000000\">samples = 4</text>\n<text text-anchor=\"start\" x=\"20851\" y=\"-312.3\" font-family=\"Helvetica,sans-Serif\" font-size=\"14.00\" fill=\"#000000\">value = [0, 0, 0, 0, 0, 0, 0, 4]</text>\n</g>\n<!-- 225&#45;&gt;226 -->\n<g id=\"edge226\" class=\"edge\">\n<title>225&#45;&gt;226</title>\n<path fill=\"none\" stroke=\"#000000\" d=\"M21076.5302,-400.9465C21052.1274,-388.4446 21024.6455,-374.3652 21000.7688,-362.1328\"/>\n<polygon fill=\"#000000\" stroke=\"#000000\" points=\"21002.3042,-358.9868 20991.8083,-357.5422 20999.1124,-365.2168 21002.3042,-358.9868\"/>\n</g>\n<!-- 227 -->\n<g id=\"node228\" class=\"node\">\n<title>227</title>\n<path fill=\"#47e539\" stroke=\"#000000\" d=\"M21261,-357.5C21261,-357.5 21067,-357.5 21067,-357.5 21061,-357.5 21055,-351.5 21055,-345.5 21055,-345.5 21055,-316.5 21055,-316.5 21055,-310.5 21061,-304.5 21067,-304.5 21067,-304.5 21261,-304.5 21261,-304.5 21267,-304.5 21273,-310.5 21273,-316.5 21273,-316.5 21273,-345.5 21273,-345.5 21273,-351.5 21267,-357.5 21261,-357.5\"/>\n<text text-anchor=\"start\" x=\"21134.5\" y=\"-342.3\" font-family=\"Helvetica,sans-Serif\" font-size=\"14.00\" fill=\"#000000\">gini = 0.0</text>\n<text text-anchor=\"start\" x=\"21112\" y=\"-327.3\" font-family=\"Helvetica,sans-Serif\" font-size=\"14.00\" fill=\"#000000\">samples = 3350</text>\n<text text-anchor=\"start\" x=\"21063\" y=\"-312.3\" font-family=\"Helvetica,sans-Serif\" font-size=\"14.00\" fill=\"#000000\">value = [0, 0, 3350, 0, 0, 0, 0, 0]</text>\n</g>\n<!-- 225&#45;&gt;227 -->\n<g id=\"edge227\" class=\"edge\">\n<title>225&#45;&gt;227</title>\n<path fill=\"none\" stroke=\"#000000\" d=\"M21149.8762,-400.9465C21152.0336,-390.2621 21154.4237,-378.4254 21156.6148,-367.5742\"/>\n<polygon fill=\"#000000\" stroke=\"#000000\" points=\"21160.0919,-368.0371 21158.6405,-357.5422 21153.2304,-366.6516 21160.0919,-368.0371\"/>\n</g>\n<!-- 229 -->\n<g id=\"node230\" class=\"node\">\n<title>229</title>\n<path fill=\"#399de5\" stroke=\"#000000\" d=\"M21489,-357.5C21489,-357.5 21303,-357.5 21303,-357.5 21297,-357.5 21291,-351.5 21291,-345.5 21291,-345.5 21291,-316.5 21291,-316.5 21291,-310.5 21297,-304.5 21303,-304.5 21303,-304.5 21489,-304.5 21489,-304.5 21495,-304.5 21501,-310.5 21501,-316.5 21501,-316.5 21501,-345.5 21501,-345.5 21501,-351.5 21495,-357.5 21489,-357.5\"/>\n<text text-anchor=\"start\" x=\"21366.5\" y=\"-342.3\" font-family=\"Helvetica,sans-Serif\" font-size=\"14.00\" fill=\"#000000\">gini = 0.0</text>\n<text text-anchor=\"start\" x=\"21348\" y=\"-327.3\" font-family=\"Helvetica,sans-Serif\" font-size=\"14.00\" fill=\"#000000\">samples = 206</text>\n<text text-anchor=\"start\" x=\"21299\" y=\"-312.3\" font-family=\"Helvetica,sans-Serif\" font-size=\"14.00\" fill=\"#000000\">value = [0, 0, 0, 0, 206, 0, 0, 0]</text>\n</g>\n<!-- 228&#45;&gt;229 -->\n<g id=\"edge229\" class=\"edge\">\n<title>228&#45;&gt;229</title>\n<path fill=\"none\" stroke=\"#000000\" d=\"M21396,-400.9465C21396,-390.2621 21396,-378.4254 21396,-367.5742\"/>\n<polygon fill=\"#000000\" stroke=\"#000000\" points=\"21399.5001,-367.5421 21396,-357.5422 21392.5001,-367.5422 21399.5001,-367.5421\"/>\n</g>\n<!-- 230 -->\n<g id=\"node231\" class=\"node\">\n<title>230</title>\n<path fill=\"#39e5ac\" stroke=\"#000000\" d=\"M21717,-357.5C21717,-357.5 21531,-357.5 21531,-357.5 21525,-357.5 21519,-351.5 21519,-345.5 21519,-345.5 21519,-316.5 21519,-316.5 21519,-310.5 21525,-304.5 21531,-304.5 21531,-304.5 21717,-304.5 21717,-304.5 21723,-304.5 21729,-310.5 21729,-316.5 21729,-316.5 21729,-345.5 21729,-345.5 21729,-351.5 21723,-357.5 21717,-357.5\"/>\n<text text-anchor=\"start\" x=\"21594.5\" y=\"-342.3\" font-family=\"Helvetica,sans-Serif\" font-size=\"14.00\" fill=\"#000000\">gini = 0.0</text>\n<text text-anchor=\"start\" x=\"21576\" y=\"-327.3\" font-family=\"Helvetica,sans-Serif\" font-size=\"14.00\" fill=\"#000000\">samples = 158</text>\n<text text-anchor=\"start\" x=\"21527\" y=\"-312.3\" font-family=\"Helvetica,sans-Serif\" font-size=\"14.00\" fill=\"#000000\">value = [0, 0, 0, 158, 0, 0, 0, 0]</text>\n</g>\n<!-- 228&#45;&gt;230 -->\n<g id=\"edge230\" class=\"edge\">\n<title>228&#45;&gt;230</title>\n<path fill=\"none\" stroke=\"#000000\" d=\"M21470.6557,-400.9465C21498.3053,-388.3344 21529.4743,-374.117 21556.4552,-361.8099\"/>\n<polygon fill=\"#000000\" stroke=\"#000000\" points=\"21558.1657,-364.8766 21565.8114,-357.5422 21555.2607,-358.5079 21558.1657,-364.8766\"/>\n</g>\n<!-- 232 -->\n<g id=\"node233\" class=\"node\">\n<title>232</title>\n<path fill=\"#dc4fe8\" stroke=\"#000000\" d=\"M24611,-781C24611,-781 24301,-781 24301,-781 24295,-781 24289,-775 24289,-769 24289,-769 24289,-725 24289,-725 24289,-719 24295,-713 24301,-713 24301,-713 24611,-713 24611,-713 24617,-713 24623,-719 24623,-725 24623,-725 24623,-769 24623,-769 24623,-775 24617,-781 24611,-781\"/>\n<text text-anchor=\"start\" x=\"24349.5\" y=\"-765.8\" font-family=\"Helvetica,sans-Serif\" font-size=\"14.00\" fill=\"#000000\"> Fwd Packet Length Max ≤ 271.5</text>\n<text text-anchor=\"start\" x=\"24418\" y=\"-750.8\" font-family=\"Helvetica,sans-Serif\" font-size=\"14.00\" fill=\"#000000\">gini = 0.199</text>\n<text text-anchor=\"start\" x=\"24400\" y=\"-735.8\" font-family=\"Helvetica,sans-Serif\" font-size=\"14.00\" fill=\"#000000\">samples = 45418</text>\n<text text-anchor=\"start\" x=\"24297\" y=\"-720.8\" font-family=\"Helvetica,sans-Serif\" font-size=\"14.00\" fill=\"#000000\">value = [2322, 26, 11, 1760, 229, 46, 40542, 482]</text>\n</g>\n<!-- 231&#45;&gt;232 -->\n<g id=\"edge232\" class=\"edge\">\n<title>231&#45;&gt;232</title>\n<path fill=\"none\" stroke=\"#000000\" d=\"M24788.9185,-816.9465C24737.398,-806.122 24680.2488,-794.1149 24628.0505,-783.148\"/>\n<polygon fill=\"#000000\" stroke=\"#000000\" points=\"24628.5286,-779.6721 24618.0226,-781.0411 24627.0893,-786.5225 24628.5286,-779.6721\"/>\n</g>\n<!-- 307 -->\n<g id=\"node308\" class=\"node\">\n<title>307</title>\n<path fill=\"#52e8b7\" stroke=\"#000000\" d=\"M25880,-781C25880,-781 25578,-781 25578,-781 25572,-781 25566,-775 25566,-769 25566,-769 25566,-725 25566,-725 25566,-719 25572,-713 25578,-713 25578,-713 25880,-713 25880,-713 25886,-713 25892,-719 25892,-725 25892,-725 25892,-769 25892,-769 25892,-775 25886,-781 25880,-781\"/>\n<text text-anchor=\"start\" x=\"25685\" y=\"-765.8\" font-family=\"Helvetica,sans-Serif\" font-size=\"14.00\" fill=\"#000000\">minute ≤ 51.5</text>\n<text text-anchor=\"start\" x=\"25691\" y=\"-750.8\" font-family=\"Helvetica,sans-Serif\" font-size=\"14.00\" fill=\"#000000\">gini = 0.203</text>\n<text text-anchor=\"start\" x=\"25668.5\" y=\"-735.8\" font-family=\"Helvetica,sans-Serif\" font-size=\"14.00\" fill=\"#000000\">samples = 123046</text>\n<text text-anchor=\"start\" x=\"25574\" y=\"-720.8\" font-family=\"Helvetica,sans-Serif\" font-size=\"14.00\" fill=\"#000000\">value = [106, 0, 7, 109092, 565, 64, 12809, 403]</text>\n</g>\n<!-- 231&#45;&gt;307 -->\n<g id=\"edge307\" class=\"edge\">\n<title>231&#45;&gt;307</title>\n<path fill=\"none\" stroke=\"#000000\" d=\"M25130.9549,-826.9443C25258.7733,-809.8581 25429.4274,-787.0457 25555.7192,-770.1635\"/>\n<polygon fill=\"#000000\" stroke=\"#000000\" points=\"25556.4322,-773.5994 25565.8802,-768.8052 25555.5046,-766.6611 25556.4322,-773.5994\"/>\n</g>\n<!-- 233 -->\n<g id=\"node234\" class=\"node\">\n<title>233</title>\n<path fill=\"#ea9a60\" stroke=\"#000000\" d=\"M23132,-677C23132,-677 22872,-677 22872,-677 22866,-677 22860,-671 22860,-665 22860,-665 22860,-621 22860,-621 22860,-615 22866,-609 22872,-609 22872,-609 23132,-609 23132,-609 23138,-609 23144,-615 23144,-621 23144,-621 23144,-665 23144,-665 23144,-671 23138,-677 23132,-677\"/>\n<text text-anchor=\"start\" x=\"22955.5\" y=\"-661.8\" font-family=\"Helvetica,sans-Serif\" font-size=\"14.00\" fill=\"#000000\"> Inbound ≤ 0.5</text>\n<text text-anchor=\"start\" x=\"22964\" y=\"-646.8\" font-family=\"Helvetica,sans-Serif\" font-size=\"14.00\" fill=\"#000000\">gini = 0.318</text>\n<text text-anchor=\"start\" x=\"22950\" y=\"-631.8\" font-family=\"Helvetica,sans-Serif\" font-size=\"14.00\" fill=\"#000000\">samples = 2829</text>\n<text text-anchor=\"start\" x=\"22868\" y=\"-616.8\" font-family=\"Helvetica,sans-Serif\" font-size=\"14.00\" fill=\"#000000\">value = [2322, 26, 11, 72, 229, 40, 53, 76]</text>\n</g>\n<!-- 232&#45;&gt;233 -->\n<g id=\"edge233\" class=\"edge\">\n<title>232&#45;&gt;233</title>\n<path fill=\"none\" stroke=\"#000000\" d=\"M24288.8531,-735.0445C24003.9153,-714.6638 23428.3985,-673.4989 23154.0849,-653.8782\"/>\n<polygon fill=\"#000000\" stroke=\"#000000\" points=\"23154.2785,-650.3831 23144.0543,-653.1607 23153.779,-657.3653 23154.2785,-650.3831\"/>\n</g>\n<!-- 274 -->\n<g id=\"node275\" class=\"node\">\n<title>274</title>\n<path fill=\"#d943e6\" stroke=\"#000000\" d=\"M24578,-677C24578,-677 24334,-677 24334,-677 24328,-677 24322,-671 24322,-665 24322,-665 24322,-621 24322,-621 24322,-615 24328,-609 24334,-609 24334,-609 24578,-609 24578,-609 24584,-609 24590,-615 24590,-621 24590,-621 24590,-665 24590,-665 24590,-671 24584,-677 24578,-677\"/>\n<text text-anchor=\"start\" x=\"24381.5\" y=\"-661.8\" font-family=\"Helvetica,sans-Serif\" font-size=\"14.00\" fill=\"#000000\"> Source Port ≤ 61815.0</text>\n<text text-anchor=\"start\" x=\"24418\" y=\"-646.8\" font-family=\"Helvetica,sans-Serif\" font-size=\"14.00\" fill=\"#000000\">gini = 0.095</text>\n<text text-anchor=\"start\" x=\"24400\" y=\"-631.8\" font-family=\"Helvetica,sans-Serif\" font-size=\"14.00\" fill=\"#000000\">samples = 42589</text>\n<text text-anchor=\"start\" x=\"24330\" y=\"-616.8\" font-family=\"Helvetica,sans-Serif\" font-size=\"14.00\" fill=\"#000000\">value = [0, 0, 0, 1688, 0, 6, 40489, 406]</text>\n</g>\n<!-- 232&#45;&gt;274 -->\n<g id=\"edge274\" class=\"edge\">\n<title>232&#45;&gt;274</title>\n<path fill=\"none\" stroke=\"#000000\" d=\"M24456,-712.9465C24456,-704.776 24456,-695.9318 24456,-687.3697\"/>\n<polygon fill=\"#000000\" stroke=\"#000000\" points=\"24459.5001,-687.13 24456,-677.13 24452.5001,-687.13 24459.5001,-687.13\"/>\n</g>\n<!-- 234 -->\n<g id=\"node235\" class=\"node\">\n<title>234</title>\n<path fill=\"#e5823b\" stroke=\"#000000\" d=\"M22544.5,-573C22544.5,-573 22341.5,-573 22341.5,-573 22335.5,-573 22329.5,-567 22329.5,-561 22329.5,-561 22329.5,-517 22329.5,-517 22329.5,-511 22335.5,-505 22341.5,-505 22341.5,-505 22544.5,-505 22544.5,-505 22550.5,-505 22556.5,-511 22556.5,-517 22556.5,-517 22556.5,-561 22556.5,-561 22556.5,-567 22550.5,-573 22544.5,-573\"/>\n<text text-anchor=\"start\" x=\"22359.5\" y=\"-557.8\" font-family=\"Helvetica,sans-Serif\" font-size=\"14.00\" fill=\"#000000\"> Destination Port ≤ 8006.5</text>\n<text text-anchor=\"start\" x=\"22405\" y=\"-542.8\" font-family=\"Helvetica,sans-Serif\" font-size=\"14.00\" fill=\"#000000\">gini = 0.017</text>\n<text text-anchor=\"start\" x=\"22391\" y=\"-527.8\" font-family=\"Helvetica,sans-Serif\" font-size=\"14.00\" fill=\"#000000\">samples = 2340</text>\n<text text-anchor=\"start\" x=\"22337.5\" y=\"-512.8\" font-family=\"Helvetica,sans-Serif\" font-size=\"14.00\" fill=\"#000000\">value = [2320, 0, 1, 6, 10, 1, 1, 1]</text>\n</g>\n<!-- 233&#45;&gt;234 -->\n<g id=\"edge234\" class=\"edge\">\n<title>233&#45;&gt;234</title>\n<path fill=\"none\" stroke=\"#000000\" d=\"M22859.8563,-616.5547C22769.3769,-599.7213 22653.3396,-578.1329 22566.6761,-562.0095\"/>\n<polygon fill=\"#000000\" stroke=\"#000000\" points=\"22567.2617,-558.5585 22556.7902,-560.1703 22565.9813,-565.4404 22567.2617,-558.5585\"/>\n</g>\n<!-- 251 -->\n<g id=\"node252\" class=\"node\">\n<title>251</title>\n<path fill=\"#baddf6\" stroke=\"#000000\" d=\"M23120,-573C23120,-573 22884,-573 22884,-573 22878,-573 22872,-567 22872,-561 22872,-561 22872,-517 22872,-517 22872,-511 22878,-505 22884,-505 22884,-505 23120,-505 23120,-505 23126,-505 23132,-511 23132,-517 23132,-517 23132,-561 23132,-561 23132,-567 23126,-573 23120,-573\"/>\n<text text-anchor=\"start\" x=\"22969.5\" y=\"-557.8\" font-family=\"Helvetica,sans-Serif\" font-size=\"14.00\" fill=\"#000000\">hour ≤ 9.5</text>\n<text text-anchor=\"start\" x=\"22964\" y=\"-542.8\" font-family=\"Helvetica,sans-Serif\" font-size=\"14.00\" fill=\"#000000\">gini = 0.737</text>\n<text text-anchor=\"start\" x=\"22954\" y=\"-527.8\" font-family=\"Helvetica,sans-Serif\" font-size=\"14.00\" fill=\"#000000\">samples = 489</text>\n<text text-anchor=\"start\" x=\"22880\" y=\"-512.8\" font-family=\"Helvetica,sans-Serif\" font-size=\"14.00\" fill=\"#000000\">value = [2, 26, 10, 66, 219, 39, 52, 75]</text>\n</g>\n<!-- 233&#45;&gt;251 -->\n<g id=\"edge251\" class=\"edge\">\n<title>233&#45;&gt;251</title>\n<path fill=\"none\" stroke=\"#000000\" d=\"M23002,-608.9465C23002,-600.776 23002,-591.9318 23002,-583.3697\"/>\n<polygon fill=\"#000000\" stroke=\"#000000\" points=\"23005.5001,-583.13 23002,-573.13 22998.5001,-583.13 23005.5001,-583.13\"/>\n</g>\n<!-- 235 -->\n<g id=\"node236\" class=\"node\">\n<title>235</title>\n<path fill=\"#e58139\" stroke=\"#000000\" d=\"M22204,-469C22204,-469 22010,-469 22010,-469 22004,-469 21998,-463 21998,-457 21998,-457 21998,-413 21998,-413 21998,-407 22004,-401 22010,-401 22010,-401 22204,-401 22204,-401 22210,-401 22216,-407 22216,-413 22216,-413 22216,-457 22216,-457 22216,-463 22210,-469 22204,-469\"/>\n<text text-anchor=\"start\" x=\"22051\" y=\"-453.8\" font-family=\"Helvetica,sans-Serif\" font-size=\"14.00\" fill=\"#000000\">SourceIP ≤ 324.5</text>\n<text text-anchor=\"start\" x=\"22069\" y=\"-438.8\" font-family=\"Helvetica,sans-Serif\" font-size=\"14.00\" fill=\"#000000\">gini = 0.003</text>\n<text text-anchor=\"start\" x=\"22055\" y=\"-423.8\" font-family=\"Helvetica,sans-Serif\" font-size=\"14.00\" fill=\"#000000\">samples = 2323</text>\n<text text-anchor=\"start\" x=\"22006\" y=\"-408.8\" font-family=\"Helvetica,sans-Serif\" font-size=\"14.00\" fill=\"#000000\">value = [2320, 0, 1, 0, 0, 0, 1, 1]</text>\n</g>\n<!-- 234&#45;&gt;235 -->\n<g id=\"edge235\" class=\"edge\">\n<title>234&#45;&gt;235</title>\n<path fill=\"none\" stroke=\"#000000\" d=\"M22332.981,-504.9465C22298.6923,-494.3333 22260.7306,-482.5833 22225.8648,-471.7915\"/>\n<polygon fill=\"#000000\" stroke=\"#000000\" points=\"22226.7064,-468.3882 22216.1186,-468.7748 22224.6365,-475.0752 22226.7064,-468.3882\"/>\n</g>\n<!-- 246 -->\n<g id=\"node247\" class=\"node\">\n<title>246</title>\n<path fill=\"#b7dbf6\" stroke=\"#000000\" d=\"M22532,-469C22532,-469 22354,-469 22354,-469 22348,-469 22342,-463 22342,-457 22342,-457 22342,-413 22342,-413 22342,-407 22348,-401 22354,-401 22354,-401 22532,-401 22532,-401 22538,-401 22544,-407 22544,-413 22544,-413 22544,-457 22544,-457 22544,-463 22538,-469 22532,-469\"/>\n<text text-anchor=\"start\" x=\"22410.5\" y=\"-453.8\" font-family=\"Helvetica,sans-Serif\" font-size=\"14.00\" fill=\"#000000\">hour ≤ 9.5</text>\n<text text-anchor=\"start\" x=\"22405\" y=\"-438.8\" font-family=\"Helvetica,sans-Serif\" font-size=\"14.00\" fill=\"#000000\">gini = 0.526</text>\n<text text-anchor=\"start\" x=\"22399\" y=\"-423.8\" font-family=\"Helvetica,sans-Serif\" font-size=\"14.00\" fill=\"#000000\">samples = 17</text>\n<text text-anchor=\"start\" x=\"22350\" y=\"-408.8\" font-family=\"Helvetica,sans-Serif\" font-size=\"14.00\" fill=\"#000000\">value = [0, 0, 0, 6, 10, 1, 0, 0]</text>\n</g>\n<!-- 234&#45;&gt;246 -->\n<g id=\"edge246\" class=\"edge\">\n<title>234&#45;&gt;246</title>\n<path fill=\"none\" stroke=\"#000000\" d=\"M22443,-504.9465C22443,-496.776 22443,-487.9318 22443,-479.3697\"/>\n<polygon fill=\"#000000\" stroke=\"#000000\" points=\"22446.5001,-479.13 22443,-469.13 22439.5001,-479.13 22446.5001,-479.13\"/>\n</g>\n<!-- 236 -->\n<g id=\"node237\" class=\"node\">\n<title>236</title>\n<path fill=\"#e88f4f\" stroke=\"#000000\" d=\"M21968,-365C21968,-365 21790,-365 21790,-365 21784,-365 21778,-359 21778,-353 21778,-353 21778,-309 21778,-309 21778,-303 21784,-297 21790,-297 21790,-297 21968,-297 21968,-297 21974,-297 21980,-303 21980,-309 21980,-309 21980,-353 21980,-353 21980,-359 21974,-365 21968,-365\"/>\n<text text-anchor=\"start\" x=\"21804.5\" y=\"-349.8\" font-family=\"Helvetica,sans-Serif\" font-size=\"14.00\" fill=\"#000000\"> Source Port ≤ 60516.0</text>\n<text text-anchor=\"start\" x=\"21841\" y=\"-334.8\" font-family=\"Helvetica,sans-Serif\" font-size=\"14.00\" fill=\"#000000\">gini = 0.199</text>\n<text text-anchor=\"start\" x=\"21835\" y=\"-319.8\" font-family=\"Helvetica,sans-Serif\" font-size=\"14.00\" fill=\"#000000\">samples = 28</text>\n<text text-anchor=\"start\" x=\"21786\" y=\"-304.8\" font-family=\"Helvetica,sans-Serif\" font-size=\"14.00\" fill=\"#000000\">value = [25, 0, 1, 0, 0, 0, 1, 1]</text>\n</g>\n<!-- 235&#45;&gt;236 -->\n<g id=\"edge236\" class=\"edge\">\n<title>235&#45;&gt;236</title>\n<path fill=\"none\" stroke=\"#000000\" d=\"M22032.3443,-400.9465C22010.2001,-390.8457 21985.7984,-379.7151 21963.0987,-369.3608\"/>\n<polygon fill=\"#000000\" stroke=\"#000000\" points=\"21964.3742,-366.0957 21953.8235,-365.13 21961.4691,-372.4645 21964.3742,-366.0957\"/>\n</g>\n<!-- 245 -->\n<g id=\"node246\" class=\"node\">\n<title>245</title>\n<path fill=\"#e58139\" stroke=\"#000000\" d=\"M22204,-357.5C22204,-357.5 22010,-357.5 22010,-357.5 22004,-357.5 21998,-351.5 21998,-345.5 21998,-345.5 21998,-316.5 21998,-316.5 21998,-310.5 22004,-304.5 22010,-304.5 22010,-304.5 22204,-304.5 22204,-304.5 22210,-304.5 22216,-310.5 22216,-316.5 22216,-316.5 22216,-345.5 22216,-345.5 22216,-351.5 22210,-357.5 22204,-357.5\"/>\n<text text-anchor=\"start\" x=\"22077.5\" y=\"-342.3\" font-family=\"Helvetica,sans-Serif\" font-size=\"14.00\" fill=\"#000000\">gini = 0.0</text>\n<text text-anchor=\"start\" x=\"22055\" y=\"-327.3\" font-family=\"Helvetica,sans-Serif\" font-size=\"14.00\" fill=\"#000000\">samples = 2295</text>\n<text text-anchor=\"start\" x=\"22006\" y=\"-312.3\" font-family=\"Helvetica,sans-Serif\" font-size=\"14.00\" fill=\"#000000\">value = [2295, 0, 0, 0, 0, 0, 0, 0]</text>\n</g>\n<!-- 235&#45;&gt;245 -->\n<g id=\"edge245\" class=\"edge\">\n<title>235&#45;&gt;245</title>\n<path fill=\"none\" stroke=\"#000000\" d=\"M22107,-400.9465C22107,-390.2621 22107,-378.4254 22107,-367.5742\"/>\n<polygon fill=\"#000000\" stroke=\"#000000\" points=\"22110.5001,-367.5421 22107,-357.5422 22103.5001,-367.5422 22110.5001,-367.5421\"/>\n</g>\n<!-- 237 -->\n<g id=\"node238\" class=\"node\">\n<title>237</title>\n<path fill=\"#e68641\" stroke=\"#000000\" d=\"M21861.5,-261C21861.5,-261 21680.5,-261 21680.5,-261 21674.5,-261 21668.5,-255 21668.5,-249 21668.5,-249 21668.5,-205 21668.5,-205 21668.5,-199 21674.5,-193 21680.5,-193 21680.5,-193 21861.5,-193 21861.5,-193 21867.5,-193 21873.5,-199 21873.5,-205 21873.5,-205 21873.5,-249 21873.5,-249 21873.5,-255 21867.5,-261 21861.5,-261\"/>\n<text text-anchor=\"start\" x=\"21676.5\" y=\"-245.8\" font-family=\"Helvetica,sans-Serif\" font-size=\"14.00\" fill=\"#000000\">Fwd Packets/s ≤ 547619.062</text>\n<text text-anchor=\"start\" x=\"21733\" y=\"-230.8\" font-family=\"Helvetica,sans-Serif\" font-size=\"14.00\" fill=\"#000000\">gini = 0.074</text>\n<text text-anchor=\"start\" x=\"21727\" y=\"-215.8\" font-family=\"Helvetica,sans-Serif\" font-size=\"14.00\" fill=\"#000000\">samples = 26</text>\n<text text-anchor=\"start\" x=\"21678\" y=\"-200.8\" font-family=\"Helvetica,sans-Serif\" font-size=\"14.00\" fill=\"#000000\">value = [25, 0, 0, 0, 0, 0, 0, 1]</text>\n</g>\n<!-- 236&#45;&gt;237 -->\n<g id=\"edge237\" class=\"edge\">\n<title>236&#45;&gt;237</title>\n<path fill=\"none\" stroke=\"#000000\" d=\"M21843.6368,-296.9465C21834.1264,-287.7884 21823.737,-277.7838 21813.8665,-268.2788\"/>\n<polygon fill=\"#000000\" stroke=\"#000000\" points=\"21816.0737,-265.5453 21806.4427,-261.13 21811.2182,-270.5876 21816.0737,-265.5453\"/>\n</g>\n<!-- 242 -->\n<g id=\"node243\" class=\"node\">\n<title>242</title>\n<path fill=\"#ffffff\" stroke=\"#000000\" d=\"M22100.5,-261C22100.5,-261 21903.5,-261 21903.5,-261 21897.5,-261 21891.5,-255 21891.5,-249 21891.5,-249 21891.5,-205 21891.5,-205 21891.5,-199 21897.5,-193 21903.5,-193 21903.5,-193 22100.5,-193 22100.5,-193 22106.5,-193 22112.5,-199 22112.5,-205 22112.5,-205 22112.5,-249 22112.5,-249 22112.5,-255 22106.5,-261 22100.5,-261\"/>\n<text text-anchor=\"start\" x=\"21899.5\" y=\"-245.8\" font-family=\"Helvetica,sans-Serif\" font-size=\"14.00\" fill=\"#000000\"> Fwd Packet Length Max ≤ 25.0</text>\n<text text-anchor=\"start\" x=\"21972.5\" y=\"-230.8\" font-family=\"Helvetica,sans-Serif\" font-size=\"14.00\" fill=\"#000000\">gini = 0.5</text>\n<text text-anchor=\"start\" x=\"21962.5\" y=\"-215.8\" font-family=\"Helvetica,sans-Serif\" font-size=\"14.00\" fill=\"#000000\">samples = 2</text>\n<text text-anchor=\"start\" x=\"21913\" y=\"-200.8\" font-family=\"Helvetica,sans-Serif\" font-size=\"14.00\" fill=\"#000000\">value = [0, 0, 1, 0, 0, 0, 1, 0]</text>\n</g>\n<!-- 236&#45;&gt;242 -->\n<g id=\"edge242\" class=\"edge\">\n<title>236&#45;&gt;242</title>\n<path fill=\"none\" stroke=\"#000000\" d=\"M21919.2748,-296.9465C21930.3184,-287.6088 21942.4028,-277.3911 21953.8404,-267.7203\"/>\n<polygon fill=\"#000000\" stroke=\"#000000\" points=\"21956.2583,-270.2594 21961.6347,-261.13 21951.7386,-264.914 21956.2583,-270.2594\"/>\n</g>\n<!-- 238 -->\n<g id=\"node239\" class=\"node\">\n<title>238</title>\n<path fill=\"#e58139\" stroke=\"#000000\" d=\"M21654,-149.5C21654,-149.5 21476,-149.5 21476,-149.5 21470,-149.5 21464,-143.5 21464,-137.5 21464,-137.5 21464,-108.5 21464,-108.5 21464,-102.5 21470,-96.5 21476,-96.5 21476,-96.5 21654,-96.5 21654,-96.5 21660,-96.5 21666,-102.5 21666,-108.5 21666,-108.5 21666,-137.5 21666,-137.5 21666,-143.5 21660,-149.5 21654,-149.5\"/>\n<text text-anchor=\"start\" x=\"21535.5\" y=\"-134.3\" font-family=\"Helvetica,sans-Serif\" font-size=\"14.00\" fill=\"#000000\">gini = 0.0</text>\n<text text-anchor=\"start\" x=\"21521\" y=\"-119.3\" font-family=\"Helvetica,sans-Serif\" font-size=\"14.00\" fill=\"#000000\">samples = 22</text>\n<text text-anchor=\"start\" x=\"21472\" y=\"-104.3\" font-family=\"Helvetica,sans-Serif\" font-size=\"14.00\" fill=\"#000000\">value = [22, 0, 0, 0, 0, 0, 0, 0]</text>\n</g>\n<!-- 237&#45;&gt;238 -->\n<g id=\"edge238\" class=\"edge\">\n<title>237&#45;&gt;238</title>\n<path fill=\"none\" stroke=\"#000000\" d=\"M21703.5479,-192.9465C21678.7845,-180.4446 21650.8964,-166.3652 21626.6669,-154.1328\"/>\n<polygon fill=\"#000000\" stroke=\"#000000\" points=\"21628.0782,-150.9246 21617.5739,-149.5422 21624.9234,-157.1734 21628.0782,-150.9246\"/>\n</g>\n<!-- 239 -->\n<g id=\"node240\" class=\"node\">\n<title>239</title>\n<path fill=\"#eeab7b\" stroke=\"#000000\" d=\"M21866,-157C21866,-157 21696,-157 21696,-157 21690,-157 21684,-151 21684,-145 21684,-145 21684,-101 21684,-101 21684,-95 21690,-89 21696,-89 21696,-89 21866,-89 21866,-89 21872,-89 21878,-95 21878,-101 21878,-101 21878,-145 21878,-145 21878,-151 21872,-157 21866,-157\"/>\n<text text-anchor=\"start\" x=\"21730.5\" y=\"-141.8\" font-family=\"Helvetica,sans-Serif\" font-size=\"14.00\" fill=\"#000000\"> Protocol ≤ 11.5</text>\n<text text-anchor=\"start\" x=\"21743\" y=\"-126.8\" font-family=\"Helvetica,sans-Serif\" font-size=\"14.00\" fill=\"#000000\">gini = 0.375</text>\n<text text-anchor=\"start\" x=\"21741.5\" y=\"-111.8\" font-family=\"Helvetica,sans-Serif\" font-size=\"14.00\" fill=\"#000000\">samples = 4</text>\n<text text-anchor=\"start\" x=\"21692\" y=\"-96.8\" font-family=\"Helvetica,sans-Serif\" font-size=\"14.00\" fill=\"#000000\">value = [3, 0, 0, 0, 0, 0, 0, 1]</text>\n</g>\n<!-- 237&#45;&gt;239 -->\n<g id=\"edge239\" class=\"edge\">\n<title>237&#45;&gt;239</title>\n<path fill=\"none\" stroke=\"#000000\" d=\"M21774.2744,-192.9465C21775.0686,-184.6863 21775.9291,-175.7374 21776.7608,-167.0875\"/>\n<polygon fill=\"#000000\" stroke=\"#000000\" points=\"21780.245,-167.4191 21777.7183,-157.13 21773.2771,-166.7491 21780.245,-167.4191\"/>\n</g>\n<!-- 240 -->\n<g id=\"node241\" class=\"node\">\n<title>240</title>\n<path fill=\"#e58139\" stroke=\"#000000\" d=\"M21774,-53C21774,-53 21604,-53 21604,-53 21598,-53 21592,-47 21592,-41 21592,-41 21592,-12 21592,-12 21592,-6 21598,0 21604,0 21604,0 21774,0 21774,0 21780,0 21786,-6 21786,-12 21786,-12 21786,-41 21786,-41 21786,-47 21780,-53 21774,-53\"/>\n<text text-anchor=\"start\" x=\"21659.5\" y=\"-37.8\" font-family=\"Helvetica,sans-Serif\" font-size=\"14.00\" fill=\"#000000\">gini = 0.0</text>\n<text text-anchor=\"start\" x=\"21649.5\" y=\"-22.8\" font-family=\"Helvetica,sans-Serif\" font-size=\"14.00\" fill=\"#000000\">samples = 3</text>\n<text text-anchor=\"start\" x=\"21600\" y=\"-7.8\" font-family=\"Helvetica,sans-Serif\" font-size=\"14.00\" fill=\"#000000\">value = [3, 0, 0, 0, 0, 0, 0, 0]</text>\n</g>\n<!-- 239&#45;&gt;240 -->\n<g id=\"edge240\" class=\"edge\">\n<title>239&#45;&gt;240</title>\n<path fill=\"none\" stroke=\"#000000\" d=\"M21748.5642,-88.9777C21739.8343,-79.8207 21730.3885,-69.9129 21721.6471,-60.744\"/>\n<polygon fill=\"#000000\" stroke=\"#000000\" points=\"21723.9347,-58.0712 21714.5011,-53.2485 21718.8682,-62.9014 21723.9347,-58.0712\"/>\n</g>\n<!-- 241 -->\n<g id=\"node242\" class=\"node\">\n<title>241</title>\n<path fill=\"#e53972\" stroke=\"#000000\" d=\"M21986,-53C21986,-53 21816,-53 21816,-53 21810,-53 21804,-47 21804,-41 21804,-41 21804,-12 21804,-12 21804,-6 21810,0 21816,0 21816,0 21986,0 21986,0 21992,0 21998,-6 21998,-12 21998,-12 21998,-41 21998,-41 21998,-47 21992,-53 21986,-53\"/>\n<text text-anchor=\"start\" x=\"21871.5\" y=\"-37.8\" font-family=\"Helvetica,sans-Serif\" font-size=\"14.00\" fill=\"#000000\">gini = 0.0</text>\n<text text-anchor=\"start\" x=\"21861.5\" y=\"-22.8\" font-family=\"Helvetica,sans-Serif\" font-size=\"14.00\" fill=\"#000000\">samples = 1</text>\n<text text-anchor=\"start\" x=\"21812\" y=\"-7.8\" font-family=\"Helvetica,sans-Serif\" font-size=\"14.00\" fill=\"#000000\">value = [0, 0, 0, 0, 0, 0, 0, 1]</text>\n</g>\n<!-- 239&#45;&gt;241 -->\n<g id=\"edge241\" class=\"edge\">\n<title>239&#45;&gt;241</title>\n<path fill=\"none\" stroke=\"#000000\" d=\"M21823.3075,-88.9777C21835.1499,-79.4545 21848.0021,-69.1191 21859.7805,-59.6473\"/>\n<polygon fill=\"#000000\" stroke=\"#000000\" points=\"21862.1382,-62.2427 21867.7376,-53.2485 21857.7514,-56.7877 21862.1382,-62.2427\"/>\n</g>\n<!-- 243 -->\n<g id=\"node244\" class=\"node\">\n<title>243</title>\n<path fill=\"#d739e5\" stroke=\"#000000\" d=\"M22078,-149.5C22078,-149.5 21908,-149.5 21908,-149.5 21902,-149.5 21896,-143.5 21896,-137.5 21896,-137.5 21896,-108.5 21896,-108.5 21896,-102.5 21902,-96.5 21908,-96.5 21908,-96.5 22078,-96.5 22078,-96.5 22084,-96.5 22090,-102.5 22090,-108.5 22090,-108.5 22090,-137.5 22090,-137.5 22090,-143.5 22084,-149.5 22078,-149.5\"/>\n<text text-anchor=\"start\" x=\"21963.5\" y=\"-134.3\" font-family=\"Helvetica,sans-Serif\" font-size=\"14.00\" fill=\"#000000\">gini = 0.0</text>\n<text text-anchor=\"start\" x=\"21953.5\" y=\"-119.3\" font-family=\"Helvetica,sans-Serif\" font-size=\"14.00\" fill=\"#000000\">samples = 1</text>\n<text text-anchor=\"start\" x=\"21904\" y=\"-104.3\" font-family=\"Helvetica,sans-Serif\" font-size=\"14.00\" fill=\"#000000\">value = [0, 0, 0, 0, 0, 0, 1, 0]</text>\n</g>\n<!-- 242&#45;&gt;243 -->\n<g id=\"edge243\" class=\"edge\">\n<title>242&#45;&gt;243</title>\n<path fill=\"none\" stroke=\"#000000\" d=\"M21999.0531,-192.9465C21998.1284,-182.2621 21997.1041,-170.4254 21996.1651,-159.5742\"/>\n<polygon fill=\"#000000\" stroke=\"#000000\" points=\"21999.6461,-159.2031 21995.2969,-149.5422 21992.6722,-159.8067 21999.6461,-159.2031\"/>\n</g>\n<!-- 244 -->\n<g id=\"node245\" class=\"node\">\n<title>244</title>\n<path fill=\"#47e539\" stroke=\"#000000\" d=\"M22290,-149.5C22290,-149.5 22120,-149.5 22120,-149.5 22114,-149.5 22108,-143.5 22108,-137.5 22108,-137.5 22108,-108.5 22108,-108.5 22108,-102.5 22114,-96.5 22120,-96.5 22120,-96.5 22290,-96.5 22290,-96.5 22296,-96.5 22302,-102.5 22302,-108.5 22302,-108.5 22302,-137.5 22302,-137.5 22302,-143.5 22296,-149.5 22290,-149.5\"/>\n<text text-anchor=\"start\" x=\"22175.5\" y=\"-134.3\" font-family=\"Helvetica,sans-Serif\" font-size=\"14.00\" fill=\"#000000\">gini = 0.0</text>\n<text text-anchor=\"start\" x=\"22165.5\" y=\"-119.3\" font-family=\"Helvetica,sans-Serif\" font-size=\"14.00\" fill=\"#000000\">samples = 1</text>\n<text text-anchor=\"start\" x=\"22116\" y=\"-104.3\" font-family=\"Helvetica,sans-Serif\" font-size=\"14.00\" fill=\"#000000\">value = [0, 0, 1, 0, 0, 0, 0, 0]</text>\n</g>\n<!-- 242&#45;&gt;244 -->\n<g id=\"edge244\" class=\"edge\">\n<title>242&#45;&gt;244</title>\n<path fill=\"none\" stroke=\"#000000\" d=\"M22068.4698,-192.9465C22092.8726,-180.4446 22120.3545,-166.3652 22144.2312,-154.1328\"/>\n<polygon fill=\"#000000\" stroke=\"#000000\" points=\"22145.8876,-157.2168 22153.1917,-149.5422 22142.6958,-150.9868 22145.8876,-157.2168\"/>\n</g>\n<!-- 247 -->\n<g id=\"node248\" class=\"node\">\n<title>247</title>\n<path fill=\"#399de5\" stroke=\"#000000\" d=\"M22424,-357.5C22424,-357.5 22246,-357.5 22246,-357.5 22240,-357.5 22234,-351.5 22234,-345.5 22234,-345.5 22234,-316.5 22234,-316.5 22234,-310.5 22240,-304.5 22246,-304.5 22246,-304.5 22424,-304.5 22424,-304.5 22430,-304.5 22436,-310.5 22436,-316.5 22436,-316.5 22436,-345.5 22436,-345.5 22436,-351.5 22430,-357.5 22424,-357.5\"/>\n<text text-anchor=\"start\" x=\"22305.5\" y=\"-342.3\" font-family=\"Helvetica,sans-Serif\" font-size=\"14.00\" fill=\"#000000\">gini = 0.0</text>\n<text text-anchor=\"start\" x=\"22291\" y=\"-327.3\" font-family=\"Helvetica,sans-Serif\" font-size=\"14.00\" fill=\"#000000\">samples = 10</text>\n<text text-anchor=\"start\" x=\"22242\" y=\"-312.3\" font-family=\"Helvetica,sans-Serif\" font-size=\"14.00\" fill=\"#000000\">value = [0, 0, 0, 0, 10, 0, 0, 0]</text>\n</g>\n<!-- 246&#45;&gt;247 -->\n<g id=\"edge247\" class=\"edge\">\n<title>246&#45;&gt;247</title>\n<path fill=\"none\" stroke=\"#000000\" d=\"M22407.6368,-400.9465C22395.5119,-389.2707 22381.9582,-376.219 22369.8725,-364.5809\"/>\n<polygon fill=\"#000000\" stroke=\"#000000\" points=\"22372.194,-361.9575 22362.563,-357.5422 22367.3385,-366.9997 22372.194,-361.9575\"/>\n</g>\n<!-- 248 -->\n<g id=\"node249\" class=\"node\">\n<title>248</title>\n<path fill=\"#5ae9ba\" stroke=\"#000000\" d=\"M22636,-365C22636,-365 22466,-365 22466,-365 22460,-365 22454,-359 22454,-353 22454,-353 22454,-309 22454,-309 22454,-303 22460,-297 22466,-297 22466,-297 22636,-297 22636,-297 22642,-297 22648,-303 22648,-309 22648,-309 22648,-353 22648,-353 22648,-359 22642,-365 22636,-365\"/>\n<text text-anchor=\"start\" x=\"22514.5\" y=\"-349.8\" font-family=\"Helvetica,sans-Serif\" font-size=\"14.00\" fill=\"#000000\">hour ≤ 10.5</text>\n<text text-anchor=\"start\" x=\"22513\" y=\"-334.8\" font-family=\"Helvetica,sans-Serif\" font-size=\"14.00\" fill=\"#000000\">gini = 0.245</text>\n<text text-anchor=\"start\" x=\"22511.5\" y=\"-319.8\" font-family=\"Helvetica,sans-Serif\" font-size=\"14.00\" fill=\"#000000\">samples = 7</text>\n<text text-anchor=\"start\" x=\"22462\" y=\"-304.8\" font-family=\"Helvetica,sans-Serif\" font-size=\"14.00\" fill=\"#000000\">value = [0, 0, 0, 6, 0, 1, 0, 0]</text>\n</g>\n<!-- 246&#45;&gt;248 -->\n<g id=\"edge248\" class=\"edge\">\n<title>246&#45;&gt;248</title>\n<path fill=\"none\" stroke=\"#000000\" d=\"M22478.3632,-400.9465C22487.8736,-391.7884 22498.263,-381.7838 22508.1335,-372.2788\"/>\n<polygon fill=\"#000000\" stroke=\"#000000\" points=\"22510.7818,-374.5876 22515.5573,-365.13 22505.9263,-369.5453 22510.7818,-374.5876\"/>\n</g>\n<!-- 249 -->\n<g id=\"node250\" class=\"node\">\n<title>249</title>\n<path fill=\"#39e5ac\" stroke=\"#000000\" d=\"M22424,-253.5C22424,-253.5 22254,-253.5 22254,-253.5 22248,-253.5 22242,-247.5 22242,-241.5 22242,-241.5 22242,-212.5 22242,-212.5 22242,-206.5 22248,-200.5 22254,-200.5 22254,-200.5 22424,-200.5 22424,-200.5 22430,-200.5 22436,-206.5 22436,-212.5 22436,-212.5 22436,-241.5 22436,-241.5 22436,-247.5 22430,-253.5 22424,-253.5\"/>\n<text text-anchor=\"start\" x=\"22309.5\" y=\"-238.3\" font-family=\"Helvetica,sans-Serif\" font-size=\"14.00\" fill=\"#000000\">gini = 0.0</text>\n<text text-anchor=\"start\" x=\"22299.5\" y=\"-223.3\" font-family=\"Helvetica,sans-Serif\" font-size=\"14.00\" fill=\"#000000\">samples = 6</text>\n<text text-anchor=\"start\" x=\"22250\" y=\"-208.3\" font-family=\"Helvetica,sans-Serif\" font-size=\"14.00\" fill=\"#000000\">value = [0, 0, 0, 6, 0, 0, 0, 0]</text>\n</g>\n<!-- 248&#45;&gt;249 -->\n<g id=\"edge249\" class=\"edge\">\n<title>248&#45;&gt;249</title>\n<path fill=\"none\" stroke=\"#000000\" d=\"M22481.5833,-296.9465C22455.9863,-284.3895 22427.1454,-270.2411 22402.1337,-257.9712\"/>\n<polygon fill=\"#000000\" stroke=\"#000000\" points=\"22403.6246,-254.8042 22393.1052,-253.5422 22400.5416,-261.0887 22403.6246,-254.8042\"/>\n</g>\n<!-- 250 -->\n<g id=\"node251\" class=\"node\">\n<title>250</title>\n<path fill=\"#5639e5\" stroke=\"#000000\" d=\"M22636,-253.5C22636,-253.5 22466,-253.5 22466,-253.5 22460,-253.5 22454,-247.5 22454,-241.5 22454,-241.5 22454,-212.5 22454,-212.5 22454,-206.5 22460,-200.5 22466,-200.5 22466,-200.5 22636,-200.5 22636,-200.5 22642,-200.5 22648,-206.5 22648,-212.5 22648,-212.5 22648,-241.5 22648,-241.5 22648,-247.5 22642,-253.5 22636,-253.5\"/>\n<text text-anchor=\"start\" x=\"22521.5\" y=\"-238.3\" font-family=\"Helvetica,sans-Serif\" font-size=\"14.00\" fill=\"#000000\">gini = 0.0</text>\n<text text-anchor=\"start\" x=\"22511.5\" y=\"-223.3\" font-family=\"Helvetica,sans-Serif\" font-size=\"14.00\" fill=\"#000000\">samples = 1</text>\n<text text-anchor=\"start\" x=\"22462\" y=\"-208.3\" font-family=\"Helvetica,sans-Serif\" font-size=\"14.00\" fill=\"#000000\">value = [0, 0, 0, 0, 0, 1, 0, 0]</text>\n</g>\n<!-- 248&#45;&gt;250 -->\n<g id=\"edge250\" class=\"edge\">\n<title>248&#45;&gt;250</title>\n<path fill=\"none\" stroke=\"#000000\" d=\"M22551,-296.9465C22551,-286.2621 22551,-274.4254 22551,-263.5742\"/>\n<polygon fill=\"#000000\" stroke=\"#000000\" points=\"22554.5001,-263.5421 22551,-253.5422 22547.5001,-263.5422 22554.5001,-263.5421\"/>\n</g>\n<!-- 252 -->\n<g id=\"node253\" class=\"node\">\n<title>252</title>\n<path fill=\"#399de5\" stroke=\"#000000\" d=\"M22970,-461.5C22970,-461.5 22784,-461.5 22784,-461.5 22778,-461.5 22772,-455.5 22772,-449.5 22772,-449.5 22772,-420.5 22772,-420.5 22772,-414.5 22778,-408.5 22784,-408.5 22784,-408.5 22970,-408.5 22970,-408.5 22976,-408.5 22982,-414.5 22982,-420.5 22982,-420.5 22982,-449.5 22982,-449.5 22982,-455.5 22976,-461.5 22970,-461.5\"/>\n<text text-anchor=\"start\" x=\"22847.5\" y=\"-446.3\" font-family=\"Helvetica,sans-Serif\" font-size=\"14.00\" fill=\"#000000\">gini = 0.0</text>\n<text text-anchor=\"start\" x=\"22829\" y=\"-431.3\" font-family=\"Helvetica,sans-Serif\" font-size=\"14.00\" fill=\"#000000\">samples = 191</text>\n<text text-anchor=\"start\" x=\"22780\" y=\"-416.3\" font-family=\"Helvetica,sans-Serif\" font-size=\"14.00\" fill=\"#000000\">value = [0, 0, 0, 0, 191, 0, 0, 0]</text>\n</g>\n<!-- 251&#45;&gt;252 -->\n<g id=\"edge252\" class=\"edge\">\n<title>251&#45;&gt;252</title>\n<path fill=\"none\" stroke=\"#000000\" d=\"M22961.0703,-504.9465C22946.9045,-493.1606 22931.0537,-479.9726 22916.9662,-468.2519\"/>\n<polygon fill=\"#000000\" stroke=\"#000000\" points=\"22918.8275,-465.2474 22908.9016,-461.5422 22914.3504,-470.6285 22918.8275,-465.2474\"/>\n</g>\n<!-- 253 -->\n<g id=\"node254\" class=\"node\">\n<title>253</title>\n<path fill=\"#fef7fa\" stroke=\"#000000\" d=\"M23239.5,-469C23239.5,-469 23012.5,-469 23012.5,-469 23006.5,-469 23000.5,-463 23000.5,-457 23000.5,-457 23000.5,-413 23000.5,-413 23000.5,-407 23006.5,-401 23012.5,-401 23012.5,-401 23239.5,-401 23239.5,-401 23245.5,-401 23251.5,-407 23251.5,-413 23251.5,-413 23251.5,-457 23251.5,-457 23251.5,-463 23245.5,-469 23239.5,-469\"/>\n<text text-anchor=\"start\" x=\"23089.5\" y=\"-453.8\" font-family=\"Helvetica,sans-Serif\" font-size=\"14.00\" fill=\"#000000\">hour ≤ 10.5</text>\n<text text-anchor=\"start\" x=\"23088\" y=\"-438.8\" font-family=\"Helvetica,sans-Serif\" font-size=\"14.00\" fill=\"#000000\">gini = 0.822</text>\n<text text-anchor=\"start\" x=\"23078\" y=\"-423.8\" font-family=\"Helvetica,sans-Serif\" font-size=\"14.00\" fill=\"#000000\">samples = 298</text>\n<text text-anchor=\"start\" x=\"23008.5\" y=\"-408.8\" font-family=\"Helvetica,sans-Serif\" font-size=\"14.00\" fill=\"#000000\">value = [2, 26, 10, 66, 28, 39, 52, 75]</text>\n</g>\n<!-- 251&#45;&gt;253 -->\n<g id=\"edge253\" class=\"edge\">\n<title>251&#45;&gt;253</title>\n<path fill=\"none\" stroke=\"#000000\" d=\"M23042.6022,-504.9465C23053.7356,-495.6088 23065.9183,-485.3911 23077.4489,-475.7203\"/>\n<polygon fill=\"#000000\" stroke=\"#000000\" points=\"23079.8938,-478.2378 23085.3065,-469.13 23075.3954,-472.8745 23079.8938,-478.2378\"/>\n</g>\n<!-- 254 -->\n<g id=\"node255\" class=\"node\">\n<title>254</title>\n<path fill=\"#bff7e4\" stroke=\"#000000\" d=\"M23108.5,-365C23108.5,-365 22897.5,-365 22897.5,-365 22891.5,-365 22885.5,-359 22885.5,-353 22885.5,-353 22885.5,-309 22885.5,-309 22885.5,-303 22891.5,-297 22897.5,-297 22897.5,-297 23108.5,-297 23108.5,-297 23114.5,-297 23120.5,-303 23120.5,-309 23120.5,-309 23120.5,-353 23120.5,-353 23120.5,-359 23114.5,-365 23108.5,-365\"/>\n<text text-anchor=\"start\" x=\"22959\" y=\"-349.8\" font-family=\"Helvetica,sans-Serif\" font-size=\"14.00\" fill=\"#000000\">minute ≤ 31.5</text>\n<text text-anchor=\"start\" x=\"22965\" y=\"-334.8\" font-family=\"Helvetica,sans-Serif\" font-size=\"14.00\" fill=\"#000000\">gini = 0.709</text>\n<text text-anchor=\"start\" x=\"22955\" y=\"-319.8\" font-family=\"Helvetica,sans-Serif\" font-size=\"14.00\" fill=\"#000000\">samples = 145</text>\n<text text-anchor=\"start\" x=\"22893.5\" y=\"-304.8\" font-family=\"Helvetica,sans-Serif\" font-size=\"14.00\" fill=\"#000000\">value = [1, 26, 10, 66, 28, 0, 14, 0]</text>\n</g>\n<!-- 253&#45;&gt;254 -->\n<g id=\"edge254\" class=\"edge\">\n<title>253&#45;&gt;254</title>\n<path fill=\"none\" stroke=\"#000000\" d=\"M23085.7252,-400.9465C23074.6816,-391.6088 23062.5972,-381.3911 23051.1596,-371.7203\"/>\n<polygon fill=\"#000000\" stroke=\"#000000\" points=\"23053.2614,-368.914 23043.3653,-365.13 23048.7417,-374.2594 23053.2614,-368.914\"/>\n</g>\n<!-- 267 -->\n<g id=\"node268\" class=\"node\">\n<title>267</title>\n<path fill=\"#f7c0d2\" stroke=\"#000000\" d=\"M23345,-365C23345,-365 23151,-365 23151,-365 23145,-365 23139,-359 23139,-353 23139,-353 23139,-309 23139,-309 23139,-303 23145,-297 23151,-297 23151,-297 23345,-297 23345,-297 23351,-297 23357,-303 23357,-309 23357,-309 23357,-353 23357,-353 23357,-359 23351,-365 23345,-365\"/>\n<text text-anchor=\"start\" x=\"23204\" y=\"-349.8\" font-family=\"Helvetica,sans-Serif\" font-size=\"14.00\" fill=\"#000000\">minute ≤ 27.5</text>\n<text text-anchor=\"start\" x=\"23210\" y=\"-334.8\" font-family=\"Helvetica,sans-Serif\" font-size=\"14.00\" fill=\"#000000\">gini = 0.633</text>\n<text text-anchor=\"start\" x=\"23200\" y=\"-319.8\" font-family=\"Helvetica,sans-Serif\" font-size=\"14.00\" fill=\"#000000\">samples = 153</text>\n<text text-anchor=\"start\" x=\"23147\" y=\"-304.8\" font-family=\"Helvetica,sans-Serif\" font-size=\"14.00\" fill=\"#000000\">value = [1, 0, 0, 0, 0, 39, 38, 75]</text>\n</g>\n<!-- 253&#45;&gt;267 -->\n<g id=\"edge267\" class=\"edge\">\n<title>253&#45;&gt;267</title>\n<path fill=\"none\" stroke=\"#000000\" d=\"M23165.9474,-400.9465C23176.9012,-391.6088 23188.8873,-381.3911 23200.232,-371.7203\"/>\n<polygon fill=\"#000000\" stroke=\"#000000\" points=\"23202.6233,-374.2809 23207.9629,-365.13 23198.0821,-368.9538 23202.6233,-374.2809\"/>\n</g>\n<!-- 255 -->\n<g id=\"node256\" class=\"node\">\n<title>255</title>\n<path fill=\"#f5fafe\" stroke=\"#000000\" d=\"M22872,-261C22872,-261 22678,-261 22678,-261 22672,-261 22666,-255 22666,-249 22666,-249 22666,-205 22666,-205 22666,-199 22672,-193 22678,-193 22678,-193 22872,-193 22872,-193 22878,-193 22884,-199 22884,-205 22884,-205 22884,-249 22884,-249 22884,-255 22878,-261 22872,-261\"/>\n<text text-anchor=\"start\" x=\"22735.5\" y=\"-245.8\" font-family=\"Helvetica,sans-Serif\" font-size=\"14.00\" fill=\"#000000\">minute ≤ 1.5</text>\n<text text-anchor=\"start\" x=\"22737\" y=\"-230.8\" font-family=\"Helvetica,sans-Serif\" font-size=\"14.00\" fill=\"#000000\">gini = 0.619</text>\n<text text-anchor=\"start\" x=\"22731\" y=\"-215.8\" font-family=\"Helvetica,sans-Serif\" font-size=\"14.00\" fill=\"#000000\">samples = 64</text>\n<text text-anchor=\"start\" x=\"22674\" y=\"-200.8\" font-family=\"Helvetica,sans-Serif\" font-size=\"14.00\" fill=\"#000000\">value = [0, 26, 10, 0, 28, 0, 0, 0]</text>\n</g>\n<!-- 254&#45;&gt;255 -->\n<g id=\"edge255\" class=\"edge\">\n<title>254&#45;&gt;255</title>\n<path fill=\"none\" stroke=\"#000000\" d=\"M22928.3443,-296.9465C22906.2001,-286.8457 22881.7984,-275.7151 22859.0987,-265.3608\"/>\n<polygon fill=\"#000000\" stroke=\"#000000\" points=\"22860.3742,-262.0957 22849.8235,-261.13 22857.4691,-268.4645 22860.3742,-262.0957\"/>\n</g>\n<!-- 262 -->\n<g id=\"node263\" class=\"node\">\n<title>262</title>\n<path fill=\"#65ebbf\" stroke=\"#000000\" d=\"M23100,-261C23100,-261 22914,-261 22914,-261 22908,-261 22902,-255 22902,-249 22902,-249 22902,-205 22902,-205 22902,-199 22908,-193 22914,-193 22914,-193 23100,-193 23100,-193 23106,-193 23112,-199 23112,-205 23112,-205 23112,-249 23112,-249 23112,-255 23106,-261 23100,-261\"/>\n<text text-anchor=\"start\" x=\"22963\" y=\"-245.8\" font-family=\"Helvetica,sans-Serif\" font-size=\"14.00\" fill=\"#000000\">minute ≤ 51.5</text>\n<text text-anchor=\"start\" x=\"22969\" y=\"-230.8\" font-family=\"Helvetica,sans-Serif\" font-size=\"14.00\" fill=\"#000000\">gini = 0.306</text>\n<text text-anchor=\"start\" x=\"22963\" y=\"-215.8\" font-family=\"Helvetica,sans-Serif\" font-size=\"14.00\" fill=\"#000000\">samples = 81</text>\n<text text-anchor=\"start\" x=\"22910\" y=\"-200.8\" font-family=\"Helvetica,sans-Serif\" font-size=\"14.00\" fill=\"#000000\">value = [1, 0, 0, 66, 0, 0, 14, 0]</text>\n</g>\n<!-- 254&#45;&gt;262 -->\n<g id=\"edge262\" class=\"edge\">\n<title>254&#45;&gt;262</title>\n<path fill=\"none\" stroke=\"#000000\" d=\"M23004.3097,-296.9465C23004.624,-288.776 23004.9642,-279.9318 23005.2935,-271.3697\"/>\n<polygon fill=\"#000000\" stroke=\"#000000\" points=\"23008.8003,-271.2572 23005.6873,-261.13 23001.8055,-270.9881 23008.8003,-271.2572\"/>\n</g>\n<!-- 256 -->\n<g id=\"node257\" class=\"node\">\n<title>256</title>\n<path fill=\"#47a4e7\" stroke=\"#000000\" d=\"M22510,-157C22510,-157 22332,-157 22332,-157 22326,-157 22320,-151 22320,-145 22320,-145 22320,-101 22320,-101 22320,-95 22326,-89 22332,-89 22332,-89 22510,-89 22510,-89 22516,-89 22522,-95 22522,-101 22522,-101 22522,-145 22522,-145 22522,-151 22516,-157 22510,-157\"/>\n<text text-anchor=\"start\" x=\"22339.5\" y=\"-141.8\" font-family=\"Helvetica,sans-Serif\" font-size=\"14.00\" fill=\"#000000\"> Flow Packets/s ≤ 43.882</text>\n<text text-anchor=\"start\" x=\"22383\" y=\"-126.8\" font-family=\"Helvetica,sans-Serif\" font-size=\"14.00\" fill=\"#000000\">gini = 0.124</text>\n<text text-anchor=\"start\" x=\"22377\" y=\"-111.8\" font-family=\"Helvetica,sans-Serif\" font-size=\"14.00\" fill=\"#000000\">samples = 30</text>\n<text text-anchor=\"start\" x=\"22328\" y=\"-96.8\" font-family=\"Helvetica,sans-Serif\" font-size=\"14.00\" fill=\"#000000\">value = [0, 2, 0, 0, 28, 0, 0, 0]</text>\n</g>\n<!-- 255&#45;&gt;256 -->\n<g id=\"edge256\" class=\"edge\">\n<title>255&#45;&gt;256</title>\n<path fill=\"none\" stroke=\"#000000\" d=\"M22665.8998,-194.948C22623.3997,-182.462 22574.7434,-168.1676 22532.0575,-155.6271\"/>\n<polygon fill=\"#000000\" stroke=\"#000000\" points=\"22532.778,-152.1909 22522.1969,-152.7302 22530.8049,-158.907 22532.778,-152.1909\"/>\n</g>\n<!-- 259 -->\n<g id=\"node260\" class=\"node\">\n<title>259</title>\n<path fill=\"#dff08b\" stroke=\"#000000\" d=\"M22868,-157C22868,-157 22682,-157 22682,-157 22676,-157 22670,-151 22670,-145 22670,-145 22670,-101 22670,-101 22670,-95 22676,-89 22682,-89 22682,-89 22868,-89 22868,-89 22874,-89 22880,-95 22880,-101 22880,-101 22880,-145 22880,-145 22880,-151 22874,-157 22868,-157\"/>\n<text text-anchor=\"start\" x=\"22731\" y=\"-141.8\" font-family=\"Helvetica,sans-Serif\" font-size=\"14.00\" fill=\"#000000\">minute ≤ 19.5</text>\n<text text-anchor=\"start\" x=\"22737\" y=\"-126.8\" font-family=\"Helvetica,sans-Serif\" font-size=\"14.00\" fill=\"#000000\">gini = 0.415</text>\n<text text-anchor=\"start\" x=\"22731\" y=\"-111.8\" font-family=\"Helvetica,sans-Serif\" font-size=\"14.00\" fill=\"#000000\">samples = 34</text>\n<text text-anchor=\"start\" x=\"22678\" y=\"-96.8\" font-family=\"Helvetica,sans-Serif\" font-size=\"14.00\" fill=\"#000000\">value = [0, 24, 10, 0, 0, 0, 0, 0]</text>\n</g>\n<!-- 255&#45;&gt;259 -->\n<g id=\"edge259\" class=\"edge\">\n<title>255&#45;&gt;259</title>\n<path fill=\"none\" stroke=\"#000000\" d=\"M22775,-192.9465C22775,-184.776 22775,-175.9318 22775,-167.3697\"/>\n<polygon fill=\"#000000\" stroke=\"#000000\" points=\"22778.5001,-167.13 22775,-157.13 22771.5001,-167.13 22778.5001,-167.13\"/>\n</g>\n<!-- 257 -->\n<g id=\"node258\" class=\"node\">\n<title>257</title>\n<path fill=\"#bddef6\" stroke=\"#000000\" d=\"M22218,-53C22218,-53 22048,-53 22048,-53 22042,-53 22036,-47 22036,-41 22036,-41 22036,-12 22036,-12 22036,-6 22042,0 22048,0 22048,0 22218,0 22218,0 22224,0 22230,-6 22230,-12 22230,-12 22230,-41 22230,-41 22230,-47 22224,-53 22218,-53\"/>\n<text text-anchor=\"start\" x=\"22099.5\" y=\"-37.8\" font-family=\"Helvetica,sans-Serif\" font-size=\"14.00\" fill=\"#000000\">gini = 0.48</text>\n<text text-anchor=\"start\" x=\"22093.5\" y=\"-22.8\" font-family=\"Helvetica,sans-Serif\" font-size=\"14.00\" fill=\"#000000\">samples = 5</text>\n<text text-anchor=\"start\" x=\"22044\" y=\"-7.8\" font-family=\"Helvetica,sans-Serif\" font-size=\"14.00\" fill=\"#000000\">value = [0, 2, 0, 0, 3, 0, 0, 0]</text>\n</g>\n<!-- 256&#45;&gt;257 -->\n<g id=\"edge257\" class=\"edge\">\n<title>256&#45;&gt;257</title>\n<path fill=\"none\" stroke=\"#000000\" d=\"M22319.8669,-89.1134C22287.8462,-78.3842 22252.714,-66.6125 22221.6391,-56.2002\"/>\n<polygon fill=\"#000000\" stroke=\"#000000\" points=\"22222.7272,-52.8736 22212.1333,-53.0152 22220.5032,-59.511 22222.7272,-52.8736\"/>\n</g>\n<!-- 258 -->\n<g id=\"node259\" class=\"node\">\n<title>258</title>\n<path fill=\"#399de5\" stroke=\"#000000\" d=\"M22438,-53C22438,-53 22260,-53 22260,-53 22254,-53 22248,-47 22248,-41 22248,-41 22248,-12 22248,-12 22248,-6 22254,0 22260,0 22260,0 22438,0 22438,0 22444,0 22450,-6 22450,-12 22450,-12 22450,-41 22450,-41 22450,-47 22444,-53 22438,-53\"/>\n<text text-anchor=\"start\" x=\"22319.5\" y=\"-37.8\" font-family=\"Helvetica,sans-Serif\" font-size=\"14.00\" fill=\"#000000\">gini = 0.0</text>\n<text text-anchor=\"start\" x=\"22305\" y=\"-22.8\" font-family=\"Helvetica,sans-Serif\" font-size=\"14.00\" fill=\"#000000\">samples = 25</text>\n<text text-anchor=\"start\" x=\"22256\" y=\"-7.8\" font-family=\"Helvetica,sans-Serif\" font-size=\"14.00\" fill=\"#000000\">value = [0, 0, 0, 0, 25, 0, 0, 0]</text>\n</g>\n<!-- 256&#45;&gt;258 -->\n<g id=\"edge258\" class=\"edge\">\n<title>256&#45;&gt;258</title>\n<path fill=\"none\" stroke=\"#000000\" d=\"M22395.6155,-88.9777C22388.92,-80.0039 22381.6865,-70.3089 22374.961,-61.295\"/>\n<polygon fill=\"#000000\" stroke=\"#000000\" points=\"22377.7427,-59.1704 22368.9574,-53.2485 22372.1323,-63.3565 22377.7427,-59.1704\"/>\n</g>\n<!-- 260 -->\n<g id=\"node261\" class=\"node\">\n<title>260</title>\n<path fill=\"#c8e539\" stroke=\"#000000\" d=\"M22658,-53C22658,-53 22480,-53 22480,-53 22474,-53 22468,-47 22468,-41 22468,-41 22468,-12 22468,-12 22468,-6 22474,0 22480,0 22480,0 22658,0 22658,0 22664,0 22670,-6 22670,-12 22670,-12 22670,-41 22670,-41 22670,-47 22664,-53 22658,-53\"/>\n<text text-anchor=\"start\" x=\"22539.5\" y=\"-37.8\" font-family=\"Helvetica,sans-Serif\" font-size=\"14.00\" fill=\"#000000\">gini = 0.0</text>\n<text text-anchor=\"start\" x=\"22525\" y=\"-22.8\" font-family=\"Helvetica,sans-Serif\" font-size=\"14.00\" fill=\"#000000\">samples = 24</text>\n<text text-anchor=\"start\" x=\"22476\" y=\"-7.8\" font-family=\"Helvetica,sans-Serif\" font-size=\"14.00\" fill=\"#000000\">value = [0, 24, 0, 0, 0, 0, 0, 0]</text>\n</g>\n<!-- 259&#45;&gt;260 -->\n<g id=\"edge260\" class=\"edge\">\n<title>259&#45;&gt;260</title>\n<path fill=\"none\" stroke=\"#000000\" d=\"M22702.3721,-88.9777C22680.3775,-78.6744 22656.3537,-67.4205 22634.8307,-57.3381\"/>\n<polygon fill=\"#000000\" stroke=\"#000000\" points=\"22636.3132,-54.1677 22625.7728,-53.095 22633.3437,-60.5066 22636.3132,-54.1677\"/>\n</g>\n<!-- 261 -->\n<g id=\"node262\" class=\"node\">\n<title>261</title>\n<path fill=\"#47e539\" stroke=\"#000000\" d=\"M22878,-53C22878,-53 22700,-53 22700,-53 22694,-53 22688,-47 22688,-41 22688,-41 22688,-12 22688,-12 22688,-6 22694,0 22700,0 22700,0 22878,0 22878,0 22884,0 22890,-6 22890,-12 22890,-12 22890,-41 22890,-41 22890,-47 22884,-53 22878,-53\"/>\n<text text-anchor=\"start\" x=\"22759.5\" y=\"-37.8\" font-family=\"Helvetica,sans-Serif\" font-size=\"14.00\" fill=\"#000000\">gini = 0.0</text>\n<text text-anchor=\"start\" x=\"22745\" y=\"-22.8\" font-family=\"Helvetica,sans-Serif\" font-size=\"14.00\" fill=\"#000000\">samples = 10</text>\n<text text-anchor=\"start\" x=\"22696\" y=\"-7.8\" font-family=\"Helvetica,sans-Serif\" font-size=\"14.00\" fill=\"#000000\">value = [0, 0, 10, 0, 0, 0, 0, 0]</text>\n</g>\n<!-- 259&#45;&gt;261 -->\n<g id=\"edge261\" class=\"edge\">\n<title>259&#45;&gt;261</title>\n<path fill=\"none\" stroke=\"#000000\" d=\"M22779.9359,-88.9777C22781.1448,-80.6449 22782.4439,-71.6903 22783.6704,-63.2364\"/>\n<polygon fill=\"#000000\" stroke=\"#000000\" points=\"22787.1473,-63.6474 22785.1194,-53.2485 22780.2198,-62.6423 22787.1473,-63.6474\"/>\n</g>\n<!-- 263 -->\n<g id=\"node264\" class=\"node\">\n<title>263</title>\n<path fill=\"#3ce5ad\" stroke=\"#000000\" d=\"M23092,-157C23092,-157 22914,-157 22914,-157 22908,-157 22902,-151 22902,-145 22902,-145 22902,-101 22902,-101 22902,-95 22908,-89 22914,-89 22914,-89 23092,-89 23092,-89 23098,-89 23104,-95 23104,-101 23104,-101 23104,-145 23104,-145 23104,-151 23098,-157 23092,-157\"/>\n<text text-anchor=\"start\" x=\"22932.5\" y=\"-141.8\" font-family=\"Helvetica,sans-Serif\" font-size=\"14.00\" fill=\"#000000\"> Source Port ≤ 5925.0</text>\n<text text-anchor=\"start\" x=\"22965\" y=\"-126.8\" font-family=\"Helvetica,sans-Serif\" font-size=\"14.00\" fill=\"#000000\">gini = 0.029</text>\n<text text-anchor=\"start\" x=\"22959\" y=\"-111.8\" font-family=\"Helvetica,sans-Serif\" font-size=\"14.00\" fill=\"#000000\">samples = 67</text>\n<text text-anchor=\"start\" x=\"22910\" y=\"-96.8\" font-family=\"Helvetica,sans-Serif\" font-size=\"14.00\" fill=\"#000000\">value = [1, 0, 0, 66, 0, 0, 0, 0]</text>\n</g>\n<!-- 262&#45;&gt;263 -->\n<g id=\"edge263\" class=\"edge\">\n<title>262&#45;&gt;263</title>\n<path fill=\"none\" stroke=\"#000000\" d=\"M23005.6903,-192.9465C23005.376,-184.776 23005.0358,-175.9318 23004.7065,-167.3697\"/>\n<polygon fill=\"#000000\" stroke=\"#000000\" points=\"23008.1945,-166.9881 23004.3127,-157.13 23001.1997,-167.2572 23008.1945,-166.9881\"/>\n</g>\n<!-- 266 -->\n<g id=\"node267\" class=\"node\">\n<title>266</title>\n<path fill=\"#d739e5\" stroke=\"#000000\" d=\"M23312,-149.5C23312,-149.5 23134,-149.5 23134,-149.5 23128,-149.5 23122,-143.5 23122,-137.5 23122,-137.5 23122,-108.5 23122,-108.5 23122,-102.5 23128,-96.5 23134,-96.5 23134,-96.5 23312,-96.5 23312,-96.5 23318,-96.5 23324,-102.5 23324,-108.5 23324,-108.5 23324,-137.5 23324,-137.5 23324,-143.5 23318,-149.5 23312,-149.5\"/>\n<text text-anchor=\"start\" x=\"23193.5\" y=\"-134.3\" font-family=\"Helvetica,sans-Serif\" font-size=\"14.00\" fill=\"#000000\">gini = 0.0</text>\n<text text-anchor=\"start\" x=\"23179\" y=\"-119.3\" font-family=\"Helvetica,sans-Serif\" font-size=\"14.00\" fill=\"#000000\">samples = 14</text>\n<text text-anchor=\"start\" x=\"23130\" y=\"-104.3\" font-family=\"Helvetica,sans-Serif\" font-size=\"14.00\" fill=\"#000000\">value = [0, 0, 0, 0, 0, 0, 14, 0]</text>\n</g>\n<!-- 262&#45;&gt;266 -->\n<g id=\"edge266\" class=\"edge\">\n<title>262&#45;&gt;266</title>\n<path fill=\"none\" stroke=\"#000000\" d=\"M23077.7265,-192.9465C23103.8064,-180.3895 23133.1915,-166.2411 23158.6751,-153.9712\"/>\n<polygon fill=\"#000000\" stroke=\"#000000\" points=\"23160.3823,-157.0339 23167.874,-149.5422 23157.3456,-150.7269 23160.3823,-157.0339\"/>\n</g>\n<!-- 264 -->\n<g id=\"node265\" class=\"node\">\n<title>264</title>\n<path fill=\"#e58139\" stroke=\"#000000\" d=\"M23090,-53C23090,-53 22920,-53 22920,-53 22914,-53 22908,-47 22908,-41 22908,-41 22908,-12 22908,-12 22908,-6 22914,0 22920,0 22920,0 23090,0 23090,0 23096,0 23102,-6 23102,-12 23102,-12 23102,-41 23102,-41 23102,-47 23096,-53 23090,-53\"/>\n<text text-anchor=\"start\" x=\"22975.5\" y=\"-37.8\" font-family=\"Helvetica,sans-Serif\" font-size=\"14.00\" fill=\"#000000\">gini = 0.0</text>\n<text text-anchor=\"start\" x=\"22965.5\" y=\"-22.8\" font-family=\"Helvetica,sans-Serif\" font-size=\"14.00\" fill=\"#000000\">samples = 1</text>\n<text text-anchor=\"start\" x=\"22916\" y=\"-7.8\" font-family=\"Helvetica,sans-Serif\" font-size=\"14.00\" fill=\"#000000\">value = [1, 0, 0, 0, 0, 0, 0, 0]</text>\n</g>\n<!-- 263&#45;&gt;264 -->\n<g id=\"edge264\" class=\"edge\">\n<title>263&#45;&gt;264</title>\n<path fill=\"none\" stroke=\"#000000\" d=\"M23003.7051,-88.9777C23003.8759,-80.7364 23004.0593,-71.887 23004.2328,-63.5153\"/>\n<polygon fill=\"#000000\" stroke=\"#000000\" points=\"23007.7376,-63.3189 23004.4456,-53.2485 23000.7391,-63.1738 23007.7376,-63.3189\"/>\n</g>\n<!-- 265 -->\n<g id=\"node266\" class=\"node\">\n<title>265</title>\n<path fill=\"#39e5ac\" stroke=\"#000000\" d=\"M23310,-53C23310,-53 23132,-53 23132,-53 23126,-53 23120,-47 23120,-41 23120,-41 23120,-12 23120,-12 23120,-6 23126,0 23132,0 23132,0 23310,0 23310,0 23316,0 23322,-6 23322,-12 23322,-12 23322,-41 23322,-41 23322,-47 23316,-53 23310,-53\"/>\n<text text-anchor=\"start\" x=\"23191.5\" y=\"-37.8\" font-family=\"Helvetica,sans-Serif\" font-size=\"14.00\" fill=\"#000000\">gini = 0.0</text>\n<text text-anchor=\"start\" x=\"23177\" y=\"-22.8\" font-family=\"Helvetica,sans-Serif\" font-size=\"14.00\" fill=\"#000000\">samples = 66</text>\n<text text-anchor=\"start\" x=\"23128\" y=\"-7.8\" font-family=\"Helvetica,sans-Serif\" font-size=\"14.00\" fill=\"#000000\">value = [0, 0, 0, 66, 0, 0, 0, 0]</text>\n</g>\n<!-- 263&#45;&gt;265 -->\n<g id=\"edge265\" class=\"edge\">\n<title>263&#45;&gt;265</title>\n<path fill=\"none\" stroke=\"#000000\" d=\"M23079.8586,-88.9777C23103.2384,-78.6284 23128.7848,-67.32 23151.6394,-57.2032\"/>\n<polygon fill=\"#000000\" stroke=\"#000000\" points=\"23153.1926,-60.3433 23160.92,-53.095 23150.3591,-53.9424 23153.1926,-60.3433\"/>\n</g>\n<!-- 268 -->\n<g id=\"node269\" class=\"node\">\n<title>268</title>\n<path fill=\"#f29fba\" stroke=\"#000000\" d=\"M23336,-261C23336,-261 23150,-261 23150,-261 23144,-261 23138,-255 23138,-249 23138,-249 23138,-205 23138,-205 23138,-199 23144,-193 23150,-193 23150,-193 23336,-193 23336,-193 23342,-193 23348,-199 23348,-205 23348,-205 23348,-249 23348,-249 23348,-255 23342,-261 23336,-261\"/>\n<text text-anchor=\"start\" x=\"23199\" y=\"-245.8\" font-family=\"Helvetica,sans-Serif\" font-size=\"14.00\" fill=\"#000000\">minute ≤ 12.5</text>\n<text text-anchor=\"start\" x=\"23205\" y=\"-230.8\" font-family=\"Helvetica,sans-Serif\" font-size=\"14.00\" fill=\"#000000\">gini = 0.456</text>\n<text text-anchor=\"start\" x=\"23195\" y=\"-215.8\" font-family=\"Helvetica,sans-Serif\" font-size=\"14.00\" fill=\"#000000\">samples = 114</text>\n<text text-anchor=\"start\" x=\"23146\" y=\"-200.8\" font-family=\"Helvetica,sans-Serif\" font-size=\"14.00\" fill=\"#000000\">value = [1, 0, 0, 0, 0, 0, 38, 75]</text>\n</g>\n<!-- 267&#45;&gt;268 -->\n<g id=\"edge268\" class=\"edge\">\n<title>267&#45;&gt;268</title>\n<path fill=\"none\" stroke=\"#000000\" d=\"M23246.3628,-296.9465C23245.97,-288.776 23245.5448,-279.9318 23245.1332,-271.3697\"/>\n<polygon fill=\"#000000\" stroke=\"#000000\" points=\"23248.6171,-270.9504 23244.6409,-261.13 23241.6252,-271.2866 23248.6171,-270.9504\"/>\n</g>\n<!-- 273 -->\n<g id=\"node274\" class=\"node\">\n<title>273</title>\n<path fill=\"#5639e5\" stroke=\"#000000\" d=\"M23556,-253.5C23556,-253.5 23378,-253.5 23378,-253.5 23372,-253.5 23366,-247.5 23366,-241.5 23366,-241.5 23366,-212.5 23366,-212.5 23366,-206.5 23372,-200.5 23378,-200.5 23378,-200.5 23556,-200.5 23556,-200.5 23562,-200.5 23568,-206.5 23568,-212.5 23568,-212.5 23568,-241.5 23568,-241.5 23568,-247.5 23562,-253.5 23556,-253.5\"/>\n<text text-anchor=\"start\" x=\"23437.5\" y=\"-238.3\" font-family=\"Helvetica,sans-Serif\" font-size=\"14.00\" fill=\"#000000\">gini = 0.0</text>\n<text text-anchor=\"start\" x=\"23423\" y=\"-223.3\" font-family=\"Helvetica,sans-Serif\" font-size=\"14.00\" fill=\"#000000\">samples = 39</text>\n<text text-anchor=\"start\" x=\"23374\" y=\"-208.3\" font-family=\"Helvetica,sans-Serif\" font-size=\"14.00\" fill=\"#000000\">value = [0, 0, 0, 0, 0, 39, 0, 0]</text>\n</g>\n<!-- 267&#45;&gt;273 -->\n<g id=\"edge273\" class=\"edge\">\n<title>267&#45;&gt;273</title>\n<path fill=\"none\" stroke=\"#000000\" d=\"M23319.7088,-296.9465C23346.1509,-284.3895 23375.9442,-270.2411 23401.7817,-257.9712\"/>\n<polygon fill=\"#000000\" stroke=\"#000000\" points=\"23403.5766,-260.9936 23411.1083,-253.5422 23400.5737,-254.6703 23403.5766,-260.9936\"/>\n</g>\n<!-- 269 -->\n<g id=\"node270\" class=\"node\">\n<title>269</title>\n<path fill=\"#d83ee6\" stroke=\"#000000\" d=\"M23532,-157C23532,-157 23354,-157 23354,-157 23348,-157 23342,-151 23342,-145 23342,-145 23342,-101 23342,-101 23342,-95 23348,-89 23354,-89 23354,-89 23532,-89 23532,-89 23538,-89 23544,-95 23544,-101 23544,-101 23544,-145 23544,-145 23544,-151 23538,-157 23532,-157\"/>\n<text text-anchor=\"start\" x=\"23387\" y=\"-141.8\" font-family=\"Helvetica,sans-Serif\" font-size=\"14.00\" fill=\"#000000\">SourceIP ≤ 210.0</text>\n<text text-anchor=\"start\" x=\"23409.5\" y=\"-126.8\" font-family=\"Helvetica,sans-Serif\" font-size=\"14.00\" fill=\"#000000\">gini = 0.05</text>\n<text text-anchor=\"start\" x=\"23399\" y=\"-111.8\" font-family=\"Helvetica,sans-Serif\" font-size=\"14.00\" fill=\"#000000\">samples = 39</text>\n<text text-anchor=\"start\" x=\"23350\" y=\"-96.8\" font-family=\"Helvetica,sans-Serif\" font-size=\"14.00\" fill=\"#000000\">value = [1, 0, 0, 0, 0, 0, 38, 0]</text>\n</g>\n<!-- 268&#45;&gt;269 -->\n<g id=\"edge269\" class=\"edge\">\n<title>268&#45;&gt;269</title>\n<path fill=\"none\" stroke=\"#000000\" d=\"M23308.4875,-192.9465C23327.6532,-182.9803 23348.7467,-172.0117 23368.4319,-161.7754\"/>\n<polygon fill=\"#000000\" stroke=\"#000000\" points=\"23370.108,-164.8488 23377.3654,-157.13 23366.8785,-158.6383 23370.108,-164.8488\"/>\n</g>\n<!-- 272 -->\n<g id=\"node273\" class=\"node\">\n<title>272</title>\n<path fill=\"#e53972\" stroke=\"#000000\" d=\"M23752,-149.5C23752,-149.5 23574,-149.5 23574,-149.5 23568,-149.5 23562,-143.5 23562,-137.5 23562,-137.5 23562,-108.5 23562,-108.5 23562,-102.5 23568,-96.5 23574,-96.5 23574,-96.5 23752,-96.5 23752,-96.5 23758,-96.5 23764,-102.5 23764,-108.5 23764,-108.5 23764,-137.5 23764,-137.5 23764,-143.5 23758,-149.5 23752,-149.5\"/>\n<text text-anchor=\"start\" x=\"23633.5\" y=\"-134.3\" font-family=\"Helvetica,sans-Serif\" font-size=\"14.00\" fill=\"#000000\">gini = 0.0</text>\n<text text-anchor=\"start\" x=\"23619\" y=\"-119.3\" font-family=\"Helvetica,sans-Serif\" font-size=\"14.00\" fill=\"#000000\">samples = 75</text>\n<text text-anchor=\"start\" x=\"23570\" y=\"-104.3\" font-family=\"Helvetica,sans-Serif\" font-size=\"14.00\" fill=\"#000000\">value = [0, 0, 0, 0, 0, 0, 0, 75]</text>\n</g>\n<!-- 268&#45;&gt;272 -->\n<g id=\"edge272\" class=\"edge\">\n<title>268&#45;&gt;272</title>\n<path fill=\"none\" stroke=\"#000000\" d=\"M23348.1702,-195.1823C23351.1404,-194.4288 23354.0881,-193.6995 23357,-193 23443.1185,-172.3131 23466.9853,-178.1142 23553,-157 23558.9875,-155.5302 23565.129,-153.9211 23571.3005,-152.2275\"/>\n<polygon fill=\"#000000\" stroke=\"#000000\" points=\"23572.3227,-155.5759 23581.0053,-149.5044 23570.4316,-148.8362 23572.3227,-155.5759\"/>\n</g>\n<!-- 270 -->\n<g id=\"node271\" class=\"node\">\n<title>270</title>\n<path fill=\"#e58139\" stroke=\"#000000\" d=\"M23526,-53C23526,-53 23356,-53 23356,-53 23350,-53 23344,-47 23344,-41 23344,-41 23344,-12 23344,-12 23344,-6 23350,0 23356,0 23356,0 23526,0 23526,0 23532,0 23538,-6 23538,-12 23538,-12 23538,-41 23538,-41 23538,-47 23532,-53 23526,-53\"/>\n<text text-anchor=\"start\" x=\"23411.5\" y=\"-37.8\" font-family=\"Helvetica,sans-Serif\" font-size=\"14.00\" fill=\"#000000\">gini = 0.0</text>\n<text text-anchor=\"start\" x=\"23401.5\" y=\"-22.8\" font-family=\"Helvetica,sans-Serif\" font-size=\"14.00\" fill=\"#000000\">samples = 1</text>\n<text text-anchor=\"start\" x=\"23352\" y=\"-7.8\" font-family=\"Helvetica,sans-Serif\" font-size=\"14.00\" fill=\"#000000\">value = [1, 0, 0, 0, 0, 0, 0, 0]</text>\n</g>\n<!-- 269&#45;&gt;270 -->\n<g id=\"edge270\" class=\"edge\">\n<title>269&#45;&gt;270</title>\n<path fill=\"none\" stroke=\"#000000\" d=\"M23442.2949,-88.9777C23442.1241,-80.7364 23441.9407,-71.887 23441.7672,-63.5153\"/>\n<polygon fill=\"#000000\" stroke=\"#000000\" points=\"23445.2609,-63.1738 23441.5544,-53.2485 23438.2624,-63.3189 23445.2609,-63.1738\"/>\n</g>\n<!-- 271 -->\n<g id=\"node272\" class=\"node\">\n<title>271</title>\n<path fill=\"#d739e5\" stroke=\"#000000\" d=\"M23746,-53C23746,-53 23568,-53 23568,-53 23562,-53 23556,-47 23556,-41 23556,-41 23556,-12 23556,-12 23556,-6 23562,0 23568,0 23568,0 23746,0 23746,0 23752,0 23758,-6 23758,-12 23758,-12 23758,-41 23758,-41 23758,-47 23752,-53 23746,-53\"/>\n<text text-anchor=\"start\" x=\"23627.5\" y=\"-37.8\" font-family=\"Helvetica,sans-Serif\" font-size=\"14.00\" fill=\"#000000\">gini = 0.0</text>\n<text text-anchor=\"start\" x=\"23613\" y=\"-22.8\" font-family=\"Helvetica,sans-Serif\" font-size=\"14.00\" fill=\"#000000\">samples = 38</text>\n<text text-anchor=\"start\" x=\"23564\" y=\"-7.8\" font-family=\"Helvetica,sans-Serif\" font-size=\"14.00\" fill=\"#000000\">value = [0, 0, 0, 0, 0, 0, 38, 0]</text>\n</g>\n<!-- 269&#45;&gt;271 -->\n<g id=\"edge271\" class=\"edge\">\n<title>269&#45;&gt;271</title>\n<path fill=\"none\" stroke=\"#000000\" d=\"M23518.4484,-88.9777C23541.2971,-78.6744 23566.2539,-67.4205 23588.6128,-57.3381\"/>\n<polygon fill=\"#000000\" stroke=\"#000000\" points=\"23590.3452,-60.3964 23598.0224,-53.095 23587.4676,-54.0152 23590.3452,-60.3964\"/>\n</g>\n<!-- 275 -->\n<g id=\"node276\" class=\"node\">\n<title>275</title>\n<path fill=\"#d83ee6\" stroke=\"#000000\" d=\"M24388,-573C24388,-573 24152,-573 24152,-573 24146,-573 24140,-567 24140,-561 24140,-561 24140,-517 24140,-517 24140,-511 24146,-505 24152,-505 24152,-505 24388,-505 24388,-505 24394,-505 24400,-511 24400,-517 24400,-517 24400,-561 24400,-561 24400,-567 24394,-573 24388,-573\"/>\n<text text-anchor=\"start\" x=\"24195.5\" y=\"-557.8\" font-family=\"Helvetica,sans-Serif\" font-size=\"14.00\" fill=\"#000000\"> Source Port ≤ 32339.5</text>\n<text text-anchor=\"start\" x=\"24232\" y=\"-542.8\" font-family=\"Helvetica,sans-Serif\" font-size=\"14.00\" fill=\"#000000\">gini = 0.048</text>\n<text text-anchor=\"start\" x=\"24214\" y=\"-527.8\" font-family=\"Helvetica,sans-Serif\" font-size=\"14.00\" fill=\"#000000\">samples = 41468</text>\n<text text-anchor=\"start\" x=\"24148\" y=\"-512.8\" font-family=\"Helvetica,sans-Serif\" font-size=\"14.00\" fill=\"#000000\">value = [0, 0, 0, 592, 0, 6, 40464, 406]</text>\n</g>\n<!-- 274&#45;&gt;275 -->\n<g id=\"edge275\" class=\"edge\">\n<title>274&#45;&gt;275</title>\n<path fill=\"none\" stroke=\"#000000\" d=\"M24395.0966,-608.9465C24377.4331,-599.0701 24358.0089,-588.2093 24339.8434,-578.0522\"/>\n<polygon fill=\"#000000\" stroke=\"#000000\" points=\"24341.4766,-574.9555 24331.0402,-573.13 24338.0603,-581.0653 24341.4766,-574.9555\"/>\n</g>\n<!-- 302 -->\n<g id=\"node303\" class=\"node\">\n<title>302</title>\n<path fill=\"#3ee6ae\" stroke=\"#000000\" d=\"M24743.5,-573C24743.5,-573 24540.5,-573 24540.5,-573 24534.5,-573 24528.5,-567 24528.5,-561 24528.5,-561 24528.5,-517 24528.5,-517 24528.5,-511 24534.5,-505 24540.5,-505 24540.5,-505 24743.5,-505 24743.5,-505 24749.5,-505 24755.5,-511 24755.5,-517 24755.5,-517 24755.5,-561 24755.5,-561 24755.5,-567 24749.5,-573 24743.5,-573\"/>\n<text text-anchor=\"start\" x=\"24598\" y=\"-557.8\" font-family=\"Helvetica,sans-Serif\" font-size=\"14.00\" fill=\"#000000\">minute ≤ 51.5</text>\n<text text-anchor=\"start\" x=\"24604\" y=\"-542.8\" font-family=\"Helvetica,sans-Serif\" font-size=\"14.00\" fill=\"#000000\">gini = 0.044</text>\n<text text-anchor=\"start\" x=\"24590\" y=\"-527.8\" font-family=\"Helvetica,sans-Serif\" font-size=\"14.00\" fill=\"#000000\">samples = 1121</text>\n<text text-anchor=\"start\" x=\"24536.5\" y=\"-512.8\" font-family=\"Helvetica,sans-Serif\" font-size=\"14.00\" fill=\"#000000\">value = [0, 0, 0, 1096, 0, 0, 25, 0]</text>\n</g>\n<!-- 274&#45;&gt;302 -->\n<g id=\"edge302\" class=\"edge\">\n<title>274&#45;&gt;302</title>\n<path fill=\"none\" stroke=\"#000000\" d=\"M24516.9034,-608.9465C24534.5669,-599.0701 24553.9911,-588.2093 24572.1566,-578.0522\"/>\n<polygon fill=\"#000000\" stroke=\"#000000\" points=\"24573.9397,-581.0653 24580.9598,-573.13 24570.5234,-574.9555 24573.9397,-581.0653\"/>\n</g>\n<!-- 276 -->\n<g id=\"node277\" class=\"node\">\n<title>276</title>\n<path fill=\"#5ceaba\" stroke=\"#000000\" d=\"M24000.5,-469C24000.5,-469 23795.5,-469 23795.5,-469 23789.5,-469 23783.5,-463 23783.5,-457 23783.5,-457 23783.5,-413 23783.5,-413 23783.5,-407 23789.5,-401 23795.5,-401 23795.5,-401 24000.5,-401 24000.5,-401 24006.5,-401 24012.5,-407 24012.5,-413 24012.5,-413 24012.5,-457 24012.5,-457 24012.5,-463 24006.5,-469 24000.5,-469\"/>\n<text text-anchor=\"start\" x=\"23791.5\" y=\"-453.8\" font-family=\"Helvetica,sans-Serif\" font-size=\"14.00\" fill=\"#000000\"> Fwd Packet Length Max ≤ 397.0</text>\n<text text-anchor=\"start\" x=\"23860\" y=\"-438.8\" font-family=\"Helvetica,sans-Serif\" font-size=\"14.00\" fill=\"#000000\">gini = 0.253</text>\n<text text-anchor=\"start\" x=\"23850\" y=\"-423.8\" font-family=\"Helvetica,sans-Serif\" font-size=\"14.00\" fill=\"#000000\">samples = 485</text>\n<text text-anchor=\"start\" x=\"23797\" y=\"-408.8\" font-family=\"Helvetica,sans-Serif\" font-size=\"14.00\" fill=\"#000000\">value = [0, 0, 0, 413, 0, 0, 72, 0]</text>\n</g>\n<!-- 275&#45;&gt;276 -->\n<g id=\"edge276\" class=\"edge\">\n<title>275&#45;&gt;276</title>\n<path fill=\"none\" stroke=\"#000000\" d=\"M24148.1933,-504.9465C24107.7823,-493.6488 24062.7635,-481.0629 24022.1763,-469.716\"/>\n<polygon fill=\"#000000\" stroke=\"#000000\" points=\"24023.078,-466.3339 24012.5049,-467.0121 24021.1933,-473.0754 24023.078,-466.3339\"/>\n</g>\n<!-- 281 -->\n<g id=\"node282\" class=\"node\">\n<title>281</title>\n<path fill=\"#d83ce5\" stroke=\"#000000\" d=\"M24388,-469C24388,-469 24152,-469 24152,-469 24146,-469 24140,-463 24140,-457 24140,-457 24140,-413 24140,-413 24140,-407 24146,-401 24152,-401 24152,-401 24388,-401 24388,-401 24394,-401 24400,-407 24400,-413 24400,-413 24400,-457 24400,-457 24400,-463 24394,-469 24388,-469\"/>\n<text text-anchor=\"start\" x=\"24223.5\" y=\"-453.8\" font-family=\"Helvetica,sans-Serif\" font-size=\"14.00\" fill=\"#000000\"> Inbound ≤ 0.5</text>\n<text text-anchor=\"start\" x=\"24232\" y=\"-438.8\" font-family=\"Helvetica,sans-Serif\" font-size=\"14.00\" fill=\"#000000\">gini = 0.029</text>\n<text text-anchor=\"start\" x=\"24214\" y=\"-423.8\" font-family=\"Helvetica,sans-Serif\" font-size=\"14.00\" fill=\"#000000\">samples = 40983</text>\n<text text-anchor=\"start\" x=\"24148\" y=\"-408.8\" font-family=\"Helvetica,sans-Serif\" font-size=\"14.00\" fill=\"#000000\">value = [0, 0, 0, 179, 0, 6, 40392, 406]</text>\n</g>\n<!-- 275&#45;&gt;281 -->\n<g id=\"edge281\" class=\"edge\">\n<title>275&#45;&gt;281</title>\n<path fill=\"none\" stroke=\"#000000\" d=\"M24270,-504.9465C24270,-496.776 24270,-487.9318 24270,-479.3697\"/>\n<polygon fill=\"#000000\" stroke=\"#000000\" points=\"24273.5001,-479.13 24270,-469.13 24266.5001,-479.13 24273.5001,-479.13\"/>\n</g>\n<!-- 277 -->\n<g id=\"node278\" class=\"node\">\n<title>277</title>\n<path fill=\"#d739e5\" stroke=\"#000000\" d=\"M23763,-357.5C23763,-357.5 23585,-357.5 23585,-357.5 23579,-357.5 23573,-351.5 23573,-345.5 23573,-345.5 23573,-316.5 23573,-316.5 23573,-310.5 23579,-304.5 23585,-304.5 23585,-304.5 23763,-304.5 23763,-304.5 23769,-304.5 23775,-310.5 23775,-316.5 23775,-316.5 23775,-345.5 23775,-345.5 23775,-351.5 23769,-357.5 23763,-357.5\"/>\n<text text-anchor=\"start\" x=\"23644.5\" y=\"-342.3\" font-family=\"Helvetica,sans-Serif\" font-size=\"14.00\" fill=\"#000000\">gini = 0.0</text>\n<text text-anchor=\"start\" x=\"23630\" y=\"-327.3\" font-family=\"Helvetica,sans-Serif\" font-size=\"14.00\" fill=\"#000000\">samples = 66</text>\n<text text-anchor=\"start\" x=\"23581\" y=\"-312.3\" font-family=\"Helvetica,sans-Serif\" font-size=\"14.00\" fill=\"#000000\">value = [0, 0, 0, 0, 0, 0, 66, 0]</text>\n</g>\n<!-- 276&#45;&gt;277 -->\n<g id=\"edge277\" class=\"edge\">\n<title>276&#45;&gt;277</title>\n<path fill=\"none\" stroke=\"#000000\" d=\"M23824.654,-400.9465C23797.4896,-388.3344 23766.8673,-374.117 23740.3598,-361.8099\"/>\n<polygon fill=\"#000000\" stroke=\"#000000\" points=\"23741.7117,-358.5788 23731.1677,-357.5422 23738.7639,-364.9279 23741.7117,-358.5788\"/>\n</g>\n<!-- 278 -->\n<g id=\"node279\" class=\"node\">\n<title>278</title>\n<path fill=\"#3ce5ad\" stroke=\"#000000\" d=\"M23991,-365C23991,-365 23805,-365 23805,-365 23799,-365 23793,-359 23793,-353 23793,-353 23793,-309 23793,-309 23793,-303 23799,-297 23805,-297 23805,-297 23991,-297 23991,-297 23997,-297 24003,-303 24003,-309 24003,-309 24003,-353 24003,-353 24003,-359 23997,-365 23991,-365\"/>\n<text text-anchor=\"start\" x=\"23854\" y=\"-349.8\" font-family=\"Helvetica,sans-Serif\" font-size=\"14.00\" fill=\"#000000\">minute ≤ 18.0</text>\n<text text-anchor=\"start\" x=\"23860\" y=\"-334.8\" font-family=\"Helvetica,sans-Serif\" font-size=\"14.00\" fill=\"#000000\">gini = 0.028</text>\n<text text-anchor=\"start\" x=\"23850\" y=\"-319.8\" font-family=\"Helvetica,sans-Serif\" font-size=\"14.00\" fill=\"#000000\">samples = 419</text>\n<text text-anchor=\"start\" x=\"23801\" y=\"-304.8\" font-family=\"Helvetica,sans-Serif\" font-size=\"14.00\" fill=\"#000000\">value = [0, 0, 0, 413, 0, 0, 6, 0]</text>\n</g>\n<!-- 276&#45;&gt;278 -->\n<g id=\"edge278\" class=\"edge\">\n<title>276&#45;&gt;278</title>\n<path fill=\"none\" stroke=\"#000000\" d=\"M23898,-400.9465C23898,-392.776 23898,-383.9318 23898,-375.3697\"/>\n<polygon fill=\"#000000\" stroke=\"#000000\" points=\"23901.5001,-375.13 23898,-365.13 23894.5001,-375.13 23901.5001,-375.13\"/>\n</g>\n<!-- 279 -->\n<g id=\"node280\" class=\"node\">\n<title>279</title>\n<path fill=\"#d739e5\" stroke=\"#000000\" d=\"M23768,-253.5C23768,-253.5 23598,-253.5 23598,-253.5 23592,-253.5 23586,-247.5 23586,-241.5 23586,-241.5 23586,-212.5 23586,-212.5 23586,-206.5 23592,-200.5 23598,-200.5 23598,-200.5 23768,-200.5 23768,-200.5 23774,-200.5 23780,-206.5 23780,-212.5 23780,-212.5 23780,-241.5 23780,-241.5 23780,-247.5 23774,-253.5 23768,-253.5\"/>\n<text text-anchor=\"start\" x=\"23653.5\" y=\"-238.3\" font-family=\"Helvetica,sans-Serif\" font-size=\"14.00\" fill=\"#000000\">gini = 0.0</text>\n<text text-anchor=\"start\" x=\"23643.5\" y=\"-223.3\" font-family=\"Helvetica,sans-Serif\" font-size=\"14.00\" fill=\"#000000\">samples = 6</text>\n<text text-anchor=\"start\" x=\"23594\" y=\"-208.3\" font-family=\"Helvetica,sans-Serif\" font-size=\"14.00\" fill=\"#000000\">value = [0, 0, 0, 0, 0, 0, 6, 0]</text>\n</g>\n<!-- 278&#45;&gt;279 -->\n<g id=\"edge279\" class=\"edge\">\n<title>278&#45;&gt;279</title>\n<path fill=\"none\" stroke=\"#000000\" d=\"M23827.601,-296.9465C23801.6418,-284.3895 23772.3927,-270.2411 23747.0271,-257.9712\"/>\n<polygon fill=\"#000000\" stroke=\"#000000\" points=\"23748.3971,-254.746 23737.8708,-253.5422 23745.3489,-261.0475 23748.3971,-254.746\"/>\n</g>\n<!-- 280 -->\n<g id=\"node281\" class=\"node\">\n<title>280</title>\n<path fill=\"#39e5ac\" stroke=\"#000000\" d=\"M23996,-253.5C23996,-253.5 23810,-253.5 23810,-253.5 23804,-253.5 23798,-247.5 23798,-241.5 23798,-241.5 23798,-212.5 23798,-212.5 23798,-206.5 23804,-200.5 23810,-200.5 23810,-200.5 23996,-200.5 23996,-200.5 24002,-200.5 24008,-206.5 24008,-212.5 24008,-212.5 24008,-241.5 24008,-241.5 24008,-247.5 24002,-253.5 23996,-253.5\"/>\n<text text-anchor=\"start\" x=\"23873.5\" y=\"-238.3\" font-family=\"Helvetica,sans-Serif\" font-size=\"14.00\" fill=\"#000000\">gini = 0.0</text>\n<text text-anchor=\"start\" x=\"23855\" y=\"-223.3\" font-family=\"Helvetica,sans-Serif\" font-size=\"14.00\" fill=\"#000000\">samples = 413</text>\n<text text-anchor=\"start\" x=\"23806\" y=\"-208.3\" font-family=\"Helvetica,sans-Serif\" font-size=\"14.00\" fill=\"#000000\">value = [0, 0, 0, 413, 0, 0, 0, 0]</text>\n</g>\n<!-- 278&#45;&gt;280 -->\n<g id=\"edge280\" class=\"edge\">\n<title>278&#45;&gt;280</title>\n<path fill=\"none\" stroke=\"#000000\" d=\"M23899.6372,-296.9465C23900.1509,-286.2621 23900.7199,-274.4254 23901.2416,-263.5742\"/>\n<polygon fill=\"#000000\" stroke=\"#000000\" points=\"23904.7396,-263.6987 23901.7239,-253.5422 23897.7477,-263.3625 23904.7396,-263.6987\"/>\n</g>\n<!-- 282 -->\n<g id=\"node283\" class=\"node\">\n<title>282</title>\n<path fill=\"#f0b3f5\" stroke=\"#000000\" d=\"M24236.5,-365C24236.5,-365 24033.5,-365 24033.5,-365 24027.5,-365 24021.5,-359 24021.5,-353 24021.5,-353 24021.5,-309 24021.5,-309 24021.5,-303 24027.5,-297 24033.5,-297 24033.5,-297 24236.5,-297 24236.5,-297 24242.5,-297 24248.5,-303 24248.5,-309 24248.5,-309 24248.5,-353 24248.5,-353 24248.5,-359 24242.5,-365 24236.5,-365\"/>\n<text text-anchor=\"start\" x=\"24091\" y=\"-349.8\" font-family=\"Helvetica,sans-Serif\" font-size=\"14.00\" fill=\"#000000\">minute ≤ 12.5</text>\n<text text-anchor=\"start\" x=\"24097\" y=\"-334.8\" font-family=\"Helvetica,sans-Serif\" font-size=\"14.00\" fill=\"#000000\">gini = 0.477</text>\n<text text-anchor=\"start\" x=\"24087\" y=\"-319.8\" font-family=\"Helvetica,sans-Serif\" font-size=\"14.00\" fill=\"#000000\">samples = 545</text>\n<text text-anchor=\"start\" x=\"24029.5\" y=\"-304.8\" font-family=\"Helvetica,sans-Serif\" font-size=\"14.00\" fill=\"#000000\">value = [0, 0, 0, 0, 0, 3, 336, 206]</text>\n</g>\n<!-- 281&#45;&gt;282 -->\n<g id=\"edge282\" class=\"edge\">\n<title>281&#45;&gt;282</title>\n<path fill=\"none\" stroke=\"#000000\" d=\"M24225.796,-400.9465C24213.5584,-391.519 24200.1564,-381.1946 24187.4962,-371.4415\"/>\n<polygon fill=\"#000000\" stroke=\"#000000\" points=\"24189.3612,-368.4601 24179.3034,-365.13 24185.0893,-374.0055 24189.3612,-368.4601\"/>\n</g>\n<!-- 289 -->\n<g id=\"node290\" class=\"node\">\n<title>289</title>\n<path fill=\"#d73be5\" stroke=\"#000000\" d=\"M24515,-365C24515,-365 24279,-365 24279,-365 24273,-365 24267,-359 24267,-353 24267,-353 24267,-309 24267,-309 24267,-303 24273,-297 24279,-297 24279,-297 24515,-297 24515,-297 24521,-297 24527,-303 24527,-309 24527,-309 24527,-353 24527,-353 24527,-359 24521,-365 24515,-365\"/>\n<text text-anchor=\"start\" x=\"24323\" y=\"-349.8\" font-family=\"Helvetica,sans-Serif\" font-size=\"14.00\" fill=\"#000000\">Fwd Packets/s ≤ 1.084</text>\n<text text-anchor=\"start\" x=\"24359\" y=\"-334.8\" font-family=\"Helvetica,sans-Serif\" font-size=\"14.00\" fill=\"#000000\">gini = 0.019</text>\n<text text-anchor=\"start\" x=\"24341\" y=\"-319.8\" font-family=\"Helvetica,sans-Serif\" font-size=\"14.00\" fill=\"#000000\">samples = 40438</text>\n<text text-anchor=\"start\" x=\"24275\" y=\"-304.8\" font-family=\"Helvetica,sans-Serif\" font-size=\"14.00\" fill=\"#000000\">value = [0, 0, 0, 179, 0, 3, 40056, 200]</text>\n</g>\n<!-- 281&#45;&gt;289 -->\n<g id=\"edge289\" class=\"edge\">\n<title>281&#45;&gt;289</title>\n<path fill=\"none\" stroke=\"#000000\" d=\"M24311.5845,-400.9465C24322.9873,-391.6088 24335.4647,-381.3911 24347.2743,-371.7203\"/>\n<polygon fill=\"#000000\" stroke=\"#000000\" points=\"24349.8026,-374.1736 24355.322,-365.13 24345.3676,-368.7578 24349.8026,-374.1736\"/>\n</g>\n<!-- 283 -->\n<g id=\"node284\" class=\"node\">\n<title>283</title>\n<path fill=\"#d739e5\" stroke=\"#000000\" d=\"M24224,-253.5C24224,-253.5 24038,-253.5 24038,-253.5 24032,-253.5 24026,-247.5 24026,-241.5 24026,-241.5 24026,-212.5 24026,-212.5 24026,-206.5 24032,-200.5 24038,-200.5 24038,-200.5 24224,-200.5 24224,-200.5 24230,-200.5 24236,-206.5 24236,-212.5 24236,-212.5 24236,-241.5 24236,-241.5 24236,-247.5 24230,-253.5 24224,-253.5\"/>\n<text text-anchor=\"start\" x=\"24101.5\" y=\"-238.3\" font-family=\"Helvetica,sans-Serif\" font-size=\"14.00\" fill=\"#000000\">gini = 0.0</text>\n<text text-anchor=\"start\" x=\"24083\" y=\"-223.3\" font-family=\"Helvetica,sans-Serif\" font-size=\"14.00\" fill=\"#000000\">samples = 250</text>\n<text text-anchor=\"start\" x=\"24034\" y=\"-208.3\" font-family=\"Helvetica,sans-Serif\" font-size=\"14.00\" fill=\"#000000\">value = [0, 0, 0, 0, 0, 0, 250, 0]</text>\n</g>\n<!-- 282&#45;&gt;283 -->\n<g id=\"edge283\" class=\"edge\">\n<title>282&#45;&gt;283</title>\n<path fill=\"none\" stroke=\"#000000\" d=\"M24133.6903,-296.9465C24133.2793,-286.2621 24132.8241,-274.4254 24132.4067,-263.5742\"/>\n<polygon fill=\"#000000\" stroke=\"#000000\" points=\"24135.9027,-263.4002 24132.0209,-253.5422 24128.9079,-263.6693 24135.9027,-263.4002\"/>\n</g>\n<!-- 284 -->\n<g id=\"node285\" class=\"node\">\n<title>284</title>\n<path fill=\"#f08dae\" stroke=\"#000000\" d=\"M24460,-261C24460,-261 24266,-261 24266,-261 24260,-261 24254,-255 24254,-249 24254,-249 24254,-205 24254,-205 24254,-199 24260,-193 24266,-193 24266,-193 24460,-193 24460,-193 24466,-193 24472,-199 24472,-205 24472,-205 24472,-249 24472,-249 24472,-255 24466,-261 24460,-261\"/>\n<text text-anchor=\"start\" x=\"24319\" y=\"-245.8\" font-family=\"Helvetica,sans-Serif\" font-size=\"14.00\" fill=\"#000000\">minute ≤ 31.5</text>\n<text text-anchor=\"start\" x=\"24325\" y=\"-230.8\" font-family=\"Helvetica,sans-Serif\" font-size=\"14.00\" fill=\"#000000\">gini = 0.427</text>\n<text text-anchor=\"start\" x=\"24315\" y=\"-215.8\" font-family=\"Helvetica,sans-Serif\" font-size=\"14.00\" fill=\"#000000\">samples = 295</text>\n<text text-anchor=\"start\" x=\"24262\" y=\"-200.8\" font-family=\"Helvetica,sans-Serif\" font-size=\"14.00\" fill=\"#000000\">value = [0, 0, 0, 0, 0, 3, 86, 206]</text>\n</g>\n<!-- 282&#45;&gt;284 -->\n<g id=\"edge284\" class=\"edge\">\n<title>282&#45;&gt;284</title>\n<path fill=\"none\" stroke=\"#000000\" d=\"M24209.6557,-296.9465C24231.7999,-286.8457 24256.2016,-275.7151 24278.9013,-265.3608\"/>\n<polygon fill=\"#000000\" stroke=\"#000000\" points=\"24280.5309,-268.4645 24288.1765,-261.13 24277.6258,-262.0957 24280.5309,-268.4645\"/>\n</g>\n<!-- 285 -->\n<g id=\"node286\" class=\"node\">\n<title>285</title>\n<path fill=\"#e53972\" stroke=\"#000000\" d=\"M24232,-149.5C24232,-149.5 24046,-149.5 24046,-149.5 24040,-149.5 24034,-143.5 24034,-137.5 24034,-137.5 24034,-108.5 24034,-108.5 24034,-102.5 24040,-96.5 24046,-96.5 24046,-96.5 24232,-96.5 24232,-96.5 24238,-96.5 24244,-102.5 24244,-108.5 24244,-108.5 24244,-137.5 24244,-137.5 24244,-143.5 24238,-149.5 24232,-149.5\"/>\n<text text-anchor=\"start\" x=\"24109.5\" y=\"-134.3\" font-family=\"Helvetica,sans-Serif\" font-size=\"14.00\" fill=\"#000000\">gini = 0.0</text>\n<text text-anchor=\"start\" x=\"24091\" y=\"-119.3\" font-family=\"Helvetica,sans-Serif\" font-size=\"14.00\" fill=\"#000000\">samples = 206</text>\n<text text-anchor=\"start\" x=\"24042\" y=\"-104.3\" font-family=\"Helvetica,sans-Serif\" font-size=\"14.00\" fill=\"#000000\">value = [0, 0, 0, 0, 0, 0, 0, 206]</text>\n</g>\n<!-- 284&#45;&gt;285 -->\n<g id=\"edge285\" class=\"edge\">\n<title>284&#45;&gt;285</title>\n<path fill=\"none\" stroke=\"#000000\" d=\"M24289.654,-192.9465C24262.4896,-180.3344 24231.8673,-166.117 24205.3598,-153.8099\"/>\n<polygon fill=\"#000000\" stroke=\"#000000\" points=\"24206.7117,-150.5788 24196.1677,-149.5422 24203.7639,-156.9279 24206.7117,-150.5788\"/>\n</g>\n<!-- 286 -->\n<g id=\"node287\" class=\"node\">\n<title>286</title>\n<path fill=\"#d840e6\" stroke=\"#000000\" d=\"M24452,-157C24452,-157 24274,-157 24274,-157 24268,-157 24262,-151 24262,-145 24262,-145 24262,-101 24262,-101 24262,-95 24268,-89 24274,-89 24274,-89 24452,-89 24452,-89 24458,-89 24464,-95 24464,-101 24464,-101 24464,-145 24464,-145 24464,-151 24458,-157 24452,-157\"/>\n<text text-anchor=\"start\" x=\"24319\" y=\"-141.8\" font-family=\"Helvetica,sans-Serif\" font-size=\"14.00\" fill=\"#000000\">minute ≤ 44.0</text>\n<text text-anchor=\"start\" x=\"24325\" y=\"-126.8\" font-family=\"Helvetica,sans-Serif\" font-size=\"14.00\" fill=\"#000000\">gini = 0.065</text>\n<text text-anchor=\"start\" x=\"24319\" y=\"-111.8\" font-family=\"Helvetica,sans-Serif\" font-size=\"14.00\" fill=\"#000000\">samples = 89</text>\n<text text-anchor=\"start\" x=\"24270\" y=\"-96.8\" font-family=\"Helvetica,sans-Serif\" font-size=\"14.00\" fill=\"#000000\">value = [0, 0, 0, 0, 0, 3, 86, 0]</text>\n</g>\n<!-- 284&#45;&gt;286 -->\n<g id=\"edge286\" class=\"edge\">\n<title>284&#45;&gt;286</title>\n<path fill=\"none\" stroke=\"#000000\" d=\"M24363,-192.9465C24363,-184.776 24363,-175.9318 24363,-167.3697\"/>\n<polygon fill=\"#000000\" stroke=\"#000000\" points=\"24366.5001,-167.13 24363,-157.13 24359.5001,-167.13 24366.5001,-167.13\"/>\n</g>\n<!-- 287 -->\n<g id=\"node288\" class=\"node\">\n<title>287</title>\n<path fill=\"#5639e5\" stroke=\"#000000\" d=\"M24234,-53C24234,-53 24064,-53 24064,-53 24058,-53 24052,-47 24052,-41 24052,-41 24052,-12 24052,-12 24052,-6 24058,0 24064,0 24064,0 24234,0 24234,0 24240,0 24246,-6 24246,-12 24246,-12 24246,-41 24246,-41 24246,-47 24240,-53 24234,-53\"/>\n<text text-anchor=\"start\" x=\"24119.5\" y=\"-37.8\" font-family=\"Helvetica,sans-Serif\" font-size=\"14.00\" fill=\"#000000\">gini = 0.0</text>\n<text text-anchor=\"start\" x=\"24109.5\" y=\"-22.8\" font-family=\"Helvetica,sans-Serif\" font-size=\"14.00\" fill=\"#000000\">samples = 3</text>\n<text text-anchor=\"start\" x=\"24060\" y=\"-7.8\" font-family=\"Helvetica,sans-Serif\" font-size=\"14.00\" fill=\"#000000\">value = [0, 0, 0, 0, 0, 3, 0, 0]</text>\n</g>\n<!-- 286&#45;&gt;287 -->\n<g id=\"edge287\" class=\"edge\">\n<title>286&#45;&gt;287</title>\n<path fill=\"none\" stroke=\"#000000\" d=\"M24287.5516,-88.9777C24264.7029,-78.6744 24239.7461,-67.4205 24217.3872,-57.3381\"/>\n<polygon fill=\"#000000\" stroke=\"#000000\" points=\"24218.5324,-54.0152 24207.9776,-53.095 24215.6548,-60.3964 24218.5324,-54.0152\"/>\n</g>\n<!-- 288 -->\n<g id=\"node289\" class=\"node\">\n<title>288</title>\n<path fill=\"#d739e5\" stroke=\"#000000\" d=\"M24454,-53C24454,-53 24276,-53 24276,-53 24270,-53 24264,-47 24264,-41 24264,-41 24264,-12 24264,-12 24264,-6 24270,0 24276,0 24276,0 24454,0 24454,0 24460,0 24466,-6 24466,-12 24466,-12 24466,-41 24466,-41 24466,-47 24460,-53 24454,-53\"/>\n<text text-anchor=\"start\" x=\"24335.5\" y=\"-37.8\" font-family=\"Helvetica,sans-Serif\" font-size=\"14.00\" fill=\"#000000\">gini = 0.0</text>\n<text text-anchor=\"start\" x=\"24321\" y=\"-22.8\" font-family=\"Helvetica,sans-Serif\" font-size=\"14.00\" fill=\"#000000\">samples = 86</text>\n<text text-anchor=\"start\" x=\"24272\" y=\"-7.8\" font-family=\"Helvetica,sans-Serif\" font-size=\"14.00\" fill=\"#000000\">value = [0, 0, 0, 0, 0, 0, 86, 0]</text>\n</g>\n<!-- 286&#45;&gt;288 -->\n<g id=\"edge288\" class=\"edge\">\n<title>286&#45;&gt;288</title>\n<path fill=\"none\" stroke=\"#000000\" d=\"M24363.7051,-88.9777C24363.8759,-80.7364 24364.0593,-71.887 24364.2328,-63.5153\"/>\n<polygon fill=\"#000000\" stroke=\"#000000\" points=\"24367.7376,-63.3189 24364.4456,-53.2485 24360.7391,-63.1738 24367.7376,-63.3189\"/>\n</g>\n<!-- 290 -->\n<g id=\"node291\" class=\"node\">\n<title>290</title>\n<path fill=\"#f8fefc\" stroke=\"#000000\" d=\"M24707.5,-261C24707.5,-261 24502.5,-261 24502.5,-261 24496.5,-261 24490.5,-255 24490.5,-249 24490.5,-249 24490.5,-205 24490.5,-205 24490.5,-199 24496.5,-193 24502.5,-193 24502.5,-193 24707.5,-193 24707.5,-193 24713.5,-193 24719.5,-199 24719.5,-205 24719.5,-205 24719.5,-249 24719.5,-249 24719.5,-255 24713.5,-261 24707.5,-261\"/>\n<text text-anchor=\"start\" x=\"24498.5\" y=\"-245.8\" font-family=\"Helvetica,sans-Serif\" font-size=\"14.00\" fill=\"#000000\"> Fwd Packet Length Max ≤ 391.5</text>\n<text text-anchor=\"start\" x=\"24575.5\" y=\"-230.8\" font-family=\"Helvetica,sans-Serif\" font-size=\"14.00\" fill=\"#000000\">gini = 0.5</text>\n<text text-anchor=\"start\" x=\"24561\" y=\"-215.8\" font-family=\"Helvetica,sans-Serif\" font-size=\"14.00\" fill=\"#000000\">samples = 53</text>\n<text text-anchor=\"start\" x=\"24508\" y=\"-200.8\" font-family=\"Helvetica,sans-Serif\" font-size=\"14.00\" fill=\"#000000\">value = [0, 0, 0, 27, 0, 0, 26, 0]</text>\n</g>\n<!-- 289&#45;&gt;290 -->\n<g id=\"edge290\" class=\"edge\">\n<title>289&#45;&gt;290</title>\n<path fill=\"none\" stroke=\"#000000\" d=\"M24465.107,-296.9465C24485.1291,-286.9354 24507.1743,-275.9129 24527.7258,-265.6371\"/>\n<polygon fill=\"#000000\" stroke=\"#000000\" points=\"24529.361,-268.7327 24536.74,-261.13 24526.2305,-262.4717 24529.361,-268.7327\"/>\n</g>\n<!-- 295 -->\n<g id=\"node296\" class=\"node\">\n<title>295</title>\n<path fill=\"#d73be5\" stroke=\"#000000\" d=\"M25180,-261C25180,-261 24944,-261 24944,-261 24938,-261 24932,-255 24932,-249 24932,-249 24932,-205 24932,-205 24932,-199 24938,-193 24944,-193 24944,-193 25180,-193 25180,-193 25186,-193 25192,-199 25192,-205 25192,-205 25192,-249 25192,-249 25192,-255 25186,-261 25180,-261\"/>\n<text text-anchor=\"start\" x=\"24997.5\" y=\"-245.8\" font-family=\"Helvetica,sans-Serif\" font-size=\"14.00\" fill=\"#000000\"> Flow Duration ≤ 5.5</text>\n<text text-anchor=\"start\" x=\"25024\" y=\"-230.8\" font-family=\"Helvetica,sans-Serif\" font-size=\"14.00\" fill=\"#000000\">gini = 0.017</text>\n<text text-anchor=\"start\" x=\"25006\" y=\"-215.8\" font-family=\"Helvetica,sans-Serif\" font-size=\"14.00\" fill=\"#000000\">samples = 40385</text>\n<text text-anchor=\"start\" x=\"24940\" y=\"-200.8\" font-family=\"Helvetica,sans-Serif\" font-size=\"14.00\" fill=\"#000000\">value = [0, 0, 0, 152, 0, 3, 40030, 200]</text>\n</g>\n<!-- 289&#45;&gt;295 -->\n<g id=\"edge295\" class=\"edge\">\n<title>289&#45;&gt;295</title>\n<path fill=\"none\" stroke=\"#000000\" d=\"M24527.1279,-298.7204C24530.1098,-298.1262 24533.0703,-297.5516 24536,-297 24665.9126,-272.5405 24815.4519,-253.5079 24921.7971,-241.5034\"/>\n<polygon fill=\"#000000\" stroke=\"#000000\" points=\"24922.4045,-244.9573 24931.9517,-240.3637 24921.6236,-238.001 24922.4045,-244.9573\"/>\n</g>\n<!-- 291 -->\n<g id=\"node292\" class=\"node\">\n<title>291</title>\n<path fill=\"#d739e5\" stroke=\"#000000\" d=\"M24672,-149.5C24672,-149.5 24494,-149.5 24494,-149.5 24488,-149.5 24482,-143.5 24482,-137.5 24482,-137.5 24482,-108.5 24482,-108.5 24482,-102.5 24488,-96.5 24494,-96.5 24494,-96.5 24672,-96.5 24672,-96.5 24678,-96.5 24684,-102.5 24684,-108.5 24684,-108.5 24684,-137.5 24684,-137.5 24684,-143.5 24678,-149.5 24672,-149.5\"/>\n<text text-anchor=\"start\" x=\"24553.5\" y=\"-134.3\" font-family=\"Helvetica,sans-Serif\" font-size=\"14.00\" fill=\"#000000\">gini = 0.0</text>\n<text text-anchor=\"start\" x=\"24539\" y=\"-119.3\" font-family=\"Helvetica,sans-Serif\" font-size=\"14.00\" fill=\"#000000\">samples = 19</text>\n<text text-anchor=\"start\" x=\"24490\" y=\"-104.3\" font-family=\"Helvetica,sans-Serif\" font-size=\"14.00\" fill=\"#000000\">value = [0, 0, 0, 0, 0, 0, 19, 0]</text>\n</g>\n<!-- 290&#45;&gt;291 -->\n<g id=\"edge291\" class=\"edge\">\n<title>290&#45;&gt;291</title>\n<path fill=\"none\" stroke=\"#000000\" d=\"M24597.7964,-192.9465C24595.5362,-182.2621 24593.0323,-170.4254 24590.7369,-159.5742\"/>\n<polygon fill=\"#000000\" stroke=\"#000000\" points=\"24594.1086,-158.6013 24588.6147,-149.5422 24587.2601,-160.05 24594.1086,-158.6013\"/>\n</g>\n<!-- 292 -->\n<g id=\"node293\" class=\"node\">\n<title>292</title>\n<path fill=\"#6cecc2\" stroke=\"#000000\" d=\"M24892,-157C24892,-157 24714,-157 24714,-157 24708,-157 24702,-151 24702,-145 24702,-145 24702,-101 24702,-101 24702,-95 24708,-89 24714,-89 24714,-89 24892,-89 24892,-89 24898,-89 24904,-95 24904,-101 24904,-101 24904,-145 24904,-145 24904,-151 24898,-157 24892,-157\"/>\n<text text-anchor=\"start\" x=\"24759\" y=\"-141.8\" font-family=\"Helvetica,sans-Serif\" font-size=\"14.00\" fill=\"#000000\">minute ≤ 43.0</text>\n<text text-anchor=\"start\" x=\"24765\" y=\"-126.8\" font-family=\"Helvetica,sans-Serif\" font-size=\"14.00\" fill=\"#000000\">gini = 0.327</text>\n<text text-anchor=\"start\" x=\"24759\" y=\"-111.8\" font-family=\"Helvetica,sans-Serif\" font-size=\"14.00\" fill=\"#000000\">samples = 34</text>\n<text text-anchor=\"start\" x=\"24710\" y=\"-96.8\" font-family=\"Helvetica,sans-Serif\" font-size=\"14.00\" fill=\"#000000\">value = [0, 0, 0, 27, 0, 0, 7, 0]</text>\n</g>\n<!-- 290&#45;&gt;292 -->\n<g id=\"edge292\" class=\"edge\">\n<title>290&#45;&gt;292</title>\n<path fill=\"none\" stroke=\"#000000\" d=\"M24669.8326,-192.9465C24688.7212,-183.0252 24709.5012,-172.1105 24728.9142,-161.9138\"/>\n<polygon fill=\"#000000\" stroke=\"#000000\" points=\"24730.7962,-164.8787 24738.0217,-157.13 24727.5411,-158.6816 24730.7962,-164.8787\"/>\n</g>\n<!-- 293 -->\n<g id=\"node294\" class=\"node\">\n<title>293</title>\n<path fill=\"#4fe8b5\" stroke=\"#000000\" d=\"M24676,-53C24676,-53 24498,-53 24498,-53 24492,-53 24486,-47 24486,-41 24486,-41 24486,-12 24486,-12 24486,-6 24492,0 24498,0 24498,0 24676,0 24676,0 24682,0 24688,-6 24688,-12 24688,-12 24688,-41 24688,-41 24688,-47 24682,-53 24676,-53\"/>\n<text text-anchor=\"start\" x=\"24553.5\" y=\"-37.8\" font-family=\"Helvetica,sans-Serif\" font-size=\"14.00\" fill=\"#000000\">gini = 0.18</text>\n<text text-anchor=\"start\" x=\"24543\" y=\"-22.8\" font-family=\"Helvetica,sans-Serif\" font-size=\"14.00\" fill=\"#000000\">samples = 30</text>\n<text text-anchor=\"start\" x=\"24494\" y=\"-7.8\" font-family=\"Helvetica,sans-Serif\" font-size=\"14.00\" fill=\"#000000\">value = [0, 0, 0, 27, 0, 0, 3, 0]</text>\n</g>\n<!-- 292&#45;&gt;293 -->\n<g id=\"edge293\" class=\"edge\">\n<title>292&#45;&gt;293</title>\n<path fill=\"none\" stroke=\"#000000\" d=\"M24726.8465,-88.9777C24703.6812,-78.6284 24678.3692,-67.32 24655.7242,-57.2032\"/>\n<polygon fill=\"#000000\" stroke=\"#000000\" points=\"24657.0867,-53.9785 24646.5288,-53.095 24654.2313,-60.3697 24657.0867,-53.9785\"/>\n</g>\n<!-- 294 -->\n<g id=\"node295\" class=\"node\">\n<title>294</title>\n<path fill=\"#d739e5\" stroke=\"#000000\" d=\"M24888,-53C24888,-53 24718,-53 24718,-53 24712,-53 24706,-47 24706,-41 24706,-41 24706,-12 24706,-12 24706,-6 24712,0 24718,0 24718,0 24888,0 24888,0 24894,0 24900,-6 24900,-12 24900,-12 24900,-41 24900,-41 24900,-47 24894,-53 24888,-53\"/>\n<text text-anchor=\"start\" x=\"24773.5\" y=\"-37.8\" font-family=\"Helvetica,sans-Serif\" font-size=\"14.00\" fill=\"#000000\">gini = 0.0</text>\n<text text-anchor=\"start\" x=\"24763.5\" y=\"-22.8\" font-family=\"Helvetica,sans-Serif\" font-size=\"14.00\" fill=\"#000000\">samples = 4</text>\n<text text-anchor=\"start\" x=\"24714\" y=\"-7.8\" font-family=\"Helvetica,sans-Serif\" font-size=\"14.00\" fill=\"#000000\">value = [0, 0, 0, 0, 0, 0, 4, 0]</text>\n</g>\n<!-- 292&#45;&gt;294 -->\n<g id=\"edge294\" class=\"edge\">\n<title>292&#45;&gt;294</title>\n<path fill=\"none\" stroke=\"#000000\" d=\"M24803,-88.9777C24803,-80.7364 24803,-71.887 24803,-63.5153\"/>\n<polygon fill=\"#000000\" stroke=\"#000000\" points=\"24806.5001,-63.2484 24803,-53.2485 24799.5001,-63.2485 24806.5001,-63.2484\"/>\n</g>\n<!-- 296 -->\n<g id=\"node297\" class=\"node\">\n<title>296</title>\n<path fill=\"#d944e6\" stroke=\"#000000\" d=\"M25175.5,-157C25175.5,-157 24948.5,-157 24948.5,-157 24942.5,-157 24936.5,-151 24936.5,-145 24936.5,-145 24936.5,-101 24936.5,-101 24936.5,-95 24942.5,-89 24948.5,-89 24948.5,-89 25175.5,-89 25175.5,-89 25181.5,-89 25187.5,-95 25187.5,-101 25187.5,-101 25187.5,-145 25187.5,-145 25187.5,-151 25181.5,-157 25175.5,-157\"/>\n<text text-anchor=\"start\" x=\"24970\" y=\"-141.8\" font-family=\"Helvetica,sans-Serif\" font-size=\"14.00\" fill=\"#000000\"> Fwd Header Length ≤ 804.0</text>\n<text text-anchor=\"start\" x=\"25024\" y=\"-126.8\" font-family=\"Helvetica,sans-Serif\" font-size=\"14.00\" fill=\"#000000\">gini = 0.106</text>\n<text text-anchor=\"start\" x=\"25010\" y=\"-111.8\" font-family=\"Helvetica,sans-Serif\" font-size=\"14.00\" fill=\"#000000\">samples = 5591</text>\n<text text-anchor=\"start\" x=\"24944.5\" y=\"-96.8\" font-family=\"Helvetica,sans-Serif\" font-size=\"14.00\" fill=\"#000000\">value = [0, 0, 0, 109, 0, 3, 5283, 196]</text>\n</g>\n<!-- 295&#45;&gt;296 -->\n<g id=\"edge296\" class=\"edge\">\n<title>295&#45;&gt;296</title>\n<path fill=\"none\" stroke=\"#000000\" d=\"M25062,-192.9465C25062,-184.776 25062,-175.9318 25062,-167.3697\"/>\n<polygon fill=\"#000000\" stroke=\"#000000\" points=\"25065.5001,-167.13 25062,-157.13 25058.5001,-167.13 25065.5001,-167.13\"/>\n</g>\n<!-- 299 -->\n<g id=\"node300\" class=\"node\">\n<title>299</title>\n<path fill=\"#d739e5\" stroke=\"#000000\" d=\"M25623.5,-157C25623.5,-157 25412.5,-157 25412.5,-157 25406.5,-157 25400.5,-151 25400.5,-145 25400.5,-145 25400.5,-101 25400.5,-101 25400.5,-95 25406.5,-89 25412.5,-89 25412.5,-89 25623.5,-89 25623.5,-89 25629.5,-89 25635.5,-95 25635.5,-101 25635.5,-101 25635.5,-145 25635.5,-145 25635.5,-151 25629.5,-157 25623.5,-157\"/>\n<text text-anchor=\"start\" x=\"25410.5\" y=\"-141.8\" font-family=\"Helvetica,sans-Serif\" font-size=\"14.00\" fill=\"#000000\"> Fwd Packet Length Std ≤ 36.662</text>\n<text text-anchor=\"start\" x=\"25480\" y=\"-126.8\" font-family=\"Helvetica,sans-Serif\" font-size=\"14.00\" fill=\"#000000\">gini = 0.003</text>\n<text text-anchor=\"start\" x=\"25462\" y=\"-111.8\" font-family=\"Helvetica,sans-Serif\" font-size=\"14.00\" fill=\"#000000\">samples = 34794</text>\n<text text-anchor=\"start\" x=\"25408.5\" y=\"-96.8\" font-family=\"Helvetica,sans-Serif\" font-size=\"14.00\" fill=\"#000000\">value = [0, 0, 0, 43, 0, 0, 34747, 4]</text>\n</g>\n<!-- 295&#45;&gt;299 -->\n<g id=\"edge299\" class=\"edge\">\n<title>295&#45;&gt;299</title>\n<path fill=\"none\" stroke=\"#000000\" d=\"M25192.061,-197.337C25254.2803,-183.1466 25328.5137,-166.2162 25390.4098,-152.0995\"/>\n<polygon fill=\"#000000\" stroke=\"#000000\" points=\"25391.2627,-155.495 25400.234,-149.8589 25389.7061,-148.6702 25391.2627,-155.495\"/>\n</g>\n<!-- 297 -->\n<g id=\"node298\" class=\"node\">\n<title>297</title>\n<path fill=\"#d943e6\" stroke=\"#000000\" d=\"M25149.5,-53C25149.5,-53 24930.5,-53 24930.5,-53 24924.5,-53 24918.5,-47 24918.5,-41 24918.5,-41 24918.5,-12 24918.5,-12 24918.5,-6 24924.5,0 24930.5,0 24930.5,0 25149.5,0 25149.5,0 25155.5,0 25161.5,-6 25161.5,-12 25161.5,-12 25161.5,-41 25161.5,-41 25161.5,-47 25155.5,-53 25149.5,-53\"/>\n<text text-anchor=\"start\" x=\"25006.5\" y=\"-37.8\" font-family=\"Helvetica,sans-Serif\" font-size=\"14.00\" fill=\"#000000\">gini = 0.09</text>\n<text text-anchor=\"start\" x=\"24988\" y=\"-22.8\" font-family=\"Helvetica,sans-Serif\" font-size=\"14.00\" fill=\"#000000\">samples = 5536</text>\n<text text-anchor=\"start\" x=\"24926.5\" y=\"-7.8\" font-family=\"Helvetica,sans-Serif\" font-size=\"14.00\" fill=\"#000000\">value = [0, 0, 0, 61, 0, 3, 5276, 196]</text>\n</g>\n<!-- 296&#45;&gt;297 -->\n<g id=\"edge297\" class=\"edge\">\n<title>296&#45;&gt;297</title>\n<path fill=\"none\" stroke=\"#000000\" d=\"M25054.2436,-88.9777C25052.3439,-80.6449 25050.3024,-71.6903 25048.3751,-63.2364\"/>\n<polygon fill=\"#000000\" stroke=\"#000000\" points=\"25051.7334,-62.2203 25046.0981,-53.2485 25044.9085,-63.7763 25051.7334,-62.2203\"/>\n</g>\n<!-- 298 -->\n<g id=\"node299\" class=\"node\">\n<title>298</title>\n<path fill=\"#56e9b8\" stroke=\"#000000\" d=\"M25370,-53C25370,-53 25192,-53 25192,-53 25186,-53 25180,-47 25180,-41 25180,-41 25180,-12 25180,-12 25180,-6 25186,0 25192,0 25192,0 25370,0 25370,0 25376,0 25382,-6 25382,-12 25382,-12 25382,-41 25382,-41 25382,-47 25376,-53 25370,-53\"/>\n<text text-anchor=\"start\" x=\"25243\" y=\"-37.8\" font-family=\"Helvetica,sans-Serif\" font-size=\"14.00\" fill=\"#000000\">gini = 0.222</text>\n<text text-anchor=\"start\" x=\"25237\" y=\"-22.8\" font-family=\"Helvetica,sans-Serif\" font-size=\"14.00\" fill=\"#000000\">samples = 55</text>\n<text text-anchor=\"start\" x=\"25188\" y=\"-7.8\" font-family=\"Helvetica,sans-Serif\" font-size=\"14.00\" fill=\"#000000\">value = [0, 0, 0, 48, 0, 0, 7, 0]</text>\n</g>\n<!-- 296&#45;&gt;298 -->\n<g id=\"edge298\" class=\"edge\">\n<title>296&#45;&gt;298</title>\n<path fill=\"none\" stroke=\"#000000\" d=\"M25139.2112,-88.9777C25162.6982,-78.6284 25188.3618,-67.32 25211.3213,-57.2032\"/>\n<polygon fill=\"#000000\" stroke=\"#000000\" points=\"25212.9048,-60.3302 25220.6444,-53.095 25210.0821,-53.9245 25212.9048,-60.3302\"/>\n</g>\n<!-- 300 -->\n<g id=\"node301\" class=\"node\">\n<title>300</title>\n<path fill=\"#d739e5\" stroke=\"#000000\" d=\"M25623.5,-53C25623.5,-53 25412.5,-53 25412.5,-53 25406.5,-53 25400.5,-47 25400.5,-41 25400.5,-41 25400.5,-12 25400.5,-12 25400.5,-6 25406.5,0 25412.5,0 25412.5,0 25623.5,0 25623.5,0 25629.5,0 25635.5,-6 25635.5,-12 25635.5,-12 25635.5,-41 25635.5,-41 25635.5,-47 25629.5,-53 25623.5,-53\"/>\n<text text-anchor=\"start\" x=\"25480\" y=\"-37.8\" font-family=\"Helvetica,sans-Serif\" font-size=\"14.00\" fill=\"#000000\">gini = 0.003</text>\n<text text-anchor=\"start\" x=\"25462\" y=\"-22.8\" font-family=\"Helvetica,sans-Serif\" font-size=\"14.00\" fill=\"#000000\">samples = 34789</text>\n<text text-anchor=\"start\" x=\"25408.5\" y=\"-7.8\" font-family=\"Helvetica,sans-Serif\" font-size=\"14.00\" fill=\"#000000\">value = [0, 0, 0, 43, 0, 0, 34744, 2]</text>\n</g>\n<!-- 299&#45;&gt;300 -->\n<g id=\"edge300\" class=\"edge\">\n<title>299&#45;&gt;300</title>\n<path fill=\"none\" stroke=\"#000000\" d=\"M25518,-88.9777C25518,-80.7364 25518,-71.887 25518,-63.5153\"/>\n<polygon fill=\"#000000\" stroke=\"#000000\" points=\"25521.5001,-63.2484 25518,-53.2485 25514.5001,-63.2485 25521.5001,-63.2484\"/>\n</g>\n<!-- 301 -->\n<g id=\"node302\" class=\"node\">\n<title>301</title>\n<path fill=\"#f2bdf6\" stroke=\"#000000\" d=\"M25836,-53C25836,-53 25666,-53 25666,-53 25660,-53 25654,-47 25654,-41 25654,-41 25654,-12 25654,-12 25654,-6 25660,0 25666,0 25666,0 25836,0 25836,0 25842,0 25848,-6 25848,-12 25848,-12 25848,-41 25848,-41 25848,-47 25842,-53 25836,-53\"/>\n<text text-anchor=\"start\" x=\"25717.5\" y=\"-37.8\" font-family=\"Helvetica,sans-Serif\" font-size=\"14.00\" fill=\"#000000\">gini = 0.48</text>\n<text text-anchor=\"start\" x=\"25711.5\" y=\"-22.8\" font-family=\"Helvetica,sans-Serif\" font-size=\"14.00\" fill=\"#000000\">samples = 5</text>\n<text text-anchor=\"start\" x=\"25662\" y=\"-7.8\" font-family=\"Helvetica,sans-Serif\" font-size=\"14.00\" fill=\"#000000\">value = [0, 0, 0, 0, 0, 0, 3, 2]</text>\n</g>\n<!-- 299&#45;&gt;301 -->\n<g id=\"edge301\" class=\"edge\">\n<title>299&#45;&gt;301</title>\n<path fill=\"none\" stroke=\"#000000\" d=\"M25600.1471,-88.9777C25625.3576,-78.5364 25652.9253,-67.1189 25677.5176,-56.9337\"/>\n<polygon fill=\"#000000\" stroke=\"#000000\" points=\"25678.8864,-60.1552 25686.7861,-53.095 25676.2079,-53.6879 25678.8864,-60.1552\"/>\n</g>\n<!-- 303 -->\n<g id=\"node304\" class=\"node\">\n<title>303</title>\n<path fill=\"#39e5ac\" stroke=\"#000000\" d=\"M24739,-469C24739,-469 24545,-469 24545,-469 24539,-469 24533,-463 24533,-457 24533,-457 24533,-413 24533,-413 24533,-407 24539,-401 24545,-401 24545,-401 24739,-401 24739,-401 24745,-401 24751,-407 24751,-413 24751,-413 24751,-457 24751,-457 24751,-463 24745,-469 24739,-469\"/>\n<text text-anchor=\"start\" x=\"24598\" y=\"-453.8\" font-family=\"Helvetica,sans-Serif\" font-size=\"14.00\" fill=\"#000000\">minute ≤ 17.5</text>\n<text text-anchor=\"start\" x=\"24604\" y=\"-438.8\" font-family=\"Helvetica,sans-Serif\" font-size=\"14.00\" fill=\"#000000\">gini = 0.002</text>\n<text text-anchor=\"start\" x=\"24590\" y=\"-423.8\" font-family=\"Helvetica,sans-Serif\" font-size=\"14.00\" fill=\"#000000\">samples = 1097</text>\n<text text-anchor=\"start\" x=\"24541\" y=\"-408.8\" font-family=\"Helvetica,sans-Serif\" font-size=\"14.00\" fill=\"#000000\">value = [0, 0, 0, 1096, 0, 0, 1, 0]</text>\n</g>\n<!-- 302&#45;&gt;303 -->\n<g id=\"edge303\" class=\"edge\">\n<title>302&#45;&gt;303</title>\n<path fill=\"none\" stroke=\"#000000\" d=\"M24642,-504.9465C24642,-496.776 24642,-487.9318 24642,-479.3697\"/>\n<polygon fill=\"#000000\" stroke=\"#000000\" points=\"24645.5001,-479.13 24642,-469.13 24638.5001,-479.13 24645.5001,-479.13\"/>\n</g>\n<!-- 306 -->\n<g id=\"node307\" class=\"node\">\n<title>306</title>\n<path fill=\"#d739e5\" stroke=\"#000000\" d=\"M24959,-461.5C24959,-461.5 24781,-461.5 24781,-461.5 24775,-461.5 24769,-455.5 24769,-449.5 24769,-449.5 24769,-420.5 24769,-420.5 24769,-414.5 24775,-408.5 24781,-408.5 24781,-408.5 24959,-408.5 24959,-408.5 24965,-408.5 24971,-414.5 24971,-420.5 24971,-420.5 24971,-449.5 24971,-449.5 24971,-455.5 24965,-461.5 24959,-461.5\"/>\n<text text-anchor=\"start\" x=\"24840.5\" y=\"-446.3\" font-family=\"Helvetica,sans-Serif\" font-size=\"14.00\" fill=\"#000000\">gini = 0.0</text>\n<text text-anchor=\"start\" x=\"24826\" y=\"-431.3\" font-family=\"Helvetica,sans-Serif\" font-size=\"14.00\" fill=\"#000000\">samples = 24</text>\n<text text-anchor=\"start\" x=\"24777\" y=\"-416.3\" font-family=\"Helvetica,sans-Serif\" font-size=\"14.00\" fill=\"#000000\">value = [0, 0, 0, 0, 0, 0, 24, 0]</text>\n</g>\n<!-- 302&#45;&gt;306 -->\n<g id=\"edge306\" class=\"edge\">\n<title>302&#45;&gt;306</title>\n<path fill=\"none\" stroke=\"#000000\" d=\"M24716.6557,-504.9465C24744.3053,-492.3344 24775.4743,-478.117 24802.4552,-465.8099\"/>\n<polygon fill=\"#000000\" stroke=\"#000000\" points=\"24804.1657,-468.8766 24811.8114,-461.5422 24801.2607,-462.5079 24804.1657,-468.8766\"/>\n</g>\n<!-- 304 -->\n<g id=\"node305\" class=\"node\">\n<title>304</title>\n<path fill=\"#d739e5\" stroke=\"#000000\" d=\"M24727,-357.5C24727,-357.5 24557,-357.5 24557,-357.5 24551,-357.5 24545,-351.5 24545,-345.5 24545,-345.5 24545,-316.5 24545,-316.5 24545,-310.5 24551,-304.5 24557,-304.5 24557,-304.5 24727,-304.5 24727,-304.5 24733,-304.5 24739,-310.5 24739,-316.5 24739,-316.5 24739,-345.5 24739,-345.5 24739,-351.5 24733,-357.5 24727,-357.5\"/>\n<text text-anchor=\"start\" x=\"24612.5\" y=\"-342.3\" font-family=\"Helvetica,sans-Serif\" font-size=\"14.00\" fill=\"#000000\">gini = 0.0</text>\n<text text-anchor=\"start\" x=\"24602.5\" y=\"-327.3\" font-family=\"Helvetica,sans-Serif\" font-size=\"14.00\" fill=\"#000000\">samples = 1</text>\n<text text-anchor=\"start\" x=\"24553\" y=\"-312.3\" font-family=\"Helvetica,sans-Serif\" font-size=\"14.00\" fill=\"#000000\">value = [0, 0, 0, 0, 0, 0, 1, 0]</text>\n</g>\n<!-- 303&#45;&gt;304 -->\n<g id=\"edge304\" class=\"edge\">\n<title>303&#45;&gt;304</title>\n<path fill=\"none\" stroke=\"#000000\" d=\"M24642,-400.9465C24642,-390.2621 24642,-378.4254 24642,-367.5742\"/>\n<polygon fill=\"#000000\" stroke=\"#000000\" points=\"24645.5001,-367.5421 24642,-357.5422 24638.5001,-367.5422 24645.5001,-367.5421\"/>\n</g>\n<!-- 305 -->\n<g id=\"node306\" class=\"node\">\n<title>305</title>\n<path fill=\"#39e5ac\" stroke=\"#000000\" d=\"M24963,-357.5C24963,-357.5 24769,-357.5 24769,-357.5 24763,-357.5 24757,-351.5 24757,-345.5 24757,-345.5 24757,-316.5 24757,-316.5 24757,-310.5 24763,-304.5 24769,-304.5 24769,-304.5 24963,-304.5 24963,-304.5 24969,-304.5 24975,-310.5 24975,-316.5 24975,-316.5 24975,-345.5 24975,-345.5 24975,-351.5 24969,-357.5 24963,-357.5\"/>\n<text text-anchor=\"start\" x=\"24836.5\" y=\"-342.3\" font-family=\"Helvetica,sans-Serif\" font-size=\"14.00\" fill=\"#000000\">gini = 0.0</text>\n<text text-anchor=\"start\" x=\"24814\" y=\"-327.3\" font-family=\"Helvetica,sans-Serif\" font-size=\"14.00\" fill=\"#000000\">samples = 1096</text>\n<text text-anchor=\"start\" x=\"24765\" y=\"-312.3\" font-family=\"Helvetica,sans-Serif\" font-size=\"14.00\" fill=\"#000000\">value = [0, 0, 0, 1096, 0, 0, 0, 0]</text>\n</g>\n<!-- 303&#45;&gt;305 -->\n<g id=\"edge305\" class=\"edge\">\n<title>303&#45;&gt;305</title>\n<path fill=\"none\" stroke=\"#000000\" d=\"M24715.346,-400.9465C24742.5104,-388.3344 24773.1327,-374.117 24799.6402,-361.8099\"/>\n<polygon fill=\"#000000\" stroke=\"#000000\" points=\"24801.2361,-364.9279 24808.8323,-357.5422 24798.2883,-358.5788 24801.2361,-364.9279\"/>\n</g>\n<!-- 308 -->\n<g id=\"node309\" class=\"node\">\n<title>308</title>\n<path fill=\"#3de5ae\" stroke=\"#000000\" d=\"M25867.5,-677C25867.5,-677 25590.5,-677 25590.5,-677 25584.5,-677 25578.5,-671 25578.5,-665 25578.5,-665 25578.5,-621 25578.5,-621 25578.5,-615 25584.5,-609 25590.5,-609 25590.5,-609 25867.5,-609 25867.5,-609 25873.5,-609 25879.5,-615 25879.5,-621 25879.5,-621 25879.5,-665 25879.5,-665 25879.5,-671 25873.5,-677 25867.5,-677\"/>\n<text text-anchor=\"start\" x=\"25685\" y=\"-661.8\" font-family=\"Helvetica,sans-Serif\" font-size=\"14.00\" fill=\"#000000\">minute ≤ 33.5</text>\n<text text-anchor=\"start\" x=\"25691\" y=\"-646.8\" font-family=\"Helvetica,sans-Serif\" font-size=\"14.00\" fill=\"#000000\">gini = 0.035</text>\n<text text-anchor=\"start\" x=\"25668.5\" y=\"-631.8\" font-family=\"Helvetica,sans-Serif\" font-size=\"14.00\" fill=\"#000000\">samples = 111084</text>\n<text text-anchor=\"start\" x=\"25586.5\" y=\"-616.8\" font-family=\"Helvetica,sans-Serif\" font-size=\"14.00\" fill=\"#000000\">value = [79, 0, 7, 109092, 565, 64, 874, 403]</text>\n</g>\n<!-- 307&#45;&gt;308 -->\n<g id=\"edge308\" class=\"edge\">\n<title>307&#45;&gt;308</title>\n<path fill=\"none\" stroke=\"#000000\" d=\"M25729,-712.9465C25729,-704.776 25729,-695.9318 25729,-687.3697\"/>\n<polygon fill=\"#000000\" stroke=\"#000000\" points=\"25732.5001,-687.13 25729,-677.13 25725.5001,-687.13 25732.5001,-687.13\"/>\n</g>\n<!-- 335 -->\n<g id=\"node336\" class=\"node\">\n<title>335</title>\n<path fill=\"#d739e5\" stroke=\"#000000\" d=\"M26268.5,-677C26268.5,-677 26057.5,-677 26057.5,-677 26051.5,-677 26045.5,-671 26045.5,-665 26045.5,-665 26045.5,-621 26045.5,-621 26045.5,-615 26051.5,-609 26057.5,-609 26057.5,-609 26268.5,-609 26268.5,-609 26274.5,-609 26280.5,-615 26280.5,-621 26280.5,-621 26280.5,-665 26280.5,-665 26280.5,-671 26274.5,-677 26268.5,-677\"/>\n<text text-anchor=\"start\" x=\"26101\" y=\"-661.8\" font-family=\"Helvetica,sans-Serif\" font-size=\"14.00\" fill=\"#000000\">Bwd IAT Total ≤ 0.5</text>\n<text text-anchor=\"start\" x=\"26125\" y=\"-646.8\" font-family=\"Helvetica,sans-Serif\" font-size=\"14.00\" fill=\"#000000\">gini = 0.005</text>\n<text text-anchor=\"start\" x=\"26107\" y=\"-631.8\" font-family=\"Helvetica,sans-Serif\" font-size=\"14.00\" fill=\"#000000\">samples = 11962</text>\n<text text-anchor=\"start\" x=\"26053.5\" y=\"-616.8\" font-family=\"Helvetica,sans-Serif\" font-size=\"14.00\" fill=\"#000000\">value = [27, 0, 0, 0, 0, 0, 11935, 0]</text>\n</g>\n<!-- 307&#45;&gt;335 -->\n<g id=\"edge335\" class=\"edge\">\n<title>307&#45;&gt;335</title>\n<path fill=\"none\" stroke=\"#000000\" d=\"M25871.1078,-712.9465C25924.0596,-700.2576 25983.7926,-685.9437 26035.3656,-673.5852\"/>\n<polygon fill=\"#000000\" stroke=\"#000000\" points=\"26036.3224,-676.9551 26045.2314,-671.221 26034.6911,-670.1478 26036.3224,-676.9551\"/>\n</g>\n<!-- 309 -->\n<g id=\"node310\" class=\"node\">\n<title>309</title>\n<path fill=\"#ec9ff2\" stroke=\"#000000\" d=\"M25689.5,-573C25689.5,-573 25470.5,-573 25470.5,-573 25464.5,-573 25458.5,-567 25458.5,-561 25458.5,-561 25458.5,-517 25458.5,-517 25458.5,-511 25464.5,-505 25470.5,-505 25470.5,-505 25689.5,-505 25689.5,-505 25695.5,-505 25701.5,-511 25701.5,-517 25701.5,-517 25701.5,-561 25701.5,-561 25701.5,-567 25695.5,-573 25689.5,-573\"/>\n<text text-anchor=\"start\" x=\"25536\" y=\"-557.8\" font-family=\"Helvetica,sans-Serif\" font-size=\"14.00\" fill=\"#000000\">minute ≤ 12.5</text>\n<text text-anchor=\"start\" x=\"25542\" y=\"-542.8\" font-family=\"Helvetica,sans-Serif\" font-size=\"14.00\" fill=\"#000000\">gini = 0.505</text>\n<text text-anchor=\"start\" x=\"25528\" y=\"-527.8\" font-family=\"Helvetica,sans-Serif\" font-size=\"14.00\" fill=\"#000000\">samples = 1370</text>\n<text text-anchor=\"start\" x=\"25466.5\" y=\"-512.8\" font-family=\"Helvetica,sans-Serif\" font-size=\"14.00\" fill=\"#000000\">value = [37, 0, 7, 0, 2, 47, 874, 403]</text>\n</g>\n<!-- 308&#45;&gt;309 -->\n<g id=\"edge309\" class=\"edge\">\n<title>308&#45;&gt;309</title>\n<path fill=\"none\" stroke=\"#000000\" d=\"M25680.2118,-608.9465C25666.4479,-599.3395 25651.3494,-588.8009 25637.1426,-578.8848\"/>\n<polygon fill=\"#000000\" stroke=\"#000000\" points=\"25639.1011,-575.9835 25628.8978,-573.13 25635.0946,-581.7236 25639.1011,-575.9835\"/>\n</g>\n<!-- 324 -->\n<g id=\"node325\" class=\"node\">\n<title>324</title>\n<path fill=\"#3ae5ac\" stroke=\"#000000\" d=\"M26019,-573C26019,-573 25775,-573 25775,-573 25769,-573 25763,-567 25763,-561 25763,-561 25763,-517 25763,-517 25763,-511 25769,-505 25775,-505 25775,-505 26019,-505 26019,-505 26025,-505 26031,-511 26031,-517 26031,-517 26031,-561 26031,-561 26031,-567 26025,-573 26019,-573\"/>\n<text text-anchor=\"start\" x=\"25864.5\" y=\"-557.8\" font-family=\"Helvetica,sans-Serif\" font-size=\"14.00\" fill=\"#000000\">hour ≤ 9.5</text>\n<text text-anchor=\"start\" x=\"25859\" y=\"-542.8\" font-family=\"Helvetica,sans-Serif\" font-size=\"14.00\" fill=\"#000000\">gini = 0.011</text>\n<text text-anchor=\"start\" x=\"25836.5\" y=\"-527.8\" font-family=\"Helvetica,sans-Serif\" font-size=\"14.00\" fill=\"#000000\">samples = 109714</text>\n<text text-anchor=\"start\" x=\"25771\" y=\"-512.8\" font-family=\"Helvetica,sans-Serif\" font-size=\"14.00\" fill=\"#000000\">value = [42, 0, 0, 109092, 563, 17, 0, 0]</text>\n</g>\n<!-- 308&#45;&gt;324 -->\n<g id=\"edge324\" class=\"edge\">\n<title>308&#45;&gt;324</title>\n<path fill=\"none\" stroke=\"#000000\" d=\"M25784.0095,-608.9465C25799.6736,-599.2497 25816.8707,-588.6039 25833.0196,-578.6069\"/>\n<polygon fill=\"#000000\" stroke=\"#000000\" points=\"25835.2065,-581.3695 25841.8669,-573.13 25831.522,-575.4177 25835.2065,-581.3695\"/>\n</g>\n<!-- 310 -->\n<g id=\"node311\" class=\"node\">\n<title>310</title>\n<path fill=\"#d83fe6\" stroke=\"#000000\" d=\"M25419,-469C25419,-469 25225,-469 25225,-469 25219,-469 25213,-463 25213,-457 25213,-457 25213,-413 25213,-413 25213,-407 25219,-401 25225,-401 25225,-401 25419,-401 25419,-401 25425,-401 25431,-407 25431,-413 25431,-413 25431,-457 25431,-457 25431,-463 25425,-469 25419,-469\"/>\n<text text-anchor=\"start\" x=\"25224.5\" y=\"-453.8\" font-family=\"Helvetica,sans-Serif\" font-size=\"14.00\" fill=\"#000000\"> Total Backward Packets ≤ 2.0</text>\n<text text-anchor=\"start\" x=\"25284\" y=\"-438.8\" font-family=\"Helvetica,sans-Serif\" font-size=\"14.00\" fill=\"#000000\">gini = 0.054</text>\n<text text-anchor=\"start\" x=\"25274\" y=\"-423.8\" font-family=\"Helvetica,sans-Serif\" font-size=\"14.00\" fill=\"#000000\">samples = 899</text>\n<text text-anchor=\"start\" x=\"25221\" y=\"-408.8\" font-family=\"Helvetica,sans-Serif\" font-size=\"14.00\" fill=\"#000000\">value = [25, 0, 0, 0, 0, 0, 874, 0]</text>\n</g>\n<!-- 309&#45;&gt;310 -->\n<g id=\"edge310\" class=\"edge\">\n<title>309&#45;&gt;310</title>\n<path fill=\"none\" stroke=\"#000000\" d=\"M25495.5212,-504.9465C25470.1292,-494.711 25442.1141,-483.4181 25416.1379,-472.9471\"/>\n<polygon fill=\"#000000\" stroke=\"#000000\" points=\"25417.252,-469.6226 25406.6686,-469.13 25414.6349,-476.1149 25417.252,-469.6226\"/>\n</g>\n<!-- 313 -->\n<g id=\"node314\" class=\"node\">\n<title>313</title>\n<path fill=\"#e95989\" stroke=\"#000000\" d=\"M25681.5,-469C25681.5,-469 25478.5,-469 25478.5,-469 25472.5,-469 25466.5,-463 25466.5,-457 25466.5,-457 25466.5,-413 25466.5,-413 25466.5,-407 25472.5,-401 25478.5,-401 25478.5,-401 25681.5,-401 25681.5,-401 25687.5,-401 25693.5,-407 25693.5,-413 25693.5,-413 25693.5,-457 25693.5,-457 25693.5,-463 25687.5,-469 25681.5,-469\"/>\n<text text-anchor=\"start\" x=\"25536\" y=\"-453.8\" font-family=\"Helvetica,sans-Serif\" font-size=\"14.00\" fill=\"#000000\">minute ≤ 27.5</text>\n<text text-anchor=\"start\" x=\"25542\" y=\"-438.8\" font-family=\"Helvetica,sans-Serif\" font-size=\"14.00\" fill=\"#000000\">gini = 0.257</text>\n<text text-anchor=\"start\" x=\"25532\" y=\"-423.8\" font-family=\"Helvetica,sans-Serif\" font-size=\"14.00\" fill=\"#000000\">samples = 471</text>\n<text text-anchor=\"start\" x=\"25474.5\" y=\"-408.8\" font-family=\"Helvetica,sans-Serif\" font-size=\"14.00\" fill=\"#000000\">value = [12, 0, 7, 0, 2, 47, 0, 403]</text>\n</g>\n<!-- 309&#45;&gt;313 -->\n<g id=\"edge313\" class=\"edge\">\n<title>309&#45;&gt;313</title>\n<path fill=\"none\" stroke=\"#000000\" d=\"M25580,-504.9465C25580,-496.776 25580,-487.9318 25580,-479.3697\"/>\n<polygon fill=\"#000000\" stroke=\"#000000\" points=\"25583.5001,-479.13 25580,-469.13 25576.5001,-479.13 25583.5001,-479.13\"/>\n</g>\n<!-- 311 -->\n<g id=\"node312\" class=\"node\">\n<title>311</title>\n<path fill=\"#d739e5\" stroke=\"#000000\" d=\"M25191,-357.5C25191,-357.5 25005,-357.5 25005,-357.5 24999,-357.5 24993,-351.5 24993,-345.5 24993,-345.5 24993,-316.5 24993,-316.5 24993,-310.5 24999,-304.5 25005,-304.5 25005,-304.5 25191,-304.5 25191,-304.5 25197,-304.5 25203,-310.5 25203,-316.5 25203,-316.5 25203,-345.5 25203,-345.5 25203,-351.5 25197,-357.5 25191,-357.5\"/>\n<text text-anchor=\"start\" x=\"25068.5\" y=\"-342.3\" font-family=\"Helvetica,sans-Serif\" font-size=\"14.00\" fill=\"#000000\">gini = 0.0</text>\n<text text-anchor=\"start\" x=\"25050\" y=\"-327.3\" font-family=\"Helvetica,sans-Serif\" font-size=\"14.00\" fill=\"#000000\">samples = 874</text>\n<text text-anchor=\"start\" x=\"25001\" y=\"-312.3\" font-family=\"Helvetica,sans-Serif\" font-size=\"14.00\" fill=\"#000000\">value = [0, 0, 0, 0, 0, 0, 874, 0]</text>\n</g>\n<!-- 310&#45;&gt;311 -->\n<g id=\"edge311\" class=\"edge\">\n<title>310&#45;&gt;311</title>\n<path fill=\"none\" stroke=\"#000000\" d=\"M25248.654,-400.9465C25221.4896,-388.3344 25190.8673,-374.117 25164.3598,-361.8099\"/>\n<polygon fill=\"#000000\" stroke=\"#000000\" points=\"25165.7117,-358.5788 25155.1677,-357.5422 25162.7639,-364.9279 25165.7117,-358.5788\"/>\n</g>\n<!-- 312 -->\n<g id=\"node313\" class=\"node\">\n<title>312</title>\n<path fill=\"#e58139\" stroke=\"#000000\" d=\"M25411,-357.5C25411,-357.5 25233,-357.5 25233,-357.5 25227,-357.5 25221,-351.5 25221,-345.5 25221,-345.5 25221,-316.5 25221,-316.5 25221,-310.5 25227,-304.5 25233,-304.5 25233,-304.5 25411,-304.5 25411,-304.5 25417,-304.5 25423,-310.5 25423,-316.5 25423,-316.5 25423,-345.5 25423,-345.5 25423,-351.5 25417,-357.5 25411,-357.5\"/>\n<text text-anchor=\"start\" x=\"25292.5\" y=\"-342.3\" font-family=\"Helvetica,sans-Serif\" font-size=\"14.00\" fill=\"#000000\">gini = 0.0</text>\n<text text-anchor=\"start\" x=\"25278\" y=\"-327.3\" font-family=\"Helvetica,sans-Serif\" font-size=\"14.00\" fill=\"#000000\">samples = 25</text>\n<text text-anchor=\"start\" x=\"25229\" y=\"-312.3\" font-family=\"Helvetica,sans-Serif\" font-size=\"14.00\" fill=\"#000000\">value = [25, 0, 0, 0, 0, 0, 0, 0]</text>\n</g>\n<!-- 310&#45;&gt;312 -->\n<g id=\"edge312\" class=\"edge\">\n<title>310&#45;&gt;312</title>\n<path fill=\"none\" stroke=\"#000000\" d=\"M25322,-400.9465C25322,-390.2621 25322,-378.4254 25322,-367.5742\"/>\n<polygon fill=\"#000000\" stroke=\"#000000\" points=\"25325.5001,-367.5421 25322,-357.5422 25318.5001,-367.5422 25325.5001,-367.5421\"/>\n</g>\n<!-- 314 -->\n<g id=\"node315\" class=\"node\">\n<title>314</title>\n<path fill=\"#e53c74\" stroke=\"#000000\" d=\"M25639,-365C25639,-365 25453,-365 25453,-365 25447,-365 25441,-359 25441,-353 25441,-353 25441,-309 25441,-309 25441,-303 25447,-297 25453,-297 25453,-297 25639,-297 25639,-297 25645,-297 25651,-303 25651,-309 25651,-309 25651,-353 25651,-353 25651,-359 25645,-365 25639,-365\"/>\n<text text-anchor=\"start\" x=\"25460.5\" y=\"-349.8\" font-family=\"Helvetica,sans-Serif\" font-size=\"14.00\" fill=\"#000000\"> Flow Packets/s ≤ 395.528</text>\n<text text-anchor=\"start\" x=\"25508\" y=\"-334.8\" font-family=\"Helvetica,sans-Serif\" font-size=\"14.00\" fill=\"#000000\">gini = 0.029</text>\n<text text-anchor=\"start\" x=\"25498\" y=\"-319.8\" font-family=\"Helvetica,sans-Serif\" font-size=\"14.00\" fill=\"#000000\">samples = 409</text>\n<text text-anchor=\"start\" x=\"25449\" y=\"-304.8\" font-family=\"Helvetica,sans-Serif\" font-size=\"14.00\" fill=\"#000000\">value = [6, 0, 0, 0, 0, 0, 0, 403]</text>\n</g>\n<!-- 313&#45;&gt;314 -->\n<g id=\"edge314\" class=\"edge\">\n<title>313&#45;&gt;314</title>\n<path fill=\"none\" stroke=\"#000000\" d=\"M25568.8671,-400.9465C25566.1373,-392.5965 25563.1774,-383.5427 25560.3211,-374.8056\"/>\n<polygon fill=\"#000000\" stroke=\"#000000\" points=\"25563.5921,-373.5473 25557.1579,-365.13 25556.9386,-375.7226 25563.5921,-373.5473\"/>\n</g>\n<!-- 317 -->\n<g id=\"node318\" class=\"node\">\n<title>317</title>\n<path fill=\"#846fec\" stroke=\"#000000\" d=\"M25859,-365C25859,-365 25681,-365 25681,-365 25675,-365 25669,-359 25669,-353 25669,-353 25669,-309 25669,-309 25669,-303 25675,-297 25681,-297 25681,-297 25859,-297 25859,-297 25865,-297 25871,-303 25871,-309 25871,-309 25871,-353 25871,-353 25871,-359 25865,-365 25859,-365\"/>\n<text text-anchor=\"start\" x=\"25726\" y=\"-349.8\" font-family=\"Helvetica,sans-Serif\" font-size=\"14.00\" fill=\"#000000\">minute ≤ 28.5</text>\n<text text-anchor=\"start\" x=\"25732\" y=\"-334.8\" font-family=\"Helvetica,sans-Serif\" font-size=\"14.00\" fill=\"#000000\">gini = 0.402</text>\n<text text-anchor=\"start\" x=\"25726\" y=\"-319.8\" font-family=\"Helvetica,sans-Serif\" font-size=\"14.00\" fill=\"#000000\">samples = 62</text>\n<text text-anchor=\"start\" x=\"25677\" y=\"-304.8\" font-family=\"Helvetica,sans-Serif\" font-size=\"14.00\" fill=\"#000000\">value = [6, 0, 7, 0, 2, 47, 0, 0]</text>\n</g>\n<!-- 313&#45;&gt;317 -->\n<g id=\"edge317\" class=\"edge\">\n<title>313&#45;&gt;317</title>\n<path fill=\"none\" stroke=\"#000000\" d=\"M25642.2131,-400.9465C25660.2565,-391.0701 25680.0985,-380.2093 25698.6546,-370.0522\"/>\n<polygon fill=\"#000000\" stroke=\"#000000\" points=\"25700.5557,-373.0017 25707.6471,-365.13 25697.1947,-366.8613 25700.5557,-373.0017\"/>\n</g>\n<!-- 315 -->\n<g id=\"node316\" class=\"node\">\n<title>315</title>\n<path fill=\"#e58139\" stroke=\"#000000\" d=\"M25411,-253.5C25411,-253.5 25241,-253.5 25241,-253.5 25235,-253.5 25229,-247.5 25229,-241.5 25229,-241.5 25229,-212.5 25229,-212.5 25229,-206.5 25235,-200.5 25241,-200.5 25241,-200.5 25411,-200.5 25411,-200.5 25417,-200.5 25423,-206.5 25423,-212.5 25423,-212.5 25423,-241.5 25423,-241.5 25423,-247.5 25417,-253.5 25411,-253.5\"/>\n<text text-anchor=\"start\" x=\"25296.5\" y=\"-238.3\" font-family=\"Helvetica,sans-Serif\" font-size=\"14.00\" fill=\"#000000\">gini = 0.0</text>\n<text text-anchor=\"start\" x=\"25286.5\" y=\"-223.3\" font-family=\"Helvetica,sans-Serif\" font-size=\"14.00\" fill=\"#000000\">samples = 6</text>\n<text text-anchor=\"start\" x=\"25237\" y=\"-208.3\" font-family=\"Helvetica,sans-Serif\" font-size=\"14.00\" fill=\"#000000\">value = [6, 0, 0, 0, 0, 0, 0, 0]</text>\n</g>\n<!-- 314&#45;&gt;315 -->\n<g id=\"edge315\" class=\"edge\">\n<title>314&#45;&gt;315</title>\n<path fill=\"none\" stroke=\"#000000\" d=\"M25473.9638,-296.9465C25447.4009,-284.3895 25417.4716,-270.2411 25391.5161,-257.9712\"/>\n<polygon fill=\"#000000\" stroke=\"#000000\" points=\"25392.6835,-254.6518 25382.1469,-253.5422 25389.6918,-260.9803 25392.6835,-254.6518\"/>\n</g>\n<!-- 316 -->\n<g id=\"node317\" class=\"node\">\n<title>316</title>\n<path fill=\"#e53972\" stroke=\"#000000\" d=\"M25639,-253.5C25639,-253.5 25453,-253.5 25453,-253.5 25447,-253.5 25441,-247.5 25441,-241.5 25441,-241.5 25441,-212.5 25441,-212.5 25441,-206.5 25447,-200.5 25453,-200.5 25453,-200.5 25639,-200.5 25639,-200.5 25645,-200.5 25651,-206.5 25651,-212.5 25651,-212.5 25651,-241.5 25651,-241.5 25651,-247.5 25645,-253.5 25639,-253.5\"/>\n<text text-anchor=\"start\" x=\"25516.5\" y=\"-238.3\" font-family=\"Helvetica,sans-Serif\" font-size=\"14.00\" fill=\"#000000\">gini = 0.0</text>\n<text text-anchor=\"start\" x=\"25498\" y=\"-223.3\" font-family=\"Helvetica,sans-Serif\" font-size=\"14.00\" fill=\"#000000\">samples = 403</text>\n<text text-anchor=\"start\" x=\"25449\" y=\"-208.3\" font-family=\"Helvetica,sans-Serif\" font-size=\"14.00\" fill=\"#000000\">value = [0, 0, 0, 0, 0, 0, 0, 403]</text>\n</g>\n<!-- 314&#45;&gt;316 -->\n<g id=\"edge316\" class=\"edge\">\n<title>314&#45;&gt;316</title>\n<path fill=\"none\" stroke=\"#000000\" d=\"M25546,-296.9465C25546,-286.2621 25546,-274.4254 25546,-263.5742\"/>\n<polygon fill=\"#000000\" stroke=\"#000000\" points=\"25549.5001,-263.5421 25546,-253.5422 25542.5001,-263.5422 25549.5001,-263.5421\"/>\n</g>\n<!-- 318 -->\n<g id=\"node319\" class=\"node\">\n<title>318</title>\n<path fill=\"#5639e5\" stroke=\"#000000\" d=\"M25859,-253.5C25859,-253.5 25681,-253.5 25681,-253.5 25675,-253.5 25669,-247.5 25669,-241.5 25669,-241.5 25669,-212.5 25669,-212.5 25669,-206.5 25675,-200.5 25681,-200.5 25681,-200.5 25859,-200.5 25859,-200.5 25865,-200.5 25871,-206.5 25871,-212.5 25871,-212.5 25871,-241.5 25871,-241.5 25871,-247.5 25865,-253.5 25859,-253.5\"/>\n<text text-anchor=\"start\" x=\"25740.5\" y=\"-238.3\" font-family=\"Helvetica,sans-Serif\" font-size=\"14.00\" fill=\"#000000\">gini = 0.0</text>\n<text text-anchor=\"start\" x=\"25726\" y=\"-223.3\" font-family=\"Helvetica,sans-Serif\" font-size=\"14.00\" fill=\"#000000\">samples = 47</text>\n<text text-anchor=\"start\" x=\"25677\" y=\"-208.3\" font-family=\"Helvetica,sans-Serif\" font-size=\"14.00\" fill=\"#000000\">value = [0, 0, 0, 0, 0, 47, 0, 0]</text>\n</g>\n<!-- 317&#45;&gt;318 -->\n<g id=\"edge318\" class=\"edge\">\n<title>317&#45;&gt;318</title>\n<path fill=\"none\" stroke=\"#000000\" d=\"M25770,-296.9465C25770,-286.2621 25770,-274.4254 25770,-263.5742\"/>\n<polygon fill=\"#000000\" stroke=\"#000000\" points=\"25773.5001,-263.5421 25770,-253.5422 25766.5001,-263.5422 25773.5001,-263.5421\"/>\n</g>\n<!-- 319 -->\n<g id=\"node320\" class=\"node\">\n<title>319</title>\n<path fill=\"#ebfce9\" stroke=\"#000000\" d=\"M26077,-261C26077,-261 25901,-261 25901,-261 25895,-261 25889,-255 25889,-249 25889,-249 25889,-205 25889,-205 25889,-199 25895,-193 25901,-193 25901,-193 26077,-193 26077,-193 26083,-193 26089,-199 26089,-205 26089,-205 26089,-249 26089,-249 26089,-255 26083,-261 26077,-261\"/>\n<text text-anchor=\"start\" x=\"25897\" y=\"-245.8\" font-family=\"Helvetica,sans-Serif\" font-size=\"14.00\" fill=\"#000000\"> Packet Length Std ≤ 68.569</text>\n<text text-anchor=\"start\" x=\"25951\" y=\"-230.8\" font-family=\"Helvetica,sans-Serif\" font-size=\"14.00\" fill=\"#000000\">gini = 0.604</text>\n<text text-anchor=\"start\" x=\"25945\" y=\"-215.8\" font-family=\"Helvetica,sans-Serif\" font-size=\"14.00\" fill=\"#000000\">samples = 15</text>\n<text text-anchor=\"start\" x=\"25900\" y=\"-200.8\" font-family=\"Helvetica,sans-Serif\" font-size=\"14.00\" fill=\"#000000\">value = [6, 0, 7, 0, 2, 0, 0, 0]</text>\n</g>\n<!-- 317&#45;&gt;319 -->\n<g id=\"edge319\" class=\"edge\">\n<title>317&#45;&gt;319</title>\n<path fill=\"none\" stroke=\"#000000\" d=\"M25841.7088,-296.9465C25862.8843,-286.8906 25886.209,-275.814 25907.9302,-265.4989\"/>\n<polygon fill=\"#000000\" stroke=\"#000000\" points=\"25909.5983,-268.5814 25917.1301,-261.13 25906.5955,-262.2582 25909.5983,-268.5814\"/>\n</g>\n<!-- 320 -->\n<g id=\"node321\" class=\"node\">\n<title>320</title>\n<path fill=\"#7cec72\" stroke=\"#000000\" d=\"M26083.5,-157C26083.5,-157 25878.5,-157 25878.5,-157 25872.5,-157 25866.5,-151 25866.5,-145 25866.5,-145 25866.5,-101 25866.5,-101 25866.5,-95 25872.5,-89 25878.5,-89 25878.5,-89 26083.5,-89 26083.5,-89 26089.5,-89 26095.5,-95 26095.5,-101 26095.5,-101 26095.5,-145 26095.5,-145 26095.5,-151 26089.5,-157 26083.5,-157\"/>\n<text text-anchor=\"start\" x=\"25874.5\" y=\"-141.8\" font-family=\"Helvetica,sans-Serif\" font-size=\"14.00\" fill=\"#000000\"> Fwd Packet Length Max ≤ 469.0</text>\n<text text-anchor=\"start\" x=\"25943\" y=\"-126.8\" font-family=\"Helvetica,sans-Serif\" font-size=\"14.00\" fill=\"#000000\">gini = 0.346</text>\n<text text-anchor=\"start\" x=\"25941.5\" y=\"-111.8\" font-family=\"Helvetica,sans-Serif\" font-size=\"14.00\" fill=\"#000000\">samples = 9</text>\n<text text-anchor=\"start\" x=\"25892\" y=\"-96.8\" font-family=\"Helvetica,sans-Serif\" font-size=\"14.00\" fill=\"#000000\">value = [0, 0, 7, 0, 2, 0, 0, 0]</text>\n</g>\n<!-- 319&#45;&gt;320 -->\n<g id=\"edge320\" class=\"edge\">\n<title>319&#45;&gt;320</title>\n<path fill=\"none\" stroke=\"#000000\" d=\"M25986.3805,-192.9465C25985.752,-184.776 25985.0717,-175.9318 25984.4131,-167.3697\"/>\n<polygon fill=\"#000000\" stroke=\"#000000\" points=\"25987.8821,-166.8321 25983.6254,-157.13 25980.9027,-167.369 25987.8821,-166.8321\"/>\n</g>\n<!-- 323 -->\n<g id=\"node324\" class=\"node\">\n<title>323</title>\n<path fill=\"#e58139\" stroke=\"#000000\" d=\"M26296,-149.5C26296,-149.5 26126,-149.5 26126,-149.5 26120,-149.5 26114,-143.5 26114,-137.5 26114,-137.5 26114,-108.5 26114,-108.5 26114,-102.5 26120,-96.5 26126,-96.5 26126,-96.5 26296,-96.5 26296,-96.5 26302,-96.5 26308,-102.5 26308,-108.5 26308,-108.5 26308,-137.5 26308,-137.5 26308,-143.5 26302,-149.5 26296,-149.5\"/>\n<text text-anchor=\"start\" x=\"26181.5\" y=\"-134.3\" font-family=\"Helvetica,sans-Serif\" font-size=\"14.00\" fill=\"#000000\">gini = 0.0</text>\n<text text-anchor=\"start\" x=\"26171.5\" y=\"-119.3\" font-family=\"Helvetica,sans-Serif\" font-size=\"14.00\" fill=\"#000000\">samples = 6</text>\n<text text-anchor=\"start\" x=\"26122\" y=\"-104.3\" font-family=\"Helvetica,sans-Serif\" font-size=\"14.00\" fill=\"#000000\">value = [6, 0, 0, 0, 0, 0, 0, 0]</text>\n</g>\n<!-- 319&#45;&gt;323 -->\n<g id=\"edge323\" class=\"edge\">\n<title>319&#45;&gt;323</title>\n<path fill=\"none\" stroke=\"#000000\" d=\"M26061.6911,-192.9465C26088.613,-180.3344 26118.9618,-166.117 26145.2327,-153.8099\"/>\n<polygon fill=\"#000000\" stroke=\"#000000\" points=\"26146.7719,-156.9539 26154.3427,-149.5422 26143.8023,-150.615 26146.7719,-156.9539\"/>\n</g>\n<!-- 321 -->\n<g id=\"node322\" class=\"node\">\n<title>321</title>\n<path fill=\"#399de5\" stroke=\"#000000\" d=\"M26059,-53C26059,-53 25889,-53 25889,-53 25883,-53 25877,-47 25877,-41 25877,-41 25877,-12 25877,-12 25877,-6 25883,0 25889,0 25889,0 26059,0 26059,0 26065,0 26071,-6 26071,-12 26071,-12 26071,-41 26071,-41 26071,-47 26065,-53 26059,-53\"/>\n<text text-anchor=\"start\" x=\"25944.5\" y=\"-37.8\" font-family=\"Helvetica,sans-Serif\" font-size=\"14.00\" fill=\"#000000\">gini = 0.0</text>\n<text text-anchor=\"start\" x=\"25934.5\" y=\"-22.8\" font-family=\"Helvetica,sans-Serif\" font-size=\"14.00\" fill=\"#000000\">samples = 2</text>\n<text text-anchor=\"start\" x=\"25885\" y=\"-7.8\" font-family=\"Helvetica,sans-Serif\" font-size=\"14.00\" fill=\"#000000\">value = [0, 0, 0, 0, 2, 0, 0, 0]</text>\n</g>\n<!-- 320&#45;&gt;321 -->\n<g id=\"edge321\" class=\"edge\">\n<title>320&#45;&gt;321</title>\n<path fill=\"none\" stroke=\"#000000\" d=\"M25978.5321,-88.9777C25977.9276,-80.6449 25977.278,-71.6903 25976.6648,-63.2364\"/>\n<polygon fill=\"#000000\" stroke=\"#000000\" points=\"25980.1547,-62.969 25975.9403,-53.2485 25973.1731,-63.4755 25980.1547,-62.969\"/>\n</g>\n<!-- 322 -->\n<g id=\"node323\" class=\"node\">\n<title>322</title>\n<path fill=\"#47e539\" stroke=\"#000000\" d=\"M26271,-53C26271,-53 26101,-53 26101,-53 26095,-53 26089,-47 26089,-41 26089,-41 26089,-12 26089,-12 26089,-6 26095,0 26101,0 26101,0 26271,0 26271,0 26277,0 26283,-6 26283,-12 26283,-12 26283,-41 26283,-41 26283,-47 26277,-53 26271,-53\"/>\n<text text-anchor=\"start\" x=\"26156.5\" y=\"-37.8\" font-family=\"Helvetica,sans-Serif\" font-size=\"14.00\" fill=\"#000000\">gini = 0.0</text>\n<text text-anchor=\"start\" x=\"26146.5\" y=\"-22.8\" font-family=\"Helvetica,sans-Serif\" font-size=\"14.00\" fill=\"#000000\">samples = 7</text>\n<text text-anchor=\"start\" x=\"26097\" y=\"-7.8\" font-family=\"Helvetica,sans-Serif\" font-size=\"14.00\" fill=\"#000000\">value = [0, 0, 7, 0, 0, 0, 0, 0]</text>\n</g>\n<!-- 320&#45;&gt;322 -->\n<g id=\"edge322\" class=\"edge\">\n<title>320&#45;&gt;322</title>\n<path fill=\"none\" stroke=\"#000000\" d=\"M26053.2753,-88.9777C26075.0654,-78.7204 26098.8569,-67.521 26120.2019,-57.4732\"/>\n<polygon fill=\"#000000\" stroke=\"#000000\" points=\"26121.9458,-60.5208 26129.5028,-53.095 26118.9644,-54.1874 26121.9458,-60.5208\"/>\n</g>\n<!-- 325 -->\n<g id=\"node326\" class=\"node\">\n<title>325</title>\n<path fill=\"#46a4e7\" stroke=\"#000000\" d=\"M26091,-469C26091,-469 25897,-469 25897,-469 25891,-469 25885,-463 25885,-457 25885,-457 25885,-413 25885,-413 25885,-407 25891,-401 25897,-401 25897,-401 26091,-401 26091,-401 26097,-401 26103,-407 26103,-413 26103,-413 26103,-457 26103,-457 26103,-463 26097,-469 26091,-469\"/>\n<text text-anchor=\"start\" x=\"25927\" y=\"-453.8\" font-family=\"Helvetica,sans-Serif\" font-size=\"14.00\" fill=\"#000000\"> Bwd IAT Mean ≤ 1.0</text>\n<text text-anchor=\"start\" x=\"25956\" y=\"-438.8\" font-family=\"Helvetica,sans-Serif\" font-size=\"14.00\" fill=\"#000000\">gini = 0.118</text>\n<text text-anchor=\"start\" x=\"25946\" y=\"-423.8\" font-family=\"Helvetica,sans-Serif\" font-size=\"14.00\" fill=\"#000000\">samples = 601</text>\n<text text-anchor=\"start\" x=\"25893\" y=\"-408.8\" font-family=\"Helvetica,sans-Serif\" font-size=\"14.00\" fill=\"#000000\">value = [38, 0, 0, 0, 563, 0, 0, 0]</text>\n</g>\n<!-- 324&#45;&gt;325 -->\n<g id=\"edge325\" class=\"edge\">\n<title>324&#45;&gt;325</title>\n<path fill=\"none\" stroke=\"#000000\" d=\"M25928.7614,-504.9465C25937.2194,-495.8782 25946.4514,-485.9799 25955.2387,-476.5585\"/>\n<polygon fill=\"#000000\" stroke=\"#000000\" points=\"25957.906,-478.8302 25962.1672,-469.13 25952.787,-474.0557 25957.906,-478.8302\"/>\n</g>\n<!-- 328 -->\n<g id=\"node329\" class=\"node\">\n<title>328</title>\n<path fill=\"#39e5ac\" stroke=\"#000000\" d=\"M26564.5,-469C26564.5,-469 26345.5,-469 26345.5,-469 26339.5,-469 26333.5,-463 26333.5,-457 26333.5,-457 26333.5,-413 26333.5,-413 26333.5,-407 26339.5,-401 26345.5,-401 26345.5,-401 26564.5,-401 26564.5,-401 26570.5,-401 26576.5,-407 26576.5,-413 26576.5,-413 26576.5,-457 26576.5,-457 26576.5,-463 26570.5,-469 26564.5,-469\"/>\n<text text-anchor=\"start\" x=\"26418.5\" y=\"-453.8\" font-family=\"Helvetica,sans-Serif\" font-size=\"14.00\" fill=\"#000000\">hour ≤ 10.5</text>\n<text text-anchor=\"start\" x=\"26425.5\" y=\"-438.8\" font-family=\"Helvetica,sans-Serif\" font-size=\"14.00\" fill=\"#000000\">gini = 0.0</text>\n<text text-anchor=\"start\" x=\"26394.5\" y=\"-423.8\" font-family=\"Helvetica,sans-Serif\" font-size=\"14.00\" fill=\"#000000\">samples = 109113</text>\n<text text-anchor=\"start\" x=\"26341.5\" y=\"-408.8\" font-family=\"Helvetica,sans-Serif\" font-size=\"14.00\" fill=\"#000000\">value = [4, 0, 0, 109092, 0, 17, 0, 0]</text>\n</g>\n<!-- 324&#45;&gt;328 -->\n<g id=\"edge328\" class=\"edge\">\n<title>324&#45;&gt;328</title>\n<path fill=\"none\" stroke=\"#000000\" d=\"M26031.2901,-506.7972C26034.2179,-506.1837 26037.124,-505.5838 26040,-505 26134.2483,-485.8689 26241.2848,-467.9061 26323.0456,-454.9673\"/>\n<polygon fill=\"#000000\" stroke=\"#000000\" points=\"26324.062,-458.3503 26333.3946,-453.335 26322.9714,-451.4358 26324.062,-458.3503\"/>\n</g>\n<!-- 326 -->\n<g id=\"node327\" class=\"node\">\n<title>326</title>\n<path fill=\"#399de5\" stroke=\"#000000\" d=\"M26087,-357.5C26087,-357.5 25901,-357.5 25901,-357.5 25895,-357.5 25889,-351.5 25889,-345.5 25889,-345.5 25889,-316.5 25889,-316.5 25889,-310.5 25895,-304.5 25901,-304.5 25901,-304.5 26087,-304.5 26087,-304.5 26093,-304.5 26099,-310.5 26099,-316.5 26099,-316.5 26099,-345.5 26099,-345.5 26099,-351.5 26093,-357.5 26087,-357.5\"/>\n<text text-anchor=\"start\" x=\"25964.5\" y=\"-342.3\" font-family=\"Helvetica,sans-Serif\" font-size=\"14.00\" fill=\"#000000\">gini = 0.0</text>\n<text text-anchor=\"start\" x=\"25946\" y=\"-327.3\" font-family=\"Helvetica,sans-Serif\" font-size=\"14.00\" fill=\"#000000\">samples = 563</text>\n<text text-anchor=\"start\" x=\"25897\" y=\"-312.3\" font-family=\"Helvetica,sans-Serif\" font-size=\"14.00\" fill=\"#000000\">value = [0, 0, 0, 0, 563, 0, 0, 0]</text>\n</g>\n<!-- 325&#45;&gt;326 -->\n<g id=\"edge326\" class=\"edge\">\n<title>325&#45;&gt;326</title>\n<path fill=\"none\" stroke=\"#000000\" d=\"M25994,-400.9465C25994,-390.2621 25994,-378.4254 25994,-367.5742\"/>\n<polygon fill=\"#000000\" stroke=\"#000000\" points=\"25997.5001,-367.5421 25994,-357.5422 25990.5001,-367.5422 25997.5001,-367.5421\"/>\n</g>\n<!-- 327 -->\n<g id=\"node328\" class=\"node\">\n<title>327</title>\n<path fill=\"#e58139\" stroke=\"#000000\" d=\"M26307,-357.5C26307,-357.5 26129,-357.5 26129,-357.5 26123,-357.5 26117,-351.5 26117,-345.5 26117,-345.5 26117,-316.5 26117,-316.5 26117,-310.5 26123,-304.5 26129,-304.5 26129,-304.5 26307,-304.5 26307,-304.5 26313,-304.5 26319,-310.5 26319,-316.5 26319,-316.5 26319,-345.5 26319,-345.5 26319,-351.5 26313,-357.5 26307,-357.5\"/>\n<text text-anchor=\"start\" x=\"26188.5\" y=\"-342.3\" font-family=\"Helvetica,sans-Serif\" font-size=\"14.00\" fill=\"#000000\">gini = 0.0</text>\n<text text-anchor=\"start\" x=\"26174\" y=\"-327.3\" font-family=\"Helvetica,sans-Serif\" font-size=\"14.00\" fill=\"#000000\">samples = 38</text>\n<text text-anchor=\"start\" x=\"26125\" y=\"-312.3\" font-family=\"Helvetica,sans-Serif\" font-size=\"14.00\" fill=\"#000000\">value = [38, 0, 0, 0, 0, 0, 0, 0]</text>\n</g>\n<!-- 325&#45;&gt;327 -->\n<g id=\"edge327\" class=\"edge\">\n<title>325&#45;&gt;327</title>\n<path fill=\"none\" stroke=\"#000000\" d=\"M26067.346,-400.9465C26094.5104,-388.3344 26125.1327,-374.117 26151.6402,-361.8099\"/>\n<polygon fill=\"#000000\" stroke=\"#000000\" points=\"26153.2361,-364.9279 26160.8323,-357.5422 26150.2883,-358.5788 26153.2361,-364.9279\"/>\n</g>\n<!-- 329 -->\n<g id=\"node330\" class=\"node\">\n<title>329</title>\n<path fill=\"#39e5ac\" stroke=\"#000000\" d=\"M26560.5,-365C26560.5,-365 26349.5,-365 26349.5,-365 26343.5,-365 26337.5,-359 26337.5,-353 26337.5,-353 26337.5,-309 26337.5,-309 26337.5,-303 26343.5,-297 26349.5,-297 26349.5,-297 26560.5,-297 26560.5,-297 26566.5,-297 26572.5,-303 26572.5,-309 26572.5,-309 26572.5,-353 26572.5,-353 26572.5,-359 26566.5,-365 26560.5,-365\"/>\n<text text-anchor=\"start\" x=\"26385.5\" y=\"-349.8\" font-family=\"Helvetica,sans-Serif\" font-size=\"14.00\" fill=\"#000000\"> Active Min ≤ 10433.5</text>\n<text text-anchor=\"start\" x=\"26425.5\" y=\"-334.8\" font-family=\"Helvetica,sans-Serif\" font-size=\"14.00\" fill=\"#000000\">gini = 0.0</text>\n<text text-anchor=\"start\" x=\"26394.5\" y=\"-319.8\" font-family=\"Helvetica,sans-Serif\" font-size=\"14.00\" fill=\"#000000\">samples = 109095</text>\n<text text-anchor=\"start\" x=\"26345.5\" y=\"-304.8\" font-family=\"Helvetica,sans-Serif\" font-size=\"14.00\" fill=\"#000000\">value = [3, 0, 0, 109092, 0, 0, 0, 0]</text>\n</g>\n<!-- 328&#45;&gt;329 -->\n<g id=\"edge329\" class=\"edge\">\n<title>328&#45;&gt;329</title>\n<path fill=\"none\" stroke=\"#000000\" d=\"M26455,-400.9465C26455,-392.776 26455,-383.9318 26455,-375.3697\"/>\n<polygon fill=\"#000000\" stroke=\"#000000\" points=\"26458.5001,-375.13 26455,-365.13 26451.5001,-375.13 26458.5001,-375.13\"/>\n</g>\n<!-- 332 -->\n<g id=\"node333\" class=\"node\">\n<title>332</title>\n<path fill=\"#6045e7\" stroke=\"#000000\" d=\"M26781,-365C26781,-365 26603,-365 26603,-365 26597,-365 26591,-359 26591,-353 26591,-353 26591,-309 26591,-309 26591,-303 26597,-297 26603,-297 26603,-297 26781,-297 26781,-297 26787,-297 26793,-303 26793,-309 26793,-309 26793,-353 26793,-353 26793,-359 26787,-365 26781,-365\"/>\n<text text-anchor=\"start\" x=\"26609\" y=\"-349.8\" font-family=\"Helvetica,sans-Serif\" font-size=\"14.00\" fill=\"#000000\">Active Mean ≤ 15606.363</text>\n<text text-anchor=\"start\" x=\"26654\" y=\"-334.8\" font-family=\"Helvetica,sans-Serif\" font-size=\"14.00\" fill=\"#000000\">gini = 0.105</text>\n<text text-anchor=\"start\" x=\"26648\" y=\"-319.8\" font-family=\"Helvetica,sans-Serif\" font-size=\"14.00\" fill=\"#000000\">samples = 18</text>\n<text text-anchor=\"start\" x=\"26599\" y=\"-304.8\" font-family=\"Helvetica,sans-Serif\" font-size=\"14.00\" fill=\"#000000\">value = [1, 0, 0, 0, 0, 17, 0, 0]</text>\n</g>\n<!-- 328&#45;&gt;332 -->\n<g id=\"edge332\" class=\"edge\">\n<title>328&#45;&gt;332</title>\n<path fill=\"none\" stroke=\"#000000\" d=\"M26532.6027,-400.9465C26555.7233,-390.8008 26581.2114,-379.6161 26604.8961,-369.2228\"/>\n<polygon fill=\"#000000\" stroke=\"#000000\" points=\"26606.4723,-372.3534 26614.223,-365.13 26603.6594,-365.9434 26606.4723,-372.3534\"/>\n</g>\n<!-- 330 -->\n<g id=\"node331\" class=\"node\">\n<title>330</title>\n<path fill=\"#39e5ac\" stroke=\"#000000\" d=\"M26330.5,-253.5C26330.5,-253.5 26119.5,-253.5 26119.5,-253.5 26113.5,-253.5 26107.5,-247.5 26107.5,-241.5 26107.5,-241.5 26107.5,-212.5 26107.5,-212.5 26107.5,-206.5 26113.5,-200.5 26119.5,-200.5 26119.5,-200.5 26330.5,-200.5 26330.5,-200.5 26336.5,-200.5 26342.5,-206.5 26342.5,-212.5 26342.5,-212.5 26342.5,-241.5 26342.5,-241.5 26342.5,-247.5 26336.5,-253.5 26330.5,-253.5\"/>\n<text text-anchor=\"start\" x=\"26195.5\" y=\"-238.3\" font-family=\"Helvetica,sans-Serif\" font-size=\"14.00\" fill=\"#000000\">gini = 0.0</text>\n<text text-anchor=\"start\" x=\"26164.5\" y=\"-223.3\" font-family=\"Helvetica,sans-Serif\" font-size=\"14.00\" fill=\"#000000\">samples = 109092</text>\n<text text-anchor=\"start\" x=\"26115.5\" y=\"-208.3\" font-family=\"Helvetica,sans-Serif\" font-size=\"14.00\" fill=\"#000000\">value = [0, 0, 0, 109092, 0, 0, 0, 0]</text>\n</g>\n<!-- 329&#45;&gt;330 -->\n<g id=\"edge330\" class=\"edge\">\n<title>329&#45;&gt;330</title>\n<path fill=\"none\" stroke=\"#000000\" d=\"M26379.6894,-296.9465C26351.7973,-284.3344 26320.3549,-270.117 26293.1373,-257.8099\"/>\n<polygon fill=\"#000000\" stroke=\"#000000\" points=\"26294.2529,-254.4732 26283.699,-253.5422 26291.3688,-260.8515 26294.2529,-254.4732\"/>\n</g>\n<!-- 331 -->\n<g id=\"node332\" class=\"node\">\n<title>331</title>\n<path fill=\"#e58139\" stroke=\"#000000\" d=\"M26543,-253.5C26543,-253.5 26373,-253.5 26373,-253.5 26367,-253.5 26361,-247.5 26361,-241.5 26361,-241.5 26361,-212.5 26361,-212.5 26361,-206.5 26367,-200.5 26373,-200.5 26373,-200.5 26543,-200.5 26543,-200.5 26549,-200.5 26555,-206.5 26555,-212.5 26555,-212.5 26555,-241.5 26555,-241.5 26555,-247.5 26549,-253.5 26543,-253.5\"/>\n<text text-anchor=\"start\" x=\"26428.5\" y=\"-238.3\" font-family=\"Helvetica,sans-Serif\" font-size=\"14.00\" fill=\"#000000\">gini = 0.0</text>\n<text text-anchor=\"start\" x=\"26418.5\" y=\"-223.3\" font-family=\"Helvetica,sans-Serif\" font-size=\"14.00\" fill=\"#000000\">samples = 3</text>\n<text text-anchor=\"start\" x=\"26369\" y=\"-208.3\" font-family=\"Helvetica,sans-Serif\" font-size=\"14.00\" fill=\"#000000\">value = [3, 0, 0, 0, 0, 0, 0, 0]</text>\n</g>\n<!-- 329&#45;&gt;331 -->\n<g id=\"edge331\" class=\"edge\">\n<title>329&#45;&gt;331</title>\n<path fill=\"none\" stroke=\"#000000\" d=\"M26455.9823,-296.9465C26456.2905,-286.2621 26456.632,-274.4254 26456.945,-263.5742\"/>\n<polygon fill=\"#000000\" stroke=\"#000000\" points=\"26460.4445,-263.639 26457.2344,-253.5422 26453.4474,-263.4371 26460.4445,-263.639\"/>\n</g>\n<!-- 333 -->\n<g id=\"node334\" class=\"node\">\n<title>333</title>\n<path fill=\"#5639e5\" stroke=\"#000000\" d=\"M26763,-253.5C26763,-253.5 26585,-253.5 26585,-253.5 26579,-253.5 26573,-247.5 26573,-241.5 26573,-241.5 26573,-212.5 26573,-212.5 26573,-206.5 26579,-200.5 26585,-200.5 26585,-200.5 26763,-200.5 26763,-200.5 26769,-200.5 26775,-206.5 26775,-212.5 26775,-212.5 26775,-241.5 26775,-241.5 26775,-247.5 26769,-253.5 26763,-253.5\"/>\n<text text-anchor=\"start\" x=\"26644.5\" y=\"-238.3\" font-family=\"Helvetica,sans-Serif\" font-size=\"14.00\" fill=\"#000000\">gini = 0.0</text>\n<text text-anchor=\"start\" x=\"26630\" y=\"-223.3\" font-family=\"Helvetica,sans-Serif\" font-size=\"14.00\" fill=\"#000000\">samples = 17</text>\n<text text-anchor=\"start\" x=\"26581\" y=\"-208.3\" font-family=\"Helvetica,sans-Serif\" font-size=\"14.00\" fill=\"#000000\">value = [0, 0, 0, 0, 0, 17, 0, 0]</text>\n</g>\n<!-- 332&#45;&gt;333 -->\n<g id=\"edge333\" class=\"edge\">\n<title>332&#45;&gt;333</title>\n<path fill=\"none\" stroke=\"#000000\" d=\"M26686.1061,-296.9465C26684.2569,-286.2621 26682.2082,-274.4254 26680.3302,-263.5742\"/>\n<polygon fill=\"#000000\" stroke=\"#000000\" points=\"26683.7481,-262.7987 26678.5938,-253.5422 26676.8506,-263.9926 26683.7481,-262.7987\"/>\n</g>\n<!-- 334 -->\n<g id=\"node335\" class=\"node\">\n<title>334</title>\n<path fill=\"#e58139\" stroke=\"#000000\" d=\"M26975,-253.5C26975,-253.5 26805,-253.5 26805,-253.5 26799,-253.5 26793,-247.5 26793,-241.5 26793,-241.5 26793,-212.5 26793,-212.5 26793,-206.5 26799,-200.5 26805,-200.5 26805,-200.5 26975,-200.5 26975,-200.5 26981,-200.5 26987,-206.5 26987,-212.5 26987,-212.5 26987,-241.5 26987,-241.5 26987,-247.5 26981,-253.5 26975,-253.5\"/>\n<text text-anchor=\"start\" x=\"26860.5\" y=\"-238.3\" font-family=\"Helvetica,sans-Serif\" font-size=\"14.00\" fill=\"#000000\">gini = 0.0</text>\n<text text-anchor=\"start\" x=\"26850.5\" y=\"-223.3\" font-family=\"Helvetica,sans-Serif\" font-size=\"14.00\" fill=\"#000000\">samples = 1</text>\n<text text-anchor=\"start\" x=\"26801\" y=\"-208.3\" font-family=\"Helvetica,sans-Serif\" font-size=\"14.00\" fill=\"#000000\">value = [1, 0, 0, 0, 0, 0, 0, 0]</text>\n</g>\n<!-- 332&#45;&gt;334 -->\n<g id=\"edge334\" class=\"edge\">\n<title>332&#45;&gt;334</title>\n<path fill=\"none\" stroke=\"#000000\" d=\"M26756.8326,-296.9465C26780.5295,-284.4997 26807.2032,-270.4892 26830.42,-258.2946\"/>\n<polygon fill=\"#000000\" stroke=\"#000000\" points=\"26832.2423,-261.2909 26839.4678,-253.5422 26828.9872,-255.0937 26832.2423,-261.2909\"/>\n</g>\n<!-- 336 -->\n<g id=\"node337\" class=\"node\">\n<title>336</title>\n<path fill=\"#d739e5\" stroke=\"#000000\" d=\"M26264.5,-565.5C26264.5,-565.5 26061.5,-565.5 26061.5,-565.5 26055.5,-565.5 26049.5,-559.5 26049.5,-553.5 26049.5,-553.5 26049.5,-524.5 26049.5,-524.5 26049.5,-518.5 26055.5,-512.5 26061.5,-512.5 26061.5,-512.5 26264.5,-512.5 26264.5,-512.5 26270.5,-512.5 26276.5,-518.5 26276.5,-524.5 26276.5,-524.5 26276.5,-553.5 26276.5,-553.5 26276.5,-559.5 26270.5,-565.5 26264.5,-565.5\"/>\n<text text-anchor=\"start\" x=\"26133.5\" y=\"-550.3\" font-family=\"Helvetica,sans-Serif\" font-size=\"14.00\" fill=\"#000000\">gini = 0.0</text>\n<text text-anchor=\"start\" x=\"26107\" y=\"-535.3\" font-family=\"Helvetica,sans-Serif\" font-size=\"14.00\" fill=\"#000000\">samples = 11935</text>\n<text text-anchor=\"start\" x=\"26057.5\" y=\"-520.3\" font-family=\"Helvetica,sans-Serif\" font-size=\"14.00\" fill=\"#000000\">value = [0, 0, 0, 0, 0, 0, 11935, 0]</text>\n</g>\n<!-- 335&#45;&gt;336 -->\n<g id=\"edge336\" class=\"edge\">\n<title>335&#45;&gt;336</title>\n<path fill=\"none\" stroke=\"#000000\" d=\"M26163,-608.9465C26163,-598.2621 26163,-586.4254 26163,-575.5742\"/>\n<polygon fill=\"#000000\" stroke=\"#000000\" points=\"26166.5001,-575.5421 26163,-565.5422 26159.5001,-575.5422 26166.5001,-575.5421\"/>\n</g>\n<!-- 337 -->\n<g id=\"node338\" class=\"node\">\n<title>337</title>\n<path fill=\"#e58139\" stroke=\"#000000\" d=\"M26485,-565.5C26485,-565.5 26307,-565.5 26307,-565.5 26301,-565.5 26295,-559.5 26295,-553.5 26295,-553.5 26295,-524.5 26295,-524.5 26295,-518.5 26301,-512.5 26307,-512.5 26307,-512.5 26485,-512.5 26485,-512.5 26491,-512.5 26497,-518.5 26497,-524.5 26497,-524.5 26497,-553.5 26497,-553.5 26497,-559.5 26491,-565.5 26485,-565.5\"/>\n<text text-anchor=\"start\" x=\"26366.5\" y=\"-550.3\" font-family=\"Helvetica,sans-Serif\" font-size=\"14.00\" fill=\"#000000\">gini = 0.0</text>\n<text text-anchor=\"start\" x=\"26352\" y=\"-535.3\" font-family=\"Helvetica,sans-Serif\" font-size=\"14.00\" fill=\"#000000\">samples = 27</text>\n<text text-anchor=\"start\" x=\"26303\" y=\"-520.3\" font-family=\"Helvetica,sans-Serif\" font-size=\"14.00\" fill=\"#000000\">value = [27, 0, 0, 0, 0, 0, 0, 0]</text>\n</g>\n<!-- 335&#45;&gt;337 -->\n<g id=\"edge337\" class=\"edge\">\n<title>335&#45;&gt;337</title>\n<path fill=\"none\" stroke=\"#000000\" d=\"M26239.2929,-608.9465C26267.6722,-596.2794 26299.6796,-581.9928 26327.335,-569.6488\"/>\n<polygon fill=\"#000000\" stroke=\"#000000\" points=\"26328.8303,-572.8142 26336.5353,-565.5422 26325.9771,-566.4221 26328.8303,-572.8142\"/>\n</g>\n<!-- 339 -->\n<g id=\"node340\" class=\"node\">\n<title>339</title>\n<path fill=\"#5639e5\" stroke=\"#000000\" d=\"M26810.5,-885C26810.5,-885 26599.5,-885 26599.5,-885 26593.5,-885 26587.5,-879 26587.5,-873 26587.5,-873 26587.5,-829 26587.5,-829 26587.5,-823 26593.5,-817 26599.5,-817 26599.5,-817 26810.5,-817 26810.5,-817 26816.5,-817 26822.5,-823 26822.5,-829 26822.5,-829 26822.5,-873 26822.5,-873 26822.5,-879 26816.5,-885 26810.5,-885\"/>\n<text text-anchor=\"start\" x=\"26607\" y=\"-869.8\" font-family=\"Helvetica,sans-Serif\" font-size=\"14.00\" fill=\"#000000\"> Fwd Packet Length Max ≤ 3.0</text>\n<text text-anchor=\"start\" x=\"26675.5\" y=\"-854.8\" font-family=\"Helvetica,sans-Serif\" font-size=\"14.00\" fill=\"#000000\">gini = 0.0</text>\n<text text-anchor=\"start\" x=\"26644.5\" y=\"-839.8\" font-family=\"Helvetica,sans-Serif\" font-size=\"14.00\" fill=\"#000000\">samples = 164600</text>\n<text text-anchor=\"start\" x=\"26595.5\" y=\"-824.8\" font-family=\"Helvetica,sans-Serif\" font-size=\"14.00\" fill=\"#000000\">value = [0, 0, 1, 0, 0, 164599, 0, 0]</text>\n</g>\n<!-- 338&#45;&gt;339 -->\n<g id=\"edge339\" class=\"edge\">\n<title>338&#45;&gt;339</title>\n<path fill=\"none\" stroke=\"#000000\" d=\"M26705,-920.9465C26705,-912.776 26705,-903.9318 26705,-895.3697\"/>\n<polygon fill=\"#000000\" stroke=\"#000000\" points=\"26708.5001,-895.13 26705,-885.13 26701.5001,-895.13 26708.5001,-895.13\"/>\n</g>\n<!-- 342 -->\n<g id=\"node343\" class=\"node\">\n<title>342</title>\n<path fill=\"#e89050\" stroke=\"#000000\" d=\"M27201,-885C27201,-885 26965,-885 26965,-885 26959,-885 26953,-879 26953,-873 26953,-873 26953,-829 26953,-829 26953,-823 26959,-817 26965,-817 26965,-817 27201,-817 27201,-817 27207,-817 27213,-823 27213,-829 27213,-829 27213,-873 27213,-873 27213,-879 27207,-885 27201,-885\"/>\n<text text-anchor=\"start\" x=\"27027\" y=\"-869.8\" font-family=\"Helvetica,sans-Serif\" font-size=\"14.00\" fill=\"#000000\">SourceIP ≤ 232.0</text>\n<text text-anchor=\"start\" x=\"27045\" y=\"-854.8\" font-family=\"Helvetica,sans-Serif\" font-size=\"14.00\" fill=\"#000000\">gini = 0.199</text>\n<text text-anchor=\"start\" x=\"27031\" y=\"-839.8\" font-family=\"Helvetica,sans-Serif\" font-size=\"14.00\" fill=\"#000000\">samples = 3730</text>\n<text text-anchor=\"start\" x=\"26961\" y=\"-824.8\" font-family=\"Helvetica,sans-Serif\" font-size=\"14.00\" fill=\"#000000\">value = [3325, 3, 7, 31, 294, 6, 19, 45]</text>\n</g>\n<!-- 338&#45;&gt;342 -->\n<g id=\"edge342\" class=\"edge\">\n<title>338&#45;&gt;342</title>\n<path fill=\"none\" stroke=\"#000000\" d=\"M26828.7713,-920.9465C26867.3781,-910.3245 26910.1238,-898.5638 26949.3746,-887.7647\"/>\n<polygon fill=\"#000000\" stroke=\"#000000\" points=\"26950.5604,-891.0685 26959.2736,-885.0411 26948.7034,-884.3193 26950.5604,-891.0685\"/>\n</g>\n<!-- 340 -->\n<g id=\"node341\" class=\"node\">\n<title>340</title>\n<path fill=\"#47e539\" stroke=\"#000000\" d=\"M26618,-773.5C26618,-773.5 26448,-773.5 26448,-773.5 26442,-773.5 26436,-767.5 26436,-761.5 26436,-761.5 26436,-732.5 26436,-732.5 26436,-726.5 26442,-720.5 26448,-720.5 26448,-720.5 26618,-720.5 26618,-720.5 26624,-720.5 26630,-726.5 26630,-732.5 26630,-732.5 26630,-761.5 26630,-761.5 26630,-767.5 26624,-773.5 26618,-773.5\"/>\n<text text-anchor=\"start\" x=\"26503.5\" y=\"-758.3\" font-family=\"Helvetica,sans-Serif\" font-size=\"14.00\" fill=\"#000000\">gini = 0.0</text>\n<text text-anchor=\"start\" x=\"26493.5\" y=\"-743.3\" font-family=\"Helvetica,sans-Serif\" font-size=\"14.00\" fill=\"#000000\">samples = 1</text>\n<text text-anchor=\"start\" x=\"26444\" y=\"-728.3\" font-family=\"Helvetica,sans-Serif\" font-size=\"14.00\" fill=\"#000000\">value = [0, 0, 1, 0, 0, 0, 0, 0]</text>\n</g>\n<!-- 339&#45;&gt;340 -->\n<g id=\"edge340\" class=\"edge\">\n<title>339&#45;&gt;340</title>\n<path fill=\"none\" stroke=\"#000000\" d=\"M26648.6808,-816.9465C26628.3689,-804.6649 26605.5392,-790.8609 26585.5611,-778.7811\"/>\n<polygon fill=\"#000000\" stroke=\"#000000\" points=\"26587.265,-775.7213 26576.8967,-773.5422 26583.643,-781.7115 26587.265,-775.7213\"/>\n</g>\n<!-- 341 -->\n<g id=\"node342\" class=\"node\">\n<title>341</title>\n<path fill=\"#5639e5\" stroke=\"#000000\" d=\"M26871.5,-773.5C26871.5,-773.5 26660.5,-773.5 26660.5,-773.5 26654.5,-773.5 26648.5,-767.5 26648.5,-761.5 26648.5,-761.5 26648.5,-732.5 26648.5,-732.5 26648.5,-726.5 26654.5,-720.5 26660.5,-720.5 26660.5,-720.5 26871.5,-720.5 26871.5,-720.5 26877.5,-720.5 26883.5,-726.5 26883.5,-732.5 26883.5,-732.5 26883.5,-761.5 26883.5,-761.5 26883.5,-767.5 26877.5,-773.5 26871.5,-773.5\"/>\n<text text-anchor=\"start\" x=\"26736.5\" y=\"-758.3\" font-family=\"Helvetica,sans-Serif\" font-size=\"14.00\" fill=\"#000000\">gini = 0.0</text>\n<text text-anchor=\"start\" x=\"26705.5\" y=\"-743.3\" font-family=\"Helvetica,sans-Serif\" font-size=\"14.00\" fill=\"#000000\">samples = 164599</text>\n<text text-anchor=\"start\" x=\"26656.5\" y=\"-728.3\" font-family=\"Helvetica,sans-Serif\" font-size=\"14.00\" fill=\"#000000\">value = [0, 0, 0, 0, 0, 164599, 0, 0]</text>\n</g>\n<!-- 339&#45;&gt;341 -->\n<g id=\"edge341\" class=\"edge\">\n<title>339&#45;&gt;341</title>\n<path fill=\"none\" stroke=\"#000000\" d=\"M26724.9737,-816.9465C26731.499,-805.8215 26738.7569,-793.4473 26745.3322,-782.237\"/>\n<polygon fill=\"#000000\" stroke=\"#000000\" points=\"26748.3916,-783.9387 26750.432,-773.5422 26742.3536,-780.3971 26748.3916,-783.9387\"/>\n</g>\n<!-- 343 -->\n<g id=\"node344\" class=\"node\">\n<title>343</title>\n<path fill=\"#8bc6f0\" stroke=\"#000000\" d=\"M27192.5,-781C27192.5,-781 26973.5,-781 26973.5,-781 26967.5,-781 26961.5,-775 26961.5,-769 26961.5,-769 26961.5,-725 26961.5,-725 26961.5,-719 26967.5,-713 26973.5,-713 26973.5,-713 27192.5,-713 27192.5,-713 27198.5,-713 27204.5,-719 27204.5,-725 27204.5,-725 27204.5,-769 27204.5,-769 27204.5,-775 27198.5,-781 27192.5,-781\"/>\n<text text-anchor=\"start\" x=\"27050.5\" y=\"-765.8\" font-family=\"Helvetica,sans-Serif\" font-size=\"14.00\" fill=\"#000000\">hour ≤ 9.5</text>\n<text text-anchor=\"start\" x=\"27045\" y=\"-750.8\" font-family=\"Helvetica,sans-Serif\" font-size=\"14.00\" fill=\"#000000\">gini = 0.563</text>\n<text text-anchor=\"start\" x=\"27035\" y=\"-735.8\" font-family=\"Helvetica,sans-Serif\" font-size=\"14.00\" fill=\"#000000\">samples = 457</text>\n<text text-anchor=\"start\" x=\"26969.5\" y=\"-720.8\" font-family=\"Helvetica,sans-Serif\" font-size=\"14.00\" fill=\"#000000\">value = [57, 3, 7, 31, 291, 4, 19, 45]</text>\n</g>\n<!-- 342&#45;&gt;343 -->\n<g id=\"edge343\" class=\"edge\">\n<title>342&#45;&gt;343</title>\n<path fill=\"none\" stroke=\"#000000\" d=\"M27083,-816.9465C27083,-808.776 27083,-799.9318 27083,-791.3697\"/>\n<polygon fill=\"#000000\" stroke=\"#000000\" points=\"27086.5001,-791.13 27083,-781.13 27079.5001,-791.13 27086.5001,-791.13\"/>\n</g>\n<!-- 366 -->\n<g id=\"node367\" class=\"node\">\n<title>366</title>\n<path fill=\"#e58139\" stroke=\"#000000\" d=\"M27749,-781C27749,-781 27555,-781 27555,-781 27549,-781 27543,-775 27543,-769 27543,-769 27543,-725 27543,-725 27543,-719 27549,-713 27555,-713 27555,-713 27749,-713 27749,-713 27755,-713 27761,-719 27761,-725 27761,-725 27761,-769 27761,-769 27761,-775 27755,-781 27749,-781\"/>\n<text text-anchor=\"start\" x=\"27585.5\" y=\"-765.8\" font-family=\"Helvetica,sans-Serif\" font-size=\"14.00\" fill=\"#000000\"> Source Port ≤ 232.5</text>\n<text text-anchor=\"start\" x=\"27614\" y=\"-750.8\" font-family=\"Helvetica,sans-Serif\" font-size=\"14.00\" fill=\"#000000\">gini = 0.003</text>\n<text text-anchor=\"start\" x=\"27600\" y=\"-735.8\" font-family=\"Helvetica,sans-Serif\" font-size=\"14.00\" fill=\"#000000\">samples = 3273</text>\n<text text-anchor=\"start\" x=\"27551\" y=\"-720.8\" font-family=\"Helvetica,sans-Serif\" font-size=\"14.00\" fill=\"#000000\">value = [3268, 0, 0, 0, 3, 2, 0, 0]</text>\n</g>\n<!-- 342&#45;&gt;366 -->\n<g id=\"edge366\" class=\"edge\">\n<title>342&#45;&gt;366</title>\n<path fill=\"none\" stroke=\"#000000\" d=\"M27213.1833,-827.2055C27309.4046,-809.6185 27439.394,-785.8594 27532.8831,-768.7718\"/>\n<polygon fill=\"#000000\" stroke=\"#000000\" points=\"27533.7461,-772.1721 27542.9538,-766.9311 27532.4875,-765.2862 27533.7461,-772.1721\"/>\n</g>\n<!-- 344 -->\n<g id=\"node345\" class=\"node\">\n<title>344</title>\n<path fill=\"#49a5e7\" stroke=\"#000000\" d=\"M27060,-677C27060,-677 26866,-677 26866,-677 26860,-677 26854,-671 26854,-665 26854,-665 26854,-621 26854,-621 26854,-615 26860,-609 26866,-609 26866,-609 27060,-609 27060,-609 27066,-609 27072,-615 27072,-621 27072,-621 27072,-665 27072,-665 27072,-671 27066,-677 27060,-677\"/>\n<text text-anchor=\"start\" x=\"26907\" y=\"-661.8\" font-family=\"Helvetica,sans-Serif\" font-size=\"14.00\" fill=\"#000000\">SourceIP ≤ 223.0</text>\n<text text-anchor=\"start\" x=\"26925\" y=\"-646.8\" font-family=\"Helvetica,sans-Serif\" font-size=\"14.00\" fill=\"#000000\">gini = 0.141</text>\n<text text-anchor=\"start\" x=\"26915\" y=\"-631.8\" font-family=\"Helvetica,sans-Serif\" font-size=\"14.00\" fill=\"#000000\">samples = 314</text>\n<text text-anchor=\"start\" x=\"26862\" y=\"-616.8\" font-family=\"Helvetica,sans-Serif\" font-size=\"14.00\" fill=\"#000000\">value = [24, 0, 0, 0, 290, 0, 0, 0]</text>\n</g>\n<!-- 343&#45;&gt;344 -->\n<g id=\"edge344\" class=\"edge\">\n<title>343&#45;&gt;344</title>\n<path fill=\"none\" stroke=\"#000000\" d=\"M27043.7075,-712.9465C27032.9333,-703.6088 27021.1436,-693.3911 27009.985,-683.7203\"/>\n<polygon fill=\"#000000\" stroke=\"#000000\" points=\"27012.2299,-681.0344 27002.3808,-677.13 27007.6454,-686.3243 27012.2299,-681.0344\"/>\n</g>\n<!-- 347 -->\n<g id=\"node348\" class=\"node\">\n<title>347</title>\n<path fill=\"#fce9f0\" stroke=\"#000000\" d=\"M27305.5,-677C27305.5,-677 27102.5,-677 27102.5,-677 27096.5,-677 27090.5,-671 27090.5,-665 27090.5,-665 27090.5,-621 27090.5,-621 27090.5,-615 27096.5,-609 27102.5,-609 27102.5,-609 27305.5,-609 27305.5,-609 27311.5,-609 27317.5,-615 27317.5,-621 27317.5,-621 27317.5,-665 27317.5,-665 27317.5,-671 27311.5,-677 27305.5,-677\"/>\n<text text-anchor=\"start\" x=\"27133.5\" y=\"-661.8\" font-family=\"Helvetica,sans-Serif\" font-size=\"14.00\" fill=\"#000000\"> Source Port ≤ 3134.5</text>\n<text text-anchor=\"start\" x=\"27166\" y=\"-646.8\" font-family=\"Helvetica,sans-Serif\" font-size=\"14.00\" fill=\"#000000\">gini = 0.779</text>\n<text text-anchor=\"start\" x=\"27156\" y=\"-631.8\" font-family=\"Helvetica,sans-Serif\" font-size=\"14.00\" fill=\"#000000\">samples = 143</text>\n<text text-anchor=\"start\" x=\"27098.5\" y=\"-616.8\" font-family=\"Helvetica,sans-Serif\" font-size=\"14.00\" fill=\"#000000\">value = [33, 3, 7, 31, 1, 4, 19, 45]</text>\n</g>\n<!-- 343&#45;&gt;347 -->\n<g id=\"edge347\" class=\"edge\">\n<title>343&#45;&gt;347</title>\n<path fill=\"none\" stroke=\"#000000\" d=\"M27122.6199,-712.9465C27133.484,-703.6088 27145.3718,-693.3911 27156.6235,-683.7203\"/>\n<polygon fill=\"#000000\" stroke=\"#000000\" points=\"27158.9887,-686.3026 27164.2911,-677.13 27154.4259,-680.994 27158.9887,-686.3026\"/>\n</g>\n<!-- 345 -->\n<g id=\"node346\" class=\"node\">\n<title>345</title>\n<path fill=\"#e58139\" stroke=\"#000000\" d=\"M26833,-565.5C26833,-565.5 26655,-565.5 26655,-565.5 26649,-565.5 26643,-559.5 26643,-553.5 26643,-553.5 26643,-524.5 26643,-524.5 26643,-518.5 26649,-512.5 26655,-512.5 26655,-512.5 26833,-512.5 26833,-512.5 26839,-512.5 26845,-518.5 26845,-524.5 26845,-524.5 26845,-553.5 26845,-553.5 26845,-559.5 26839,-565.5 26833,-565.5\"/>\n<text text-anchor=\"start\" x=\"26714.5\" y=\"-550.3\" font-family=\"Helvetica,sans-Serif\" font-size=\"14.00\" fill=\"#000000\">gini = 0.0</text>\n<text text-anchor=\"start\" x=\"26700\" y=\"-535.3\" font-family=\"Helvetica,sans-Serif\" font-size=\"14.00\" fill=\"#000000\">samples = 24</text>\n<text text-anchor=\"start\" x=\"26651\" y=\"-520.3\" font-family=\"Helvetica,sans-Serif\" font-size=\"14.00\" fill=\"#000000\">value = [24, 0, 0, 0, 0, 0, 0, 0]</text>\n</g>\n<!-- 344&#45;&gt;345 -->\n<g id=\"edge345\" class=\"edge\">\n<title>344&#45;&gt;345</title>\n<path fill=\"none\" stroke=\"#000000\" d=\"M26891.2912,-608.9465C26864.8491,-596.3895 26835.0558,-582.2411 26809.2183,-569.9712\"/>\n<polygon fill=\"#000000\" stroke=\"#000000\" points=\"26810.4263,-566.6703 26799.8917,-565.5422 26807.4234,-572.9936 26810.4263,-566.6703\"/>\n</g>\n<!-- 346 -->\n<g id=\"node347\" class=\"node\">\n<title>346</title>\n<path fill=\"#399de5\" stroke=\"#000000\" d=\"M27061,-565.5C27061,-565.5 26875,-565.5 26875,-565.5 26869,-565.5 26863,-559.5 26863,-553.5 26863,-553.5 26863,-524.5 26863,-524.5 26863,-518.5 26869,-512.5 26875,-512.5 26875,-512.5 27061,-512.5 27061,-512.5 27067,-512.5 27073,-518.5 27073,-524.5 27073,-524.5 27073,-553.5 27073,-553.5 27073,-559.5 27067,-565.5 27061,-565.5\"/>\n<text text-anchor=\"start\" x=\"26938.5\" y=\"-550.3\" font-family=\"Helvetica,sans-Serif\" font-size=\"14.00\" fill=\"#000000\">gini = 0.0</text>\n<text text-anchor=\"start\" x=\"26920\" y=\"-535.3\" font-family=\"Helvetica,sans-Serif\" font-size=\"14.00\" fill=\"#000000\">samples = 290</text>\n<text text-anchor=\"start\" x=\"26871\" y=\"-520.3\" font-family=\"Helvetica,sans-Serif\" font-size=\"14.00\" fill=\"#000000\">value = [0, 0, 0, 0, 290, 0, 0, 0]</text>\n</g>\n<!-- 344&#45;&gt;346 -->\n<g id=\"edge346\" class=\"edge\">\n<title>344&#45;&gt;346</title>\n<path fill=\"none\" stroke=\"#000000\" d=\"M26964.6372,-608.9465C26965.1509,-598.2621 26965.7199,-586.4254 26966.2416,-575.5742\"/>\n<polygon fill=\"#000000\" stroke=\"#000000\" points=\"26969.7396,-575.6987 26966.7239,-565.5422 26962.7477,-575.3625 26969.7396,-575.6987\"/>\n</g>\n<!-- 348 -->\n<g id=\"node349\" class=\"node\">\n<title>348</title>\n<path fill=\"#e58139\" stroke=\"#000000\" d=\"M27289,-565.5C27289,-565.5 27111,-565.5 27111,-565.5 27105,-565.5 27099,-559.5 27099,-553.5 27099,-553.5 27099,-524.5 27099,-524.5 27099,-518.5 27105,-512.5 27111,-512.5 27111,-512.5 27289,-512.5 27289,-512.5 27295,-512.5 27301,-518.5 27301,-524.5 27301,-524.5 27301,-553.5 27301,-553.5 27301,-559.5 27295,-565.5 27289,-565.5\"/>\n<text text-anchor=\"start\" x=\"27170.5\" y=\"-550.3\" font-family=\"Helvetica,sans-Serif\" font-size=\"14.00\" fill=\"#000000\">gini = 0.0</text>\n<text text-anchor=\"start\" x=\"27156\" y=\"-535.3\" font-family=\"Helvetica,sans-Serif\" font-size=\"14.00\" fill=\"#000000\">samples = 33</text>\n<text text-anchor=\"start\" x=\"27107\" y=\"-520.3\" font-family=\"Helvetica,sans-Serif\" font-size=\"14.00\" fill=\"#000000\">value = [33, 0, 0, 0, 0, 0, 0, 0]</text>\n</g>\n<!-- 347&#45;&gt;348 -->\n<g id=\"edge348\" class=\"edge\">\n<title>347&#45;&gt;348</title>\n<path fill=\"none\" stroke=\"#000000\" d=\"M27202.6903,-608.9465C27202.2793,-598.2621 27201.8241,-586.4254 27201.4067,-575.5742\"/>\n<polygon fill=\"#000000\" stroke=\"#000000\" points=\"27204.9027,-575.4002 27201.0209,-565.5422 27197.9079,-575.6693 27204.9027,-575.4002\"/>\n</g>\n<!-- 349 -->\n<g id=\"node350\" class=\"node\">\n<title>349</title>\n<path fill=\"#fadce6\" stroke=\"#000000\" d=\"M27525,-573C27525,-573 27331,-573 27331,-573 27325,-573 27319,-567 27319,-561 27319,-561 27319,-517 27319,-517 27319,-511 27325,-505 27331,-505 27331,-505 27525,-505 27525,-505 27531,-505 27537,-511 27537,-517 27537,-517 27537,-561 27537,-561 27537,-567 27531,-573 27525,-573\"/>\n<text text-anchor=\"start\" x=\"27384\" y=\"-557.8\" font-family=\"Helvetica,sans-Serif\" font-size=\"14.00\" fill=\"#000000\">minute ≤ 31.5</text>\n<text text-anchor=\"start\" x=\"27390\" y=\"-542.8\" font-family=\"Helvetica,sans-Serif\" font-size=\"14.00\" fill=\"#000000\">gini = 0.717</text>\n<text text-anchor=\"start\" x=\"27380\" y=\"-527.8\" font-family=\"Helvetica,sans-Serif\" font-size=\"14.00\" fill=\"#000000\">samples = 110</text>\n<text text-anchor=\"start\" x=\"27327\" y=\"-512.8\" font-family=\"Helvetica,sans-Serif\" font-size=\"14.00\" fill=\"#000000\">value = [0, 3, 7, 31, 1, 4, 19, 45]</text>\n</g>\n<!-- 347&#45;&gt;349 -->\n<g id=\"edge349\" class=\"edge\">\n<title>347&#45;&gt;349</title>\n<path fill=\"none\" stroke=\"#000000\" d=\"M27277.346,-608.9465C27299.1017,-598.8457 27323.0752,-587.7151 27345.3767,-577.3608\"/>\n<polygon fill=\"#000000\" stroke=\"#000000\" points=\"27346.893,-580.5157 27354.4892,-573.13 27343.9452,-574.1666 27346.893,-580.5157\"/>\n</g>\n<!-- 350 -->\n<g id=\"node351\" class=\"node\">\n<title>350</title>\n<path fill=\"#f29fbb\" stroke=\"#000000\" d=\"M27521,-469C27521,-469 27335,-469 27335,-469 27329,-469 27323,-463 27323,-457 27323,-457 27323,-413 27323,-413 27323,-407 27329,-401 27335,-401 27335,-401 27521,-401 27521,-401 27527,-401 27533,-407 27533,-413 27533,-413 27533,-457 27533,-457 27533,-463 27527,-469 27521,-469\"/>\n<text text-anchor=\"start\" x=\"27384\" y=\"-453.8\" font-family=\"Helvetica,sans-Serif\" font-size=\"14.00\" fill=\"#000000\">minute ≤ 12.5</text>\n<text text-anchor=\"start\" x=\"27390\" y=\"-438.8\" font-family=\"Helvetica,sans-Serif\" font-size=\"14.00\" fill=\"#000000\">gini = 0.577</text>\n<text text-anchor=\"start\" x=\"27384\" y=\"-423.8\" font-family=\"Helvetica,sans-Serif\" font-size=\"14.00\" fill=\"#000000\">samples = 75</text>\n<text text-anchor=\"start\" x=\"27331\" y=\"-408.8\" font-family=\"Helvetica,sans-Serif\" font-size=\"14.00\" fill=\"#000000\">value = [0, 3, 7, 0, 1, 2, 17, 45]</text>\n</g>\n<!-- 349&#45;&gt;350 -->\n<g id=\"edge350\" class=\"edge\">\n<title>349&#45;&gt;350</title>\n<path fill=\"none\" stroke=\"#000000\" d=\"M27428,-504.9465C27428,-496.776 27428,-487.9318 27428,-479.3697\"/>\n<polygon fill=\"#000000\" stroke=\"#000000\" points=\"27431.5001,-479.13 27428,-469.13 27424.5001,-479.13 27431.5001,-479.13\"/>\n</g>\n<!-- 361 -->\n<g id=\"node362\" class=\"node\">\n<title>361</title>\n<path fill=\"#51e8b6\" stroke=\"#000000\" d=\"M28059,-469C28059,-469 27881,-469 27881,-469 27875,-469 27869,-463 27869,-457 27869,-457 27869,-413 27869,-413 27869,-407 27875,-401 27881,-401 27881,-401 28059,-401 28059,-401 28065,-401 28071,-407 28071,-413 28071,-413 28071,-457 28071,-457 28071,-463 28065,-469 28059,-469\"/>\n<text text-anchor=\"start\" x=\"27926\" y=\"-453.8\" font-family=\"Helvetica,sans-Serif\" font-size=\"14.00\" fill=\"#000000\">minute ≤ 52.0</text>\n<text text-anchor=\"start\" x=\"27932\" y=\"-438.8\" font-family=\"Helvetica,sans-Serif\" font-size=\"14.00\" fill=\"#000000\">gini = 0.209</text>\n<text text-anchor=\"start\" x=\"27926\" y=\"-423.8\" font-family=\"Helvetica,sans-Serif\" font-size=\"14.00\" fill=\"#000000\">samples = 35</text>\n<text text-anchor=\"start\" x=\"27877\" y=\"-408.8\" font-family=\"Helvetica,sans-Serif\" font-size=\"14.00\" fill=\"#000000\">value = [0, 0, 0, 31, 0, 2, 2, 0]</text>\n</g>\n<!-- 349&#45;&gt;361 -->\n<g id=\"edge361\" class=\"edge\">\n<title>349&#45;&gt;361</title>\n<path fill=\"none\" stroke=\"#000000\" d=\"M27537.1748,-507.0563C27540.1427,-506.3446 27543.0886,-505.6574 27546,-505 27651.1804,-481.2501 27772.7404,-462.0057 27858.6614,-449.7493\"/>\n<polygon fill=\"#000000\" stroke=\"#000000\" points=\"27859.2868,-453.1957 27868.6964,-448.3265 27858.3041,-446.265 27859.2868,-453.1957\"/>\n</g>\n<!-- 351 -->\n<g id=\"node352\" class=\"node\">\n<title>351</title>\n<path fill=\"#e065eb\" stroke=\"#000000\" d=\"M27407,-365C27407,-365 27229,-365 27229,-365 27223,-365 27217,-359 27217,-353 27217,-353 27217,-309 27217,-309 27217,-303 27223,-297 27229,-297 27229,-297 27407,-297 27407,-297 27413,-297 27419,-303 27419,-309 27419,-309 27419,-353 27419,-353 27419,-359 27413,-365 27407,-365\"/>\n<text text-anchor=\"start\" x=\"27281.5\" y=\"-349.8\" font-family=\"Helvetica,sans-Serif\" font-size=\"14.00\" fill=\"#000000\">hour ≤ 10.5</text>\n<text text-anchor=\"start\" x=\"27280\" y=\"-334.8\" font-family=\"Helvetica,sans-Serif\" font-size=\"14.00\" fill=\"#000000\">gini = 0.322</text>\n<text text-anchor=\"start\" x=\"27274\" y=\"-319.8\" font-family=\"Helvetica,sans-Serif\" font-size=\"14.00\" fill=\"#000000\">samples = 21</text>\n<text text-anchor=\"start\" x=\"27225\" y=\"-304.8\" font-family=\"Helvetica,sans-Serif\" font-size=\"14.00\" fill=\"#000000\">value = [0, 3, 0, 0, 1, 0, 17, 0]</text>\n</g>\n<!-- 350&#45;&gt;351 -->\n<g id=\"edge351\" class=\"edge\">\n<title>350&#45;&gt;351</title>\n<path fill=\"none\" stroke=\"#000000\" d=\"M27391.9819,-400.9465C27382.2954,-391.7884 27371.7136,-381.7838 27361.6603,-372.2788\"/>\n<polygon fill=\"#000000\" stroke=\"#000000\" points=\"27363.7701,-369.4569 27354.099,-365.13 27358.961,-374.5434 27363.7701,-369.4569\"/>\n</g>\n<!-- 356 -->\n<g id=\"node357\" class=\"node\">\n<title>356</title>\n<path fill=\"#ea5f8d\" stroke=\"#000000\" d=\"M27627,-365C27627,-365 27449,-365 27449,-365 27443,-365 27437,-359 27437,-353 27437,-353 27437,-309 27437,-309 27437,-303 27443,-297 27449,-297 27449,-297 27627,-297 27627,-297 27633,-297 27639,-303 27639,-309 27639,-309 27639,-353 27639,-353 27639,-359 27633,-365 27627,-365\"/>\n<text text-anchor=\"start\" x=\"27494\" y=\"-349.8\" font-family=\"Helvetica,sans-Serif\" font-size=\"14.00\" fill=\"#000000\">minute ≤ 27.5</text>\n<text text-anchor=\"start\" x=\"27500\" y=\"-334.8\" font-family=\"Helvetica,sans-Serif\" font-size=\"14.00\" fill=\"#000000\">gini = 0.287</text>\n<text text-anchor=\"start\" x=\"27494\" y=\"-319.8\" font-family=\"Helvetica,sans-Serif\" font-size=\"14.00\" fill=\"#000000\">samples = 54</text>\n<text text-anchor=\"start\" x=\"27445\" y=\"-304.8\" font-family=\"Helvetica,sans-Serif\" font-size=\"14.00\" fill=\"#000000\">value = [0, 0, 7, 0, 0, 2, 0, 45]</text>\n</g>\n<!-- 350&#45;&gt;356 -->\n<g id=\"edge356\" class=\"edge\">\n<title>350&#45;&gt;356</title>\n<path fill=\"none\" stroke=\"#000000\" d=\"M27464.0181,-400.9465C27473.7046,-391.7884 27484.2864,-381.7838 27494.3397,-372.2788\"/>\n<polygon fill=\"#000000\" stroke=\"#000000\" points=\"27497.039,-374.5434 27501.901,-365.13 27492.2299,-369.4569 27497.039,-374.5434\"/>\n</g>\n<!-- 352 -->\n<g id=\"node353\" class=\"node\">\n<title>352</title>\n<path fill=\"#daee7b\" stroke=\"#000000\" d=\"M27187,-261C27187,-261 27017,-261 27017,-261 27011,-261 27005,-255 27005,-249 27005,-249 27005,-205 27005,-205 27005,-199 27011,-193 27017,-193 27017,-193 27187,-193 27187,-193 27193,-193 27199,-199 27199,-205 27199,-205 27199,-249 27199,-249 27199,-255 27193,-261 27187,-261\"/>\n<text text-anchor=\"start\" x=\"27028\" y=\"-245.8\" font-family=\"Helvetica,sans-Serif\" font-size=\"14.00\" fill=\"#000000\">Fwd Packets/s ≤ 3.398</text>\n<text text-anchor=\"start\" x=\"27064\" y=\"-230.8\" font-family=\"Helvetica,sans-Serif\" font-size=\"14.00\" fill=\"#000000\">gini = 0.375</text>\n<text text-anchor=\"start\" x=\"27062.5\" y=\"-215.8\" font-family=\"Helvetica,sans-Serif\" font-size=\"14.00\" fill=\"#000000\">samples = 4</text>\n<text text-anchor=\"start\" x=\"27013\" y=\"-200.8\" font-family=\"Helvetica,sans-Serif\" font-size=\"14.00\" fill=\"#000000\">value = [0, 3, 0, 0, 1, 0, 0, 0]</text>\n</g>\n<!-- 351&#45;&gt;352 -->\n<g id=\"edge352\" class=\"edge\">\n<title>351&#45;&gt;352</title>\n<path fill=\"none\" stroke=\"#000000\" d=\"M27247.2735,-296.9465C27226.3881,-286.8906 27203.3829,-275.814 27181.9593,-265.4989\"/>\n<polygon fill=\"#000000\" stroke=\"#000000\" points=\"27183.4138,-262.3147 27172.8854,-261.13 27180.377,-268.6217 27183.4138,-262.3147\"/>\n</g>\n<!-- 355 -->\n<g id=\"node356\" class=\"node\">\n<title>355</title>\n<path fill=\"#d739e5\" stroke=\"#000000\" d=\"M27407,-253.5C27407,-253.5 27229,-253.5 27229,-253.5 27223,-253.5 27217,-247.5 27217,-241.5 27217,-241.5 27217,-212.5 27217,-212.5 27217,-206.5 27223,-200.5 27229,-200.5 27229,-200.5 27407,-200.5 27407,-200.5 27413,-200.5 27419,-206.5 27419,-212.5 27419,-212.5 27419,-241.5 27419,-241.5 27419,-247.5 27413,-253.5 27407,-253.5\"/>\n<text text-anchor=\"start\" x=\"27288.5\" y=\"-238.3\" font-family=\"Helvetica,sans-Serif\" font-size=\"14.00\" fill=\"#000000\">gini = 0.0</text>\n<text text-anchor=\"start\" x=\"27274\" y=\"-223.3\" font-family=\"Helvetica,sans-Serif\" font-size=\"14.00\" fill=\"#000000\">samples = 17</text>\n<text text-anchor=\"start\" x=\"27225\" y=\"-208.3\" font-family=\"Helvetica,sans-Serif\" font-size=\"14.00\" fill=\"#000000\">value = [0, 0, 0, 0, 0, 0, 17, 0]</text>\n</g>\n<!-- 351&#45;&gt;355 -->\n<g id=\"edge355\" class=\"edge\">\n<title>351&#45;&gt;355</title>\n<path fill=\"none\" stroke=\"#000000\" d=\"M27318,-296.9465C27318,-286.2621 27318,-274.4254 27318,-263.5742\"/>\n<polygon fill=\"#000000\" stroke=\"#000000\" points=\"27321.5001,-263.5421 27318,-253.5422 27314.5001,-263.5422 27321.5001,-263.5421\"/>\n</g>\n<!-- 353 -->\n<g id=\"node354\" class=\"node\">\n<title>353</title>\n<path fill=\"#399de5\" stroke=\"#000000\" d=\"M27081,-149.5C27081,-149.5 26911,-149.5 26911,-149.5 26905,-149.5 26899,-143.5 26899,-137.5 26899,-137.5 26899,-108.5 26899,-108.5 26899,-102.5 26905,-96.5 26911,-96.5 26911,-96.5 27081,-96.5 27081,-96.5 27087,-96.5 27093,-102.5 27093,-108.5 27093,-108.5 27093,-137.5 27093,-137.5 27093,-143.5 27087,-149.5 27081,-149.5\"/>\n<text text-anchor=\"start\" x=\"26966.5\" y=\"-134.3\" font-family=\"Helvetica,sans-Serif\" font-size=\"14.00\" fill=\"#000000\">gini = 0.0</text>\n<text text-anchor=\"start\" x=\"26956.5\" y=\"-119.3\" font-family=\"Helvetica,sans-Serif\" font-size=\"14.00\" fill=\"#000000\">samples = 1</text>\n<text text-anchor=\"start\" x=\"26907\" y=\"-104.3\" font-family=\"Helvetica,sans-Serif\" font-size=\"14.00\" fill=\"#000000\">value = [0, 0, 0, 0, 1, 0, 0, 0]</text>\n</g>\n<!-- 352&#45;&gt;353 -->\n<g id=\"edge353\" class=\"edge\">\n<title>352&#45;&gt;353</title>\n<path fill=\"none\" stroke=\"#000000\" d=\"M27067.2916,-192.9465C27055.3913,-181.2707 27042.0886,-168.219 27030.2267,-156.5809\"/>\n<polygon fill=\"#000000\" stroke=\"#000000\" points=\"27032.6419,-154.0473 27023.0526,-149.5422 27027.7395,-159.0439 27032.6419,-154.0473\"/>\n</g>\n<!-- 354 -->\n<g id=\"node355\" class=\"node\">\n<title>354</title>\n<path fill=\"#c8e539\" stroke=\"#000000\" d=\"M27293,-149.5C27293,-149.5 27123,-149.5 27123,-149.5 27117,-149.5 27111,-143.5 27111,-137.5 27111,-137.5 27111,-108.5 27111,-108.5 27111,-102.5 27117,-96.5 27123,-96.5 27123,-96.5 27293,-96.5 27293,-96.5 27299,-96.5 27305,-102.5 27305,-108.5 27305,-108.5 27305,-137.5 27305,-137.5 27305,-143.5 27299,-149.5 27293,-149.5\"/>\n<text text-anchor=\"start\" x=\"27178.5\" y=\"-134.3\" font-family=\"Helvetica,sans-Serif\" font-size=\"14.00\" fill=\"#000000\">gini = 0.0</text>\n<text text-anchor=\"start\" x=\"27168.5\" y=\"-119.3\" font-family=\"Helvetica,sans-Serif\" font-size=\"14.00\" fill=\"#000000\">samples = 3</text>\n<text text-anchor=\"start\" x=\"27119\" y=\"-104.3\" font-family=\"Helvetica,sans-Serif\" font-size=\"14.00\" fill=\"#000000\">value = [0, 3, 0, 0, 0, 0, 0, 0]</text>\n</g>\n<!-- 352&#45;&gt;354 -->\n<g id=\"edge354\" class=\"edge\">\n<title>352&#45;&gt;354</title>\n<path fill=\"none\" stroke=\"#000000\" d=\"M27136.7084,-192.9465C27148.6087,-181.2707 27161.9114,-168.219 27173.7733,-156.5809\"/>\n<polygon fill=\"#000000\" stroke=\"#000000\" points=\"27176.2605,-159.0439 27180.9474,-149.5422 27171.3581,-154.0473 27176.2605,-159.0439\"/>\n</g>\n<!-- 357 -->\n<g id=\"node358\" class=\"node\">\n<title>357</title>\n<path fill=\"#e53972\" stroke=\"#000000\" d=\"M27627,-253.5C27627,-253.5 27449,-253.5 27449,-253.5 27443,-253.5 27437,-247.5 27437,-241.5 27437,-241.5 27437,-212.5 27437,-212.5 27437,-206.5 27443,-200.5 27449,-200.5 27449,-200.5 27627,-200.5 27627,-200.5 27633,-200.5 27639,-206.5 27639,-212.5 27639,-212.5 27639,-241.5 27639,-241.5 27639,-247.5 27633,-253.5 27627,-253.5\"/>\n<text text-anchor=\"start\" x=\"27508.5\" y=\"-238.3\" font-family=\"Helvetica,sans-Serif\" font-size=\"14.00\" fill=\"#000000\">gini = 0.0</text>\n<text text-anchor=\"start\" x=\"27494\" y=\"-223.3\" font-family=\"Helvetica,sans-Serif\" font-size=\"14.00\" fill=\"#000000\">samples = 45</text>\n<text text-anchor=\"start\" x=\"27445\" y=\"-208.3\" font-family=\"Helvetica,sans-Serif\" font-size=\"14.00\" fill=\"#000000\">value = [0, 0, 0, 0, 0, 0, 0, 45]</text>\n</g>\n<!-- 356&#45;&gt;357 -->\n<g id=\"edge357\" class=\"edge\">\n<title>356&#45;&gt;357</title>\n<path fill=\"none\" stroke=\"#000000\" d=\"M27538,-296.9465C27538,-286.2621 27538,-274.4254 27538,-263.5742\"/>\n<polygon fill=\"#000000\" stroke=\"#000000\" points=\"27541.5001,-263.5421 27538,-253.5422 27534.5001,-263.5422 27541.5001,-263.5421\"/>\n</g>\n<!-- 358 -->\n<g id=\"node359\" class=\"node\">\n<title>358</title>\n<path fill=\"#7cec72\" stroke=\"#000000\" d=\"M27839,-261C27839,-261 27669,-261 27669,-261 27663,-261 27657,-255 27657,-249 27657,-249 27657,-205 27657,-205 27657,-199 27663,-193 27669,-193 27669,-193 27839,-193 27839,-193 27845,-193 27851,-199 27851,-205 27851,-205 27851,-249 27851,-249 27851,-255 27845,-261 27839,-261\"/>\n<text text-anchor=\"start\" x=\"27717.5\" y=\"-245.8\" font-family=\"Helvetica,sans-Serif\" font-size=\"14.00\" fill=\"#000000\">hour ≤ 10.5</text>\n<text text-anchor=\"start\" x=\"27716\" y=\"-230.8\" font-family=\"Helvetica,sans-Serif\" font-size=\"14.00\" fill=\"#000000\">gini = 0.346</text>\n<text text-anchor=\"start\" x=\"27714.5\" y=\"-215.8\" font-family=\"Helvetica,sans-Serif\" font-size=\"14.00\" fill=\"#000000\">samples = 9</text>\n<text text-anchor=\"start\" x=\"27665\" y=\"-200.8\" font-family=\"Helvetica,sans-Serif\" font-size=\"14.00\" fill=\"#000000\">value = [0, 0, 7, 0, 0, 2, 0, 0]</text>\n</g>\n<!-- 356&#45;&gt;358 -->\n<g id=\"edge358\" class=\"edge\">\n<title>356&#45;&gt;358</title>\n<path fill=\"none\" stroke=\"#000000\" d=\"M27608.7265,-296.9465C27629.6119,-286.8906 27652.6171,-275.814 27674.0407,-265.4989\"/>\n<polygon fill=\"#000000\" stroke=\"#000000\" points=\"27675.623,-268.6217 27683.1146,-261.13 27672.5862,-262.3147 27675.623,-268.6217\"/>\n</g>\n<!-- 359 -->\n<g id=\"node360\" class=\"node\">\n<title>359</title>\n<path fill=\"#47e539\" stroke=\"#000000\" d=\"M27733,-149.5C27733,-149.5 27563,-149.5 27563,-149.5 27557,-149.5 27551,-143.5 27551,-137.5 27551,-137.5 27551,-108.5 27551,-108.5 27551,-102.5 27557,-96.5 27563,-96.5 27563,-96.5 27733,-96.5 27733,-96.5 27739,-96.5 27745,-102.5 27745,-108.5 27745,-108.5 27745,-137.5 27745,-137.5 27745,-143.5 27739,-149.5 27733,-149.5\"/>\n<text text-anchor=\"start\" x=\"27618.5\" y=\"-134.3\" font-family=\"Helvetica,sans-Serif\" font-size=\"14.00\" fill=\"#000000\">gini = 0.0</text>\n<text text-anchor=\"start\" x=\"27608.5\" y=\"-119.3\" font-family=\"Helvetica,sans-Serif\" font-size=\"14.00\" fill=\"#000000\">samples = 7</text>\n<text text-anchor=\"start\" x=\"27559\" y=\"-104.3\" font-family=\"Helvetica,sans-Serif\" font-size=\"14.00\" fill=\"#000000\">value = [0, 0, 7, 0, 0, 0, 0, 0]</text>\n</g>\n<!-- 358&#45;&gt;359 -->\n<g id=\"edge359\" class=\"edge\">\n<title>358&#45;&gt;359</title>\n<path fill=\"none\" stroke=\"#000000\" d=\"M27719.2916,-192.9465C27707.3913,-181.2707 27694.0886,-168.219 27682.2267,-156.5809\"/>\n<polygon fill=\"#000000\" stroke=\"#000000\" points=\"27684.6419,-154.0473 27675.0526,-149.5422 27679.7395,-159.0439 27684.6419,-154.0473\"/>\n</g>\n<!-- 360 -->\n<g id=\"node361\" class=\"node\">\n<title>360</title>\n<path fill=\"#5639e5\" stroke=\"#000000\" d=\"M27945,-149.5C27945,-149.5 27775,-149.5 27775,-149.5 27769,-149.5 27763,-143.5 27763,-137.5 27763,-137.5 27763,-108.5 27763,-108.5 27763,-102.5 27769,-96.5 27775,-96.5 27775,-96.5 27945,-96.5 27945,-96.5 27951,-96.5 27957,-102.5 27957,-108.5 27957,-108.5 27957,-137.5 27957,-137.5 27957,-143.5 27951,-149.5 27945,-149.5\"/>\n<text text-anchor=\"start\" x=\"27830.5\" y=\"-134.3\" font-family=\"Helvetica,sans-Serif\" font-size=\"14.00\" fill=\"#000000\">gini = 0.0</text>\n<text text-anchor=\"start\" x=\"27820.5\" y=\"-119.3\" font-family=\"Helvetica,sans-Serif\" font-size=\"14.00\" fill=\"#000000\">samples = 2</text>\n<text text-anchor=\"start\" x=\"27771\" y=\"-104.3\" font-family=\"Helvetica,sans-Serif\" font-size=\"14.00\" fill=\"#000000\">value = [0, 0, 0, 0, 0, 2, 0, 0]</text>\n</g>\n<!-- 358&#45;&gt;360 -->\n<g id=\"edge360\" class=\"edge\">\n<title>358&#45;&gt;360</title>\n<path fill=\"none\" stroke=\"#000000\" d=\"M27788.7084,-192.9465C27800.6087,-181.2707 27813.9114,-168.219 27825.7733,-156.5809\"/>\n<polygon fill=\"#000000\" stroke=\"#000000\" points=\"27828.2605,-159.0439 27832.9474,-149.5422 27823.3581,-154.0473 27828.2605,-159.0439\"/>\n</g>\n<!-- 362 -->\n<g id=\"node363\" class=\"node\">\n<title>362</title>\n<path fill=\"#46e7b1\" stroke=\"#000000\" d=\"M28059,-365C28059,-365 27881,-365 27881,-365 27875,-365 27869,-359 27869,-353 27869,-353 27869,-309 27869,-309 27869,-303 27875,-297 27881,-297 27881,-297 28059,-297 28059,-297 28065,-297 28071,-303 28071,-309 28071,-309 28071,-353 28071,-353 28071,-359 28065,-365 28059,-365\"/>\n<text text-anchor=\"start\" x=\"27933.5\" y=\"-349.8\" font-family=\"Helvetica,sans-Serif\" font-size=\"14.00\" fill=\"#000000\">hour ≤ 10.5</text>\n<text text-anchor=\"start\" x=\"27932\" y=\"-334.8\" font-family=\"Helvetica,sans-Serif\" font-size=\"14.00\" fill=\"#000000\">gini = 0.114</text>\n<text text-anchor=\"start\" x=\"27926\" y=\"-319.8\" font-family=\"Helvetica,sans-Serif\" font-size=\"14.00\" fill=\"#000000\">samples = 33</text>\n<text text-anchor=\"start\" x=\"27877\" y=\"-304.8\" font-family=\"Helvetica,sans-Serif\" font-size=\"14.00\" fill=\"#000000\">value = [0, 0, 0, 31, 0, 2, 0, 0]</text>\n</g>\n<!-- 361&#45;&gt;362 -->\n<g id=\"edge362\" class=\"edge\">\n<title>361&#45;&gt;362</title>\n<path fill=\"none\" stroke=\"#000000\" d=\"M27970,-400.9465C27970,-392.776 27970,-383.9318 27970,-375.3697\"/>\n<polygon fill=\"#000000\" stroke=\"#000000\" points=\"27973.5001,-375.13 27970,-365.13 27966.5001,-375.13 27973.5001,-375.13\"/>\n</g>\n<!-- 365 -->\n<g id=\"node366\" class=\"node\">\n<title>365</title>\n<path fill=\"#d739e5\" stroke=\"#000000\" d=\"M28271,-357.5C28271,-357.5 28101,-357.5 28101,-357.5 28095,-357.5 28089,-351.5 28089,-345.5 28089,-345.5 28089,-316.5 28089,-316.5 28089,-310.5 28095,-304.5 28101,-304.5 28101,-304.5 28271,-304.5 28271,-304.5 28277,-304.5 28283,-310.5 28283,-316.5 28283,-316.5 28283,-345.5 28283,-345.5 28283,-351.5 28277,-357.5 28271,-357.5\"/>\n<text text-anchor=\"start\" x=\"28156.5\" y=\"-342.3\" font-family=\"Helvetica,sans-Serif\" font-size=\"14.00\" fill=\"#000000\">gini = 0.0</text>\n<text text-anchor=\"start\" x=\"28146.5\" y=\"-327.3\" font-family=\"Helvetica,sans-Serif\" font-size=\"14.00\" fill=\"#000000\">samples = 2</text>\n<text text-anchor=\"start\" x=\"28097\" y=\"-312.3\" font-family=\"Helvetica,sans-Serif\" font-size=\"14.00\" fill=\"#000000\">value = [0, 0, 0, 0, 0, 0, 2, 0]</text>\n</g>\n<!-- 361&#45;&gt;365 -->\n<g id=\"edge365\" class=\"edge\">\n<title>361&#45;&gt;365</title>\n<path fill=\"none\" stroke=\"#000000\" d=\"M28040.7265,-400.9465C28066.8064,-388.3895 28096.1915,-374.2411 28121.6751,-361.9712\"/>\n<polygon fill=\"#000000\" stroke=\"#000000\" points=\"28123.3823,-365.0339 28130.874,-357.5422 28120.3456,-358.7269 28123.3823,-365.0339\"/>\n</g>\n<!-- 363 -->\n<g id=\"node364\" class=\"node\">\n<title>363</title>\n<path fill=\"#39e5ac\" stroke=\"#000000\" d=\"M28059,-253.5C28059,-253.5 27881,-253.5 27881,-253.5 27875,-253.5 27869,-247.5 27869,-241.5 27869,-241.5 27869,-212.5 27869,-212.5 27869,-206.5 27875,-200.5 27881,-200.5 27881,-200.5 28059,-200.5 28059,-200.5 28065,-200.5 28071,-206.5 28071,-212.5 28071,-212.5 28071,-241.5 28071,-241.5 28071,-247.5 28065,-253.5 28059,-253.5\"/>\n<text text-anchor=\"start\" x=\"27940.5\" y=\"-238.3\" font-family=\"Helvetica,sans-Serif\" font-size=\"14.00\" fill=\"#000000\">gini = 0.0</text>\n<text text-anchor=\"start\" x=\"27926\" y=\"-223.3\" font-family=\"Helvetica,sans-Serif\" font-size=\"14.00\" fill=\"#000000\">samples = 31</text>\n<text text-anchor=\"start\" x=\"27877\" y=\"-208.3\" font-family=\"Helvetica,sans-Serif\" font-size=\"14.00\" fill=\"#000000\">value = [0, 0, 0, 31, 0, 0, 0, 0]</text>\n</g>\n<!-- 362&#45;&gt;363 -->\n<g id=\"edge363\" class=\"edge\">\n<title>362&#45;&gt;363</title>\n<path fill=\"none\" stroke=\"#000000\" d=\"M27970,-296.9465C27970,-286.2621 27970,-274.4254 27970,-263.5742\"/>\n<polygon fill=\"#000000\" stroke=\"#000000\" points=\"27973.5001,-263.5421 27970,-253.5422 27966.5001,-263.5422 27973.5001,-263.5421\"/>\n</g>\n<!-- 364 -->\n<g id=\"node365\" class=\"node\">\n<title>364</title>\n<path fill=\"#5639e5\" stroke=\"#000000\" d=\"M28271,-253.5C28271,-253.5 28101,-253.5 28101,-253.5 28095,-253.5 28089,-247.5 28089,-241.5 28089,-241.5 28089,-212.5 28089,-212.5 28089,-206.5 28095,-200.5 28101,-200.5 28101,-200.5 28271,-200.5 28271,-200.5 28277,-200.5 28283,-206.5 28283,-212.5 28283,-212.5 28283,-241.5 28283,-241.5 28283,-247.5 28277,-253.5 28271,-253.5\"/>\n<text text-anchor=\"start\" x=\"28156.5\" y=\"-238.3\" font-family=\"Helvetica,sans-Serif\" font-size=\"14.00\" fill=\"#000000\">gini = 0.0</text>\n<text text-anchor=\"start\" x=\"28146.5\" y=\"-223.3\" font-family=\"Helvetica,sans-Serif\" font-size=\"14.00\" fill=\"#000000\">samples = 2</text>\n<text text-anchor=\"start\" x=\"28097\" y=\"-208.3\" font-family=\"Helvetica,sans-Serif\" font-size=\"14.00\" fill=\"#000000\">value = [0, 0, 0, 0, 0, 2, 0, 0]</text>\n</g>\n<!-- 362&#45;&gt;364 -->\n<g id=\"edge364\" class=\"edge\">\n<title>362&#45;&gt;364</title>\n<path fill=\"none\" stroke=\"#000000\" d=\"M28040.7265,-296.9465C28066.8064,-284.3895 28096.1915,-270.2411 28121.6751,-257.9712\"/>\n<polygon fill=\"#000000\" stroke=\"#000000\" points=\"28123.3823,-261.0339 28130.874,-253.5422 28120.3456,-254.7269 28123.3823,-261.0339\"/>\n</g>\n<!-- 367 -->\n<g id=\"node368\" class=\"node\">\n<title>367</title>\n<path fill=\"#bddef6\" stroke=\"#000000\" d=\"M27741,-677C27741,-677 27563,-677 27563,-677 27557,-677 27551,-671 27551,-665 27551,-665 27551,-621 27551,-621 27551,-615 27557,-609 27563,-609 27563,-609 27741,-609 27741,-609 27747,-609 27753,-615 27753,-621 27753,-621 27753,-665 27753,-665 27753,-671 27747,-677 27741,-677\"/>\n<text text-anchor=\"start\" x=\"27559\" y=\"-661.8\" font-family=\"Helvetica,sans-Serif\" font-size=\"14.00\" fill=\"#000000\"> Flow IAT Mean ≤ 2431995.5</text>\n<text text-anchor=\"start\" x=\"27618.5\" y=\"-646.8\" font-family=\"Helvetica,sans-Serif\" font-size=\"14.00\" fill=\"#000000\">gini = 0.48</text>\n<text text-anchor=\"start\" x=\"27612.5\" y=\"-631.8\" font-family=\"Helvetica,sans-Serif\" font-size=\"14.00\" fill=\"#000000\">samples = 5</text>\n<text text-anchor=\"start\" x=\"27563\" y=\"-616.8\" font-family=\"Helvetica,sans-Serif\" font-size=\"14.00\" fill=\"#000000\">value = [0, 0, 0, 0, 3, 2, 0, 0]</text>\n</g>\n<!-- 366&#45;&gt;367 -->\n<g id=\"edge367\" class=\"edge\">\n<title>366&#45;&gt;367</title>\n<path fill=\"none\" stroke=\"#000000\" d=\"M27652,-712.9465C27652,-704.776 27652,-695.9318 27652,-687.3697\"/>\n<polygon fill=\"#000000\" stroke=\"#000000\" points=\"27655.5001,-687.13 27652,-677.13 27648.5001,-687.13 27655.5001,-687.13\"/>\n</g>\n<!-- 370 -->\n<g id=\"node371\" class=\"node\">\n<title>370</title>\n<path fill=\"#e58139\" stroke=\"#000000\" d=\"M27977,-669.5C27977,-669.5 27783,-669.5 27783,-669.5 27777,-669.5 27771,-663.5 27771,-657.5 27771,-657.5 27771,-628.5 27771,-628.5 27771,-622.5 27777,-616.5 27783,-616.5 27783,-616.5 27977,-616.5 27977,-616.5 27983,-616.5 27989,-622.5 27989,-628.5 27989,-628.5 27989,-657.5 27989,-657.5 27989,-663.5 27983,-669.5 27977,-669.5\"/>\n<text text-anchor=\"start\" x=\"27850.5\" y=\"-654.3\" font-family=\"Helvetica,sans-Serif\" font-size=\"14.00\" fill=\"#000000\">gini = 0.0</text>\n<text text-anchor=\"start\" x=\"27828\" y=\"-639.3\" font-family=\"Helvetica,sans-Serif\" font-size=\"14.00\" fill=\"#000000\">samples = 3268</text>\n<text text-anchor=\"start\" x=\"27779\" y=\"-624.3\" font-family=\"Helvetica,sans-Serif\" font-size=\"14.00\" fill=\"#000000\">value = [3268, 0, 0, 0, 0, 0, 0, 0]</text>\n</g>\n<!-- 366&#45;&gt;370 -->\n<g id=\"edge370\" class=\"edge\">\n<title>366&#45;&gt;370</title>\n<path fill=\"none\" stroke=\"#000000\" d=\"M27726.6557,-712.9465C27754.3053,-700.3344 27785.4743,-686.117 27812.4552,-673.8099\"/>\n<polygon fill=\"#000000\" stroke=\"#000000\" points=\"27814.1657,-676.8766 27821.8114,-669.5422 27811.2607,-670.5079 27814.1657,-676.8766\"/>\n</g>\n<!-- 368 -->\n<g id=\"node369\" class=\"node\">\n<title>368</title>\n<path fill=\"#399de5\" stroke=\"#000000\" d=\"M27737,-565.5C27737,-565.5 27567,-565.5 27567,-565.5 27561,-565.5 27555,-559.5 27555,-553.5 27555,-553.5 27555,-524.5 27555,-524.5 27555,-518.5 27561,-512.5 27567,-512.5 27567,-512.5 27737,-512.5 27737,-512.5 27743,-512.5 27749,-518.5 27749,-524.5 27749,-524.5 27749,-553.5 27749,-553.5 27749,-559.5 27743,-565.5 27737,-565.5\"/>\n<text text-anchor=\"start\" x=\"27622.5\" y=\"-550.3\" font-family=\"Helvetica,sans-Serif\" font-size=\"14.00\" fill=\"#000000\">gini = 0.0</text>\n<text text-anchor=\"start\" x=\"27612.5\" y=\"-535.3\" font-family=\"Helvetica,sans-Serif\" font-size=\"14.00\" fill=\"#000000\">samples = 3</text>\n<text text-anchor=\"start\" x=\"27563\" y=\"-520.3\" font-family=\"Helvetica,sans-Serif\" font-size=\"14.00\" fill=\"#000000\">value = [0, 0, 0, 0, 3, 0, 0, 0]</text>\n</g>\n<!-- 367&#45;&gt;368 -->\n<g id=\"edge368\" class=\"edge\">\n<title>367&#45;&gt;368</title>\n<path fill=\"none\" stroke=\"#000000\" d=\"M27652,-608.9465C27652,-598.2621 27652,-586.4254 27652,-575.5742\"/>\n<polygon fill=\"#000000\" stroke=\"#000000\" points=\"27655.5001,-575.5421 27652,-565.5422 27648.5001,-575.5422 27655.5001,-575.5421\"/>\n</g>\n<!-- 369 -->\n<g id=\"node370\" class=\"node\">\n<title>369</title>\n<path fill=\"#5639e5\" stroke=\"#000000\" d=\"M27949,-565.5C27949,-565.5 27779,-565.5 27779,-565.5 27773,-565.5 27767,-559.5 27767,-553.5 27767,-553.5 27767,-524.5 27767,-524.5 27767,-518.5 27773,-512.5 27779,-512.5 27779,-512.5 27949,-512.5 27949,-512.5 27955,-512.5 27961,-518.5 27961,-524.5 27961,-524.5 27961,-553.5 27961,-553.5 27961,-559.5 27955,-565.5 27949,-565.5\"/>\n<text text-anchor=\"start\" x=\"27834.5\" y=\"-550.3\" font-family=\"Helvetica,sans-Serif\" font-size=\"14.00\" fill=\"#000000\">gini = 0.0</text>\n<text text-anchor=\"start\" x=\"27824.5\" y=\"-535.3\" font-family=\"Helvetica,sans-Serif\" font-size=\"14.00\" fill=\"#000000\">samples = 2</text>\n<text text-anchor=\"start\" x=\"27775\" y=\"-520.3\" font-family=\"Helvetica,sans-Serif\" font-size=\"14.00\" fill=\"#000000\">value = [0, 0, 0, 0, 0, 2, 0, 0]</text>\n</g>\n<!-- 367&#45;&gt;369 -->\n<g id=\"edge369\" class=\"edge\">\n<title>367&#45;&gt;369</title>\n<path fill=\"none\" stroke=\"#000000\" d=\"M27721.4167,-608.9465C27747.0137,-596.3895 27775.8546,-582.2411 27800.8663,-569.9712\"/>\n<polygon fill=\"#000000\" stroke=\"#000000\" points=\"27802.4584,-573.0887 27809.8948,-565.5422 27799.3754,-566.8042 27802.4584,-573.0887\"/>\n</g>\n</g>\n</svg>\n"
          },
          "metadata": {},
          "execution_count": 92
        }
      ],
      "source": [
        "# Visualize the tree\n",
        "dot_data = tree.export_graphviz(dt, \n",
        "                  feature_names=sel_features,\n",
        "                  filled=True, rounded=True,  \n",
        "                  special_characters=True,\n",
        "                   out_file=None)\n",
        "graph = graphviz.Source(dot_data)\n",
        "graph"
      ]
    },
    {
      "cell_type": "code",
      "execution_count": null,
      "metadata": {
        "id": "QWsE58uX85Z8",
        "colab": {
          "base_uri": "https://localhost:8080/",
          "height": 54
        },
        "outputId": "0bba5eb6-2894-47c9-96c7-bb2ee39f6337"
      },
      "outputs": [
        {
          "output_type": "stream",
          "name": "stderr",
          "text": [
            "dot: graph is too large for cairo-renderer bitmaps. Scaling by 0.868667 to fit\n"
          ]
        },
        {
          "output_type": "execute_result",
          "data": {
            "text/plain": [
              "'decision_tree.png'"
            ],
            "application/vnd.google.colaboratory.intrinsic+json": {
              "type": "string"
            }
          },
          "metadata": {},
          "execution_count": 93
        }
      ],
      "source": [
        "# Save .png\n",
        "graph.format = \"png\"\n",
        "graph.render(\"decision_tree\")"
      ]
    }
  ],
  "metadata": {
    "colab": {
      "collapsed_sections": [],
      "name": "preprocessing_ddos.ipynb",
      "provenance": [],
      "include_colab_link": true
    },
    "kernelspec": {
      "display_name": "Python 3",
      "name": "python3"
    },
    "language_info": {
      "name": "python"
    }
  },
  "nbformat": 4,
  "nbformat_minor": 0
}