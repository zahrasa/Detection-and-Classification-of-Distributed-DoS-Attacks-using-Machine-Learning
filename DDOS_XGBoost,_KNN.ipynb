{
  "nbformat": 4,
  "nbformat_minor": 0,
  "metadata": {
    "colab": {
      "name": "DDOS_XGBoost, KNN.ipynb",
      "provenance": [],
      "collapsed_sections": [],
      "include_colab_link": true
    },
    "kernelspec": {
      "name": "python3",
      "display_name": "Python 3"
    },
    "language_info": {
      "name": "python"
    }
  },
  "cells": [
    {
      "cell_type": "markdown",
      "metadata": {
        "id": "view-in-github",
        "colab_type": "text"
      },
      "source": [
        "<a href=\"https://colab.research.google.com/github/zahrasa/Detection-and-Classification-of-Distributed-DoS-Attacks-using-Machine-Learning/blob/master/DDOS_XGBoost%2C_KNN.ipynb\" target=\"_parent\"><img src=\"https://colab.research.google.com/assets/colab-badge.svg\" alt=\"Open In Colab\"/></a>"
      ]
    },
    {
      "cell_type": "code",
      "execution_count": null,
      "metadata": {
        "id": "GaksESB1ekyn"
      },
      "outputs": [],
      "source": [
        "# Import libraries\n",
        "%%capture\n",
        "\n",
        "import os\n",
        "import glob\n",
        "import numpy as np\n",
        "import pandas as pd"
      ]
    },
    {
      "cell_type": "code",
      "source": [
        "import warnings\n",
        "warnings.filterwarnings(\"ignore\")"
      ],
      "metadata": {
        "id": "z8ExzGSqemO_"
      },
      "execution_count": null,
      "outputs": []
    },
    {
      "cell_type": "markdown",
      "source": [
        "# Download the clean data obtained in the pre-processing stage"
      ],
      "metadata": {
        "id": "x0ooAFUSyy23"
      }
    },
    {
      "cell_type": "code",
      "source": [
        "# !pip install --upgrade --no-cache-dir gdown\n",
        "\n",
        "# Download the dataset\n",
        "# ! rm -rf * \n",
        "# ! gdown --id"
      ],
      "metadata": {
        "id": "2WtlWxraemVB"
      },
      "execution_count": null,
      "outputs": []
    },
    {
      "cell_type": "code",
      "source": [
        "df = pd.read_csv('clean_ddos.csv')"
      ],
      "metadata": {
        "id": "ib1u10Bie5vO"
      },
      "execution_count": null,
      "outputs": []
    },
    {
      "cell_type": "markdown",
      "source": [
        "# Visualize dataset"
      ],
      "metadata": {
        "id": "Q8o9CWT2zKiJ"
      }
    },
    {
      "cell_type": "code",
      "source": [
        "df['Label'].value_counts()"
      ],
      "metadata": {
        "colab": {
          "base_uri": "https://localhost:8080/"
        },
        "id": "iF1X1ryoi0Ge",
        "outputId": "eb754a6d-dcdb-49df-aff8-506d57092192"
      },
      "execution_count": null,
      "outputs": [
        {
          "output_type": "execute_result",
          "data": {
            "text/plain": [
              "1    167431\n",
              "5    164718\n",
              "3    111071\n",
              "4     73569\n",
              "6     53392\n",
              "0      7950\n",
              "2      3383\n",
              "7       977\n",
              "Name: Label, dtype: int64"
            ]
          },
          "metadata": {},
          "execution_count": 5
        }
      ]
    },
    {
      "cell_type": "code",
      "source": [
        "(df['Label'].value_counts()) / len(df) * 100"
      ],
      "metadata": {
        "colab": {
          "base_uri": "https://localhost:8080/"
        },
        "id": "nTPctHhLpTQV",
        "outputId": "d04f3537-858c-4d95-c657-3e089a00e163"
      },
      "execution_count": null,
      "outputs": [
        {
          "output_type": "execute_result",
          "data": {
            "text/plain": [
              "1    28.743963\n",
              "5    28.278205\n",
              "3    19.068277\n",
              "4    12.630066\n",
              "6     9.166150\n",
              "0     1.364828\n",
              "2     0.580782\n",
              "7     0.167728\n",
              "Name: Label, dtype: float64"
            ]
          },
          "metadata": {},
          "execution_count": 6
        }
      ]
    },
    {
      "cell_type": "code",
      "source": [
        "# Visualize labels\n",
        "import plotly.graph_objects as go\n",
        "def plot_distribution(pd_series):\n",
        "    labels = pd_series.value_counts().index.tolist()\n",
        "    counts = pd_series.value_counts().values.tolist()\n",
        "    \n",
        "    pie_plot = go.Pie(labels=labels, values=counts, hole=.3)\n",
        "    fig = go.Figure(data=[pie_plot])\n",
        "    fig.update_layout(title_text='Distribution for %s' % pd_series.name)\n",
        "    \n",
        "    fig.show()"
      ],
      "metadata": {
        "id": "r2By2CwG9G-t"
      },
      "execution_count": null,
      "outputs": []
    },
    {
      "cell_type": "code",
      "source": [
        "plot_distribution(df['Label'] )\n",
        "\n",
        "# ('BENIGN', '0')\n",
        "# ('NetBIOS', '1')\n",
        "# ('LDAP', '2')\n",
        "# ('MSSQL', '3')\n",
        "# ('Portmap', '4')\n",
        "# ('Syn', '5')\n",
        "# ('UDP', '6')\n",
        "# ('UDPLag', '7')"
      ],
      "metadata": {
        "colab": {
          "base_uri": "https://localhost:8080/",
          "height": 542
        },
        "id": "exaFDrBG9HNJ",
        "outputId": "9506b841-fe15-4a3f-c12e-2bfbb452879f"
      },
      "execution_count": null,
      "outputs": [
        {
          "output_type": "display_data",
          "data": {
            "text/html": [
              "<html>\n",
              "<head><meta charset=\"utf-8\" /></head>\n",
              "<body>\n",
              "    <div>            <script src=\"https://cdnjs.cloudflare.com/ajax/libs/mathjax/2.7.5/MathJax.js?config=TeX-AMS-MML_SVG\"></script><script type=\"text/javascript\">if (window.MathJax) {MathJax.Hub.Config({SVG: {font: \"STIX-Web\"}});}</script>                <script type=\"text/javascript\">window.PlotlyConfig = {MathJaxConfig: 'local'};</script>\n",
              "        <script src=\"https://cdn.plot.ly/plotly-2.8.3.min.js\"></script>                <div id=\"b86d0580-ae2d-4f95-a9bc-d5a5513e3094\" class=\"plotly-graph-div\" style=\"height:525px; width:100%;\"></div>            <script type=\"text/javascript\">                                    window.PLOTLYENV=window.PLOTLYENV || {};                                    if (document.getElementById(\"b86d0580-ae2d-4f95-a9bc-d5a5513e3094\")) {                    Plotly.newPlot(                        \"b86d0580-ae2d-4f95-a9bc-d5a5513e3094\",                        [{\"hole\":0.3,\"labels\":[1,5,3,4,6,0,2,7],\"values\":[167431,164718,111071,73569,53392,7950,3383,977],\"type\":\"pie\"}],                        {\"template\":{\"data\":{\"bar\":[{\"error_x\":{\"color\":\"#2a3f5f\"},\"error_y\":{\"color\":\"#2a3f5f\"},\"marker\":{\"line\":{\"color\":\"#E5ECF6\",\"width\":0.5},\"pattern\":{\"fillmode\":\"overlay\",\"size\":10,\"solidity\":0.2}},\"type\":\"bar\"}],\"barpolar\":[{\"marker\":{\"line\":{\"color\":\"#E5ECF6\",\"width\":0.5},\"pattern\":{\"fillmode\":\"overlay\",\"size\":10,\"solidity\":0.2}},\"type\":\"barpolar\"}],\"carpet\":[{\"aaxis\":{\"endlinecolor\":\"#2a3f5f\",\"gridcolor\":\"white\",\"linecolor\":\"white\",\"minorgridcolor\":\"white\",\"startlinecolor\":\"#2a3f5f\"},\"baxis\":{\"endlinecolor\":\"#2a3f5f\",\"gridcolor\":\"white\",\"linecolor\":\"white\",\"minorgridcolor\":\"white\",\"startlinecolor\":\"#2a3f5f\"},\"type\":\"carpet\"}],\"choropleth\":[{\"colorbar\":{\"outlinewidth\":0,\"ticks\":\"\"},\"type\":\"choropleth\"}],\"contour\":[{\"colorbar\":{\"outlinewidth\":0,\"ticks\":\"\"},\"colorscale\":[[0.0,\"#0d0887\"],[0.1111111111111111,\"#46039f\"],[0.2222222222222222,\"#7201a8\"],[0.3333333333333333,\"#9c179e\"],[0.4444444444444444,\"#bd3786\"],[0.5555555555555556,\"#d8576b\"],[0.6666666666666666,\"#ed7953\"],[0.7777777777777778,\"#fb9f3a\"],[0.8888888888888888,\"#fdca26\"],[1.0,\"#f0f921\"]],\"type\":\"contour\"}],\"contourcarpet\":[{\"colorbar\":{\"outlinewidth\":0,\"ticks\":\"\"},\"type\":\"contourcarpet\"}],\"heatmap\":[{\"colorbar\":{\"outlinewidth\":0,\"ticks\":\"\"},\"colorscale\":[[0.0,\"#0d0887\"],[0.1111111111111111,\"#46039f\"],[0.2222222222222222,\"#7201a8\"],[0.3333333333333333,\"#9c179e\"],[0.4444444444444444,\"#bd3786\"],[0.5555555555555556,\"#d8576b\"],[0.6666666666666666,\"#ed7953\"],[0.7777777777777778,\"#fb9f3a\"],[0.8888888888888888,\"#fdca26\"],[1.0,\"#f0f921\"]],\"type\":\"heatmap\"}],\"heatmapgl\":[{\"colorbar\":{\"outlinewidth\":0,\"ticks\":\"\"},\"colorscale\":[[0.0,\"#0d0887\"],[0.1111111111111111,\"#46039f\"],[0.2222222222222222,\"#7201a8\"],[0.3333333333333333,\"#9c179e\"],[0.4444444444444444,\"#bd3786\"],[0.5555555555555556,\"#d8576b\"],[0.6666666666666666,\"#ed7953\"],[0.7777777777777778,\"#fb9f3a\"],[0.8888888888888888,\"#fdca26\"],[1.0,\"#f0f921\"]],\"type\":\"heatmapgl\"}],\"histogram\":[{\"marker\":{\"pattern\":{\"fillmode\":\"overlay\",\"size\":10,\"solidity\":0.2}},\"type\":\"histogram\"}],\"histogram2d\":[{\"colorbar\":{\"outlinewidth\":0,\"ticks\":\"\"},\"colorscale\":[[0.0,\"#0d0887\"],[0.1111111111111111,\"#46039f\"],[0.2222222222222222,\"#7201a8\"],[0.3333333333333333,\"#9c179e\"],[0.4444444444444444,\"#bd3786\"],[0.5555555555555556,\"#d8576b\"],[0.6666666666666666,\"#ed7953\"],[0.7777777777777778,\"#fb9f3a\"],[0.8888888888888888,\"#fdca26\"],[1.0,\"#f0f921\"]],\"type\":\"histogram2d\"}],\"histogram2dcontour\":[{\"colorbar\":{\"outlinewidth\":0,\"ticks\":\"\"},\"colorscale\":[[0.0,\"#0d0887\"],[0.1111111111111111,\"#46039f\"],[0.2222222222222222,\"#7201a8\"],[0.3333333333333333,\"#9c179e\"],[0.4444444444444444,\"#bd3786\"],[0.5555555555555556,\"#d8576b\"],[0.6666666666666666,\"#ed7953\"],[0.7777777777777778,\"#fb9f3a\"],[0.8888888888888888,\"#fdca26\"],[1.0,\"#f0f921\"]],\"type\":\"histogram2dcontour\"}],\"mesh3d\":[{\"colorbar\":{\"outlinewidth\":0,\"ticks\":\"\"},\"type\":\"mesh3d\"}],\"parcoords\":[{\"line\":{\"colorbar\":{\"outlinewidth\":0,\"ticks\":\"\"}},\"type\":\"parcoords\"}],\"pie\":[{\"automargin\":true,\"type\":\"pie\"}],\"scatter\":[{\"marker\":{\"colorbar\":{\"outlinewidth\":0,\"ticks\":\"\"}},\"type\":\"scatter\"}],\"scatter3d\":[{\"line\":{\"colorbar\":{\"outlinewidth\":0,\"ticks\":\"\"}},\"marker\":{\"colorbar\":{\"outlinewidth\":0,\"ticks\":\"\"}},\"type\":\"scatter3d\"}],\"scattercarpet\":[{\"marker\":{\"colorbar\":{\"outlinewidth\":0,\"ticks\":\"\"}},\"type\":\"scattercarpet\"}],\"scattergeo\":[{\"marker\":{\"colorbar\":{\"outlinewidth\":0,\"ticks\":\"\"}},\"type\":\"scattergeo\"}],\"scattergl\":[{\"marker\":{\"colorbar\":{\"outlinewidth\":0,\"ticks\":\"\"}},\"type\":\"scattergl\"}],\"scattermapbox\":[{\"marker\":{\"colorbar\":{\"outlinewidth\":0,\"ticks\":\"\"}},\"type\":\"scattermapbox\"}],\"scatterpolar\":[{\"marker\":{\"colorbar\":{\"outlinewidth\":0,\"ticks\":\"\"}},\"type\":\"scatterpolar\"}],\"scatterpolargl\":[{\"marker\":{\"colorbar\":{\"outlinewidth\":0,\"ticks\":\"\"}},\"type\":\"scatterpolargl\"}],\"scatterternary\":[{\"marker\":{\"colorbar\":{\"outlinewidth\":0,\"ticks\":\"\"}},\"type\":\"scatterternary\"}],\"surface\":[{\"colorbar\":{\"outlinewidth\":0,\"ticks\":\"\"},\"colorscale\":[[0.0,\"#0d0887\"],[0.1111111111111111,\"#46039f\"],[0.2222222222222222,\"#7201a8\"],[0.3333333333333333,\"#9c179e\"],[0.4444444444444444,\"#bd3786\"],[0.5555555555555556,\"#d8576b\"],[0.6666666666666666,\"#ed7953\"],[0.7777777777777778,\"#fb9f3a\"],[0.8888888888888888,\"#fdca26\"],[1.0,\"#f0f921\"]],\"type\":\"surface\"}],\"table\":[{\"cells\":{\"fill\":{\"color\":\"#EBF0F8\"},\"line\":{\"color\":\"white\"}},\"header\":{\"fill\":{\"color\":\"#C8D4E3\"},\"line\":{\"color\":\"white\"}},\"type\":\"table\"}]},\"layout\":{\"annotationdefaults\":{\"arrowcolor\":\"#2a3f5f\",\"arrowhead\":0,\"arrowwidth\":1},\"autotypenumbers\":\"strict\",\"coloraxis\":{\"colorbar\":{\"outlinewidth\":0,\"ticks\":\"\"}},\"colorscale\":{\"diverging\":[[0,\"#8e0152\"],[0.1,\"#c51b7d\"],[0.2,\"#de77ae\"],[0.3,\"#f1b6da\"],[0.4,\"#fde0ef\"],[0.5,\"#f7f7f7\"],[0.6,\"#e6f5d0\"],[0.7,\"#b8e186\"],[0.8,\"#7fbc41\"],[0.9,\"#4d9221\"],[1,\"#276419\"]],\"sequential\":[[0.0,\"#0d0887\"],[0.1111111111111111,\"#46039f\"],[0.2222222222222222,\"#7201a8\"],[0.3333333333333333,\"#9c179e\"],[0.4444444444444444,\"#bd3786\"],[0.5555555555555556,\"#d8576b\"],[0.6666666666666666,\"#ed7953\"],[0.7777777777777778,\"#fb9f3a\"],[0.8888888888888888,\"#fdca26\"],[1.0,\"#f0f921\"]],\"sequentialminus\":[[0.0,\"#0d0887\"],[0.1111111111111111,\"#46039f\"],[0.2222222222222222,\"#7201a8\"],[0.3333333333333333,\"#9c179e\"],[0.4444444444444444,\"#bd3786\"],[0.5555555555555556,\"#d8576b\"],[0.6666666666666666,\"#ed7953\"],[0.7777777777777778,\"#fb9f3a\"],[0.8888888888888888,\"#fdca26\"],[1.0,\"#f0f921\"]]},\"colorway\":[\"#636efa\",\"#EF553B\",\"#00cc96\",\"#ab63fa\",\"#FFA15A\",\"#19d3f3\",\"#FF6692\",\"#B6E880\",\"#FF97FF\",\"#FECB52\"],\"font\":{\"color\":\"#2a3f5f\"},\"geo\":{\"bgcolor\":\"white\",\"lakecolor\":\"white\",\"landcolor\":\"#E5ECF6\",\"showlakes\":true,\"showland\":true,\"subunitcolor\":\"white\"},\"hoverlabel\":{\"align\":\"left\"},\"hovermode\":\"closest\",\"mapbox\":{\"style\":\"light\"},\"paper_bgcolor\":\"white\",\"plot_bgcolor\":\"#E5ECF6\",\"polar\":{\"angularaxis\":{\"gridcolor\":\"white\",\"linecolor\":\"white\",\"ticks\":\"\"},\"bgcolor\":\"#E5ECF6\",\"radialaxis\":{\"gridcolor\":\"white\",\"linecolor\":\"white\",\"ticks\":\"\"}},\"scene\":{\"xaxis\":{\"backgroundcolor\":\"#E5ECF6\",\"gridcolor\":\"white\",\"gridwidth\":2,\"linecolor\":\"white\",\"showbackground\":true,\"ticks\":\"\",\"zerolinecolor\":\"white\"},\"yaxis\":{\"backgroundcolor\":\"#E5ECF6\",\"gridcolor\":\"white\",\"gridwidth\":2,\"linecolor\":\"white\",\"showbackground\":true,\"ticks\":\"\",\"zerolinecolor\":\"white\"},\"zaxis\":{\"backgroundcolor\":\"#E5ECF6\",\"gridcolor\":\"white\",\"gridwidth\":2,\"linecolor\":\"white\",\"showbackground\":true,\"ticks\":\"\",\"zerolinecolor\":\"white\"}},\"shapedefaults\":{\"line\":{\"color\":\"#2a3f5f\"}},\"ternary\":{\"aaxis\":{\"gridcolor\":\"white\",\"linecolor\":\"white\",\"ticks\":\"\"},\"baxis\":{\"gridcolor\":\"white\",\"linecolor\":\"white\",\"ticks\":\"\"},\"bgcolor\":\"#E5ECF6\",\"caxis\":{\"gridcolor\":\"white\",\"linecolor\":\"white\",\"ticks\":\"\"}},\"title\":{\"x\":0.05},\"xaxis\":{\"automargin\":true,\"gridcolor\":\"white\",\"linecolor\":\"white\",\"ticks\":\"\",\"title\":{\"standoff\":15},\"zerolinecolor\":\"white\",\"zerolinewidth\":2},\"yaxis\":{\"automargin\":true,\"gridcolor\":\"white\",\"linecolor\":\"white\",\"ticks\":\"\",\"title\":{\"standoff\":15},\"zerolinecolor\":\"white\",\"zerolinewidth\":2}}},\"title\":{\"text\":\"Distribution for Label\"}},                        {\"responsive\": true}                    ).then(function(){\n",
              "                            \n",
              "var gd = document.getElementById('b86d0580-ae2d-4f95-a9bc-d5a5513e3094');\n",
              "var x = new MutationObserver(function (mutations, observer) {{\n",
              "        var display = window.getComputedStyle(gd).display;\n",
              "        if (!display || display === 'none') {{\n",
              "            console.log([gd, 'removed!']);\n",
              "            Plotly.purge(gd);\n",
              "            observer.disconnect();\n",
              "        }}\n",
              "}});\n",
              "\n",
              "// Listen for the removal of the full notebook cells\n",
              "var notebookContainer = gd.closest('#notebook-container');\n",
              "if (notebookContainer) {{\n",
              "    x.observe(notebookContainer, {childList: true});\n",
              "}}\n",
              "\n",
              "// Listen for the clearing of the current output cell\n",
              "var outputEl = gd.closest('.output');\n",
              "if (outputEl) {{\n",
              "    x.observe(outputEl, {childList: true});\n",
              "}}\n",
              "\n",
              "                        })                };                            </script>        </div>\n",
              "</body>\n",
              "</html>"
            ]
          },
          "metadata": {}
        }
      ]
    },
    {
      "cell_type": "code",
      "source": [
        "df.info()"
      ],
      "metadata": {
        "colab": {
          "base_uri": "https://localhost:8080/"
        },
        "id": "ghasu9APklo9",
        "outputId": "dfad1cad-502e-4502-9bae-95993e0bfc9a"
      },
      "execution_count": null,
      "outputs": [
        {
          "output_type": "stream",
          "name": "stdout",
          "text": [
            "<class 'pandas.core.frame.DataFrame'>\n",
            "RangeIndex: 582491 entries, 0 to 582490\n",
            "Data columns (total 40 columns):\n",
            " #   Column                       Non-Null Count   Dtype  \n",
            "---  ------                       --------------   -----  \n",
            " 0   Unnamed: 0                   582491 non-null  int64  \n",
            " 1   SourceIP                     582491 non-null  int64  \n",
            " 2    Source Port                 582491 non-null  int64  \n",
            " 3   DestinationIP                582491 non-null  int64  \n",
            " 4    Destination Port            582491 non-null  int64  \n",
            " 5    Protocol                    582491 non-null  int64  \n",
            " 6    Flow Duration               582491 non-null  int64  \n",
            " 7    Total Fwd Packets           582491 non-null  int64  \n",
            " 8    Total Backward Packets      582491 non-null  int64  \n",
            " 9   Total Length of Fwd Packets  582491 non-null  float64\n",
            " 10   Fwd Packet Length Max       582491 non-null  float64\n",
            " 11   Fwd Packet Length Std       582491 non-null  float64\n",
            " 12  Bwd Packet Length Max        582491 non-null  float64\n",
            " 13   Bwd Packet Length Min       582491 non-null  float64\n",
            " 14   Bwd Packet Length Mean      582491 non-null  float64\n",
            " 15  Flow Bytes/s                 582491 non-null  float64\n",
            " 16   Flow Packets/s              582491 non-null  float64\n",
            " 17   Flow IAT Mean               582491 non-null  float64\n",
            " 18   Flow IAT Min                582491 non-null  float64\n",
            " 19  Bwd IAT Total                582491 non-null  float64\n",
            " 20   Bwd IAT Mean                582491 non-null  float64\n",
            " 21   Bwd IAT Min                 582491 non-null  float64\n",
            " 22   Fwd Header Length           582491 non-null  int64  \n",
            " 23  Fwd Packets/s                582491 non-null  float64\n",
            " 24   Bwd Packets/s               582491 non-null  float64\n",
            " 25   Packet Length Std           582491 non-null  float64\n",
            " 26   Packet Length Variance      582491 non-null  float64\n",
            " 27   Down/Up Ratio               582491 non-null  float64\n",
            " 28  Init_Win_bytes_forward       582491 non-null  int64  \n",
            " 29   Init_Win_bytes_backward     582491 non-null  int64  \n",
            " 30  Active Mean                  582491 non-null  float64\n",
            " 31   Active Std                  582491 non-null  float64\n",
            " 32   Active Max                  582491 non-null  float64\n",
            " 33   Active Min                  582491 non-null  float64\n",
            " 34   Idle Std                    582491 non-null  float64\n",
            " 35  SimillarHTTP                 582491 non-null  int64  \n",
            " 36   Inbound                     582491 non-null  int64  \n",
            " 37  Label                        582491 non-null  int64  \n",
            " 38  hour                         582491 non-null  int64  \n",
            " 39  minute                       582491 non-null  int64  \n",
            "dtypes: float64(23), int64(17)\n",
            "memory usage: 177.8 MB\n"
          ]
        }
      ]
    },
    {
      "cell_type": "code",
      "source": [
        "print('ddos csv shape = ', df.shape)\n",
        "print('number of columns before feature selection:', len(df.columns), '\\n')\n",
        "df.columns"
      ],
      "metadata": {
        "colab": {
          "base_uri": "https://localhost:8080/"
        },
        "id": "EvbPrEOyll-I",
        "outputId": "49558c80-5a51-4244-8235-5d80a86a9d7f"
      },
      "execution_count": null,
      "outputs": [
        {
          "output_type": "stream",
          "name": "stdout",
          "text": [
            "ddos csv shape =  (582491, 40)\n",
            "number of columns before feature selection: 40 \n",
            "\n"
          ]
        },
        {
          "output_type": "execute_result",
          "data": {
            "text/plain": [
              "Index(['Unnamed: 0', 'SourceIP', ' Source Port', 'DestinationIP',\n",
              "       ' Destination Port', ' Protocol', ' Flow Duration',\n",
              "       ' Total Fwd Packets', ' Total Backward Packets',\n",
              "       'Total Length of Fwd Packets', ' Fwd Packet Length Max',\n",
              "       ' Fwd Packet Length Std', 'Bwd Packet Length Max',\n",
              "       ' Bwd Packet Length Min', ' Bwd Packet Length Mean', 'Flow Bytes/s',\n",
              "       ' Flow Packets/s', ' Flow IAT Mean', ' Flow IAT Min', 'Bwd IAT Total',\n",
              "       ' Bwd IAT Mean', ' Bwd IAT Min', ' Fwd Header Length', 'Fwd Packets/s',\n",
              "       ' Bwd Packets/s', ' Packet Length Std', ' Packet Length Variance',\n",
              "       ' Down/Up Ratio', 'Init_Win_bytes_forward', ' Init_Win_bytes_backward',\n",
              "       'Active Mean', ' Active Std', ' Active Max', ' Active Min', ' Idle Std',\n",
              "       'SimillarHTTP', ' Inbound', 'Label', 'hour', 'minute'],\n",
              "      dtype='object')"
            ]
          },
          "metadata": {},
          "execution_count": 10
        }
      ]
    },
    {
      "cell_type": "code",
      "source": [
        "df.head()"
      ],
      "metadata": {
        "colab": {
          "base_uri": "https://localhost:8080/",
          "height": 314
        },
        "id": "ogTkNN4Nzt_W",
        "outputId": "bb13eb62-6062-4fb9-b146-a1786c23cf76"
      },
      "execution_count": null,
      "outputs": [
        {
          "output_type": "execute_result",
          "data": {
            "text/plain": [
              "   Unnamed: 0  SourceIP   Source Port  DestinationIP   Destination Port  \\\n",
              "0           0       327         60015            287                 80   \n",
              "1           1       243            80            386              60015   \n",
              "2           2       327         60015            287                 80   \n",
              "3           3       271           443            386              60007   \n",
              "4           4       325         55310            299                443   \n",
              "\n",
              "    Protocol   Flow Duration   Total Fwd Packets   Total Backward Packets  \\\n",
              "0          6               1                   2                        0   \n",
              "1          6              47                   2                        0   \n",
              "2          6               1                   2                        0   \n",
              "3          6         8001234                   4                        0   \n",
              "4          6       112729696                  13                        6   \n",
              "\n",
              "   Total Length of Fwd Packets  ...  Active Mean   Active Std   Active Max  \\\n",
              "0                         12.0  ...          0.0     0.000000          0.0   \n",
              "1                         12.0  ...          0.0     0.000000          0.0   \n",
              "2                         12.0  ...          0.0     0.000000          0.0   \n",
              "3                          0.0  ...          1.0     0.000000          1.0   \n",
              "4                        368.0  ...      62213.0    82.024387      62271.0   \n",
              "\n",
              "    Active Min      Idle Std  SimillarHTTP   Inbound  Label  hour  minute  \n",
              "0          0.0  0.000000e+00             0         0      0    10       9  \n",
              "1          0.0  0.000000e+00             0         1      0    10       9  \n",
              "2          0.0  0.000000e+00             0         0      0    10       9  \n",
              "3          1.0  0.000000e+00             0         1      0    10       9  \n",
              "4      62155.0  3.535899e+06             0         0      0    10       9  \n",
              "\n",
              "[5 rows x 40 columns]"
            ],
            "text/html": [
              "\n",
              "  <div id=\"df-3e3408de-ba3d-4d08-94d2-90c4396aa00b\">\n",
              "    <div class=\"colab-df-container\">\n",
              "      <div>\n",
              "<style scoped>\n",
              "    .dataframe tbody tr th:only-of-type {\n",
              "        vertical-align: middle;\n",
              "    }\n",
              "\n",
              "    .dataframe tbody tr th {\n",
              "        vertical-align: top;\n",
              "    }\n",
              "\n",
              "    .dataframe thead th {\n",
              "        text-align: right;\n",
              "    }\n",
              "</style>\n",
              "<table border=\"1\" class=\"dataframe\">\n",
              "  <thead>\n",
              "    <tr style=\"text-align: right;\">\n",
              "      <th></th>\n",
              "      <th>Unnamed: 0</th>\n",
              "      <th>SourceIP</th>\n",
              "      <th>Source Port</th>\n",
              "      <th>DestinationIP</th>\n",
              "      <th>Destination Port</th>\n",
              "      <th>Protocol</th>\n",
              "      <th>Flow Duration</th>\n",
              "      <th>Total Fwd Packets</th>\n",
              "      <th>Total Backward Packets</th>\n",
              "      <th>Total Length of Fwd Packets</th>\n",
              "      <th>...</th>\n",
              "      <th>Active Mean</th>\n",
              "      <th>Active Std</th>\n",
              "      <th>Active Max</th>\n",
              "      <th>Active Min</th>\n",
              "      <th>Idle Std</th>\n",
              "      <th>SimillarHTTP</th>\n",
              "      <th>Inbound</th>\n",
              "      <th>Label</th>\n",
              "      <th>hour</th>\n",
              "      <th>minute</th>\n",
              "    </tr>\n",
              "  </thead>\n",
              "  <tbody>\n",
              "    <tr>\n",
              "      <th>0</th>\n",
              "      <td>0</td>\n",
              "      <td>327</td>\n",
              "      <td>60015</td>\n",
              "      <td>287</td>\n",
              "      <td>80</td>\n",
              "      <td>6</td>\n",
              "      <td>1</td>\n",
              "      <td>2</td>\n",
              "      <td>0</td>\n",
              "      <td>12.0</td>\n",
              "      <td>...</td>\n",
              "      <td>0.0</td>\n",
              "      <td>0.000000</td>\n",
              "      <td>0.0</td>\n",
              "      <td>0.0</td>\n",
              "      <td>0.000000e+00</td>\n",
              "      <td>0</td>\n",
              "      <td>0</td>\n",
              "      <td>0</td>\n",
              "      <td>10</td>\n",
              "      <td>9</td>\n",
              "    </tr>\n",
              "    <tr>\n",
              "      <th>1</th>\n",
              "      <td>1</td>\n",
              "      <td>243</td>\n",
              "      <td>80</td>\n",
              "      <td>386</td>\n",
              "      <td>60015</td>\n",
              "      <td>6</td>\n",
              "      <td>47</td>\n",
              "      <td>2</td>\n",
              "      <td>0</td>\n",
              "      <td>12.0</td>\n",
              "      <td>...</td>\n",
              "      <td>0.0</td>\n",
              "      <td>0.000000</td>\n",
              "      <td>0.0</td>\n",
              "      <td>0.0</td>\n",
              "      <td>0.000000e+00</td>\n",
              "      <td>0</td>\n",
              "      <td>1</td>\n",
              "      <td>0</td>\n",
              "      <td>10</td>\n",
              "      <td>9</td>\n",
              "    </tr>\n",
              "    <tr>\n",
              "      <th>2</th>\n",
              "      <td>2</td>\n",
              "      <td>327</td>\n",
              "      <td>60015</td>\n",
              "      <td>287</td>\n",
              "      <td>80</td>\n",
              "      <td>6</td>\n",
              "      <td>1</td>\n",
              "      <td>2</td>\n",
              "      <td>0</td>\n",
              "      <td>12.0</td>\n",
              "      <td>...</td>\n",
              "      <td>0.0</td>\n",
              "      <td>0.000000</td>\n",
              "      <td>0.0</td>\n",
              "      <td>0.0</td>\n",
              "      <td>0.000000e+00</td>\n",
              "      <td>0</td>\n",
              "      <td>0</td>\n",
              "      <td>0</td>\n",
              "      <td>10</td>\n",
              "      <td>9</td>\n",
              "    </tr>\n",
              "    <tr>\n",
              "      <th>3</th>\n",
              "      <td>3</td>\n",
              "      <td>271</td>\n",
              "      <td>443</td>\n",
              "      <td>386</td>\n",
              "      <td>60007</td>\n",
              "      <td>6</td>\n",
              "      <td>8001234</td>\n",
              "      <td>4</td>\n",
              "      <td>0</td>\n",
              "      <td>0.0</td>\n",
              "      <td>...</td>\n",
              "      <td>1.0</td>\n",
              "      <td>0.000000</td>\n",
              "      <td>1.0</td>\n",
              "      <td>1.0</td>\n",
              "      <td>0.000000e+00</td>\n",
              "      <td>0</td>\n",
              "      <td>1</td>\n",
              "      <td>0</td>\n",
              "      <td>10</td>\n",
              "      <td>9</td>\n",
              "    </tr>\n",
              "    <tr>\n",
              "      <th>4</th>\n",
              "      <td>4</td>\n",
              "      <td>325</td>\n",
              "      <td>55310</td>\n",
              "      <td>299</td>\n",
              "      <td>443</td>\n",
              "      <td>6</td>\n",
              "      <td>112729696</td>\n",
              "      <td>13</td>\n",
              "      <td>6</td>\n",
              "      <td>368.0</td>\n",
              "      <td>...</td>\n",
              "      <td>62213.0</td>\n",
              "      <td>82.024387</td>\n",
              "      <td>62271.0</td>\n",
              "      <td>62155.0</td>\n",
              "      <td>3.535899e+06</td>\n",
              "      <td>0</td>\n",
              "      <td>0</td>\n",
              "      <td>0</td>\n",
              "      <td>10</td>\n",
              "      <td>9</td>\n",
              "    </tr>\n",
              "  </tbody>\n",
              "</table>\n",
              "<p>5 rows × 40 columns</p>\n",
              "</div>\n",
              "      <button class=\"colab-df-convert\" onclick=\"convertToInteractive('df-3e3408de-ba3d-4d08-94d2-90c4396aa00b')\"\n",
              "              title=\"Convert this dataframe to an interactive table.\"\n",
              "              style=\"display:none;\">\n",
              "        \n",
              "  <svg xmlns=\"http://www.w3.org/2000/svg\" height=\"24px\"viewBox=\"0 0 24 24\"\n",
              "       width=\"24px\">\n",
              "    <path d=\"M0 0h24v24H0V0z\" fill=\"none\"/>\n",
              "    <path d=\"M18.56 5.44l.94 2.06.94-2.06 2.06-.94-2.06-.94-.94-2.06-.94 2.06-2.06.94zm-11 1L8.5 8.5l.94-2.06 2.06-.94-2.06-.94L8.5 2.5l-.94 2.06-2.06.94zm10 10l.94 2.06.94-2.06 2.06-.94-2.06-.94-.94-2.06-.94 2.06-2.06.94z\"/><path d=\"M17.41 7.96l-1.37-1.37c-.4-.4-.92-.59-1.43-.59-.52 0-1.04.2-1.43.59L10.3 9.45l-7.72 7.72c-.78.78-.78 2.05 0 2.83L4 21.41c.39.39.9.59 1.41.59.51 0 1.02-.2 1.41-.59l7.78-7.78 2.81-2.81c.8-.78.8-2.07 0-2.86zM5.41 20L4 18.59l7.72-7.72 1.47 1.35L5.41 20z\"/>\n",
              "  </svg>\n",
              "      </button>\n",
              "      \n",
              "  <style>\n",
              "    .colab-df-container {\n",
              "      display:flex;\n",
              "      flex-wrap:wrap;\n",
              "      gap: 12px;\n",
              "    }\n",
              "\n",
              "    .colab-df-convert {\n",
              "      background-color: #E8F0FE;\n",
              "      border: none;\n",
              "      border-radius: 50%;\n",
              "      cursor: pointer;\n",
              "      display: none;\n",
              "      fill: #1967D2;\n",
              "      height: 32px;\n",
              "      padding: 0 0 0 0;\n",
              "      width: 32px;\n",
              "    }\n",
              "\n",
              "    .colab-df-convert:hover {\n",
              "      background-color: #E2EBFA;\n",
              "      box-shadow: 0px 1px 2px rgba(60, 64, 67, 0.3), 0px 1px 3px 1px rgba(60, 64, 67, 0.15);\n",
              "      fill: #174EA6;\n",
              "    }\n",
              "\n",
              "    [theme=dark] .colab-df-convert {\n",
              "      background-color: #3B4455;\n",
              "      fill: #D2E3FC;\n",
              "    }\n",
              "\n",
              "    [theme=dark] .colab-df-convert:hover {\n",
              "      background-color: #434B5C;\n",
              "      box-shadow: 0px 1px 3px 1px rgba(0, 0, 0, 0.15);\n",
              "      filter: drop-shadow(0px 1px 2px rgba(0, 0, 0, 0.3));\n",
              "      fill: #FFFFFF;\n",
              "    }\n",
              "  </style>\n",
              "\n",
              "      <script>\n",
              "        const buttonEl =\n",
              "          document.querySelector('#df-3e3408de-ba3d-4d08-94d2-90c4396aa00b button.colab-df-convert');\n",
              "        buttonEl.style.display =\n",
              "          google.colab.kernel.accessAllowed ? 'block' : 'none';\n",
              "\n",
              "        async function convertToInteractive(key) {\n",
              "          const element = document.querySelector('#df-3e3408de-ba3d-4d08-94d2-90c4396aa00b');\n",
              "          const dataTable =\n",
              "            await google.colab.kernel.invokeFunction('convertToInteractive',\n",
              "                                                     [key], {});\n",
              "          if (!dataTable) return;\n",
              "\n",
              "          const docLinkHtml = 'Like what you see? Visit the ' +\n",
              "            '<a target=\"_blank\" href=https://colab.research.google.com/notebooks/data_table.ipynb>data table notebook</a>'\n",
              "            + ' to learn more about interactive tables.';\n",
              "          element.innerHTML = '';\n",
              "          dataTable['output_type'] = 'display_data';\n",
              "          await google.colab.output.renderOutput(dataTable, element);\n",
              "          const docLink = document.createElement('div');\n",
              "          docLink.innerHTML = docLinkHtml;\n",
              "          element.appendChild(docLink);\n",
              "        }\n",
              "      </script>\n",
              "    </div>\n",
              "  </div>\n",
              "  "
            ]
          },
          "metadata": {},
          "execution_count": 11
        }
      ]
    },
    {
      "cell_type": "markdown",
      "source": [
        "# Normalize data"
      ],
      "metadata": {
        "id": "pGJZkoGCpAOp"
      }
    },
    {
      "cell_type": "code",
      "source": [
        "from sklearn.model_selection import train_test_split\n",
        "from sklearn.preprocessing import Normalizer\n",
        "import numpy as np\n",
        "import pandas as pd\n",
        "np.random.seed(0)"
      ],
      "metadata": {
        "id": "7z4ybCSDlzhO"
      },
      "execution_count": null,
      "outputs": []
    },
    {
      "cell_type": "code",
      "source": [
        "# load dataset\n",
        "x = df\n",
        "y = df['Label']\n",
        "x = x.drop(['Label'], axis=1)\n",
        "\n",
        "# normalize the data\n",
        "normalized_df = (x-x.mean())/x.std()\n",
        "\n",
        "# remove unnamed\n",
        "normalized_df = normalized_df.drop(['Unnamed: 0'], axis=1)\n",
        "\n",
        "normalized_df.head()"
      ],
      "metadata": {
        "colab": {
          "base_uri": "https://localhost:8080/",
          "height": 352
        },
        "id": "ByfdKaJdmkt1",
        "outputId": "e663b441-b5c6-44e5-fe8e-907404076567"
      },
      "execution_count": null,
      "outputs": [
        {
          "output_type": "execute_result",
          "data": {
            "text/plain": [
              "   SourceIP   Source Port  DestinationIP   Destination Port   Protocol  \\\n",
              "0  7.676849      1.490565      -4.618451          -1.697407  -1.536752   \n",
              "1  1.336470     -0.995674       0.240154           1.434712  -1.536752   \n",
              "2  7.676849      1.490565      -4.618451          -1.697407  -1.536752   \n",
              "3  3.449929     -0.980616       0.240154           1.434294  -1.536752   \n",
              "4  7.525888      1.295391      -4.029529          -1.678437  -1.536752   \n",
              "\n",
              "    Flow Duration   Total Fwd Packets   Total Backward Packets  \\\n",
              "0       -0.358753           -0.034080                -0.024035   \n",
              "1       -0.358750           -0.034080                -0.024035   \n",
              "2       -0.358753           -0.034080                -0.024035   \n",
              "3        0.127630            0.010397                -0.024035   \n",
              "4        6.493914            0.210547                 0.119355   \n",
              "\n",
              "   Total Length of Fwd Packets   Fwd Packet Length Max  ...  \\\n",
              "0                    -0.505858               -0.972762  ...   \n",
              "1                    -0.505858               -0.972762  ...   \n",
              "2                    -0.505858               -0.972762  ...   \n",
              "3                    -0.515014               -0.995626  ...   \n",
              "4                    -0.234234               -0.820332  ...   \n",
              "\n",
              "    Init_Win_bytes_backward  Active Mean   Active Std   Active Max  \\\n",
              "0                 -0.038394    -0.109060    -0.132683    -0.133778   \n",
              "1                 -0.038394    -0.109060    -0.132683    -0.133778   \n",
              "2                 -0.038394    -0.109060    -0.132683    -0.133778   \n",
              "3                 -0.038394    -0.109056    -0.132683    -0.133776   \n",
              "4                  0.150681     0.155002    -0.132384    -0.014926   \n",
              "\n",
              "    Active Min   Idle Std  SimillarHTTP   Inbound      hour    minute  \n",
              "0    -0.025364  -0.295050     -0.021612 -8.506554 -0.663964 -0.741595  \n",
              "1    -0.025364  -0.295050     -0.021612  0.117556 -0.663964 -0.741595  \n",
              "2    -0.025364  -0.295050     -0.021612 -8.506554 -0.663964 -0.741595  \n",
              "3    -0.025358  -0.295050     -0.021612  0.117556 -0.663964 -0.741595  \n",
              "4     0.358294   1.444573     -0.021612 -8.506554 -0.663964 -0.741595  \n",
              "\n",
              "[5 rows x 38 columns]"
            ],
            "text/html": [
              "\n",
              "  <div id=\"df-9ba3f038-8a00-4074-ae89-209cdb2db5eb\">\n",
              "    <div class=\"colab-df-container\">\n",
              "      <div>\n",
              "<style scoped>\n",
              "    .dataframe tbody tr th:only-of-type {\n",
              "        vertical-align: middle;\n",
              "    }\n",
              "\n",
              "    .dataframe tbody tr th {\n",
              "        vertical-align: top;\n",
              "    }\n",
              "\n",
              "    .dataframe thead th {\n",
              "        text-align: right;\n",
              "    }\n",
              "</style>\n",
              "<table border=\"1\" class=\"dataframe\">\n",
              "  <thead>\n",
              "    <tr style=\"text-align: right;\">\n",
              "      <th></th>\n",
              "      <th>SourceIP</th>\n",
              "      <th>Source Port</th>\n",
              "      <th>DestinationIP</th>\n",
              "      <th>Destination Port</th>\n",
              "      <th>Protocol</th>\n",
              "      <th>Flow Duration</th>\n",
              "      <th>Total Fwd Packets</th>\n",
              "      <th>Total Backward Packets</th>\n",
              "      <th>Total Length of Fwd Packets</th>\n",
              "      <th>Fwd Packet Length Max</th>\n",
              "      <th>...</th>\n",
              "      <th>Init_Win_bytes_backward</th>\n",
              "      <th>Active Mean</th>\n",
              "      <th>Active Std</th>\n",
              "      <th>Active Max</th>\n",
              "      <th>Active Min</th>\n",
              "      <th>Idle Std</th>\n",
              "      <th>SimillarHTTP</th>\n",
              "      <th>Inbound</th>\n",
              "      <th>hour</th>\n",
              "      <th>minute</th>\n",
              "    </tr>\n",
              "  </thead>\n",
              "  <tbody>\n",
              "    <tr>\n",
              "      <th>0</th>\n",
              "      <td>7.676849</td>\n",
              "      <td>1.490565</td>\n",
              "      <td>-4.618451</td>\n",
              "      <td>-1.697407</td>\n",
              "      <td>-1.536752</td>\n",
              "      <td>-0.358753</td>\n",
              "      <td>-0.034080</td>\n",
              "      <td>-0.024035</td>\n",
              "      <td>-0.505858</td>\n",
              "      <td>-0.972762</td>\n",
              "      <td>...</td>\n",
              "      <td>-0.038394</td>\n",
              "      <td>-0.109060</td>\n",
              "      <td>-0.132683</td>\n",
              "      <td>-0.133778</td>\n",
              "      <td>-0.025364</td>\n",
              "      <td>-0.295050</td>\n",
              "      <td>-0.021612</td>\n",
              "      <td>-8.506554</td>\n",
              "      <td>-0.663964</td>\n",
              "      <td>-0.741595</td>\n",
              "    </tr>\n",
              "    <tr>\n",
              "      <th>1</th>\n",
              "      <td>1.336470</td>\n",
              "      <td>-0.995674</td>\n",
              "      <td>0.240154</td>\n",
              "      <td>1.434712</td>\n",
              "      <td>-1.536752</td>\n",
              "      <td>-0.358750</td>\n",
              "      <td>-0.034080</td>\n",
              "      <td>-0.024035</td>\n",
              "      <td>-0.505858</td>\n",
              "      <td>-0.972762</td>\n",
              "      <td>...</td>\n",
              "      <td>-0.038394</td>\n",
              "      <td>-0.109060</td>\n",
              "      <td>-0.132683</td>\n",
              "      <td>-0.133778</td>\n",
              "      <td>-0.025364</td>\n",
              "      <td>-0.295050</td>\n",
              "      <td>-0.021612</td>\n",
              "      <td>0.117556</td>\n",
              "      <td>-0.663964</td>\n",
              "      <td>-0.741595</td>\n",
              "    </tr>\n",
              "    <tr>\n",
              "      <th>2</th>\n",
              "      <td>7.676849</td>\n",
              "      <td>1.490565</td>\n",
              "      <td>-4.618451</td>\n",
              "      <td>-1.697407</td>\n",
              "      <td>-1.536752</td>\n",
              "      <td>-0.358753</td>\n",
              "      <td>-0.034080</td>\n",
              "      <td>-0.024035</td>\n",
              "      <td>-0.505858</td>\n",
              "      <td>-0.972762</td>\n",
              "      <td>...</td>\n",
              "      <td>-0.038394</td>\n",
              "      <td>-0.109060</td>\n",
              "      <td>-0.132683</td>\n",
              "      <td>-0.133778</td>\n",
              "      <td>-0.025364</td>\n",
              "      <td>-0.295050</td>\n",
              "      <td>-0.021612</td>\n",
              "      <td>-8.506554</td>\n",
              "      <td>-0.663964</td>\n",
              "      <td>-0.741595</td>\n",
              "    </tr>\n",
              "    <tr>\n",
              "      <th>3</th>\n",
              "      <td>3.449929</td>\n",
              "      <td>-0.980616</td>\n",
              "      <td>0.240154</td>\n",
              "      <td>1.434294</td>\n",
              "      <td>-1.536752</td>\n",
              "      <td>0.127630</td>\n",
              "      <td>0.010397</td>\n",
              "      <td>-0.024035</td>\n",
              "      <td>-0.515014</td>\n",
              "      <td>-0.995626</td>\n",
              "      <td>...</td>\n",
              "      <td>-0.038394</td>\n",
              "      <td>-0.109056</td>\n",
              "      <td>-0.132683</td>\n",
              "      <td>-0.133776</td>\n",
              "      <td>-0.025358</td>\n",
              "      <td>-0.295050</td>\n",
              "      <td>-0.021612</td>\n",
              "      <td>0.117556</td>\n",
              "      <td>-0.663964</td>\n",
              "      <td>-0.741595</td>\n",
              "    </tr>\n",
              "    <tr>\n",
              "      <th>4</th>\n",
              "      <td>7.525888</td>\n",
              "      <td>1.295391</td>\n",
              "      <td>-4.029529</td>\n",
              "      <td>-1.678437</td>\n",
              "      <td>-1.536752</td>\n",
              "      <td>6.493914</td>\n",
              "      <td>0.210547</td>\n",
              "      <td>0.119355</td>\n",
              "      <td>-0.234234</td>\n",
              "      <td>-0.820332</td>\n",
              "      <td>...</td>\n",
              "      <td>0.150681</td>\n",
              "      <td>0.155002</td>\n",
              "      <td>-0.132384</td>\n",
              "      <td>-0.014926</td>\n",
              "      <td>0.358294</td>\n",
              "      <td>1.444573</td>\n",
              "      <td>-0.021612</td>\n",
              "      <td>-8.506554</td>\n",
              "      <td>-0.663964</td>\n",
              "      <td>-0.741595</td>\n",
              "    </tr>\n",
              "  </tbody>\n",
              "</table>\n",
              "<p>5 rows × 38 columns</p>\n",
              "</div>\n",
              "      <button class=\"colab-df-convert\" onclick=\"convertToInteractive('df-9ba3f038-8a00-4074-ae89-209cdb2db5eb')\"\n",
              "              title=\"Convert this dataframe to an interactive table.\"\n",
              "              style=\"display:none;\">\n",
              "        \n",
              "  <svg xmlns=\"http://www.w3.org/2000/svg\" height=\"24px\"viewBox=\"0 0 24 24\"\n",
              "       width=\"24px\">\n",
              "    <path d=\"M0 0h24v24H0V0z\" fill=\"none\"/>\n",
              "    <path d=\"M18.56 5.44l.94 2.06.94-2.06 2.06-.94-2.06-.94-.94-2.06-.94 2.06-2.06.94zm-11 1L8.5 8.5l.94-2.06 2.06-.94-2.06-.94L8.5 2.5l-.94 2.06-2.06.94zm10 10l.94 2.06.94-2.06 2.06-.94-2.06-.94-.94-2.06-.94 2.06-2.06.94z\"/><path d=\"M17.41 7.96l-1.37-1.37c-.4-.4-.92-.59-1.43-.59-.52 0-1.04.2-1.43.59L10.3 9.45l-7.72 7.72c-.78.78-.78 2.05 0 2.83L4 21.41c.39.39.9.59 1.41.59.51 0 1.02-.2 1.41-.59l7.78-7.78 2.81-2.81c.8-.78.8-2.07 0-2.86zM5.41 20L4 18.59l7.72-7.72 1.47 1.35L5.41 20z\"/>\n",
              "  </svg>\n",
              "      </button>\n",
              "      \n",
              "  <style>\n",
              "    .colab-df-container {\n",
              "      display:flex;\n",
              "      flex-wrap:wrap;\n",
              "      gap: 12px;\n",
              "    }\n",
              "\n",
              "    .colab-df-convert {\n",
              "      background-color: #E8F0FE;\n",
              "      border: none;\n",
              "      border-radius: 50%;\n",
              "      cursor: pointer;\n",
              "      display: none;\n",
              "      fill: #1967D2;\n",
              "      height: 32px;\n",
              "      padding: 0 0 0 0;\n",
              "      width: 32px;\n",
              "    }\n",
              "\n",
              "    .colab-df-convert:hover {\n",
              "      background-color: #E2EBFA;\n",
              "      box-shadow: 0px 1px 2px rgba(60, 64, 67, 0.3), 0px 1px 3px 1px rgba(60, 64, 67, 0.15);\n",
              "      fill: #174EA6;\n",
              "    }\n",
              "\n",
              "    [theme=dark] .colab-df-convert {\n",
              "      background-color: #3B4455;\n",
              "      fill: #D2E3FC;\n",
              "    }\n",
              "\n",
              "    [theme=dark] .colab-df-convert:hover {\n",
              "      background-color: #434B5C;\n",
              "      box-shadow: 0px 1px 3px 1px rgba(0, 0, 0, 0.15);\n",
              "      filter: drop-shadow(0px 1px 2px rgba(0, 0, 0, 0.3));\n",
              "      fill: #FFFFFF;\n",
              "    }\n",
              "  </style>\n",
              "\n",
              "      <script>\n",
              "        const buttonEl =\n",
              "          document.querySelector('#df-9ba3f038-8a00-4074-ae89-209cdb2db5eb button.colab-df-convert');\n",
              "        buttonEl.style.display =\n",
              "          google.colab.kernel.accessAllowed ? 'block' : 'none';\n",
              "\n",
              "        async function convertToInteractive(key) {\n",
              "          const element = document.querySelector('#df-9ba3f038-8a00-4074-ae89-209cdb2db5eb');\n",
              "          const dataTable =\n",
              "            await google.colab.kernel.invokeFunction('convertToInteractive',\n",
              "                                                     [key], {});\n",
              "          if (!dataTable) return;\n",
              "\n",
              "          const docLinkHtml = 'Like what you see? Visit the ' +\n",
              "            '<a target=\"_blank\" href=https://colab.research.google.com/notebooks/data_table.ipynb>data table notebook</a>'\n",
              "            + ' to learn more about interactive tables.';\n",
              "          element.innerHTML = '';\n",
              "          dataTable['output_type'] = 'display_data';\n",
              "          await google.colab.output.renderOutput(dataTable, element);\n",
              "          const docLink = document.createElement('div');\n",
              "          docLink.innerHTML = docLinkHtml;\n",
              "          element.appendChild(docLink);\n",
              "        }\n",
              "      </script>\n",
              "    </div>\n",
              "  </div>\n",
              "  "
            ]
          },
          "metadata": {},
          "execution_count": 13
        }
      ]
    },
    {
      "cell_type": "code",
      "source": [
        "normalized_df.isnull().sum()"
      ],
      "metadata": {
        "colab": {
          "base_uri": "https://localhost:8080/"
        },
        "id": "A0jlz59trWAH",
        "outputId": "362788fc-fdb7-4e70-d709-fc546b591644"
      },
      "execution_count": null,
      "outputs": [
        {
          "output_type": "execute_result",
          "data": {
            "text/plain": [
              "SourceIP                       0\n",
              " Source Port                   0\n",
              "DestinationIP                  0\n",
              " Destination Port              0\n",
              " Protocol                      0\n",
              " Flow Duration                 0\n",
              " Total Fwd Packets             0\n",
              " Total Backward Packets        0\n",
              "Total Length of Fwd Packets    0\n",
              " Fwd Packet Length Max         0\n",
              " Fwd Packet Length Std         0\n",
              "Bwd Packet Length Max          0\n",
              " Bwd Packet Length Min         0\n",
              " Bwd Packet Length Mean        0\n",
              "Flow Bytes/s                   0\n",
              " Flow Packets/s                0\n",
              " Flow IAT Mean                 0\n",
              " Flow IAT Min                  0\n",
              "Bwd IAT Total                  0\n",
              " Bwd IAT Mean                  0\n",
              " Bwd IAT Min                   0\n",
              " Fwd Header Length             0\n",
              "Fwd Packets/s                  0\n",
              " Bwd Packets/s                 0\n",
              " Packet Length Std             0\n",
              " Packet Length Variance        0\n",
              " Down/Up Ratio                 0\n",
              "Init_Win_bytes_forward         0\n",
              " Init_Win_bytes_backward       0\n",
              "Active Mean                    0\n",
              " Active Std                    0\n",
              " Active Max                    0\n",
              " Active Min                    0\n",
              " Idle Std                      0\n",
              "SimillarHTTP                   0\n",
              " Inbound                       0\n",
              "hour                           0\n",
              "minute                         0\n",
              "dtype: int64"
            ]
          },
          "metadata": {},
          "execution_count": 14
        }
      ]
    },
    {
      "cell_type": "code",
      "source": [
        "y.head()"
      ],
      "metadata": {
        "colab": {
          "base_uri": "https://localhost:8080/"
        },
        "id": "F789TNW3mxwQ",
        "outputId": "8f27fc44-56b3-44de-90dd-23f5c3ffcaa1"
      },
      "execution_count": null,
      "outputs": [
        {
          "output_type": "execute_result",
          "data": {
            "text/plain": [
              "0    0\n",
              "1    0\n",
              "2    0\n",
              "3    0\n",
              "4    0\n",
              "Name: Label, dtype: int64"
            ]
          },
          "metadata": {},
          "execution_count": 15
        }
      ]
    },
    {
      "cell_type": "markdown",
      "source": [
        "# Split dataset to train and test"
      ],
      "metadata": {
        "id": "LdK3o3pU1ARt"
      }
    },
    {
      "cell_type": "code",
      "source": [
        "from sklearn.model_selection import train_test_split\n",
        "X_train, X_test, y_train, y_test = train_test_split(normalized_df, y, test_size=0.3, random_state=0, shuffle=True)\n",
        "y_train = np.array(y_train)\n",
        "\n",
        "print('xtrain={}, ytrain={}, xtest={}, ytest={}'.format(X_train.shape,y_train.shape,X_test.shape,y_test.shape))"
      ],
      "metadata": {
        "colab": {
          "base_uri": "https://localhost:8080/"
        },
        "id": "HrIBTnzbm22O",
        "outputId": "0b2b5378-de2d-43be-ab69-5511a7e745fa"
      },
      "execution_count": null,
      "outputs": [
        {
          "output_type": "stream",
          "name": "stdout",
          "text": [
            "xtrain=(407743, 38), ytrain=(407743,), xtest=(174748, 38), ytest=(174748,)\n"
          ]
        }
      ]
    },
    {
      "cell_type": "markdown",
      "source": [
        "# XG Boost modeling"
      ],
      "metadata": {
        "id": "3ltlh5kt1T5o"
      }
    },
    {
      "cell_type": "code",
      "source": [
        "!pip install xgboost"
      ],
      "metadata": {
        "colab": {
          "base_uri": "https://localhost:8080/"
        },
        "id": "WyfCM27nP01l",
        "outputId": "19d79f07-ada3-4e97-bb43-a7ecdf8d58ee"
      },
      "execution_count": null,
      "outputs": [
        {
          "output_type": "stream",
          "name": "stdout",
          "text": [
            "Requirement already satisfied: xgboost in /usr/local/lib/python3.7/dist-packages (0.90)\n",
            "Requirement already satisfied: scipy in /usr/local/lib/python3.7/dist-packages (from xgboost) (1.4.1)\n",
            "Requirement already satisfied: numpy in /usr/local/lib/python3.7/dist-packages (from xgboost) (1.21.6)\n"
          ]
        }
      ]
    },
    {
      "cell_type": "code",
      "source": [
        "from xgboost import XGBClassifier\n",
        "model = XGBClassifier()\n",
        "model.fit(X_train, y_train)"
      ],
      "metadata": {
        "colab": {
          "base_uri": "https://localhost:8080/"
        },
        "id": "dX0A9H5jpXef",
        "outputId": "3959d70d-4bf0-4fc9-b03d-c3aa7f391ca5"
      },
      "execution_count": null,
      "outputs": [
        {
          "output_type": "execute_result",
          "data": {
            "text/plain": [
              "XGBClassifier(objective='multi:softprob')"
            ]
          },
          "metadata": {},
          "execution_count": 18
        }
      ]
    },
    {
      "cell_type": "code",
      "source": [
        "y_pred = model.predict(X_test)"
      ],
      "metadata": {
        "id": "35IzZ7QZpdol"
      },
      "execution_count": null,
      "outputs": []
    },
    {
      "cell_type": "code",
      "source": [
        "from sklearn import metrics\n",
        "from sklearn.metrics import f1_score\n",
        "\n",
        "print('XG Boost')\n",
        "\n",
        "print('Accuracy = ', metrics.accuracy_score(y_test, y_pred)*100)\n",
        "# print(\"Confusion Matrix =\\n\", metrics.confusion_matrix(y_test, y_pred, labels=None, sample_weight=None))\n",
        "print(\"Recall =\", metrics.recall_score(y_test, y_pred, labels=None, pos_label=1, average='weighted', sample_weight=None))\n",
        "print(\"Classification Report =\\n\", metrics.classification_report(y_test, y_pred, \n",
        "                                                                 labels=None, \n",
        "                                                                 target_names=['BENIGN', 'NetBIOS', 'LDAP', 'MSSQL', 'Portmap', 'Syn', 'UDP', 'UDPLag'],\n",
        "                                                                 sample_weight=None, \n",
        "                                                                 digits=2, \n",
        "                                                                 output_dict=False))\n",
        "print(\"F1 Score = \",f1_score(y_test, y_pred, average='macro'))"
      ],
      "metadata": {
        "id": "F27CY_xKpdvo",
        "colab": {
          "base_uri": "https://localhost:8080/"
        },
        "outputId": "5959439b-f11f-42dd-cf30-d66cafe57792"
      },
      "execution_count": null,
      "outputs": [
        {
          "output_type": "stream",
          "name": "stdout",
          "text": [
            "XG Boost\n",
            "Accuracy =  95.16274864376129\n",
            "Recall = 0.951627486437613\n",
            "Classification Report =\n",
            "               precision    recall  f1-score   support\n",
            "\n",
            "      BENIGN       1.00      1.00      1.00      2381\n",
            "     NetBIOS       0.99      0.84      0.91     50205\n",
            "        LDAP       1.00      0.99      1.00      1029\n",
            "       MSSQL       1.00      1.00      1.00     33175\n",
            "     Portmap       0.73      0.99      0.84     22091\n",
            "         Syn       1.00      1.00      1.00     49539\n",
            "         UDP       1.00      1.00      1.00     16049\n",
            "      UDPLag       0.99      1.00      1.00       279\n",
            "\n",
            "    accuracy                           0.95    174748\n",
            "   macro avg       0.96      0.98      0.97    174748\n",
            "weighted avg       0.96      0.95      0.95    174748\n",
            "\n",
            "F1 Score =  0.9674588517940457\n"
          ]
        }
      ]
    },
    {
      "cell_type": "code",
      "source": [
        "# confusion matrix\n",
        "import seaborn as sn\n",
        "import pandas as pd\n",
        "import matplotlib.pyplot as plt\n",
        "\n",
        "\n",
        "plt.figure(figsize=(15,10))\n",
        "sn.set(font_scale=1.4) # for label size\n",
        "sn.heatmap(metrics.confusion_matrix(y_test, y_pred), annot=True, fmt = 'd') # font size\n",
        "\n",
        "plt.show()"
      ],
      "metadata": {
        "id": "oWMvNMnC95Jt",
        "colab": {
          "base_uri": "https://localhost:8080/",
          "height": 599
        },
        "outputId": "a0bbf609-55e4-4d10-8ad8-e6add55e57de"
      },
      "execution_count": null,
      "outputs": [
        {
          "output_type": "display_data",
          "data": {
            "text/plain": [
              "<Figure size 1080x720 with 2 Axes>"
            ],
            "image/png": "[encoded data removed]"
          },
          "metadata": {
            "needs_background": "light"
          }
        }
      ]
    },
    {
      "cell_type": "markdown",
      "source": [
        "# K nearest neighbor modeling"
      ],
      "metadata": {
        "id": "c78n_fIv1dDF"
      }
    },
    {
      "cell_type": "code",
      "source": [
        "from sklearn.neighbors import KNeighborsClassifier\n",
        "model = KNeighborsClassifier(n_neighbors=1)\n",
        "model.fit(X_train, y_train)"
      ],
      "metadata": {
        "id": "JxK7gMosKkGR",
        "colab": {
          "base_uri": "https://localhost:8080/"
        },
        "outputId": "66834786-eeef-4762-9870-19671ae8ea03"
      },
      "execution_count": null,
      "outputs": [
        {
          "output_type": "execute_result",
          "data": {
            "text/plain": [
              "KNeighborsClassifier(n_neighbors=1)"
            ]
          },
          "metadata": {},
          "execution_count": 22
        }
      ]
    },
    {
      "cell_type": "code",
      "source": [
        "y_pred = model.predict(X_test)"
      ],
      "metadata": {
        "id": "yO0Ry5D6KYUh"
      },
      "execution_count": null,
      "outputs": []
    },
    {
      "cell_type": "code",
      "source": [
        "from sklearn import metrics\n",
        "from sklearn.metrics import f1_score\n",
        "\n",
        "print('K Nearest Neighbour Classifier')\n",
        "\n",
        "print('Accuracy = ', metrics.accuracy_score(y_test, y_pred)*100)\n",
        "# print(\"Confusion Matrix =\\n\", metrics.confusion_matrix(y_test, y_pred, labels=None, sample_weight=None))\n",
        "print(\"Recall =\", metrics.recall_score(y_test, y_pred, labels=None, pos_label=1, average='weighted', sample_weight=None))\n",
        "print(\"Classification Report =\\n\", metrics.classification_report(y_test, y_pred, \n",
        "                                                                 labels=None, \n",
        "                                                                 target_names=['BENIGN', 'NetBIOS', 'LDAP', 'MSSQL', 'Portmap', 'Syn', 'UDP', 'UDPLag'],\n",
        "                                                                 sample_weight=None, \n",
        "                                                                 digits=2, \n",
        "                                                                 output_dict=False))\n",
        "print(\"F1 Score = \",f1_score(y_test, y_pred, average='macro'))"
      ],
      "metadata": {
        "id": "Qyrs-y_VKY9E",
        "colab": {
          "base_uri": "https://localhost:8080/"
        },
        "outputId": "c25284ed-be11-48e2-ebca-30e5eaaf2f44"
      },
      "execution_count": null,
      "outputs": [
        {
          "output_type": "stream",
          "name": "stdout",
          "text": [
            "K Nearest Neighbour Classifier\n",
            "Accuracy =  92.48632316249686\n",
            "Recall = 0.9248632316249685\n",
            "Classification Report =\n",
            "               precision    recall  f1-score   support\n",
            "\n",
            "      BENIGN       1.00      1.00      1.00      2381\n",
            "     NetBIOS       0.87      0.87      0.87     50205\n",
            "        LDAP       0.98      0.97      0.97      1029\n",
            "       MSSQL       1.00      1.00      1.00     33175\n",
            "     Portmap       0.70      0.72      0.71     22091\n",
            "         Syn       1.00      1.00      1.00     49539\n",
            "         UDP       1.00      1.00      1.00     16049\n",
            "      UDPLag       0.89      0.91      0.90       279\n",
            "\n",
            "    accuracy                           0.92    174748\n",
            "   macro avg       0.93      0.93      0.93    174748\n",
            "weighted avg       0.93      0.92      0.93    174748\n",
            "\n",
            "F1 Score =  0.9309747254834055\n"
          ]
        }
      ]
    },
    {
      "cell_type": "code",
      "source": [
        "import seaborn as sn\n",
        "import pandas as pd\n",
        "import matplotlib.pyplot as plt\n",
        "\n",
        "\n",
        "plt.figure(figsize=(15,10))\n",
        "sn.set(font_scale=1.4) # for label size\n",
        "sn.heatmap(metrics.confusion_matrix(y_test, y_pred), annot=True, fmt = 'd') # font size\n",
        "\n",
        "plt.show()"
      ],
      "metadata": {
        "id": "uL2EK-U7968P",
        "colab": {
          "base_uri": "https://localhost:8080/",
          "height": 599
        },
        "outputId": "d610433a-0640-4d52-b391-dd380138b624"
      },
      "execution_count": null,
      "outputs": [
        {
          "output_type": "display_data",
          "data": {
            "text/plain": [
              "<Figure size 1080x720 with 2 Axes>"
            ],
            "image/png": "[encoded data removed]"
          },
          "metadata": {}
        }
      ]
    }
  ]
}